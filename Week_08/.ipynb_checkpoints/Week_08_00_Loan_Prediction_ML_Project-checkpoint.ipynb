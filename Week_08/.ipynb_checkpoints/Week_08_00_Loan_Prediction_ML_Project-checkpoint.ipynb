{
 "cells": [
  {
   "cell_type": "markdown",
   "id": "7d3333b7",
   "metadata": {},
   "source": [
    "# Loan Prediction ML Project\n",
    "Weekly challenge: Week 08  \n",
    "Date: 9/12/2022"
   ]
  },
  {
   "cell_type": "markdown",
   "id": "8da1ba10",
   "metadata": {},
   "source": [
    "**Objective:** Solve binary classification problem using Python"
   ]
  },
  {
   "cell_type": "markdown",
   "id": "6bd9dc28",
   "metadata": {},
   "source": [
    "**Steps that I will follow:**  \n",
    "1. Problem statement  \n",
    "2. Hypothesis generation  \n",
    "3. Getting the system ready and loading the data  \n",
    "4. Understanding the data  \n",
    "5. Exploratory Data Analysis (EDA)  \n",
    "  * Univariate analysis\n",
    "  * Bivariate analysis\n",
    "6. Missing value and outlier treatment\n",
    "7. Evaluation Metrics for classification problems\n",
    "8. Model building: Part I\n",
    "9. Logistic Regression using stratified k-folds cross validation\n",
    "10. Feature Engineering  \n",
    "11. Model building: Part II  \n",
    "  * Logistic Regression  \n",
    "  * Decision Tree  \n",
    "  * Random Forest  \n",
    "  * XGBoost"
   ]
  },
  {
   "cell_type": "markdown",
   "id": "a1d47705",
   "metadata": {},
   "source": [
    "## 1. Problem statement  \n",
    "Dream Housing Finance company deals in all home loans. They have presence across all urban, semi urban and rural areas. Customer first apply for home loan after that company validates the customer eligibility for loan. Company wants to automate the loan eligibility process (real time) based on customer detail provided while filling online application form. These details are **Gender, Marital Status, Education, # of Dependents, Income, Loan Amount, Credit History** and others. To automate this process, they have given a problem to identify the customers segments, those are eligible for loan amount so that they can specifically target these customers."
   ]
  },
  {
   "cell_type": "markdown",
   "id": "cb54d7d2",
   "metadata": {},
   "source": [
    "This is a classification problem where we have to predict whether a loan would be approved or not. In a classification problem, we have to predict discrete values based on a given set of independent variables.  \n",
    "\n",
    "Classification can be of two types:  \n",
    "* Binary classification: Here we have to predict either of the two given classes. e.g. classifying the gender as male or female, predictiing the result as win or loss...\n",
    "* Multiclass classification: Here we have to classify the data into three or more classes. e.g. classifying a movies's genre as comedy, action or romantic, classify fruits as oranges, apples or pears..."
   ]
  },
  {
   "cell_type": "markdown",
   "id": "a1ff5da6",
   "metadata": {},
   "source": [
    "## 2. Hypothesis generation\n",
    "It is a process of listing out all the possible factors that can affect the outcome. Below are some of the factors that can affect the loan approval (independent variables for the loan prediction problem).  \n",
    "\n",
    "* Salary: Applicant with high income should have more chances of loan approval.\n",
    "* Previous history: Applicants who have repayed their previous debts should have higher chance of loan approval.  \n",
    "* Loan amount: If the loan amount is less, chances of loan approval should be high.  \n",
    "* Loan term: Loan for lesser duration should have a higher chance of loan approval.  \n",
    "* Monthly installment: Chances of loan approval should be higher if the amount to be paid monthly is lower.  \n",
    "\n",
    "I have listed above some factors that I think might affect the target variable."
   ]
  },
  {
   "cell_type": "markdown",
   "id": "12f2d0e9",
   "metadata": {},
   "source": [
    "## 3. Getting the system ready and loading the data"
   ]
  },
  {
   "cell_type": "markdown",
   "id": "964c5c3d",
   "metadata": {},
   "source": [
    "### Loading the packages"
   ]
  },
  {
   "cell_type": "code",
   "execution_count": 1,
   "id": "66ee50f9",
   "metadata": {},
   "outputs": [],
   "source": [
    "import pandas as pd\n",
    "import numpy as np\n",
    "import matplotlib.pyplot as plt\n",
    "import seaborn as sns\n",
    "import warnings\n",
    "warnings.filterwarnings('ignore')"
   ]
  },
  {
   "cell_type": "markdown",
   "id": "6d7175e4",
   "metadata": {},
   "source": [
    "### Data"
   ]
  },
  {
   "cell_type": "markdown",
   "id": "967dd41d",
   "metadata": {},
   "source": [
    "For this project, there are 2 files: train.csv, test.csv.\n",
    "* train.csv file will be used for training the model; the model will learn from this file. It contains all the independent variables as well as the target variable.\n",
    "* test.csv file contains all the independent variables, it does not contain the target variable. We will apply the model to predict the target variable for the test data."
   ]
  },
  {
   "cell_type": "markdown",
   "id": "cd2c0367",
   "metadata": {},
   "source": [
    "### Reading the data"
   ]
  },
  {
   "cell_type": "code",
   "execution_count": 2,
   "id": "4e1c16af",
   "metadata": {},
   "outputs": [],
   "source": [
    "train = pd.read_csv('train.csv')\n",
    "test = pd.read_csv('test.csv')"
   ]
  },
  {
   "cell_type": "code",
   "execution_count": 3,
   "id": "d2e1a52a",
   "metadata": {},
   "outputs": [],
   "source": [
    "# Making copies of train & test data so we can make changes to the datasets, if needed.\n",
    "train_original = train.copy()\n",
    "test_original = test.copy()"
   ]
  },
  {
   "cell_type": "markdown",
   "id": "1a2434cd",
   "metadata": {},
   "source": [
    "## 4. Understanding the data\n",
    "Here, we will look at the structure of train & test datasets. First, we will check the features present in the data and then will check their data types."
   ]
  },
  {
   "cell_type": "code",
   "execution_count": 4,
   "id": "7b901d57",
   "metadata": {},
   "outputs": [
    {
     "data": {
      "text/plain": [
       "Index(['Loan_ID', 'Gender', 'Married', 'Dependents', 'Education',\n",
       "       'Self_Employed', 'ApplicantIncome', 'CoapplicantIncome', 'LoanAmount',\n",
       "       'Loan_Amount_Term', 'Credit_History', 'Property_Area', 'Loan_Status'],\n",
       "      dtype='object')"
      ]
     },
     "execution_count": 4,
     "metadata": {},
     "output_type": "execute_result"
    }
   ],
   "source": [
    "# Checking columns of the test data\n",
    "train.columns"
   ]
  },
  {
   "cell_type": "markdown",
   "id": "d08f988e",
   "metadata": {},
   "source": [
    "There are 12 independent variables and 1 target variable in the train dataset."
   ]
  },
  {
   "cell_type": "code",
   "execution_count": 5,
   "id": "08efe73b",
   "metadata": {},
   "outputs": [
    {
     "data": {
      "text/plain": [
       "Index(['Loan_ID', 'Gender', 'Married', 'Dependents', 'Education',\n",
       "       'Self_Employed', 'ApplicantIncome', 'CoapplicantIncome', 'LoanAmount',\n",
       "       'Loan_Amount_Term', 'Credit_History', 'Property_Area'],\n",
       "      dtype='object')"
      ]
     },
     "execution_count": 5,
     "metadata": {},
     "output_type": "execute_result"
    }
   ],
   "source": [
    "# Checking columns of the test data\n",
    "test.columns"
   ]
  },
  {
   "cell_type": "markdown",
   "id": "38facdb7",
   "metadata": {},
   "source": [
    "There are 12 independent variables in the train dataset. 'Loan_Status' is missing which is our target variable. We will predict the 'Loan_Status' using our model that we will build using the train sataset."
   ]
  },
  {
   "cell_type": "markdown",
   "id": "af89f0d8",
   "metadata": {},
   "source": [
    "**Description of each variable**  \n",
    "* Loan_ID: Unique loan ID  \n",
    "* Gender: Male / Female  \n",
    "* Married: Applicant married (Yes / No)  \n",
    "* Dependents: # of dependents  \n",
    "* Education: Applicant's education (Graduate, Not graduate)   \n",
    "* Self_Employed: Applisant self employed? (Yes / No)  \n",
    "* ApplicantIncome: Income of the applicant  \n",
    "* CoapplicantIncome: Income of the co-applicant  \n",
    "* LoanAmount: Loan amount in thousands  \n",
    "* Loan_Amount_Term: Term / duration of loan in months  \n",
    "* Credit_History: Credit history meets guidelines (1 - Yes / 0 - No)  \n",
    "* Property_Area: Urban / Semi urban / Rural  \n",
    "* Loan_Status: Loan approved (Yes / No)"
   ]
  },
  {
   "cell_type": "markdown",
   "id": "727fc029",
   "metadata": {},
   "source": [
    "**Data type of each variable in the train dataset**"
   ]
  },
  {
   "cell_type": "code",
   "execution_count": 13,
   "id": "5b41c330",
   "metadata": {},
   "outputs": [
    {
     "data": {
      "text/plain": [
       "Loan_ID               object\n",
       "Gender                object\n",
       "Married               object\n",
       "Dependents            object\n",
       "Education             object\n",
       "Self_Employed         object\n",
       "ApplicantIncome        int64\n",
       "CoapplicantIncome    float64\n",
       "LoanAmount           float64\n",
       "Loan_Amount_Term     float64\n",
       "Credit_History       float64\n",
       "Property_Area         object\n",
       "Loan_Status           object\n",
       "dtype: object"
      ]
     },
     "execution_count": 13,
     "metadata": {},
     "output_type": "execute_result"
    }
   ],
   "source": [
    "train.dtypes"
   ]
  },
  {
   "cell_type": "markdown",
   "id": "a64ca52b",
   "metadata": {},
   "source": [
    "There are three formats of data types.  \n",
    "* Object: It represents variables that are text or categorical.  \n",
    "  -- *There are 8 variables: Loan_ID', 'Gender', 'Married', 'Dependents', 'Education', 'Self_Employed', 'Property_Area', 'Loan_Status'*  \n",
    "  -- Here, 'Loan_ID' is text variable and the remaining 7 are categorical variables.\n",
    "* int64: It represents variables that are integer.  \n",
    "  -- *There is 1 variable: 'ApplicantIncome'*  \n",
    "* float64: It represents variables with decimal values.  \n",
    "  -- *There are 4 variables: 'CoapplicantIncome', 'LoanAmount', 'Loan_Amount_Term', 'Credit_History'*  \n",
    "  -- Here, 'Credit_History' is float64 but it is a categorical variable with either credit history meets guidelines as 1 (Yes) or credit history does not meets guidelines as 0 (No). Due to this fact, we can convert it to the categorical variable."
   ]
  },
  {
   "cell_type": "markdown",
   "id": "d3cd0e96",
   "metadata": {},
   "source": [
    "**Shape of each dataset**"
   ]
  },
  {
   "cell_type": "code",
   "execution_count": 14,
   "id": "38732996",
   "metadata": {},
   "outputs": [
    {
     "data": {
      "text/plain": [
       "(614, 13)"
      ]
     },
     "execution_count": 14,
     "metadata": {},
     "output_type": "execute_result"
    }
   ],
   "source": [
    "train.shape"
   ]
  },
  {
   "cell_type": "code",
   "execution_count": 15,
   "id": "9ce4978f",
   "metadata": {},
   "outputs": [
    {
     "data": {
      "text/plain": [
       "(367, 12)"
      ]
     },
     "execution_count": 15,
     "metadata": {},
     "output_type": "execute_result"
    }
   ],
   "source": [
    "test.shape"
   ]
  },
  {
   "cell_type": "markdown",
   "id": "47605cd7",
   "metadata": {},
   "source": [
    "There are 614 rows and 13 columns in the train dataset.  \n",
    "There are 367 rows and 12 columns in the test dataset."
   ]
  },
  {
   "cell_type": "markdown",
   "id": "d9e746ef",
   "metadata": {},
   "source": [
    "## 5. Exploratory Data Analysis (EDA)"
   ]
  },
  {
   "cell_type": "markdown",
   "id": "d72e9eab",
   "metadata": {},
   "source": [
    "###   Univariate analysis\n",
    "* It is the simplest form of analyzing data where we examine each variable individually.  \n",
    "* For categorical features, we can use frequency table or bar plot which will calculate the number of values / rows in each category in a particular variable.  \n",
    "* For numerical features, we can use probability density plots to look at the distribution of the variables."
   ]
  },
  {
   "cell_type": "code",
   "execution_count": null,
   "id": "254b24dd",
   "metadata": {},
   "outputs": [],
   "source": [
    "convert 'Credit_History' to the categorical variable."
   ]
  },
  {
   "cell_type": "code",
   "execution_count": null,
   "id": "37a6c479",
   "metadata": {},
   "outputs": [],
   "source": []
  },
  {
   "cell_type": "code",
   "execution_count": null,
   "id": "a05faad4",
   "metadata": {},
   "outputs": [],
   "source": []
  },
  {
   "cell_type": "code",
   "execution_count": null,
   "id": "df66c630",
   "metadata": {},
   "outputs": [],
   "source": []
  },
  {
   "cell_type": "markdown",
   "id": "2870d378",
   "metadata": {},
   "source": [
    "### Bivariate analysis"
   ]
  },
  {
   "cell_type": "code",
   "execution_count": null,
   "id": "92cadeeb",
   "metadata": {},
   "outputs": [],
   "source": []
  },
  {
   "cell_type": "code",
   "execution_count": null,
   "id": "9bd35665",
   "metadata": {},
   "outputs": [],
   "source": []
  },
  {
   "cell_type": "code",
   "execution_count": null,
   "id": "f556e7d0",
   "metadata": {},
   "outputs": [],
   "source": []
  },
  {
   "cell_type": "code",
   "execution_count": null,
   "id": "633863ec",
   "metadata": {},
   "outputs": [],
   "source": []
  },
  {
   "cell_type": "code",
   "execution_count": null,
   "id": "4d3520c9",
   "metadata": {},
   "outputs": [],
   "source": [
    "\n",
    "6. Missing value and outlier treatment\n",
    "7. Evaluation Metrics for classification problems\n",
    "8. Model building: Part I\n",
    "9. Logistic Regression using stratified k-folds cross validation\n",
    "10. Feature Engineering  \n",
    "11. Model building: Part II  \n",
    "  * Logistic Regression  \n",
    "  * Decision Tree  \n",
    "  * Random Forest  \n",
    "  * XGBoost"
   ]
  },
  {
   "cell_type": "code",
   "execution_count": 10,
   "id": "c89d3d19",
   "metadata": {},
   "outputs": [
    {
     "data": {
      "text/plain": [
       "array(['Graduate', 'Not Graduate'], dtype=object)"
      ]
     },
     "execution_count": 10,
     "metadata": {},
     "output_type": "execute_result"
    }
   ],
   "source": [
    "train['Education'].unique()"
   ]
  },
  {
   "cell_type": "code",
   "execution_count": 9,
   "id": "4454f97d",
   "metadata": {},
   "outputs": [
    {
     "data": {
      "text/html": [
       "<div>\n",
       "<style scoped>\n",
       "    .dataframe tbody tr th:only-of-type {\n",
       "        vertical-align: middle;\n",
       "    }\n",
       "\n",
       "    .dataframe tbody tr th {\n",
       "        vertical-align: top;\n",
       "    }\n",
       "\n",
       "    .dataframe thead th {\n",
       "        text-align: right;\n",
       "    }\n",
       "</style>\n",
       "<table border=\"1\" class=\"dataframe\">\n",
       "  <thead>\n",
       "    <tr style=\"text-align: right;\">\n",
       "      <th></th>\n",
       "      <th>Loan_ID</th>\n",
       "      <th>Gender</th>\n",
       "      <th>Married</th>\n",
       "      <th>Dependents</th>\n",
       "      <th>Education</th>\n",
       "      <th>Self_Employed</th>\n",
       "      <th>ApplicantIncome</th>\n",
       "      <th>CoapplicantIncome</th>\n",
       "      <th>LoanAmount</th>\n",
       "      <th>Loan_Amount_Term</th>\n",
       "      <th>Credit_History</th>\n",
       "      <th>Property_Area</th>\n",
       "      <th>Loan_Status</th>\n",
       "    </tr>\n",
       "  </thead>\n",
       "  <tbody>\n",
       "    <tr>\n",
       "      <th>0</th>\n",
       "      <td>LP001002</td>\n",
       "      <td>Male</td>\n",
       "      <td>No</td>\n",
       "      <td>0</td>\n",
       "      <td>Graduate</td>\n",
       "      <td>No</td>\n",
       "      <td>5849</td>\n",
       "      <td>0.0</td>\n",
       "      <td>NaN</td>\n",
       "      <td>360.0</td>\n",
       "      <td>1.0</td>\n",
       "      <td>Urban</td>\n",
       "      <td>Y</td>\n",
       "    </tr>\n",
       "    <tr>\n",
       "      <th>1</th>\n",
       "      <td>LP001003</td>\n",
       "      <td>Male</td>\n",
       "      <td>Yes</td>\n",
       "      <td>1</td>\n",
       "      <td>Graduate</td>\n",
       "      <td>No</td>\n",
       "      <td>4583</td>\n",
       "      <td>1508.0</td>\n",
       "      <td>128.0</td>\n",
       "      <td>360.0</td>\n",
       "      <td>1.0</td>\n",
       "      <td>Rural</td>\n",
       "      <td>N</td>\n",
       "    </tr>\n",
       "    <tr>\n",
       "      <th>2</th>\n",
       "      <td>LP001005</td>\n",
       "      <td>Male</td>\n",
       "      <td>Yes</td>\n",
       "      <td>0</td>\n",
       "      <td>Graduate</td>\n",
       "      <td>Yes</td>\n",
       "      <td>3000</td>\n",
       "      <td>0.0</td>\n",
       "      <td>66.0</td>\n",
       "      <td>360.0</td>\n",
       "      <td>1.0</td>\n",
       "      <td>Urban</td>\n",
       "      <td>Y</td>\n",
       "    </tr>\n",
       "    <tr>\n",
       "      <th>3</th>\n",
       "      <td>LP001006</td>\n",
       "      <td>Male</td>\n",
       "      <td>Yes</td>\n",
       "      <td>0</td>\n",
       "      <td>Not Graduate</td>\n",
       "      <td>No</td>\n",
       "      <td>2583</td>\n",
       "      <td>2358.0</td>\n",
       "      <td>120.0</td>\n",
       "      <td>360.0</td>\n",
       "      <td>1.0</td>\n",
       "      <td>Urban</td>\n",
       "      <td>Y</td>\n",
       "    </tr>\n",
       "    <tr>\n",
       "      <th>4</th>\n",
       "      <td>LP001008</td>\n",
       "      <td>Male</td>\n",
       "      <td>No</td>\n",
       "      <td>0</td>\n",
       "      <td>Graduate</td>\n",
       "      <td>No</td>\n",
       "      <td>6000</td>\n",
       "      <td>0.0</td>\n",
       "      <td>141.0</td>\n",
       "      <td>360.0</td>\n",
       "      <td>1.0</td>\n",
       "      <td>Urban</td>\n",
       "      <td>Y</td>\n",
       "    </tr>\n",
       "    <tr>\n",
       "      <th>...</th>\n",
       "      <td>...</td>\n",
       "      <td>...</td>\n",
       "      <td>...</td>\n",
       "      <td>...</td>\n",
       "      <td>...</td>\n",
       "      <td>...</td>\n",
       "      <td>...</td>\n",
       "      <td>...</td>\n",
       "      <td>...</td>\n",
       "      <td>...</td>\n",
       "      <td>...</td>\n",
       "      <td>...</td>\n",
       "      <td>...</td>\n",
       "    </tr>\n",
       "    <tr>\n",
       "      <th>609</th>\n",
       "      <td>LP002978</td>\n",
       "      <td>Female</td>\n",
       "      <td>No</td>\n",
       "      <td>0</td>\n",
       "      <td>Graduate</td>\n",
       "      <td>No</td>\n",
       "      <td>2900</td>\n",
       "      <td>0.0</td>\n",
       "      <td>71.0</td>\n",
       "      <td>360.0</td>\n",
       "      <td>1.0</td>\n",
       "      <td>Rural</td>\n",
       "      <td>Y</td>\n",
       "    </tr>\n",
       "    <tr>\n",
       "      <th>610</th>\n",
       "      <td>LP002979</td>\n",
       "      <td>Male</td>\n",
       "      <td>Yes</td>\n",
       "      <td>3+</td>\n",
       "      <td>Graduate</td>\n",
       "      <td>No</td>\n",
       "      <td>4106</td>\n",
       "      <td>0.0</td>\n",
       "      <td>40.0</td>\n",
       "      <td>180.0</td>\n",
       "      <td>1.0</td>\n",
       "      <td>Rural</td>\n",
       "      <td>Y</td>\n",
       "    </tr>\n",
       "    <tr>\n",
       "      <th>611</th>\n",
       "      <td>LP002983</td>\n",
       "      <td>Male</td>\n",
       "      <td>Yes</td>\n",
       "      <td>1</td>\n",
       "      <td>Graduate</td>\n",
       "      <td>No</td>\n",
       "      <td>8072</td>\n",
       "      <td>240.0</td>\n",
       "      <td>253.0</td>\n",
       "      <td>360.0</td>\n",
       "      <td>1.0</td>\n",
       "      <td>Urban</td>\n",
       "      <td>Y</td>\n",
       "    </tr>\n",
       "    <tr>\n",
       "      <th>612</th>\n",
       "      <td>LP002984</td>\n",
       "      <td>Male</td>\n",
       "      <td>Yes</td>\n",
       "      <td>2</td>\n",
       "      <td>Graduate</td>\n",
       "      <td>No</td>\n",
       "      <td>7583</td>\n",
       "      <td>0.0</td>\n",
       "      <td>187.0</td>\n",
       "      <td>360.0</td>\n",
       "      <td>1.0</td>\n",
       "      <td>Urban</td>\n",
       "      <td>Y</td>\n",
       "    </tr>\n",
       "    <tr>\n",
       "      <th>613</th>\n",
       "      <td>LP002990</td>\n",
       "      <td>Female</td>\n",
       "      <td>No</td>\n",
       "      <td>0</td>\n",
       "      <td>Graduate</td>\n",
       "      <td>Yes</td>\n",
       "      <td>4583</td>\n",
       "      <td>0.0</td>\n",
       "      <td>133.0</td>\n",
       "      <td>360.0</td>\n",
       "      <td>0.0</td>\n",
       "      <td>Semiurban</td>\n",
       "      <td>N</td>\n",
       "    </tr>\n",
       "  </tbody>\n",
       "</table>\n",
       "<p>614 rows × 13 columns</p>\n",
       "</div>"
      ],
      "text/plain": [
       "      Loan_ID  Gender Married Dependents     Education Self_Employed  \\\n",
       "0    LP001002    Male      No          0      Graduate            No   \n",
       "1    LP001003    Male     Yes          1      Graduate            No   \n",
       "2    LP001005    Male     Yes          0      Graduate           Yes   \n",
       "3    LP001006    Male     Yes          0  Not Graduate            No   \n",
       "4    LP001008    Male      No          0      Graduate            No   \n",
       "..        ...     ...     ...        ...           ...           ...   \n",
       "609  LP002978  Female      No          0      Graduate            No   \n",
       "610  LP002979    Male     Yes         3+      Graduate            No   \n",
       "611  LP002983    Male     Yes          1      Graduate            No   \n",
       "612  LP002984    Male     Yes          2      Graduate            No   \n",
       "613  LP002990  Female      No          0      Graduate           Yes   \n",
       "\n",
       "     ApplicantIncome  CoapplicantIncome  LoanAmount  Loan_Amount_Term  \\\n",
       "0               5849                0.0         NaN             360.0   \n",
       "1               4583             1508.0       128.0             360.0   \n",
       "2               3000                0.0        66.0             360.0   \n",
       "3               2583             2358.0       120.0             360.0   \n",
       "4               6000                0.0       141.0             360.0   \n",
       "..               ...                ...         ...               ...   \n",
       "609             2900                0.0        71.0             360.0   \n",
       "610             4106                0.0        40.0             180.0   \n",
       "611             8072              240.0       253.0             360.0   \n",
       "612             7583                0.0       187.0             360.0   \n",
       "613             4583                0.0       133.0             360.0   \n",
       "\n",
       "     Credit_History Property_Area Loan_Status  \n",
       "0               1.0         Urban           Y  \n",
       "1               1.0         Rural           N  \n",
       "2               1.0         Urban           Y  \n",
       "3               1.0         Urban           Y  \n",
       "4               1.0         Urban           Y  \n",
       "..              ...           ...         ...  \n",
       "609             1.0         Rural           Y  \n",
       "610             1.0         Rural           Y  \n",
       "611             1.0         Urban           Y  \n",
       "612             1.0         Urban           Y  \n",
       "613             0.0     Semiurban           N  \n",
       "\n",
       "[614 rows x 13 columns]"
      ]
     },
     "execution_count": 9,
     "metadata": {},
     "output_type": "execute_result"
    }
   ],
   "source": [
    "train"
   ]
  }
 ],
 "metadata": {
  "kernelspec": {
   "display_name": "Python 3 (ipykernel)",
   "language": "python",
   "name": "python3"
  },
  "language_info": {
   "codemirror_mode": {
    "name": "ipython",
    "version": 3
   },
   "file_extension": ".py",
   "mimetype": "text/x-python",
   "name": "python",
   "nbconvert_exporter": "python",
   "pygments_lexer": "ipython3",
   "version": "3.9.7"
  }
 },
 "nbformat": 4,
 "nbformat_minor": 5
}
