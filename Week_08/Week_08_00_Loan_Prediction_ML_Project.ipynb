{
 "cells": [
  {
   "cell_type": "markdown",
   "id": "7964a8f1",
   "metadata": {},
   "source": [
    "# Loan Prediction ML Project\n",
    "Weekly challenge: Week 08  \n",
    "Date: 9/12/2022"
   ]
  },
  {
   "cell_type": "markdown",
   "id": "ed2f5f1e",
   "metadata": {},
   "source": [
    "**Objective:** Solve binary classification problem using Python"
   ]
  },
  {
   "cell_type": "markdown",
   "id": "3ba6f06f",
   "metadata": {},
   "source": [
    "**Steps that I will follow:**  \n",
    "1. Problem statement  \n",
    "2. Hypothesis generation  \n",
    "3. Getting the system ready and loading the data  \n",
    "4. Understanding the data  \n",
    "5. Exploratory Data Analysis (EDA)  \n",
    "  * Univariate analysis\n",
    "  * Bivariate analysis\n",
    "6. Missing value and outlier treatment\n",
    "7. Evaluation Metrics for classification problems\n",
    "8. Model building: Part I\n",
    "9. Logistic Regression using stratified k-folds cross validation\n",
    "10. Feature Engineering  \n",
    "11. Model building: Part II  \n",
    "  * Logistic Regression  \n",
    "  * Decision Tree  \n",
    "  * Random Forest  \n",
    "  * XGBoost"
   ]
  },
  {
   "cell_type": "markdown",
   "id": "51e26f5c",
   "metadata": {},
   "source": [
    "## 1. Problem statement  \n",
    "Dream Housing Finance company deals in all home loans. They have presence across all urban, semi urban and rural areas. Customer first apply for home loan after that company validates the customer eligibility for loan. Company wants to automate the loan eligibility process (real time) based on customer detail provided while filling online application form. These details are **Gender, Marital Status, Education, # of Dependents, Income, Loan Amount, Credit History** and others. To automate this process, they have given a problem to identify the customers segments, those are eligible for loan amount so that they can specifically target these customers."
   ]
  },
  {
   "cell_type": "markdown",
   "id": "5471b7f8",
   "metadata": {},
   "source": [
    "This is a classification problem where we have to predict whether a loan would be approved or not. In a classification problem, we have to predict discrete values based on a given set of independent variables.  \n",
    "\n",
    "Classification can be of two types:  \n",
    "* Binary classification: Here we have to predict either of the two given classes. e.g. classifying the gender as male or female, predictiing the result as win or loss...\n",
    "* Multiclass classification: Here we have to classify the data into three or more classes. e.g. classifying a movies's genre as comedy, action or romantic, classify fruits as oranges, apples or pears..."
   ]
  },
  {
   "cell_type": "markdown",
   "id": "9276371c",
   "metadata": {},
   "source": [
    "## 2. Hypothesis generation\n",
    "It is a process of listing out all the possible factors that can affect the outcome. Below are some of the factors that can affect the loan approval (independent variables for the loan prediction problem).  \n",
    "\n",
    "* Salary: Applicant with high income should have more chances of loan approval.\n",
    "* Previous history: Applicants who have repayed their previous debts should have higher chance of loan approval.  \n",
    "* Loan amount: If the loan amount is less, chances of loan approval should be high.  \n",
    "* Loan term: Loan for lesser duration should have a higher chance of loan approval.  \n",
    "* Monthly installment: Chances of loan approval should be higher if the amount to be paid monthly is lower.  \n",
    "\n",
    "I have listed above some factors that I think might affect the target variable."
   ]
  },
  {
   "cell_type": "markdown",
   "id": "47d2e17a",
   "metadata": {},
   "source": [
    "## 3. Getting the system ready and loading the data"
   ]
  },
  {
   "cell_type": "markdown",
   "id": "7742dabd",
   "metadata": {},
   "source": [
    "### Loading the packages"
   ]
  },
  {
   "cell_type": "code",
   "execution_count": 2,
   "id": "6f19ef6a",
   "metadata": {},
   "outputs": [],
   "source": [
    "import pandas as pd\n",
    "import numpy as np\n",
    "import matplotlib.pyplot as plt\n",
    "import seaborn as sns\n",
    "import warnings\n",
    "warnings.filterwarnings('ignore')"
   ]
  },
  {
   "cell_type": "markdown",
   "id": "6d72ca6f",
   "metadata": {},
   "source": [
    "### Data"
   ]
  },
  {
   "cell_type": "markdown",
   "id": "0205d20d",
   "metadata": {},
   "source": [
    "For this project, there are 2 files: train.csv, test.csv.\n",
    "* train.csv file will be used for training the model; the model will learn from this file. It contains all the independent variables as well as the target variable.\n",
    "* test.csv file contains all the independent variables, it does not contain the target variable. We will apply the model to predict the target variable for the test data."
   ]
  },
  {
   "cell_type": "markdown",
   "id": "a1457512",
   "metadata": {},
   "source": [
    "### Reading the data"
   ]
  },
  {
   "cell_type": "code",
   "execution_count": 3,
   "id": "6cf87c2b",
   "metadata": {},
   "outputs": [],
   "source": [
    "train = pd.read_csv('train.csv')\n",
    "test = pd.read_csv('test.csv')"
   ]
  },
  {
   "cell_type": "code",
   "execution_count": 4,
   "id": "434b8cb8",
   "metadata": {},
   "outputs": [],
   "source": [
    "# Making copies of train & test data so we can make changes to the datasets, if needed.\n",
    "train_original = train.copy()\n",
    "test_original = test.copy()"
   ]
  },
  {
   "cell_type": "markdown",
   "id": "57e0bd80",
   "metadata": {},
   "source": [
    "## 4. Understanding the data\n",
    "Here, we will look at the structure of train & test datasets. First, we will check the features present in the data and then will check their data types."
   ]
  },
  {
   "cell_type": "code",
   "execution_count": 5,
   "id": "41edb420",
   "metadata": {},
   "outputs": [
    {
     "data": {
      "text/plain": [
       "Index(['Loan_ID', 'Gender', 'Married', 'Dependents', 'Education',\n",
       "       'Self_Employed', 'ApplicantIncome', 'CoapplicantIncome', 'LoanAmount',\n",
       "       'Loan_Amount_Term', 'Credit_History', 'Property_Area', 'Loan_Status'],\n",
       "      dtype='object')"
      ]
     },
     "execution_count": 5,
     "metadata": {},
     "output_type": "execute_result"
    }
   ],
   "source": [
    "# Checking columns of the test data\n",
    "train.columns"
   ]
  },
  {
   "cell_type": "markdown",
   "id": "abab478b",
   "metadata": {},
   "source": [
    "There are 12 independent variables and 1 target variable in the train dataset."
   ]
  },
  {
   "cell_type": "code",
   "execution_count": 6,
   "id": "b1f4c506",
   "metadata": {},
   "outputs": [
    {
     "data": {
      "text/plain": [
       "Index(['Loan_ID', 'Gender', 'Married', 'Dependents', 'Education',\n",
       "       'Self_Employed', 'ApplicantIncome', 'CoapplicantIncome', 'LoanAmount',\n",
       "       'Loan_Amount_Term', 'Credit_History', 'Property_Area'],\n",
       "      dtype='object')"
      ]
     },
     "execution_count": 6,
     "metadata": {},
     "output_type": "execute_result"
    }
   ],
   "source": [
    "# Checking columns of the test data\n",
    "test.columns"
   ]
  },
  {
   "cell_type": "markdown",
   "id": "c5034c6a",
   "metadata": {},
   "source": [
    "There are 12 independent variables in the train dataset. 'Loan_Status' is missing which is our target variable. We will predict the 'Loan_Status' using our model that we will build using the train sataset."
   ]
  },
  {
   "cell_type": "markdown",
   "id": "47072069",
   "metadata": {},
   "source": [
    "**Description of each variable**  \n",
    "* Loan_ID: Unique loan ID  \n",
    "* Gender: Male / Female  \n",
    "* Married: Applicant married (Yes / No)  \n",
    "* Dependents: # of dependents  \n",
    "* Education: Applicant's education (Graduate, Not graduate)   \n",
    "* Self_Employed: Applisant self employed? (Yes / No)  \n",
    "* ApplicantIncome: Income of the applicant  \n",
    "* CoapplicantIncome: Income of the co-applicant  \n",
    "* LoanAmount: Loan amount in thousands  \n",
    "* Loan_Amount_Term: Term / duration of loan in months  \n",
    "* Credit_History: Credit history meets guidelines (1 - Yes / 0 - No)  \n",
    "* Property_Area: Urban / Semi urban / Rural  \n",
    "* Loan_Status: Loan approved (Yes / No)"
   ]
  },
  {
   "cell_type": "markdown",
   "id": "fe381fa6",
   "metadata": {},
   "source": [
    "**Data type of each variable in the train dataset**"
   ]
  },
  {
   "cell_type": "code",
   "execution_count": 7,
   "id": "d795c9cd",
   "metadata": {},
   "outputs": [
    {
     "data": {
      "text/plain": [
       "Loan_ID               object\n",
       "Gender                object\n",
       "Married               object\n",
       "Dependents            object\n",
       "Education             object\n",
       "Self_Employed         object\n",
       "ApplicantIncome        int64\n",
       "CoapplicantIncome    float64\n",
       "LoanAmount           float64\n",
       "Loan_Amount_Term     float64\n",
       "Credit_History       float64\n",
       "Property_Area         object\n",
       "Loan_Status           object\n",
       "dtype: object"
      ]
     },
     "execution_count": 7,
     "metadata": {},
     "output_type": "execute_result"
    }
   ],
   "source": [
    "train.dtypes"
   ]
  },
  {
   "cell_type": "markdown",
   "id": "0da233fb",
   "metadata": {},
   "source": [
    "There are three formats of data types.  \n",
    "* Object: It represents variables that are text or categorical.  \n",
    "  -- *There are 8 variables: Loan_ID', 'Gender', 'Married', 'Dependents', 'Education', 'Self_Employed', 'Property_Area', 'Loan_Status'*  \n",
    "  -- Here, 'Loan_ID' is text variable and the remaining 7 are categorical variables. I will convert these 7 variables to categorical variables.  \n",
    "  -- 'Loan_ID' won't be of much use in my analysis so I won't be using it.\n",
    "* int64: It represents variables that are integer.  \n",
    "  -- *There is 1 variable: 'ApplicantIncome'*  \n",
    "* float64: It represents variables with decimal values.  \n",
    "  -- *There are 4 variables: 'CoapplicantIncome', 'LoanAmount', 'Loan_Amount_Term', 'Credit_History'*  \n",
    "  -- Here, 'Credit_History' is float64 but it is a categorical variable with either credit history meets guidelines as 1 (Yes) or credit history does not meets guidelines as 0 (No). Due to this fact, we can convert it to the categorical variable."
   ]
  },
  {
   "cell_type": "markdown",
   "id": "0a03276a",
   "metadata": {},
   "source": [
    "**Converting the data types**"
   ]
  },
  {
   "cell_type": "code",
   "execution_count": 10,
   "id": "fd0edad3",
   "metadata": {},
   "outputs": [
    {
     "data": {
      "text/plain": [
       "Loan_ID                object\n",
       "Gender               category\n",
       "Married              category\n",
       "Dependents           category\n",
       "Education            category\n",
       "Self_Employed        category\n",
       "ApplicantIncome         int64\n",
       "CoapplicantIncome     float64\n",
       "LoanAmount            float64\n",
       "Loan_Amount_Term      float64\n",
       "Credit_History       category\n",
       "Property_Area        category\n",
       "Loan_Status          category\n",
       "dtype: object"
      ]
     },
     "execution_count": 10,
     "metadata": {},
     "output_type": "execute_result"
    }
   ],
   "source": [
    "train_types = {'Gender':'category', 'Married':'category', 'Dependents':'category',\n",
    "               'Education':'category', 'Self_Employed':'category', 'Credit_History':'category',\n",
    "               'Property_Area':'category', 'Loan_Status':'category'}\n",
    "train = train.astype(train_types)\n",
    "train.dtypes"
   ]
  },
  {
   "cell_type": "code",
   "execution_count": 11,
   "id": "fd91a060",
   "metadata": {},
   "outputs": [
    {
     "data": {
      "text/plain": [
       "Loan_ID                object\n",
       "Gender               category\n",
       "Married              category\n",
       "Dependents           category\n",
       "Education            category\n",
       "Self_Employed        category\n",
       "ApplicantIncome         int64\n",
       "CoapplicantIncome       int64\n",
       "LoanAmount            float64\n",
       "Loan_Amount_Term      float64\n",
       "Credit_History       category\n",
       "Property_Area        category\n",
       "dtype: object"
      ]
     },
     "execution_count": 11,
     "metadata": {},
     "output_type": "execute_result"
    }
   ],
   "source": [
    "test_types = {'Gender':'category', 'Married':'category', 'Dependents':'category',\n",
    "               'Education':'category', 'Self_Employed':'category', 'Credit_History':'category',\n",
    "               'Property_Area':'category'}\n",
    "test = test.astype(test_types)\n",
    "test.dtypes"
   ]
  },
  {
   "cell_type": "markdown",
   "id": "8ad6476b",
   "metadata": {},
   "source": [
    "**Shape of each dataset**"
   ]
  },
  {
   "cell_type": "code",
   "execution_count": 12,
   "id": "ee00f4c2",
   "metadata": {},
   "outputs": [
    {
     "data": {
      "text/plain": [
       "(614, 13)"
      ]
     },
     "execution_count": 12,
     "metadata": {},
     "output_type": "execute_result"
    }
   ],
   "source": [
    "train.shape"
   ]
  },
  {
   "cell_type": "code",
   "execution_count": 13,
   "id": "8da621b0",
   "metadata": {},
   "outputs": [
    {
     "data": {
      "text/plain": [
       "(367, 12)"
      ]
     },
     "execution_count": 13,
     "metadata": {},
     "output_type": "execute_result"
    }
   ],
   "source": [
    "test.shape"
   ]
  },
  {
   "cell_type": "markdown",
   "id": "4fce5151",
   "metadata": {},
   "source": [
    "-- There are 614 rows and 13 columns in the train dataset.  \n",
    "-- There are 367 rows and 12 columns in the test dataset."
   ]
  },
  {
   "cell_type": "markdown",
   "id": "8483439b",
   "metadata": {},
   "source": [
    "## 5. Exploratory Data Analysis (EDA)"
   ]
  },
  {
   "cell_type": "markdown",
   "id": "20b0c627",
   "metadata": {},
   "source": [
    "###   Univariate analysis\n",
    "* It is the simplest form of analyzing data where we examine each variable individually.  \n",
    "* For categorical features, we can use frequency table or bar plot which will calculate the number of values / rows in each category in a particular variable.  \n",
    "* For numerical features, we can use probability density plots to look at the distribution of the variables."
   ]
  },
  {
   "cell_type": "markdown",
   "id": "5fbfa6c0",
   "metadata": {},
   "source": [
    "**Target variable**  \n",
    "We will first looks at the 'Loan_Status', our Taregt variable. It is a categorical variable so we will look at its frequency table, % distribution and bar plot."
   ]
  },
  {
   "cell_type": "code",
   "execution_count": 14,
   "id": "82422d4c",
   "metadata": {},
   "outputs": [
    {
     "data": {
      "text/plain": [
       "Y    422\n",
       "N    192\n",
       "Name: Loan_Status, dtype: int64"
      ]
     },
     "execution_count": 14,
     "metadata": {},
     "output_type": "execute_result"
    }
   ],
   "source": [
    "# Frequency table: It will give us the count of each category in that variable\n",
    "train['Loan_Status'].value_counts()"
   ]
  },
  {
   "cell_type": "code",
   "execution_count": 15,
   "id": "d41bff70",
   "metadata": {},
   "outputs": [
    {
     "data": {
      "text/plain": [
       "Y    0.687296\n",
       "N    0.312704\n",
       "Name: Loan_Status, dtype: float64"
      ]
     },
     "execution_count": 15,
     "metadata": {},
     "output_type": "execute_result"
    }
   ],
   "source": [
    "# % distribution: To better undetsrand the frequency table, we can set normalize to True which \n",
    "# would give us proportion of each category.\n",
    "train['Loan_Status'].value_counts(normalize = True)"
   ]
  },
  {
   "cell_type": "code",
   "execution_count": 17,
   "id": "9b7acd5e",
   "metadata": {},
   "outputs": [
    {
     "data": {
      "image/png": "[encoded data removed]",
      "text/plain": [
       "<Figure size 432x288 with 1 Axes>"
      ]
     },
     "metadata": {
      "needs_background": "light"
     },
     "output_type": "display_data"
    }
   ],
   "source": [
    "# Bar plot: We can visualize the frequency table using a bar plot.\n",
    "train['Loan_Status'].value_counts().plot.bar()\n",
    "plt.show()"
   ]
  },
  {
   "cell_type": "markdown",
   "id": "786f51e8",
   "metadata": {},
   "source": [
    "From the above analysis, we can see that:\n",
    "* The loan of 422 (68.7%) people out of 614 was approved.\n",
    "* The loan of 192 (31.2%) people out of 614 was not approved."
   ]
  },
  {
   "cell_type": "markdown",
   "id": "2b297e11",
   "metadata": {},
   "source": [
    "We will now visualize each variable separately. In our dataset we have categorical, ordinal and numerical features. \n",
    "* **Categorical:** These features have categories (Gender, Married, Self_Employed, Credit_History, Loan_Status).  \n",
    "* **Ordinal:** These categorical features have some order involved (Dependents, Education, Property_Area).  \n",
    "* **Numerical:** These features have numerical values (ApplicantIncome, CoapplicantIncome, LoanAmount, Loan_Amount_Term)."
   ]
  },
  {
   "cell_type": "markdown",
   "id": "d44ccc1c",
   "metadata": {},
   "source": [
    "**Visualizing independent variables (4 categorical variables)**"
   ]
  },
  {
   "cell_type": "code",
   "execution_count": 48,
   "id": "46fb24e9",
   "metadata": {},
   "outputs": [
    {
     "data": {
      "image/png": "[encoded data removed]",
      "text/plain": [
       "<Figure size 1080x720 with 4 Axes>"
      ]
     },
     "metadata": {
      "needs_background": "light"
     },
     "output_type": "display_data"
    }
   ],
   "source": [
    "plt.figure(1)\n",
    "\n",
    "plt.subplot(221)\n",
    "train['Gender'].value_counts(normalize = True).plot.bar(figsize = (15, 10), title = 'Gender')\n",
    "\n",
    "plt.subplot(222)\n",
    "train['Married'].value_counts(normalize = True).plot.bar(title = 'Married')\n",
    "\n",
    "plt.subplot(223)\n",
    "train['Self_Employed'].value_counts(normalize = True).plot.bar(title = 'Self_Employed')\n",
    "\n",
    "plt.subplot(224)\n",
    "train['Credit_History'].value_counts(normalize = True).plot.bar(title = 'Credit_History')\n",
    "\n",
    "plt.show()"
   ]
  },
  {
   "cell_type": "markdown",
   "id": "6f1f2fd9",
   "metadata": {},
   "source": [
    "We can infer the following from the above bar plots.  \n",
    "* About 80% of applicants are male.  \n",
    "* About 65% of applicants are married.  \n",
    "* About 15% of applicants are self-employed.  \n",
    "* About 85% of applicants have repaid their loan debts."
   ]
  },
  {
   "cell_type": "markdown",
   "id": "d167372b",
   "metadata": {},
   "source": [
    "**Visualizing independent variables (3 ordinal variables)**"
   ]
  },
  {
   "cell_type": "code",
   "execution_count": 55,
   "id": "d10c21ab",
   "metadata": {},
   "outputs": [
    {
     "data": {
      "image/png": "[encoded data removed]",
      "text/plain": [
       "<Figure size 1080x288 with 3 Axes>"
      ]
     },
     "metadata": {
      "needs_background": "light"
     },
     "output_type": "display_data"
    }
   ],
   "source": [
    "plt.figure(1)\n",
    "\n",
    "plt.subplot(131)\n",
    "train['Dependents'].value_counts(normalize = True).plot.bar(figsize = (15, 4), title = 'Dependents')\n",
    "\n",
    "plt.subplot(132)\n",
    "train['Education'].value_counts(normalize = True).plot.bar(title = 'Education')\n",
    "\n",
    "plt.subplot(133)\n",
    "train['Property_Area'].value_counts(normalize = True).plot.bar(title = 'Property_Area')\n",
    "\n",
    "plt.show()"
   ]
  },
  {
   "cell_type": "markdown",
   "id": "ab1daaa4",
   "metadata": {},
   "source": [
    "We can infer the following from the above bar plots.  \n",
    "* About 57% of applicants do not have any dependents.  \n",
    "* About 78% of applicants are graduates.  \n",
    "* About 38% of applicants from semiurban areas and about 30% each from urban and rural areas.  "
   ]
  },
  {
   "cell_type": "markdown",
   "id": "ced5bfab",
   "metadata": {},
   "source": [
    "**Visualizing independent variables (4 numerical variables)**  \n",
    "ApplicantIncome, CoapplicantIncome, LoanAmount, Loan_Amount_Term"
   ]
  },
  {
   "cell_type": "code",
   "execution_count": 80,
   "id": "6ce5038c",
   "metadata": {},
   "outputs": [
    {
     "data": {
      "image/png": "[encoded data removed]",
      "text/plain": [
       "<Figure size 864x432 with 2 Axes>"
      ]
     },
     "metadata": {
      "needs_background": "light"
     },
     "output_type": "display_data"
    }
   ],
   "source": [
    "# Distribution of ApplicantIncome\n",
    "plt.figure(1)\n",
    "\n",
    "plt.subplot(121)\n",
    "sns.distplot(train['ApplicantIncome']).set(title = 'ApplicantIncome');\n",
    "\n",
    "\n",
    "plt.subplot(122)\n",
    "train['ApplicantIncome'].plot.box(figsize = (12,6), title = 'ApplicantIncome')\n",
    "\n",
    "plt.show()"
   ]
  },
  {
   "cell_type": "markdown",
   "id": "733e7312",
   "metadata": {},
   "source": [
    "-- We can infer from the above distribution plot that the distribution of ApplicantIncome is right skewed and normally distributed.  \n",
    "-- ML algorithms work better with normally distributed data so we will try to make ApplicantIncome normally distributed before using them for ML algorithms.  \n",
    "-- The box plot shows us that the data has many outliers because of which the distribution plot is right skewed. This can be attributed to the income disparity in the society. We are also looking at people with different educational levels and separating their educational levels would give us a better idea."
   ]
  },
  {
   "cell_type": "code",
   "execution_count": 77,
   "id": "05cf7d3e",
   "metadata": {},
   "outputs": [
    {
     "data": {
      "image/png": "[encoded data removed]",
      "text/plain": [
       "<Figure size 576x360 with 1 Axes>"
      ]
     },
     "metadata": {
      "needs_background": "light"
     },
     "output_type": "display_data"
    }
   ],
   "source": [
    "# Separating educational levels\n",
    "train.boxplot(column = 'ApplicantIncome', by = 'Education', figsize = (8,5))\n",
    "plt.suptitle(\"\")\n",
    "plt.show()"
   ]
  },
  {
   "cell_type": "markdown",
   "id": "8f45e5b6",
   "metadata": {},
   "source": [
    "We can infer from the above plot that there are higher # of graduates with very high income which appear to be outliers."
   ]
  },
  {
   "cell_type": "code",
   "execution_count": 82,
   "id": "dffda0e6",
   "metadata": {},
   "outputs": [
    {
     "data": {
      "image/png": "[encoded data removed]",
      "text/plain": [
       "<Figure size 864x432 with 2 Axes>"
      ]
     },
     "metadata": {
      "needs_background": "light"
     },
     "output_type": "display_data"
    }
   ],
   "source": [
    "# Distribution of CoapplicantIncome\n",
    "plt.figure(1)\n",
    "\n",
    "plt.subplot(121)\n",
    "sns.distplot(train['CoapplicantIncome']).set(title = 'CoapplicantIncome');\n",
    "\n",
    "plt.subplot(122)\n",
    "train['CoapplicantIncome'].plot.box(figsize = (12,6), title = 'CoapplicantIncome')\n",
    "\n",
    "plt.show()"
   ]
  },
  {
   "cell_type": "markdown",
   "id": "05a46b50",
   "metadata": {},
   "source": [
    "-- We can see that distribution of CoapplicantIncome is very similar to that of ApplicantIncome.  \n",
    "-- Majority of CoapplicantIncome ranges from 0 to 5000.  \n",
    "-- There are outliers as well.  \n",
    "-- CoapplicantIncome is also right skewed and not normally distributed."
   ]
  },
  {
   "cell_type": "code",
   "execution_count": 83,
   "id": "cbbef8a7",
   "metadata": {},
   "outputs": [
    {
     "data": {
      "image/png": "[encoded data removed]",
      "text/plain": [
       "<Figure size 864x432 with 2 Axes>"
      ]
     },
     "metadata": {
      "needs_background": "light"
     },
     "output_type": "display_data"
    }
   ],
   "source": [
    "# Distribution of LoanAmount\n",
    "plt.figure(1)\n",
    "\n",
    "plt.subplot(121)\n",
    "sns.distplot(train['LoanAmount']);\n",
    "\n",
    "plt.subplot(122)\n",
    "train['LoanAmount'].plot.box(figsize = (12,6))\n",
    "\n",
    "plt.show()"
   ]
  },
  {
   "cell_type": "markdown",
   "id": "3ffff76d",
   "metadata": {},
   "source": [
    "There are a lot of outliers in LoanAmount variable as well. The distribution is right skewed but fairly normal."
   ]
  },
  {
   "cell_type": "markdown",
   "id": "432976f1",
   "metadata": {},
   "source": [
    "*We would like to know now how well each feature correlates with Loan_Status and this can be done thru bivariate analysis.*"
   ]
  },
  {
   "cell_type": "markdown",
   "id": "994cbe79",
   "metadata": {},
   "source": [
    "### Bivariate analysis"
   ]
  },
  {
   "cell_type": "markdown",
   "id": "ccf81eaa",
   "metadata": {},
   "source": []
  },
  {
   "cell_type": "code",
   "execution_count": null,
   "id": "c4d62bce",
   "metadata": {},
   "outputs": [],
   "source": []
  },
  {
   "cell_type": "code",
   "execution_count": null,
   "id": "b467e8f9",
   "metadata": {},
   "outputs": [],
   "source": []
  },
  {
   "cell_type": "code",
   "execution_count": null,
   "id": "f39b8d57",
   "metadata": {},
   "outputs": [],
   "source": []
  },
  {
   "cell_type": "code",
   "execution_count": null,
   "id": "8caba86d",
   "metadata": {},
   "outputs": [],
   "source": []
  },
  {
   "cell_type": "code",
   "execution_count": null,
   "id": "d8dfea0e",
   "metadata": {},
   "outputs": [],
   "source": []
  },
  {
   "cell_type": "code",
   "execution_count": null,
   "id": "ecf87b29",
   "metadata": {},
   "outputs": [],
   "source": []
  },
  {
   "cell_type": "markdown",
   "id": "d5fd6d3f",
   "metadata": {},
   "source": [
    "\n",
    "6. Missing value and outlier treatment\n",
    "7. Evaluation Metrics for classification problems\n",
    "8. Model building: Part I\n",
    "9. Logistic Regression using stratified k-folds cross validation\n",
    "10. Feature Engineering  \n",
    "11. Model building: Part II  \n",
    "  * Logistic Regression  \n",
    "  * Decision Tree  \n",
    "  * Random Forest  \n",
    "  * XGBoost"
   ]
  }
 ],
 "metadata": {
  "kernelspec": {
   "display_name": "Python 3 (ipykernel)",
   "language": "python",
   "name": "python3"
  },
  "language_info": {
   "codemirror_mode": {
    "name": "ipython",
    "version": 3
   },
   "file_extension": ".py",
   "mimetype": "text/x-python",
   "name": "python",
   "nbconvert_exporter": "python",
   "pygments_lexer": "ipython3",
   "version": "3.9.7"
  }
 },
 "nbformat": 4,
 "nbformat_minor": 5
}
