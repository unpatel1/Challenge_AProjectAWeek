{
 "cells": [
  {
   "cell_type": "markdown",
   "id": "7964a8f1",
   "metadata": {},
   "source": [
    "# Loan Prediction ML Project\n",
    "Weekly challenge: Week 08  \n",
    "Date: 9/12/2022"
   ]
  },
  {
   "cell_type": "markdown",
   "id": "ed2f5f1e",
   "metadata": {},
   "source": [
    "**Objective:** Solve binary classification problem using Python"
   ]
  },
  {
   "cell_type": "markdown",
   "id": "3ba6f06f",
   "metadata": {},
   "source": [
    "**Steps that I will follow:**  \n",
    "1. Problem statement  \n",
    "2. Hypothesis generation  \n",
    "3. Getting the system ready and loading the data  \n",
    "4. Understanding the data  \n",
    "5. Exploratory Data Analysis (EDA)  \n",
    "  * Univariate analysis\n",
    "  * Bivariate analysis\n",
    "6. Missing value and outlier treatment\n",
    "7. Evaluation Metrics for classification problems\n",
    "8. Model building: Part I\n",
    "9. Logistic Regression using stratified k-folds cross validation\n",
    "10. Feature Engineering  \n",
    "11. Model building: Part II  \n",
    "  * Logistic Regression  \n",
    "  * Decision Tree  \n",
    "  * Random Forest  \n",
    "  * XGBoost"
   ]
  },
  {
   "cell_type": "markdown",
   "id": "51e26f5c",
   "metadata": {},
   "source": [
    "## 1. Problem statement  \n",
    "Dream Housing Finance company deals in all home loans. They have presence across all urban, semi urban and rural areas. Customer first apply for home loan after that company validates the customer eligibility for loan. Company wants to automate the loan eligibility process (real time) based on customer detail provided while filling online application form. These details are **Gender, Marital Status, Education, # of Dependents, Income, Loan Amount, Credit History** and others. To automate this process, they have given a problem to identify the customers segments, those are eligible for loan amount so that they can specifically target these customers."
   ]
  },
  {
   "cell_type": "markdown",
   "id": "5471b7f8",
   "metadata": {},
   "source": [
    "This is a classification problem where we have to predict whether a loan would be approved or not. In a classification problem, we have to predict discrete values based on a given set of independent variables.  \n",
    "\n",
    "Classification can be of two types:  \n",
    "* Binary classification: Here we have to predict either of the two given classes. e.g. classifying the gender as male or female, predictiing the result as win or loss...\n",
    "* Multiclass classification: Here we have to classify the data into three or more classes. e.g. classifying a movies's genre as comedy, action or romantic, classify fruits as oranges, apples or pears..."
   ]
  },
  {
   "cell_type": "markdown",
   "id": "9276371c",
   "metadata": {},
   "source": [
    "## 2. Hypothesis generation\n",
    "It is a process of listing out all the possible factors that can affect the outcome. Below are some of the factors that can affect the loan approval (independent variables for the loan prediction problem).  \n",
    "\n",
    "* 1. Salary: Applicant with high income should have more chances of loan approval.\n",
    "* 2. Previous history: Applicants who have repayed their previous debts should have higher chance of loan approval.  \n",
    "* 3. Loan amount: If the loan amount is less, chances of loan approval should be high.  \n",
    "* 4. Loan term: Loan for lesser duration should have a higher chance of loan approval.  \n",
    "* 5. Monthly installment: Chances of loan approval should be higher if the amount to be paid monthly is lower.  \n",
    "\n",
    "I have listed above some factors that I think might affect the target variable."
   ]
  },
  {
   "cell_type": "markdown",
   "id": "47d2e17a",
   "metadata": {},
   "source": [
    "## 3. Getting the system ready and loading the data"
   ]
  },
  {
   "cell_type": "markdown",
   "id": "7742dabd",
   "metadata": {},
   "source": [
    "### Loading the packages"
   ]
  },
  {
   "cell_type": "code",
   "execution_count": 1,
   "id": "6f19ef6a",
   "metadata": {},
   "outputs": [],
   "source": [
    "import pandas as pd\n",
    "import numpy as np\n",
    "import matplotlib.pyplot as plt\n",
    "import seaborn as sns\n",
    "import warnings\n",
    "warnings.filterwarnings('ignore')"
   ]
  },
  {
   "cell_type": "markdown",
   "id": "6d72ca6f",
   "metadata": {},
   "source": [
    "### Data"
   ]
  },
  {
   "cell_type": "markdown",
   "id": "0205d20d",
   "metadata": {},
   "source": [
    "For this project, there are 2 files: train.csv, test.csv.\n",
    "* train.csv file will be used for training the model; the model will learn from this file. It contains all the independent variables as well as the target variable.\n",
    "* test.csv file contains all the independent variables, it does not contain the target variable. We will apply the model to predict the target variable for the test data."
   ]
  },
  {
   "cell_type": "markdown",
   "id": "a1457512",
   "metadata": {},
   "source": [
    "### Reading the data"
   ]
  },
  {
   "cell_type": "code",
   "execution_count": 2,
   "id": "6cf87c2b",
   "metadata": {},
   "outputs": [],
   "source": [
    "train = pd.read_csv('train.csv')\n",
    "test = pd.read_csv('test.csv')"
   ]
  },
  {
   "cell_type": "code",
   "execution_count": 3,
   "id": "434b8cb8",
   "metadata": {},
   "outputs": [],
   "source": [
    "# Making copies of train & test data so we can make changes to the datasets, if needed.\n",
    "train_original = train.copy()\n",
    "test_original = test.copy()"
   ]
  },
  {
   "cell_type": "markdown",
   "id": "57e0bd80",
   "metadata": {},
   "source": [
    "## 4. Understanding the data\n",
    "Here, we will look at the structure of train & test datasets. First, we will check the features present in the data and then will check their data types."
   ]
  },
  {
   "cell_type": "code",
   "execution_count": 4,
   "id": "41edb420",
   "metadata": {},
   "outputs": [
    {
     "data": {
      "text/plain": [
       "Index(['Loan_ID', 'Gender', 'Married', 'Dependents', 'Education',\n",
       "       'Self_Employed', 'ApplicantIncome', 'CoapplicantIncome', 'LoanAmount',\n",
       "       'Loan_Amount_Term', 'Credit_History', 'Property_Area', 'Loan_Status'],\n",
       "      dtype='object')"
      ]
     },
     "execution_count": 4,
     "metadata": {},
     "output_type": "execute_result"
    }
   ],
   "source": [
    "# Checking columns of the test data\n",
    "train.columns"
   ]
  },
  {
   "cell_type": "markdown",
   "id": "abab478b",
   "metadata": {},
   "source": [
    "There are 12 independent variables and 1 target variable in the train dataset."
   ]
  },
  {
   "cell_type": "code",
   "execution_count": 5,
   "id": "b1f4c506",
   "metadata": {},
   "outputs": [
    {
     "data": {
      "text/plain": [
       "Index(['Loan_ID', 'Gender', 'Married', 'Dependents', 'Education',\n",
       "       'Self_Employed', 'ApplicantIncome', 'CoapplicantIncome', 'LoanAmount',\n",
       "       'Loan_Amount_Term', 'Credit_History', 'Property_Area'],\n",
       "      dtype='object')"
      ]
     },
     "execution_count": 5,
     "metadata": {},
     "output_type": "execute_result"
    }
   ],
   "source": [
    "# Checking columns of the test data\n",
    "test.columns"
   ]
  },
  {
   "cell_type": "markdown",
   "id": "c5034c6a",
   "metadata": {},
   "source": [
    "There are 12 independent variables in the train dataset. 'Loan_Status' is missing which is our target variable. We will predict the 'Loan_Status' using our model that we will build using the train sataset."
   ]
  },
  {
   "cell_type": "markdown",
   "id": "47072069",
   "metadata": {},
   "source": [
    "**Description of each variable**  \n",
    "* Loan_ID: Unique loan ID  \n",
    "* Gender: Male / Female  \n",
    "* Married: Applicant married (Yes / No)  \n",
    "* Dependents: # of dependents  \n",
    "* Education: Applicant's education (Graduate, Not graduate)   \n",
    "* Self_Employed: Applisant self employed? (Yes / No)  \n",
    "* ApplicantIncome: Income of the applicant  \n",
    "* CoapplicantIncome: Income of the co-applicant  \n",
    "* LoanAmount: Loan amount in thousands  \n",
    "* Loan_Amount_Term: Term / duration of loan in months  \n",
    "* Credit_History: Credit history meets guidelines (1 - Yes / 0 - No)  \n",
    "* Property_Area: Urban / Semi urban / Rural  \n",
    "* Loan_Status: Loan approved (Yes / No)"
   ]
  },
  {
   "cell_type": "markdown",
   "id": "fe381fa6",
   "metadata": {},
   "source": [
    "**Data type of each variable in the train dataset**"
   ]
  },
  {
   "cell_type": "code",
   "execution_count": 6,
   "id": "d795c9cd",
   "metadata": {},
   "outputs": [
    {
     "data": {
      "text/plain": [
       "Loan_ID               object\n",
       "Gender                object\n",
       "Married               object\n",
       "Dependents            object\n",
       "Education             object\n",
       "Self_Employed         object\n",
       "ApplicantIncome        int64\n",
       "CoapplicantIncome    float64\n",
       "LoanAmount           float64\n",
       "Loan_Amount_Term     float64\n",
       "Credit_History       float64\n",
       "Property_Area         object\n",
       "Loan_Status           object\n",
       "dtype: object"
      ]
     },
     "execution_count": 6,
     "metadata": {},
     "output_type": "execute_result"
    }
   ],
   "source": [
    "train.dtypes"
   ]
  },
  {
   "cell_type": "markdown",
   "id": "0da233fb",
   "metadata": {},
   "source": [
    "There are three formats of data types.  \n",
    "* Object: It represents variables that are text or categorical.  \n",
    "  -- *There are 8 variables: Loan_ID', 'Gender', 'Married', 'Dependents', 'Education', 'Self_Employed', 'Property_Area', 'Loan_Status'*  \n",
    "  -- Here, 'Loan_ID' is text variable and the remaining 7 are categorical variables. I will convert these 7 variables to categorical variables.  \n",
    "  -- 'Loan_ID' won't be of much use in my analysis so I won't be using it.\n",
    "* int64: It represents variables that are integer.  \n",
    "  -- *There is 1 variable: 'ApplicantIncome'*  \n",
    "* float64: It represents variables with decimal values.  \n",
    "  -- *There are 4 variables: 'CoapplicantIncome', 'LoanAmount', 'Loan_Amount_Term', 'Credit_History'*  \n",
    "  -- Here, 'Credit_History' is float64 but it is a categorical variable with either credit history meets guidelines as 1 (Yes) or credit history does not meets guidelines as 0 (No). Due to this fact, we can convert it to the categorical variable."
   ]
  },
  {
   "cell_type": "markdown",
   "id": "0a03276a",
   "metadata": {},
   "source": [
    "**Converting the data types**"
   ]
  },
  {
   "cell_type": "code",
   "execution_count": 7,
   "id": "fd0edad3",
   "metadata": {},
   "outputs": [
    {
     "data": {
      "text/plain": [
       "Loan_ID                object\n",
       "Gender               category\n",
       "Married              category\n",
       "Dependents           category\n",
       "Education            category\n",
       "Self_Employed        category\n",
       "ApplicantIncome         int64\n",
       "CoapplicantIncome     float64\n",
       "LoanAmount            float64\n",
       "Loan_Amount_Term      float64\n",
       "Credit_History       category\n",
       "Property_Area        category\n",
       "Loan_Status          category\n",
       "dtype: object"
      ]
     },
     "execution_count": 7,
     "metadata": {},
     "output_type": "execute_result"
    }
   ],
   "source": [
    "train_types = {'Gender':'category', 'Married':'category', 'Dependents':'category',\n",
    "               'Education':'category', 'Self_Employed':'category', 'Credit_History':'category',\n",
    "               'Property_Area':'category', 'Loan_Status':'category'}\n",
    "train = train.astype(train_types)\n",
    "train.dtypes"
   ]
  },
  {
   "cell_type": "code",
   "execution_count": 8,
   "id": "fd91a060",
   "metadata": {},
   "outputs": [
    {
     "data": {
      "text/plain": [
       "Loan_ID                object\n",
       "Gender               category\n",
       "Married              category\n",
       "Dependents           category\n",
       "Education            category\n",
       "Self_Employed        category\n",
       "ApplicantIncome         int64\n",
       "CoapplicantIncome       int64\n",
       "LoanAmount            float64\n",
       "Loan_Amount_Term      float64\n",
       "Credit_History       category\n",
       "Property_Area        category\n",
       "dtype: object"
      ]
     },
     "execution_count": 8,
     "metadata": {},
     "output_type": "execute_result"
    }
   ],
   "source": [
    "test_types = {'Gender':'category', 'Married':'category', 'Dependents':'category',\n",
    "               'Education':'category', 'Self_Employed':'category', 'Credit_History':'category',\n",
    "               'Property_Area':'category'}\n",
    "test = test.astype(test_types)\n",
    "test.dtypes"
   ]
  },
  {
   "cell_type": "markdown",
   "id": "8ad6476b",
   "metadata": {},
   "source": [
    "**Shape of each dataset**"
   ]
  },
  {
   "cell_type": "code",
   "execution_count": 9,
   "id": "ee00f4c2",
   "metadata": {},
   "outputs": [
    {
     "data": {
      "text/plain": [
       "(614, 13)"
      ]
     },
     "execution_count": 9,
     "metadata": {},
     "output_type": "execute_result"
    }
   ],
   "source": [
    "train.shape"
   ]
  },
  {
   "cell_type": "code",
   "execution_count": 10,
   "id": "8da621b0",
   "metadata": {},
   "outputs": [
    {
     "data": {
      "text/plain": [
       "(367, 12)"
      ]
     },
     "execution_count": 10,
     "metadata": {},
     "output_type": "execute_result"
    }
   ],
   "source": [
    "test.shape"
   ]
  },
  {
   "cell_type": "markdown",
   "id": "4fce5151",
   "metadata": {},
   "source": [
    "-- There are 614 rows and 13 columns in the train dataset.  \n",
    "-- There are 367 rows and 12 columns in the test dataset."
   ]
  },
  {
   "cell_type": "code",
   "execution_count": 11,
   "id": "b9686568",
   "metadata": {},
   "outputs": [
    {
     "data": {
      "text/html": [
       "<div>\n",
       "<style scoped>\n",
       "    .dataframe tbody tr th:only-of-type {\n",
       "        vertical-align: middle;\n",
       "    }\n",
       "\n",
       "    .dataframe tbody tr th {\n",
       "        vertical-align: top;\n",
       "    }\n",
       "\n",
       "    .dataframe thead th {\n",
       "        text-align: right;\n",
       "    }\n",
       "</style>\n",
       "<table border=\"1\" class=\"dataframe\">\n",
       "  <thead>\n",
       "    <tr style=\"text-align: right;\">\n",
       "      <th></th>\n",
       "      <th>ApplicantIncome</th>\n",
       "      <th>CoapplicantIncome</th>\n",
       "      <th>LoanAmount</th>\n",
       "      <th>Loan_Amount_Term</th>\n",
       "    </tr>\n",
       "  </thead>\n",
       "  <tbody>\n",
       "    <tr>\n",
       "      <th>count</th>\n",
       "      <td>614.000000</td>\n",
       "      <td>614.000000</td>\n",
       "      <td>592.000000</td>\n",
       "      <td>600.00000</td>\n",
       "    </tr>\n",
       "    <tr>\n",
       "      <th>mean</th>\n",
       "      <td>5403.459283</td>\n",
       "      <td>1621.245798</td>\n",
       "      <td>146.412162</td>\n",
       "      <td>342.00000</td>\n",
       "    </tr>\n",
       "    <tr>\n",
       "      <th>std</th>\n",
       "      <td>6109.041673</td>\n",
       "      <td>2926.248369</td>\n",
       "      <td>85.587325</td>\n",
       "      <td>65.12041</td>\n",
       "    </tr>\n",
       "    <tr>\n",
       "      <th>min</th>\n",
       "      <td>150.000000</td>\n",
       "      <td>0.000000</td>\n",
       "      <td>9.000000</td>\n",
       "      <td>12.00000</td>\n",
       "    </tr>\n",
       "    <tr>\n",
       "      <th>25%</th>\n",
       "      <td>2877.500000</td>\n",
       "      <td>0.000000</td>\n",
       "      <td>100.000000</td>\n",
       "      <td>360.00000</td>\n",
       "    </tr>\n",
       "    <tr>\n",
       "      <th>50%</th>\n",
       "      <td>3812.500000</td>\n",
       "      <td>1188.500000</td>\n",
       "      <td>128.000000</td>\n",
       "      <td>360.00000</td>\n",
       "    </tr>\n",
       "    <tr>\n",
       "      <th>75%</th>\n",
       "      <td>5795.000000</td>\n",
       "      <td>2297.250000</td>\n",
       "      <td>168.000000</td>\n",
       "      <td>360.00000</td>\n",
       "    </tr>\n",
       "    <tr>\n",
       "      <th>max</th>\n",
       "      <td>81000.000000</td>\n",
       "      <td>41667.000000</td>\n",
       "      <td>700.000000</td>\n",
       "      <td>480.00000</td>\n",
       "    </tr>\n",
       "  </tbody>\n",
       "</table>\n",
       "</div>"
      ],
      "text/plain": [
       "       ApplicantIncome  CoapplicantIncome  LoanAmount  Loan_Amount_Term\n",
       "count       614.000000         614.000000  592.000000         600.00000\n",
       "mean       5403.459283        1621.245798  146.412162         342.00000\n",
       "std        6109.041673        2926.248369   85.587325          65.12041\n",
       "min         150.000000           0.000000    9.000000          12.00000\n",
       "25%        2877.500000           0.000000  100.000000         360.00000\n",
       "50%        3812.500000        1188.500000  128.000000         360.00000\n",
       "75%        5795.000000        2297.250000  168.000000         360.00000\n",
       "max       81000.000000       41667.000000  700.000000         480.00000"
      ]
     },
     "execution_count": 11,
     "metadata": {},
     "output_type": "execute_result"
    }
   ],
   "source": [
    "train.describe()"
   ]
  },
  {
   "cell_type": "markdown",
   "id": "8483439b",
   "metadata": {},
   "source": [
    "## 5. Exploratory Data Analysis (EDA)"
   ]
  },
  {
   "cell_type": "markdown",
   "id": "20b0c627",
   "metadata": {},
   "source": [
    "###   Univariate analysis\n",
    "* It is the simplest form of analyzing data where we examine each variable individually.  \n",
    "* For categorical features, we can use frequency table or bar plot which will calculate the number of values / rows in each category in a particular variable.  \n",
    "* For numerical features, we can use probability density plots to look at the distribution of the variables."
   ]
  },
  {
   "cell_type": "markdown",
   "id": "5fbfa6c0",
   "metadata": {},
   "source": [
    "**Target variable**  \n",
    "We will first looks at the 'Loan_Status', our Taregt variable. It is a categorical variable so we will look at its frequency table, % distribution and bar plot."
   ]
  },
  {
   "cell_type": "code",
   "execution_count": 12,
   "id": "82422d4c",
   "metadata": {},
   "outputs": [
    {
     "data": {
      "text/plain": [
       "Y    422\n",
       "N    192\n",
       "Name: Loan_Status, dtype: int64"
      ]
     },
     "execution_count": 12,
     "metadata": {},
     "output_type": "execute_result"
    }
   ],
   "source": [
    "# Frequency table: It will give us the count of each category in that variable\n",
    "train['Loan_Status'].value_counts()"
   ]
  },
  {
   "cell_type": "code",
   "execution_count": 13,
   "id": "d41bff70",
   "metadata": {},
   "outputs": [
    {
     "data": {
      "text/plain": [
       "Y    0.687296\n",
       "N    0.312704\n",
       "Name: Loan_Status, dtype: float64"
      ]
     },
     "execution_count": 13,
     "metadata": {},
     "output_type": "execute_result"
    }
   ],
   "source": [
    "# % distribution: To better undetsrand the frequency table, we can set normalize to True which \n",
    "# would give us proportion of each category.\n",
    "train['Loan_Status'].value_counts(normalize = True)"
   ]
  },
  {
   "cell_type": "code",
   "execution_count": 14,
   "id": "9b7acd5e",
   "metadata": {},
   "outputs": [
    {
     "data": {
      "image/png": "[encoded data removed]",
      "text/plain": [
       "<Figure size 432x288 with 1 Axes>"
      ]
     },
     "metadata": {
      "needs_background": "light"
     },
     "output_type": "display_data"
    }
   ],
   "source": [
    "# Bar plot: We can visualize the frequency table using a bar plot.\n",
    "train['Loan_Status'].value_counts().plot.bar()\n",
    "plt.show()"
   ]
  },
  {
   "cell_type": "markdown",
   "id": "786f51e8",
   "metadata": {},
   "source": [
    "From the above analysis, we can see that:\n",
    "* The loan of 422 (68.7%) people out of 614 was approved.\n",
    "* The loan of 192 (31.2%) people out of 614 was not approved."
   ]
  },
  {
   "cell_type": "markdown",
   "id": "2b297e11",
   "metadata": {},
   "source": [
    "We will now visualize each variable separately. In our dataset we have categorical, ordinal and numerical features. \n",
    "* **Categorical:** These features have categories (Gender, Married, Self_Employed, Credit_History, Loan_Status).  \n",
    "* **Ordinal:** These categorical features have some order involved (Dependents, Education, Property_Area).  \n",
    "* **Numerical:** These features have numerical values (ApplicantIncome, CoapplicantIncome, LoanAmount, Loan_Amount_Term)."
   ]
  },
  {
   "cell_type": "markdown",
   "id": "d44ccc1c",
   "metadata": {},
   "source": [
    "**Visualizing independent variables (4 categorical variables)**"
   ]
  },
  {
   "cell_type": "code",
   "execution_count": 15,
   "id": "46fb24e9",
   "metadata": {},
   "outputs": [
    {
     "data": {
      "image/png": "[encoded data removed]",
      "text/plain": [
       "<Figure size 1080x720 with 4 Axes>"
      ]
     },
     "metadata": {
      "needs_background": "light"
     },
     "output_type": "display_data"
    }
   ],
   "source": [
    "plt.figure(1)\n",
    "\n",
    "plt.subplot(221)\n",
    "train['Gender'].value_counts(normalize = True).plot.bar(figsize = (15, 10), title = 'Gender')\n",
    "\n",
    "plt.subplot(222)\n",
    "train['Married'].value_counts(normalize = True).plot.bar(title = 'Married')\n",
    "\n",
    "plt.subplot(223)\n",
    "train['Self_Employed'].value_counts(normalize = True).plot.bar(title = 'Self_Employed')\n",
    "\n",
    "plt.subplot(224)\n",
    "train['Credit_History'].value_counts(normalize = True).plot.bar(title = 'Credit_History')\n",
    "\n",
    "plt.show()"
   ]
  },
  {
   "cell_type": "markdown",
   "id": "6f1f2fd9",
   "metadata": {},
   "source": [
    "We can infer the following from the above bar plots.  \n",
    "* About 80% of applicants are male.  \n",
    "* About 65% of applicants are married.  \n",
    "* About 15% of applicants are self-employed.  \n",
    "* About 85% of applicants have repaid their loan debts."
   ]
  },
  {
   "cell_type": "markdown",
   "id": "d167372b",
   "metadata": {},
   "source": [
    "**Visualizing independent variables (3 ordinal variables)**"
   ]
  },
  {
   "cell_type": "code",
   "execution_count": 16,
   "id": "d10c21ab",
   "metadata": {},
   "outputs": [
    {
     "data": {
      "image/png": "[encoded data removed]",
      "text/plain": [
       "<Figure size 1080x288 with 3 Axes>"
      ]
     },
     "metadata": {
      "needs_background": "light"
     },
     "output_type": "display_data"
    }
   ],
   "source": [
    "plt.figure(1)\n",
    "\n",
    "plt.subplot(131)\n",
    "train['Dependents'].value_counts(normalize = True).plot.bar(figsize = (15, 4), title = 'Dependents')\n",
    "\n",
    "plt.subplot(132)\n",
    "train['Education'].value_counts(normalize = True).plot.bar(title = 'Education')\n",
    "\n",
    "plt.subplot(133)\n",
    "train['Property_Area'].value_counts(normalize = True).plot.bar(title = 'Property_Area')\n",
    "\n",
    "plt.show()"
   ]
  },
  {
   "cell_type": "markdown",
   "id": "ab1daaa4",
   "metadata": {},
   "source": [
    "We can infer the following from the above bar plots.  \n",
    "* About 57% of applicants do not have any dependents.  \n",
    "* About 78% of applicants are graduates.  \n",
    "* About 38% of applicants from semiurban areas and about 30% each from urban and rural areas.  "
   ]
  },
  {
   "cell_type": "markdown",
   "id": "ced5bfab",
   "metadata": {},
   "source": [
    "**Visualizing independent variables (4 numerical variables)**  \n",
    "ApplicantIncome, CoapplicantIncome, LoanAmount, Loan_Amount_Term"
   ]
  },
  {
   "cell_type": "code",
   "execution_count": 17,
   "id": "6ce5038c",
   "metadata": {},
   "outputs": [
    {
     "data": {
      "image/png": "[encoded data removed]",
      "text/plain": [
       "<Figure size 864x432 with 2 Axes>"
      ]
     },
     "metadata": {
      "needs_background": "light"
     },
     "output_type": "display_data"
    }
   ],
   "source": [
    "# Distribution of ApplicantIncome\n",
    "plt.figure(1)\n",
    "\n",
    "plt.subplot(121)\n",
    "sns.distplot(train['ApplicantIncome']).set(title = 'ApplicantIncome');\n",
    "\n",
    "\n",
    "plt.subplot(122)\n",
    "train['ApplicantIncome'].plot.box(figsize = (12,6), title = 'ApplicantIncome')\n",
    "\n",
    "plt.show()"
   ]
  },
  {
   "cell_type": "markdown",
   "id": "733e7312",
   "metadata": {},
   "source": [
    "-- We can infer from the above distribution plot that the distribution of ApplicantIncome is right skewed and not normally distributed.  \n",
    "-- ML algorithms work better with normally distributed data so we will try to make ApplicantIncome normally distributed before using them for ML algorithms.  \n",
    "-- The box plot shows us that the data has many outliers because of which the distribution plot is right skewed. This can be attributed to the income disparity in the society. We are also looking at people with different educational levels and separating their educational levels would give us a better idea."
   ]
  },
  {
   "cell_type": "code",
   "execution_count": 18,
   "id": "05cf7d3e",
   "metadata": {},
   "outputs": [
    {
     "data": {
      "image/png": "[encoded data removed]",
      "text/plain": [
       "<Figure size 576x360 with 1 Axes>"
      ]
     },
     "metadata": {
      "needs_background": "light"
     },
     "output_type": "display_data"
    }
   ],
   "source": [
    "# Separating educational levels\n",
    "train.boxplot(column = 'ApplicantIncome', by = 'Education', figsize = (8,5))\n",
    "plt.suptitle(\"\")\n",
    "plt.show()"
   ]
  },
  {
   "cell_type": "markdown",
   "id": "8f45e5b6",
   "metadata": {},
   "source": [
    "We can infer from the above plot that there are higher # of graduates with very high income which appear to be outliers."
   ]
  },
  {
   "cell_type": "code",
   "execution_count": 19,
   "id": "dffda0e6",
   "metadata": {},
   "outputs": [
    {
     "data": {
      "image/png": "[encoded data removed]",
      "text/plain": [
       "<Figure size 864x432 with 2 Axes>"
      ]
     },
     "metadata": {
      "needs_background": "light"
     },
     "output_type": "display_data"
    }
   ],
   "source": [
    "# Distribution of CoapplicantIncome\n",
    "plt.figure(1)\n",
    "\n",
    "plt.subplot(121)\n",
    "sns.distplot(train['CoapplicantIncome']).set(title = 'CoapplicantIncome');\n",
    "\n",
    "plt.subplot(122)\n",
    "train['CoapplicantIncome'].plot.box(figsize = (12,6), title = 'CoapplicantIncome')\n",
    "\n",
    "plt.show()"
   ]
  },
  {
   "cell_type": "markdown",
   "id": "05a46b50",
   "metadata": {},
   "source": [
    "-- We can see that distribution of CoapplicantIncome is very similar to that of ApplicantIncome.  \n",
    "-- Majority of CoapplicantIncome ranges from 0 to 5000.  \n",
    "-- There are outliers as well.  \n",
    "-- CoapplicantIncome is also right skewed and not normally distributed."
   ]
  },
  {
   "cell_type": "code",
   "execution_count": 20,
   "id": "cbbef8a7",
   "metadata": {},
   "outputs": [
    {
     "data": {
      "image/png": "[encoded data removed]",
      "text/plain": [
       "<Figure size 864x432 with 2 Axes>"
      ]
     },
     "metadata": {
      "needs_background": "light"
     },
     "output_type": "display_data"
    }
   ],
   "source": [
    "# Distribution of LoanAmount\n",
    "plt.figure(1)\n",
    "\n",
    "plt.subplot(121)\n",
    "sns.distplot(train['LoanAmount']);\n",
    "\n",
    "plt.subplot(122)\n",
    "train['LoanAmount'].plot.box(figsize = (12,6))\n",
    "\n",
    "plt.show()"
   ]
  },
  {
   "cell_type": "markdown",
   "id": "3ffff76d",
   "metadata": {},
   "source": [
    "There are a lot of outliers in LoanAmount variable as well. The distribution is right skewed but fairly normal."
   ]
  },
  {
   "cell_type": "markdown",
   "id": "432976f1",
   "metadata": {},
   "source": [
    "*We would like to know now how well each feature correlates with Loan_Status and this can be done thru bivariate analysis.*"
   ]
  },
  {
   "cell_type": "markdown",
   "id": "994cbe79",
   "metadata": {},
   "source": [
    "### Bivariate analysis"
   ]
  },
  {
   "cell_type": "markdown",
   "id": "ccf81eaa",
   "metadata": {},
   "source": [
    "We generated the following hypothesis earlier.\n",
    "* 1. Salary: Applicant with high income should have more chances of loan approval.\n",
    "* 2. Previous history: Applicants who have repayed their previous debts should have higher chance of loan approval.  \n",
    "* 3. Loan amount: If the loan amount is less, chances of loan approval should be high.  \n",
    "* 4. Loan term: Loan for lesser duration should have a higher chance of loan approval.  \n",
    "* 5. Monthly installment: Chances of loan approval should be higher if the amount to be paid monthly is lower.   \n",
    "\n",
    "-- We will test these hypothesis using bivariate analysis.  \n",
    "-- We have looked them individually in univariate analysisand and will now explore then with respect to the target variable."
   ]
  },
  {
   "cell_type": "markdown",
   "id": "f7bb6afa",
   "metadata": {},
   "source": [
    "#### Categorical independent variable VS Target variable\n",
    "* Here, we will find the relationship between Categorical independent variable & Target variable.  \n",
    "* We will look at the stacked bar plot which will give us the proprtion of approved and unapproved loans."
   ]
  },
  {
   "cell_type": "markdown",
   "id": "2eb0420c",
   "metadata": {},
   "source": [
    "***Gender VS Loan_Status***"
   ]
  },
  {
   "cell_type": "code",
   "execution_count": 21,
   "id": "b467e8f9",
   "metadata": {},
   "outputs": [],
   "source": [
    "Gender = pd.crosstab(train['Gender'], train['Loan_Status'])"
   ]
  },
  {
   "cell_type": "code",
   "execution_count": 22,
   "id": "f39b8d57",
   "metadata": {},
   "outputs": [
    {
     "data": {
      "text/html": [
       "<div>\n",
       "<style scoped>\n",
       "    .dataframe tbody tr th:only-of-type {\n",
       "        vertical-align: middle;\n",
       "    }\n",
       "\n",
       "    .dataframe tbody tr th {\n",
       "        vertical-align: top;\n",
       "    }\n",
       "\n",
       "    .dataframe thead th {\n",
       "        text-align: right;\n",
       "    }\n",
       "</style>\n",
       "<table border=\"1\" class=\"dataframe\">\n",
       "  <thead>\n",
       "    <tr style=\"text-align: right;\">\n",
       "      <th>Loan_Status</th>\n",
       "      <th>N</th>\n",
       "      <th>Y</th>\n",
       "    </tr>\n",
       "    <tr>\n",
       "      <th>Gender</th>\n",
       "      <th></th>\n",
       "      <th></th>\n",
       "    </tr>\n",
       "  </thead>\n",
       "  <tbody>\n",
       "    <tr>\n",
       "      <th>Female</th>\n",
       "      <td>37</td>\n",
       "      <td>75</td>\n",
       "    </tr>\n",
       "    <tr>\n",
       "      <th>Male</th>\n",
       "      <td>150</td>\n",
       "      <td>339</td>\n",
       "    </tr>\n",
       "  </tbody>\n",
       "</table>\n",
       "</div>"
      ],
      "text/plain": [
       "Loan_Status    N    Y\n",
       "Gender               \n",
       "Female        37   75\n",
       "Male         150  339"
      ]
     },
     "execution_count": 22,
     "metadata": {},
     "output_type": "execute_result"
    }
   ],
   "source": [
    "Gender"
   ]
  },
  {
   "cell_type": "code",
   "execution_count": 23,
   "id": "8caba86d",
   "metadata": {},
   "outputs": [
    {
     "data": {
      "text/html": [
       "<div>\n",
       "<style scoped>\n",
       "    .dataframe tbody tr th:only-of-type {\n",
       "        vertical-align: middle;\n",
       "    }\n",
       "\n",
       "    .dataframe tbody tr th {\n",
       "        vertical-align: top;\n",
       "    }\n",
       "\n",
       "    .dataframe thead th {\n",
       "        text-align: right;\n",
       "    }\n",
       "</style>\n",
       "<table border=\"1\" class=\"dataframe\">\n",
       "  <thead>\n",
       "    <tr style=\"text-align: right;\">\n",
       "      <th>Loan_Status</th>\n",
       "      <th>N</th>\n",
       "      <th>Y</th>\n",
       "    </tr>\n",
       "    <tr>\n",
       "      <th>Gender</th>\n",
       "      <th></th>\n",
       "      <th></th>\n",
       "    </tr>\n",
       "  </thead>\n",
       "  <tbody>\n",
       "    <tr>\n",
       "      <th>Female</th>\n",
       "      <td>0.330357</td>\n",
       "      <td>0.669643</td>\n",
       "    </tr>\n",
       "    <tr>\n",
       "      <th>Male</th>\n",
       "      <td>0.306748</td>\n",
       "      <td>0.693252</td>\n",
       "    </tr>\n",
       "  </tbody>\n",
       "</table>\n",
       "</div>"
      ],
      "text/plain": [
       "Loan_Status         N         Y\n",
       "Gender                         \n",
       "Female       0.330357  0.669643\n",
       "Male         0.306748  0.693252"
      ]
     },
     "execution_count": 23,
     "metadata": {},
     "output_type": "execute_result"
    }
   ],
   "source": [
    "temp = Gender.div(Gender.sum(1).astype(float), axis = 0)\n",
    "temp"
   ]
  },
  {
   "cell_type": "code",
   "execution_count": 24,
   "id": "d8dfea0e",
   "metadata": {},
   "outputs": [
    {
     "data": {
      "text/plain": [
       "Gender\n",
       "Female    112\n",
       "Male      489\n",
       "dtype: int64"
      ]
     },
     "execution_count": 24,
     "metadata": {},
     "output_type": "execute_result"
    }
   ],
   "source": [
    "Gender.sum(1) # '1' is for column; so 37 + 75 = 112 for Female\n",
    "# .div(Gender.sum(1)): Divide each column element for Female by Gender.sum(1) which is 112\n",
    "# So 37 / 112 = 0.330357"
   ]
  },
  {
   "cell_type": "code",
   "execution_count": 25,
   "id": "ecf87b29",
   "metadata": {},
   "outputs": [
    {
     "data": {
      "text/plain": [
       "<AxesSubplot:xlabel='Gender'>"
      ]
     },
     "execution_count": 25,
     "metadata": {},
     "output_type": "execute_result"
    },
    {
     "data": {
      "image/png": "[encoded data removed]",
      "text/plain": [
       "<Figure size 288x288 with 1 Axes>"
      ]
     },
     "metadata": {
      "needs_background": "light"
     },
     "output_type": "display_data"
    }
   ],
   "source": [
    "Gender.div(Gender.sum(1).astype(float), axis = 0).plot(kind = 'bar', stacked = True, figsize = (4,4))"
   ]
  },
  {
   "cell_type": "markdown",
   "id": "c5a00aed",
   "metadata": {},
   "source": [
    "-- We can infer from the above plot that the proportion of loan approval and unapproval for male and female is almost the same."
   ]
  },
  {
   "cell_type": "markdown",
   "id": "a6fc4e76",
   "metadata": {},
   "source": [
    "***Married VS Loan_Status***"
   ]
  },
  {
   "cell_type": "code",
   "execution_count": 26,
   "id": "c67ae17d",
   "metadata": {},
   "outputs": [
    {
     "data": {
      "text/plain": [
       "<AxesSubplot:xlabel='Married'>"
      ]
     },
     "execution_count": 26,
     "metadata": {},
     "output_type": "execute_result"
    },
    {
     "data": {
      "image/png": "[encoded data removed]",
      "text/plain": [
       "<Figure size 288x288 with 1 Axes>"
      ]
     },
     "metadata": {
      "needs_background": "light"
     },
     "output_type": "display_data"
    }
   ],
   "source": [
    "Married = pd.crosstab(train['Married'], train['Loan_Status'])\n",
    "Married.div(Married.sum(1).astype(float), axis = 0).plot(kind = 'bar', stacked = True, figsize = (4,4))"
   ]
  },
  {
   "cell_type": "markdown",
   "id": "5e10e717",
   "metadata": {},
   "source": [
    "-- We can infer from the above plot that the proportion of loan approval for married applicant is little higher compared to the unmarried applicants."
   ]
  },
  {
   "cell_type": "markdown",
   "id": "3cc0fb66",
   "metadata": {},
   "source": [
    "***Dependents VS Loan_Status***"
   ]
  },
  {
   "cell_type": "code",
   "execution_count": 27,
   "id": "b9588da4",
   "metadata": {
    "scrolled": true
   },
   "outputs": [
    {
     "data": {
      "text/plain": [
       "<AxesSubplot:xlabel='Dependents'>"
      ]
     },
     "execution_count": 27,
     "metadata": {},
     "output_type": "execute_result"
    },
    {
     "data": {
      "image/png": "[encoded data removed]",
      "text/plain": [
       "<Figure size 432x288 with 1 Axes>"
      ]
     },
     "metadata": {
      "needs_background": "light"
     },
     "output_type": "display_data"
    }
   ],
   "source": [
    "Dependents = pd.crosstab(train['Dependents'], train['Loan_Status'])\n",
    "Dependents.div(Dependents.sum(1).astype(float), axis = 0).plot(kind = 'bar', stacked = True, figsize = (6,4))"
   ]
  },
  {
   "cell_type": "markdown",
   "id": "9e63d831",
   "metadata": {},
   "source": [
    "-- We can infer from the above plot that the proportion of loan approval for 1 or 3+ dependents is almost the same and a little lower compared to 0 or 2 dependents.  \n",
    "-- Loan approval is highest for applicants with 2 dependents."
   ]
  },
  {
   "cell_type": "markdown",
   "id": "e4e3865b",
   "metadata": {},
   "source": [
    "***Education VS Loan_Status***"
   ]
  },
  {
   "cell_type": "code",
   "execution_count": 28,
   "id": "6954bd27",
   "metadata": {},
   "outputs": [
    {
     "data": {
      "text/plain": [
       "<AxesSubplot:xlabel='Education'>"
      ]
     },
     "execution_count": 28,
     "metadata": {},
     "output_type": "execute_result"
    },
    {
     "data": {
      "image/png": "[encoded data removed]",
      "text/plain": [
       "<Figure size 288x288 with 1 Axes>"
      ]
     },
     "metadata": {
      "needs_background": "light"
     },
     "output_type": "display_data"
    }
   ],
   "source": [
    "Education = pd.crosstab(train['Education'], train['Loan_Status'])\n",
    "Education.div(Education.sum(1).astype(float), axis = 0).plot(kind = 'bar', stacked = True, figsize = (4,4))"
   ]
  },
  {
   "cell_type": "markdown",
   "id": "017a13af",
   "metadata": {},
   "source": [
    "***Self_Employed VS Loan_Status***"
   ]
  },
  {
   "cell_type": "code",
   "execution_count": 29,
   "id": "ae82af3c",
   "metadata": {},
   "outputs": [
    {
     "data": {
      "text/plain": [
       "<AxesSubplot:xlabel='Self_Employed'>"
      ]
     },
     "execution_count": 29,
     "metadata": {},
     "output_type": "execute_result"
    },
    {
     "data": {
      "image/png": "[encoded data removed]",
      "text/plain": [
       "<Figure size 288x288 with 1 Axes>"
      ]
     },
     "metadata": {
      "needs_background": "light"
     },
     "output_type": "display_data"
    }
   ],
   "source": [
    "Self_Employed = pd.crosstab(train['Self_Employed'], train['Loan_Status'])\n",
    "Self_Employed.div(Self_Employed.sum(1).astype(float), axis = 0).plot(kind = 'bar', stacked = True, figsize = (4,4))"
   ]
  },
  {
   "cell_type": "markdown",
   "id": "9c29e110",
   "metadata": {},
   "source": [
    "-- We can not infer much from the above plot.  \n",
    "-- Loan approval doesn't make any difference whether the applicant is Self_Employed or not."
   ]
  },
  {
   "cell_type": "markdown",
   "id": "d9b79738",
   "metadata": {},
   "source": [
    "***Credit_History VS Loan_Status***"
   ]
  },
  {
   "cell_type": "code",
   "execution_count": 30,
   "id": "50a908e4",
   "metadata": {
    "scrolled": true
   },
   "outputs": [
    {
     "data": {
      "text/plain": [
       "<AxesSubplot:xlabel='Credit_History'>"
      ]
     },
     "execution_count": 30,
     "metadata": {},
     "output_type": "execute_result"
    },
    {
     "data": {
      "image/png": "[encoded data removed]",
      "text/plain": [
       "<Figure size 288x288 with 1 Axes>"
      ]
     },
     "metadata": {
      "needs_background": "light"
     },
     "output_type": "display_data"
    }
   ],
   "source": [
    "Credit_History = pd.crosstab(train['Credit_History'], train['Loan_Status'])\n",
    "Credit_History.div(Credit_History.sum(1).astype(float), axis = 0).plot(kind = 'bar', stacked = True, figsize = (4,4))"
   ]
  },
  {
   "cell_type": "markdown",
   "id": "8e954800",
   "metadata": {},
   "source": [
    "-- Applicants with 0 Credit_History (no history, bad credit,...) have very slim chances of getting their loan approved.  \n",
    "-- Applicants with 1 Credit_History (good credit,...) have considerably higher chances of getting their loan approved. This is in line with our hypothesis #2 in which we stated that the applicants who have repayed their previous debts should have higher chance of loan approval."
   ]
  },
  {
   "cell_type": "markdown",
   "id": "b9df0b31",
   "metadata": {},
   "source": [
    "***Property_Area VS Loan_Status***"
   ]
  },
  {
   "cell_type": "code",
   "execution_count": 31,
   "id": "3f8e3627",
   "metadata": {
    "scrolled": false
   },
   "outputs": [
    {
     "data": {
      "text/plain": [
       "<AxesSubplot:xlabel='Property_Area'>"
      ]
     },
     "execution_count": 31,
     "metadata": {},
     "output_type": "execute_result"
    },
    {
     "data": {
      "image/png": "[encoded data removed]",
      "text/plain": [
       "<Figure size 432x288 with 1 Axes>"
      ]
     },
     "metadata": {
      "needs_background": "light"
     },
     "output_type": "display_data"
    }
   ],
   "source": [
    "Property_Area = pd.crosstab(train['Property_Area'], train['Loan_Status'])\n",
    "Property_Area.div(Property_Area.sum(1).astype(float), axis = 0).plot(kind = 'bar', stacked = True, figsize = (6,4))"
   ]
  },
  {
   "cell_type": "markdown",
   "id": "17bf3eae",
   "metadata": {},
   "source": [
    "-- Applicants from Semiurban areas have a little higher chances of getting their loans approved compared to the applicants from Rural as well as Urban areas."
   ]
  },
  {
   "cell_type": "markdown",
   "id": "9650dbc7",
   "metadata": {},
   "source": [
    "#### Numerical independent variable VS Target variable\n",
    "* Here, we will find the relationship between Numerical independent variable & Target variable.\n",
    "* Here too, we will look at the stacked bar plot which will give us the proprtion of approved and unapproved loans."
   ]
  },
  {
   "cell_type": "markdown",
   "id": "8c25ad25",
   "metadata": {},
   "source": [
    "**Analysis of Applicant Income**\n",
    "\n",
    "***ApplicantIncome:*** We will try to find the mean income of people for which the has been approved and the mean income of people for which the has not been approved."
   ]
  },
  {
   "cell_type": "code",
   "execution_count": 32,
   "id": "5fbdf7cb",
   "metadata": {},
   "outputs": [
    {
     "data": {
      "text/plain": [
       "Loan_Status\n",
       "N    5446.078125\n",
       "Y    5384.068720\n",
       "Name: ApplicantIncome, dtype: float64"
      ]
     },
     "execution_count": 32,
     "metadata": {},
     "output_type": "execute_result"
    }
   ],
   "source": [
    "train.groupby(by='Loan_Status')['ApplicantIncome'].mean()"
   ]
  },
  {
   "cell_type": "code",
   "execution_count": 33,
   "id": "64d43052",
   "metadata": {},
   "outputs": [
    {
     "data": {
      "text/plain": [
       "Text(0.5, 1.0, 'Loan_Status V/S Mean income')"
      ]
     },
     "execution_count": 33,
     "metadata": {},
     "output_type": "execute_result"
    },
    {
     "data": {
      "image/png": "[encoded data removed]",
      "text/plain": [
       "<Figure size 288x288 with 1 Axes>"
      ]
     },
     "metadata": {
      "needs_background": "light"
     },
     "output_type": "display_data"
    }
   ],
   "source": [
    "train.groupby(by='Loan_Status')['ApplicantIncome'].mean().plot(\n",
    "    kind='bar', grid=True, legend=False,\n",
    "    rot=90, fontsize=12, figsize=(4,4))\n",
    "plt.ylabel('Mean income', fontsize=12)\n",
    "plt.xlabel('Loan_Status', fontsize=12)\n",
    "plt.title('Loan_Status V/S Mean income', fontsize=14)"
   ]
  },
  {
   "cell_type": "markdown",
   "id": "1164ca2c",
   "metadata": {},
   "source": [
    "-- There is not much change in the mean income of the applicants whose loan is approved or not.  \n",
    "-- To better understand, we will make bins for the applicant income variable and analyze the loan status for each bin."
   ]
  },
  {
   "cell_type": "code",
   "execution_count": 34,
   "id": "15b7e3c3",
   "metadata": {},
   "outputs": [
    {
     "data": {
      "text/plain": [
       "[Text(0.5, 1.0, 'ApplicantIncome')]"
      ]
     },
     "execution_count": 34,
     "metadata": {},
     "output_type": "execute_result"
    },
    {
     "data": {
      "image/png": "[encoded data removed]",
      "text/plain": [
       "<Figure size 720x360 with 1 Axes>"
      ]
     },
     "metadata": {
      "needs_background": "light"
     },
     "output_type": "display_data"
    }
   ],
   "source": [
    "# Checking on the ApplicantIncome plot before binning\n",
    "plt.figure(figsize=(10,5))\n",
    "sns.distplot(train['ApplicantIncome']).set(title = 'ApplicantIncome')"
   ]
  },
  {
   "cell_type": "code",
   "execution_count": 35,
   "id": "148214ea",
   "metadata": {},
   "outputs": [
    {
     "data": {
      "text/plain": [
       "Text(0.5, 1.0, 'ApplicantIncome V/S Percentage')"
      ]
     },
     "execution_count": 35,
     "metadata": {},
     "output_type": "execute_result"
    },
    {
     "data": {
      "image/png": "[encoded data removed]",
      "text/plain": [
       "<Figure size 432x288 with 1 Axes>"
      ]
     },
     "metadata": {
      "needs_background": "light"
     },
     "output_type": "display_data"
    }
   ],
   "source": [
    "# Plotting the chart according to the bins\n",
    "bins_ = [0,2500,4000,6000,80000]\n",
    "group = ['Low','Average','High','Very high']\n",
    "\n",
    "train['Income_bin'] = pd.cut(train['ApplicantIncome'], bins=bins_, labels=group)\n",
    "Income_bin = pd.crosstab(train['Income_bin'], train['Loan_Status'])\n",
    "\n",
    "Income_bin.div(Income_bin.sum(1).astype(float), axis=0).plot(\n",
    "    kind='bar', stacked=True, figsize=(6,4), grid=True, legend=True, rot=30, fontsize=12)\n",
    "\n",
    "plt.ylabel('Percentage', fontsize=12)\n",
    "plt.xlabel('ApplicantIncome', fontsize=12)\n",
    "plt.title('ApplicantIncome V/S Percentage', fontsize=14)"
   ]
  },
  {
   "cell_type": "markdown",
   "id": "1d51c343",
   "metadata": {},
   "source": [
    "-- From the above plot, we can infer that the ApplicantIncome does not affect the chance of loan approval. We can see that the loan approve rate is almost the same for each group of income.  \n",
    "-- This contradicts our hypothesis #1 in which we stated that the applicant with high income should have more chances of loan approval."
   ]
  },
  {
   "cell_type": "code",
   "execution_count": 36,
   "id": "d15e2474",
   "metadata": {},
   "outputs": [
    {
     "data": {
      "text/html": [
       "<div>\n",
       "<style scoped>\n",
       "    .dataframe tbody tr th:only-of-type {\n",
       "        vertical-align: middle;\n",
       "    }\n",
       "\n",
       "    .dataframe tbody tr th {\n",
       "        vertical-align: top;\n",
       "    }\n",
       "\n",
       "    .dataframe thead th {\n",
       "        text-align: right;\n",
       "    }\n",
       "</style>\n",
       "<table border=\"1\" class=\"dataframe\">\n",
       "  <thead>\n",
       "    <tr style=\"text-align: right;\">\n",
       "      <th>Loan_Status</th>\n",
       "      <th>N</th>\n",
       "      <th>Y</th>\n",
       "    </tr>\n",
       "    <tr>\n",
       "      <th>Income_bin</th>\n",
       "      <th></th>\n",
       "      <th></th>\n",
       "    </tr>\n",
       "  </thead>\n",
       "  <tbody>\n",
       "    <tr>\n",
       "      <th>Low</th>\n",
       "      <td>34</td>\n",
       "      <td>74</td>\n",
       "    </tr>\n",
       "    <tr>\n",
       "      <th>Average</th>\n",
       "      <td>67</td>\n",
       "      <td>159</td>\n",
       "    </tr>\n",
       "    <tr>\n",
       "      <th>High</th>\n",
       "      <td>45</td>\n",
       "      <td>98</td>\n",
       "    </tr>\n",
       "    <tr>\n",
       "      <th>Very high</th>\n",
       "      <td>45</td>\n",
       "      <td>91</td>\n",
       "    </tr>\n",
       "  </tbody>\n",
       "</table>\n",
       "</div>"
      ],
      "text/plain": [
       "Loan_Status   N    Y\n",
       "Income_bin          \n",
       "Low          34   74\n",
       "Average      67  159\n",
       "High         45   98\n",
       "Very high    45   91"
      ]
     },
     "execution_count": 36,
     "metadata": {},
     "output_type": "execute_result"
    }
   ],
   "source": [
    "# Just to review crosstab() functionality\n",
    "pd.crosstab(train['Income_bin'], train['Loan_Status'])"
   ]
  },
  {
   "cell_type": "markdown",
   "id": "ab93ecb7",
   "metadata": {},
   "source": [
    "**Analysis of Coapplicant Income**\n",
    "\n",
    "***CoapplicantIncome:*** We will analyze coapplicant income in a similar way. "
   ]
  },
  {
   "cell_type": "code",
   "execution_count": 37,
   "id": "704eda17",
   "metadata": {},
   "outputs": [
    {
     "data": {
      "text/plain": [
       "Text(0.5, 1.0, 'coapplicantIncome V/S Percentage')"
      ]
     },
     "execution_count": 37,
     "metadata": {},
     "output_type": "execute_result"
    },
    {
     "data": {
      "image/png": "[encoded data removed]",
      "text/plain": [
       "<Figure size 432x288 with 1 Axes>"
      ]
     },
     "metadata": {
      "needs_background": "light"
     },
     "output_type": "display_data"
    }
   ],
   "source": [
    "# Plotting the chart according to the bins\n",
    "bins_ = [0,1000,3000,42000]\n",
    "group = ['Low','Average','High']\n",
    "\n",
    "train['Coapplicant_Income_bin'] = pd.cut(train['CoapplicantIncome'], bins=bins_, labels=group)\n",
    "Coapplicant_Income_bin = pd.crosstab(train['Coapplicant_Income_bin'], train['Loan_Status'])\n",
    "\n",
    "Coapplicant_Income_bin.div(Coapplicant_Income_bin.sum(1).astype(float), axis=0).plot(\n",
    "    kind='bar', stacked=True, figsize=(6,4), grid=True, legend=True, rot=30, fontsize=12)\n",
    "\n",
    "plt.ylabel('Percentage', fontsize=12)\n",
    "plt.xlabel('coapplicantIncome', fontsize=12)\n",
    "plt.title('coapplicantIncome V/S Percentage', fontsize=14)"
   ]
  },
  {
   "cell_type": "code",
   "execution_count": 38,
   "id": "f47e2e8c",
   "metadata": {},
   "outputs": [
    {
     "data": {
      "text/plain": [
       "273"
      ]
     },
     "execution_count": 38,
     "metadata": {},
     "output_type": "execute_result"
    }
   ],
   "source": [
    "len(train[train['CoapplicantIncome'] == 0])"
   ]
  },
  {
   "cell_type": "markdown",
   "id": "f5ab1398",
   "metadata": {},
   "source": [
    "* The above plot shows that if a coapplicant's income is low, the chances of loan approval is high. But this doesn't look logical! The reason for this could be that out of 614 applicants, 273 applicants do not have any coapplicant. So coapplicant income for such applicants is 0 and loan approval is not dependent on it.  \n",
    "* To better understand this, we will combine applicant & coapplicant's income and analyze it."
   ]
  },
  {
   "cell_type": "code",
   "execution_count": 39,
   "id": "62397df3",
   "metadata": {},
   "outputs": [
    {
     "data": {
      "text/plain": [
       "Text(0.5, 1.0, 'Total_Income V/S Percentage')"
      ]
     },
     "execution_count": 39,
     "metadata": {},
     "output_type": "execute_result"
    },
    {
     "data": {
      "image/png": "[encoded data removed]",
      "text/plain": [
       "<Figure size 432x288 with 1 Axes>"
      ]
     },
     "metadata": {
      "needs_background": "light"
     },
     "output_type": "display_data"
    }
   ],
   "source": [
    "# Combining applicant & coapplicant's income\n",
    "train['Total_Income'] = train['ApplicantIncome'] + train['CoapplicantIncome']\n",
    "\n",
    "bins_ = [0,2500,4000,6000,80000]\n",
    "group = ['Low','Average','High','Very high']\n",
    "\n",
    "train['Total_Income_bin'] = pd.cut(train['Total_Income'], bins=bins_, labels=group)\n",
    "Total_Income_bin = pd.crosstab(train['Total_Income_bin'], train['Loan_Status'])\n",
    "\n",
    "Total_Income_bin.div(Total_Income_bin.sum(1).astype(float), axis=0).plot(\n",
    "    kind='bar', stacked=True, figsize=(6,4), grid=True, legend=True, rot=30, fontsize=12)\n",
    "\n",
    "plt.ylabel('Percentage', fontsize=12)\n",
    "plt.xlabel('Total_Income', fontsize=12)\n",
    "plt.title('Total_Income V/S Percentage', fontsize=14)"
   ]
  },
  {
   "cell_type": "markdown",
   "id": "7c75af96",
   "metadata": {},
   "source": [
    "We can see that loan approval rate for the applicants with low Total_Income is very less compared to the other categories."
   ]
  },
  {
   "cell_type": "markdown",
   "id": "ff70f7fb",
   "metadata": {},
   "source": [
    "**Analysis of Loan Amount**"
   ]
  },
  {
   "cell_type": "code",
   "execution_count": 40,
   "id": "5119ba8e",
   "metadata": {},
   "outputs": [
    {
     "data": {
      "text/plain": [
       "Text(0.5, 1.0, 'LoanAmount V/S Percentage')"
      ]
     },
     "execution_count": 40,
     "metadata": {},
     "output_type": "execute_result"
    },
    {
     "data": {
      "image/png": "[encoded data removed]",
      "text/plain": [
       "<Figure size 432x288 with 1 Axes>"
      ]
     },
     "metadata": {
      "needs_background": "light"
     },
     "output_type": "display_data"
    }
   ],
   "source": [
    "# Analyzing loan amount\n",
    "bins_ = [0,100,200,700]\n",
    "group = ['Low','Average','High']\n",
    "\n",
    "train['LoanAmount_bin'] = pd.cut(train['LoanAmount'], bins=bins_, labels=group)\n",
    "LoanAmount_bin = pd.crosstab(train['LoanAmount_bin'], train['Loan_Status'])\n",
    "\n",
    "LoanAmount_bin.div(LoanAmount_bin.sum(1).astype(float), axis=0).plot(\n",
    "    kind='bar', stacked=True, figsize=(6,4), grid=True, legend=True, rot=30, fontsize=12)\n",
    "\n",
    "plt.ylabel('Percentage', fontsize=12)\n",
    "plt.xlabel('LoanAmount', fontsize=12)\n",
    "plt.title('LoanAmount V/S Percentage', fontsize=14)"
   ]
  },
  {
   "cell_type": "markdown",
   "id": "9d6f4f10",
   "metadata": {},
   "source": [
    "* We can see that the applicants with low and average loan amount have slightly higher chance of getting their loan approved compared to the applicant with higher loan amount.\n",
    "* This supports our hypothesis #3 in which we mentioned that if the loan amount is less, chances of loan approval should be high."
   ]
  },
  {
   "cell_type": "code",
   "execution_count": 41,
   "id": "cfba9352",
   "metadata": {},
   "outputs": [
    {
     "data": {
      "text/plain": [
       "[Text(0.5, 1.0, 'Loan_Amount_Term')]"
      ]
     },
     "execution_count": 41,
     "metadata": {},
     "output_type": "execute_result"
    },
    {
     "data": {
      "image/png": "[encoded data removed]",
      "text/plain": [
       "<Figure size 720x360 with 1 Axes>"
      ]
     },
     "metadata": {
      "needs_background": "light"
     },
     "output_type": "display_data"
    }
   ],
   "source": [
    "# Checking on the Loan_Amount_Term plot before binning\n",
    "plt.figure(figsize=(10,5))\n",
    "sns.distplot(train['Loan_Amount_Term']).set(title = 'Loan_Amount_Term')"
   ]
  },
  {
   "cell_type": "code",
   "execution_count": 42,
   "id": "d7f5ddcc",
   "metadata": {},
   "outputs": [
    {
     "data": {
      "text/plain": [
       "Text(0.5, 1.0, 'Loan_Amount_Term V/S Percentage')"
      ]
     },
     "execution_count": 42,
     "metadata": {},
     "output_type": "execute_result"
    },
    {
     "data": {
      "image/png": "[encoded data removed]",
      "text/plain": [
       "<Figure size 576x360 with 1 Axes>"
      ]
     },
     "metadata": {
      "needs_background": "light"
     },
     "output_type": "display_data"
    }
   ],
   "source": [
    "# Analyzing Loan_Amount_Term\n",
    "bins_ = [0,120,180,240,360,600]\n",
    "group = ['Very Low (10 yr)','Low (15 yr)','Medium (20 yr)','Average (30 yr)','High (30+ yr)']\n",
    "\n",
    "train['Loan_Amount_Term_bin'] = pd.cut(train['Loan_Amount_Term'], bins=bins_, labels=group)\n",
    "Loan_Amount_Term_bin = pd.crosstab(train['Loan_Amount_Term_bin'], train['Loan_Status'])\n",
    "\n",
    "Loan_Amount_Term_bin.div(Loan_Amount_Term_bin.sum(1).astype(float), axis=0).plot(\n",
    "    kind='bar', stacked=True, figsize=(8,5), grid=True, legend=True, rot=30, fontsize=12)\n",
    "\n",
    "plt.ylabel('Percentage', fontsize=12)\n",
    "plt.xlabel('Loan_Amount_Term', fontsize=12)\n",
    "plt.title('Loan_Amount_Term V/S Percentage', fontsize=14)"
   ]
  },
  {
   "cell_type": "markdown",
   "id": "ff533eb0",
   "metadata": {},
   "source": [
    "* We can see that applicants with very low term loan have higher chance of loan approval and with higher term loan have lower chance of loan approval.\n",
    "* This is in line with our hypothesis #4 stating that the loan for lesser duration should have a higher chance of loan approval."
   ]
  },
  {
   "cell_type": "markdown",
   "id": "27b5d664",
   "metadata": {},
   "source": [
    "**We will do the following changes to find correlation between the numerical variable & Target variable**"
   ]
  },
  {
   "cell_type": "markdown",
   "id": "43e1cbff",
   "metadata": {},
   "source": [
    "*Dropping all the bins and Total_Income columns that we created earlier.*"
   ]
  },
  {
   "cell_type": "code",
   "execution_count": 43,
   "id": "5bd5d318",
   "metadata": {},
   "outputs": [],
   "source": [
    "train = train.drop(['Income_bin','Coapplicant_Income_bin','Total_Income','Total_Income_bin',\n",
    "                    'LoanAmount_bin','Loan_Amount_Term_bin'], axis=1)"
   ]
  },
  {
   "cell_type": "markdown",
   "id": "1b5e59b2",
   "metadata": {},
   "source": [
    "*Changing the Dependents variable into numerical variable; changing 3+ to 3*"
   ]
  },
  {
   "cell_type": "code",
   "execution_count": 44,
   "id": "bfd41393",
   "metadata": {},
   "outputs": [
    {
     "data": {
      "text/plain": [
       "['0', '1', '2', '3+', NaN]\n",
       "Categories (4, object): ['0', '1', '2', '3+']"
      ]
     },
     "execution_count": 44,
     "metadata": {},
     "output_type": "execute_result"
    }
   ],
   "source": [
    "train['Dependents'].unique()"
   ]
  },
  {
   "cell_type": "code",
   "execution_count": 45,
   "id": "f31046e8",
   "metadata": {},
   "outputs": [],
   "source": [
    "# Changing the Dependents column to numerical from object\n",
    "train['Dependents'].replace('0', 0, inplace=True)\n",
    "train['Dependents'].replace('1', 1, inplace=True)\n",
    "train['Dependents'].replace('2', 2, inplace=True)\n",
    "train['Dependents'].replace('3+', 3, inplace=True)"
   ]
  },
  {
   "cell_type": "code",
   "execution_count": 46,
   "id": "66d031c1",
   "metadata": {},
   "outputs": [
    {
     "data": {
      "text/plain": [
       "[0, 1, 2, 3, NaN]\n",
       "Categories (4, int64): [0, 1, 2, 3]"
      ]
     },
     "execution_count": 46,
     "metadata": {},
     "output_type": "execute_result"
    }
   ],
   "source": [
    "train['Dependents'].unique()"
   ]
  },
  {
   "cell_type": "code",
   "execution_count": 47,
   "id": "e3bdf9ea",
   "metadata": {},
   "outputs": [
    {
     "data": {
      "text/plain": [
       "['0', '1', '2', '3+', NaN]\n",
       "Categories (4, object): ['0', '1', '2', '3+']"
      ]
     },
     "execution_count": 47,
     "metadata": {},
     "output_type": "execute_result"
    }
   ],
   "source": [
    "test['Dependents'].unique()"
   ]
  },
  {
   "cell_type": "code",
   "execution_count": 48,
   "id": "9095238e",
   "metadata": {},
   "outputs": [],
   "source": [
    "# Changing the Dependents column to numerical from object\n",
    "test['Dependents'].replace('0', 0, inplace=True)\n",
    "test['Dependents'].replace('1', 1, inplace=True)\n",
    "test['Dependents'].replace('2', 2, inplace=True)\n",
    "test['Dependents'].replace('3+', 3, inplace=True)"
   ]
  },
  {
   "cell_type": "markdown",
   "id": "b08cb77d",
   "metadata": {},
   "source": [
    "*Converting the target variable's categories into 0 & 1 to find correllation between the target and Dependents variables*  \n",
    "-- One more reason for this conversion is, some models like logistic regression takes only numeric values as input.  \n",
    "-- We will replace N with 0 and Y with 1."
   ]
  },
  {
   "cell_type": "code",
   "execution_count": 49,
   "id": "5e9bff85",
   "metadata": {},
   "outputs": [],
   "source": [
    "train['Loan_Status'].replace('N', 0, inplace = True)\n",
    "train['Loan_Status'].replace('Y', 1, inplace = True)"
   ]
  },
  {
   "cell_type": "markdown",
   "id": "c5ed39e3",
   "metadata": {},
   "source": [
    "*Converting Credit_History and Loan_Status to numeric in both datasets*"
   ]
  },
  {
   "cell_type": "code",
   "execution_count": 50,
   "id": "f4cde6ed",
   "metadata": {},
   "outputs": [],
   "source": [
    "train['Credit_History'] = pd.to_numeric(train['Credit_History'])\n",
    "train['Loan_Status'] = pd.to_numeric(train['Loan_Status'])\n",
    "\n",
    "test['Credit_History'] = pd.to_numeric(test['Credit_History'])"
   ]
  },
  {
   "cell_type": "markdown",
   "id": "80e7b43c",
   "metadata": {},
   "source": [
    "**Checking correlation between all the numerical variables**  \n",
    "-- We will use heat map to visualize the correlation  \n",
    "-- Heat map visualizes data thru variations in color. Darker the color, stronger the correlation"
   ]
  },
  {
   "cell_type": "code",
   "execution_count": 51,
   "id": "e7297e25",
   "metadata": {},
   "outputs": [
    {
     "data": {
      "text/plain": [
       "<AxesSubplot:>"
      ]
     },
     "execution_count": 51,
     "metadata": {},
     "output_type": "execute_result"
    },
    {
     "data": {
      "image/png": "[encoded data removed]",
      "text/plain": [
       "<Figure size 576x360 with 2 Axes>"
      ]
     },
     "metadata": {
      "needs_background": "light"
     },
     "output_type": "display_data"
    }
   ],
   "source": [
    "matrix = train.corr()\n",
    "f, ax = plt.subplots(figsize = (8, 5))\n",
    "sns.heatmap(matrix, vmax = .7, square = True, cmap=\"YlGnBu\")"
   ]
  },
  {
   "cell_type": "markdown",
   "id": "b3a42977",
   "metadata": {},
   "source": [
    "We can see that the following variables are highly correlated  \n",
    "* ApplicantIncome & LoanAmount  \n",
    "* CoapplicantIncome & LoanAmount  \n",
    "* Credit_History & Loan_Status"
   ]
  },
  {
   "cell_type": "markdown",
   "id": "e875adf0",
   "metadata": {},
   "source": [
    "## 6. Missing value and outlier treatment\n",
    "* We have finished exploring all the variables in our data and now it is time to treat the missing values and outliers.  \n",
    "* We have to address both of these because, if not treated, they can affect adversely the performance of our model.  \n",
    "* There are several options and I have listed a few below.    \n",
    "  -- remove the rows, remove the columns with missing data  \n",
    "  -- impute the missing values, cap the outliers, log transformation to address the outliers  \n",
    "* We will use missing value imputation for the missing values and log transformation to address the outliers"
   ]
  },
  {
   "cell_type": "markdown",
   "id": "5f9ff12c",
   "metadata": {},
   "source": [
    "### Missing value imputation"
   ]
  },
  {
   "cell_type": "code",
   "execution_count": 52,
   "id": "dc594112",
   "metadata": {},
   "outputs": [
    {
     "data": {
      "text/plain": [
       "Loan_ID               0\n",
       "Gender               13\n",
       "Married               3\n",
       "Dependents           15\n",
       "Education             0\n",
       "Self_Employed        32\n",
       "ApplicantIncome       0\n",
       "CoapplicantIncome     0\n",
       "LoanAmount           22\n",
       "Loan_Amount_Term     14\n",
       "Credit_History       50\n",
       "Property_Area         0\n",
       "Loan_Status           0\n",
       "dtype: int64"
      ]
     },
     "execution_count": 52,
     "metadata": {},
     "output_type": "execute_result"
    }
   ],
   "source": [
    "# How many values are missing for each column / feature?\n",
    "train.isnull().sum()"
   ]
  },
  {
   "cell_type": "markdown",
   "id": "74f94590",
   "metadata": {},
   "source": [
    "* There are missing values in Gender, Married, Dependents, Self_Employed, LoanAmount, Loan_Amount_Term and Credit_History.  \n",
    "* We will consider the following methods to impute the missing values.  \n",
    "  * For categorical variables: impute using mode  \n",
    "    -- Gender, Married, Dependents, Self_Employed, Credit_History  \n",
    "  * For numerical variables: impute using mean or median  \n",
    "    -- LoanAmount, Loan_Amount_Term"
   ]
  },
  {
   "cell_type": "markdown",
   "id": "75bd7aaf",
   "metadata": {},
   "source": [
    "#### Impute missing values in the categorical variables using mode"
   ]
  },
  {
   "cell_type": "code",
   "execution_count": 53,
   "id": "8bfb28e1",
   "metadata": {},
   "outputs": [
    {
     "data": {
      "text/plain": [
       "0    Male\n",
       "Name: Gender, dtype: category\n",
       "Categories (2, object): ['Female', 'Male']"
      ]
     },
     "execution_count": 53,
     "metadata": {},
     "output_type": "execute_result"
    }
   ],
   "source": [
    "train['Gender'].mode()"
   ]
  },
  {
   "cell_type": "code",
   "execution_count": 54,
   "id": "555587ab",
   "metadata": {},
   "outputs": [
    {
     "data": {
      "text/plain": [
       "'Male'"
      ]
     },
     "execution_count": 54,
     "metadata": {},
     "output_type": "execute_result"
    }
   ],
   "source": [
    "train['Gender'].mode()[0]"
   ]
  },
  {
   "cell_type": "markdown",
   "id": "f7fb5f5b",
   "metadata": {},
   "source": [
    "*Gender*"
   ]
  },
  {
   "cell_type": "code",
   "execution_count": 55,
   "id": "e92a08ef",
   "metadata": {},
   "outputs": [],
   "source": [
    "train['Gender'].fillna(train['Gender'].mode()[0], inplace = True)"
   ]
  },
  {
   "cell_type": "markdown",
   "id": "dc8584d0",
   "metadata": {},
   "source": [
    "*Married*"
   ]
  },
  {
   "cell_type": "code",
   "execution_count": 56,
   "id": "22a7e1d9",
   "metadata": {},
   "outputs": [],
   "source": [
    "train['Married'].fillna(train['Married'].mode()[0], inplace = True)"
   ]
  },
  {
   "cell_type": "markdown",
   "id": "a330eebd",
   "metadata": {},
   "source": [
    "*Dependents*"
   ]
  },
  {
   "cell_type": "code",
   "execution_count": 57,
   "id": "68a68886",
   "metadata": {},
   "outputs": [],
   "source": [
    "train['Dependents'].fillna(train['Dependents'].mode()[0], inplace = True)"
   ]
  },
  {
   "cell_type": "markdown",
   "id": "31afb920",
   "metadata": {},
   "source": [
    "*Self_Employed*"
   ]
  },
  {
   "cell_type": "code",
   "execution_count": 58,
   "id": "ea194e48",
   "metadata": {},
   "outputs": [],
   "source": [
    "train['Self_Employed'].fillna(train['Self_Employed'].mode()[0], inplace = True)"
   ]
  },
  {
   "cell_type": "markdown",
   "id": "2a47a95f",
   "metadata": {},
   "source": [
    "*Credit_History*"
   ]
  },
  {
   "cell_type": "code",
   "execution_count": 59,
   "id": "dcd4e45c",
   "metadata": {},
   "outputs": [],
   "source": [
    "train['Credit_History'].fillna(train['Credit_History'].mode()[0], inplace = True)"
   ]
  },
  {
   "cell_type": "markdown",
   "id": "5f99b965",
   "metadata": {},
   "source": [
    "#### Impute missing values in the numerical variables using mean or median\n",
    "* There are several ways we can find median in a dataframe.  \n",
    "* The following web page explains 4 ways we can find median of a column or the whole dataframe which I have listed below.  \n",
    "https://datascienceparichay.com/article/pandas-get-median-of-one-or-more-columns/  \n",
    "  -- train['Loan_Amount_Term'].median() --> median of single column  \n",
    "  -- train['Loan_Amount_Term'].quantile(0.5) --> median of single column with quantile()  \n",
    "  -- train.median() --> median of all numerical columns in dataframe  \n",
    "  -- train.quantile(0.5) --> median of all numerical columns in dataframe with quantile()  \n",
    "* I have shown below all 4 ways of finding the median for Loan_Amount_Term."
   ]
  },
  {
   "cell_type": "markdown",
   "id": "fd957215",
   "metadata": {},
   "source": [
    "*Loan_Amount_Term*"
   ]
  },
  {
   "cell_type": "code",
   "execution_count": 60,
   "id": "98b47d68",
   "metadata": {},
   "outputs": [
    {
     "data": {
      "text/plain": [
       "360.0    512\n",
       "180.0     44\n",
       "480.0     15\n",
       "300.0     13\n",
       "240.0      4\n",
       "84.0       4\n",
       "120.0      3\n",
       "60.0       2\n",
       "36.0       2\n",
       "12.0       1\n",
       "Name: Loan_Amount_Term, dtype: int64"
      ]
     },
     "execution_count": 60,
     "metadata": {},
     "output_type": "execute_result"
    }
   ],
   "source": [
    "train['Loan_Amount_Term'].value_counts()"
   ]
  },
  {
   "cell_type": "markdown",
   "id": "7f83402a",
   "metadata": {},
   "source": [
    "* Loan_Amount_Term is a numerical variable but it is more of a categorical type as there are only a few # of loan terms.  \n",
    "* Due to the above fact, replacing the missing values with median would be more appropriate than replacing with mean.  \n",
    "* Due to the nature of the values (limited and fixed # of loan terms) in the Loan_Amount_Term variable, we can treat it as a categorical variable and can use mode instead of median."
   ]
  },
  {
   "cell_type": "code",
   "execution_count": 61,
   "id": "10981208",
   "metadata": {},
   "outputs": [
    {
     "data": {
      "text/plain": [
       "360.0"
      ]
     },
     "execution_count": 61,
     "metadata": {},
     "output_type": "execute_result"
    }
   ],
   "source": [
    "train['Loan_Amount_Term'].median()"
   ]
  },
  {
   "cell_type": "code",
   "execution_count": 62,
   "id": "4bce6d81",
   "metadata": {},
   "outputs": [
    {
     "data": {
      "text/plain": [
       "360.0"
      ]
     },
     "execution_count": 62,
     "metadata": {},
     "output_type": "execute_result"
    }
   ],
   "source": [
    "train['Loan_Amount_Term'].quantile(0.5)"
   ]
  },
  {
   "cell_type": "code",
   "execution_count": 63,
   "id": "1125170e",
   "metadata": {},
   "outputs": [
    {
     "data": {
      "text/plain": [
       "ApplicantIncome      3812.5\n",
       "CoapplicantIncome    1188.5\n",
       "LoanAmount            128.0\n",
       "Loan_Amount_Term      360.0\n",
       "Credit_History          1.0\n",
       "Loan_Status             1.0\n",
       "dtype: float64"
      ]
     },
     "execution_count": 63,
     "metadata": {},
     "output_type": "execute_result"
    }
   ],
   "source": [
    "train.median()"
   ]
  },
  {
   "cell_type": "code",
   "execution_count": 64,
   "id": "8c7cc227",
   "metadata": {},
   "outputs": [
    {
     "data": {
      "text/plain": [
       "ApplicantIncome      3812.5\n",
       "CoapplicantIncome    1188.5\n",
       "LoanAmount            128.0\n",
       "Loan_Amount_Term      360.0\n",
       "Credit_History          1.0\n",
       "Loan_Status             1.0\n",
       "Name: 0.5, dtype: float64"
      ]
     },
     "execution_count": 64,
     "metadata": {},
     "output_type": "execute_result"
    }
   ],
   "source": [
    "train.quantile(0.5)"
   ]
  },
  {
   "cell_type": "code",
   "execution_count": 65,
   "id": "bf176f0d",
   "metadata": {},
   "outputs": [
    {
     "data": {
      "text/plain": [
       "360.0"
      ]
     },
     "execution_count": 65,
     "metadata": {},
     "output_type": "execute_result"
    }
   ],
   "source": [
    "train['Loan_Amount_Term'].mode()[0]"
   ]
  },
  {
   "cell_type": "markdown",
   "id": "5860a4a3",
   "metadata": {},
   "source": [
    "* Apart from using the median & quantile functions to find the median, we can also use describe to find the median.  \n",
    "* This will give us the exact same values as of the median & quantile functions."
   ]
  },
  {
   "cell_type": "code",
   "execution_count": 66,
   "id": "c2527af1",
   "metadata": {
    "scrolled": true
   },
   "outputs": [
    {
     "data": {
      "text/html": [
       "<div>\n",
       "<style scoped>\n",
       "    .dataframe tbody tr th:only-of-type {\n",
       "        vertical-align: middle;\n",
       "    }\n",
       "\n",
       "    .dataframe tbody tr th {\n",
       "        vertical-align: top;\n",
       "    }\n",
       "\n",
       "    .dataframe thead th {\n",
       "        text-align: right;\n",
       "    }\n",
       "</style>\n",
       "<table border=\"1\" class=\"dataframe\">\n",
       "  <thead>\n",
       "    <tr style=\"text-align: right;\">\n",
       "      <th></th>\n",
       "      <th>ApplicantIncome</th>\n",
       "      <th>CoapplicantIncome</th>\n",
       "      <th>LoanAmount</th>\n",
       "      <th>Loan_Amount_Term</th>\n",
       "      <th>Credit_History</th>\n",
       "      <th>Loan_Status</th>\n",
       "    </tr>\n",
       "  </thead>\n",
       "  <tbody>\n",
       "    <tr>\n",
       "      <th>count</th>\n",
       "      <td>614.000000</td>\n",
       "      <td>614.000000</td>\n",
       "      <td>592.000000</td>\n",
       "      <td>600.00000</td>\n",
       "      <td>614.000000</td>\n",
       "      <td>614.000000</td>\n",
       "    </tr>\n",
       "    <tr>\n",
       "      <th>mean</th>\n",
       "      <td>5403.459283</td>\n",
       "      <td>1621.245798</td>\n",
       "      <td>146.412162</td>\n",
       "      <td>342.00000</td>\n",
       "      <td>0.855049</td>\n",
       "      <td>0.687296</td>\n",
       "    </tr>\n",
       "    <tr>\n",
       "      <th>std</th>\n",
       "      <td>6109.041673</td>\n",
       "      <td>2926.248369</td>\n",
       "      <td>85.587325</td>\n",
       "      <td>65.12041</td>\n",
       "      <td>0.352339</td>\n",
       "      <td>0.463973</td>\n",
       "    </tr>\n",
       "    <tr>\n",
       "      <th>min</th>\n",
       "      <td>150.000000</td>\n",
       "      <td>0.000000</td>\n",
       "      <td>9.000000</td>\n",
       "      <td>12.00000</td>\n",
       "      <td>0.000000</td>\n",
       "      <td>0.000000</td>\n",
       "    </tr>\n",
       "    <tr>\n",
       "      <th>25%</th>\n",
       "      <td>2877.500000</td>\n",
       "      <td>0.000000</td>\n",
       "      <td>100.000000</td>\n",
       "      <td>360.00000</td>\n",
       "      <td>1.000000</td>\n",
       "      <td>0.000000</td>\n",
       "    </tr>\n",
       "    <tr>\n",
       "      <th>50%</th>\n",
       "      <td>3812.500000</td>\n",
       "      <td>1188.500000</td>\n",
       "      <td>128.000000</td>\n",
       "      <td>360.00000</td>\n",
       "      <td>1.000000</td>\n",
       "      <td>1.000000</td>\n",
       "    </tr>\n",
       "    <tr>\n",
       "      <th>75%</th>\n",
       "      <td>5795.000000</td>\n",
       "      <td>2297.250000</td>\n",
       "      <td>168.000000</td>\n",
       "      <td>360.00000</td>\n",
       "      <td>1.000000</td>\n",
       "      <td>1.000000</td>\n",
       "    </tr>\n",
       "    <tr>\n",
       "      <th>max</th>\n",
       "      <td>81000.000000</td>\n",
       "      <td>41667.000000</td>\n",
       "      <td>700.000000</td>\n",
       "      <td>480.00000</td>\n",
       "      <td>1.000000</td>\n",
       "      <td>1.000000</td>\n",
       "    </tr>\n",
       "  </tbody>\n",
       "</table>\n",
       "</div>"
      ],
      "text/plain": [
       "       ApplicantIncome  CoapplicantIncome  LoanAmount  Loan_Amount_Term  \\\n",
       "count       614.000000         614.000000  592.000000         600.00000   \n",
       "mean       5403.459283        1621.245798  146.412162         342.00000   \n",
       "std        6109.041673        2926.248369   85.587325          65.12041   \n",
       "min         150.000000           0.000000    9.000000          12.00000   \n",
       "25%        2877.500000           0.000000  100.000000         360.00000   \n",
       "50%        3812.500000        1188.500000  128.000000         360.00000   \n",
       "75%        5795.000000        2297.250000  168.000000         360.00000   \n",
       "max       81000.000000       41667.000000  700.000000         480.00000   \n",
       "\n",
       "       Credit_History  Loan_Status  \n",
       "count      614.000000   614.000000  \n",
       "mean         0.855049     0.687296  \n",
       "std          0.352339     0.463973  \n",
       "min          0.000000     0.000000  \n",
       "25%          1.000000     0.000000  \n",
       "50%          1.000000     1.000000  \n",
       "75%          1.000000     1.000000  \n",
       "max          1.000000     1.000000  "
      ]
     },
     "execution_count": 66,
     "metadata": {},
     "output_type": "execute_result"
    }
   ],
   "source": [
    "train.describe()"
   ]
  },
  {
   "cell_type": "markdown",
   "id": "3dd69e97",
   "metadata": {},
   "source": [
    "Median (or mode) for our Loan_Amount_Term variable is 360, so we will replace the missing values with 360."
   ]
  },
  {
   "cell_type": "code",
   "execution_count": 67,
   "id": "075cf289",
   "metadata": {},
   "outputs": [
    {
     "data": {
      "text/plain": [
       "360.0"
      ]
     },
     "execution_count": 67,
     "metadata": {},
     "output_type": "execute_result"
    }
   ],
   "source": [
    "train['Loan_Amount_Term'].median()"
   ]
  },
  {
   "cell_type": "code",
   "execution_count": 68,
   "id": "474ffb67",
   "metadata": {},
   "outputs": [],
   "source": [
    "train['Loan_Amount_Term'].fillna(train['Loan_Amount_Term'].median(), inplace = True)"
   ]
  },
  {
   "cell_type": "markdown",
   "id": "30791846",
   "metadata": {},
   "source": [
    "*LoanAmount*"
   ]
  },
  {
   "cell_type": "code",
   "execution_count": 69,
   "id": "36588763",
   "metadata": {},
   "outputs": [
    {
     "data": {
      "text/plain": [
       "count    592.000000\n",
       "mean     146.412162\n",
       "std       85.587325\n",
       "min        9.000000\n",
       "25%      100.000000\n",
       "50%      128.000000\n",
       "75%      168.000000\n",
       "max      700.000000\n",
       "Name: LoanAmount, dtype: float64"
      ]
     },
     "execution_count": 69,
     "metadata": {},
     "output_type": "execute_result"
    }
   ],
   "source": [
    "train['LoanAmount'].describe()"
   ]
  },
  {
   "cell_type": "markdown",
   "id": "ef73591c",
   "metadata": {},
   "source": [
    "* We can see from the above describe function for LoanAmount variable that it is right skewed and there are many outliers.  \n",
    "* The mean is 146, median is 128 and max is 700 which is huge.  \n",
    "* Due to having many outliers and with huge values, using mean shouldn't be a correct approach because outliers give us a high value of mean. Instead, median should be our correct approach to replace the missing values.  \n",
    "* We will use median of LoanAmount to replace the missing values."
   ]
  },
  {
   "cell_type": "code",
   "execution_count": 70,
   "id": "44025ac2",
   "metadata": {},
   "outputs": [],
   "source": [
    "train['LoanAmount'].fillna(train['LoanAmount'].median(), inplace = True)"
   ]
  },
  {
   "cell_type": "markdown",
   "id": "6258dd0d",
   "metadata": {},
   "source": [
    "As we have completed our missing value imputation process, we should check our dataset one more time for any missing values before we proceed further in our data analysis process."
   ]
  },
  {
   "cell_type": "code",
   "execution_count": 71,
   "id": "a8f58a8a",
   "metadata": {},
   "outputs": [
    {
     "data": {
      "text/plain": [
       "Loan_ID              0\n",
       "Gender               0\n",
       "Married              0\n",
       "Dependents           0\n",
       "Education            0\n",
       "Self_Employed        0\n",
       "ApplicantIncome      0\n",
       "CoapplicantIncome    0\n",
       "LoanAmount           0\n",
       "Loan_Amount_Term     0\n",
       "Credit_History       0\n",
       "Property_Area        0\n",
       "Loan_Status          0\n",
       "dtype: int64"
      ]
     },
     "execution_count": 71,
     "metadata": {},
     "output_type": "execute_result"
    }
   ],
   "source": [
    "train.isnull().sum()"
   ]
  },
  {
   "cell_type": "markdown",
   "id": "c3d7db2a",
   "metadata": {},
   "source": [
    "* So we do not have any missing values and our train dataset is clean now.  \n",
    "* We should repeat this process for the test dataset."
   ]
  },
  {
   "cell_type": "markdown",
   "id": "99977830",
   "metadata": {},
   "source": [
    "### In the section 8, when I tried to fit the logistic regression model, it gave me 'ValueError'     because of 'inf' values\n",
    "-- I used log transformation to transform the train & test datasets in the later part of section 6.  \n",
    "-- There are some 0 values for ApplicantIncome and CoapplicantIncome variable.  \n",
    "-- Log of 0 (log(0)) is undefined (inf) so all the 0 values in these 2 variables are transformed to 'inf'.  \n",
    "-- The logistic regression model gives 'ValueError' in the model building process.  \n",
    "-- To correct this problem, I will replace 0s in ApplicantIncome and CoapplicantIncome with 1s.  \n",
    "-- Replacing income of 0 with 1 won't make any difference in our analysis."
   ]
  },
  {
   "cell_type": "code",
   "execution_count": 72,
   "id": "a666b307",
   "metadata": {},
   "outputs": [
    {
     "data": {
      "text/plain": [
       "0      0.0\n",
       "2      0.0\n",
       "4      0.0\n",
       "15     0.0\n",
       "16     0.0\n",
       "      ... \n",
       "604    0.0\n",
       "609    0.0\n",
       "610    0.0\n",
       "612    0.0\n",
       "613    0.0\n",
       "Name: CoapplicantIncome, Length: 273, dtype: float64"
      ]
     },
     "execution_count": 72,
     "metadata": {},
     "output_type": "execute_result"
    }
   ],
   "source": [
    "train[train['CoapplicantIncome'] == 0]['CoapplicantIncome']"
   ]
  },
  {
   "cell_type": "code",
   "execution_count": 73,
   "id": "441ee3a1",
   "metadata": {},
   "outputs": [
    {
     "data": {
      "text/html": [
       "<div>\n",
       "<style scoped>\n",
       "    .dataframe tbody tr th:only-of-type {\n",
       "        vertical-align: middle;\n",
       "    }\n",
       "\n",
       "    .dataframe tbody tr th {\n",
       "        vertical-align: top;\n",
       "    }\n",
       "\n",
       "    .dataframe thead th {\n",
       "        text-align: right;\n",
       "    }\n",
       "</style>\n",
       "<table border=\"1\" class=\"dataframe\">\n",
       "  <thead>\n",
       "    <tr style=\"text-align: right;\">\n",
       "      <th></th>\n",
       "      <th>ApplicantIncome</th>\n",
       "      <th>CoapplicantIncome</th>\n",
       "      <th>LoanAmount</th>\n",
       "      <th>Loan_Amount_Term</th>\n",
       "      <th>Credit_History</th>\n",
       "      <th>Loan_Status</th>\n",
       "    </tr>\n",
       "  </thead>\n",
       "  <tbody>\n",
       "    <tr>\n",
       "      <th>count</th>\n",
       "      <td>614.000000</td>\n",
       "      <td>614.000000</td>\n",
       "      <td>614.000000</td>\n",
       "      <td>614.000000</td>\n",
       "      <td>614.000000</td>\n",
       "      <td>614.000000</td>\n",
       "    </tr>\n",
       "    <tr>\n",
       "      <th>mean</th>\n",
       "      <td>5403.459283</td>\n",
       "      <td>1621.245798</td>\n",
       "      <td>145.752443</td>\n",
       "      <td>342.410423</td>\n",
       "      <td>0.855049</td>\n",
       "      <td>0.687296</td>\n",
       "    </tr>\n",
       "    <tr>\n",
       "      <th>std</th>\n",
       "      <td>6109.041673</td>\n",
       "      <td>2926.248369</td>\n",
       "      <td>84.107233</td>\n",
       "      <td>64.428629</td>\n",
       "      <td>0.352339</td>\n",
       "      <td>0.463973</td>\n",
       "    </tr>\n",
       "    <tr>\n",
       "      <th>min</th>\n",
       "      <td>150.000000</td>\n",
       "      <td>0.000000</td>\n",
       "      <td>9.000000</td>\n",
       "      <td>12.000000</td>\n",
       "      <td>0.000000</td>\n",
       "      <td>0.000000</td>\n",
       "    </tr>\n",
       "    <tr>\n",
       "      <th>25%</th>\n",
       "      <td>2877.500000</td>\n",
       "      <td>0.000000</td>\n",
       "      <td>100.250000</td>\n",
       "      <td>360.000000</td>\n",
       "      <td>1.000000</td>\n",
       "      <td>0.000000</td>\n",
       "    </tr>\n",
       "    <tr>\n",
       "      <th>50%</th>\n",
       "      <td>3812.500000</td>\n",
       "      <td>1188.500000</td>\n",
       "      <td>128.000000</td>\n",
       "      <td>360.000000</td>\n",
       "      <td>1.000000</td>\n",
       "      <td>1.000000</td>\n",
       "    </tr>\n",
       "    <tr>\n",
       "      <th>75%</th>\n",
       "      <td>5795.000000</td>\n",
       "      <td>2297.250000</td>\n",
       "      <td>164.750000</td>\n",
       "      <td>360.000000</td>\n",
       "      <td>1.000000</td>\n",
       "      <td>1.000000</td>\n",
       "    </tr>\n",
       "    <tr>\n",
       "      <th>max</th>\n",
       "      <td>81000.000000</td>\n",
       "      <td>41667.000000</td>\n",
       "      <td>700.000000</td>\n",
       "      <td>480.000000</td>\n",
       "      <td>1.000000</td>\n",
       "      <td>1.000000</td>\n",
       "    </tr>\n",
       "  </tbody>\n",
       "</table>\n",
       "</div>"
      ],
      "text/plain": [
       "       ApplicantIncome  CoapplicantIncome  LoanAmount  Loan_Amount_Term  \\\n",
       "count       614.000000         614.000000  614.000000        614.000000   \n",
       "mean       5403.459283        1621.245798  145.752443        342.410423   \n",
       "std        6109.041673        2926.248369   84.107233         64.428629   \n",
       "min         150.000000           0.000000    9.000000         12.000000   \n",
       "25%        2877.500000           0.000000  100.250000        360.000000   \n",
       "50%        3812.500000        1188.500000  128.000000        360.000000   \n",
       "75%        5795.000000        2297.250000  164.750000        360.000000   \n",
       "max       81000.000000       41667.000000  700.000000        480.000000   \n",
       "\n",
       "       Credit_History  Loan_Status  \n",
       "count      614.000000   614.000000  \n",
       "mean         0.855049     0.687296  \n",
       "std          0.352339     0.463973  \n",
       "min          0.000000     0.000000  \n",
       "25%          1.000000     0.000000  \n",
       "50%          1.000000     1.000000  \n",
       "75%          1.000000     1.000000  \n",
       "max          1.000000     1.000000  "
      ]
     },
     "execution_count": 73,
     "metadata": {},
     "output_type": "execute_result"
    }
   ],
   "source": [
    "train.describe()"
   ]
  },
  {
   "cell_type": "code",
   "execution_count": 74,
   "id": "1bd2f9dc",
   "metadata": {},
   "outputs": [],
   "source": [
    "# Replacing 0 with 1 in ApplicantIncome and CoapplicantIncome of train dataset\n",
    "train['CoapplicantIncome'].replace(to_replace = 0, value = 1, inplace=True)\n",
    "train['ApplicantIncome'].replace(to_replace = 0, value = 1, inplace=True)"
   ]
  },
  {
   "cell_type": "code",
   "execution_count": 75,
   "id": "2e1cbaa1",
   "metadata": {},
   "outputs": [
    {
     "data": {
      "text/html": [
       "<div>\n",
       "<style scoped>\n",
       "    .dataframe tbody tr th:only-of-type {\n",
       "        vertical-align: middle;\n",
       "    }\n",
       "\n",
       "    .dataframe tbody tr th {\n",
       "        vertical-align: top;\n",
       "    }\n",
       "\n",
       "    .dataframe thead th {\n",
       "        text-align: right;\n",
       "    }\n",
       "</style>\n",
       "<table border=\"1\" class=\"dataframe\">\n",
       "  <thead>\n",
       "    <tr style=\"text-align: right;\">\n",
       "      <th></th>\n",
       "      <th>ApplicantIncome</th>\n",
       "      <th>CoapplicantIncome</th>\n",
       "      <th>LoanAmount</th>\n",
       "      <th>Loan_Amount_Term</th>\n",
       "      <th>Credit_History</th>\n",
       "      <th>Loan_Status</th>\n",
       "    </tr>\n",
       "  </thead>\n",
       "  <tbody>\n",
       "    <tr>\n",
       "      <th>count</th>\n",
       "      <td>614.000000</td>\n",
       "      <td>614.000000</td>\n",
       "      <td>614.000000</td>\n",
       "      <td>614.000000</td>\n",
       "      <td>614.000000</td>\n",
       "      <td>614.000000</td>\n",
       "    </tr>\n",
       "    <tr>\n",
       "      <th>mean</th>\n",
       "      <td>5403.459283</td>\n",
       "      <td>1621.690423</td>\n",
       "      <td>145.752443</td>\n",
       "      <td>342.410423</td>\n",
       "      <td>0.855049</td>\n",
       "      <td>0.687296</td>\n",
       "    </tr>\n",
       "    <tr>\n",
       "      <th>std</th>\n",
       "      <td>6109.041673</td>\n",
       "      <td>2926.001661</td>\n",
       "      <td>84.107233</td>\n",
       "      <td>64.428629</td>\n",
       "      <td>0.352339</td>\n",
       "      <td>0.463973</td>\n",
       "    </tr>\n",
       "    <tr>\n",
       "      <th>min</th>\n",
       "      <td>150.000000</td>\n",
       "      <td>1.000000</td>\n",
       "      <td>9.000000</td>\n",
       "      <td>12.000000</td>\n",
       "      <td>0.000000</td>\n",
       "      <td>0.000000</td>\n",
       "    </tr>\n",
       "    <tr>\n",
       "      <th>25%</th>\n",
       "      <td>2877.500000</td>\n",
       "      <td>1.000000</td>\n",
       "      <td>100.250000</td>\n",
       "      <td>360.000000</td>\n",
       "      <td>1.000000</td>\n",
       "      <td>0.000000</td>\n",
       "    </tr>\n",
       "    <tr>\n",
       "      <th>50%</th>\n",
       "      <td>3812.500000</td>\n",
       "      <td>1188.500000</td>\n",
       "      <td>128.000000</td>\n",
       "      <td>360.000000</td>\n",
       "      <td>1.000000</td>\n",
       "      <td>1.000000</td>\n",
       "    </tr>\n",
       "    <tr>\n",
       "      <th>75%</th>\n",
       "      <td>5795.000000</td>\n",
       "      <td>2297.250000</td>\n",
       "      <td>164.750000</td>\n",
       "      <td>360.000000</td>\n",
       "      <td>1.000000</td>\n",
       "      <td>1.000000</td>\n",
       "    </tr>\n",
       "    <tr>\n",
       "      <th>max</th>\n",
       "      <td>81000.000000</td>\n",
       "      <td>41667.000000</td>\n",
       "      <td>700.000000</td>\n",
       "      <td>480.000000</td>\n",
       "      <td>1.000000</td>\n",
       "      <td>1.000000</td>\n",
       "    </tr>\n",
       "  </tbody>\n",
       "</table>\n",
       "</div>"
      ],
      "text/plain": [
       "       ApplicantIncome  CoapplicantIncome  LoanAmount  Loan_Amount_Term  \\\n",
       "count       614.000000         614.000000  614.000000        614.000000   \n",
       "mean       5403.459283        1621.690423  145.752443        342.410423   \n",
       "std        6109.041673        2926.001661   84.107233         64.428629   \n",
       "min         150.000000           1.000000    9.000000         12.000000   \n",
       "25%        2877.500000           1.000000  100.250000        360.000000   \n",
       "50%        3812.500000        1188.500000  128.000000        360.000000   \n",
       "75%        5795.000000        2297.250000  164.750000        360.000000   \n",
       "max       81000.000000       41667.000000  700.000000        480.000000   \n",
       "\n",
       "       Credit_History  Loan_Status  \n",
       "count      614.000000   614.000000  \n",
       "mean         0.855049     0.687296  \n",
       "std          0.352339     0.463973  \n",
       "min          0.000000     0.000000  \n",
       "25%          1.000000     0.000000  \n",
       "50%          1.000000     1.000000  \n",
       "75%          1.000000     1.000000  \n",
       "max          1.000000     1.000000  "
      ]
     },
     "execution_count": 75,
     "metadata": {},
     "output_type": "execute_result"
    }
   ],
   "source": [
    "train.describe()"
   ]
  },
  {
   "cell_type": "markdown",
   "id": "72378647",
   "metadata": {},
   "source": [
    "#### Impute missing values in the categorical variables of the test dataset"
   ]
  },
  {
   "cell_type": "code",
   "execution_count": 76,
   "id": "ab3daa79",
   "metadata": {},
   "outputs": [],
   "source": [
    "test['Gender'].fillna(test['Gender'].mode()[0], inplace = True)\n",
    "test['Married'].fillna(test['Married'].mode()[0], inplace = True)\n",
    "test['Dependents'].fillna(test['Dependents'].mode()[0], inplace = True)\n",
    "test['Self_Employed'].fillna(test['Self_Employed'].mode()[0], inplace = True)\n",
    "test['Credit_History'].fillna(test['Credit_History'].mode()[0], inplace = True)"
   ]
  },
  {
   "cell_type": "markdown",
   "id": "5eefaa8e",
   "metadata": {},
   "source": [
    "#### Impute missing values in the numerical variables of the test dataset"
   ]
  },
  {
   "cell_type": "code",
   "execution_count": 77,
   "id": "14f22926",
   "metadata": {},
   "outputs": [],
   "source": [
    "test['Loan_Amount_Term'].fillna(test['Loan_Amount_Term'].median(), inplace = True)\n",
    "test['LoanAmount'].fillna(test['LoanAmount'].median(), inplace = True)"
   ]
  },
  {
   "cell_type": "code",
   "execution_count": 78,
   "id": "5c6b525c",
   "metadata": {
    "scrolled": true
   },
   "outputs": [
    {
     "data": {
      "text/plain": [
       "Loan_ID              0\n",
       "Gender               0\n",
       "Married              0\n",
       "Dependents           0\n",
       "Education            0\n",
       "Self_Employed        0\n",
       "ApplicantIncome      0\n",
       "CoapplicantIncome    0\n",
       "LoanAmount           0\n",
       "Loan_Amount_Term     0\n",
       "Credit_History       0\n",
       "Property_Area        0\n",
       "dtype: int64"
      ]
     },
     "execution_count": 78,
     "metadata": {},
     "output_type": "execute_result"
    }
   ],
   "source": [
    "test.isnull().sum()"
   ]
  },
  {
   "cell_type": "code",
   "execution_count": 79,
   "id": "8e6e2af2",
   "metadata": {
    "scrolled": true
   },
   "outputs": [
    {
     "data": {
      "text/html": [
       "<div>\n",
       "<style scoped>\n",
       "    .dataframe tbody tr th:only-of-type {\n",
       "        vertical-align: middle;\n",
       "    }\n",
       "\n",
       "    .dataframe tbody tr th {\n",
       "        vertical-align: top;\n",
       "    }\n",
       "\n",
       "    .dataframe thead th {\n",
       "        text-align: right;\n",
       "    }\n",
       "</style>\n",
       "<table border=\"1\" class=\"dataframe\">\n",
       "  <thead>\n",
       "    <tr style=\"text-align: right;\">\n",
       "      <th></th>\n",
       "      <th>ApplicantIncome</th>\n",
       "      <th>CoapplicantIncome</th>\n",
       "      <th>LoanAmount</th>\n",
       "      <th>Loan_Amount_Term</th>\n",
       "      <th>Credit_History</th>\n",
       "    </tr>\n",
       "  </thead>\n",
       "  <tbody>\n",
       "    <tr>\n",
       "      <th>count</th>\n",
       "      <td>367.000000</td>\n",
       "      <td>367.000000</td>\n",
       "      <td>367.000000</td>\n",
       "      <td>367.000000</td>\n",
       "      <td>367.000000</td>\n",
       "    </tr>\n",
       "    <tr>\n",
       "      <th>mean</th>\n",
       "      <td>4805.599455</td>\n",
       "      <td>1569.577657</td>\n",
       "      <td>135.980926</td>\n",
       "      <td>342.822888</td>\n",
       "      <td>0.839237</td>\n",
       "    </tr>\n",
       "    <tr>\n",
       "      <th>std</th>\n",
       "      <td>4910.685399</td>\n",
       "      <td>2334.232099</td>\n",
       "      <td>60.959739</td>\n",
       "      <td>64.658402</td>\n",
       "      <td>0.367814</td>\n",
       "    </tr>\n",
       "    <tr>\n",
       "      <th>min</th>\n",
       "      <td>0.000000</td>\n",
       "      <td>0.000000</td>\n",
       "      <td>28.000000</td>\n",
       "      <td>6.000000</td>\n",
       "      <td>0.000000</td>\n",
       "    </tr>\n",
       "    <tr>\n",
       "      <th>25%</th>\n",
       "      <td>2864.000000</td>\n",
       "      <td>0.000000</td>\n",
       "      <td>101.000000</td>\n",
       "      <td>360.000000</td>\n",
       "      <td>1.000000</td>\n",
       "    </tr>\n",
       "    <tr>\n",
       "      <th>50%</th>\n",
       "      <td>3786.000000</td>\n",
       "      <td>1025.000000</td>\n",
       "      <td>125.000000</td>\n",
       "      <td>360.000000</td>\n",
       "      <td>1.000000</td>\n",
       "    </tr>\n",
       "    <tr>\n",
       "      <th>75%</th>\n",
       "      <td>5060.000000</td>\n",
       "      <td>2430.500000</td>\n",
       "      <td>157.500000</td>\n",
       "      <td>360.000000</td>\n",
       "      <td>1.000000</td>\n",
       "    </tr>\n",
       "    <tr>\n",
       "      <th>max</th>\n",
       "      <td>72529.000000</td>\n",
       "      <td>24000.000000</td>\n",
       "      <td>550.000000</td>\n",
       "      <td>480.000000</td>\n",
       "      <td>1.000000</td>\n",
       "    </tr>\n",
       "  </tbody>\n",
       "</table>\n",
       "</div>"
      ],
      "text/plain": [
       "       ApplicantIncome  CoapplicantIncome  LoanAmount  Loan_Amount_Term  \\\n",
       "count       367.000000         367.000000  367.000000        367.000000   \n",
       "mean       4805.599455        1569.577657  135.980926        342.822888   \n",
       "std        4910.685399        2334.232099   60.959739         64.658402   \n",
       "min           0.000000           0.000000   28.000000          6.000000   \n",
       "25%        2864.000000           0.000000  101.000000        360.000000   \n",
       "50%        3786.000000        1025.000000  125.000000        360.000000   \n",
       "75%        5060.000000        2430.500000  157.500000        360.000000   \n",
       "max       72529.000000       24000.000000  550.000000        480.000000   \n",
       "\n",
       "       Credit_History  \n",
       "count      367.000000  \n",
       "mean         0.839237  \n",
       "std          0.367814  \n",
       "min          0.000000  \n",
       "25%          1.000000  \n",
       "50%          1.000000  \n",
       "75%          1.000000  \n",
       "max          1.000000  "
      ]
     },
     "execution_count": 79,
     "metadata": {},
     "output_type": "execute_result"
    }
   ],
   "source": [
    "test.describe()"
   ]
  },
  {
   "cell_type": "code",
   "execution_count": 80,
   "id": "c7c241ed",
   "metadata": {},
   "outputs": [],
   "source": [
    "# Replacing 0 with 1 in ApplicantIncome and CoapplicantIncome of test dataset\n",
    "test['CoapplicantIncome'].replace(to_replace = 0, value = 1, inplace=True)\n",
    "test['ApplicantIncome'].replace(to_replace = 0, value = 1, inplace=True)"
   ]
  },
  {
   "cell_type": "code",
   "execution_count": 81,
   "id": "4575ef99",
   "metadata": {},
   "outputs": [
    {
     "data": {
      "text/html": [
       "<div>\n",
       "<style scoped>\n",
       "    .dataframe tbody tr th:only-of-type {\n",
       "        vertical-align: middle;\n",
       "    }\n",
       "\n",
       "    .dataframe tbody tr th {\n",
       "        vertical-align: top;\n",
       "    }\n",
       "\n",
       "    .dataframe thead th {\n",
       "        text-align: right;\n",
       "    }\n",
       "</style>\n",
       "<table border=\"1\" class=\"dataframe\">\n",
       "  <thead>\n",
       "    <tr style=\"text-align: right;\">\n",
       "      <th></th>\n",
       "      <th>ApplicantIncome</th>\n",
       "      <th>CoapplicantIncome</th>\n",
       "      <th>LoanAmount</th>\n",
       "      <th>Loan_Amount_Term</th>\n",
       "      <th>Credit_History</th>\n",
       "    </tr>\n",
       "  </thead>\n",
       "  <tbody>\n",
       "    <tr>\n",
       "      <th>count</th>\n",
       "      <td>367.000000</td>\n",
       "      <td>367.000000</td>\n",
       "      <td>367.000000</td>\n",
       "      <td>367.000000</td>\n",
       "      <td>367.000000</td>\n",
       "    </tr>\n",
       "    <tr>\n",
       "      <th>mean</th>\n",
       "      <td>4805.604905</td>\n",
       "      <td>1570.002725</td>\n",
       "      <td>135.980926</td>\n",
       "      <td>342.822888</td>\n",
       "      <td>0.839237</td>\n",
       "    </tr>\n",
       "    <tr>\n",
       "      <th>std</th>\n",
       "      <td>4910.680052</td>\n",
       "      <td>2333.945530</td>\n",
       "      <td>60.959739</td>\n",
       "      <td>64.658402</td>\n",
       "      <td>0.367814</td>\n",
       "    </tr>\n",
       "    <tr>\n",
       "      <th>min</th>\n",
       "      <td>1.000000</td>\n",
       "      <td>1.000000</td>\n",
       "      <td>28.000000</td>\n",
       "      <td>6.000000</td>\n",
       "      <td>0.000000</td>\n",
       "    </tr>\n",
       "    <tr>\n",
       "      <th>25%</th>\n",
       "      <td>2864.000000</td>\n",
       "      <td>1.000000</td>\n",
       "      <td>101.000000</td>\n",
       "      <td>360.000000</td>\n",
       "      <td>1.000000</td>\n",
       "    </tr>\n",
       "    <tr>\n",
       "      <th>50%</th>\n",
       "      <td>3786.000000</td>\n",
       "      <td>1025.000000</td>\n",
       "      <td>125.000000</td>\n",
       "      <td>360.000000</td>\n",
       "      <td>1.000000</td>\n",
       "    </tr>\n",
       "    <tr>\n",
       "      <th>75%</th>\n",
       "      <td>5060.000000</td>\n",
       "      <td>2430.500000</td>\n",
       "      <td>157.500000</td>\n",
       "      <td>360.000000</td>\n",
       "      <td>1.000000</td>\n",
       "    </tr>\n",
       "    <tr>\n",
       "      <th>max</th>\n",
       "      <td>72529.000000</td>\n",
       "      <td>24000.000000</td>\n",
       "      <td>550.000000</td>\n",
       "      <td>480.000000</td>\n",
       "      <td>1.000000</td>\n",
       "    </tr>\n",
       "  </tbody>\n",
       "</table>\n",
       "</div>"
      ],
      "text/plain": [
       "       ApplicantIncome  CoapplicantIncome  LoanAmount  Loan_Amount_Term  \\\n",
       "count       367.000000         367.000000  367.000000        367.000000   \n",
       "mean       4805.604905        1570.002725  135.980926        342.822888   \n",
       "std        4910.680052        2333.945530   60.959739         64.658402   \n",
       "min           1.000000           1.000000   28.000000          6.000000   \n",
       "25%        2864.000000           1.000000  101.000000        360.000000   \n",
       "50%        3786.000000        1025.000000  125.000000        360.000000   \n",
       "75%        5060.000000        2430.500000  157.500000        360.000000   \n",
       "max       72529.000000       24000.000000  550.000000        480.000000   \n",
       "\n",
       "       Credit_History  \n",
       "count      367.000000  \n",
       "mean         0.839237  \n",
       "std          0.367814  \n",
       "min          0.000000  \n",
       "25%          1.000000  \n",
       "50%          1.000000  \n",
       "75%          1.000000  \n",
       "max          1.000000  "
      ]
     },
     "execution_count": 81,
     "metadata": {},
     "output_type": "execute_result"
    }
   ],
   "source": [
    "test.describe()"
   ]
  },
  {
   "cell_type": "markdown",
   "id": "4d89a450",
   "metadata": {},
   "source": [
    "We do not have any missing or 0 values and our test dataset is clean now."
   ]
  },
  {
   "cell_type": "markdown",
   "id": "b89502e4",
   "metadata": {},
   "source": [
    "### Outlier treatment\n",
    "* In our earlier univariate analysis, we have seen that there are outliers in ApplicantIncome, CoapplicantIncome and LoanAmount variables.  \n",
    "* Presence of outliers would affect the mean & standard deviation which would affect the distribution of data. Due to this reason, we will have to address the problem of outliers.  \n",
    "* As seen below, LoanAmount as well as ApplicantIncome and CoapplicantIncome variables are right skewed.  \n",
    "* One way to remove the skewness is by doing log transformation. It doesn't affect the smaller values much, but reduces the larger values much which would make our distribution similar to normal distribution."
   ]
  },
  {
   "cell_type": "code",
   "execution_count": 82,
   "id": "7d24fd87",
   "metadata": {},
   "outputs": [
    {
     "data": {
      "image/png": "[encoded data removed]",
      "text/plain": [
       "<Figure size 720x288 with 2 Axes>"
      ]
     },
     "metadata": {
      "needs_background": "light"
     },
     "output_type": "display_data"
    }
   ],
   "source": [
    "# Distribution of LoanAmount\n",
    "plt.figure(1)\n",
    "\n",
    "plt.subplot(121)\n",
    "sns.distplot(train['LoanAmount']);\n",
    "\n",
    "plt.subplot(122)\n",
    "train['LoanAmount'].plot.box(figsize = (10,4))\n",
    "\n",
    "plt.show()"
   ]
  },
  {
   "cell_type": "markdown",
   "id": "2e84dfbc",
   "metadata": {},
   "source": [
    "#### Log transformation of for the train & test datasets"
   ]
  },
  {
   "cell_type": "markdown",
   "id": "e697d694",
   "metadata": {},
   "source": [
    "*LoanAmount_log*"
   ]
  },
  {
   "cell_type": "code",
   "execution_count": 83,
   "id": "7993f3d2",
   "metadata": {},
   "outputs": [
    {
     "data": {
      "text/plain": [
       "<AxesSubplot:>"
      ]
     },
     "execution_count": 83,
     "metadata": {},
     "output_type": "execute_result"
    },
    {
     "data": {
      "image/png": "[encoded data removed]",
      "text/plain": [
       "<Figure size 432x288 with 1 Axes>"
      ]
     },
     "metadata": {
      "needs_background": "light"
     },
     "output_type": "display_data"
    }
   ],
   "source": [
    "# LoanAmount without log transform\n",
    "train['LoanAmount'].hist(bins = 20)"
   ]
  },
  {
   "cell_type": "code",
   "execution_count": 84,
   "id": "d77e20e0",
   "metadata": {},
   "outputs": [
    {
     "data": {
      "text/plain": [
       "<AxesSubplot:>"
      ]
     },
     "execution_count": 84,
     "metadata": {},
     "output_type": "execute_result"
    },
    {
     "data": {
      "image/png": "[encoded data removed]",
      "text/plain": [
       "<Figure size 432x288 with 1 Axes>"
      ]
     },
     "metadata": {
      "needs_background": "light"
     },
     "output_type": "display_data"
    }
   ],
   "source": [
    "# LoanAmount with log transform\n",
    "train['LoanAmount_log'] = np.log(train['LoanAmount'])\n",
    "train['LoanAmount_log'].hist(bins = 20)"
   ]
  },
  {
   "cell_type": "code",
   "execution_count": 85,
   "id": "1408ebda",
   "metadata": {
    "scrolled": true
   },
   "outputs": [],
   "source": [
    "test['LoanAmount_log'] = np.log(test['LoanAmount'])"
   ]
  },
  {
   "cell_type": "markdown",
   "id": "6dbab37b",
   "metadata": {},
   "source": [
    "*ApplicantIncome*"
   ]
  },
  {
   "cell_type": "code",
   "execution_count": 86,
   "id": "021306c9",
   "metadata": {},
   "outputs": [],
   "source": [
    "train['ApplicantIncome_log'] = np.log(train['ApplicantIncome'])"
   ]
  },
  {
   "cell_type": "code",
   "execution_count": 87,
   "id": "d6d53260",
   "metadata": {},
   "outputs": [],
   "source": [
    "test['ApplicantIncome_log'] = np.log(test['ApplicantIncome'])"
   ]
  },
  {
   "cell_type": "markdown",
   "id": "cbf3d247",
   "metadata": {},
   "source": [
    "*CoapplicantIncome*"
   ]
  },
  {
   "cell_type": "code",
   "execution_count": 88,
   "id": "6d11d971",
   "metadata": {},
   "outputs": [],
   "source": [
    "train['CoapplicantIncome_log'] = np.log(train['CoapplicantIncome'])"
   ]
  },
  {
   "cell_type": "code",
   "execution_count": 89,
   "id": "c78a9b02",
   "metadata": {},
   "outputs": [],
   "source": [
    "test['CoapplicantIncome_log'] = np.log(test['CoapplicantIncome'])"
   ]
  },
  {
   "cell_type": "markdown",
   "id": "2e350cdc",
   "metadata": {},
   "source": [
    "* We have addressed all the issues with our data and have made our data ready for model building now.\n",
    "* We will build a logistic regression model and make our predictions for the test dataset in our future section."
   ]
  },
  {
   "cell_type": "markdown",
   "id": "633cec2b",
   "metadata": {},
   "source": [
    "## 7. Evaluation Metrics for classification problems\n",
    "* When we build a model, we have to evaluate it's performance because we want to know how accurate the predictions from our model are.  \n",
    "* We quantify the difference between the predictions and the actual values and judge beased upon the quantified numbers.  \n",
    "* Lesser the difference, more accurate the predictions are and hence better the model.  \n",
    "* Since this is a classification problem (loan approved -- Yes / No), we will use any of the following evaluation matrics."
   ]
  },
  {
   "cell_type": "markdown",
   "id": "b3534b90",
   "metadata": {},
   "source": [
    "**Accuracy:** We will understand Accuracy using what we call a `Confusion Matrix` which is a tabular representation of `Actual v/s Predicted` values.  \n",
    "\n",
    "<table>\n",
    "  <thead>\n",
    "    <tr>\n",
    "      <th></th>\n",
    "      <th></th>\n",
    "      <th>Predicted</th>\n",
    "      <th>Predicted</th>\n",
    "    </tr>\n",
    "  </thead>\n",
    "  <tbody>\n",
    "    <tr>\n",
    "      <td></td>\n",
    "      <td></td>\n",
    "      <td>Good</td>\n",
    "      <td>Bad</td>\n",
    "    </tr>\n",
    "    <tr>\n",
    "      <th>True</th>\n",
    "      <td>Good</td>\n",
    "      <td>True Positive (TP)</td>\n",
    "      <td>False Negative (FN)</td>\n",
    "    </tr>\n",
    "    <tr>\n",
    "      <th>True</th>\n",
    "      <td>Bad</td>\n",
    "      <td>False Positive (FP)</td>\n",
    "      <td>True Negative (TN)</td>\n",
    "    </tr>\n",
    "  </tbody>\n",
    "</table>\n",
    "\n",
    "> *Confusion Matrix*  \n",
    "  -- *True Positive (TP):* Tergets are true (Y), predictions are true (Y)  \n",
    "  -- *True Negative (TN):* Tergets are false (N), predictions are false (N)  \n",
    "  -- *False Positive (FP):* Tergets are false (N), predictions are true (Y)  \n",
    "  -- *False Negative (FN):* Tergets are true (Y), predictions are false (N)\n",
    "  <br></br>\n",
    "  > *Accuracy = (TP + TN) / (TP + TN + FP + FN)* \n",
    "\n",
    "**Precision:** It is a measure of correctness achieved in truely positive predictions. It tells us what percentage of the predictions are truely positive.  \n",
    "> *Precision = TP / TP + FP*  \n",
    "\n",
    "**Recall (Sensitivity):** Out of all the actual positive values available to us, what percentage are predicted truely positive. It is a measure of how good our model is in predicting positive.\n",
    "> *Recall = TP / TP + FN*\n",
    "\n",
    "**Specificity:** This is a measure of how well our model is predicting negative. It is similar to *Recall* but for the negative values.\n",
    "> *Specificity = TN / TN + FP*\n",
    "\n",
    "**F1-score:** It is a measure of model's accuracy on a dataset. It is used to evaluate the binary classification problems.   \n",
    "> More reading on F-score: 'https://deepai.org/machine-learning-glossary-and-terms/f-score'  \n",
    "> *F1-score = 2 × (Precision × Recall) / (Precision + Recall)*\n",
    "\n",
    "**ROC curve (Receiver Operating Characteristic Curve)):** It is a graph that shows the performance of a classification model at all classification thresholds. It summarizes the model's performance by evaluating the trade offs between true positive rate (Recall) and false positive rate (1 - specificity).  \n",
    "\n",
    "**AUC (Area Under The Curve):** It is a performance matric for ROC curve. Higher the AUC, better the prediction power of the model.  \n",
    "> More reading on ROC & AUC: 'https://towardsdatascience.com/understanding-auc-roc-curve-68b2303cc9c5'\n"
   ]
  },
  {
   "cell_type": "markdown",
   "id": "cd803b52",
   "metadata": {},
   "source": [
    "## 8. Model building: Part I\n",
    "* We will make our first model to predict the target variable.  \n",
    "* We will start with the Logistic Regression which is used to predict binary outcome.  \n",
    "  -- Logistic Regression is a classification algorithm which predicts a binary outcome such as 1/0, Yes/No, True/False from independent variables in a dataset.  \n",
    "  -- Logistic Regression is an estimation of Logit function.  \n",
    "  -- Logit function creates a s-shaped curve with probability estimate."
   ]
  },
  {
   "cell_type": "code",
   "execution_count": 90,
   "id": "a0a7ceee",
   "metadata": {},
   "outputs": [],
   "source": [
    "# Loan_ID variable won't have any effect on the loan status so we will drop it from our datasets.\n",
    "train = train.drop('Loan_ID', axis = 1)\n",
    "test = test.drop('Loan_ID', axis = 1)"
   ]
  },
  {
   "cell_type": "markdown",
   "id": "5e8b0051",
   "metadata": {},
   "source": [
    "-- We will use scikit-learn (sklearn) libraryto make our models.  \n",
    "-- Sklearn requires target variable in a separate dataset so we will drop it from the train dataset and save it in a new dataset."
   ]
  },
  {
   "cell_type": "code",
   "execution_count": 91,
   "id": "e3aa3e5b",
   "metadata": {},
   "outputs": [],
   "source": [
    "X = train.drop(labels='Loan_Status', axis=1)\n",
    "y = train.Loan_Status"
   ]
  },
  {
   "cell_type": "markdown",
   "id": "0823427c",
   "metadata": {},
   "source": [
    "* We will make dummy variables for the categorical variables. Dummy variable turns categorical variables into series of 0 and 1, making them a lot easier to quantify and compare.  \n",
    "* Example:  \n",
    "  -- 'Gender' variable has two classes, Male and Female.  \n",
    "  -- Logistic Regression takes only numerical values as input so we will have to change Male and Female into numerical values.  \n",
    "  -- After applying dummies, 'Gender' will be converted into Gender_Male and Gender_Female.  \n",
    "  -- If 'Gender' is Male, Gender_Male = 1 and Gender_Female = 0.  \n",
    "  -- If 'Gender' is Female, Gender_Male = 0 and Gender_Female = 1."
   ]
  },
  {
   "cell_type": "code",
   "execution_count": 92,
   "id": "1e6dc3c9",
   "metadata": {},
   "outputs": [
    {
     "data": {
      "text/html": [
       "<div>\n",
       "<style scoped>\n",
       "    .dataframe tbody tr th:only-of-type {\n",
       "        vertical-align: middle;\n",
       "    }\n",
       "\n",
       "    .dataframe tbody tr th {\n",
       "        vertical-align: top;\n",
       "    }\n",
       "\n",
       "    .dataframe thead th {\n",
       "        text-align: right;\n",
       "    }\n",
       "</style>\n",
       "<table border=\"1\" class=\"dataframe\">\n",
       "  <thead>\n",
       "    <tr style=\"text-align: right;\">\n",
       "      <th></th>\n",
       "      <th>Gender</th>\n",
       "      <th>Married</th>\n",
       "      <th>Dependents</th>\n",
       "      <th>Education</th>\n",
       "      <th>Self_Employed</th>\n",
       "      <th>ApplicantIncome</th>\n",
       "      <th>CoapplicantIncome</th>\n",
       "      <th>LoanAmount</th>\n",
       "      <th>Loan_Amount_Term</th>\n",
       "      <th>Credit_History</th>\n",
       "      <th>Property_Area</th>\n",
       "      <th>Loan_Status</th>\n",
       "      <th>LoanAmount_log</th>\n",
       "      <th>ApplicantIncome_log</th>\n",
       "      <th>CoapplicantIncome_log</th>\n",
       "    </tr>\n",
       "  </thead>\n",
       "  <tbody>\n",
       "    <tr>\n",
       "      <th>0</th>\n",
       "      <td>Male</td>\n",
       "      <td>No</td>\n",
       "      <td>0</td>\n",
       "      <td>Graduate</td>\n",
       "      <td>No</td>\n",
       "      <td>5849</td>\n",
       "      <td>1.0</td>\n",
       "      <td>128.0</td>\n",
       "      <td>360.0</td>\n",
       "      <td>1.0</td>\n",
       "      <td>Urban</td>\n",
       "      <td>1</td>\n",
       "      <td>4.852030</td>\n",
       "      <td>8.674026</td>\n",
       "      <td>0.00000</td>\n",
       "    </tr>\n",
       "    <tr>\n",
       "      <th>1</th>\n",
       "      <td>Male</td>\n",
       "      <td>Yes</td>\n",
       "      <td>1</td>\n",
       "      <td>Graduate</td>\n",
       "      <td>No</td>\n",
       "      <td>4583</td>\n",
       "      <td>1508.0</td>\n",
       "      <td>128.0</td>\n",
       "      <td>360.0</td>\n",
       "      <td>1.0</td>\n",
       "      <td>Rural</td>\n",
       "      <td>0</td>\n",
       "      <td>4.852030</td>\n",
       "      <td>8.430109</td>\n",
       "      <td>7.31854</td>\n",
       "    </tr>\n",
       "    <tr>\n",
       "      <th>2</th>\n",
       "      <td>Male</td>\n",
       "      <td>Yes</td>\n",
       "      <td>0</td>\n",
       "      <td>Graduate</td>\n",
       "      <td>Yes</td>\n",
       "      <td>3000</td>\n",
       "      <td>1.0</td>\n",
       "      <td>66.0</td>\n",
       "      <td>360.0</td>\n",
       "      <td>1.0</td>\n",
       "      <td>Urban</td>\n",
       "      <td>1</td>\n",
       "      <td>4.189655</td>\n",
       "      <td>8.006368</td>\n",
       "      <td>0.00000</td>\n",
       "    </tr>\n",
       "  </tbody>\n",
       "</table>\n",
       "</div>"
      ],
      "text/plain": [
       "  Gender Married Dependents Education Self_Employed  ApplicantIncome  \\\n",
       "0   Male      No          0  Graduate            No             5849   \n",
       "1   Male     Yes          1  Graduate            No             4583   \n",
       "2   Male     Yes          0  Graduate           Yes             3000   \n",
       "\n",
       "   CoapplicantIncome  LoanAmount  Loan_Amount_Term  Credit_History  \\\n",
       "0                1.0       128.0             360.0             1.0   \n",
       "1             1508.0       128.0             360.0             1.0   \n",
       "2                1.0        66.0             360.0             1.0   \n",
       "\n",
       "  Property_Area  Loan_Status  LoanAmount_log  ApplicantIncome_log  \\\n",
       "0         Urban            1        4.852030             8.674026   \n",
       "1         Rural            0        4.852030             8.430109   \n",
       "2         Urban            1        4.189655             8.006368   \n",
       "\n",
       "   CoapplicantIncome_log  \n",
       "0                0.00000  \n",
       "1                7.31854  \n",
       "2                0.00000  "
      ]
     },
     "execution_count": 92,
     "metadata": {},
     "output_type": "execute_result"
    }
   ],
   "source": [
    "train.head(3)"
   ]
  },
  {
   "cell_type": "code",
   "execution_count": 93,
   "id": "1bfda781",
   "metadata": {
    "scrolled": true
   },
   "outputs": [
    {
     "data": {
      "text/html": [
       "<div>\n",
       "<style scoped>\n",
       "    .dataframe tbody tr th:only-of-type {\n",
       "        vertical-align: middle;\n",
       "    }\n",
       "\n",
       "    .dataframe tbody tr th {\n",
       "        vertical-align: top;\n",
       "    }\n",
       "\n",
       "    .dataframe thead th {\n",
       "        text-align: right;\n",
       "    }\n",
       "</style>\n",
       "<table border=\"1\" class=\"dataframe\">\n",
       "  <thead>\n",
       "    <tr style=\"text-align: right;\">\n",
       "      <th></th>\n",
       "      <th>Gender</th>\n",
       "      <th>Married</th>\n",
       "      <th>Dependents</th>\n",
       "      <th>Education</th>\n",
       "      <th>Self_Employed</th>\n",
       "      <th>ApplicantIncome</th>\n",
       "      <th>CoapplicantIncome</th>\n",
       "      <th>LoanAmount</th>\n",
       "      <th>Loan_Amount_Term</th>\n",
       "      <th>Credit_History</th>\n",
       "      <th>Property_Area</th>\n",
       "      <th>LoanAmount_log</th>\n",
       "      <th>ApplicantIncome_log</th>\n",
       "      <th>CoapplicantIncome_log</th>\n",
       "    </tr>\n",
       "  </thead>\n",
       "  <tbody>\n",
       "    <tr>\n",
       "      <th>0</th>\n",
       "      <td>Male</td>\n",
       "      <td>No</td>\n",
       "      <td>0</td>\n",
       "      <td>Graduate</td>\n",
       "      <td>No</td>\n",
       "      <td>5849</td>\n",
       "      <td>1.0</td>\n",
       "      <td>128.0</td>\n",
       "      <td>360.0</td>\n",
       "      <td>1.0</td>\n",
       "      <td>Urban</td>\n",
       "      <td>4.852030</td>\n",
       "      <td>8.674026</td>\n",
       "      <td>0.00000</td>\n",
       "    </tr>\n",
       "    <tr>\n",
       "      <th>1</th>\n",
       "      <td>Male</td>\n",
       "      <td>Yes</td>\n",
       "      <td>1</td>\n",
       "      <td>Graduate</td>\n",
       "      <td>No</td>\n",
       "      <td>4583</td>\n",
       "      <td>1508.0</td>\n",
       "      <td>128.0</td>\n",
       "      <td>360.0</td>\n",
       "      <td>1.0</td>\n",
       "      <td>Rural</td>\n",
       "      <td>4.852030</td>\n",
       "      <td>8.430109</td>\n",
       "      <td>7.31854</td>\n",
       "    </tr>\n",
       "    <tr>\n",
       "      <th>2</th>\n",
       "      <td>Male</td>\n",
       "      <td>Yes</td>\n",
       "      <td>0</td>\n",
       "      <td>Graduate</td>\n",
       "      <td>Yes</td>\n",
       "      <td>3000</td>\n",
       "      <td>1.0</td>\n",
       "      <td>66.0</td>\n",
       "      <td>360.0</td>\n",
       "      <td>1.0</td>\n",
       "      <td>Urban</td>\n",
       "      <td>4.189655</td>\n",
       "      <td>8.006368</td>\n",
       "      <td>0.00000</td>\n",
       "    </tr>\n",
       "  </tbody>\n",
       "</table>\n",
       "</div>"
      ],
      "text/plain": [
       "  Gender Married Dependents Education Self_Employed  ApplicantIncome  \\\n",
       "0   Male      No          0  Graduate            No             5849   \n",
       "1   Male     Yes          1  Graduate            No             4583   \n",
       "2   Male     Yes          0  Graduate           Yes             3000   \n",
       "\n",
       "   CoapplicantIncome  LoanAmount  Loan_Amount_Term  Credit_History  \\\n",
       "0                1.0       128.0             360.0             1.0   \n",
       "1             1508.0       128.0             360.0             1.0   \n",
       "2                1.0        66.0             360.0             1.0   \n",
       "\n",
       "  Property_Area  LoanAmount_log  ApplicantIncome_log  CoapplicantIncome_log  \n",
       "0         Urban        4.852030             8.674026                0.00000  \n",
       "1         Rural        4.852030             8.430109                7.31854  \n",
       "2         Urban        4.189655             8.006368                0.00000  "
      ]
     },
     "execution_count": 93,
     "metadata": {},
     "output_type": "execute_result"
    }
   ],
   "source": [
    "X.head(3)"
   ]
  },
  {
   "cell_type": "code",
   "execution_count": 94,
   "id": "5c3f3cf7",
   "metadata": {},
   "outputs": [
    {
     "data": {
      "text/html": [
       "<div>\n",
       "<style scoped>\n",
       "    .dataframe tbody tr th:only-of-type {\n",
       "        vertical-align: middle;\n",
       "    }\n",
       "\n",
       "    .dataframe tbody tr th {\n",
       "        vertical-align: top;\n",
       "    }\n",
       "\n",
       "    .dataframe thead th {\n",
       "        text-align: right;\n",
       "    }\n",
       "</style>\n",
       "<table border=\"1\" class=\"dataframe\">\n",
       "  <thead>\n",
       "    <tr style=\"text-align: right;\">\n",
       "      <th></th>\n",
       "      <th>Gender</th>\n",
       "      <th>Married</th>\n",
       "      <th>Dependents</th>\n",
       "      <th>Education</th>\n",
       "      <th>Self_Employed</th>\n",
       "      <th>ApplicantIncome</th>\n",
       "      <th>CoapplicantIncome</th>\n",
       "      <th>LoanAmount</th>\n",
       "      <th>Loan_Amount_Term</th>\n",
       "      <th>Credit_History</th>\n",
       "      <th>Property_Area</th>\n",
       "      <th>LoanAmount_log</th>\n",
       "      <th>ApplicantIncome_log</th>\n",
       "      <th>CoapplicantIncome_log</th>\n",
       "    </tr>\n",
       "  </thead>\n",
       "  <tbody>\n",
       "    <tr>\n",
       "      <th>0</th>\n",
       "      <td>Male</td>\n",
       "      <td>Yes</td>\n",
       "      <td>0</td>\n",
       "      <td>Graduate</td>\n",
       "      <td>No</td>\n",
       "      <td>5720</td>\n",
       "      <td>1</td>\n",
       "      <td>110.0</td>\n",
       "      <td>360.0</td>\n",
       "      <td>1.0</td>\n",
       "      <td>Urban</td>\n",
       "      <td>4.700480</td>\n",
       "      <td>8.651724</td>\n",
       "      <td>0.000000</td>\n",
       "    </tr>\n",
       "    <tr>\n",
       "      <th>1</th>\n",
       "      <td>Male</td>\n",
       "      <td>Yes</td>\n",
       "      <td>1</td>\n",
       "      <td>Graduate</td>\n",
       "      <td>No</td>\n",
       "      <td>3076</td>\n",
       "      <td>1500</td>\n",
       "      <td>126.0</td>\n",
       "      <td>360.0</td>\n",
       "      <td>1.0</td>\n",
       "      <td>Urban</td>\n",
       "      <td>4.836282</td>\n",
       "      <td>8.031385</td>\n",
       "      <td>7.313220</td>\n",
       "    </tr>\n",
       "    <tr>\n",
       "      <th>2</th>\n",
       "      <td>Male</td>\n",
       "      <td>Yes</td>\n",
       "      <td>2</td>\n",
       "      <td>Graduate</td>\n",
       "      <td>No</td>\n",
       "      <td>5000</td>\n",
       "      <td>1800</td>\n",
       "      <td>208.0</td>\n",
       "      <td>360.0</td>\n",
       "      <td>1.0</td>\n",
       "      <td>Urban</td>\n",
       "      <td>5.337538</td>\n",
       "      <td>8.517193</td>\n",
       "      <td>7.495542</td>\n",
       "    </tr>\n",
       "  </tbody>\n",
       "</table>\n",
       "</div>"
      ],
      "text/plain": [
       "  Gender Married Dependents Education Self_Employed  ApplicantIncome  \\\n",
       "0   Male     Yes          0  Graduate            No             5720   \n",
       "1   Male     Yes          1  Graduate            No             3076   \n",
       "2   Male     Yes          2  Graduate            No             5000   \n",
       "\n",
       "   CoapplicantIncome  LoanAmount  Loan_Amount_Term  Credit_History  \\\n",
       "0                  1       110.0             360.0             1.0   \n",
       "1               1500       126.0             360.0             1.0   \n",
       "2               1800       208.0             360.0             1.0   \n",
       "\n",
       "  Property_Area  LoanAmount_log  ApplicantIncome_log  CoapplicantIncome_log  \n",
       "0         Urban        4.700480             8.651724               0.000000  \n",
       "1         Urban        4.836282             8.031385               7.313220  \n",
       "2         Urban        5.337538             8.517193               7.495542  "
      ]
     },
     "execution_count": 94,
     "metadata": {},
     "output_type": "execute_result"
    }
   ],
   "source": [
    "test.head(3)"
   ]
  },
  {
   "cell_type": "code",
   "execution_count": 95,
   "id": "d15d34d3",
   "metadata": {},
   "outputs": [],
   "source": [
    "# Making dummy variables\n",
    "X = pd.get_dummies(X)\n",
    "train = pd.get_dummies(train)\n",
    "test = pd.get_dummies(test)"
   ]
  },
  {
   "cell_type": "code",
   "execution_count": 96,
   "id": "6ae1c39a",
   "metadata": {},
   "outputs": [
    {
     "data": {
      "text/html": [
       "<div>\n",
       "<style scoped>\n",
       "    .dataframe tbody tr th:only-of-type {\n",
       "        vertical-align: middle;\n",
       "    }\n",
       "\n",
       "    .dataframe tbody tr th {\n",
       "        vertical-align: top;\n",
       "    }\n",
       "\n",
       "    .dataframe thead th {\n",
       "        text-align: right;\n",
       "    }\n",
       "</style>\n",
       "<table border=\"1\" class=\"dataframe\">\n",
       "  <thead>\n",
       "    <tr style=\"text-align: right;\">\n",
       "      <th></th>\n",
       "      <th>ApplicantIncome</th>\n",
       "      <th>CoapplicantIncome</th>\n",
       "      <th>LoanAmount</th>\n",
       "      <th>Loan_Amount_Term</th>\n",
       "      <th>Credit_History</th>\n",
       "      <th>Loan_Status</th>\n",
       "      <th>LoanAmount_log</th>\n",
       "      <th>ApplicantIncome_log</th>\n",
       "      <th>CoapplicantIncome_log</th>\n",
       "      <th>Gender_Female</th>\n",
       "      <th>...</th>\n",
       "      <th>Dependents_1</th>\n",
       "      <th>Dependents_2</th>\n",
       "      <th>Dependents_3</th>\n",
       "      <th>Education_Graduate</th>\n",
       "      <th>Education_Not Graduate</th>\n",
       "      <th>Self_Employed_No</th>\n",
       "      <th>Self_Employed_Yes</th>\n",
       "      <th>Property_Area_Rural</th>\n",
       "      <th>Property_Area_Semiurban</th>\n",
       "      <th>Property_Area_Urban</th>\n",
       "    </tr>\n",
       "  </thead>\n",
       "  <tbody>\n",
       "    <tr>\n",
       "      <th>0</th>\n",
       "      <td>5849</td>\n",
       "      <td>1.0</td>\n",
       "      <td>128.0</td>\n",
       "      <td>360.0</td>\n",
       "      <td>1.0</td>\n",
       "      <td>1</td>\n",
       "      <td>4.852030</td>\n",
       "      <td>8.674026</td>\n",
       "      <td>0.00000</td>\n",
       "      <td>0</td>\n",
       "      <td>...</td>\n",
       "      <td>0</td>\n",
       "      <td>0</td>\n",
       "      <td>0</td>\n",
       "      <td>1</td>\n",
       "      <td>0</td>\n",
       "      <td>1</td>\n",
       "      <td>0</td>\n",
       "      <td>0</td>\n",
       "      <td>0</td>\n",
       "      <td>1</td>\n",
       "    </tr>\n",
       "    <tr>\n",
       "      <th>1</th>\n",
       "      <td>4583</td>\n",
       "      <td>1508.0</td>\n",
       "      <td>128.0</td>\n",
       "      <td>360.0</td>\n",
       "      <td>1.0</td>\n",
       "      <td>0</td>\n",
       "      <td>4.852030</td>\n",
       "      <td>8.430109</td>\n",
       "      <td>7.31854</td>\n",
       "      <td>0</td>\n",
       "      <td>...</td>\n",
       "      <td>1</td>\n",
       "      <td>0</td>\n",
       "      <td>0</td>\n",
       "      <td>1</td>\n",
       "      <td>0</td>\n",
       "      <td>1</td>\n",
       "      <td>0</td>\n",
       "      <td>1</td>\n",
       "      <td>0</td>\n",
       "      <td>0</td>\n",
       "    </tr>\n",
       "    <tr>\n",
       "      <th>2</th>\n",
       "      <td>3000</td>\n",
       "      <td>1.0</td>\n",
       "      <td>66.0</td>\n",
       "      <td>360.0</td>\n",
       "      <td>1.0</td>\n",
       "      <td>1</td>\n",
       "      <td>4.189655</td>\n",
       "      <td>8.006368</td>\n",
       "      <td>0.00000</td>\n",
       "      <td>0</td>\n",
       "      <td>...</td>\n",
       "      <td>0</td>\n",
       "      <td>0</td>\n",
       "      <td>0</td>\n",
       "      <td>1</td>\n",
       "      <td>0</td>\n",
       "      <td>0</td>\n",
       "      <td>1</td>\n",
       "      <td>0</td>\n",
       "      <td>0</td>\n",
       "      <td>1</td>\n",
       "    </tr>\n",
       "  </tbody>\n",
       "</table>\n",
       "<p>3 rows × 24 columns</p>\n",
       "</div>"
      ],
      "text/plain": [
       "   ApplicantIncome  CoapplicantIncome  LoanAmount  Loan_Amount_Term  \\\n",
       "0             5849                1.0       128.0             360.0   \n",
       "1             4583             1508.0       128.0             360.0   \n",
       "2             3000                1.0        66.0             360.0   \n",
       "\n",
       "   Credit_History  Loan_Status  LoanAmount_log  ApplicantIncome_log  \\\n",
       "0             1.0            1        4.852030             8.674026   \n",
       "1             1.0            0        4.852030             8.430109   \n",
       "2             1.0            1        4.189655             8.006368   \n",
       "\n",
       "   CoapplicantIncome_log  Gender_Female  ...  Dependents_1  Dependents_2  \\\n",
       "0                0.00000              0  ...             0             0   \n",
       "1                7.31854              0  ...             1             0   \n",
       "2                0.00000              0  ...             0             0   \n",
       "\n",
       "   Dependents_3  Education_Graduate  Education_Not Graduate  Self_Employed_No  \\\n",
       "0             0                   1                       0                 1   \n",
       "1             0                   1                       0                 1   \n",
       "2             0                   1                       0                 0   \n",
       "\n",
       "   Self_Employed_Yes  Property_Area_Rural  Property_Area_Semiurban  \\\n",
       "0                  0                    0                        0   \n",
       "1                  0                    1                        0   \n",
       "2                  1                    0                        0   \n",
       "\n",
       "   Property_Area_Urban  \n",
       "0                    1  \n",
       "1                    0  \n",
       "2                    1  \n",
       "\n",
       "[3 rows x 24 columns]"
      ]
     },
     "execution_count": 96,
     "metadata": {},
     "output_type": "execute_result"
    }
   ],
   "source": [
    "# with dummy variables\n",
    "train.head(3)"
   ]
  },
  {
   "cell_type": "code",
   "execution_count": 97,
   "id": "a21b9eeb",
   "metadata": {},
   "outputs": [
    {
     "data": {
      "text/html": [
       "<div>\n",
       "<style scoped>\n",
       "    .dataframe tbody tr th:only-of-type {\n",
       "        vertical-align: middle;\n",
       "    }\n",
       "\n",
       "    .dataframe tbody tr th {\n",
       "        vertical-align: top;\n",
       "    }\n",
       "\n",
       "    .dataframe thead th {\n",
       "        text-align: right;\n",
       "    }\n",
       "</style>\n",
       "<table border=\"1\" class=\"dataframe\">\n",
       "  <thead>\n",
       "    <tr style=\"text-align: right;\">\n",
       "      <th></th>\n",
       "      <th>ApplicantIncome</th>\n",
       "      <th>CoapplicantIncome</th>\n",
       "      <th>LoanAmount</th>\n",
       "      <th>Loan_Amount_Term</th>\n",
       "      <th>Credit_History</th>\n",
       "      <th>LoanAmount_log</th>\n",
       "      <th>ApplicantIncome_log</th>\n",
       "      <th>CoapplicantIncome_log</th>\n",
       "      <th>Gender_Female</th>\n",
       "      <th>Gender_Male</th>\n",
       "      <th>...</th>\n",
       "      <th>Dependents_1</th>\n",
       "      <th>Dependents_2</th>\n",
       "      <th>Dependents_3</th>\n",
       "      <th>Education_Graduate</th>\n",
       "      <th>Education_Not Graduate</th>\n",
       "      <th>Self_Employed_No</th>\n",
       "      <th>Self_Employed_Yes</th>\n",
       "      <th>Property_Area_Rural</th>\n",
       "      <th>Property_Area_Semiurban</th>\n",
       "      <th>Property_Area_Urban</th>\n",
       "    </tr>\n",
       "  </thead>\n",
       "  <tbody>\n",
       "    <tr>\n",
       "      <th>0</th>\n",
       "      <td>5849</td>\n",
       "      <td>1.0</td>\n",
       "      <td>128.0</td>\n",
       "      <td>360.0</td>\n",
       "      <td>1.0</td>\n",
       "      <td>4.852030</td>\n",
       "      <td>8.674026</td>\n",
       "      <td>0.00000</td>\n",
       "      <td>0</td>\n",
       "      <td>1</td>\n",
       "      <td>...</td>\n",
       "      <td>0</td>\n",
       "      <td>0</td>\n",
       "      <td>0</td>\n",
       "      <td>1</td>\n",
       "      <td>0</td>\n",
       "      <td>1</td>\n",
       "      <td>0</td>\n",
       "      <td>0</td>\n",
       "      <td>0</td>\n",
       "      <td>1</td>\n",
       "    </tr>\n",
       "    <tr>\n",
       "      <th>1</th>\n",
       "      <td>4583</td>\n",
       "      <td>1508.0</td>\n",
       "      <td>128.0</td>\n",
       "      <td>360.0</td>\n",
       "      <td>1.0</td>\n",
       "      <td>4.852030</td>\n",
       "      <td>8.430109</td>\n",
       "      <td>7.31854</td>\n",
       "      <td>0</td>\n",
       "      <td>1</td>\n",
       "      <td>...</td>\n",
       "      <td>1</td>\n",
       "      <td>0</td>\n",
       "      <td>0</td>\n",
       "      <td>1</td>\n",
       "      <td>0</td>\n",
       "      <td>1</td>\n",
       "      <td>0</td>\n",
       "      <td>1</td>\n",
       "      <td>0</td>\n",
       "      <td>0</td>\n",
       "    </tr>\n",
       "    <tr>\n",
       "      <th>2</th>\n",
       "      <td>3000</td>\n",
       "      <td>1.0</td>\n",
       "      <td>66.0</td>\n",
       "      <td>360.0</td>\n",
       "      <td>1.0</td>\n",
       "      <td>4.189655</td>\n",
       "      <td>8.006368</td>\n",
       "      <td>0.00000</td>\n",
       "      <td>0</td>\n",
       "      <td>1</td>\n",
       "      <td>...</td>\n",
       "      <td>0</td>\n",
       "      <td>0</td>\n",
       "      <td>0</td>\n",
       "      <td>1</td>\n",
       "      <td>0</td>\n",
       "      <td>0</td>\n",
       "      <td>1</td>\n",
       "      <td>0</td>\n",
       "      <td>0</td>\n",
       "      <td>1</td>\n",
       "    </tr>\n",
       "  </tbody>\n",
       "</table>\n",
       "<p>3 rows × 23 columns</p>\n",
       "</div>"
      ],
      "text/plain": [
       "   ApplicantIncome  CoapplicantIncome  LoanAmount  Loan_Amount_Term  \\\n",
       "0             5849                1.0       128.0             360.0   \n",
       "1             4583             1508.0       128.0             360.0   \n",
       "2             3000                1.0        66.0             360.0   \n",
       "\n",
       "   Credit_History  LoanAmount_log  ApplicantIncome_log  CoapplicantIncome_log  \\\n",
       "0             1.0        4.852030             8.674026                0.00000   \n",
       "1             1.0        4.852030             8.430109                7.31854   \n",
       "2             1.0        4.189655             8.006368                0.00000   \n",
       "\n",
       "   Gender_Female  Gender_Male  ...  Dependents_1  Dependents_2  Dependents_3  \\\n",
       "0              0            1  ...             0             0             0   \n",
       "1              0            1  ...             1             0             0   \n",
       "2              0            1  ...             0             0             0   \n",
       "\n",
       "   Education_Graduate  Education_Not Graduate  Self_Employed_No  \\\n",
       "0                   1                       0                 1   \n",
       "1                   1                       0                 1   \n",
       "2                   1                       0                 0   \n",
       "\n",
       "   Self_Employed_Yes  Property_Area_Rural  Property_Area_Semiurban  \\\n",
       "0                  0                    0                        0   \n",
       "1                  0                    1                        0   \n",
       "2                  1                    0                        0   \n",
       "\n",
       "   Property_Area_Urban  \n",
       "0                    1  \n",
       "1                    0  \n",
       "2                    1  \n",
       "\n",
       "[3 rows x 23 columns]"
      ]
     },
     "execution_count": 97,
     "metadata": {},
     "output_type": "execute_result"
    }
   ],
   "source": [
    "# with dummy variables\n",
    "X.head(3)"
   ]
  },
  {
   "cell_type": "code",
   "execution_count": 98,
   "id": "db3a8f23",
   "metadata": {},
   "outputs": [
    {
     "data": {
      "text/html": [
       "<div>\n",
       "<style scoped>\n",
       "    .dataframe tbody tr th:only-of-type {\n",
       "        vertical-align: middle;\n",
       "    }\n",
       "\n",
       "    .dataframe tbody tr th {\n",
       "        vertical-align: top;\n",
       "    }\n",
       "\n",
       "    .dataframe thead th {\n",
       "        text-align: right;\n",
       "    }\n",
       "</style>\n",
       "<table border=\"1\" class=\"dataframe\">\n",
       "  <thead>\n",
       "    <tr style=\"text-align: right;\">\n",
       "      <th></th>\n",
       "      <th>ApplicantIncome</th>\n",
       "      <th>CoapplicantIncome</th>\n",
       "      <th>LoanAmount</th>\n",
       "      <th>Loan_Amount_Term</th>\n",
       "      <th>Credit_History</th>\n",
       "      <th>LoanAmount_log</th>\n",
       "      <th>ApplicantIncome_log</th>\n",
       "      <th>CoapplicantIncome_log</th>\n",
       "      <th>Gender_Female</th>\n",
       "      <th>Gender_Male</th>\n",
       "      <th>...</th>\n",
       "      <th>Dependents_1</th>\n",
       "      <th>Dependents_2</th>\n",
       "      <th>Dependents_3</th>\n",
       "      <th>Education_Graduate</th>\n",
       "      <th>Education_Not Graduate</th>\n",
       "      <th>Self_Employed_No</th>\n",
       "      <th>Self_Employed_Yes</th>\n",
       "      <th>Property_Area_Rural</th>\n",
       "      <th>Property_Area_Semiurban</th>\n",
       "      <th>Property_Area_Urban</th>\n",
       "    </tr>\n",
       "  </thead>\n",
       "  <tbody>\n",
       "    <tr>\n",
       "      <th>0</th>\n",
       "      <td>5720</td>\n",
       "      <td>1</td>\n",
       "      <td>110.0</td>\n",
       "      <td>360.0</td>\n",
       "      <td>1.0</td>\n",
       "      <td>4.700480</td>\n",
       "      <td>8.651724</td>\n",
       "      <td>0.000000</td>\n",
       "      <td>0</td>\n",
       "      <td>1</td>\n",
       "      <td>...</td>\n",
       "      <td>0</td>\n",
       "      <td>0</td>\n",
       "      <td>0</td>\n",
       "      <td>1</td>\n",
       "      <td>0</td>\n",
       "      <td>1</td>\n",
       "      <td>0</td>\n",
       "      <td>0</td>\n",
       "      <td>0</td>\n",
       "      <td>1</td>\n",
       "    </tr>\n",
       "    <tr>\n",
       "      <th>1</th>\n",
       "      <td>3076</td>\n",
       "      <td>1500</td>\n",
       "      <td>126.0</td>\n",
       "      <td>360.0</td>\n",
       "      <td>1.0</td>\n",
       "      <td>4.836282</td>\n",
       "      <td>8.031385</td>\n",
       "      <td>7.313220</td>\n",
       "      <td>0</td>\n",
       "      <td>1</td>\n",
       "      <td>...</td>\n",
       "      <td>1</td>\n",
       "      <td>0</td>\n",
       "      <td>0</td>\n",
       "      <td>1</td>\n",
       "      <td>0</td>\n",
       "      <td>1</td>\n",
       "      <td>0</td>\n",
       "      <td>0</td>\n",
       "      <td>0</td>\n",
       "      <td>1</td>\n",
       "    </tr>\n",
       "    <tr>\n",
       "      <th>2</th>\n",
       "      <td>5000</td>\n",
       "      <td>1800</td>\n",
       "      <td>208.0</td>\n",
       "      <td>360.0</td>\n",
       "      <td>1.0</td>\n",
       "      <td>5.337538</td>\n",
       "      <td>8.517193</td>\n",
       "      <td>7.495542</td>\n",
       "      <td>0</td>\n",
       "      <td>1</td>\n",
       "      <td>...</td>\n",
       "      <td>0</td>\n",
       "      <td>1</td>\n",
       "      <td>0</td>\n",
       "      <td>1</td>\n",
       "      <td>0</td>\n",
       "      <td>1</td>\n",
       "      <td>0</td>\n",
       "      <td>0</td>\n",
       "      <td>0</td>\n",
       "      <td>1</td>\n",
       "    </tr>\n",
       "  </tbody>\n",
       "</table>\n",
       "<p>3 rows × 23 columns</p>\n",
       "</div>"
      ],
      "text/plain": [
       "   ApplicantIncome  CoapplicantIncome  LoanAmount  Loan_Amount_Term  \\\n",
       "0             5720                  1       110.0             360.0   \n",
       "1             3076               1500       126.0             360.0   \n",
       "2             5000               1800       208.0             360.0   \n",
       "\n",
       "   Credit_History  LoanAmount_log  ApplicantIncome_log  CoapplicantIncome_log  \\\n",
       "0             1.0        4.700480             8.651724               0.000000   \n",
       "1             1.0        4.836282             8.031385               7.313220   \n",
       "2             1.0        5.337538             8.517193               7.495542   \n",
       "\n",
       "   Gender_Female  Gender_Male  ...  Dependents_1  Dependents_2  Dependents_3  \\\n",
       "0              0            1  ...             0             0             0   \n",
       "1              0            1  ...             1             0             0   \n",
       "2              0            1  ...             0             1             0   \n",
       "\n",
       "   Education_Graduate  Education_Not Graduate  Self_Employed_No  \\\n",
       "0                   1                       0                 1   \n",
       "1                   1                       0                 1   \n",
       "2                   1                       0                 1   \n",
       "\n",
       "   Self_Employed_Yes  Property_Area_Rural  Property_Area_Semiurban  \\\n",
       "0                  0                    0                        0   \n",
       "1                  0                    0                        0   \n",
       "2                  0                    0                        0   \n",
       "\n",
       "   Property_Area_Urban  \n",
       "0                    1  \n",
       "1                    1  \n",
       "2                    1  \n",
       "\n",
       "[3 rows x 23 columns]"
      ]
     },
     "execution_count": 98,
     "metadata": {},
     "output_type": "execute_result"
    }
   ],
   "source": [
    "# with dummy variables\n",
    "test.head(3)"
   ]
  },
  {
   "cell_type": "markdown",
   "id": "8f7cc0c4",
   "metadata": {},
   "source": [
    "-- Will train the model on training dataset and make predictions for the test dataset.  \n",
    "-- We meed to validate our predictions. For that we will divide our train dataset into 2 parts; train and validation.  \n",
    "-- Usually the train part is 70 ~ 80% of data and the validation part is the remaining data.  \n",
    "-- We would train the model using the train part of the data and make predictions for the validation part.  \n",
    "-- Will use train_test_split function from sklearn to divide our train dataset."
   ]
  },
  {
   "cell_type": "code",
   "execution_count": 99,
   "id": "9d80282d",
   "metadata": {},
   "outputs": [],
   "source": [
    "from sklearn.model_selection import train_test_split"
   ]
  },
  {
   "cell_type": "code",
   "execution_count": 100,
   "id": "e5d9e2b5",
   "metadata": {},
   "outputs": [],
   "source": [
    "X_train, X_validate, y_train, y_validate = train_test_split(X, y, test_size = 0.3)"
   ]
  },
  {
   "cell_type": "code",
   "execution_count": 101,
   "id": "ea54dbb2",
   "metadata": {},
   "outputs": [],
   "source": [
    "# We now have divided data and can build our Logistic Regression model.\n",
    "from sklearn.linear_model import LogisticRegression\n",
    "from sklearn.metrics import accuracy_score"
   ]
  },
  {
   "cell_type": "code",
   "execution_count": 102,
   "id": "a3988e38",
   "metadata": {},
   "outputs": [
    {
     "data": {
      "text/plain": [
       "LogisticRegression()"
      ]
     },
     "execution_count": 102,
     "metadata": {},
     "output_type": "execute_result"
    }
   ],
   "source": [
    "model = LogisticRegression()\n",
    "model.fit(X_train, y_train)"
   ]
  },
  {
   "cell_type": "code",
   "execution_count": 103,
   "id": "0b4dcb03",
   "metadata": {},
   "outputs": [],
   "source": [
    "# Predict the Loan_Status for validation set\n",
    "pred_validate = model.predict(X_validate)"
   ]
  },
  {
   "cell_type": "code",
   "execution_count": 104,
   "id": "5930aae9",
   "metadata": {},
   "outputs": [
    {
     "data": {
      "text/plain": [
       "array([1, 1, 1, 1, 1, 1, 1, 1, 1, 1, 1, 1, 1, 1, 1, 1, 1, 1, 1, 1, 1, 1,\n",
       "       1, 1, 1, 1, 1, 1, 1, 1, 1, 1, 1, 1, 1, 1, 1, 1, 1, 1, 1, 1, 1, 1,\n",
       "       1, 1, 1, 1, 1, 1, 1, 0, 1, 1, 1, 1, 1, 1, 1, 1, 1, 1, 1, 1, 1, 1,\n",
       "       1, 1, 1, 1, 1, 1, 1, 1, 1, 1, 1, 1, 1, 1, 1, 1, 1, 1, 1, 1, 1, 1,\n",
       "       1, 1, 1, 1, 1, 1, 1, 1, 1, 1, 1, 1, 1, 1, 1, 1, 1, 1, 1, 1, 1, 1,\n",
       "       1, 1, 1, 1, 1, 1, 1, 1, 1, 1, 1, 1, 1, 1, 1, 1, 1, 1, 1, 1, 1, 1,\n",
       "       1, 1, 1, 1, 1, 1, 1, 1, 1, 1, 1, 1, 1, 1, 1, 1, 1, 1, 1, 1, 1, 1,\n",
       "       1, 1, 1, 1, 1, 1, 1, 1, 1, 1, 1, 1, 1, 1, 1, 1, 1, 1, 1, 1, 1, 1,\n",
       "       1, 1, 1, 1, 1, 1, 0, 1, 1], dtype=int64)"
      ]
     },
     "execution_count": 104,
     "metadata": {},
     "output_type": "execute_result"
    }
   ],
   "source": [
    "pred_validate"
   ]
  },
  {
   "cell_type": "code",
   "execution_count": 105,
   "id": "1ac196c8",
   "metadata": {},
   "outputs": [
    {
     "data": {
      "text/plain": [
       "0.6648648648648648"
      ]
     },
     "execution_count": 105,
     "metadata": {},
     "output_type": "execute_result"
    }
   ],
   "source": [
    "# calculate how accurate the predictions are\n",
    "accuracy_score(y_validate, pred_validate)"
   ]
  },
  {
   "cell_type": "markdown",
   "id": "3d8ad934",
   "metadata": {},
   "source": [
    "-- Our predictions are about 77% accurate.  \n",
    "-- This mean that we identified 77% of the loan status correctly."
   ]
  },
  {
   "cell_type": "code",
   "execution_count": 106,
   "id": "eedaafbb",
   "metadata": {},
   "outputs": [],
   "source": [
    "# Make predictions for the test dataset\n",
    "pred_test = model.predict(test)"
   ]
  },
  {
   "cell_type": "code",
   "execution_count": 107,
   "id": "6f08fb02",
   "metadata": {},
   "outputs": [],
   "source": [
    "# Importing the submission file that we have to submit on the solution checker.\n",
    "# submission = pd.read_csv('Sample_Submission_ZAuTl80_FK3zQHh.csv')\n",
    "# submission = pd.read_csv('Sample_Submission.csv')"
   ]
  },
  {
   "cell_type": "markdown",
   "id": "3d7743d5",
   "metadata": {},
   "source": [
    "-- We need the Loan_ID and corresponding Loan_Status for the final submission.  \n",
    "-- We will fill these columns with the `Loan_ID of test` dataset and predictions that we made that is `pred_test`."
   ]
  },
  {
   "cell_type": "code",
   "execution_count": 108,
   "id": "f596261b",
   "metadata": {},
   "outputs": [],
   "source": [
    "# Creating submission dataframe\n",
    "submission = pd.DataFrame()"
   ]
  },
  {
   "cell_type": "code",
   "execution_count": 109,
   "id": "7296c3df",
   "metadata": {},
   "outputs": [],
   "source": [
    "submission['Loan_Status'] = pred_test\n",
    "submission['Loan_ID'] = test_original['Loan_ID']"
   ]
  },
  {
   "cell_type": "code",
   "execution_count": 110,
   "id": "6b9cd5d5",
   "metadata": {},
   "outputs": [
    {
     "data": {
      "text/html": [
       "<div>\n",
       "<style scoped>\n",
       "    .dataframe tbody tr th:only-of-type {\n",
       "        vertical-align: middle;\n",
       "    }\n",
       "\n",
       "    .dataframe tbody tr th {\n",
       "        vertical-align: top;\n",
       "    }\n",
       "\n",
       "    .dataframe thead th {\n",
       "        text-align: right;\n",
       "    }\n",
       "</style>\n",
       "<table border=\"1\" class=\"dataframe\">\n",
       "  <thead>\n",
       "    <tr style=\"text-align: right;\">\n",
       "      <th></th>\n",
       "      <th>Loan_Status</th>\n",
       "      <th>Loan_ID</th>\n",
       "    </tr>\n",
       "  </thead>\n",
       "  <tbody>\n",
       "    <tr>\n",
       "      <th>0</th>\n",
       "      <td>1</td>\n",
       "      <td>LP001015</td>\n",
       "    </tr>\n",
       "    <tr>\n",
       "      <th>1</th>\n",
       "      <td>1</td>\n",
       "      <td>LP001022</td>\n",
       "    </tr>\n",
       "    <tr>\n",
       "      <th>2</th>\n",
       "      <td>1</td>\n",
       "      <td>LP001031</td>\n",
       "    </tr>\n",
       "    <tr>\n",
       "      <th>3</th>\n",
       "      <td>1</td>\n",
       "      <td>LP001035</td>\n",
       "    </tr>\n",
       "    <tr>\n",
       "      <th>4</th>\n",
       "      <td>1</td>\n",
       "      <td>LP001051</td>\n",
       "    </tr>\n",
       "  </tbody>\n",
       "</table>\n",
       "</div>"
      ],
      "text/plain": [
       "   Loan_Status   Loan_ID\n",
       "0            1  LP001015\n",
       "1            1  LP001022\n",
       "2            1  LP001031\n",
       "3            1  LP001035\n",
       "4            1  LP001051"
      ]
     },
     "execution_count": 110,
     "metadata": {},
     "output_type": "execute_result"
    }
   ],
   "source": [
    "submission.head()"
   ]
  },
  {
   "cell_type": "code",
   "execution_count": 111,
   "id": "542137f9",
   "metadata": {},
   "outputs": [],
   "source": [
    "# We need predictions in Y and N, so will convert 1 and 0 to Y and N.\n",
    "submission['Loan_Status'].replace(0, 'N', inplace = True)\n",
    "submission['Loan_Status'].replace(1, 'Y', inplace = True)"
   ]
  },
  {
   "cell_type": "code",
   "execution_count": 112,
   "id": "a58bfde7",
   "metadata": {},
   "outputs": [
    {
     "data": {
      "text/html": [
       "<div>\n",
       "<style scoped>\n",
       "    .dataframe tbody tr th:only-of-type {\n",
       "        vertical-align: middle;\n",
       "    }\n",
       "\n",
       "    .dataframe tbody tr th {\n",
       "        vertical-align: top;\n",
       "    }\n",
       "\n",
       "    .dataframe thead th {\n",
       "        text-align: right;\n",
       "    }\n",
       "</style>\n",
       "<table border=\"1\" class=\"dataframe\">\n",
       "  <thead>\n",
       "    <tr style=\"text-align: right;\">\n",
       "      <th></th>\n",
       "      <th>Loan_Status</th>\n",
       "      <th>Loan_ID</th>\n",
       "    </tr>\n",
       "  </thead>\n",
       "  <tbody>\n",
       "    <tr>\n",
       "      <th>0</th>\n",
       "      <td>Y</td>\n",
       "      <td>LP001015</td>\n",
       "    </tr>\n",
       "    <tr>\n",
       "      <th>1</th>\n",
       "      <td>Y</td>\n",
       "      <td>LP001022</td>\n",
       "    </tr>\n",
       "    <tr>\n",
       "      <th>2</th>\n",
       "      <td>Y</td>\n",
       "      <td>LP001031</td>\n",
       "    </tr>\n",
       "    <tr>\n",
       "      <th>3</th>\n",
       "      <td>Y</td>\n",
       "      <td>LP001035</td>\n",
       "    </tr>\n",
       "    <tr>\n",
       "      <th>4</th>\n",
       "      <td>Y</td>\n",
       "      <td>LP001051</td>\n",
       "    </tr>\n",
       "  </tbody>\n",
       "</table>\n",
       "</div>"
      ],
      "text/plain": [
       "  Loan_Status   Loan_ID\n",
       "0           Y  LP001015\n",
       "1           Y  LP001022\n",
       "2           Y  LP001031\n",
       "3           Y  LP001035\n",
       "4           Y  LP001051"
      ]
     },
     "execution_count": 112,
     "metadata": {},
     "output_type": "execute_result"
    }
   ],
   "source": [
    "submission.head()"
   ]
  },
  {
   "cell_type": "code",
   "execution_count": 113,
   "id": "ad9db3c3",
   "metadata": {},
   "outputs": [],
   "source": [
    "submission.to_csv('Sample_Submission.csv', index=False)\n",
    "submission.to_csv('logistic.csv', index=False)"
   ]
  },
  {
   "cell_type": "markdown",
   "id": "ac4b368d",
   "metadata": {},
   "source": [
    "## 9. Logistic Regression using Stratified K-Folds cross validation\n",
    "* After we build our model, we don't know how good our model will be on the new data. We can check this with a technique called Validation. In this technique, we separate some % of the data (usually 20 ~ 30%) from the original dataset and train our model on the 70 ~ 80% of the data only. After training, we test our data on the separated 20 ~ 30% of the data and see how our model performs on this unseen dataset.  \n",
    "* The following are some of the common method for this technique (validation):  \n",
    "  -- The validation set approach  \n",
    "  -- k-fold cross validation  \n",
    "  -- Leave one out cross validation (LOOCV)  \n",
    "  -- Stratified k-fold cross validation\n",
    "\n",
    "* More reading on validation techniques: https://www.analyticsvidhya.com/blog/2018/05/improve-model-performance-cross-validation-in-python-r/  \n",
    "* We will use Stratified k-fold cross validation for our model"
   ]
  },
  {
   "cell_type": "code",
   "execution_count": 114,
   "id": "212a721d",
   "metadata": {},
   "outputs": [],
   "source": [
    "# Import sklearn library\n",
    "from sklearn.model_selection import StratifiedKFold"
   ]
  },
  {
   "cell_type": "markdown",
   "id": "02a20f1b",
   "metadata": {},
   "source": [
    "We now will make a cross validation logistic model with stratified 5 folds and make predictions for the test dataset."
   ]
  },
  {
   "cell_type": "code",
   "execution_count": 115,
   "id": "e1079d7d",
   "metadata": {},
   "outputs": [
    {
     "name": "stdout",
     "output_type": "stream",
     "text": [
      "\n",
      "1 of kfold 5 accuracy_score 0.7723577235772358\n",
      "\n",
      "2 of kfold 5 accuracy_score 0.7642276422764228\n",
      "\n",
      "3 of kfold 5 accuracy_score 0.6829268292682927\n",
      "\n",
      "4 of kfold 5 accuracy_score 0.7886178861788617\n",
      "\n",
      "5 of kfold 5 accuracy_score 0.7622950819672131\n",
      "\n",
      "The mean validation accuracy for this model is 0.7540850326536053.\n"
     ]
    }
   ],
   "source": [
    "i = 1\n",
    "total_score = 0\n",
    "\n",
    "kf = StratifiedKFold(n_splits = 5, random_state = 1, shuffle = True)\n",
    "\n",
    "for train_index, test_index in kf.split(X, y):\n",
    "    print('\\n{} of kfold {}'.format(i, kf.n_splits), end = '')\n",
    "\n",
    "    xtrain, xvalidate = X.iloc[train_index], X.iloc[test_index]\n",
    "    ytrain, yvalidate = y.iloc[train_index], y.iloc[test_index]\n",
    "    \n",
    "    model = LogisticRegression(random_state = 1)\n",
    "    model.fit(xtrain, ytrain)\n",
    "    pred_test = model.predict(xvalidate)\n",
    "        \n",
    "    score = accuracy_score(yvalidate, pred_test)\n",
    "    print(' accuracy_score', score)\n",
    "\n",
    "    total_score = total_score + score\n",
    "    i += 1\n",
    "    \n",
    "pred_test = model.predict(test)\n",
    "pred = model.predict_proba(xvalidate)[:,1]\n",
    "    \n",
    "print('\\nThe mean validation accuracy for this model is {}.'.format(total_score / (i - 1)))"
   ]
  },
  {
   "cell_type": "code",
   "execution_count": 116,
   "id": "6c5b3ed0",
   "metadata": {},
   "outputs": [
    {
     "data": {
      "image/png": "[encoded data removed]",
      "text/plain": [
       "<Figure size 720x360 with 1 Axes>"
      ]
     },
     "metadata": {
      "needs_background": "light"
     },
     "output_type": "display_data"
    }
   ],
   "source": [
    "# from sklearn import metrics, fpr, tpr\n",
    "from sklearn import metrics\n",
    "from sklearn.metrics import roc_curve\n",
    "\n",
    "_ = metrics.roc_curve(yvalidate, pred)\n",
    "auc = metrics.roc_auc_score(yvalidate, pred)\n",
    "\n",
    "fpr, tpr, thresholds = roc_curve(yvalidate, pred)\n",
    "\n",
    "plt.figure(figsize = (10,5))\n",
    "plt.plot(fpr, tpr, label = 'validation, auc=' + str(auc))\n",
    "plt.xlabel('False Positive Rate')\n",
    "plt.ylabel('True Positive Rate')\n",
    "plt.legend(loc = 4)\n",
    "plt.show()"
   ]
  },
  {
   "cell_type": "markdown",
   "id": "4f72020f",
   "metadata": {},
   "source": [
    "We got an auc value of 0.66."
   ]
  },
  {
   "cell_type": "markdown",
   "id": "10a57657",
   "metadata": {},
   "source": [
    "## 10. Feature Engineering\n",
    "* Based on the domain knowledge, we can come up with new features that might affect the target variable.   \n",
    "* We will create the following 3 new features.  \n",
    "  -- **Total Income:** We will combine the Applicant and Coapplicant income. We have seen that if the total income is low, chances of loan approval is low.  \n",
    "  -- **EMI** (Equated Monthly Installment): It is the monthly installment to be paid by the applicant to repay the loan. The idea behind creating this variable is that people with high EMI would find it difficult to pay back the loan.  \n",
    "      -- EMI = loan amount / loan amount term  \n",
    "  -- **Balance Income:** It is the remaining income after the EMI has been paid. The idea behind creating this variable is that if this value is high, the chances that a person will repay the loan are high which would increase the chances of loan approval.  "
   ]
  },
  {
   "cell_type": "code",
   "execution_count": 120,
   "id": "1543eb73",
   "metadata": {},
   "outputs": [],
   "source": [
    "train['Total_Income'] = train['ApplicantIncome'] + train['CoapplicantIncome']\n",
    "test['Total_Income'] = test['ApplicantIncome'] + test['CoapplicantIncome']"
   ]
  },
  {
   "cell_type": "code",
   "execution_count": 122,
   "id": "cfdd2ebb",
   "metadata": {},
   "outputs": [
    {
     "data": {
      "image/png": "[encoded data removed]",
      "text/plain": [
       "<Figure size 720x360 with 1 Axes>"
      ]
     },
     "metadata": {
      "needs_background": "light"
     },
     "output_type": "display_data"
    }
   ],
   "source": [
    "# Checking the distribution of Total_Income\n",
    "plt.figure(figsize=(10,5))\n",
    "sns.distplot(train['Total_Income']).set(title = 'Total_Income')"
   ]
  },
  {
   "cell_type": "markdown",
   "id": "c63246f0",
   "metadata": {},
   "source": [
    "* We can infer from the above plot that the Total_Income is right skewed and not normally distributed.  \n",
    "* We will take the log transformation to remove the skewness and make the distribution normal. It doesn't affect the smaller values much, but reduces the larger values considerably which would make our distribution similar to normal distribution.  "
   ]
  },
  {
   "cell_type": "code",
   "execution_count": 126,
   "id": "df700929",
   "metadata": {},
   "outputs": [],
   "source": [
    "train['Total_Income_log'] = np.log(train['Total_Income'])\n",
    "test['Total_Income_log'] = np.log(test['Total_Income'])"
   ]
  },
  {
   "cell_type": "code",
   "execution_count": 127,
   "id": "a3e043a7",
   "metadata": {},
   "outputs": [
    {
     "data": {
      "text/plain": [
       "[Text(0.5, 1.0, 'Total_Income_log')]"
      ]
     },
     "execution_count": 127,
     "metadata": {},
     "output_type": "execute_result"
    },
    {
     "data": {
      "image/png": "[encoded data removed]",
      "text/plain": [
       "<Figure size 720x360 with 1 Axes>"
      ]
     },
     "metadata": {
      "needs_background": "light"
     },
     "output_type": "display_data"
    }
   ],
   "source": [
    "# Checking the distribution of Total_Income after log transformation\n",
    "plt.figure(figsize=(10,5))\n",
    "sns.distplot(train['Total_Income_log']).set(title = 'Total_Income_log')"
   ]
  },
  {
   "cell_type": "markdown",
   "id": "8883aa46",
   "metadata": {},
   "source": [
    "* The distribution looks much closer to normal now.  \n",
    "* We will create the EMI feature now."
   ]
  },
  {
   "cell_type": "code",
   "execution_count": 128,
   "id": "749a56bf",
   "metadata": {},
   "outputs": [],
   "source": [
    "train['EMI'] = train['LoanAmount'] / train['Loan_Amount_Term']\n",
    "test['EMI'] = test['LoanAmount'] / test['Loan_Amount_Term']"
   ]
  },
  {
   "cell_type": "code",
   "execution_count": 129,
   "id": "20806c17",
   "metadata": {},
   "outputs": [
    {
     "data": {
      "text/plain": [
       "[Text(0.5, 1.0, 'EMI')]"
      ]
     },
     "execution_count": 129,
     "metadata": {},
     "output_type": "execute_result"
    },
    {
     "data": {
      "image/png": "[encoded data removed]",
      "text/plain": [
       "<Figure size 720x360 with 1 Axes>"
      ]
     },
     "metadata": {
      "needs_background": "light"
     },
     "output_type": "display_data"
    }
   ],
   "source": [
    "# Checking distribution of the newely created EMI variable\n",
    "plt.figure(figsize=(10,5))\n",
    "sns.distplot(train['EMI']).set(title = 'EMI')"
   ]
  },
  {
   "cell_type": "markdown",
   "id": "0313645d",
   "metadata": {},
   "source": [
    "We will create the Balance Income feature."
   ]
  },
  {
   "cell_type": "code",
   "execution_count": 133,
   "id": "6eeb4260",
   "metadata": {},
   "outputs": [],
   "source": [
    "train['Balance_Income'] = train['Total_Income'] - (train['EMI'] * 1000)\n",
    "   # multiply with 1000 to make the units equal\n",
    "test['Balance_Income'] = test['Total_Income'] - (test['EMI'] * 1000)"
   ]
  },
  {
   "cell_type": "code",
   "execution_count": 134,
   "id": "04ba2045",
   "metadata": {},
   "outputs": [
    {
     "data": {
      "text/plain": [
       "[Text(0.5, 1.0, 'Balance_Income')]"
      ]
     },
     "execution_count": 134,
     "metadata": {},
     "output_type": "execute_result"
    },
    {
     "data": {
      "image/png": "[encoded data removed]",
      "text/plain": [
       "<Figure size 720x360 with 1 Axes>"
      ]
     },
     "metadata": {
      "needs_background": "light"
     },
     "output_type": "display_data"
    }
   ],
   "source": [
    "# Checking distribution of the newely created Balance_Income variable\n",
    "plt.figure(figsize=(10,5))\n",
    "sns.distplot(train['Balance_Income']).set(title = 'Balance_Income')"
   ]
  },
  {
   "cell_type": "markdown",
   "id": "dcfd0e96",
   "metadata": {},
   "source": [
    "* We can delete the variables that we used to create the new features.  \n",
    "* The reason for deleting those variables is that the correlation between those variables and the new features will be very high and logistic regression assumes that the variables are highly correlated.  \n",
    "* We also want to remove the noise from the dataset so removing correlated features will help in reducing the noise too."
   ]
  },
  {
   "cell_type": "code",
   "execution_count": 140,
   "id": "b60dd840",
   "metadata": {},
   "outputs": [],
   "source": [
    "train = train.drop(['ApplicantIncome','CoapplicantIncome','LoanAmount','Loan_Amount_Term'], axis = 1)\n",
    "test = test.drop(['ApplicantIncome','CoapplicantIncome','LoanAmount','Loan_Amount_Term'], axis = 1)"
   ]
  },
  {
   "cell_type": "markdown",
   "id": "2596d144",
   "metadata": {},
   "source": [
    "## 11. Model building: Part II  \n",
    "  * Logistic Regression  \n",
    "  * Decision Tree  \n",
    "  * Random Forest  \n",
    "  * XGBoost"
   ]
  },
  {
   "cell_type": "code",
   "execution_count": null,
   "id": "e542c474",
   "metadata": {},
   "outputs": [],
   "source": []
  },
  {
   "cell_type": "code",
   "execution_count": null,
   "id": "62fa8cb5",
   "metadata": {},
   "outputs": [],
   "source": []
  },
  {
   "cell_type": "code",
   "execution_count": null,
   "id": "d6e4031b",
   "metadata": {},
   "outputs": [],
   "source": []
  },
  {
   "cell_type": "code",
   "execution_count": null,
   "id": "52283490",
   "metadata": {},
   "outputs": [],
   "source": []
  },
  {
   "cell_type": "code",
   "execution_count": null,
   "id": "8e7ebfa1",
   "metadata": {},
   "outputs": [],
   "source": []
  },
  {
   "cell_type": "code",
   "execution_count": null,
   "id": "96dc6347",
   "metadata": {},
   "outputs": [],
   "source": []
  },
  {
   "cell_type": "code",
   "execution_count": null,
   "id": "235d663f",
   "metadata": {},
   "outputs": [],
   "source": []
  },
  {
   "cell_type": "code",
   "execution_count": null,
   "id": "f7b3eec1",
   "metadata": {},
   "outputs": [],
   "source": []
  },
  {
   "cell_type": "code",
   "execution_count": null,
   "id": "44c06d8a",
   "metadata": {},
   "outputs": [],
   "source": []
  },
  {
   "cell_type": "code",
   "execution_count": 139,
   "id": "213a8615",
   "metadata": {},
   "outputs": [
    {
     "data": {
      "text/plain": [
       "Index(['ApplicantIncome', 'CoapplicantIncome', 'LoanAmount',\n",
       "       'Loan_Amount_Term', 'Credit_History', 'Loan_Status', 'LoanAmount_log',\n",
       "       'ApplicantIncome_log', 'CoapplicantIncome_log', 'Gender_Female',\n",
       "       'Gender_Male', 'Married_No', 'Married_Yes', 'Dependents_0',\n",
       "       'Dependents_1', 'Dependents_2', 'Dependents_3', 'Education_Graduate',\n",
       "       'Education_Not Graduate', 'Self_Employed_No', 'Self_Employed_Yes',\n",
       "       'Property_Area_Rural', 'Property_Area_Semiurban', 'Property_Area_Urban',\n",
       "       'Total_Income', 'Total_Income_log', 'EMI', 'Balance_Income'],\n",
       "      dtype='object')"
      ]
     },
     "execution_count": 139,
     "metadata": {},
     "output_type": "execute_result"
    }
   ],
   "source": [
    "train.columns"
   ]
  },
  {
   "cell_type": "code",
   "execution_count": 117,
   "id": "474464a1",
   "metadata": {},
   "outputs": [],
   "source": [
    "#train1 = pd.read_csv('train.csv')\n",
    "#test1 = pd.read_csv('test.csv')"
   ]
  },
  {
   "cell_type": "code",
   "execution_count": 118,
   "id": "020c77b5",
   "metadata": {},
   "outputs": [],
   "source": [
    "#train.head"
   ]
  },
  {
   "cell_type": "markdown",
   "id": "d5fd6d3f",
   "metadata": {},
   "source": []
  }
 ],
 "metadata": {
  "kernelspec": {
   "display_name": "Python 3 (ipykernel)",
   "language": "python",
   "name": "python3"
  },
  "language_info": {
   "codemirror_mode": {
    "name": "ipython",
    "version": 3
   },
   "file_extension": ".py",
   "mimetype": "text/x-python",
   "name": "python",
   "nbconvert_exporter": "python",
   "pygments_lexer": "ipython3",
   "version": "3.9.7"
  }
 },
 "nbformat": 4,
 "nbformat_minor": 5
}
