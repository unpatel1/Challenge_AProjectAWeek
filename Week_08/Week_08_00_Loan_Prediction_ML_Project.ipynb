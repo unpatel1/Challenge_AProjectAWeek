{
 "cells": [
  {
   "cell_type": "markdown",
   "id": "7964a8f1",
   "metadata": {},
   "source": [
    "# Loan Prediction ML Project\n",
    "Weekly challenge: Week 08  \n",
    "Date: 9/12/2022"
   ]
  },
  {
   "cell_type": "markdown",
   "id": "ed2f5f1e",
   "metadata": {},
   "source": [
    "**Objective:** Solve binary classification problem using Python"
   ]
  },
  {
   "cell_type": "markdown",
   "id": "3ba6f06f",
   "metadata": {},
   "source": [
    "**Steps that I will follow:**  \n",
    "1. Problem statement  \n",
    "2. Hypothesis generation  \n",
    "3. Getting the system ready and loading the data  \n",
    "4. Understanding the data  \n",
    "5. Exploratory Data Analysis (EDA)  \n",
    "  * Univariate analysis\n",
    "  * Bivariate analysis\n",
    "6. Missing value and outlier treatment\n",
    "7. Evaluation Metrics for classification problems\n",
    "8. Model building: Part I\n",
    "9. Logistic Regression using stratified k-folds cross validation\n",
    "10. Feature Engineering  \n",
    "11. Model building: Part II  \n",
    "  * Logistic Regression  \n",
    "  * Decision Tree  \n",
    "  * Random Forest  \n",
    "  * XGBoost"
   ]
  },
  {
   "cell_type": "markdown",
   "id": "51e26f5c",
   "metadata": {},
   "source": [
    "## 1. Problem statement  \n",
    "Dream Housing Finance company deals in all home loans. They have presence across all urban, semi urban and rural areas. Customer first apply for home loan after that company validates the customer eligibility for loan. Company wants to automate the loan eligibility process (real time) based on customer detail provided while filling online application form. These details are **Gender, Marital Status, Education, # of Dependents, Income, Loan Amount, Credit History** and others. To automate this process, they have given a problem to identify the customers segments, those are eligible for loan amount so that they can specifically target these customers."
   ]
  },
  {
   "cell_type": "markdown",
   "id": "5471b7f8",
   "metadata": {},
   "source": [
    "This is a classification problem where we have to predict whether a loan would be approved or not. In a classification problem, we have to predict discrete values based on a given set of independent variables.  \n",
    "\n",
    "Classification can be of two types:  \n",
    "* Binary classification: Here we have to predict either of the two given classes. e.g. classifying the gender as male or female, predictiing the result as win or loss...\n",
    "* Multiclass classification: Here we have to classify the data into three or more classes. e.g. classifying a movies's genre as comedy, action or romantic, classify fruits as oranges, apples or pears..."
   ]
  },
  {
   "cell_type": "markdown",
   "id": "9276371c",
   "metadata": {},
   "source": [
    "## 2. Hypothesis generation\n",
    "It is a process of listing out all the possible factors that can affect the outcome. Below are some of the factors that can affect the loan approval (independent variables for the loan prediction problem).  \n",
    "\n",
    "* Salary: Applicant with high income should have more chances of loan approval.\n",
    "* Previous history: Applicants who have repayed their previous debts should have higher chance of loan approval.  \n",
    "* Loan amount: If the loan amount is less, chances of loan approval should be high.  \n",
    "* Loan term: Loan for lesser duration should have a higher chance of loan approval.  \n",
    "* Monthly installment: Chances of loan approval should be higher if the amount to be paid monthly is lower.  \n",
    "\n",
    "I have listed above some factors that I think might affect the target variable."
   ]
  },
  {
   "cell_type": "markdown",
   "id": "47d2e17a",
   "metadata": {},
   "source": [
    "## 3. Getting the system ready and loading the data"
   ]
  },
  {
   "cell_type": "markdown",
   "id": "7742dabd",
   "metadata": {},
   "source": [
    "### Loading the packages"
   ]
  },
  {
   "cell_type": "code",
   "execution_count": 1,
   "id": "6f19ef6a",
   "metadata": {},
   "outputs": [],
   "source": [
    "import pandas as pd\n",
    "import numpy as np\n",
    "import matplotlib.pyplot as plt\n",
    "import seaborn as sns\n",
    "import warnings\n",
    "warnings.filterwarnings('ignore')"
   ]
  },
  {
   "cell_type": "markdown",
   "id": "6d72ca6f",
   "metadata": {},
   "source": [
    "### Data"
   ]
  },
  {
   "cell_type": "markdown",
   "id": "0205d20d",
   "metadata": {},
   "source": [
    "For this project, there are 2 files: train.csv, test.csv.\n",
    "* train.csv file will be used for training the model; the model will learn from this file. It contains all the independent variables as well as the target variable.\n",
    "* test.csv file contains all the independent variables, it does not contain the target variable. We will apply the model to predict the target variable for the test data."
   ]
  },
  {
   "cell_type": "markdown",
   "id": "a1457512",
   "metadata": {},
   "source": [
    "### Reading the data"
   ]
  },
  {
   "cell_type": "code",
   "execution_count": 2,
   "id": "6cf87c2b",
   "metadata": {},
   "outputs": [],
   "source": [
    "train = pd.read_csv('train.csv')\n",
    "test = pd.read_csv('test.csv')"
   ]
  },
  {
   "cell_type": "code",
   "execution_count": 3,
   "id": "434b8cb8",
   "metadata": {},
   "outputs": [],
   "source": [
    "# Making copies of train & test data so we can make changes to the datasets, if needed.\n",
    "train_original = train.copy()\n",
    "test_original = test.copy()"
   ]
  },
  {
   "cell_type": "markdown",
   "id": "57e0bd80",
   "metadata": {},
   "source": [
    "## 4. Understanding the data\n",
    "Here, we will look at the structure of train & test datasets. First, we will check the features present in the data and then will check their data types."
   ]
  },
  {
   "cell_type": "code",
   "execution_count": 4,
   "id": "41edb420",
   "metadata": {},
   "outputs": [
    {
     "data": {
      "text/plain": [
       "Index(['Loan_ID', 'Gender', 'Married', 'Dependents', 'Education',\n",
       "       'Self_Employed', 'ApplicantIncome', 'CoapplicantIncome', 'LoanAmount',\n",
       "       'Loan_Amount_Term', 'Credit_History', 'Property_Area', 'Loan_Status'],\n",
       "      dtype='object')"
      ]
     },
     "execution_count": 4,
     "metadata": {},
     "output_type": "execute_result"
    }
   ],
   "source": [
    "# Checking columns of the test data\n",
    "train.columns"
   ]
  },
  {
   "cell_type": "markdown",
   "id": "abab478b",
   "metadata": {},
   "source": [
    "There are 12 independent variables and 1 target variable in the train dataset."
   ]
  },
  {
   "cell_type": "code",
   "execution_count": 5,
   "id": "b1f4c506",
   "metadata": {},
   "outputs": [
    {
     "data": {
      "text/plain": [
       "Index(['Loan_ID', 'Gender', 'Married', 'Dependents', 'Education',\n",
       "       'Self_Employed', 'ApplicantIncome', 'CoapplicantIncome', 'LoanAmount',\n",
       "       'Loan_Amount_Term', 'Credit_History', 'Property_Area'],\n",
       "      dtype='object')"
      ]
     },
     "execution_count": 5,
     "metadata": {},
     "output_type": "execute_result"
    }
   ],
   "source": [
    "# Checking columns of the test data\n",
    "test.columns"
   ]
  },
  {
   "cell_type": "markdown",
   "id": "c5034c6a",
   "metadata": {},
   "source": [
    "There are 12 independent variables in the train dataset. 'Loan_Status' is missing which is our target variable. We will predict the 'Loan_Status' using our model that we will build using the train sataset."
   ]
  },
  {
   "cell_type": "markdown",
   "id": "47072069",
   "metadata": {},
   "source": [
    "**Description of each variable**  \n",
    "* Loan_ID: Unique loan ID  \n",
    "* Gender: Male / Female  \n",
    "* Married: Applicant married (Yes / No)  \n",
    "* Dependents: # of dependents  \n",
    "* Education: Applicant's education (Graduate, Not graduate)   \n",
    "* Self_Employed: Applisant self employed? (Yes / No)  \n",
    "* ApplicantIncome: Income of the applicant  \n",
    "* CoapplicantIncome: Income of the co-applicant  \n",
    "* LoanAmount: Loan amount in thousands  \n",
    "* Loan_Amount_Term: Term / duration of loan in months  \n",
    "* Credit_History: Credit history meets guidelines (1 - Yes / 0 - No)  \n",
    "* Property_Area: Urban / Semi urban / Rural  \n",
    "* Loan_Status: Loan approved (Yes / No)"
   ]
  },
  {
   "cell_type": "markdown",
   "id": "fe381fa6",
   "metadata": {},
   "source": [
    "**Data type of each variable in the train dataset**"
   ]
  },
  {
   "cell_type": "code",
   "execution_count": 6,
   "id": "d795c9cd",
   "metadata": {},
   "outputs": [
    {
     "data": {
      "text/plain": [
       "Loan_ID               object\n",
       "Gender                object\n",
       "Married               object\n",
       "Dependents            object\n",
       "Education             object\n",
       "Self_Employed         object\n",
       "ApplicantIncome        int64\n",
       "CoapplicantIncome    float64\n",
       "LoanAmount           float64\n",
       "Loan_Amount_Term     float64\n",
       "Credit_History       float64\n",
       "Property_Area         object\n",
       "Loan_Status           object\n",
       "dtype: object"
      ]
     },
     "execution_count": 6,
     "metadata": {},
     "output_type": "execute_result"
    }
   ],
   "source": [
    "train.dtypes"
   ]
  },
  {
   "cell_type": "markdown",
   "id": "0da233fb",
   "metadata": {},
   "source": [
    "There are three formats of data types.  \n",
    "* Object: It represents variables that are text or categorical.  \n",
    "  -- *There are 8 variables: Loan_ID', 'Gender', 'Married', 'Dependents', 'Education', 'Self_Employed', 'Property_Area', 'Loan_Status'*  \n",
    "  -- Here, 'Loan_ID' is text variable and the remaining 7 are categorical variables. I will convert these 7 variables to categorical variables.  \n",
    "  -- 'Loan_ID' won't be of much use in my analysis so I won't be using it.\n",
    "* int64: It represents variables that are integer.  \n",
    "  -- *There is 1 variable: 'ApplicantIncome'*  \n",
    "* float64: It represents variables with decimal values.  \n",
    "  -- *There are 4 variables: 'CoapplicantIncome', 'LoanAmount', 'Loan_Amount_Term', 'Credit_History'*  \n",
    "  -- Here, 'Credit_History' is float64 but it is a categorical variable with either credit history meets guidelines as 1 (Yes) or credit history does not meets guidelines as 0 (No). Due to this fact, we can convert it to the categorical variable."
   ]
  },
  {
   "cell_type": "markdown",
   "id": "0a03276a",
   "metadata": {},
   "source": [
    "**Converting the data types**"
   ]
  },
  {
   "cell_type": "code",
   "execution_count": 7,
   "id": "fd0edad3",
   "metadata": {},
   "outputs": [
    {
     "data": {
      "text/plain": [
       "Loan_ID                object\n",
       "Gender               category\n",
       "Married              category\n",
       "Dependents           category\n",
       "Education            category\n",
       "Self_Employed        category\n",
       "ApplicantIncome         int64\n",
       "CoapplicantIncome     float64\n",
       "LoanAmount            float64\n",
       "Loan_Amount_Term      float64\n",
       "Credit_History       category\n",
       "Property_Area        category\n",
       "Loan_Status          category\n",
       "dtype: object"
      ]
     },
     "execution_count": 7,
     "metadata": {},
     "output_type": "execute_result"
    }
   ],
   "source": [
    "train_types = {'Gender':'category', 'Married':'category', 'Dependents':'category',\n",
    "               'Education':'category', 'Self_Employed':'category', 'Credit_History':'category',\n",
    "               'Property_Area':'category', 'Loan_Status':'category'}\n",
    "train = train.astype(train_types)\n",
    "train.dtypes"
   ]
  },
  {
   "cell_type": "code",
   "execution_count": 8,
   "id": "fd91a060",
   "metadata": {},
   "outputs": [
    {
     "data": {
      "text/plain": [
       "Loan_ID                object\n",
       "Gender               category\n",
       "Married              category\n",
       "Dependents           category\n",
       "Education            category\n",
       "Self_Employed        category\n",
       "ApplicantIncome         int64\n",
       "CoapplicantIncome       int64\n",
       "LoanAmount            float64\n",
       "Loan_Amount_Term      float64\n",
       "Credit_History       category\n",
       "Property_Area        category\n",
       "dtype: object"
      ]
     },
     "execution_count": 8,
     "metadata": {},
     "output_type": "execute_result"
    }
   ],
   "source": [
    "test_types = {'Gender':'category', 'Married':'category', 'Dependents':'category',\n",
    "               'Education':'category', 'Self_Employed':'category', 'Credit_History':'category',\n",
    "               'Property_Area':'category'}\n",
    "test = test.astype(test_types)\n",
    "test.dtypes"
   ]
  },
  {
   "cell_type": "markdown",
   "id": "8ad6476b",
   "metadata": {},
   "source": [
    "**Shape of each dataset**"
   ]
  },
  {
   "cell_type": "code",
   "execution_count": 9,
   "id": "ee00f4c2",
   "metadata": {},
   "outputs": [
    {
     "data": {
      "text/plain": [
       "(614, 13)"
      ]
     },
     "execution_count": 9,
     "metadata": {},
     "output_type": "execute_result"
    }
   ],
   "source": [
    "train.shape"
   ]
  },
  {
   "cell_type": "code",
   "execution_count": 10,
   "id": "8da621b0",
   "metadata": {},
   "outputs": [
    {
     "data": {
      "text/plain": [
       "(367, 12)"
      ]
     },
     "execution_count": 10,
     "metadata": {},
     "output_type": "execute_result"
    }
   ],
   "source": [
    "test.shape"
   ]
  },
  {
   "cell_type": "markdown",
   "id": "4fce5151",
   "metadata": {},
   "source": [
    "-- There are 614 rows and 13 columns in the train dataset.  \n",
    "-- There are 367 rows and 12 columns in the test dataset."
   ]
  },
  {
   "cell_type": "code",
   "execution_count": 11,
   "id": "b9686568",
   "metadata": {},
   "outputs": [
    {
     "data": {
      "text/html": [
       "<div>\n",
       "<style scoped>\n",
       "    .dataframe tbody tr th:only-of-type {\n",
       "        vertical-align: middle;\n",
       "    }\n",
       "\n",
       "    .dataframe tbody tr th {\n",
       "        vertical-align: top;\n",
       "    }\n",
       "\n",
       "    .dataframe thead th {\n",
       "        text-align: right;\n",
       "    }\n",
       "</style>\n",
       "<table border=\"1\" class=\"dataframe\">\n",
       "  <thead>\n",
       "    <tr style=\"text-align: right;\">\n",
       "      <th></th>\n",
       "      <th>ApplicantIncome</th>\n",
       "      <th>CoapplicantIncome</th>\n",
       "      <th>LoanAmount</th>\n",
       "      <th>Loan_Amount_Term</th>\n",
       "    </tr>\n",
       "  </thead>\n",
       "  <tbody>\n",
       "    <tr>\n",
       "      <th>count</th>\n",
       "      <td>614.000000</td>\n",
       "      <td>614.000000</td>\n",
       "      <td>592.000000</td>\n",
       "      <td>600.00000</td>\n",
       "    </tr>\n",
       "    <tr>\n",
       "      <th>mean</th>\n",
       "      <td>5403.459283</td>\n",
       "      <td>1621.245798</td>\n",
       "      <td>146.412162</td>\n",
       "      <td>342.00000</td>\n",
       "    </tr>\n",
       "    <tr>\n",
       "      <th>std</th>\n",
       "      <td>6109.041673</td>\n",
       "      <td>2926.248369</td>\n",
       "      <td>85.587325</td>\n",
       "      <td>65.12041</td>\n",
       "    </tr>\n",
       "    <tr>\n",
       "      <th>min</th>\n",
       "      <td>150.000000</td>\n",
       "      <td>0.000000</td>\n",
       "      <td>9.000000</td>\n",
       "      <td>12.00000</td>\n",
       "    </tr>\n",
       "    <tr>\n",
       "      <th>25%</th>\n",
       "      <td>2877.500000</td>\n",
       "      <td>0.000000</td>\n",
       "      <td>100.000000</td>\n",
       "      <td>360.00000</td>\n",
       "    </tr>\n",
       "    <tr>\n",
       "      <th>50%</th>\n",
       "      <td>3812.500000</td>\n",
       "      <td>1188.500000</td>\n",
       "      <td>128.000000</td>\n",
       "      <td>360.00000</td>\n",
       "    </tr>\n",
       "    <tr>\n",
       "      <th>75%</th>\n",
       "      <td>5795.000000</td>\n",
       "      <td>2297.250000</td>\n",
       "      <td>168.000000</td>\n",
       "      <td>360.00000</td>\n",
       "    </tr>\n",
       "    <tr>\n",
       "      <th>max</th>\n",
       "      <td>81000.000000</td>\n",
       "      <td>41667.000000</td>\n",
       "      <td>700.000000</td>\n",
       "      <td>480.00000</td>\n",
       "    </tr>\n",
       "  </tbody>\n",
       "</table>\n",
       "</div>"
      ],
      "text/plain": [
       "       ApplicantIncome  CoapplicantIncome  LoanAmount  Loan_Amount_Term\n",
       "count       614.000000         614.000000  592.000000         600.00000\n",
       "mean       5403.459283        1621.245798  146.412162         342.00000\n",
       "std        6109.041673        2926.248369   85.587325          65.12041\n",
       "min         150.000000           0.000000    9.000000          12.00000\n",
       "25%        2877.500000           0.000000  100.000000         360.00000\n",
       "50%        3812.500000        1188.500000  128.000000         360.00000\n",
       "75%        5795.000000        2297.250000  168.000000         360.00000\n",
       "max       81000.000000       41667.000000  700.000000         480.00000"
      ]
     },
     "execution_count": 11,
     "metadata": {},
     "output_type": "execute_result"
    }
   ],
   "source": [
    "train.describe()"
   ]
  },
  {
   "cell_type": "markdown",
   "id": "8483439b",
   "metadata": {},
   "source": [
    "## 5. Exploratory Data Analysis (EDA)"
   ]
  },
  {
   "cell_type": "markdown",
   "id": "20b0c627",
   "metadata": {},
   "source": [
    "###   Univariate analysis\n",
    "* It is the simplest form of analyzing data where we examine each variable individually.  \n",
    "* For categorical features, we can use frequency table or bar plot which will calculate the number of values / rows in each category in a particular variable.  \n",
    "* For numerical features, we can use probability density plots to look at the distribution of the variables."
   ]
  },
  {
   "cell_type": "markdown",
   "id": "5fbfa6c0",
   "metadata": {},
   "source": [
    "**Target variable**  \n",
    "We will first looks at the 'Loan_Status', our Taregt variable. It is a categorical variable so we will look at its frequency table, % distribution and bar plot."
   ]
  },
  {
   "cell_type": "code",
   "execution_count": 12,
   "id": "82422d4c",
   "metadata": {},
   "outputs": [
    {
     "data": {
      "text/plain": [
       "Y    422\n",
       "N    192\n",
       "Name: Loan_Status, dtype: int64"
      ]
     },
     "execution_count": 12,
     "metadata": {},
     "output_type": "execute_result"
    }
   ],
   "source": [
    "# Frequency table: It will give us the count of each category in that variable\n",
    "train['Loan_Status'].value_counts()"
   ]
  },
  {
   "cell_type": "code",
   "execution_count": 13,
   "id": "d41bff70",
   "metadata": {},
   "outputs": [
    {
     "data": {
      "text/plain": [
       "Y    0.687296\n",
       "N    0.312704\n",
       "Name: Loan_Status, dtype: float64"
      ]
     },
     "execution_count": 13,
     "metadata": {},
     "output_type": "execute_result"
    }
   ],
   "source": [
    "# % distribution: To better undetsrand the frequency table, we can set normalize to True which \n",
    "# would give us proportion of each category.\n",
    "train['Loan_Status'].value_counts(normalize = True)"
   ]
  },
  {
   "cell_type": "code",
   "execution_count": 14,
   "id": "9b7acd5e",
   "metadata": {},
   "outputs": [
    {
     "data": {
      "image/png": "[encoded data removed]",
      "text/plain": [
       "<Figure size 432x288 with 1 Axes>"
      ]
     },
     "metadata": {
      "needs_background": "light"
     },
     "output_type": "display_data"
    }
   ],
   "source": [
    "# Bar plot: We can visualize the frequency table using a bar plot.\n",
    "train['Loan_Status'].value_counts().plot.bar()\n",
    "plt.show()"
   ]
  },
  {
   "cell_type": "markdown",
   "id": "786f51e8",
   "metadata": {},
   "source": [
    "From the above analysis, we can see that:\n",
    "* The loan of 422 (68.7%) people out of 614 was approved.\n",
    "* The loan of 192 (31.2%) people out of 614 was not approved."
   ]
  },
  {
   "cell_type": "markdown",
   "id": "2b297e11",
   "metadata": {},
   "source": [
    "We will now visualize each variable separately. In our dataset we have categorical, ordinal and numerical features. \n",
    "* **Categorical:** These features have categories (Gender, Married, Self_Employed, Credit_History, Loan_Status).  \n",
    "* **Ordinal:** These categorical features have some order involved (Dependents, Education, Property_Area).  \n",
    "* **Numerical:** These features have numerical values (ApplicantIncome, CoapplicantIncome, LoanAmount, Loan_Amount_Term)."
   ]
  },
  {
   "cell_type": "markdown",
   "id": "d44ccc1c",
   "metadata": {},
   "source": [
    "**Visualizing independent variables (4 categorical variables)**"
   ]
  },
  {
   "cell_type": "code",
   "execution_count": 15,
   "id": "46fb24e9",
   "metadata": {},
   "outputs": [
    {
     "data": {
      "image/png": "[encoded data removed]",
      "text/plain": [
       "<Figure size 1080x720 with 4 Axes>"
      ]
     },
     "metadata": {
      "needs_background": "light"
     },
     "output_type": "display_data"
    }
   ],
   "source": [
    "plt.figure(1)\n",
    "\n",
    "plt.subplot(221)\n",
    "train['Gender'].value_counts(normalize = True).plot.bar(figsize = (15, 10), title = 'Gender')\n",
    "\n",
    "plt.subplot(222)\n",
    "train['Married'].value_counts(normalize = True).plot.bar(title = 'Married')\n",
    "\n",
    "plt.subplot(223)\n",
    "train['Self_Employed'].value_counts(normalize = True).plot.bar(title = 'Self_Employed')\n",
    "\n",
    "plt.subplot(224)\n",
    "train['Credit_History'].value_counts(normalize = True).plot.bar(title = 'Credit_History')\n",
    "\n",
    "plt.show()"
   ]
  },
  {
   "cell_type": "markdown",
   "id": "6f1f2fd9",
   "metadata": {},
   "source": [
    "We can infer the following from the above bar plots.  \n",
    "* About 80% of applicants are male.  \n",
    "* About 65% of applicants are married.  \n",
    "* About 15% of applicants are self-employed.  \n",
    "* About 85% of applicants have repaid their loan debts."
   ]
  },
  {
   "cell_type": "markdown",
   "id": "d167372b",
   "metadata": {},
   "source": [
    "**Visualizing independent variables (3 ordinal variables)**"
   ]
  },
  {
   "cell_type": "code",
   "execution_count": 16,
   "id": "d10c21ab",
   "metadata": {},
   "outputs": [
    {
     "data": {
      "image/png": "[encoded data removed]",
      "text/plain": [
       "<Figure size 1080x288 with 3 Axes>"
      ]
     },
     "metadata": {
      "needs_background": "light"
     },
     "output_type": "display_data"
    }
   ],
   "source": [
    "plt.figure(1)\n",
    "\n",
    "plt.subplot(131)\n",
    "train['Dependents'].value_counts(normalize = True).plot.bar(figsize = (15, 4), title = 'Dependents')\n",
    "\n",
    "plt.subplot(132)\n",
    "train['Education'].value_counts(normalize = True).plot.bar(title = 'Education')\n",
    "\n",
    "plt.subplot(133)\n",
    "train['Property_Area'].value_counts(normalize = True).plot.bar(title = 'Property_Area')\n",
    "\n",
    "plt.show()"
   ]
  },
  {
   "cell_type": "markdown",
   "id": "ab1daaa4",
   "metadata": {},
   "source": [
    "We can infer the following from the above bar plots.  \n",
    "* About 57% of applicants do not have any dependents.  \n",
    "* About 78% of applicants are graduates.  \n",
    "* About 38% of applicants from semiurban areas and about 30% each from urban and rural areas.  "
   ]
  },
  {
   "cell_type": "markdown",
   "id": "ced5bfab",
   "metadata": {},
   "source": [
    "**Visualizing independent variables (4 numerical variables)**  \n",
    "ApplicantIncome, CoapplicantIncome, LoanAmount, Loan_Amount_Term"
   ]
  },
  {
   "cell_type": "code",
   "execution_count": 17,
   "id": "6ce5038c",
   "metadata": {},
   "outputs": [
    {
     "data": {
      "image/png": "[encoded data removed]",
      "text/plain": [
       "<Figure size 864x432 with 2 Axes>"
      ]
     },
     "metadata": {
      "needs_background": "light"
     },
     "output_type": "display_data"
    }
   ],
   "source": [
    "# Distribution of ApplicantIncome\n",
    "plt.figure(1)\n",
    "\n",
    "plt.subplot(121)\n",
    "sns.distplot(train['ApplicantIncome']).set(title = 'ApplicantIncome');\n",
    "\n",
    "\n",
    "plt.subplot(122)\n",
    "train['ApplicantIncome'].plot.box(figsize = (12,6), title = 'ApplicantIncome')\n",
    "\n",
    "plt.show()"
   ]
  },
  {
   "cell_type": "markdown",
   "id": "733e7312",
   "metadata": {},
   "source": [
    "-- We can infer from the above distribution plot that the distribution of ApplicantIncome is right skewed and normally distributed.  \n",
    "-- ML algorithms work better with normally distributed data so we will try to make ApplicantIncome normally distributed before using them for ML algorithms.  \n",
    "-- The box plot shows us that the data has many outliers because of which the distribution plot is right skewed. This can be attributed to the income disparity in the society. We are also looking at people with different educational levels and separating their educational levels would give us a better idea."
   ]
  },
  {
   "cell_type": "code",
   "execution_count": 18,
   "id": "05cf7d3e",
   "metadata": {},
   "outputs": [
    {
     "data": {
      "image/png": "[encoded data removed]",
      "text/plain": [
       "<Figure size 576x360 with 1 Axes>"
      ]
     },
     "metadata": {
      "needs_background": "light"
     },
     "output_type": "display_data"
    }
   ],
   "source": [
    "# Separating educational levels\n",
    "train.boxplot(column = 'ApplicantIncome', by = 'Education', figsize = (8,5))\n",
    "plt.suptitle(\"\")\n",
    "plt.show()"
   ]
  },
  {
   "cell_type": "markdown",
   "id": "8f45e5b6",
   "metadata": {},
   "source": [
    "We can infer from the above plot that there are higher # of graduates with very high income which appear to be outliers."
   ]
  },
  {
   "cell_type": "code",
   "execution_count": 19,
   "id": "dffda0e6",
   "metadata": {},
   "outputs": [
    {
     "data": {
      "image/png": "[encoded data removed]",
      "text/plain": [
       "<Figure size 864x432 with 2 Axes>"
      ]
     },
     "metadata": {
      "needs_background": "light"
     },
     "output_type": "display_data"
    }
   ],
   "source": [
    "# Distribution of CoapplicantIncome\n",
    "plt.figure(1)\n",
    "\n",
    "plt.subplot(121)\n",
    "sns.distplot(train['CoapplicantIncome']).set(title = 'CoapplicantIncome');\n",
    "\n",
    "plt.subplot(122)\n",
    "train['CoapplicantIncome'].plot.box(figsize = (12,6), title = 'CoapplicantIncome')\n",
    "\n",
    "plt.show()"
   ]
  },
  {
   "cell_type": "markdown",
   "id": "05a46b50",
   "metadata": {},
   "source": [
    "-- We can see that distribution of CoapplicantIncome is very similar to that of ApplicantIncome.  \n",
    "-- Majority of CoapplicantIncome ranges from 0 to 5000.  \n",
    "-- There are outliers as well.  \n",
    "-- CoapplicantIncome is also right skewed and not normally distributed."
   ]
  },
  {
   "cell_type": "code",
   "execution_count": 20,
   "id": "cbbef8a7",
   "metadata": {},
   "outputs": [
    {
     "data": {
      "image/png": "[encoded data removed]",
      "text/plain": [
       "<Figure size 864x432 with 2 Axes>"
      ]
     },
     "metadata": {
      "needs_background": "light"
     },
     "output_type": "display_data"
    }
   ],
   "source": [
    "# Distribution of LoanAmount\n",
    "plt.figure(1)\n",
    "\n",
    "plt.subplot(121)\n",
    "sns.distplot(train['LoanAmount']);\n",
    "\n",
    "plt.subplot(122)\n",
    "train['LoanAmount'].plot.box(figsize = (12,6))\n",
    "\n",
    "plt.show()"
   ]
  },
  {
   "cell_type": "markdown",
   "id": "3ffff76d",
   "metadata": {},
   "source": [
    "There are a lot of outliers in LoanAmount variable as well. The distribution is right skewed but fairly normal."
   ]
  },
  {
   "cell_type": "markdown",
   "id": "432976f1",
   "metadata": {},
   "source": [
    "*We would like to know now how well each feature correlates with Loan_Status and this can be done thru bivariate analysis.*"
   ]
  },
  {
   "cell_type": "markdown",
   "id": "994cbe79",
   "metadata": {},
   "source": [
    "### Bivariate analysis"
   ]
  },
  {
   "cell_type": "markdown",
   "id": "ccf81eaa",
   "metadata": {},
   "source": [
    "We generated the following hypothesis earlier.\n",
    "* Salary: Applicant with high income should have more chances of loan approval.\n",
    "* Previous history: Applicants who have repayed their previous debts should have higher chance of loan approval.  \n",
    "* Loan amount: If the loan amount is less, chances of loan approval should be high.  \n",
    "* Loan term: Loan for lesser duration should have a higher chance of loan approval.  \n",
    "* Monthly installment: Chances of loan approval should be higher if the amount to be paid monthly is lower.  \n",
    "\n",
    "-- We will test these hypothesis using bivariate analysis.  \n",
    "-- We have looked them individually in univariate analysisand and will now explore then with respect to the target variable."
   ]
  },
  {
   "cell_type": "markdown",
   "id": "f7bb6afa",
   "metadata": {},
   "source": [
    "#### Categorical independent variable VS Target variable\n",
    "* Here, we will find the relationship between Categorical independent variable & Target variable.  \n",
    "* We will look at the stacked bar plot which will give us the proprtion of approved and unapproved loans."
   ]
  },
  {
   "cell_type": "markdown",
   "id": "2eb0420c",
   "metadata": {},
   "source": [
    "***Gender VS Loan_Status***"
   ]
  },
  {
   "cell_type": "code",
   "execution_count": 21,
   "id": "b467e8f9",
   "metadata": {},
   "outputs": [],
   "source": [
    "Gender = pd.crosstab(train['Gender'], train['Loan_Status'])"
   ]
  },
  {
   "cell_type": "code",
   "execution_count": 22,
   "id": "f39b8d57",
   "metadata": {},
   "outputs": [
    {
     "data": {
      "text/html": [
       "<div>\n",
       "<style scoped>\n",
       "    .dataframe tbody tr th:only-of-type {\n",
       "        vertical-align: middle;\n",
       "    }\n",
       "\n",
       "    .dataframe tbody tr th {\n",
       "        vertical-align: top;\n",
       "    }\n",
       "\n",
       "    .dataframe thead th {\n",
       "        text-align: right;\n",
       "    }\n",
       "</style>\n",
       "<table border=\"1\" class=\"dataframe\">\n",
       "  <thead>\n",
       "    <tr style=\"text-align: right;\">\n",
       "      <th>Loan_Status</th>\n",
       "      <th>N</th>\n",
       "      <th>Y</th>\n",
       "    </tr>\n",
       "    <tr>\n",
       "      <th>Gender</th>\n",
       "      <th></th>\n",
       "      <th></th>\n",
       "    </tr>\n",
       "  </thead>\n",
       "  <tbody>\n",
       "    <tr>\n",
       "      <th>Female</th>\n",
       "      <td>37</td>\n",
       "      <td>75</td>\n",
       "    </tr>\n",
       "    <tr>\n",
       "      <th>Male</th>\n",
       "      <td>150</td>\n",
       "      <td>339</td>\n",
       "    </tr>\n",
       "  </tbody>\n",
       "</table>\n",
       "</div>"
      ],
      "text/plain": [
       "Loan_Status    N    Y\n",
       "Gender               \n",
       "Female        37   75\n",
       "Male         150  339"
      ]
     },
     "execution_count": 22,
     "metadata": {},
     "output_type": "execute_result"
    }
   ],
   "source": [
    "Gender"
   ]
  },
  {
   "cell_type": "code",
   "execution_count": 23,
   "id": "8caba86d",
   "metadata": {},
   "outputs": [
    {
     "data": {
      "text/html": [
       "<div>\n",
       "<style scoped>\n",
       "    .dataframe tbody tr th:only-of-type {\n",
       "        vertical-align: middle;\n",
       "    }\n",
       "\n",
       "    .dataframe tbody tr th {\n",
       "        vertical-align: top;\n",
       "    }\n",
       "\n",
       "    .dataframe thead th {\n",
       "        text-align: right;\n",
       "    }\n",
       "</style>\n",
       "<table border=\"1\" class=\"dataframe\">\n",
       "  <thead>\n",
       "    <tr style=\"text-align: right;\">\n",
       "      <th>Loan_Status</th>\n",
       "      <th>N</th>\n",
       "      <th>Y</th>\n",
       "    </tr>\n",
       "    <tr>\n",
       "      <th>Gender</th>\n",
       "      <th></th>\n",
       "      <th></th>\n",
       "    </tr>\n",
       "  </thead>\n",
       "  <tbody>\n",
       "    <tr>\n",
       "      <th>Female</th>\n",
       "      <td>0.330357</td>\n",
       "      <td>0.669643</td>\n",
       "    </tr>\n",
       "    <tr>\n",
       "      <th>Male</th>\n",
       "      <td>0.306748</td>\n",
       "      <td>0.693252</td>\n",
       "    </tr>\n",
       "  </tbody>\n",
       "</table>\n",
       "</div>"
      ],
      "text/plain": [
       "Loan_Status         N         Y\n",
       "Gender                         \n",
       "Female       0.330357  0.669643\n",
       "Male         0.306748  0.693252"
      ]
     },
     "execution_count": 23,
     "metadata": {},
     "output_type": "execute_result"
    }
   ],
   "source": [
    "temp = Gender.div(Gender.sum(1).astype(float), axis = 0)\n",
    "temp"
   ]
  },
  {
   "cell_type": "code",
   "execution_count": 24,
   "id": "d8dfea0e",
   "metadata": {},
   "outputs": [
    {
     "data": {
      "text/plain": [
       "Gender\n",
       "Female    112\n",
       "Male      489\n",
       "dtype: int64"
      ]
     },
     "execution_count": 24,
     "metadata": {},
     "output_type": "execute_result"
    }
   ],
   "source": [
    "Gender.sum(1) # '1' is for column; so 37 + 75 = 112 for Female\n",
    "# .div(Gender.sum(1)): Divide each column element for Female by Gender.sum(1) which is 112\n",
    "# So 37 / 112 = 0.330357"
   ]
  },
  {
   "cell_type": "code",
   "execution_count": 25,
   "id": "ecf87b29",
   "metadata": {},
   "outputs": [
    {
     "data": {
      "text/plain": [
       "<AxesSubplot:xlabel='Gender'>"
      ]
     },
     "execution_count": 25,
     "metadata": {},
     "output_type": "execute_result"
    },
    {
     "data": {
      "image/png": "[encoded data removed]",
      "text/plain": [
       "<Figure size 288x288 with 1 Axes>"
      ]
     },
     "metadata": {
      "needs_background": "light"
     },
     "output_type": "display_data"
    }
   ],
   "source": [
    "Gender.div(Gender.sum(1).astype(float), axis = 0).plot(kind = 'bar', stacked = True, figsize = (4,4))"
   ]
  },
  {
   "cell_type": "markdown",
   "id": "c5a00aed",
   "metadata": {},
   "source": [
    "-- We can infer from the above plot that the proportion of loan approval and unapproval for male and female is almost the same."
   ]
  },
  {
   "cell_type": "markdown",
   "id": "a6fc4e76",
   "metadata": {},
   "source": [
    "***Married VS Loan_Status***"
   ]
  },
  {
   "cell_type": "code",
   "execution_count": 26,
   "id": "c67ae17d",
   "metadata": {},
   "outputs": [
    {
     "data": {
      "text/plain": [
       "<AxesSubplot:xlabel='Married'>"
      ]
     },
     "execution_count": 26,
     "metadata": {},
     "output_type": "execute_result"
    },
    {
     "data": {
      "image/png": "[encoded data removed]",
      "text/plain": [
       "<Figure size 288x288 with 1 Axes>"
      ]
     },
     "metadata": {
      "needs_background": "light"
     },
     "output_type": "display_data"
    }
   ],
   "source": [
    "Married = pd.crosstab(train['Married'], train['Loan_Status'])\n",
    "Married.div(Married.sum(1).astype(float), axis = 0).plot(kind = 'bar', stacked = True, figsize = (4,4))"
   ]
  },
  {
   "cell_type": "markdown",
   "id": "5e10e717",
   "metadata": {},
   "source": [
    "-- We can infer from the above plot that the proportion of loan approval for married applicant is little higher compared to the unmarried applicants."
   ]
  },
  {
   "cell_type": "markdown",
   "id": "3cc0fb66",
   "metadata": {},
   "source": [
    "***Dependents VS Loan_Status***"
   ]
  },
  {
   "cell_type": "code",
   "execution_count": 27,
   "id": "b9588da4",
   "metadata": {
    "scrolled": true
   },
   "outputs": [
    {
     "data": {
      "text/plain": [
       "<AxesSubplot:xlabel='Dependents'>"
      ]
     },
     "execution_count": 27,
     "metadata": {},
     "output_type": "execute_result"
    },
    {
     "data": {
      "image/png": "[encoded data removed]",
      "text/plain": [
       "<Figure size 432x288 with 1 Axes>"
      ]
     },
     "metadata": {
      "needs_background": "light"
     },
     "output_type": "display_data"
    }
   ],
   "source": [
    "Dependents = pd.crosstab(train['Dependents'], train['Loan_Status'])\n",
    "Dependents.div(Dependents.sum(1).astype(float), axis = 0).plot(kind = 'bar', stacked = True, figsize = (6,4))"
   ]
  },
  {
   "cell_type": "markdown",
   "id": "9e63d831",
   "metadata": {},
   "source": [
    "-- We can infer from the above plot that the proportion of loan approval for 1 or 3+ dependents is almost the same and a little lower compared to 0 or 2 dependents.  \n",
    "-- Loan approval is highest for applicants with 2 dependents."
   ]
  },
  {
   "cell_type": "markdown",
   "id": "e4e3865b",
   "metadata": {},
   "source": [
    "***Education VS Loan_Status***"
   ]
  },
  {
   "cell_type": "code",
   "execution_count": 28,
   "id": "6954bd27",
   "metadata": {},
   "outputs": [
    {
     "data": {
      "text/plain": [
       "<AxesSubplot:xlabel='Education'>"
      ]
     },
     "execution_count": 28,
     "metadata": {},
     "output_type": "execute_result"
    },
    {
     "data": {
      "image/png": "[encoded data removed]",
      "text/plain": [
       "<Figure size 288x288 with 1 Axes>"
      ]
     },
     "metadata": {
      "needs_background": "light"
     },
     "output_type": "display_data"
    }
   ],
   "source": [
    "Education = pd.crosstab(train['Education'], train['Loan_Status'])\n",
    "Education.div(Education.sum(1).astype(float), axis = 0).plot(kind = 'bar', stacked = True, figsize = (4,4))"
   ]
  },
  {
   "cell_type": "markdown",
   "id": "017a13af",
   "metadata": {},
   "source": [
    "***Self_Employed VS Loan_Status***"
   ]
  },
  {
   "cell_type": "code",
   "execution_count": 29,
   "id": "ae82af3c",
   "metadata": {},
   "outputs": [
    {
     "data": {
      "text/plain": [
       "<AxesSubplot:xlabel='Self_Employed'>"
      ]
     },
     "execution_count": 29,
     "metadata": {},
     "output_type": "execute_result"
    },
    {
     "data": {
      "image/png": "[encoded data removed]",
      "text/plain": [
       "<Figure size 288x288 with 1 Axes>"
      ]
     },
     "metadata": {
      "needs_background": "light"
     },
     "output_type": "display_data"
    }
   ],
   "source": [
    "Self_Employed = pd.crosstab(train['Self_Employed'], train['Loan_Status'])\n",
    "Self_Employed.div(Self_Employed.sum(1).astype(float), axis = 0).plot(kind = 'bar', stacked = True, figsize = (4,4))"
   ]
  },
  {
   "cell_type": "markdown",
   "id": "9c29e110",
   "metadata": {},
   "source": [
    "-- We can not infer much from the above plot.  \n",
    "-- Loan approval doesn't make any difference whether the applicant is Self_Employed or not."
   ]
  },
  {
   "cell_type": "markdown",
   "id": "d9b79738",
   "metadata": {},
   "source": [
    "***Credit_History VS Loan_Status***"
   ]
  },
  {
   "cell_type": "code",
   "execution_count": 30,
   "id": "50a908e4",
   "metadata": {
    "scrolled": true
   },
   "outputs": [
    {
     "data": {
      "text/plain": [
       "<AxesSubplot:xlabel='Credit_History'>"
      ]
     },
     "execution_count": 30,
     "metadata": {},
     "output_type": "execute_result"
    },
    {
     "data": {
      "image/png": "[encoded data removed]",
      "text/plain": [
       "<Figure size 288x288 with 1 Axes>"
      ]
     },
     "metadata": {
      "needs_background": "light"
     },
     "output_type": "display_data"
    }
   ],
   "source": [
    "Credit_History = pd.crosstab(train['Credit_History'], train['Loan_Status'])\n",
    "Credit_History.div(Credit_History.sum(1).astype(float), axis = 0).plot(kind = 'bar', stacked = True, figsize = (4,4))"
   ]
  },
  {
   "cell_type": "markdown",
   "id": "8e954800",
   "metadata": {},
   "source": [
    "-- Applicants with 0 Credit_History (no history, bad credit,...) have very slim chances of getting their loan approved.  \n",
    "-- Applicants with 1 Credit_History (good credit,...) have considerably higher chances of getting their loan approved."
   ]
  },
  {
   "cell_type": "markdown",
   "id": "b9df0b31",
   "metadata": {},
   "source": [
    "***Property_Area VS Loan_Status***"
   ]
  },
  {
   "cell_type": "code",
   "execution_count": 31,
   "id": "3f8e3627",
   "metadata": {
    "scrolled": false
   },
   "outputs": [
    {
     "data": {
      "text/plain": [
       "<AxesSubplot:xlabel='Property_Area'>"
      ]
     },
     "execution_count": 31,
     "metadata": {},
     "output_type": "execute_result"
    },
    {
     "data": {
      "image/png": "[encoded data removed]",
      "text/plain": [
       "<Figure size 432x288 with 1 Axes>"
      ]
     },
     "metadata": {
      "needs_background": "light"
     },
     "output_type": "display_data"
    }
   ],
   "source": [
    "Property_Area = pd.crosstab(train['Property_Area'], train['Loan_Status'])\n",
    "Property_Area.div(Property_Area.sum(1).astype(float), axis = 0).plot(kind = 'bar', stacked = True, figsize = (6,4))"
   ]
  },
  {
   "cell_type": "markdown",
   "id": "17bf3eae",
   "metadata": {},
   "source": [
    "-- Applicants from Semiurban areas have a little higher chances of getting their loans approved compared to the applicants from Rural as well as Urban areas."
   ]
  },
  {
   "cell_type": "markdown",
   "id": "9650dbc7",
   "metadata": {},
   "source": [
    "#### Numerical independent variable VS Target variable\n",
    "* Here, we will find the relationship between Numerical independent variable & Target variable.\n",
    "* Here too, we will look at the stacked bar plot which will give us the proprtion of approved and unapproved loans."
   ]
  },
  {
   "cell_type": "markdown",
   "id": "8c25ad25",
   "metadata": {},
   "source": [
    "**Analysis of Applicant Income**\n",
    "\n",
    "***ApplicantIncome:*** We will try to find the mean income of people for which the has been approved and the mean income of people for which the has not been approved."
   ]
  },
  {
   "cell_type": "code",
   "execution_count": 32,
   "id": "5fbdf7cb",
   "metadata": {},
   "outputs": [
    {
     "data": {
      "text/plain": [
       "Loan_Status\n",
       "N    5446.078125\n",
       "Y    5384.068720\n",
       "Name: ApplicantIncome, dtype: float64"
      ]
     },
     "execution_count": 32,
     "metadata": {},
     "output_type": "execute_result"
    }
   ],
   "source": [
    "train.groupby(by='Loan_Status')['ApplicantIncome'].mean()"
   ]
  },
  {
   "cell_type": "code",
   "execution_count": 33,
   "id": "64d43052",
   "metadata": {},
   "outputs": [
    {
     "data": {
      "text/plain": [
       "Text(0.5, 1.0, 'Loan_Status V/S Mean income')"
      ]
     },
     "execution_count": 33,
     "metadata": {},
     "output_type": "execute_result"
    },
    {
     "data": {
      "image/png": "[encoded data removed]",
      "text/plain": [
       "<Figure size 288x288 with 1 Axes>"
      ]
     },
     "metadata": {
      "needs_background": "light"
     },
     "output_type": "display_data"
    }
   ],
   "source": [
    "train.groupby(by='Loan_Status')['ApplicantIncome'].mean().plot(\n",
    "    kind='bar', grid=True, legend=False,\n",
    "    rot=90, fontsize=12, figsize=(4,4))\n",
    "plt.ylabel('Mean income', fontsize=12)\n",
    "plt.xlabel('Loan_Status', fontsize=12)\n",
    "plt.title('Loan_Status V/S Mean income', fontsize=14)"
   ]
  },
  {
   "cell_type": "markdown",
   "id": "1164ca2c",
   "metadata": {},
   "source": [
    "-- There is not much change in the mean income of the applicants whose loan is approved or not.  \n",
    "-- To better understand, we will make bins for the applicant income variable and analyze the loan status for each bin."
   ]
  },
  {
   "cell_type": "code",
   "execution_count": 34,
   "id": "15b7e3c3",
   "metadata": {},
   "outputs": [
    {
     "data": {
      "text/plain": [
       "[Text(0.5, 1.0, 'ApplicantIncome')]"
      ]
     },
     "execution_count": 34,
     "metadata": {},
     "output_type": "execute_result"
    },
    {
     "data": {
      "image/png": "[encoded data removed]",
      "text/plain": [
       "<Figure size 720x360 with 1 Axes>"
      ]
     },
     "metadata": {
      "needs_background": "light"
     },
     "output_type": "display_data"
    }
   ],
   "source": [
    "# Checking on the ApplicantIncome plot before binning\n",
    "plt.figure(figsize=(10,5))\n",
    "sns.distplot(train['ApplicantIncome']).set(title = 'ApplicantIncome')"
   ]
  },
  {
   "cell_type": "code",
   "execution_count": 35,
   "id": "148214ea",
   "metadata": {},
   "outputs": [
    {
     "data": {
      "text/plain": [
       "Text(0.5, 1.0, 'ApplicantIncome V/S Percentage')"
      ]
     },
     "execution_count": 35,
     "metadata": {},
     "output_type": "execute_result"
    },
    {
     "data": {
      "image/png": "[encoded data removed]",
      "text/plain": [
       "<Figure size 432x288 with 1 Axes>"
      ]
     },
     "metadata": {
      "needs_background": "light"
     },
     "output_type": "display_data"
    }
   ],
   "source": [
    "# Plotting the chart according to the bins\n",
    "bins_ = [0,2500,4000,6000,80000]\n",
    "group = ['Low','Average','High','Very high']\n",
    "\n",
    "train['Income_bin'] = pd.cut(train['ApplicantIncome'], bins=bins_, labels=group)\n",
    "Income_bin = pd.crosstab(train['Income_bin'], train['Loan_Status'])\n",
    "\n",
    "Income_bin.div(Income_bin.sum(1).astype(float), axis=0).plot(\n",
    "    kind='bar', stacked=True, figsize=(6,4), grid=True, legend=True, rot=30, fontsize=12)\n",
    "\n",
    "plt.ylabel('Percentage', fontsize=12)\n",
    "plt.xlabel('ApplicantIncome', fontsize=12)\n",
    "plt.title('ApplicantIncome V/S Percentage', fontsize=14)"
   ]
  },
  {
   "cell_type": "markdown",
   "id": "1d51c343",
   "metadata": {},
   "source": [
    "-- From the above plot, we can infer that the ApplicantIncome does not affect the chance of loan approval. We can see that the loan approve rate is almost the same for each group of income.  \n",
    "-- This contradicts our hypothesis in which we stated that the applicant with high income should have more chances of loan approval."
   ]
  },
  {
   "cell_type": "code",
   "execution_count": 36,
   "id": "d15e2474",
   "metadata": {},
   "outputs": [
    {
     "data": {
      "text/html": [
       "<div>\n",
       "<style scoped>\n",
       "    .dataframe tbody tr th:only-of-type {\n",
       "        vertical-align: middle;\n",
       "    }\n",
       "\n",
       "    .dataframe tbody tr th {\n",
       "        vertical-align: top;\n",
       "    }\n",
       "\n",
       "    .dataframe thead th {\n",
       "        text-align: right;\n",
       "    }\n",
       "</style>\n",
       "<table border=\"1\" class=\"dataframe\">\n",
       "  <thead>\n",
       "    <tr style=\"text-align: right;\">\n",
       "      <th>Loan_Status</th>\n",
       "      <th>N</th>\n",
       "      <th>Y</th>\n",
       "    </tr>\n",
       "    <tr>\n",
       "      <th>Income_bin</th>\n",
       "      <th></th>\n",
       "      <th></th>\n",
       "    </tr>\n",
       "  </thead>\n",
       "  <tbody>\n",
       "    <tr>\n",
       "      <th>Low</th>\n",
       "      <td>34</td>\n",
       "      <td>74</td>\n",
       "    </tr>\n",
       "    <tr>\n",
       "      <th>Average</th>\n",
       "      <td>67</td>\n",
       "      <td>159</td>\n",
       "    </tr>\n",
       "    <tr>\n",
       "      <th>High</th>\n",
       "      <td>45</td>\n",
       "      <td>98</td>\n",
       "    </tr>\n",
       "    <tr>\n",
       "      <th>Very high</th>\n",
       "      <td>45</td>\n",
       "      <td>91</td>\n",
       "    </tr>\n",
       "  </tbody>\n",
       "</table>\n",
       "</div>"
      ],
      "text/plain": [
       "Loan_Status   N    Y\n",
       "Income_bin          \n",
       "Low          34   74\n",
       "Average      67  159\n",
       "High         45   98\n",
       "Very high    45   91"
      ]
     },
     "execution_count": 36,
     "metadata": {},
     "output_type": "execute_result"
    }
   ],
   "source": [
    "# Just to review crosstab() functionality\n",
    "pd.crosstab(train['Income_bin'], train['Loan_Status'])"
   ]
  },
  {
   "cell_type": "markdown",
   "id": "ab93ecb7",
   "metadata": {},
   "source": [
    "**Analysis of Coapplicant Income**\n",
    "\n",
    "***CoapplicantIncome:*** We will analyze coapplicant income in a similar way. "
   ]
  },
  {
   "cell_type": "code",
   "execution_count": 37,
   "id": "704eda17",
   "metadata": {},
   "outputs": [
    {
     "data": {
      "text/plain": [
       "Text(0.5, 1.0, 'coapplicantIncome V/S Percentage')"
      ]
     },
     "execution_count": 37,
     "metadata": {},
     "output_type": "execute_result"
    },
    {
     "data": {
      "image/png": "[encoded data removed]",
      "text/plain": [
       "<Figure size 432x288 with 1 Axes>"
      ]
     },
     "metadata": {
      "needs_background": "light"
     },
     "output_type": "display_data"
    }
   ],
   "source": [
    "# Plotting the chart according to the bins\n",
    "bins_ = [0,1000,3000,42000]\n",
    "group = ['Low','Average','High']\n",
    "\n",
    "train['Coapplicant_Income_bin'] = pd.cut(train['CoapplicantIncome'], bins=bins_, labels=group)\n",
    "Coapplicant_Income_bin = pd.crosstab(train['Coapplicant_Income_bin'], train['Loan_Status'])\n",
    "\n",
    "Coapplicant_Income_bin.div(Coapplicant_Income_bin.sum(1).astype(float), axis=0).plot(\n",
    "    kind='bar', stacked=True, figsize=(6,4), grid=True, legend=True, rot=30, fontsize=12)\n",
    "\n",
    "plt.ylabel('Percentage', fontsize=12)\n",
    "plt.xlabel('coapplicantIncome', fontsize=12)\n",
    "plt.title('coapplicantIncome V/S Percentage', fontsize=14)"
   ]
  },
  {
   "cell_type": "code",
   "execution_count": 38,
   "id": "f47e2e8c",
   "metadata": {},
   "outputs": [
    {
     "data": {
      "text/plain": [
       "273"
      ]
     },
     "execution_count": 38,
     "metadata": {},
     "output_type": "execute_result"
    }
   ],
   "source": [
    "len(train[train['CoapplicantIncome'] == 0])"
   ]
  },
  {
   "cell_type": "markdown",
   "id": "f5ab1398",
   "metadata": {},
   "source": [
    "* The above plot shows that if a coapplicant's income is low, the chances of loan approval is high. But this doesn't look logical! The reason for this could be that out of 614 applicants, 273 applicants do not have any coapplicant. So coapplicant income for such applicants is 0 and loan approval is not dependent on it.  \n",
    "* To better understand this, we will combine applicant & coapplicant's income and analyze it."
   ]
  },
  {
   "cell_type": "code",
   "execution_count": 39,
   "id": "62397df3",
   "metadata": {},
   "outputs": [
    {
     "data": {
      "text/plain": [
       "Text(0.5, 1.0, 'Total_Income V/S Percentage')"
      ]
     },
     "execution_count": 39,
     "metadata": {},
     "output_type": "execute_result"
    },
    {
     "data": {
      "image/png": "[encoded data removed]",
      "text/plain": [
       "<Figure size 432x288 with 1 Axes>"
      ]
     },
     "metadata": {
      "needs_background": "light"
     },
     "output_type": "display_data"
    }
   ],
   "source": [
    "# Combining applicant & coapplicant's income\n",
    "train['Total_Income'] = train['ApplicantIncome'] + train['CoapplicantIncome']\n",
    "\n",
    "bins_ = [0,2500,4000,6000,80000]\n",
    "group = ['Low','Average','High','Very high']\n",
    "\n",
    "train['Total_Income_bin'] = pd.cut(train['Total_Income'], bins=bins_, labels=group)\n",
    "Total_Income_bin = pd.crosstab(train['Total_Income_bin'], train['Loan_Status'])\n",
    "\n",
    "Total_Income_bin.div(Total_Income_bin.sum(1).astype(float), axis=0).plot(\n",
    "    kind='bar', stacked=True, figsize=(6,4), grid=True, legend=True, rot=30, fontsize=12)\n",
    "\n",
    "plt.ylabel('Percentage', fontsize=12)\n",
    "plt.xlabel('Total_Income', fontsize=12)\n",
    "plt.title('Total_Income V/S Percentage', fontsize=14)"
   ]
  },
  {
   "cell_type": "markdown",
   "id": "7c75af96",
   "metadata": {},
   "source": [
    "We can see that loan approval rate for the applicants with low Total_Income is very less compared to the other categories."
   ]
  },
  {
   "cell_type": "markdown",
   "id": "ff70f7fb",
   "metadata": {},
   "source": [
    "**Analysis of Loan Amount**"
   ]
  },
  {
   "cell_type": "code",
   "execution_count": 40,
   "id": "5119ba8e",
   "metadata": {},
   "outputs": [
    {
     "data": {
      "text/plain": [
       "Text(0.5, 1.0, 'LoanAmount V/S Percentage')"
      ]
     },
     "execution_count": 40,
     "metadata": {},
     "output_type": "execute_result"
    },
    {
     "data": {
      "image/png": "[encoded data removed]",
      "text/plain": [
       "<Figure size 432x288 with 1 Axes>"
      ]
     },
     "metadata": {
      "needs_background": "light"
     },
     "output_type": "display_data"
    }
   ],
   "source": [
    "# Analyzing loan amount\n",
    "bins_ = [0,100,200,700]\n",
    "group = ['Low','Average','High']\n",
    "\n",
    "train['LoanAmount_bin'] = pd.cut(train['LoanAmount'], bins=bins_, labels=group)\n",
    "LoanAmount_bin = pd.crosstab(train['LoanAmount_bin'], train['Loan_Status'])\n",
    "\n",
    "LoanAmount_bin.div(LoanAmount_bin.sum(1).astype(float), axis=0).plot(\n",
    "    kind='bar', stacked=True, figsize=(6,4), grid=True, legend=True, rot=30, fontsize=12)\n",
    "\n",
    "plt.ylabel('Percentage', fontsize=12)\n",
    "plt.xlabel('LoanAmount', fontsize=12)\n",
    "plt.title('LoanAmount V/S Percentage', fontsize=14)"
   ]
  },
  {
   "cell_type": "markdown",
   "id": "9d6f4f10",
   "metadata": {},
   "source": [
    "* We can see that the applicants with low and average loan amount have slightly higher chance of getting their loan approved compared to the applicant with higher loan amount.\n",
    "* This supports our hypothesis in which we mentioned that if the loan amount is less, chances of loan approval should be high."
   ]
  },
  {
   "cell_type": "code",
   "execution_count": 41,
   "id": "cfba9352",
   "metadata": {},
   "outputs": [
    {
     "data": {
      "text/plain": [
       "[Text(0.5, 1.0, 'Loan_Amount_Term')]"
      ]
     },
     "execution_count": 41,
     "metadata": {},
     "output_type": "execute_result"
    },
    {
     "data": {
      "image/png": "[encoded data removed]",
      "text/plain": [
       "<Figure size 720x360 with 1 Axes>"
      ]
     },
     "metadata": {
      "needs_background": "light"
     },
     "output_type": "display_data"
    }
   ],
   "source": [
    "# Checking on the Loan_Amount_Term plot before binning\n",
    "plt.figure(figsize=(10,5))\n",
    "sns.distplot(train['Loan_Amount_Term']).set(title = 'Loan_Amount_Term')"
   ]
  },
  {
   "cell_type": "code",
   "execution_count": 42,
   "id": "d7f5ddcc",
   "metadata": {},
   "outputs": [
    {
     "data": {
      "text/plain": [
       "Text(0.5, 1.0, 'Loan_Amount_Term V/S Percentage')"
      ]
     },
     "execution_count": 42,
     "metadata": {},
     "output_type": "execute_result"
    },
    {
     "data": {
      "image/png": "[encoded data removed]",
      "text/plain": [
       "<Figure size 576x360 with 1 Axes>"
      ]
     },
     "metadata": {
      "needs_background": "light"
     },
     "output_type": "display_data"
    }
   ],
   "source": [
    "# Analyzing Loan_Amount_Term\n",
    "bins_ = [0,120,180,240,360,600]\n",
    "group = ['Very Low (10 yr)','Low (15 yr)','Medium (20 yr)','Average (30 yr)','High (30+ yr)']\n",
    "\n",
    "train['Loan_Amount_Term_bin'] = pd.cut(train['Loan_Amount_Term'], bins=bins_, labels=group)\n",
    "Loan_Amount_Term_bin = pd.crosstab(train['Loan_Amount_Term_bin'], train['Loan_Status'])\n",
    "\n",
    "Loan_Amount_Term_bin.div(Loan_Amount_Term_bin.sum(1).astype(float), axis=0).plot(\n",
    "    kind='bar', stacked=True, figsize=(8,5), grid=True, legend=True, rot=30, fontsize=12)\n",
    "\n",
    "plt.ylabel('Percentage', fontsize=12)\n",
    "plt.xlabel('Loan_Amount_Term', fontsize=12)\n",
    "plt.title('Loan_Amount_Term V/S Percentage', fontsize=14)"
   ]
  },
  {
   "cell_type": "markdown",
   "id": "ff533eb0",
   "metadata": {},
   "source": [
    "* We can see that applicants with very low term loan have higher chance of loan approval and with higher term loan have lower chance of loan approval.\n",
    "* This is in line with our hypothesis stating that the loan for lesser duration should have a higher chance of loan approval."
   ]
  },
  {
   "cell_type": "markdown",
   "id": "27b5d664",
   "metadata": {},
   "source": [
    "**We will do the following changes to find correlation between the numerical variable & Target variable**"
   ]
  },
  {
   "cell_type": "markdown",
   "id": "43e1cbff",
   "metadata": {},
   "source": [
    "*Dropping all the bins and Total_Income columns that we created earlier.*"
   ]
  },
  {
   "cell_type": "code",
   "execution_count": 43,
   "id": "5bd5d318",
   "metadata": {},
   "outputs": [],
   "source": [
    "train = train.drop(['Income_bin','Coapplicant_Income_bin','Total_Income','Total_Income_bin',\n",
    "                    'LoanAmount_bin','Loan_Amount_Term_bin'], axis=1)"
   ]
  },
  {
   "cell_type": "markdown",
   "id": "1b5e59b2",
   "metadata": {},
   "source": [
    "*Changing the Dependents variable into numerical variable; changing 3+ to 3*"
   ]
  },
  {
   "cell_type": "code",
   "execution_count": 44,
   "id": "bfd41393",
   "metadata": {},
   "outputs": [
    {
     "data": {
      "text/plain": [
       "['0', '1', '2', '3+', NaN]\n",
       "Categories (4, object): ['0', '1', '2', '3+']"
      ]
     },
     "execution_count": 44,
     "metadata": {},
     "output_type": "execute_result"
    }
   ],
   "source": [
    "train['Dependents'].unique()"
   ]
  },
  {
   "cell_type": "code",
   "execution_count": 45,
   "id": "f31046e8",
   "metadata": {},
   "outputs": [],
   "source": [
    "# Changing the Dependents column to numerical from object\n",
    "train['Dependents'].replace('0', 0, inplace=True)\n",
    "train['Dependents'].replace('1', 1, inplace=True)\n",
    "train['Dependents'].replace('2', 2, inplace=True)\n",
    "train['Dependents'].replace('3+', 3, inplace=True)"
   ]
  },
  {
   "cell_type": "code",
   "execution_count": 46,
   "id": "66d031c1",
   "metadata": {},
   "outputs": [
    {
     "data": {
      "text/plain": [
       "[0, 1, 2, 3, NaN]\n",
       "Categories (4, int64): [0, 1, 2, 3]"
      ]
     },
     "execution_count": 46,
     "metadata": {},
     "output_type": "execute_result"
    }
   ],
   "source": [
    "train['Dependents'].unique()"
   ]
  },
  {
   "cell_type": "code",
   "execution_count": 47,
   "id": "e3bdf9ea",
   "metadata": {},
   "outputs": [
    {
     "data": {
      "text/plain": [
       "['0', '1', '2', '3+', NaN]\n",
       "Categories (4, object): ['0', '1', '2', '3+']"
      ]
     },
     "execution_count": 47,
     "metadata": {},
     "output_type": "execute_result"
    }
   ],
   "source": [
    "test['Dependents'].unique()"
   ]
  },
  {
   "cell_type": "code",
   "execution_count": 48,
   "id": "9095238e",
   "metadata": {},
   "outputs": [],
   "source": [
    "# Changing the Dependents column to numerical from object\n",
    "test['Dependents'].replace('0', 0, inplace=True)\n",
    "test['Dependents'].replace('1', 1, inplace=True)\n",
    "test['Dependents'].replace('2', 2, inplace=True)\n",
    "test['Dependents'].replace('3+', 3, inplace=True)"
   ]
  },
  {
   "cell_type": "markdown",
   "id": "b08cb77d",
   "metadata": {},
   "source": [
    "*Converting the target variable's categories into 0 & 1 to find correllation between the target and Dependents variables*  \n",
    "-- One more reason for this conversion is, some models like logistic regression takes only numeric values as input.  \n",
    "-- We will replace N with 0 and Y with 1."
   ]
  },
  {
   "cell_type": "code",
   "execution_count": 49,
   "id": "5e9bff85",
   "metadata": {},
   "outputs": [],
   "source": [
    "train['Loan_Status'].replace('N', 0, inplace = True)\n",
    "train['Loan_Status'].replace('Y', 1, inplace = True)"
   ]
  },
  {
   "cell_type": "markdown",
   "id": "c5ed39e3",
   "metadata": {},
   "source": [
    "*Converting Credit_History and Loan_Status to numeric*"
   ]
  },
  {
   "cell_type": "code",
   "execution_count": 50,
   "id": "f4cde6ed",
   "metadata": {},
   "outputs": [],
   "source": [
    "train['Credit_History'] = pd.to_numeric(train['Credit_History'])\n",
    "train['Loan_Status'] = pd.to_numeric(train['Loan_Status'])"
   ]
  },
  {
   "cell_type": "markdown",
   "id": "80e7b43c",
   "metadata": {},
   "source": [
    "**Checking correlation between all the numerical variables**  \n",
    "-- We will use heat map to visualize the correlation  \n",
    "-- Heat map visualizes data thru variations in color. Darker the color, stronger the correlation"
   ]
  },
  {
   "cell_type": "code",
   "execution_count": 51,
   "id": "e7297e25",
   "metadata": {},
   "outputs": [
    {
     "data": {
      "text/plain": [
       "<AxesSubplot:>"
      ]
     },
     "execution_count": 51,
     "metadata": {},
     "output_type": "execute_result"
    },
    {
     "data": {
      "image/png": "[encoded data removed]",
      "text/plain": [
       "<Figure size 576x360 with 2 Axes>"
      ]
     },
     "metadata": {
      "needs_background": "light"
     },
     "output_type": "display_data"
    }
   ],
   "source": [
    "matrix = train.corr()\n",
    "f, ax = plt.subplots(figsize = (8, 5))\n",
    "sns.heatmap(matrix, vmax = .7, square = True, cmap=\"YlGnBu\")"
   ]
  },
  {
   "cell_type": "markdown",
   "id": "b3a42977",
   "metadata": {},
   "source": [
    "We can see that the following variables are highly correlated  \n",
    "* ApplicantIncome & LoanAmount  \n",
    "* CoapplicantIncome & LoanAmount  \n",
    "* Credit_History & Loan_Status"
   ]
  },
  {
   "cell_type": "markdown",
   "id": "e875adf0",
   "metadata": {},
   "source": [
    "## 6. Missing value and outlier treatment"
   ]
  },
  {
   "cell_type": "code",
   "execution_count": null,
   "id": "950afac7",
   "metadata": {},
   "outputs": [],
   "source": []
  },
  {
   "cell_type": "code",
   "execution_count": null,
   "id": "020c77b5",
   "metadata": {},
   "outputs": [],
   "source": []
  },
  {
   "cell_type": "code",
   "execution_count": null,
   "id": "d7b35ccb",
   "metadata": {},
   "outputs": [],
   "source": []
  },
  {
   "cell_type": "markdown",
   "id": "d5fd6d3f",
   "metadata": {},
   "source": [
    "\n",
    "7. Evaluation Metrics for classification problems\n",
    "8. Model building: Part I\n",
    "9. Logistic Regression using stratified k-folds cross validation\n",
    "10. Feature Engineering  \n",
    "11. Model building: Part II  \n",
    "  * Logistic Regression  \n",
    "  * Decision Tree  \n",
    "  * Random Forest  \n",
    "  * XGBoost"
   ]
  }
 ],
 "metadata": {
  "kernelspec": {
   "display_name": "Python 3 (ipykernel)",
   "language": "python",
   "name": "python3"
  },
  "language_info": {
   "codemirror_mode": {
    "name": "ipython",
    "version": 3
   },
   "file_extension": ".py",
   "mimetype": "text/x-python",
   "name": "python",
   "nbconvert_exporter": "python",
   "pygments_lexer": "ipython3",
   "version": "3.9.7"
  }
 },
 "nbformat": 4,
 "nbformat_minor": 5
}
