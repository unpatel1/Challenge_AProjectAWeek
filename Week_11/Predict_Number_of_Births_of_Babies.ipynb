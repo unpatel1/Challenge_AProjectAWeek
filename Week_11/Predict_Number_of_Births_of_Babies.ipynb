{
 "cells": [
  {
   "cell_type": "markdown",
   "id": "c0ec3e5a",
   "metadata": {},
   "source": [
    "# Predict Number of Births of Babies on a Given Day\n",
    "Weekly challenge: Week 11  \n",
    "Date: 10/3/2022"
   ]
  },
  {
   "cell_type": "markdown",
   "id": "b0253e38",
   "metadata": {},
   "source": [
    "**Import libraries**"
   ]
  },
  {
   "cell_type": "code",
   "execution_count": 1,
   "id": "74a8b20c",
   "metadata": {},
   "outputs": [],
   "source": [
    "# Import libraries\n",
    "import pandas as pd\n",
    "import numpy as np\n",
    "import matplotlib.pyplot as plt # for data visualization\n",
    "import seaborn as sns # for data visualization\n",
    "# import plotly.express as px # for data visualization\n",
    "\n",
    "# from plotly.offline import init_notebook_mode # for data visualization\n",
    "# init_notebook_mode(connected = True)\n",
    "\n",
    "import warnings\n",
    "warnings.filterwarnings('ignore')"
   ]
  },
  {
   "cell_type": "code",
   "execution_count": 2,
   "id": "e0ea72cc",
   "metadata": {},
   "outputs": [],
   "source": [
    "file = r\"C:\\Users\\unpat\\_Projects\\Challenge_AProjectAWeek\\Week_11/daily-total-female-births-CA.csv\"\n",
    "f_birth = pd.read_csv(file)"
   ]
  },
  {
   "cell_type": "code",
   "execution_count": 3,
   "id": "7535c710",
   "metadata": {},
   "outputs": [
    {
     "data": {
      "text/html": [
       "<div>\n",
       "<style scoped>\n",
       "    .dataframe tbody tr th:only-of-type {\n",
       "        vertical-align: middle;\n",
       "    }\n",
       "\n",
       "    .dataframe tbody tr th {\n",
       "        vertical-align: top;\n",
       "    }\n",
       "\n",
       "    .dataframe thead th {\n",
       "        text-align: right;\n",
       "    }\n",
       "</style>\n",
       "<table border=\"1\" class=\"dataframe\">\n",
       "  <thead>\n",
       "    <tr style=\"text-align: right;\">\n",
       "      <th></th>\n",
       "      <th>date</th>\n",
       "      <th>births</th>\n",
       "    </tr>\n",
       "  </thead>\n",
       "  <tbody>\n",
       "    <tr>\n",
       "      <th>0</th>\n",
       "      <td>1959-01-01</td>\n",
       "      <td>35</td>\n",
       "    </tr>\n",
       "    <tr>\n",
       "      <th>1</th>\n",
       "      <td>1959-01-02</td>\n",
       "      <td>32</td>\n",
       "    </tr>\n",
       "    <tr>\n",
       "      <th>2</th>\n",
       "      <td>1959-01-03</td>\n",
       "      <td>30</td>\n",
       "    </tr>\n",
       "  </tbody>\n",
       "</table>\n",
       "</div>"
      ],
      "text/plain": [
       "         date  births\n",
       "0  1959-01-01      35\n",
       "1  1959-01-02      32\n",
       "2  1959-01-03      30"
      ]
     },
     "execution_count": 3,
     "metadata": {},
     "output_type": "execute_result"
    }
   ],
   "source": [
    "f_birth.head(3)"
   ]
  },
  {
   "cell_type": "code",
   "execution_count": 4,
   "id": "afff4b58",
   "metadata": {},
   "outputs": [
    {
     "data": {
      "text/plain": [
       "date      object\n",
       "births     int64\n",
       "dtype: object"
      ]
     },
     "execution_count": 4,
     "metadata": {},
     "output_type": "execute_result"
    }
   ],
   "source": [
    "f_birth.dtypes"
   ]
  },
  {
   "cell_type": "markdown",
   "id": "83a932a8",
   "metadata": {},
   "source": [
    "For time series analysis, date feature must be a row index  \n",
    "Date type is object in our data but it must be of timestamp data type  \n",
    "\n",
    "**Making row index as date**"
   ]
  },
  {
   "cell_type": "code",
   "execution_count": 5,
   "id": "f54d673f",
   "metadata": {},
   "outputs": [],
   "source": [
    "f_birth = pd.read_csv(file, parse_dates = [0], index_col = [0])"
   ]
  },
  {
   "cell_type": "code",
   "execution_count": 6,
   "id": "f977fdd5",
   "metadata": {},
   "outputs": [
    {
     "data": {
      "text/html": [
       "<div>\n",
       "<style scoped>\n",
       "    .dataframe tbody tr th:only-of-type {\n",
       "        vertical-align: middle;\n",
       "    }\n",
       "\n",
       "    .dataframe tbody tr th {\n",
       "        vertical-align: top;\n",
       "    }\n",
       "\n",
       "    .dataframe thead th {\n",
       "        text-align: right;\n",
       "    }\n",
       "</style>\n",
       "<table border=\"1\" class=\"dataframe\">\n",
       "  <thead>\n",
       "    <tr style=\"text-align: right;\">\n",
       "      <th></th>\n",
       "      <th>births</th>\n",
       "    </tr>\n",
       "    <tr>\n",
       "      <th>date</th>\n",
       "      <th></th>\n",
       "    </tr>\n",
       "  </thead>\n",
       "  <tbody>\n",
       "    <tr>\n",
       "      <th>1959-01-01</th>\n",
       "      <td>35</td>\n",
       "    </tr>\n",
       "    <tr>\n",
       "      <th>1959-01-02</th>\n",
       "      <td>32</td>\n",
       "    </tr>\n",
       "    <tr>\n",
       "      <th>1959-01-03</th>\n",
       "      <td>30</td>\n",
       "    </tr>\n",
       "  </tbody>\n",
       "</table>\n",
       "</div>"
      ],
      "text/plain": [
       "            births\n",
       "date              \n",
       "1959-01-01      35\n",
       "1959-01-02      32\n",
       "1959-01-03      30"
      ]
     },
     "execution_count": 6,
     "metadata": {},
     "output_type": "execute_result"
    }
   ],
   "source": [
    "f_birth.head(3)"
   ]
  },
  {
   "cell_type": "code",
   "execution_count": 7,
   "id": "c59f980d",
   "metadata": {},
   "outputs": [
    {
     "data": {
      "text/plain": [
       "births    int64\n",
       "dtype: object"
      ]
     },
     "execution_count": 7,
     "metadata": {},
     "output_type": "execute_result"
    }
   ],
   "source": [
    "f_birth.dtypes"
   ]
  },
  {
   "cell_type": "markdown",
   "id": "14f5b574",
   "metadata": {},
   "source": [
    "## Distribution and trend of the data\n",
    "**Converting births feature into an array before creating a distribution plot**"
   ]
  },
  {
   "cell_type": "code",
   "execution_count": 8,
   "id": "f89c9434",
   "metadata": {},
   "outputs": [
    {
     "data": {
      "text/plain": [
       "numpy.ndarray"
      ]
     },
     "execution_count": 8,
     "metadata": {},
     "output_type": "execute_result"
    }
   ],
   "source": [
    "birth_val = f_birth.values\n",
    "type(birth_val)"
   ]
  },
  {
   "cell_type": "code",
   "execution_count": 9,
   "id": "3ab8f78c",
   "metadata": {},
   "outputs": [
    {
     "data": {
      "text/plain": [
       "<AxesSubplot:xlabel='births', ylabel='Count'>"
      ]
     },
     "execution_count": 9,
     "metadata": {},
     "output_type": "execute_result"
    },
    {
     "data": {
      "image/png": "[encoded data removed]",
      "text/plain": [
       "<Figure size 576x360 with 1 Axes>"
      ]
     },
     "metadata": {
      "needs_background": "light"
     },
     "output_type": "display_data"
    }
   ],
   "source": [
    "# setting the dimensions of the plot\n",
    "plt.figure(figsize=(8,5))\n",
    "\n",
    "sns.histplot(data = f_birth, x = \"births\", kde = True, color = \"blue\")"
   ]
  },
  {
   "cell_type": "markdown",
   "id": "e9151bb4",
   "metadata": {},
   "source": [
    "* The above distribution is skewed to the right  \n",
    "* There are some outliers towards the right"
   ]
  },
  {
   "cell_type": "code",
   "execution_count": 10,
   "id": "461166e9",
   "metadata": {},
   "outputs": [
    {
     "data": {
      "text/plain": [
       "<AxesSubplot:xlabel='date'>"
      ]
     },
     "execution_count": 10,
     "metadata": {},
     "output_type": "execute_result"
    },
    {
     "data": {
      "image/png": "[encoded data removed]",
      "text/plain": [
       "<Figure size 720x360 with 1 Axes>"
      ]
     },
     "metadata": {
      "needs_background": "light"
     },
     "output_type": "display_data"
    }
   ],
   "source": [
    "# Plot of the trend\n",
    "f_birth.plot(figsize=(10,5))"
   ]
  },
  {
   "cell_type": "markdown",
   "id": "3060380f",
   "metadata": {},
   "source": [
    "This is a stationary trend; constant mean and constant standard deviation"
   ]
  },
  {
   "cell_type": "markdown",
   "id": "b153db68",
   "metadata": {},
   "source": [
    "## Use rolling on the data"
   ]
  },
  {
   "cell_type": "code",
   "execution_count": 11,
   "id": "eadd7b1a",
   "metadata": {},
   "outputs": [
    {
     "data": {
      "text/html": [
       "<div>\n",
       "<style scoped>\n",
       "    .dataframe tbody tr th:only-of-type {\n",
       "        vertical-align: middle;\n",
       "    }\n",
       "\n",
       "    .dataframe tbody tr th {\n",
       "        vertical-align: top;\n",
       "    }\n",
       "\n",
       "    .dataframe thead th {\n",
       "        text-align: right;\n",
       "    }\n",
       "</style>\n",
       "<table border=\"1\" class=\"dataframe\">\n",
       "  <thead>\n",
       "    <tr style=\"text-align: right;\">\n",
       "      <th></th>\n",
       "      <th>count</th>\n",
       "      <th>mean</th>\n",
       "      <th>std</th>\n",
       "      <th>min</th>\n",
       "      <th>25%</th>\n",
       "      <th>50%</th>\n",
       "      <th>75%</th>\n",
       "      <th>max</th>\n",
       "    </tr>\n",
       "  </thead>\n",
       "  <tbody>\n",
       "    <tr>\n",
       "      <th>births</th>\n",
       "      <td>365.0</td>\n",
       "      <td>41.980822</td>\n",
       "      <td>7.348257</td>\n",
       "      <td>23.0</td>\n",
       "      <td>37.0</td>\n",
       "      <td>42.0</td>\n",
       "      <td>46.0</td>\n",
       "      <td>73.0</td>\n",
       "    </tr>\n",
       "  </tbody>\n",
       "</table>\n",
       "</div>"
      ],
      "text/plain": [
       "        count       mean       std   min   25%   50%   75%   max\n",
       "births  365.0  41.980822  7.348257  23.0  37.0  42.0  46.0  73.0"
      ]
     },
     "execution_count": 11,
     "metadata": {},
     "output_type": "execute_result"
    }
   ],
   "source": [
    "f_birth.describe().T"
   ]
  },
  {
   "cell_type": "code",
   "execution_count": 12,
   "id": "f15a9260",
   "metadata": {},
   "outputs": [],
   "source": [
    "# Calculating 20 days rolling mean of births\n",
    "f_birth_mean = f_birth.rolling(window = 20).mean()"
   ]
  },
  {
   "cell_type": "code",
   "execution_count": 13,
   "id": "08a5b08c",
   "metadata": {},
   "outputs": [
    {
     "data": {
      "text/plain": [
       "<AxesSubplot:xlabel='date'>"
      ]
     },
     "execution_count": 13,
     "metadata": {},
     "output_type": "execute_result"
    },
    {
     "data": {
      "image/png": "[encoded data removed]",
      "text/plain": [
       "<Figure size 720x432 with 1 Axes>"
      ]
     },
     "metadata": {
      "needs_background": "light"
     },
     "output_type": "display_data"
    }
   ],
   "source": [
    "f_birth_mean.plot(figsize=(10,6))"
   ]
  },
  {
   "cell_type": "markdown",
   "id": "fd5d82d3",
   "metadata": {},
   "source": [
    "If we exclude October, there is very little trend in the # of births."
   ]
  },
  {
   "cell_type": "code",
   "execution_count": 14,
   "id": "c54327e9",
   "metadata": {},
   "outputs": [
    {
     "data": {
      "text/plain": [
       "<AxesSubplot:xlabel='date'>"
      ]
     },
     "execution_count": 14,
     "metadata": {},
     "output_type": "execute_result"
    },
    {
     "data": {
      "image/png": "[encoded data removed]",
      "text/plain": [
       "<Figure size 720x432 with 1 Axes>"
      ]
     },
     "metadata": {
      "needs_background": "light"
     },
     "output_type": "display_data"
    }
   ],
   "source": [
    "# Calculating 5 days rolling mean of births\n",
    "f_birth_mean = f_birth.rolling(window = 5).mean()\n",
    "f_birth_mean.plot(figsize=(10,6))"
   ]
  },
  {
   "cell_type": "markdown",
   "id": "de468dab",
   "metadata": {},
   "source": [
    "* Rolling window of 5 days also shows very little trend in the # of births.  \n",
    "* Rolling average (moving average) technique is used to reduce the noise (irregular pattern) in the data."
   ]
  },
  {
   "cell_type": "markdown",
   "id": "1e711345",
   "metadata": {},
   "source": [
    "## Prediction using baseline model"
   ]
  },
  {
   "cell_type": "markdown",
   "id": "94a0ce70",
   "metadata": {},
   "source": [
    "**Time series models**  \n",
    "* 1. Baseline model (Naive model)  \n",
    "  -- True reflection of the historical data  \n",
    "  -- Recent history is the best reflector of the future  \n",
    "* 2. Exponential model  \n",
    "* 3. Autoregressive model  \n",
    "* 4. Moving average model  \n",
    "* 5. ARIMA model  \n",
    "* 6. SARIMA model  \n",
    "  -- For seasonality data  \n",
    "* 7. SARIMAX model"
   ]
  },
  {
   "cell_type": "markdown",
   "id": "ec5de9e7",
   "metadata": {},
   "source": [
    "**Baseline model (Naive model)**\n",
    "* Use shift operation on the data"
   ]
  },
  {
   "cell_type": "code",
   "execution_count": 15,
   "id": "9210e506",
   "metadata": {},
   "outputs": [
    {
     "data": {
      "text/html": [
       "<div>\n",
       "<style scoped>\n",
       "    .dataframe tbody tr th:only-of-type {\n",
       "        vertical-align: middle;\n",
       "    }\n",
       "\n",
       "    .dataframe tbody tr th {\n",
       "        vertical-align: top;\n",
       "    }\n",
       "\n",
       "    .dataframe thead th {\n",
       "        text-align: right;\n",
       "    }\n",
       "</style>\n",
       "<table border=\"1\" class=\"dataframe\">\n",
       "  <thead>\n",
       "    <tr style=\"text-align: right;\">\n",
       "      <th></th>\n",
       "      <th>births</th>\n",
       "    </tr>\n",
       "    <tr>\n",
       "      <th>date</th>\n",
       "      <th></th>\n",
       "    </tr>\n",
       "  </thead>\n",
       "  <tbody>\n",
       "    <tr>\n",
       "      <th>1959-01-01</th>\n",
       "      <td>35</td>\n",
       "    </tr>\n",
       "    <tr>\n",
       "      <th>1959-01-02</th>\n",
       "      <td>32</td>\n",
       "    </tr>\n",
       "    <tr>\n",
       "      <th>1959-01-03</th>\n",
       "      <td>30</td>\n",
       "    </tr>\n",
       "  </tbody>\n",
       "</table>\n",
       "</div>"
      ],
      "text/plain": [
       "            births\n",
       "date              \n",
       "1959-01-01      35\n",
       "1959-01-02      32\n",
       "1959-01-03      30"
      ]
     },
     "execution_count": 15,
     "metadata": {},
     "output_type": "execute_result"
    }
   ],
   "source": [
    "f_birth.head(3)"
   ]
  },
  {
   "cell_type": "code",
   "execution_count": 16,
   "id": "5d53f40f",
   "metadata": {},
   "outputs": [],
   "source": [
    "# Performing shift operation\n",
    "forecast = f_birth.shift(1)"
   ]
  },
  {
   "cell_type": "code",
   "execution_count": 17,
   "id": "c16dd07f",
   "metadata": {},
   "outputs": [
    {
     "data": {
      "text/html": [
       "<div>\n",
       "<style scoped>\n",
       "    .dataframe tbody tr th:only-of-type {\n",
       "        vertical-align: middle;\n",
       "    }\n",
       "\n",
       "    .dataframe tbody tr th {\n",
       "        vertical-align: top;\n",
       "    }\n",
       "\n",
       "    .dataframe thead th {\n",
       "        text-align: right;\n",
       "    }\n",
       "</style>\n",
       "<table border=\"1\" class=\"dataframe\">\n",
       "  <thead>\n",
       "    <tr style=\"text-align: right;\">\n",
       "      <th></th>\n",
       "      <th>births</th>\n",
       "      <th>births</th>\n",
       "    </tr>\n",
       "    <tr>\n",
       "      <th>date</th>\n",
       "      <th></th>\n",
       "      <th></th>\n",
       "    </tr>\n",
       "  </thead>\n",
       "  <tbody>\n",
       "    <tr>\n",
       "      <th>1959-01-01</th>\n",
       "      <td>35</td>\n",
       "      <td>NaN</td>\n",
       "    </tr>\n",
       "    <tr>\n",
       "      <th>1959-01-02</th>\n",
       "      <td>32</td>\n",
       "      <td>35.0</td>\n",
       "    </tr>\n",
       "    <tr>\n",
       "      <th>1959-01-03</th>\n",
       "      <td>30</td>\n",
       "      <td>32.0</td>\n",
       "    </tr>\n",
       "    <tr>\n",
       "      <th>1959-01-04</th>\n",
       "      <td>31</td>\n",
       "      <td>30.0</td>\n",
       "    </tr>\n",
       "    <tr>\n",
       "      <th>1959-01-05</th>\n",
       "      <td>44</td>\n",
       "      <td>31.0</td>\n",
       "    </tr>\n",
       "    <tr>\n",
       "      <th>...</th>\n",
       "      <td>...</td>\n",
       "      <td>...</td>\n",
       "    </tr>\n",
       "    <tr>\n",
       "      <th>1959-12-27</th>\n",
       "      <td>37</td>\n",
       "      <td>34.0</td>\n",
       "    </tr>\n",
       "    <tr>\n",
       "      <th>1959-12-28</th>\n",
       "      <td>52</td>\n",
       "      <td>37.0</td>\n",
       "    </tr>\n",
       "    <tr>\n",
       "      <th>1959-12-29</th>\n",
       "      <td>48</td>\n",
       "      <td>52.0</td>\n",
       "    </tr>\n",
       "    <tr>\n",
       "      <th>1959-12-30</th>\n",
       "      <td>55</td>\n",
       "      <td>48.0</td>\n",
       "    </tr>\n",
       "    <tr>\n",
       "      <th>1959-12-31</th>\n",
       "      <td>50</td>\n",
       "      <td>55.0</td>\n",
       "    </tr>\n",
       "  </tbody>\n",
       "</table>\n",
       "<p>365 rows × 2 columns</p>\n",
       "</div>"
      ],
      "text/plain": [
       "            births  births\n",
       "date                      \n",
       "1959-01-01      35     NaN\n",
       "1959-01-02      32    35.0\n",
       "1959-01-03      30    32.0\n",
       "1959-01-04      31    30.0\n",
       "1959-01-05      44    31.0\n",
       "...            ...     ...\n",
       "1959-12-27      37    34.0\n",
       "1959-12-28      52    37.0\n",
       "1959-12-29      48    52.0\n",
       "1959-12-30      55    48.0\n",
       "1959-12-31      50    55.0\n",
       "\n",
       "[365 rows x 2 columns]"
      ]
     },
     "execution_count": 17,
     "metadata": {},
     "output_type": "execute_result"
    }
   ],
   "source": [
    "# Concatinating f_birth & forecast dataframes\n",
    "birth_df = pd.concat([f_birth,forecast], axis = 1)\n",
    "birth_df"
   ]
  },
  {
   "cell_type": "code",
   "execution_count": 18,
   "id": "f08abc03",
   "metadata": {},
   "outputs": [
    {
     "data": {
      "text/html": [
       "<div>\n",
       "<style scoped>\n",
       "    .dataframe tbody tr th:only-of-type {\n",
       "        vertical-align: middle;\n",
       "    }\n",
       "\n",
       "    .dataframe tbody tr th {\n",
       "        vertical-align: top;\n",
       "    }\n",
       "\n",
       "    .dataframe thead th {\n",
       "        text-align: right;\n",
       "    }\n",
       "</style>\n",
       "<table border=\"1\" class=\"dataframe\">\n",
       "  <thead>\n",
       "    <tr style=\"text-align: right;\">\n",
       "      <th></th>\n",
       "      <th>actual_birth</th>\n",
       "      <th>forecast_birth</th>\n",
       "    </tr>\n",
       "    <tr>\n",
       "      <th>date</th>\n",
       "      <th></th>\n",
       "      <th></th>\n",
       "    </tr>\n",
       "  </thead>\n",
       "  <tbody>\n",
       "    <tr>\n",
       "      <th>1959-01-01</th>\n",
       "      <td>35</td>\n",
       "      <td>NaN</td>\n",
       "    </tr>\n",
       "    <tr>\n",
       "      <th>1959-01-02</th>\n",
       "      <td>32</td>\n",
       "      <td>35.0</td>\n",
       "    </tr>\n",
       "    <tr>\n",
       "      <th>1959-01-03</th>\n",
       "      <td>30</td>\n",
       "      <td>32.0</td>\n",
       "    </tr>\n",
       "    <tr>\n",
       "      <th>1959-01-04</th>\n",
       "      <td>31</td>\n",
       "      <td>30.0</td>\n",
       "    </tr>\n",
       "    <tr>\n",
       "      <th>1959-01-05</th>\n",
       "      <td>44</td>\n",
       "      <td>31.0</td>\n",
       "    </tr>\n",
       "  </tbody>\n",
       "</table>\n",
       "</div>"
      ],
      "text/plain": [
       "            actual_birth  forecast_birth\n",
       "date                                    \n",
       "1959-01-01            35             NaN\n",
       "1959-01-02            32            35.0\n",
       "1959-01-03            30            32.0\n",
       "1959-01-04            31            30.0\n",
       "1959-01-05            44            31.0"
      ]
     },
     "execution_count": 18,
     "metadata": {},
     "output_type": "execute_result"
    }
   ],
   "source": [
    "# Renaming the columns\n",
    "birth_df.columns = ['actual_birth','forecast_birth']\n",
    "birth_df.head()"
   ]
  },
  {
   "cell_type": "markdown",
   "id": "f67e52b5",
   "metadata": {},
   "source": [
    "## Evaluate the accuracy of our baseline model"
   ]
  },
  {
   "cell_type": "markdown",
   "id": "f0af532f",
   "metadata": {},
   "source": [
    "**Two ways to compute the accuracy / error**  \n",
    "* 1. We can do it on complete dataset  \n",
    "* 2. Train, test, split (sklearn)  \n",
    "\n",
    "Our dataset is small so we can use the complete dataset for evaluation instead of train, test, split method  \n",
    "We will compute mean square error (MSE) using sklearn"
   ]
  },
  {
   "cell_type": "code",
   "execution_count": 19,
   "id": "e4191eaf",
   "metadata": {},
   "outputs": [],
   "source": [
    "from sklearn.metrics import mean_squared_error"
   ]
  },
  {
   "cell_type": "code",
   "execution_count": 20,
   "id": "ab38f812",
   "metadata": {},
   "outputs": [
    {
     "data": {
      "text/plain": [
       "84.22252747252747"
      ]
     },
     "execution_count": 20,
     "metadata": {},
     "output_type": "execute_result"
    }
   ],
   "source": [
    "# We have a missing value at [0] index so will start from [1] index\n",
    "mean_squared_error(y_pred = birth_df['forecast_birth'][1:], y_true = birth_df['actual_birth'][1:])"
   ]
  },
  {
   "cell_type": "code",
   "execution_count": 21,
   "id": "6f4e47f4",
   "metadata": {
    "scrolled": true
   },
   "outputs": [
    {
     "data": {
      "text/plain": [
       "84.22252747252747"
      ]
     },
     "execution_count": 21,
     "metadata": {},
     "output_type": "execute_result"
    }
   ],
   "source": [
    "# I am showing here that switching the order of y_pred and y_true doesn't make any difference\n",
    "mean_squared_error(y_true = birth_df['actual_birth'][1:], y_pred = birth_df['forecast_birth'][1:])"
   ]
  },
  {
   "cell_type": "code",
   "execution_count": 22,
   "id": "d84e2f64",
   "metadata": {},
   "outputs": [
    {
     "data": {
      "text/plain": [
       "9.177283229394606"
      ]
     },
     "execution_count": 22,
     "metadata": {},
     "output_type": "execute_result"
    }
   ],
   "source": [
    "# Computing RMSE (root mean square error)\n",
    "np.sqrt(mean_squared_error(y_pred = birth_df['forecast_birth'][1:], y_true = birth_df['actual_birth'][1:]))"
   ]
  },
  {
   "cell_type": "markdown",
   "id": "50bff2ff",
   "metadata": {},
   "source": [
    "* We have an error (RMSE) of about +/- 9 in our prediction  \n",
    "* If we have high outliers in our data, this error will increase so we should deal with high outlier data  \n",
    "* We do have higher outliers (> 60 births) in our data and addressing these outliers would decrease our RSME"
   ]
  },
  {
   "cell_type": "markdown",
   "id": "556532e0",
   "metadata": {},
   "source": [
    "## ARIMA"
   ]
  },
  {
   "cell_type": "markdown",
   "id": "315a0acc",
   "metadata": {},
   "source": [
    "**AR + I + MA**  \n",
    "AR: Autoregressive model ---> P  \n",
    "I: Integrating (differencing) ---> d  \n",
    "MA: Moving average ---> q  \n",
    "\n",
    "`ARIMA ---> (p, d, q)`  \n",
    "\n",
    "-- `PACF` (Partial Autocorrelation Function / Factor) to compute `p`  \n",
    "-- `Differencing` to compute `d` parameter  \n",
    "-- `ACF` (Autocorrelation Function / Factor) to compute `d`  "
   ]
  },
  {
   "cell_type": "markdown",
   "id": "e9b8a2a5",
   "metadata": {},
   "source": [
    "**Auto ARIMA**  \n",
    "* Auto ML model of ARIMA  \n",
    "* Automated version of ARIMA  \n",
    "* We do not have to set p, d, q values manually; Auto ARIMA model will consider it in an automated way  "
   ]
  },
  {
   "cell_type": "markdown",
   "id": "b3a48a8d",
   "metadata": {},
   "source": [
    "## ACF\n",
    "## MA Model\n",
    "Autocorrelation Function / Factor  "
   ]
  },
  {
   "cell_type": "markdown",
   "id": "5e291cf0",
   "metadata": {},
   "source": [
    "**ACF order of 1**  \n",
    "\n",
    "Datapoints:  \n",
    "x1 - 100  \n",
    "x2 - 110  \n",
    "x3 - 120  \n",
    "x4 - 130  \n",
    "x5 - 140  \n",
    "\n",
    "The meaning of `ACF order of 1` is:  \n",
    "110 is related to 100  \n",
    "120 is related to 110  \n",
    "130 is related to 120  \n",
    "140 is related to 130  \n",
    "\n",
    "x1 = lambda * x2 + some error (residue) ---> any of the equation has this format, it means there is some correlation / dependency in data"
   ]
  },
  {
   "cell_type": "markdown",
   "id": "0f4278a1",
   "metadata": {},
   "source": [
    "**ACF order of 2**  \n",
    "\n",
    "Datapoints:  \n",
    "x1 - 100  \n",
    "x2 - 110  \n",
    "x3 - 120  \n",
    "x4 - 130  \n",
    "x5 - 140  \n",
    "\n",
    "The meaning of `ACF order of 2` is:  \n",
    "120 is related to 100  \n",
    "130 is related to 110  \n",
    "140 is related to 120  \n",
    "\n",
    "There is some correlation in the data.  \n",
    "\n",
    "In time series there is some trend between some current data and previous data.  \n",
    "\n",
    "current observation  \n",
    "previous observation  \n",
    "\n",
    "After how many rows this relationship starts to fail between the current and previous observations. The q will tell this info (After how many rows this relationship starts to fail).  \n",
    "\n",
    "Q gives us an idea of after how many rows this relationship is no more significant. Or we can say after how many rows we can minimize this effect of correlation.\n",
    "\n",
    "between 100 - 110 --> correlation of 0.8  \n",
    "between 100 - 120 --> correlation of 0.6  \n",
    "between 100 - 105 --> correlation of 0.2  \n",
    "\n",
    "Our correlation starts decreasing; in such case we can choose value of ACF (q) = 3  \n",
    "\n",
    "Autocorrelation plot --> x-axis -- lag index, y-axis -- correlation  \n",
    "\n",
    "In ACF by default optimum value of boundry is 0.1, ACF < 0.1 is a good value  "
   ]
  },
  {
   "cell_type": "markdown",
   "id": "52f37118",
   "metadata": {},
   "source": [
    "## PACF\n",
    "## AR Model"
   ]
  },
  {
   "cell_type": "markdown",
   "id": "0951c84e",
   "metadata": {},
   "source": [
    "When there is a correlation, we have to deal with it. We have to move this correlation in the time series data."
   ]
  },
  {
   "cell_type": "markdown",
   "id": "26894af8",
   "metadata": {},
   "source": [
    "PACF (Partial Autocorrelation Function / Factor) will give value of p parameter  \n",
    "\n",
    "100  \n",
    "110  \n",
    "120  \n",
    "125  \n",
    "\n",
    "100 correlated --> 110 correlated --> 120 correlated --> 105 ===> Autocorrelati1n  \n",
    "\n",
    "100 correlated --> 110  \n",
    "100 correlated --> 120  \n",
    "100 correlated --> 105  \n",
    "-- indirect correlation / partial correlation  \n",
    "-- each and every data is correlated with eachother and we need to minimize effect of this type of partial correlation in this time series data."
   ]
  },
  {
   "cell_type": "markdown",
   "id": "98e59cb0",
   "metadata": {},
   "source": [
    "**Main goal of ACF and PACF ---> minimize correlation in data**  "
   ]
  },
  {
   "cell_type": "code",
   "execution_count": null,
   "id": "e2b796e0",
   "metadata": {},
   "outputs": [],
   "source": []
  },
  {
   "cell_type": "code",
   "execution_count": null,
   "id": "5bd5ef50",
   "metadata": {},
   "outputs": [],
   "source": []
  },
  {
   "cell_type": "code",
   "execution_count": null,
   "id": "b5063792",
   "metadata": {},
   "outputs": [],
   "source": []
  },
  {
   "cell_type": "code",
   "execution_count": null,
   "id": "6141fe3a",
   "metadata": {},
   "outputs": [],
   "source": []
  },
  {
   "cell_type": "code",
   "execution_count": null,
   "id": "c51896b1",
   "metadata": {},
   "outputs": [],
   "source": []
  },
  {
   "cell_type": "code",
   "execution_count": null,
   "id": "ceb72c94",
   "metadata": {},
   "outputs": [],
   "source": []
  },
  {
   "cell_type": "code",
   "execution_count": null,
   "id": "3682ab61",
   "metadata": {},
   "outputs": [],
   "source": []
  },
  {
   "cell_type": "code",
   "execution_count": null,
   "id": "8a314e9d",
   "metadata": {},
   "outputs": [],
   "source": []
  },
  {
   "cell_type": "code",
   "execution_count": null,
   "id": "6d4441f4",
   "metadata": {},
   "outputs": [],
   "source": []
  },
  {
   "cell_type": "code",
   "execution_count": null,
   "id": "515a8e53",
   "metadata": {},
   "outputs": [],
   "source": []
  },
  {
   "cell_type": "code",
   "execution_count": null,
   "id": "381faf38",
   "metadata": {},
   "outputs": [],
   "source": []
  },
  {
   "cell_type": "code",
   "execution_count": null,
   "id": "8175dc6b",
   "metadata": {},
   "outputs": [],
   "source": []
  },
  {
   "cell_type": "code",
   "execution_count": null,
   "id": "3437fa14",
   "metadata": {},
   "outputs": [],
   "source": []
  }
 ],
 "metadata": {
  "kernelspec": {
   "display_name": "Python 3 (ipykernel)",
   "language": "python",
   "name": "python3"
  },
  "language_info": {
   "codemirror_mode": {
    "name": "ipython",
    "version": 3
   },
   "file_extension": ".py",
   "mimetype": "text/x-python",
   "name": "python",
   "nbconvert_exporter": "python",
   "pygments_lexer": "ipython3",
   "version": "3.9.7"
  }
 },
 "nbformat": 4,
 "nbformat_minor": 5
}
