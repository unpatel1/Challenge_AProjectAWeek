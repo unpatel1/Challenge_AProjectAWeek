{
 "cells": [
  {
   "cell_type": "markdown",
   "id": "15fdc95b",
   "metadata": {},
   "source": [
    "# Zomato Geospatial Data Analysis\n",
    "Weekly challenge: Week 7b  \n",
    "Date: 9/6/2022"
   ]
  },
  {
   "cell_type": "markdown",
   "id": "4a7736d9",
   "metadata": {},
   "source": [
    "## Import libraries"
   ]
  },
  {
   "cell_type": "code",
   "execution_count": 24,
   "id": "76b9d9ab",
   "metadata": {},
   "outputs": [],
   "source": [
    "import pandas as pd\n",
    "import numpy as np\n",
    "import matplotlib.pyplot as plt\n",
    "import seaborn as sns\n",
    "\n",
    "import warnings\n",
    "warnings.filterwarnings('ignore')"
   ]
  },
  {
   "cell_type": "code",
   "execution_count": 9,
   "id": "d496fc65",
   "metadata": {},
   "outputs": [
    {
     "data": {
      "text/html": [
       "<div>\n",
       "<style scoped>\n",
       "    .dataframe tbody tr th:only-of-type {\n",
       "        vertical-align: middle;\n",
       "    }\n",
       "\n",
       "    .dataframe tbody tr th {\n",
       "        vertical-align: top;\n",
       "    }\n",
       "\n",
       "    .dataframe thead th {\n",
       "        text-align: right;\n",
       "    }\n",
       "</style>\n",
       "<table border=\"1\" class=\"dataframe\">\n",
       "  <thead>\n",
       "    <tr style=\"text-align: right;\">\n",
       "      <th></th>\n",
       "      <th>url</th>\n",
       "      <th>address</th>\n",
       "      <th>name</th>\n",
       "      <th>online_order</th>\n",
       "      <th>book_table</th>\n",
       "      <th>rate</th>\n",
       "      <th>votes</th>\n",
       "      <th>phone</th>\n",
       "      <th>location</th>\n",
       "      <th>rest_type</th>\n",
       "      <th>dish_liked</th>\n",
       "      <th>cuisines</th>\n",
       "      <th>approx_cost(for two people)</th>\n",
       "      <th>reviews_list</th>\n",
       "      <th>menu_item</th>\n",
       "      <th>listed_in(type)</th>\n",
       "      <th>listed_in(city)</th>\n",
       "    </tr>\n",
       "  </thead>\n",
       "  <tbody>\n",
       "    <tr>\n",
       "      <th>0</th>\n",
       "      <td>https://www.zomato.com/bangalore/jalsa-banasha...</td>\n",
       "      <td>942, 21st Main Road, 2nd Stage, Banashankari, ...</td>\n",
       "      <td>Jalsa</td>\n",
       "      <td>Yes</td>\n",
       "      <td>Yes</td>\n",
       "      <td>4.1/5</td>\n",
       "      <td>775</td>\n",
       "      <td>080 42297555\\r\\n+91 9743772233</td>\n",
       "      <td>Banashankari</td>\n",
       "      <td>Casual Dining</td>\n",
       "      <td>Pasta, Lunch Buffet, Masala Papad, Paneer Laja...</td>\n",
       "      <td>North Indian, Mughlai, Chinese</td>\n",
       "      <td>800</td>\n",
       "      <td>[('Rated 4.0', 'RATED\\n  A beautiful place to ...</td>\n",
       "      <td>[]</td>\n",
       "      <td>Buffet</td>\n",
       "      <td>Banashankari</td>\n",
       "    </tr>\n",
       "    <tr>\n",
       "      <th>1</th>\n",
       "      <td>https://www.zomato.com/bangalore/spice-elephan...</td>\n",
       "      <td>2nd Floor, 80 Feet Road, Near Big Bazaar, 6th ...</td>\n",
       "      <td>Spice Elephant</td>\n",
       "      <td>Yes</td>\n",
       "      <td>No</td>\n",
       "      <td>4.1/5</td>\n",
       "      <td>787</td>\n",
       "      <td>080 41714161</td>\n",
       "      <td>Banashankari</td>\n",
       "      <td>Casual Dining</td>\n",
       "      <td>Momos, Lunch Buffet, Chocolate Nirvana, Thai G...</td>\n",
       "      <td>Chinese, North Indian, Thai</td>\n",
       "      <td>800</td>\n",
       "      <td>[('Rated 4.0', 'RATED\\n  Had been here for din...</td>\n",
       "      <td>[]</td>\n",
       "      <td>Buffet</td>\n",
       "      <td>Banashankari</td>\n",
       "    </tr>\n",
       "    <tr>\n",
       "      <th>2</th>\n",
       "      <td>https://www.zomato.com/SanchurroBangalore?cont...</td>\n",
       "      <td>1112, Next to KIMS Medical College, 17th Cross...</td>\n",
       "      <td>San Churro Cafe</td>\n",
       "      <td>Yes</td>\n",
       "      <td>No</td>\n",
       "      <td>3.8/5</td>\n",
       "      <td>918</td>\n",
       "      <td>+91 9663487993</td>\n",
       "      <td>Banashankari</td>\n",
       "      <td>Cafe, Casual Dining</td>\n",
       "      <td>Churros, Cannelloni, Minestrone Soup, Hot Choc...</td>\n",
       "      <td>Cafe, Mexican, Italian</td>\n",
       "      <td>800</td>\n",
       "      <td>[('Rated 3.0', \"RATED\\n  Ambience is not that ...</td>\n",
       "      <td>[]</td>\n",
       "      <td>Buffet</td>\n",
       "      <td>Banashankari</td>\n",
       "    </tr>\n",
       "    <tr>\n",
       "      <th>3</th>\n",
       "      <td>https://www.zomato.com/bangalore/addhuri-udupi...</td>\n",
       "      <td>1st Floor, Annakuteera, 3rd Stage, Banashankar...</td>\n",
       "      <td>Addhuri Udupi Bhojana</td>\n",
       "      <td>No</td>\n",
       "      <td>No</td>\n",
       "      <td>3.7/5</td>\n",
       "      <td>88</td>\n",
       "      <td>+91 9620009302</td>\n",
       "      <td>Banashankari</td>\n",
       "      <td>Quick Bites</td>\n",
       "      <td>Masala Dosa</td>\n",
       "      <td>South Indian, North Indian</td>\n",
       "      <td>300</td>\n",
       "      <td>[('Rated 4.0', \"RATED\\n  Great food and proper...</td>\n",
       "      <td>[]</td>\n",
       "      <td>Buffet</td>\n",
       "      <td>Banashankari</td>\n",
       "    </tr>\n",
       "    <tr>\n",
       "      <th>4</th>\n",
       "      <td>https://www.zomato.com/bangalore/grand-village...</td>\n",
       "      <td>10, 3rd Floor, Lakshmi Associates, Gandhi Baza...</td>\n",
       "      <td>Grand Village</td>\n",
       "      <td>No</td>\n",
       "      <td>No</td>\n",
       "      <td>3.8/5</td>\n",
       "      <td>166</td>\n",
       "      <td>+91 8026612447\\r\\n+91 9901210005</td>\n",
       "      <td>Basavanagudi</td>\n",
       "      <td>Casual Dining</td>\n",
       "      <td>Panipuri, Gol Gappe</td>\n",
       "      <td>North Indian, Rajasthani</td>\n",
       "      <td>600</td>\n",
       "      <td>[('Rated 4.0', 'RATED\\n  Very good restaurant ...</td>\n",
       "      <td>[]</td>\n",
       "      <td>Buffet</td>\n",
       "      <td>Banashankari</td>\n",
       "    </tr>\n",
       "  </tbody>\n",
       "</table>\n",
       "</div>"
      ],
      "text/plain": [
       "                                                 url  \\\n",
       "0  https://www.zomato.com/bangalore/jalsa-banasha...   \n",
       "1  https://www.zomato.com/bangalore/spice-elephan...   \n",
       "2  https://www.zomato.com/SanchurroBangalore?cont...   \n",
       "3  https://www.zomato.com/bangalore/addhuri-udupi...   \n",
       "4  https://www.zomato.com/bangalore/grand-village...   \n",
       "\n",
       "                                             address                   name  \\\n",
       "0  942, 21st Main Road, 2nd Stage, Banashankari, ...                  Jalsa   \n",
       "1  2nd Floor, 80 Feet Road, Near Big Bazaar, 6th ...         Spice Elephant   \n",
       "2  1112, Next to KIMS Medical College, 17th Cross...        San Churro Cafe   \n",
       "3  1st Floor, Annakuteera, 3rd Stage, Banashankar...  Addhuri Udupi Bhojana   \n",
       "4  10, 3rd Floor, Lakshmi Associates, Gandhi Baza...          Grand Village   \n",
       "\n",
       "  online_order book_table   rate  votes                             phone  \\\n",
       "0          Yes        Yes  4.1/5    775    080 42297555\\r\\n+91 9743772233   \n",
       "1          Yes         No  4.1/5    787                      080 41714161   \n",
       "2          Yes         No  3.8/5    918                    +91 9663487993   \n",
       "3           No         No  3.7/5     88                    +91 9620009302   \n",
       "4           No         No  3.8/5    166  +91 8026612447\\r\\n+91 9901210005   \n",
       "\n",
       "       location            rest_type  \\\n",
       "0  Banashankari        Casual Dining   \n",
       "1  Banashankari        Casual Dining   \n",
       "2  Banashankari  Cafe, Casual Dining   \n",
       "3  Banashankari          Quick Bites   \n",
       "4  Basavanagudi        Casual Dining   \n",
       "\n",
       "                                          dish_liked  \\\n",
       "0  Pasta, Lunch Buffet, Masala Papad, Paneer Laja...   \n",
       "1  Momos, Lunch Buffet, Chocolate Nirvana, Thai G...   \n",
       "2  Churros, Cannelloni, Minestrone Soup, Hot Choc...   \n",
       "3                                        Masala Dosa   \n",
       "4                                Panipuri, Gol Gappe   \n",
       "\n",
       "                         cuisines approx_cost(for two people)  \\\n",
       "0  North Indian, Mughlai, Chinese                         800   \n",
       "1     Chinese, North Indian, Thai                         800   \n",
       "2          Cafe, Mexican, Italian                         800   \n",
       "3      South Indian, North Indian                         300   \n",
       "4        North Indian, Rajasthani                         600   \n",
       "\n",
       "                                        reviews_list menu_item  \\\n",
       "0  [('Rated 4.0', 'RATED\\n  A beautiful place to ...        []   \n",
       "1  [('Rated 4.0', 'RATED\\n  Had been here for din...        []   \n",
       "2  [('Rated 3.0', \"RATED\\n  Ambience is not that ...        []   \n",
       "3  [('Rated 4.0', \"RATED\\n  Great food and proper...        []   \n",
       "4  [('Rated 4.0', 'RATED\\n  Very good restaurant ...        []   \n",
       "\n",
       "  listed_in(type) listed_in(city)  \n",
       "0          Buffet    Banashankari  \n",
       "1          Buffet    Banashankari  \n",
       "2          Buffet    Banashankari  \n",
       "3          Buffet    Banashankari  \n",
       "4          Buffet    Banashankari  "
      ]
     },
     "execution_count": 9,
     "metadata": {},
     "output_type": "execute_result"
    }
   ],
   "source": [
    "df = pd.read_csv(r'C:\\Users\\unpat\\_Projects\\Challenge_AprojectAweek_data_files\\Week_07\\zomato.csv')\n",
    "df.head()"
   ]
  },
  {
   "cell_type": "code",
   "execution_count": 10,
   "id": "cd0a18a4",
   "metadata": {},
   "outputs": [
    {
     "data": {
      "text/plain": [
       "url                                0\n",
       "address                            0\n",
       "name                               0\n",
       "online_order                       0\n",
       "book_table                         0\n",
       "rate                            7775\n",
       "votes                              0\n",
       "phone                           1208\n",
       "location                          21\n",
       "rest_type                        227\n",
       "dish_liked                     28078\n",
       "cuisines                          45\n",
       "approx_cost(for two people)      346\n",
       "reviews_list                       0\n",
       "menu_item                          0\n",
       "listed_in(type)                    0\n",
       "listed_in(city)                    0\n",
       "dtype: int64"
      ]
     },
     "execution_count": 10,
     "metadata": {},
     "output_type": "execute_result"
    }
   ],
   "source": [
    "df.isna().sum()"
   ]
  },
  {
   "cell_type": "markdown",
   "id": "a0ce8335",
   "metadata": {},
   "source": [
    "There are missing values in the location column. I am doing a spacial analysis here and data with missing locations won't be of any use so I will delete all rows with missing locations."
   ]
  },
  {
   "cell_type": "code",
   "execution_count": 12,
   "id": "85e7ab61",
   "metadata": {},
   "outputs": [],
   "source": [
    "df.dropna(axis = 0, how = 'any', subset = ['location'], inplace = True)\n",
    "# dropna(): https://www.w3resource.com/pandas/dataframe/dataframe-dropna.php"
   ]
  },
  {
   "cell_type": "code",
   "execution_count": 13,
   "id": "d95825de",
   "metadata": {},
   "outputs": [
    {
     "data": {
      "text/plain": [
       "url                                0\n",
       "address                            0\n",
       "name                               0\n",
       "online_order                       0\n",
       "book_table                         0\n",
       "rate                            7754\n",
       "votes                              0\n",
       "phone                           1187\n",
       "location                           0\n",
       "rest_type                        206\n",
       "dish_liked                     28057\n",
       "cuisines                          24\n",
       "approx_cost(for two people)      325\n",
       "reviews_list                       0\n",
       "menu_item                          0\n",
       "listed_in(type)                    0\n",
       "listed_in(city)                    0\n",
       "dtype: int64"
      ]
     },
     "execution_count": 13,
     "metadata": {},
     "output_type": "execute_result"
    }
   ],
   "source": [
    "df.isna().sum()"
   ]
  },
  {
   "cell_type": "code",
   "execution_count": 17,
   "id": "efdcb6cc",
   "metadata": {},
   "outputs": [
    {
     "data": {
      "text/plain": [
       "93"
      ]
     },
     "execution_count": 17,
     "metadata": {},
     "output_type": "execute_result"
    }
   ],
   "source": [
    "len(df['location'].unique())"
   ]
  },
  {
   "cell_type": "markdown",
   "id": "717407d1",
   "metadata": {},
   "source": [
    "There are 93 unique locations in this dataset."
   ]
  },
  {
   "cell_type": "code",
   "execution_count": 18,
   "id": "0ec827b3",
   "metadata": {},
   "outputs": [],
   "source": [
    "# Creating a blank dataframe that will be used to store the unique locations\n",
    "locations = pd.DataFrame()"
   ]
  },
  {
   "cell_type": "code",
   "execution_count": 20,
   "id": "4e518a76",
   "metadata": {},
   "outputs": [],
   "source": [
    "# Create a new column in the blank dataframe and adding the unique locations\n",
    "locations['Name'] = df['location'].unique()"
   ]
  },
  {
   "cell_type": "code",
   "execution_count": 22,
   "id": "20cd1159",
   "metadata": {},
   "outputs": [
    {
     "data": {
      "text/html": [
       "<div>\n",
       "<style scoped>\n",
       "    .dataframe tbody tr th:only-of-type {\n",
       "        vertical-align: middle;\n",
       "    }\n",
       "\n",
       "    .dataframe tbody tr th {\n",
       "        vertical-align: top;\n",
       "    }\n",
       "\n",
       "    .dataframe thead th {\n",
       "        text-align: right;\n",
       "    }\n",
       "</style>\n",
       "<table border=\"1\" class=\"dataframe\">\n",
       "  <thead>\n",
       "    <tr style=\"text-align: right;\">\n",
       "      <th></th>\n",
       "      <th>Name</th>\n",
       "    </tr>\n",
       "  </thead>\n",
       "  <tbody>\n",
       "    <tr>\n",
       "      <th>0</th>\n",
       "      <td>Banashankari</td>\n",
       "    </tr>\n",
       "    <tr>\n",
       "      <th>1</th>\n",
       "      <td>Basavanagudi</td>\n",
       "    </tr>\n",
       "    <tr>\n",
       "      <th>2</th>\n",
       "      <td>Mysore Road</td>\n",
       "    </tr>\n",
       "    <tr>\n",
       "      <th>3</th>\n",
       "      <td>Jayanagar</td>\n",
       "    </tr>\n",
       "    <tr>\n",
       "      <th>4</th>\n",
       "      <td>Kumaraswamy Layout</td>\n",
       "    </tr>\n",
       "  </tbody>\n",
       "</table>\n",
       "</div>"
      ],
      "text/plain": [
       "                 Name\n",
       "0        Banashankari\n",
       "1        Basavanagudi\n",
       "2         Mysore Road\n",
       "3           Jayanagar\n",
       "4  Kumaraswamy Layout"
      ]
     },
     "execution_count": 22,
     "metadata": {},
     "output_type": "execute_result"
    }
   ],
   "source": [
    "locations.head()"
   ]
  },
  {
   "cell_type": "code",
   "execution_count": 26,
   "id": "6564f03e",
   "metadata": {},
   "outputs": [],
   "source": [
    "# Installing 'geopy' library which will help us extract the latitude and longitude of each location \n",
    "#!pip install geopy"
   ]
  },
  {
   "cell_type": "code",
   "execution_count": 27,
   "id": "43032a7d",
   "metadata": {},
   "outputs": [],
   "source": [
    "from geopy.geocoders import Nominatim"
   ]
  },
  {
   "cell_type": "code",
   "execution_count": 28,
   "id": "ad3a8836",
   "metadata": {},
   "outputs": [],
   "source": [
    "geolocator = Nominatim(user_agent = 'app')"
   ]
  },
  {
   "cell_type": "code",
   "execution_count": 67,
   "id": "993000e6",
   "metadata": {},
   "outputs": [],
   "source": [
    "# Finding latitude and longitude for each location\n",
    "lat = []\n",
    "lon = []\n",
    "\n",
    "for location in locations['Name']:\n",
    "    # converting location from string to some geographical format using geocode\n",
    "    location = geolocator.geocode(location)\n",
    "    if location is None:\n",
    "        lat.append(np.nan)\n",
    "        lon.append(np.nan)\n",
    "    else:\n",
    "        lat.append(location.latitude)\n",
    "        lon.append(location.longitude)        "
   ]
  },
  {
   "cell_type": "code",
   "execution_count": 52,
   "id": "dd7fe92f",
   "metadata": {},
   "outputs": [
    {
     "name": "stdout",
     "output_type": "stream",
     "text": [
      "LAT:\n",
      " [15.8876779, 12.9417261, 12.9467026, 27.64392675, 12.9081487, 12.9274413, 22.8359967, 12.9055682, 12.2655944, 12.8845448, 39.76880625, 12.95961755, 12.8545439, 45.95485055, 12.5560169, 12.9089453, 17.2510682, 12.848759900000001, 18.1475, 12.9552572, 12.920441, 12.9489339, 22.478459, 12.9348429, 12.9408685, 40.5758316, 12.9364846, 13.6285774, 12.9327778, 12.93103185, 53.5533682, 12.9845687, 41.527815, 12.9732913, 12.9275886, 12.996845, 13.0227204, 12.9755264, 12.9736132, 40.7652844, 40.7128637, 12.9778793, 13.0530002, 18.5322493, 12.9837879, 33.117255, 36.5348643, 51.1689493, 51.5182611, 12.988721250000001, 13.0358698, 12.9624669, 12.945245, 12.9678074, 13.1261747, 13.0027353, 12.9931876, 13.0093455, 12.9390255, 1.2847055, 12.957998, 13.0101286, 30.1915796, 33.5935063, 12.9804194, 12.9413238, 13.007516, 12.9243692, 12.9282918, 13.2923988, 12.7450586, 12.9882338, 13.0141618, 12.9767936, 13.2227, 13.0258087, 13.0221416, 13.0435554, 13.0784743, nan, 12.973936, 12.9846713, 13.0382184, 12.9176571, 38.7801076, 15.8782951, 12.2950874, 13.02383, 12.9848519, 12.9756527, 13.1006982, 18.4900796, 13.0329419] \n",
      "\n",
      "LON:\n",
      " [75.7046777, 77.5755021, 77.5300705, 83.05280519687284, 77.5553179, 77.5155224, 69.3405962, 77.5455438, 76.6465404, 77.5701276, -86.15345077251979, 77.51126721318181, 77.5886892, -112.49659530324134, 77.4249605, 77.6239038, 80.1651978, 77.64825295827616, 41.538889, 77.6984163, 77.6653284, 77.5968273, 88.3541291, 77.6189768, 77.617338, -74.1273021, 77.6134783, 77.4642026, 77.6294052, 77.6782471, -2.2969019, 77.73766474151809, -71.287155, 77.6404672, 77.6308832, 77.6130165, 77.595715, 77.6067902, 77.6074716, -76.373824, -74.0095686, 77.6246697, 77.6204833, 73.8499601124847, 77.5940558, -84.837311, -79.0905056, 0.0016045, -0.0742531, 77.58516877601824, 77.6323597, 77.6381958, 77.6269144, 77.6568367, 78.1142502, 77.5703253, 77.5753419, 77.6377094, 77.6238477, 103.84320655721689, 77.6037312, 77.5548006, 74.9408769, -79.0345627, 77.7275164, 77.7471103, 77.695935, 77.6242433, 77.6254034, 77.7519261, 77.8162805, 77.554883, 77.6518539, 77.590082, 78.5541977, 77.6305067, 77.6403368, 77.5613062, 77.6068938, nan, 77.6509982, 77.6790908, 77.5919, 77.4837568, -121.5056438, 74.5084834, 76.6149845, 77.5529215, 77.5400626, 77.5553548, 77.5963454, 73.8475301, 77.5273253]\n"
     ]
    }
   ],
   "source": [
    "print('LAT:\\n', lat, '\\n')\n",
    "print('LON:\\n', lon)"
   ]
  },
  {
   "cell_type": "code",
   "execution_count": 53,
   "id": "4b305bf3",
   "metadata": {},
   "outputs": [],
   "source": [
    "# Creating 2 columns for 'lat' and 'lon' and storing the lat & lon values\n",
    "locations['lat'] = lat\n",
    "locations['lon'] = lon"
   ]
  },
  {
   "cell_type": "code",
   "execution_count": 54,
   "id": "b8870284",
   "metadata": {},
   "outputs": [
    {
     "data": {
      "text/html": [
       "<div>\n",
       "<style scoped>\n",
       "    .dataframe tbody tr th:only-of-type {\n",
       "        vertical-align: middle;\n",
       "    }\n",
       "\n",
       "    .dataframe tbody tr th {\n",
       "        vertical-align: top;\n",
       "    }\n",
       "\n",
       "    .dataframe thead th {\n",
       "        text-align: right;\n",
       "    }\n",
       "</style>\n",
       "<table border=\"1\" class=\"dataframe\">\n",
       "  <thead>\n",
       "    <tr style=\"text-align: right;\">\n",
       "      <th></th>\n",
       "      <th>Name</th>\n",
       "      <th>lat</th>\n",
       "      <th>lon</th>\n",
       "    </tr>\n",
       "  </thead>\n",
       "  <tbody>\n",
       "    <tr>\n",
       "      <th>0</th>\n",
       "      <td>Banashankari</td>\n",
       "      <td>15.887678</td>\n",
       "      <td>75.704678</td>\n",
       "    </tr>\n",
       "    <tr>\n",
       "      <th>1</th>\n",
       "      <td>Basavanagudi</td>\n",
       "      <td>12.941726</td>\n",
       "      <td>77.575502</td>\n",
       "    </tr>\n",
       "    <tr>\n",
       "      <th>2</th>\n",
       "      <td>Mysore Road</td>\n",
       "      <td>12.946703</td>\n",
       "      <td>77.530070</td>\n",
       "    </tr>\n",
       "    <tr>\n",
       "      <th>3</th>\n",
       "      <td>Jayanagar</td>\n",
       "      <td>27.643927</td>\n",
       "      <td>83.052805</td>\n",
       "    </tr>\n",
       "    <tr>\n",
       "      <th>4</th>\n",
       "      <td>Kumaraswamy Layout</td>\n",
       "      <td>12.908149</td>\n",
       "      <td>77.555318</td>\n",
       "    </tr>\n",
       "  </tbody>\n",
       "</table>\n",
       "</div>"
      ],
      "text/plain": [
       "                 Name        lat        lon\n",
       "0        Banashankari  15.887678  75.704678\n",
       "1        Basavanagudi  12.941726  77.575502\n",
       "2         Mysore Road  12.946703  77.530070\n",
       "3           Jayanagar  27.643927  83.052805\n",
       "4  Kumaraswamy Layout  12.908149  77.555318"
      ]
     },
     "execution_count": 54,
     "metadata": {},
     "output_type": "execute_result"
    }
   ],
   "source": [
    "locations.head()"
   ]
  },
  {
   "cell_type": "code",
   "execution_count": 56,
   "id": "15681ec9",
   "metadata": {},
   "outputs": [],
   "source": [
    "# Converting locations dataframe into a .csv file\n",
    "locations.to_csv(r'C:\\Users\\unpat\\_Projects\\Challenge_AProjectAWeek\\Week_07\\zomato_locations.csv', index = False)"
   ]
  },
  {
   "cell_type": "code",
   "execution_count": 62,
   "id": "7ce40bb8",
   "metadata": {},
   "outputs": [
    {
     "data": {
      "text/html": [
       "<div>\n",
       "<style scoped>\n",
       "    .dataframe tbody tr th:only-of-type {\n",
       "        vertical-align: middle;\n",
       "    }\n",
       "\n",
       "    .dataframe tbody tr th {\n",
       "        vertical-align: top;\n",
       "    }\n",
       "\n",
       "    .dataframe thead th {\n",
       "        text-align: right;\n",
       "    }\n",
       "</style>\n",
       "<table border=\"1\" class=\"dataframe\">\n",
       "  <thead>\n",
       "    <tr style=\"text-align: right;\">\n",
       "      <th></th>\n",
       "      <th>index</th>\n",
       "      <th>location</th>\n",
       "    </tr>\n",
       "  </thead>\n",
       "  <tbody>\n",
       "    <tr>\n",
       "      <th>0</th>\n",
       "      <td>BTM</td>\n",
       "      <td>5124</td>\n",
       "    </tr>\n",
       "    <tr>\n",
       "      <th>1</th>\n",
       "      <td>HSR</td>\n",
       "      <td>2523</td>\n",
       "    </tr>\n",
       "    <tr>\n",
       "      <th>2</th>\n",
       "      <td>Koramangala 5th Block</td>\n",
       "      <td>2504</td>\n",
       "    </tr>\n",
       "    <tr>\n",
       "      <th>3</th>\n",
       "      <td>JP Nagar</td>\n",
       "      <td>2235</td>\n",
       "    </tr>\n",
       "    <tr>\n",
       "      <th>4</th>\n",
       "      <td>Whitefield</td>\n",
       "      <td>2144</td>\n",
       "    </tr>\n",
       "    <tr>\n",
       "      <th>...</th>\n",
       "      <td>...</td>\n",
       "      <td>...</td>\n",
       "    </tr>\n",
       "    <tr>\n",
       "      <th>88</th>\n",
       "      <td>West Bangalore</td>\n",
       "      <td>6</td>\n",
       "    </tr>\n",
       "    <tr>\n",
       "      <th>89</th>\n",
       "      <td>Yelahanka</td>\n",
       "      <td>6</td>\n",
       "    </tr>\n",
       "    <tr>\n",
       "      <th>90</th>\n",
       "      <td>Jakkur</td>\n",
       "      <td>3</td>\n",
       "    </tr>\n",
       "    <tr>\n",
       "      <th>91</th>\n",
       "      <td>Rajarajeshwari Nagar</td>\n",
       "      <td>2</td>\n",
       "    </tr>\n",
       "    <tr>\n",
       "      <th>92</th>\n",
       "      <td>Peenya</td>\n",
       "      <td>1</td>\n",
       "    </tr>\n",
       "  </tbody>\n",
       "</table>\n",
       "<p>93 rows × 2 columns</p>\n",
       "</div>"
      ],
      "text/plain": [
       "                    index  location\n",
       "0                     BTM      5124\n",
       "1                     HSR      2523\n",
       "2   Koramangala 5th Block      2504\n",
       "3                JP Nagar      2235\n",
       "4              Whitefield      2144\n",
       "..                    ...       ...\n",
       "88         West Bangalore         6\n",
       "89              Yelahanka         6\n",
       "90                 Jakkur         3\n",
       "91   Rajarajeshwari Nagar         2\n",
       "92                 Peenya         1\n",
       "\n",
       "[93 rows x 2 columns]"
      ]
     },
     "execution_count": 62,
     "metadata": {},
     "output_type": "execute_result"
    }
   ],
   "source": [
    "# Counting the # of restaurants per location and converting it to a dataframe\n",
    "Rest_locations = df['location'].value_counts().reset_index()\n",
    "Rest_locations"
   ]
  },
  {
   "cell_type": "code",
   "execution_count": 64,
   "id": "03f2fb10",
   "metadata": {},
   "outputs": [
    {
     "data": {
      "text/html": [
       "<div>\n",
       "<style scoped>\n",
       "    .dataframe tbody tr th:only-of-type {\n",
       "        vertical-align: middle;\n",
       "    }\n",
       "\n",
       "    .dataframe tbody tr th {\n",
       "        vertical-align: top;\n",
       "    }\n",
       "\n",
       "    .dataframe thead th {\n",
       "        text-align: right;\n",
       "    }\n",
       "</style>\n",
       "<table border=\"1\" class=\"dataframe\">\n",
       "  <thead>\n",
       "    <tr style=\"text-align: right;\">\n",
       "      <th></th>\n",
       "      <th>Name</th>\n",
       "      <th>count</th>\n",
       "    </tr>\n",
       "  </thead>\n",
       "  <tbody>\n",
       "    <tr>\n",
       "      <th>0</th>\n",
       "      <td>BTM</td>\n",
       "      <td>5124</td>\n",
       "    </tr>\n",
       "    <tr>\n",
       "      <th>1</th>\n",
       "      <td>HSR</td>\n",
       "      <td>2523</td>\n",
       "    </tr>\n",
       "    <tr>\n",
       "      <th>2</th>\n",
       "      <td>Koramangala 5th Block</td>\n",
       "      <td>2504</td>\n",
       "    </tr>\n",
       "    <tr>\n",
       "      <th>3</th>\n",
       "      <td>JP Nagar</td>\n",
       "      <td>2235</td>\n",
       "    </tr>\n",
       "    <tr>\n",
       "      <th>4</th>\n",
       "      <td>Whitefield</td>\n",
       "      <td>2144</td>\n",
       "    </tr>\n",
       "    <tr>\n",
       "      <th>...</th>\n",
       "      <td>...</td>\n",
       "      <td>...</td>\n",
       "    </tr>\n",
       "    <tr>\n",
       "      <th>88</th>\n",
       "      <td>West Bangalore</td>\n",
       "      <td>6</td>\n",
       "    </tr>\n",
       "    <tr>\n",
       "      <th>89</th>\n",
       "      <td>Yelahanka</td>\n",
       "      <td>6</td>\n",
       "    </tr>\n",
       "    <tr>\n",
       "      <th>90</th>\n",
       "      <td>Jakkur</td>\n",
       "      <td>3</td>\n",
       "    </tr>\n",
       "    <tr>\n",
       "      <th>91</th>\n",
       "      <td>Rajarajeshwari Nagar</td>\n",
       "      <td>2</td>\n",
       "    </tr>\n",
       "    <tr>\n",
       "      <th>92</th>\n",
       "      <td>Peenya</td>\n",
       "      <td>1</td>\n",
       "    </tr>\n",
       "  </tbody>\n",
       "</table>\n",
       "<p>93 rows × 2 columns</p>\n",
       "</div>"
      ],
      "text/plain": [
       "                     Name  count\n",
       "0                     BTM   5124\n",
       "1                     HSR   2523\n",
       "2   Koramangala 5th Block   2504\n",
       "3                JP Nagar   2235\n",
       "4              Whitefield   2144\n",
       "..                    ...    ...\n",
       "88         West Bangalore      6\n",
       "89              Yelahanka      6\n",
       "90                 Jakkur      3\n",
       "91   Rajarajeshwari Nagar      2\n",
       "92                 Peenya      1\n",
       "\n",
       "[93 rows x 2 columns]"
      ]
     },
     "execution_count": 64,
     "metadata": {},
     "output_type": "execute_result"
    }
   ],
   "source": [
    "# Renaming columns\n",
    "Rest_locations.columns = ['Name', 'count']\n",
    "Rest_locations"
   ]
  },
  {
   "cell_type": "code",
   "execution_count": 65,
   "id": "fdbf0dac",
   "metadata": {},
   "outputs": [
    {
     "data": {
      "text/html": [
       "<div>\n",
       "<style scoped>\n",
       "    .dataframe tbody tr th:only-of-type {\n",
       "        vertical-align: middle;\n",
       "    }\n",
       "\n",
       "    .dataframe tbody tr th {\n",
       "        vertical-align: top;\n",
       "    }\n",
       "\n",
       "    .dataframe thead th {\n",
       "        text-align: right;\n",
       "    }\n",
       "</style>\n",
       "<table border=\"1\" class=\"dataframe\">\n",
       "  <thead>\n",
       "    <tr style=\"text-align: right;\">\n",
       "      <th></th>\n",
       "      <th>Name</th>\n",
       "      <th>count</th>\n",
       "      <th>lat</th>\n",
       "      <th>lon</th>\n",
       "    </tr>\n",
       "  </thead>\n",
       "  <tbody>\n",
       "    <tr>\n",
       "      <th>0</th>\n",
       "      <td>BTM</td>\n",
       "      <td>5124</td>\n",
       "      <td>45.954851</td>\n",
       "      <td>-112.496595</td>\n",
       "    </tr>\n",
       "    <tr>\n",
       "      <th>1</th>\n",
       "      <td>HSR</td>\n",
       "      <td>2523</td>\n",
       "      <td>18.147500</td>\n",
       "      <td>41.538889</td>\n",
       "    </tr>\n",
       "    <tr>\n",
       "      <th>2</th>\n",
       "      <td>Koramangala 5th Block</td>\n",
       "      <td>2504</td>\n",
       "      <td>12.934843</td>\n",
       "      <td>77.618977</td>\n",
       "    </tr>\n",
       "    <tr>\n",
       "      <th>3</th>\n",
       "      <td>JP Nagar</td>\n",
       "      <td>2235</td>\n",
       "      <td>12.265594</td>\n",
       "      <td>76.646540</td>\n",
       "    </tr>\n",
       "    <tr>\n",
       "      <th>4</th>\n",
       "      <td>Whitefield</td>\n",
       "      <td>2144</td>\n",
       "      <td>53.553368</td>\n",
       "      <td>-2.296902</td>\n",
       "    </tr>\n",
       "  </tbody>\n",
       "</table>\n",
       "</div>"
      ],
      "text/plain": [
       "                    Name  count        lat         lon\n",
       "0                    BTM   5124  45.954851 -112.496595\n",
       "1                    HSR   2523  18.147500   41.538889\n",
       "2  Koramangala 5th Block   2504  12.934843   77.618977\n",
       "3               JP Nagar   2235  12.265594   76.646540\n",
       "4             Whitefield   2144  53.553368   -2.296902"
      ]
     },
     "execution_count": 65,
     "metadata": {},
     "output_type": "execute_result"
    }
   ],
   "source": [
    "# Merging locations and Rest_locations dataframes on Name column, dropping na values\n",
    "Restaurant_locations = Rest_locations.merge(locations, on = 'Name', how = 'left').dropna()\n",
    "Restaurant_locations.head()"
   ]
  },
  {
   "cell_type": "code",
   "execution_count": 72,
   "id": "528b99b9",
   "metadata": {},
   "outputs": [],
   "source": [
    "# Installing folium library to create a base map\n",
    "# !pip install folium"
   ]
  },
  {
   "cell_type": "code",
   "execution_count": 75,
   "id": "93fba8dd",
   "metadata": {},
   "outputs": [],
   "source": [
    "import folium"
   ]
  },
  {
   "cell_type": "code",
   "execution_count": 82,
   "id": "b56cec92",
   "metadata": {},
   "outputs": [],
   "source": [
    "# Creating a function to generate base map\n",
    "def generatebasemap(default_location=[12.97,77.59], default_zoom_start=12):\n",
    "    basemap = folium.Map(location=default_location, zoom_start=default_zoom_start)\n",
    "    return basemap"
   ]
  },
  {
   "cell_type": "code",
   "execution_count": 110,
   "id": "b9b11524",
   "metadata": {},
   "outputs": [
    {
     "data": {
      "text/html": [
       "<div style=\"width:100%;\"><div style=\"position:relative;width:100%;height:0;padding-bottom:60%;\"><span style=\"color:#565656\">Make this Notebook Trusted to load map: File -> Trust Notebook</span><iframe srcdoc=\"&lt;!DOCTYPE html&gt;\n",
       "&lt;head&gt;    \n",
       "    &lt;meta http-equiv=&quot;content-type&quot; content=&quot;text/html; charset=UTF-8&quot; /&gt;\n",
       "    \n",
       "        &lt;script&gt;\n",
       "            L_NO_TOUCH = false;\n",
       "            L_DISABLE_3D = false;\n",
       "        &lt;/script&gt;\n",
       "    \n",
       "    &lt;style&gt;html, body {width: 100%;height: 100%;margin: 0;padding: 0;}&lt;/style&gt;\n",
       "    &lt;style&gt;#map {position:absolute;top:0;bottom:0;right:0;left:0;}&lt;/style&gt;\n",
       "    &lt;script src=&quot;https://cdn.jsdelivr.net/npm/leaflet@1.6.0/dist/leaflet.js&quot;&gt;&lt;/script&gt;\n",
       "    &lt;script src=&quot;https://code.jquery.com/jquery-1.12.4.min.js&quot;&gt;&lt;/script&gt;\n",
       "    &lt;script src=&quot;https://maxcdn.bootstrapcdn.com/bootstrap/3.2.0/js/bootstrap.min.js&quot;&gt;&lt;/script&gt;\n",
       "    &lt;script src=&quot;https://cdnjs.cloudflare.com/ajax/libs/Leaflet.awesome-markers/2.0.2/leaflet.awesome-markers.js&quot;&gt;&lt;/script&gt;\n",
       "    &lt;link rel=&quot;stylesheet&quot; href=&quot;https://cdn.jsdelivr.net/npm/leaflet@1.6.0/dist/leaflet.css&quot;/&gt;\n",
       "    &lt;link rel=&quot;stylesheet&quot; href=&quot;https://maxcdn.bootstrapcdn.com/bootstrap/3.2.0/css/bootstrap.min.css&quot;/&gt;\n",
       "    &lt;link rel=&quot;stylesheet&quot; href=&quot;https://maxcdn.bootstrapcdn.com/bootstrap/3.2.0/css/bootstrap-theme.min.css&quot;/&gt;\n",
       "    &lt;link rel=&quot;stylesheet&quot; href=&quot;https://maxcdn.bootstrapcdn.com/font-awesome/4.6.3/css/font-awesome.min.css&quot;/&gt;\n",
       "    &lt;link rel=&quot;stylesheet&quot; href=&quot;https://cdnjs.cloudflare.com/ajax/libs/Leaflet.awesome-markers/2.0.2/leaflet.awesome-markers.css&quot;/&gt;\n",
       "    &lt;link rel=&quot;stylesheet&quot; href=&quot;https://cdn.jsdelivr.net/gh/python-visualization/folium/folium/templates/leaflet.awesome.rotate.min.css&quot;/&gt;\n",
       "    \n",
       "            &lt;meta name=&quot;viewport&quot; content=&quot;width=device-width,\n",
       "                initial-scale=1.0, maximum-scale=1.0, user-scalable=no&quot; /&gt;\n",
       "            &lt;style&gt;\n",
       "                #map_756510124134402d98dddb7382e630d4 {\n",
       "                    position: relative;\n",
       "                    width: 100.0%;\n",
       "                    height: 100.0%;\n",
       "                    left: 0.0%;\n",
       "                    top: 0.0%;\n",
       "                }\n",
       "            &lt;/style&gt;\n",
       "        \n",
       "&lt;/head&gt;\n",
       "&lt;body&gt;    \n",
       "    \n",
       "            &lt;div class=&quot;folium-map&quot; id=&quot;map_756510124134402d98dddb7382e630d4&quot; &gt;&lt;/div&gt;\n",
       "        \n",
       "&lt;/body&gt;\n",
       "&lt;script&gt;    \n",
       "    \n",
       "            var map_756510124134402d98dddb7382e630d4 = L.map(\n",
       "                &quot;map_756510124134402d98dddb7382e630d4&quot;,\n",
       "                {\n",
       "                    center: [12.97, 77.59],\n",
       "                    crs: L.CRS.EPSG3857,\n",
       "                    zoom: 12,\n",
       "                    zoomControl: true,\n",
       "                    preferCanvas: false,\n",
       "                }\n",
       "            );\n",
       "\n",
       "            \n",
       "\n",
       "        \n",
       "    \n",
       "            var tile_layer_e5263b4f5131c83271c3ebdb83078387 = L.tileLayer(\n",
       "                &quot;https://{s}.tile.openstreetmap.org/{z}/{x}/{y}.png&quot;,\n",
       "                {&quot;attribution&quot;: &quot;Data by \\u0026copy; \\u003ca href=\\&quot;http://openstreetmap.org\\&quot;\\u003eOpenStreetMap\\u003c/a\\u003e, under \\u003ca href=\\&quot;http://www.openstreetmap.org/copyright\\&quot;\\u003eODbL\\u003c/a\\u003e.&quot;, &quot;detectRetina&quot;: false, &quot;maxNativeZoom&quot;: 18, &quot;maxZoom&quot;: 18, &quot;minZoom&quot;: 0, &quot;noWrap&quot;: false, &quot;opacity&quot;: 1, &quot;subdomains&quot;: &quot;abc&quot;, &quot;tms&quot;: false}\n",
       "            ).addTo(map_756510124134402d98dddb7382e630d4);\n",
       "        \n",
       "&lt;/script&gt;\" style=\"position:absolute;width:100%;height:100%;left:0;top:0;border:none !important;\" allowfullscreen webkitallowfullscreen mozallowfullscreen></iframe></div></div>"
      ],
      "text/plain": [
       "<folium.folium.Map at 0x24dbf042df0>"
      ]
     },
     "execution_count": 110,
     "metadata": {},
     "output_type": "execute_result"
    }
   ],
   "source": [
    "basemap = generatebasemap()\n",
    "basemap"
   ]
  },
  {
   "cell_type": "code",
   "execution_count": 84,
   "id": "92d65e8d",
   "metadata": {},
   "outputs": [],
   "source": [
    "# Creating a heat map of all the restaurants in Banglore\n",
    "from folium.plugins import HeatMap"
   ]
  },
  {
   "cell_type": "code",
   "execution_count": 111,
   "id": "12437af1",
   "metadata": {
    "scrolled": true
   },
   "outputs": [
    {
     "data": {
      "text/plain": [
       "<folium.plugins.heat_map.HeatMap at 0x24dbf045c40>"
      ]
     },
     "execution_count": 111,
     "metadata": {},
     "output_type": "execute_result"
    }
   ],
   "source": [
    "HeatMap(Restaurant_locations[['lat','lon','count']], zoom=20).add_to(basemap)"
   ]
  },
  {
   "cell_type": "code",
   "execution_count": 112,
   "id": "4af1bb87",
   "metadata": {},
   "outputs": [
    {
     "data": {
      "text/html": [
       "<div style=\"width:100%;\"><div style=\"position:relative;width:100%;height:0;padding-bottom:60%;\"><span style=\"color:#565656\">Make this Notebook Trusted to load map: File -> Trust Notebook</span><iframe srcdoc=\"&lt;!DOCTYPE html&gt;\n",
       "&lt;head&gt;    \n",
       "    &lt;meta http-equiv=&quot;content-type&quot; content=&quot;text/html; charset=UTF-8&quot; /&gt;\n",
       "    \n",
       "        &lt;script&gt;\n",
       "            L_NO_TOUCH = false;\n",
       "            L_DISABLE_3D = false;\n",
       "        &lt;/script&gt;\n",
       "    \n",
       "    &lt;style&gt;html, body {width: 100%;height: 100%;margin: 0;padding: 0;}&lt;/style&gt;\n",
       "    &lt;style&gt;#map {position:absolute;top:0;bottom:0;right:0;left:0;}&lt;/style&gt;\n",
       "    &lt;script src=&quot;https://cdn.jsdelivr.net/npm/leaflet@1.6.0/dist/leaflet.js&quot;&gt;&lt;/script&gt;\n",
       "    &lt;script src=&quot;https://code.jquery.com/jquery-1.12.4.min.js&quot;&gt;&lt;/script&gt;\n",
       "    &lt;script src=&quot;https://maxcdn.bootstrapcdn.com/bootstrap/3.2.0/js/bootstrap.min.js&quot;&gt;&lt;/script&gt;\n",
       "    &lt;script src=&quot;https://cdnjs.cloudflare.com/ajax/libs/Leaflet.awesome-markers/2.0.2/leaflet.awesome-markers.js&quot;&gt;&lt;/script&gt;\n",
       "    &lt;link rel=&quot;stylesheet&quot; href=&quot;https://cdn.jsdelivr.net/npm/leaflet@1.6.0/dist/leaflet.css&quot;/&gt;\n",
       "    &lt;link rel=&quot;stylesheet&quot; href=&quot;https://maxcdn.bootstrapcdn.com/bootstrap/3.2.0/css/bootstrap.min.css&quot;/&gt;\n",
       "    &lt;link rel=&quot;stylesheet&quot; href=&quot;https://maxcdn.bootstrapcdn.com/bootstrap/3.2.0/css/bootstrap-theme.min.css&quot;/&gt;\n",
       "    &lt;link rel=&quot;stylesheet&quot; href=&quot;https://maxcdn.bootstrapcdn.com/font-awesome/4.6.3/css/font-awesome.min.css&quot;/&gt;\n",
       "    &lt;link rel=&quot;stylesheet&quot; href=&quot;https://cdnjs.cloudflare.com/ajax/libs/Leaflet.awesome-markers/2.0.2/leaflet.awesome-markers.css&quot;/&gt;\n",
       "    &lt;link rel=&quot;stylesheet&quot; href=&quot;https://cdn.jsdelivr.net/gh/python-visualization/folium/folium/templates/leaflet.awesome.rotate.min.css&quot;/&gt;\n",
       "    \n",
       "            &lt;meta name=&quot;viewport&quot; content=&quot;width=device-width,\n",
       "                initial-scale=1.0, maximum-scale=1.0, user-scalable=no&quot; /&gt;\n",
       "            &lt;style&gt;\n",
       "                #map_756510124134402d98dddb7382e630d4 {\n",
       "                    position: relative;\n",
       "                    width: 100.0%;\n",
       "                    height: 100.0%;\n",
       "                    left: 0.0%;\n",
       "                    top: 0.0%;\n",
       "                }\n",
       "            &lt;/style&gt;\n",
       "        \n",
       "    &lt;script src=&quot;https://cdn.jsdelivr.net/gh/python-visualization/folium@master/folium/templates/leaflet_heat.min.js&quot;&gt;&lt;/script&gt;\n",
       "&lt;/head&gt;\n",
       "&lt;body&gt;    \n",
       "    \n",
       "            &lt;div class=&quot;folium-map&quot; id=&quot;map_756510124134402d98dddb7382e630d4&quot; &gt;&lt;/div&gt;\n",
       "        \n",
       "&lt;/body&gt;\n",
       "&lt;script&gt;    \n",
       "    \n",
       "            var map_756510124134402d98dddb7382e630d4 = L.map(\n",
       "                &quot;map_756510124134402d98dddb7382e630d4&quot;,\n",
       "                {\n",
       "                    center: [12.97, 77.59],\n",
       "                    crs: L.CRS.EPSG3857,\n",
       "                    zoom: 12,\n",
       "                    zoomControl: true,\n",
       "                    preferCanvas: false,\n",
       "                }\n",
       "            );\n",
       "\n",
       "            \n",
       "\n",
       "        \n",
       "    \n",
       "            var tile_layer_e5263b4f5131c83271c3ebdb83078387 = L.tileLayer(\n",
       "                &quot;https://{s}.tile.openstreetmap.org/{z}/{x}/{y}.png&quot;,\n",
       "                {&quot;attribution&quot;: &quot;Data by \\u0026copy; \\u003ca href=\\&quot;http://openstreetmap.org\\&quot;\\u003eOpenStreetMap\\u003c/a\\u003e, under \\u003ca href=\\&quot;http://www.openstreetmap.org/copyright\\&quot;\\u003eODbL\\u003c/a\\u003e.&quot;, &quot;detectRetina&quot;: false, &quot;maxNativeZoom&quot;: 18, &quot;maxZoom&quot;: 18, &quot;minZoom&quot;: 0, &quot;noWrap&quot;: false, &quot;opacity&quot;: 1, &quot;subdomains&quot;: &quot;abc&quot;, &quot;tms&quot;: false}\n",
       "            ).addTo(map_756510124134402d98dddb7382e630d4);\n",
       "        \n",
       "    \n",
       "            var heat_map_9f9d75105fc4774b0dca476165728465 = L.heatLayer(\n",
       "                [[45.95485055, -112.49659530324134, 5124.0], [18.1475, 41.538889, 2523.0], [12.9348429, 77.6189768, 2504.0], [12.2655944, 76.6465404, 2235.0], [53.5533682, -2.2969019, 2144.0], [12.9732913, 77.6404672, 2083.0], [27.64392675, 83.05280519687284, 1926.0], [12.9552572, 77.6984163, 1846.0], [12.8545439, 77.5886892, 1630.0], [12.93103185, 77.6782471, 1286.0], [12.848759900000001, 77.64825295827616, 1258.0], [12.9275886, 77.6308832, 1238.0], [12.9736132, 77.6074716, 1218.0], [12.9364846, 77.6134783, 1181.0], [12.9390255, 77.6238477, 1156.0], [12.920441, 77.6653284, 1065.0], [12.9778793, 77.6246697, 1023.0], [12.9327778, 77.6294052, 1017.0], [12.9755264, 77.6067902, 918.0], [15.8876779, 75.7046777, 906.0], [13.0221416, 77.6403368, 853.0], [40.5758316, -74.1273021, 812.0], [12.996845, 77.6130165, 727.0], [13.0027353, 77.5703253, 725.0], [12.9417261, 77.5755021, 684.0], [13.0530002, 77.6204833, 675.0], [13.0141618, 77.6518539, 664.0], [33.5935063, -79.0345627, 658.0], [13.0435554, 77.5613062, 649.0], [13.0093455, 77.6377094, 648.0], [12.9882338, 77.554883, 591.0], [40.7128637, -74.0095686, 569.0], [40.7652844, -76.373824, 529.0], [22.478459, 88.3541291, 511.0], [18.5322493, 73.8499601124847, 499.0], [12.9624669, 77.6381958, 496.0], [36.5348643, -79.0905056, 491.0], [41.527815, -71.287155, 446.0], [12.945245, 77.6269144, 439.0], [51.5182611, -0.0742531, 370.0], [33.117255, -84.837311, 352.0], [12.9408685, 77.617338, 320.0], [12.988721250000001, 77.58516877601824, 295.0], [12.9678074, 77.6568367, 272.0], [12.9489339, 77.5968273, 246.0], [12.9089453, 77.6239038, 238.0], [12.9282918, 77.6254034, 216.0], [12.9081487, 77.5553179, 195.0], [12.973936, 77.6509982, 194.0], [12.2950874, 76.6149845, 191.0], [13.2227, 78.5541977, 187.0], [12.9931876, 77.5753419, 165.0], [13.0258087, 77.6305067, 161.0], [1.2847055, 103.84320655721689, 155.0], [13.0358698, 77.6323597, 153.0], [12.9837879, 77.5940558, 151.0], [51.1689493, 0.0016045, 139.0], [39.76880625, -86.15345077251979, 126.0], [13.02383, 77.5529215, 119.0], [12.9413238, 77.7471103, 117.0], [12.9804194, 77.7275164, 113.0], [12.8845448, 77.5701276, 107.0], [12.9243692, 77.6242433, 102.0], [12.7450586, 77.8162805, 102.0], [12.9846713, 77.6790908, 101.0], [17.2510682, 80.1651978, 90.0], [22.8359967, 69.3405962, 80.0], [13.0227204, 77.595715, 80.0], [30.1915796, 74.9408769, 76.0], [15.8782951, 74.5084834, 63.0], [18.4900796, 73.8475301, 53.0], [13.2923988, 77.7519261, 48.0], [12.9845687, 77.73766474151809, 44.0], [13.6285774, 77.4642026, 38.0], [12.9756527, 77.5553548, 34.0], [12.957998, 77.6037312, 27.0], [38.7801076, -121.5056438, 27.0], [13.1261747, 78.1142502, 22.0], [12.9467026, 77.5300705, 22.0], [12.5560169, 77.4249605, 19.0], [13.007516, 77.695935, 18.0], [12.9055682, 77.5455438, 17.0], [13.0382184, 77.5919, 14.0], [12.9767936, 77.590082, 14.0], [12.9176571, 77.4837568, 9.0], [12.95961755, 77.51126721318181, 9.0], [13.0101286, 77.5548006, 8.0], [12.9848519, 77.5400626, 6.0], [13.1006982, 77.5963454, 6.0], [13.0784743, 77.6068938, 3.0], [12.9274413, 77.5155224, 2.0], [13.0329419, 77.5273253, 1.0]],\n",
       "                {&quot;blur&quot;: 15, &quot;maxZoom&quot;: 18, &quot;minOpacity&quot;: 0.5, &quot;radius&quot;: 25, &quot;zoom&quot;: 20}\n",
       "            ).addTo(map_756510124134402d98dddb7382e630d4);\n",
       "        \n",
       "&lt;/script&gt;\" style=\"position:absolute;width:100%;height:100%;left:0;top:0;border:none !important;\" allowfullscreen webkitallowfullscreen mozallowfullscreen></iframe></div></div>"
      ],
      "text/plain": [
       "<folium.folium.Map at 0x24dbf042df0>"
      ]
     },
     "execution_count": 112,
     "metadata": {},
     "output_type": "execute_result"
    }
   ],
   "source": [
    "basemap"
   ]
  },
  {
   "cell_type": "markdown",
   "id": "1dea0673",
   "metadata": {},
   "source": [
    "### Folium Base Map"
   ]
  },
  {
   "cell_type": "code",
   "execution_count": 104,
   "id": "7630434b",
   "metadata": {},
   "outputs": [
    {
     "data": {
      "text/html": [
       "<div style=\"width:100%;\"><div style=\"position:relative;width:100%;height:0;padding-bottom:60%;\"><span style=\"color:#565656\">Make this Notebook Trusted to load map: File -> Trust Notebook</span><iframe srcdoc=\"&lt;!DOCTYPE html&gt;\n",
       "&lt;head&gt;    \n",
       "    &lt;meta http-equiv=&quot;content-type&quot; content=&quot;text/html; charset=UTF-8&quot; /&gt;\n",
       "    \n",
       "        &lt;script&gt;\n",
       "            L_NO_TOUCH = false;\n",
       "            L_DISABLE_3D = false;\n",
       "        &lt;/script&gt;\n",
       "    \n",
       "    &lt;style&gt;html, body {width: 100%;height: 100%;margin: 0;padding: 0;}&lt;/style&gt;\n",
       "    &lt;style&gt;#map {position:absolute;top:0;bottom:0;right:0;left:0;}&lt;/style&gt;\n",
       "    &lt;script src=&quot;https://cdn.jsdelivr.net/npm/leaflet@1.6.0/dist/leaflet.js&quot;&gt;&lt;/script&gt;\n",
       "    &lt;script src=&quot;https://code.jquery.com/jquery-1.12.4.min.js&quot;&gt;&lt;/script&gt;\n",
       "    &lt;script src=&quot;https://maxcdn.bootstrapcdn.com/bootstrap/3.2.0/js/bootstrap.min.js&quot;&gt;&lt;/script&gt;\n",
       "    &lt;script src=&quot;https://cdnjs.cloudflare.com/ajax/libs/Leaflet.awesome-markers/2.0.2/leaflet.awesome-markers.js&quot;&gt;&lt;/script&gt;\n",
       "    &lt;link rel=&quot;stylesheet&quot; href=&quot;https://cdn.jsdelivr.net/npm/leaflet@1.6.0/dist/leaflet.css&quot;/&gt;\n",
       "    &lt;link rel=&quot;stylesheet&quot; href=&quot;https://maxcdn.bootstrapcdn.com/bootstrap/3.2.0/css/bootstrap.min.css&quot;/&gt;\n",
       "    &lt;link rel=&quot;stylesheet&quot; href=&quot;https://maxcdn.bootstrapcdn.com/bootstrap/3.2.0/css/bootstrap-theme.min.css&quot;/&gt;\n",
       "    &lt;link rel=&quot;stylesheet&quot; href=&quot;https://maxcdn.bootstrapcdn.com/font-awesome/4.6.3/css/font-awesome.min.css&quot;/&gt;\n",
       "    &lt;link rel=&quot;stylesheet&quot; href=&quot;https://cdnjs.cloudflare.com/ajax/libs/Leaflet.awesome-markers/2.0.2/leaflet.awesome-markers.css&quot;/&gt;\n",
       "    &lt;link rel=&quot;stylesheet&quot; href=&quot;https://cdn.jsdelivr.net/gh/python-visualization/folium/folium/templates/leaflet.awesome.rotate.min.css&quot;/&gt;\n",
       "    \n",
       "            &lt;meta name=&quot;viewport&quot; content=&quot;width=device-width,\n",
       "                initial-scale=1.0, maximum-scale=1.0, user-scalable=no&quot; /&gt;\n",
       "            &lt;style&gt;\n",
       "                #map_e6c25660cc251d25aa2b3b80ff769c45 {\n",
       "                    position: relative;\n",
       "                    width: 100.0%;\n",
       "                    height: 100.0%;\n",
       "                    left: 0.0%;\n",
       "                    top: 0.0%;\n",
       "                }\n",
       "            &lt;/style&gt;\n",
       "        \n",
       "&lt;/head&gt;\n",
       "&lt;body&gt;    \n",
       "    \n",
       "            &lt;div class=&quot;folium-map&quot; id=&quot;map_e6c25660cc251d25aa2b3b80ff769c45&quot; &gt;&lt;/div&gt;\n",
       "        \n",
       "&lt;/body&gt;\n",
       "&lt;script&gt;    \n",
       "    \n",
       "            var map_e6c25660cc251d25aa2b3b80ff769c45 = L.map(\n",
       "                &quot;map_e6c25660cc251d25aa2b3b80ff769c45&quot;,\n",
       "                {\n",
       "                    center: [12.97, 77.59],\n",
       "                    crs: L.CRS.EPSG3857,\n",
       "                    zoom: 12,\n",
       "                    zoomControl: true,\n",
       "                    preferCanvas: false,\n",
       "                }\n",
       "            );\n",
       "\n",
       "            \n",
       "\n",
       "        \n",
       "    \n",
       "            var tile_layer_f297b20dd2d12a860ff48d92a39de1a5 = L.tileLayer(\n",
       "                &quot;https://{s}.tile.openstreetmap.org/{z}/{x}/{y}.png&quot;,\n",
       "                {&quot;attribution&quot;: &quot;Data by \\u0026copy; \\u003ca href=\\&quot;http://openstreetmap.org\\&quot;\\u003eOpenStreetMap\\u003c/a\\u003e, under \\u003ca href=\\&quot;http://www.openstreetmap.org/copyright\\&quot;\\u003eODbL\\u003c/a\\u003e.&quot;, &quot;detectRetina&quot;: false, &quot;maxNativeZoom&quot;: 18, &quot;maxZoom&quot;: 18, &quot;minZoom&quot;: 0, &quot;noWrap&quot;: false, &quot;opacity&quot;: 1, &quot;subdomains&quot;: &quot;abc&quot;, &quot;tms&quot;: false}\n",
       "            ).addTo(map_e6c25660cc251d25aa2b3b80ff769c45);\n",
       "        \n",
       "    \n",
       "            var tile_layer_f7271244370317c49161f75570209827 = L.tileLayer(\n",
       "                &quot;https://stamen-tiles-{s}.a.ssl.fastly.net/terrain/{z}/{x}/{y}.jpg&quot;,\n",
       "                {&quot;attribution&quot;: &quot;Map tiles by \\u003ca href=\\&quot;http://stamen.com\\&quot;\\u003eStamen Design\\u003c/a\\u003e, under \\u003ca href=\\&quot;http://creativecommons.org/licenses/by/3.0\\&quot;\\u003eCC BY 3.0\\u003c/a\\u003e. Data by \\u0026copy; \\u003ca href=\\&quot;http://openstreetmap.org\\&quot;\\u003eOpenStreetMap\\u003c/a\\u003e, under \\u003ca href=\\&quot;http://creativecommons.org/licenses/by-sa/3.0\\&quot;\\u003eCC BY SA\\u003c/a\\u003e.&quot;, &quot;detectRetina&quot;: false, &quot;maxNativeZoom&quot;: 18, &quot;maxZoom&quot;: 18, &quot;minZoom&quot;: 0, &quot;noWrap&quot;: false, &quot;opacity&quot;: 1, &quot;subdomains&quot;: &quot;abc&quot;, &quot;tms&quot;: false}\n",
       "            ).addTo(map_e6c25660cc251d25aa2b3b80ff769c45);\n",
       "        \n",
       "    \n",
       "            var tile_layer_3f43e2b0abd340357fba7aac645783d6 = L.tileLayer(\n",
       "                &quot;https://stamen-tiles-{s}.a.ssl.fastly.net/toner/{z}/{x}/{y}.png&quot;,\n",
       "                {&quot;attribution&quot;: &quot;Map tiles by \\u003ca href=\\&quot;http://stamen.com\\&quot;\\u003eStamen Design\\u003c/a\\u003e, under \\u003ca href=\\&quot;http://creativecommons.org/licenses/by/3.0\\&quot;\\u003eCC BY 3.0\\u003c/a\\u003e. Data by \\u0026copy; \\u003ca href=\\&quot;http://openstreetmap.org\\&quot;\\u003eOpenStreetMap\\u003c/a\\u003e, under \\u003ca href=\\&quot;http://www.openstreetmap.org/copyright\\&quot;\\u003eODbL\\u003c/a\\u003e.&quot;, &quot;detectRetina&quot;: false, &quot;maxNativeZoom&quot;: 18, &quot;maxZoom&quot;: 18, &quot;minZoom&quot;: 0, &quot;noWrap&quot;: false, &quot;opacity&quot;: 1, &quot;subdomains&quot;: &quot;abc&quot;, &quot;tms&quot;: false}\n",
       "            ).addTo(map_e6c25660cc251d25aa2b3b80ff769c45);\n",
       "        \n",
       "    \n",
       "            var tile_layer_943ba16c574b780af9f98c0a4979a013 = L.tileLayer(\n",
       "                &quot;https://stamen-tiles-{s}.a.ssl.fastly.net/watercolor/{z}/{x}/{y}.jpg&quot;,\n",
       "                {&quot;attribution&quot;: &quot;Map tiles by \\u003ca href=\\&quot;http://stamen.com\\&quot;\\u003eStamen Design\\u003c/a\\u003e, under \\u003ca href=\\&quot;http://creativecommons.org/licenses/by/3.0\\&quot;\\u003eCC BY 3.0\\u003c/a\\u003e. Data by \\u0026copy; \\u003ca href=\\&quot;http://openstreetmap.org\\&quot;\\u003eOpenStreetMap\\u003c/a\\u003e, under \\u003ca href=\\&quot;http://creativecommons.org/licenses/by-sa/3.0\\&quot;\\u003eCC BY SA\\u003c/a\\u003e.&quot;, &quot;detectRetina&quot;: false, &quot;maxNativeZoom&quot;: 18, &quot;maxZoom&quot;: 18, &quot;minZoom&quot;: 0, &quot;noWrap&quot;: false, &quot;opacity&quot;: 1, &quot;subdomains&quot;: &quot;abc&quot;, &quot;tms&quot;: false}\n",
       "            ).addTo(map_e6c25660cc251d25aa2b3b80ff769c45);\n",
       "        \n",
       "    \n",
       "            var tile_layer_b3abf395565cb248399472d0c9d26eb0 = L.tileLayer(\n",
       "                &quot;https://cartodb-basemaps-{s}.global.ssl.fastly.net/light_all/{z}/{x}/{y}.png&quot;,\n",
       "                {&quot;attribution&quot;: &quot;\\u0026copy; \\u003ca href=\\&quot;http://www.openstreetmap.org/copyright\\&quot;\\u003eOpenStreetMap\\u003c/a\\u003e contributors \\u0026copy; \\u003ca href=\\&quot;http://cartodb.com/attributions\\&quot;\\u003eCartoDB\\u003c/a\\u003e, CartoDB \\u003ca href =\\&quot;http://cartodb.com/attributions\\&quot;\\u003eattributions\\u003c/a\\u003e&quot;, &quot;detectRetina&quot;: false, &quot;maxNativeZoom&quot;: 18, &quot;maxZoom&quot;: 18, &quot;minZoom&quot;: 0, &quot;noWrap&quot;: false, &quot;opacity&quot;: 1, &quot;subdomains&quot;: &quot;abc&quot;, &quot;tms&quot;: false}\n",
       "            ).addTo(map_e6c25660cc251d25aa2b3b80ff769c45);\n",
       "        \n",
       "    \n",
       "            var tile_layer_2d9adf58a22c9c8b08afaea6a1582332 = L.tileLayer(\n",
       "                &quot;https://cartodb-basemaps-{s}.global.ssl.fastly.net/dark_all/{z}/{x}/{y}.png&quot;,\n",
       "                {&quot;attribution&quot;: &quot;\\u0026copy; \\u003ca href=\\&quot;http://www.openstreetmap.org/copyright\\&quot;\\u003eOpenStreetMap\\u003c/a\\u003e contributors \\u0026copy; \\u003ca href=\\&quot;http://cartodb.com/attributions\\&quot;\\u003eCartoDB\\u003c/a\\u003e, CartoDB \\u003ca href =\\&quot;http://cartodb.com/attributions\\&quot;\\u003eattributions\\u003c/a\\u003e&quot;, &quot;detectRetina&quot;: false, &quot;maxNativeZoom&quot;: 18, &quot;maxZoom&quot;: 18, &quot;minZoom&quot;: 0, &quot;noWrap&quot;: false, &quot;opacity&quot;: 1, &quot;subdomains&quot;: &quot;abc&quot;, &quot;tms&quot;: false}\n",
       "            ).addTo(map_e6c25660cc251d25aa2b3b80ff769c45);\n",
       "        \n",
       "    \n",
       "            var layer_control_2427957b0a69d5c117a236b71bc2fcfb = {\n",
       "                base_layers : {\n",
       "                    &quot;openstreetmap&quot; : tile_layer_f297b20dd2d12a860ff48d92a39de1a5,\n",
       "                    &quot;stamenterrain&quot; : tile_layer_f7271244370317c49161f75570209827,\n",
       "                    &quot;stamentoner&quot; : tile_layer_3f43e2b0abd340357fba7aac645783d6,\n",
       "                    &quot;stamenwatercolor&quot; : tile_layer_943ba16c574b780af9f98c0a4979a013,\n",
       "                    &quot;cartodbpositron&quot; : tile_layer_b3abf395565cb248399472d0c9d26eb0,\n",
       "                    &quot;cartodbdark_matter&quot; : tile_layer_2d9adf58a22c9c8b08afaea6a1582332,\n",
       "                },\n",
       "                overlays :  {\n",
       "                },\n",
       "            };\n",
       "            L.control.layers(\n",
       "                layer_control_2427957b0a69d5c117a236b71bc2fcfb.base_layers,\n",
       "                layer_control_2427957b0a69d5c117a236b71bc2fcfb.overlays,\n",
       "                {&quot;autoZIndex&quot;: true, &quot;collapsed&quot;: true, &quot;position&quot;: &quot;topright&quot;}\n",
       "            ).addTo(map_e6c25660cc251d25aa2b3b80ff769c45);\n",
       "            tile_layer_f7271244370317c49161f75570209827.remove();\n",
       "            tile_layer_3f43e2b0abd340357fba7aac645783d6.remove();\n",
       "            tile_layer_943ba16c574b780af9f98c0a4979a013.remove();\n",
       "            tile_layer_b3abf395565cb248399472d0c9d26eb0.remove();\n",
       "            tile_layer_2d9adf58a22c9c8b08afaea6a1582332.remove();\n",
       "        \n",
       "&lt;/script&gt;\" style=\"position:absolute;width:100%;height:100%;left:0;top:0;border:none !important;\" allowfullscreen webkitallowfullscreen mozallowfullscreen></iframe></div></div>"
      ],
      "text/plain": [
       "<folium.folium.Map at 0x24dbf05d700>"
      ]
     },
     "execution_count": 104,
     "metadata": {},
     "output_type": "execute_result"
    }
   ],
   "source": [
    "tiles_map=folium.Map(location=[12.97,77.59], zoom_start=12)\n",
    "folium.TileLayer('Stamen Terrain').add_to(tiles_map)\n",
    "folium.TileLayer('Stamen Toner').add_to(tiles_map)\n",
    "folium.TileLayer('Stamen Water Color').add_to(tiles_map)\n",
    "folium.TileLayer('cartodbpositron').add_to(tiles_map)\n",
    "folium.TileLayer('cartodbdark_matter').add_to(tiles_map)\n",
    "folium.LayerControl().add_to(tiles_map)\n",
    "tiles_map"
   ]
  },
  {
   "cell_type": "markdown",
   "id": "d451cb29",
   "metadata": {},
   "source": [
    "**Further study:**  \n",
    "Interesting Heatmaps Using Python Folium  \n",
    "https://blog.jovian.ai/interesting-heatmaps-using-python-folium-ee41b118a996  \n",
    "https://python-visualization.github.io/folium/quickstart.html#Getting-Started  \n",
    "Plotting with Folium  \n",
    "https://geopandas.org/en/stable/gallery/plotting_with_folium.html"
   ]
  },
  {
   "cell_type": "markdown",
   "id": "dfb74f3d",
   "metadata": {},
   "source": [
    "## Marker cluster analysis of restaurants"
   ]
  },
  {
   "cell_type": "code",
   "execution_count": 107,
   "id": "83fb4100",
   "metadata": {},
   "outputs": [],
   "source": [
    "from folium.plugins import FastMarkerCluster"
   ]
  },
  {
   "cell_type": "code",
   "execution_count": 113,
   "id": "383f63aa",
   "metadata": {},
   "outputs": [
    {
     "data": {
      "text/plain": [
       "<folium.plugins.fast_marker_cluster.FastMarkerCluster at 0x24d9dbed4f0>"
      ]
     },
     "execution_count": 113,
     "metadata": {},
     "output_type": "execute_result"
    }
   ],
   "source": [
    "FastMarkerCluster(Restaurant_locations[['lat','lon','count']], zoom=20).add_to(basemap)"
   ]
  },
  {
   "cell_type": "code",
   "execution_count": 114,
   "id": "fd7a8606",
   "metadata": {},
   "outputs": [
    {
     "data": {
      "text/html": [
       "<div style=\"width:100%;\"><div style=\"position:relative;width:100%;height:0;padding-bottom:60%;\"><span style=\"color:#565656\">Make this Notebook Trusted to load map: File -> Trust Notebook</span><iframe srcdoc=\"&lt;!DOCTYPE html&gt;\n",
       "&lt;head&gt;    \n",
       "    &lt;meta http-equiv=&quot;content-type&quot; content=&quot;text/html; charset=UTF-8&quot; /&gt;\n",
       "    \n",
       "        &lt;script&gt;\n",
       "            L_NO_TOUCH = false;\n",
       "            L_DISABLE_3D = false;\n",
       "        &lt;/script&gt;\n",
       "    \n",
       "    &lt;style&gt;html, body {width: 100%;height: 100%;margin: 0;padding: 0;}&lt;/style&gt;\n",
       "    &lt;style&gt;#map {position:absolute;top:0;bottom:0;right:0;left:0;}&lt;/style&gt;\n",
       "    &lt;script src=&quot;https://cdn.jsdelivr.net/npm/leaflet@1.6.0/dist/leaflet.js&quot;&gt;&lt;/script&gt;\n",
       "    &lt;script src=&quot;https://code.jquery.com/jquery-1.12.4.min.js&quot;&gt;&lt;/script&gt;\n",
       "    &lt;script src=&quot;https://maxcdn.bootstrapcdn.com/bootstrap/3.2.0/js/bootstrap.min.js&quot;&gt;&lt;/script&gt;\n",
       "    &lt;script src=&quot;https://cdnjs.cloudflare.com/ajax/libs/Leaflet.awesome-markers/2.0.2/leaflet.awesome-markers.js&quot;&gt;&lt;/script&gt;\n",
       "    &lt;link rel=&quot;stylesheet&quot; href=&quot;https://cdn.jsdelivr.net/npm/leaflet@1.6.0/dist/leaflet.css&quot;/&gt;\n",
       "    &lt;link rel=&quot;stylesheet&quot; href=&quot;https://maxcdn.bootstrapcdn.com/bootstrap/3.2.0/css/bootstrap.min.css&quot;/&gt;\n",
       "    &lt;link rel=&quot;stylesheet&quot; href=&quot;https://maxcdn.bootstrapcdn.com/bootstrap/3.2.0/css/bootstrap-theme.min.css&quot;/&gt;\n",
       "    &lt;link rel=&quot;stylesheet&quot; href=&quot;https://maxcdn.bootstrapcdn.com/font-awesome/4.6.3/css/font-awesome.min.css&quot;/&gt;\n",
       "    &lt;link rel=&quot;stylesheet&quot; href=&quot;https://cdnjs.cloudflare.com/ajax/libs/Leaflet.awesome-markers/2.0.2/leaflet.awesome-markers.css&quot;/&gt;\n",
       "    &lt;link rel=&quot;stylesheet&quot; href=&quot;https://cdn.jsdelivr.net/gh/python-visualization/folium/folium/templates/leaflet.awesome.rotate.min.css&quot;/&gt;\n",
       "    \n",
       "            &lt;meta name=&quot;viewport&quot; content=&quot;width=device-width,\n",
       "                initial-scale=1.0, maximum-scale=1.0, user-scalable=no&quot; /&gt;\n",
       "            &lt;style&gt;\n",
       "                #map_756510124134402d98dddb7382e630d4 {\n",
       "                    position: relative;\n",
       "                    width: 100.0%;\n",
       "                    height: 100.0%;\n",
       "                    left: 0.0%;\n",
       "                    top: 0.0%;\n",
       "                }\n",
       "            &lt;/style&gt;\n",
       "        \n",
       "    &lt;script src=&quot;https://cdn.jsdelivr.net/gh/python-visualization/folium@master/folium/templates/leaflet_heat.min.js&quot;&gt;&lt;/script&gt;\n",
       "    &lt;script src=&quot;https://cdnjs.cloudflare.com/ajax/libs/leaflet.markercluster/1.1.0/leaflet.markercluster.js&quot;&gt;&lt;/script&gt;\n",
       "    &lt;link rel=&quot;stylesheet&quot; href=&quot;https://cdnjs.cloudflare.com/ajax/libs/leaflet.markercluster/1.1.0/MarkerCluster.css&quot;/&gt;\n",
       "    &lt;link rel=&quot;stylesheet&quot; href=&quot;https://cdnjs.cloudflare.com/ajax/libs/leaflet.markercluster/1.1.0/MarkerCluster.Default.css&quot;/&gt;\n",
       "&lt;/head&gt;\n",
       "&lt;body&gt;    \n",
       "    \n",
       "            &lt;div class=&quot;folium-map&quot; id=&quot;map_756510124134402d98dddb7382e630d4&quot; &gt;&lt;/div&gt;\n",
       "        \n",
       "&lt;/body&gt;\n",
       "&lt;script&gt;    \n",
       "    \n",
       "            var map_756510124134402d98dddb7382e630d4 = L.map(\n",
       "                &quot;map_756510124134402d98dddb7382e630d4&quot;,\n",
       "                {\n",
       "                    center: [12.97, 77.59],\n",
       "                    crs: L.CRS.EPSG3857,\n",
       "                    zoom: 12,\n",
       "                    zoomControl: true,\n",
       "                    preferCanvas: false,\n",
       "                }\n",
       "            );\n",
       "\n",
       "            \n",
       "\n",
       "        \n",
       "    \n",
       "            var tile_layer_e5263b4f5131c83271c3ebdb83078387 = L.tileLayer(\n",
       "                &quot;https://{s}.tile.openstreetmap.org/{z}/{x}/{y}.png&quot;,\n",
       "                {&quot;attribution&quot;: &quot;Data by \\u0026copy; \\u003ca href=\\&quot;http://openstreetmap.org\\&quot;\\u003eOpenStreetMap\\u003c/a\\u003e, under \\u003ca href=\\&quot;http://www.openstreetmap.org/copyright\\&quot;\\u003eODbL\\u003c/a\\u003e.&quot;, &quot;detectRetina&quot;: false, &quot;maxNativeZoom&quot;: 18, &quot;maxZoom&quot;: 18, &quot;minZoom&quot;: 0, &quot;noWrap&quot;: false, &quot;opacity&quot;: 1, &quot;subdomains&quot;: &quot;abc&quot;, &quot;tms&quot;: false}\n",
       "            ).addTo(map_756510124134402d98dddb7382e630d4);\n",
       "        \n",
       "    \n",
       "            var heat_map_9f9d75105fc4774b0dca476165728465 = L.heatLayer(\n",
       "                [[45.95485055, -112.49659530324134, 5124.0], [18.1475, 41.538889, 2523.0], [12.9348429, 77.6189768, 2504.0], [12.2655944, 76.6465404, 2235.0], [53.5533682, -2.2969019, 2144.0], [12.9732913, 77.6404672, 2083.0], [27.64392675, 83.05280519687284, 1926.0], [12.9552572, 77.6984163, 1846.0], [12.8545439, 77.5886892, 1630.0], [12.93103185, 77.6782471, 1286.0], [12.848759900000001, 77.64825295827616, 1258.0], [12.9275886, 77.6308832, 1238.0], [12.9736132, 77.6074716, 1218.0], [12.9364846, 77.6134783, 1181.0], [12.9390255, 77.6238477, 1156.0], [12.920441, 77.6653284, 1065.0], [12.9778793, 77.6246697, 1023.0], [12.9327778, 77.6294052, 1017.0], [12.9755264, 77.6067902, 918.0], [15.8876779, 75.7046777, 906.0], [13.0221416, 77.6403368, 853.0], [40.5758316, -74.1273021, 812.0], [12.996845, 77.6130165, 727.0], [13.0027353, 77.5703253, 725.0], [12.9417261, 77.5755021, 684.0], [13.0530002, 77.6204833, 675.0], [13.0141618, 77.6518539, 664.0], [33.5935063, -79.0345627, 658.0], [13.0435554, 77.5613062, 649.0], [13.0093455, 77.6377094, 648.0], [12.9882338, 77.554883, 591.0], [40.7128637, -74.0095686, 569.0], [40.7652844, -76.373824, 529.0], [22.478459, 88.3541291, 511.0], [18.5322493, 73.8499601124847, 499.0], [12.9624669, 77.6381958, 496.0], [36.5348643, -79.0905056, 491.0], [41.527815, -71.287155, 446.0], [12.945245, 77.6269144, 439.0], [51.5182611, -0.0742531, 370.0], [33.117255, -84.837311, 352.0], [12.9408685, 77.617338, 320.0], [12.988721250000001, 77.58516877601824, 295.0], [12.9678074, 77.6568367, 272.0], [12.9489339, 77.5968273, 246.0], [12.9089453, 77.6239038, 238.0], [12.9282918, 77.6254034, 216.0], [12.9081487, 77.5553179, 195.0], [12.973936, 77.6509982, 194.0], [12.2950874, 76.6149845, 191.0], [13.2227, 78.5541977, 187.0], [12.9931876, 77.5753419, 165.0], [13.0258087, 77.6305067, 161.0], [1.2847055, 103.84320655721689, 155.0], [13.0358698, 77.6323597, 153.0], [12.9837879, 77.5940558, 151.0], [51.1689493, 0.0016045, 139.0], [39.76880625, -86.15345077251979, 126.0], [13.02383, 77.5529215, 119.0], [12.9413238, 77.7471103, 117.0], [12.9804194, 77.7275164, 113.0], [12.8845448, 77.5701276, 107.0], [12.9243692, 77.6242433, 102.0], [12.7450586, 77.8162805, 102.0], [12.9846713, 77.6790908, 101.0], [17.2510682, 80.1651978, 90.0], [22.8359967, 69.3405962, 80.0], [13.0227204, 77.595715, 80.0], [30.1915796, 74.9408769, 76.0], [15.8782951, 74.5084834, 63.0], [18.4900796, 73.8475301, 53.0], [13.2923988, 77.7519261, 48.0], [12.9845687, 77.73766474151809, 44.0], [13.6285774, 77.4642026, 38.0], [12.9756527, 77.5553548, 34.0], [12.957998, 77.6037312, 27.0], [38.7801076, -121.5056438, 27.0], [13.1261747, 78.1142502, 22.0], [12.9467026, 77.5300705, 22.0], [12.5560169, 77.4249605, 19.0], [13.007516, 77.695935, 18.0], [12.9055682, 77.5455438, 17.0], [13.0382184, 77.5919, 14.0], [12.9767936, 77.590082, 14.0], [12.9176571, 77.4837568, 9.0], [12.95961755, 77.51126721318181, 9.0], [13.0101286, 77.5548006, 8.0], [12.9848519, 77.5400626, 6.0], [13.1006982, 77.5963454, 6.0], [13.0784743, 77.6068938, 3.0], [12.9274413, 77.5155224, 2.0], [13.0329419, 77.5273253, 1.0]],\n",
       "                {&quot;blur&quot;: 15, &quot;maxZoom&quot;: 18, &quot;minOpacity&quot;: 0.5, &quot;radius&quot;: 25, &quot;zoom&quot;: 20}\n",
       "            ).addTo(map_756510124134402d98dddb7382e630d4);\n",
       "        \n",
       "    \n",
       "            var fast_marker_cluster_e3d2d32564ca7ac9ba7be84562c8da74 = (function(){\n",
       "                \n",
       "                var callback = function (row) {\n",
       "                    var icon = L.AwesomeMarkers.icon();\n",
       "                    var marker = L.marker(new L.LatLng(row[0], row[1]));\n",
       "                    marker.setIcon(icon);\n",
       "                    return marker;\n",
       "                };\n",
       "\n",
       "                var data = [[45.95485055, -112.49659530324134, 5124.0], [18.1475, 41.538889, 2523.0], [12.9348429, 77.6189768, 2504.0], [12.2655944, 76.6465404, 2235.0], [53.5533682, -2.2969019, 2144.0], [12.9732913, 77.6404672, 2083.0], [27.64392675, 83.05280519687284, 1926.0], [12.9552572, 77.6984163, 1846.0], [12.8545439, 77.5886892, 1630.0], [12.93103185, 77.6782471, 1286.0], [12.848759900000001, 77.64825295827616, 1258.0], [12.9275886, 77.6308832, 1238.0], [12.9736132, 77.6074716, 1218.0], [12.9364846, 77.6134783, 1181.0], [12.9390255, 77.6238477, 1156.0], [12.920441, 77.6653284, 1065.0], [12.9778793, 77.6246697, 1023.0], [12.9327778, 77.6294052, 1017.0], [12.9755264, 77.6067902, 918.0], [15.8876779, 75.7046777, 906.0], [13.0221416, 77.6403368, 853.0], [40.5758316, -74.1273021, 812.0], [12.996845, 77.6130165, 727.0], [13.0027353, 77.5703253, 725.0], [12.9417261, 77.5755021, 684.0], [13.0530002, 77.6204833, 675.0], [13.0141618, 77.6518539, 664.0], [33.5935063, -79.0345627, 658.0], [13.0435554, 77.5613062, 649.0], [13.0093455, 77.6377094, 648.0], [12.9882338, 77.554883, 591.0], [40.7128637, -74.0095686, 569.0], [40.7652844, -76.373824, 529.0], [22.478459, 88.3541291, 511.0], [18.5322493, 73.8499601124847, 499.0], [12.9624669, 77.6381958, 496.0], [36.5348643, -79.0905056, 491.0], [41.527815, -71.287155, 446.0], [12.945245, 77.6269144, 439.0], [51.5182611, -0.0742531, 370.0], [33.117255, -84.837311, 352.0], [12.9408685, 77.617338, 320.0], [12.988721250000001, 77.58516877601824, 295.0], [12.9678074, 77.6568367, 272.0], [12.9489339, 77.5968273, 246.0], [12.9089453, 77.6239038, 238.0], [12.9282918, 77.6254034, 216.0], [12.9081487, 77.5553179, 195.0], [12.973936, 77.6509982, 194.0], [12.2950874, 76.6149845, 191.0], [13.2227, 78.5541977, 187.0], [12.9931876, 77.5753419, 165.0], [13.0258087, 77.6305067, 161.0], [1.2847055, 103.84320655721689, 155.0], [13.0358698, 77.6323597, 153.0], [12.9837879, 77.5940558, 151.0], [51.1689493, 0.0016045, 139.0], [39.76880625, -86.15345077251979, 126.0], [13.02383, 77.5529215, 119.0], [12.9413238, 77.7471103, 117.0], [12.9804194, 77.7275164, 113.0], [12.8845448, 77.5701276, 107.0], [12.9243692, 77.6242433, 102.0], [12.7450586, 77.8162805, 102.0], [12.9846713, 77.6790908, 101.0], [17.2510682, 80.1651978, 90.0], [22.8359967, 69.3405962, 80.0], [13.0227204, 77.595715, 80.0], [30.1915796, 74.9408769, 76.0], [15.8782951, 74.5084834, 63.0], [18.4900796, 73.8475301, 53.0], [13.2923988, 77.7519261, 48.0], [12.9845687, 77.73766474151809, 44.0], [13.6285774, 77.4642026, 38.0], [12.9756527, 77.5553548, 34.0], [12.957998, 77.6037312, 27.0], [38.7801076, -121.5056438, 27.0], [13.1261747, 78.1142502, 22.0], [12.9467026, 77.5300705, 22.0], [12.5560169, 77.4249605, 19.0], [13.007516, 77.695935, 18.0], [12.9055682, 77.5455438, 17.0], [13.0382184, 77.5919, 14.0], [12.9767936, 77.590082, 14.0], [12.9176571, 77.4837568, 9.0], [12.95961755, 77.51126721318181, 9.0], [13.0101286, 77.5548006, 8.0], [12.9848519, 77.5400626, 6.0], [13.1006982, 77.5963454, 6.0], [13.0784743, 77.6068938, 3.0], [12.9274413, 77.5155224, 2.0], [13.0329419, 77.5273253, 1.0]];\n",
       "                var cluster = L.markerClusterGroup({&quot;zoom&quot;: 20});\n",
       "\n",
       "                for (var i = 0; i &lt; data.length; i++) {\n",
       "                    var row = data[i];\n",
       "                    var marker = callback(row);\n",
       "                    marker.addTo(cluster);\n",
       "                }\n",
       "\n",
       "                cluster.addTo(map_756510124134402d98dddb7382e630d4);\n",
       "                return cluster;\n",
       "            })();\n",
       "        \n",
       "&lt;/script&gt;\" style=\"position:absolute;width:100%;height:100%;left:0;top:0;border:none !important;\" allowfullscreen webkitallowfullscreen mozallowfullscreen></iframe></div></div>"
      ],
      "text/plain": [
       "<folium.folium.Map at 0x24dbf042df0>"
      ]
     },
     "execution_count": 114,
     "metadata": {},
     "output_type": "execute_result"
    }
   ],
   "source": [
    "basemap"
   ]
  },
  {
   "cell_type": "markdown",
   "id": "cdec316b",
   "metadata": {},
   "source": [
    "## Heatmap of restaurant ratings"
   ]
  },
  {
   "cell_type": "code",
   "execution_count": 115,
   "id": "6a695a82",
   "metadata": {},
   "outputs": [
    {
     "data": {
      "text/html": [
       "<div>\n",
       "<style scoped>\n",
       "    .dataframe tbody tr th:only-of-type {\n",
       "        vertical-align: middle;\n",
       "    }\n",
       "\n",
       "    .dataframe tbody tr th {\n",
       "        vertical-align: top;\n",
       "    }\n",
       "\n",
       "    .dataframe thead th {\n",
       "        text-align: right;\n",
       "    }\n",
       "</style>\n",
       "<table border=\"1\" class=\"dataframe\">\n",
       "  <thead>\n",
       "    <tr style=\"text-align: right;\">\n",
       "      <th></th>\n",
       "      <th>url</th>\n",
       "      <th>address</th>\n",
       "      <th>name</th>\n",
       "      <th>online_order</th>\n",
       "      <th>book_table</th>\n",
       "      <th>rate</th>\n",
       "      <th>votes</th>\n",
       "      <th>phone</th>\n",
       "      <th>location</th>\n",
       "      <th>rest_type</th>\n",
       "      <th>dish_liked</th>\n",
       "      <th>cuisines</th>\n",
       "      <th>approx_cost(for two people)</th>\n",
       "      <th>reviews_list</th>\n",
       "      <th>menu_item</th>\n",
       "      <th>listed_in(type)</th>\n",
       "      <th>listed_in(city)</th>\n",
       "    </tr>\n",
       "  </thead>\n",
       "  <tbody>\n",
       "    <tr>\n",
       "      <th>0</th>\n",
       "      <td>https://www.zomato.com/bangalore/jalsa-banasha...</td>\n",
       "      <td>942, 21st Main Road, 2nd Stage, Banashankari, ...</td>\n",
       "      <td>Jalsa</td>\n",
       "      <td>Yes</td>\n",
       "      <td>Yes</td>\n",
       "      <td>4.1/5</td>\n",
       "      <td>775</td>\n",
       "      <td>080 42297555\\r\\n+91 9743772233</td>\n",
       "      <td>Banashankari</td>\n",
       "      <td>Casual Dining</td>\n",
       "      <td>Pasta, Lunch Buffet, Masala Papad, Paneer Laja...</td>\n",
       "      <td>North Indian, Mughlai, Chinese</td>\n",
       "      <td>800</td>\n",
       "      <td>[('Rated 4.0', 'RATED\\n  A beautiful place to ...</td>\n",
       "      <td>[]</td>\n",
       "      <td>Buffet</td>\n",
       "      <td>Banashankari</td>\n",
       "    </tr>\n",
       "    <tr>\n",
       "      <th>1</th>\n",
       "      <td>https://www.zomato.com/bangalore/spice-elephan...</td>\n",
       "      <td>2nd Floor, 80 Feet Road, Near Big Bazaar, 6th ...</td>\n",
       "      <td>Spice Elephant</td>\n",
       "      <td>Yes</td>\n",
       "      <td>No</td>\n",
       "      <td>4.1/5</td>\n",
       "      <td>787</td>\n",
       "      <td>080 41714161</td>\n",
       "      <td>Banashankari</td>\n",
       "      <td>Casual Dining</td>\n",
       "      <td>Momos, Lunch Buffet, Chocolate Nirvana, Thai G...</td>\n",
       "      <td>Chinese, North Indian, Thai</td>\n",
       "      <td>800</td>\n",
       "      <td>[('Rated 4.0', 'RATED\\n  Had been here for din...</td>\n",
       "      <td>[]</td>\n",
       "      <td>Buffet</td>\n",
       "      <td>Banashankari</td>\n",
       "    </tr>\n",
       "    <tr>\n",
       "      <th>2</th>\n",
       "      <td>https://www.zomato.com/SanchurroBangalore?cont...</td>\n",
       "      <td>1112, Next to KIMS Medical College, 17th Cross...</td>\n",
       "      <td>San Churro Cafe</td>\n",
       "      <td>Yes</td>\n",
       "      <td>No</td>\n",
       "      <td>3.8/5</td>\n",
       "      <td>918</td>\n",
       "      <td>+91 9663487993</td>\n",
       "      <td>Banashankari</td>\n",
       "      <td>Cafe, Casual Dining</td>\n",
       "      <td>Churros, Cannelloni, Minestrone Soup, Hot Choc...</td>\n",
       "      <td>Cafe, Mexican, Italian</td>\n",
       "      <td>800</td>\n",
       "      <td>[('Rated 3.0', \"RATED\\n  Ambience is not that ...</td>\n",
       "      <td>[]</td>\n",
       "      <td>Buffet</td>\n",
       "      <td>Banashankari</td>\n",
       "    </tr>\n",
       "  </tbody>\n",
       "</table>\n",
       "</div>"
      ],
      "text/plain": [
       "                                                 url  \\\n",
       "0  https://www.zomato.com/bangalore/jalsa-banasha...   \n",
       "1  https://www.zomato.com/bangalore/spice-elephan...   \n",
       "2  https://www.zomato.com/SanchurroBangalore?cont...   \n",
       "\n",
       "                                             address             name  \\\n",
       "0  942, 21st Main Road, 2nd Stage, Banashankari, ...            Jalsa   \n",
       "1  2nd Floor, 80 Feet Road, Near Big Bazaar, 6th ...   Spice Elephant   \n",
       "2  1112, Next to KIMS Medical College, 17th Cross...  San Churro Cafe   \n",
       "\n",
       "  online_order book_table   rate  votes                           phone  \\\n",
       "0          Yes        Yes  4.1/5    775  080 42297555\\r\\n+91 9743772233   \n",
       "1          Yes         No  4.1/5    787                    080 41714161   \n",
       "2          Yes         No  3.8/5    918                  +91 9663487993   \n",
       "\n",
       "       location            rest_type  \\\n",
       "0  Banashankari        Casual Dining   \n",
       "1  Banashankari        Casual Dining   \n",
       "2  Banashankari  Cafe, Casual Dining   \n",
       "\n",
       "                                          dish_liked  \\\n",
       "0  Pasta, Lunch Buffet, Masala Papad, Paneer Laja...   \n",
       "1  Momos, Lunch Buffet, Chocolate Nirvana, Thai G...   \n",
       "2  Churros, Cannelloni, Minestrone Soup, Hot Choc...   \n",
       "\n",
       "                         cuisines approx_cost(for two people)  \\\n",
       "0  North Indian, Mughlai, Chinese                         800   \n",
       "1     Chinese, North Indian, Thai                         800   \n",
       "2          Cafe, Mexican, Italian                         800   \n",
       "\n",
       "                                        reviews_list menu_item  \\\n",
       "0  [('Rated 4.0', 'RATED\\n  A beautiful place to ...        []   \n",
       "1  [('Rated 4.0', 'RATED\\n  Had been here for din...        []   \n",
       "2  [('Rated 3.0', \"RATED\\n  Ambience is not that ...        []   \n",
       "\n",
       "  listed_in(type) listed_in(city)  \n",
       "0          Buffet    Banashankari  \n",
       "1          Buffet    Banashankari  \n",
       "2          Buffet    Banashankari  "
      ]
     },
     "execution_count": 115,
     "metadata": {},
     "output_type": "execute_result"
    }
   ],
   "source": [
    "df.head(3)"
   ]
  },
  {
   "cell_type": "code",
   "execution_count": 117,
   "id": "a5afabb7",
   "metadata": {},
   "outputs": [
    {
     "data": {
      "text/plain": [
       "array(['4.1/5', '3.8/5', '3.7/5', '3.6/5', '4.6/5', '4.0/5', '4.2/5',\n",
       "       '3.9/5', '3.1/5', '3.0/5', '3.2/5', '3.3/5', '2.8/5', '4.4/5',\n",
       "       '4.3/5', 'NEW', '2.9/5', '3.5/5', nan, '2.6/5', '3.8 /5', '3.4/5',\n",
       "       '4.5/5', '2.5/5', '2.7/5', '4.7/5', '2.4/5', '2.2/5', '2.3/5',\n",
       "       '3.4 /5', '-', '3.6 /5', '4.8/5', '3.9 /5', '4.2 /5', '4.0 /5',\n",
       "       '4.1 /5', '3.7 /5', '3.1 /5', '2.9 /5', '3.3 /5', '2.8 /5',\n",
       "       '3.5 /5', '2.7 /5', '2.5 /5', '3.2 /5', '2.6 /5', '4.5 /5',\n",
       "       '4.3 /5', '4.4 /5', '4.9/5', '2.1/5', '2.0/5', '1.8/5', '4.6 /5',\n",
       "       '4.9 /5', '3.0 /5', '4.8 /5', '2.3 /5', '4.7 /5', '2.4 /5',\n",
       "       '2.1 /5', '2.2 /5', '2.0 /5', '1.8 /5'], dtype=object)"
      ]
     },
     "execution_count": 117,
     "metadata": {},
     "output_type": "execute_result"
    }
   ],
   "source": [
    "df['rate'].unique()"
   ]
  },
  {
   "cell_type": "code",
   "execution_count": 118,
   "id": "7ccf5a74",
   "metadata": {},
   "outputs": [],
   "source": [
    "df.dropna(axis=0, subset=['rate'], inplace=True)"
   ]
  },
  {
   "cell_type": "code",
   "execution_count": 120,
   "id": "e5de20b8",
   "metadata": {},
   "outputs": [],
   "source": [
    "# Function to remove '/5' from 'rate' column\n",
    "def my_split(x):\n",
    "    return x.split('/')[0]"
   ]
  },
  {
   "cell_type": "code",
   "execution_count": 121,
   "id": "aff35598",
   "metadata": {},
   "outputs": [],
   "source": [
    "df['rating'] = df['rate'].apply(my_split)"
   ]
  },
  {
   "cell_type": "code",
   "execution_count": 122,
   "id": "4ec8dc6c",
   "metadata": {},
   "outputs": [
    {
     "data": {
      "text/html": [
       "<div>\n",
       "<style scoped>\n",
       "    .dataframe tbody tr th:only-of-type {\n",
       "        vertical-align: middle;\n",
       "    }\n",
       "\n",
       "    .dataframe tbody tr th {\n",
       "        vertical-align: top;\n",
       "    }\n",
       "\n",
       "    .dataframe thead th {\n",
       "        text-align: right;\n",
       "    }\n",
       "</style>\n",
       "<table border=\"1\" class=\"dataframe\">\n",
       "  <thead>\n",
       "    <tr style=\"text-align: right;\">\n",
       "      <th></th>\n",
       "      <th>url</th>\n",
       "      <th>address</th>\n",
       "      <th>name</th>\n",
       "      <th>online_order</th>\n",
       "      <th>book_table</th>\n",
       "      <th>rate</th>\n",
       "      <th>votes</th>\n",
       "      <th>phone</th>\n",
       "      <th>location</th>\n",
       "      <th>rest_type</th>\n",
       "      <th>dish_liked</th>\n",
       "      <th>cuisines</th>\n",
       "      <th>approx_cost(for two people)</th>\n",
       "      <th>reviews_list</th>\n",
       "      <th>menu_item</th>\n",
       "      <th>listed_in(type)</th>\n",
       "      <th>listed_in(city)</th>\n",
       "      <th>rating</th>\n",
       "    </tr>\n",
       "  </thead>\n",
       "  <tbody>\n",
       "    <tr>\n",
       "      <th>0</th>\n",
       "      <td>https://www.zomato.com/bangalore/jalsa-banasha...</td>\n",
       "      <td>942, 21st Main Road, 2nd Stage, Banashankari, ...</td>\n",
       "      <td>Jalsa</td>\n",
       "      <td>Yes</td>\n",
       "      <td>Yes</td>\n",
       "      <td>4.1/5</td>\n",
       "      <td>775</td>\n",
       "      <td>080 42297555\\r\\n+91 9743772233</td>\n",
       "      <td>Banashankari</td>\n",
       "      <td>Casual Dining</td>\n",
       "      <td>Pasta, Lunch Buffet, Masala Papad, Paneer Laja...</td>\n",
       "      <td>North Indian, Mughlai, Chinese</td>\n",
       "      <td>800</td>\n",
       "      <td>[('Rated 4.0', 'RATED\\n  A beautiful place to ...</td>\n",
       "      <td>[]</td>\n",
       "      <td>Buffet</td>\n",
       "      <td>Banashankari</td>\n",
       "      <td>4.1</td>\n",
       "    </tr>\n",
       "    <tr>\n",
       "      <th>1</th>\n",
       "      <td>https://www.zomato.com/bangalore/spice-elephan...</td>\n",
       "      <td>2nd Floor, 80 Feet Road, Near Big Bazaar, 6th ...</td>\n",
       "      <td>Spice Elephant</td>\n",
       "      <td>Yes</td>\n",
       "      <td>No</td>\n",
       "      <td>4.1/5</td>\n",
       "      <td>787</td>\n",
       "      <td>080 41714161</td>\n",
       "      <td>Banashankari</td>\n",
       "      <td>Casual Dining</td>\n",
       "      <td>Momos, Lunch Buffet, Chocolate Nirvana, Thai G...</td>\n",
       "      <td>Chinese, North Indian, Thai</td>\n",
       "      <td>800</td>\n",
       "      <td>[('Rated 4.0', 'RATED\\n  Had been here for din...</td>\n",
       "      <td>[]</td>\n",
       "      <td>Buffet</td>\n",
       "      <td>Banashankari</td>\n",
       "      <td>4.1</td>\n",
       "    </tr>\n",
       "    <tr>\n",
       "      <th>2</th>\n",
       "      <td>https://www.zomato.com/SanchurroBangalore?cont...</td>\n",
       "      <td>1112, Next to KIMS Medical College, 17th Cross...</td>\n",
       "      <td>San Churro Cafe</td>\n",
       "      <td>Yes</td>\n",
       "      <td>No</td>\n",
       "      <td>3.8/5</td>\n",
       "      <td>918</td>\n",
       "      <td>+91 9663487993</td>\n",
       "      <td>Banashankari</td>\n",
       "      <td>Cafe, Casual Dining</td>\n",
       "      <td>Churros, Cannelloni, Minestrone Soup, Hot Choc...</td>\n",
       "      <td>Cafe, Mexican, Italian</td>\n",
       "      <td>800</td>\n",
       "      <td>[('Rated 3.0', \"RATED\\n  Ambience is not that ...</td>\n",
       "      <td>[]</td>\n",
       "      <td>Buffet</td>\n",
       "      <td>Banashankari</td>\n",
       "      <td>3.8</td>\n",
       "    </tr>\n",
       "  </tbody>\n",
       "</table>\n",
       "</div>"
      ],
      "text/plain": [
       "                                                 url  \\\n",
       "0  https://www.zomato.com/bangalore/jalsa-banasha...   \n",
       "1  https://www.zomato.com/bangalore/spice-elephan...   \n",
       "2  https://www.zomato.com/SanchurroBangalore?cont...   \n",
       "\n",
       "                                             address             name  \\\n",
       "0  942, 21st Main Road, 2nd Stage, Banashankari, ...            Jalsa   \n",
       "1  2nd Floor, 80 Feet Road, Near Big Bazaar, 6th ...   Spice Elephant   \n",
       "2  1112, Next to KIMS Medical College, 17th Cross...  San Churro Cafe   \n",
       "\n",
       "  online_order book_table   rate  votes                           phone  \\\n",
       "0          Yes        Yes  4.1/5    775  080 42297555\\r\\n+91 9743772233   \n",
       "1          Yes         No  4.1/5    787                    080 41714161   \n",
       "2          Yes         No  3.8/5    918                  +91 9663487993   \n",
       "\n",
       "       location            rest_type  \\\n",
       "0  Banashankari        Casual Dining   \n",
       "1  Banashankari        Casual Dining   \n",
       "2  Banashankari  Cafe, Casual Dining   \n",
       "\n",
       "                                          dish_liked  \\\n",
       "0  Pasta, Lunch Buffet, Masala Papad, Paneer Laja...   \n",
       "1  Momos, Lunch Buffet, Chocolate Nirvana, Thai G...   \n",
       "2  Churros, Cannelloni, Minestrone Soup, Hot Choc...   \n",
       "\n",
       "                         cuisines approx_cost(for two people)  \\\n",
       "0  North Indian, Mughlai, Chinese                         800   \n",
       "1     Chinese, North Indian, Thai                         800   \n",
       "2          Cafe, Mexican, Italian                         800   \n",
       "\n",
       "                                        reviews_list menu_item  \\\n",
       "0  [('Rated 4.0', 'RATED\\n  A beautiful place to ...        []   \n",
       "1  [('Rated 4.0', 'RATED\\n  Had been here for din...        []   \n",
       "2  [('Rated 3.0', \"RATED\\n  Ambience is not that ...        []   \n",
       "\n",
       "  listed_in(type) listed_in(city) rating  \n",
       "0          Buffet    Banashankari    4.1  \n",
       "1          Buffet    Banashankari    4.1  \n",
       "2          Buffet    Banashankari    3.8  "
      ]
     },
     "execution_count": 122,
     "metadata": {},
     "output_type": "execute_result"
    }
   ],
   "source": [
    "df.head(3)"
   ]
  },
  {
   "cell_type": "code",
   "execution_count": 123,
   "id": "74a45cdd",
   "metadata": {},
   "outputs": [
    {
     "data": {
      "text/plain": [
       "array(['4.1', '3.8', '3.7', '3.6', '4.6', '4.0', '4.2', '3.9', '3.1',\n",
       "       '3.0', '3.2', '3.3', '2.8', '4.4', '4.3', 'NEW', '2.9', '3.5',\n",
       "       '2.6', '3.8 ', '3.4', '4.5', '2.5', '2.7', '4.7', '2.4', '2.2',\n",
       "       '2.3', '3.4 ', '-', '3.6 ', '4.8', '3.9 ', '4.2 ', '4.0 ', '4.1 ',\n",
       "       '3.7 ', '3.1 ', '2.9 ', '3.3 ', '2.8 ', '3.5 ', '2.7 ', '2.5 ',\n",
       "       '3.2 ', '2.6 ', '4.5 ', '4.3 ', '4.4 ', '4.9', '2.1', '2.0', '1.8',\n",
       "       '4.6 ', '4.9 ', '3.0 ', '4.8 ', '2.3 ', '4.7 ', '2.4 ', '2.1 ',\n",
       "       '2.2 ', '2.0 ', '1.8 '], dtype=object)"
      ]
     },
     "execution_count": 123,
     "metadata": {},
     "output_type": "execute_result"
    }
   ],
   "source": [
    "df['rating'].unique()"
   ]
  },
  {
   "cell_type": "code",
   "execution_count": 125,
   "id": "e2846448",
   "metadata": {},
   "outputs": [],
   "source": [
    "df.replace(to_replace='NEW', value=0, inplace=True)"
   ]
  },
  {
   "cell_type": "code",
   "execution_count": 127,
   "id": "310b7b69",
   "metadata": {},
   "outputs": [],
   "source": [
    "df.replace(to_replace='-', value=0, inplace=True)"
   ]
  },
  {
   "cell_type": "code",
   "execution_count": 128,
   "id": "080a4c40",
   "metadata": {},
   "outputs": [
    {
     "data": {
      "text/plain": [
       "array(['4.1', '3.8', '3.7', '3.6', '4.6', '4.0', '4.2', '3.9', '3.1',\n",
       "       '3.0', '3.2', '3.3', '2.8', '4.4', '4.3', 0, '2.9', '3.5', '2.6',\n",
       "       '3.8 ', '3.4', '4.5', '2.5', '2.7', '4.7', '2.4', '2.2', '2.3',\n",
       "       '3.4 ', '3.6 ', '4.8', '3.9 ', '4.2 ', '4.0 ', '4.1 ', '3.7 ',\n",
       "       '3.1 ', '2.9 ', '3.3 ', '2.8 ', '3.5 ', '2.7 ', '2.5 ', '3.2 ',\n",
       "       '2.6 ', '4.5 ', '4.3 ', '4.4 ', '4.9', '2.1', '2.0', '1.8', '4.6 ',\n",
       "       '4.9 ', '3.0 ', '4.8 ', '2.3 ', '4.7 ', '2.4 ', '2.1 ', '2.2 ',\n",
       "       '2.0 ', '1.8 '], dtype=object)"
      ]
     },
     "execution_count": 128,
     "metadata": {},
     "output_type": "execute_result"
    }
   ],
   "source": [
    "df['rating'].unique()"
   ]
  },
  {
   "cell_type": "code",
   "execution_count": 131,
   "id": "e0a170fd",
   "metadata": {},
   "outputs": [],
   "source": [
    "df['rating'] = pd.to_numeric(df['rating'])"
   ]
  },
  {
   "cell_type": "code",
   "execution_count": 134,
   "id": "97b4b96c",
   "metadata": {},
   "outputs": [
    {
     "data": {
      "text/plain": [
       "location\n",
       "Lavelle Road             4.042886\n",
       "St. Marks Road           4.017201\n",
       "Koramangala 3rd Block    3.978756\n",
       "Sankey Road              3.965385\n",
       "Church Street            3.963091\n",
       "                           ...   \n",
       "Electronic City          3.041909\n",
       "Bommanahalli             2.926752\n",
       "Hebbal                   2.880000\n",
       "North Bangalore          2.385714\n",
       "West Bangalore           2.020000\n",
       "Name: rating, Length: 92, dtype: float64"
      ]
     },
     "execution_count": 134,
     "metadata": {},
     "output_type": "execute_result"
    }
   ],
   "source": [
    "df.groupby('location')['rating'].mean().sort_values(ascending = False)"
   ]
  },
  {
   "cell_type": "code",
   "execution_count": 135,
   "id": "947aa352",
   "metadata": {},
   "outputs": [],
   "source": [
    "avg_rating = df.groupby('location')['rating'].mean().sort_values(ascending = False).values"
   ]
  },
  {
   "cell_type": "code",
   "execution_count": 140,
   "id": "077209b1",
   "metadata": {},
   "outputs": [],
   "source": [
    "location = df.groupby('location')['rating'].mean().sort_values(ascending = False).index"
   ]
  },
  {
   "cell_type": "code",
   "execution_count": 141,
   "id": "fc2b20f4",
   "metadata": {},
   "outputs": [],
   "source": [
    "rating = pd.DataFrame()"
   ]
  },
  {
   "cell_type": "code",
   "execution_count": 143,
   "id": "1a706117",
   "metadata": {},
   "outputs": [],
   "source": [
    "from tqdm.notebook import tqdm_notebook\n",
    "import time"
   ]
  },
  {
   "cell_type": "code",
   "execution_count": 144,
   "id": "f81a8abd",
   "metadata": {},
   "outputs": [
    {
     "data": {
      "application/vnd.jupyter.widget-view+json": {
       "model_id": "76b4971946f745cfa928bd1d791dadfc",
       "version_major": 2,
       "version_minor": 0
      },
      "text/plain": [
       "Progress using tqdm_notebook():   0%|          | 0/92 [00:00<?, ?it/s]"
      ]
     },
     "metadata": {},
     "output_type": "display_data"
    }
   ],
   "source": [
    "lat = []\n",
    "lon = []\n",
    "\n",
    "for loc in tqdm_notebook(location, desc = 'Progress using tqdm_notebook()'):\n",
    "    # converting location from string to some geographical format using geocode\n",
    "    loc = geolocator.geocode(loc)\n",
    "    if loc is None:\n",
    "        lat.append(np.nan)\n",
    "        lon.append(np.nan)\n",
    "    else:\n",
    "        lat.append(loc.latitude)\n",
    "        lon.append(loc.longitude)  "
   ]
  },
  {
   "cell_type": "code",
   "execution_count": 145,
   "id": "a670d6e4",
   "metadata": {},
   "outputs": [],
   "source": [
    "rating['location'] = location\n",
    "rating['lat'] = lat\n",
    "rating['lon'] = lon\n",
    "rating['avg_rating'] = avg_rating"
   ]
  },
  {
   "cell_type": "code",
   "execution_count": 146,
   "id": "dae1090c",
   "metadata": {},
   "outputs": [
    {
     "data": {
      "text/html": [
       "<div>\n",
       "<style scoped>\n",
       "    .dataframe tbody tr th:only-of-type {\n",
       "        vertical-align: middle;\n",
       "    }\n",
       "\n",
       "    .dataframe tbody tr th {\n",
       "        vertical-align: top;\n",
       "    }\n",
       "\n",
       "    .dataframe thead th {\n",
       "        text-align: right;\n",
       "    }\n",
       "</style>\n",
       "<table border=\"1\" class=\"dataframe\">\n",
       "  <thead>\n",
       "    <tr style=\"text-align: right;\">\n",
       "      <th></th>\n",
       "      <th>location</th>\n",
       "      <th>lat</th>\n",
       "      <th>lon</th>\n",
       "      <th>avg_rating</th>\n",
       "    </tr>\n",
       "  </thead>\n",
       "  <tbody>\n",
       "    <tr>\n",
       "      <th>0</th>\n",
       "      <td>Lavelle Road</td>\n",
       "      <td>40.765284</td>\n",
       "      <td>-76.373824</td>\n",
       "      <td>4.042886</td>\n",
       "    </tr>\n",
       "    <tr>\n",
       "      <th>1</th>\n",
       "      <td>St. Marks Road</td>\n",
       "      <td>33.117255</td>\n",
       "      <td>-84.837311</td>\n",
       "      <td>4.017201</td>\n",
       "    </tr>\n",
       "    <tr>\n",
       "      <th>2</th>\n",
       "      <td>Koramangala 3rd Block</td>\n",
       "      <td>12.928292</td>\n",
       "      <td>77.625403</td>\n",
       "      <td>3.978756</td>\n",
       "    </tr>\n",
       "    <tr>\n",
       "      <th>3</th>\n",
       "      <td>Sankey Road</td>\n",
       "      <td>38.780108</td>\n",
       "      <td>-121.505644</td>\n",
       "      <td>3.965385</td>\n",
       "    </tr>\n",
       "    <tr>\n",
       "      <th>4</th>\n",
       "      <td>Church Street</td>\n",
       "      <td>40.712864</td>\n",
       "      <td>-74.009569</td>\n",
       "      <td>3.963091</td>\n",
       "    </tr>\n",
       "  </tbody>\n",
       "</table>\n",
       "</div>"
      ],
      "text/plain": [
       "                location        lat         lon  avg_rating\n",
       "0           Lavelle Road  40.765284  -76.373824    4.042886\n",
       "1         St. Marks Road  33.117255  -84.837311    4.017201\n",
       "2  Koramangala 3rd Block  12.928292   77.625403    3.978756\n",
       "3            Sankey Road  38.780108 -121.505644    3.965385\n",
       "4          Church Street  40.712864  -74.009569    3.963091"
      ]
     },
     "execution_count": 146,
     "metadata": {},
     "output_type": "execute_result"
    }
   ],
   "source": [
    "rating.head()"
   ]
  },
  {
   "cell_type": "code",
   "execution_count": 150,
   "id": "443b4788",
   "metadata": {},
   "outputs": [
    {
     "data": {
      "text/plain": [
       "location      0\n",
       "lat           1\n",
       "lon           1\n",
       "avg_rating    0\n",
       "dtype: int64"
      ]
     },
     "execution_count": 150,
     "metadata": {},
     "output_type": "execute_result"
    }
   ],
   "source": [
    "rating.isna().sum()"
   ]
  },
  {
   "cell_type": "code",
   "execution_count": 151,
   "id": "e42ccf23",
   "metadata": {},
   "outputs": [],
   "source": [
    "rating.dropna(inplace = True)"
   ]
  },
  {
   "cell_type": "code",
   "execution_count": 154,
   "id": "66333f18",
   "metadata": {},
   "outputs": [
    {
     "data": {
      "text/plain": [
       "<folium.plugins.heat_map.HeatMap at 0x24d9dbdefa0>"
      ]
     },
     "execution_count": 154,
     "metadata": {},
     "output_type": "execute_result"
    }
   ],
   "source": [
    "HeatMap(rating[['lat','lon','avg_rating']]).add_to(basemap)"
   ]
  },
  {
   "cell_type": "code",
   "execution_count": 155,
   "id": "076ee056",
   "metadata": {},
   "outputs": [
    {
     "data": {
      "text/html": [
       "<div style=\"width:100%;\"><div style=\"position:relative;width:100%;height:0;padding-bottom:60%;\"><span style=\"color:#565656\">Make this Notebook Trusted to load map: File -> Trust Notebook</span><iframe srcdoc=\"&lt;!DOCTYPE html&gt;\n",
       "&lt;head&gt;    \n",
       "    &lt;meta http-equiv=&quot;content-type&quot; content=&quot;text/html; charset=UTF-8&quot; /&gt;\n",
       "    \n",
       "        &lt;script&gt;\n",
       "            L_NO_TOUCH = false;\n",
       "            L_DISABLE_3D = false;\n",
       "        &lt;/script&gt;\n",
       "    \n",
       "    &lt;style&gt;html, body {width: 100%;height: 100%;margin: 0;padding: 0;}&lt;/style&gt;\n",
       "    &lt;style&gt;#map {position:absolute;top:0;bottom:0;right:0;left:0;}&lt;/style&gt;\n",
       "    &lt;script src=&quot;https://cdn.jsdelivr.net/npm/leaflet@1.6.0/dist/leaflet.js&quot;&gt;&lt;/script&gt;\n",
       "    &lt;script src=&quot;https://code.jquery.com/jquery-1.12.4.min.js&quot;&gt;&lt;/script&gt;\n",
       "    &lt;script src=&quot;https://maxcdn.bootstrapcdn.com/bootstrap/3.2.0/js/bootstrap.min.js&quot;&gt;&lt;/script&gt;\n",
       "    &lt;script src=&quot;https://cdnjs.cloudflare.com/ajax/libs/Leaflet.awesome-markers/2.0.2/leaflet.awesome-markers.js&quot;&gt;&lt;/script&gt;\n",
       "    &lt;link rel=&quot;stylesheet&quot; href=&quot;https://cdn.jsdelivr.net/npm/leaflet@1.6.0/dist/leaflet.css&quot;/&gt;\n",
       "    &lt;link rel=&quot;stylesheet&quot; href=&quot;https://maxcdn.bootstrapcdn.com/bootstrap/3.2.0/css/bootstrap.min.css&quot;/&gt;\n",
       "    &lt;link rel=&quot;stylesheet&quot; href=&quot;https://maxcdn.bootstrapcdn.com/bootstrap/3.2.0/css/bootstrap-theme.min.css&quot;/&gt;\n",
       "    &lt;link rel=&quot;stylesheet&quot; href=&quot;https://maxcdn.bootstrapcdn.com/font-awesome/4.6.3/css/font-awesome.min.css&quot;/&gt;\n",
       "    &lt;link rel=&quot;stylesheet&quot; href=&quot;https://cdnjs.cloudflare.com/ajax/libs/Leaflet.awesome-markers/2.0.2/leaflet.awesome-markers.css&quot;/&gt;\n",
       "    &lt;link rel=&quot;stylesheet&quot; href=&quot;https://cdn.jsdelivr.net/gh/python-visualization/folium/folium/templates/leaflet.awesome.rotate.min.css&quot;/&gt;\n",
       "    \n",
       "            &lt;meta name=&quot;viewport&quot; content=&quot;width=device-width,\n",
       "                initial-scale=1.0, maximum-scale=1.0, user-scalable=no&quot; /&gt;\n",
       "            &lt;style&gt;\n",
       "                #map_756510124134402d98dddb7382e630d4 {\n",
       "                    position: relative;\n",
       "                    width: 100.0%;\n",
       "                    height: 100.0%;\n",
       "                    left: 0.0%;\n",
       "                    top: 0.0%;\n",
       "                }\n",
       "            &lt;/style&gt;\n",
       "        \n",
       "    &lt;script src=&quot;https://cdn.jsdelivr.net/gh/python-visualization/folium@master/folium/templates/leaflet_heat.min.js&quot;&gt;&lt;/script&gt;\n",
       "    &lt;script src=&quot;https://cdnjs.cloudflare.com/ajax/libs/leaflet.markercluster/1.1.0/leaflet.markercluster.js&quot;&gt;&lt;/script&gt;\n",
       "    &lt;link rel=&quot;stylesheet&quot; href=&quot;https://cdnjs.cloudflare.com/ajax/libs/leaflet.markercluster/1.1.0/MarkerCluster.css&quot;/&gt;\n",
       "    &lt;link rel=&quot;stylesheet&quot; href=&quot;https://cdnjs.cloudflare.com/ajax/libs/leaflet.markercluster/1.1.0/MarkerCluster.Default.css&quot;/&gt;\n",
       "&lt;/head&gt;\n",
       "&lt;body&gt;    \n",
       "    \n",
       "            &lt;div class=&quot;folium-map&quot; id=&quot;map_756510124134402d98dddb7382e630d4&quot; &gt;&lt;/div&gt;\n",
       "        \n",
       "&lt;/body&gt;\n",
       "&lt;script&gt;    \n",
       "    \n",
       "            var map_756510124134402d98dddb7382e630d4 = L.map(\n",
       "                &quot;map_756510124134402d98dddb7382e630d4&quot;,\n",
       "                {\n",
       "                    center: [12.97, 77.59],\n",
       "                    crs: L.CRS.EPSG3857,\n",
       "                    zoom: 12,\n",
       "                    zoomControl: true,\n",
       "                    preferCanvas: false,\n",
       "                }\n",
       "            );\n",
       "\n",
       "            \n",
       "\n",
       "        \n",
       "    \n",
       "            var tile_layer_e5263b4f5131c83271c3ebdb83078387 = L.tileLayer(\n",
       "                &quot;https://{s}.tile.openstreetmap.org/{z}/{x}/{y}.png&quot;,\n",
       "                {&quot;attribution&quot;: &quot;Data by \\u0026copy; \\u003ca href=\\&quot;http://openstreetmap.org\\&quot;\\u003eOpenStreetMap\\u003c/a\\u003e, under \\u003ca href=\\&quot;http://www.openstreetmap.org/copyright\\&quot;\\u003eODbL\\u003c/a\\u003e.&quot;, &quot;detectRetina&quot;: false, &quot;maxNativeZoom&quot;: 18, &quot;maxZoom&quot;: 18, &quot;minZoom&quot;: 0, &quot;noWrap&quot;: false, &quot;opacity&quot;: 1, &quot;subdomains&quot;: &quot;abc&quot;, &quot;tms&quot;: false}\n",
       "            ).addTo(map_756510124134402d98dddb7382e630d4);\n",
       "        \n",
       "    \n",
       "            var heat_map_9f9d75105fc4774b0dca476165728465 = L.heatLayer(\n",
       "                [[45.95485055, -112.49659530324134, 5124.0], [18.1475, 41.538889, 2523.0], [12.9348429, 77.6189768, 2504.0], [12.2655944, 76.6465404, 2235.0], [53.5533682, -2.2969019, 2144.0], [12.9732913, 77.6404672, 2083.0], [27.64392675, 83.05280519687284, 1926.0], [12.9552572, 77.6984163, 1846.0], [12.8545439, 77.5886892, 1630.0], [12.93103185, 77.6782471, 1286.0], [12.848759900000001, 77.64825295827616, 1258.0], [12.9275886, 77.6308832, 1238.0], [12.9736132, 77.6074716, 1218.0], [12.9364846, 77.6134783, 1181.0], [12.9390255, 77.6238477, 1156.0], [12.920441, 77.6653284, 1065.0], [12.9778793, 77.6246697, 1023.0], [12.9327778, 77.6294052, 1017.0], [12.9755264, 77.6067902, 918.0], [15.8876779, 75.7046777, 906.0], [13.0221416, 77.6403368, 853.0], [40.5758316, -74.1273021, 812.0], [12.996845, 77.6130165, 727.0], [13.0027353, 77.5703253, 725.0], [12.9417261, 77.5755021, 684.0], [13.0530002, 77.6204833, 675.0], [13.0141618, 77.6518539, 664.0], [33.5935063, -79.0345627, 658.0], [13.0435554, 77.5613062, 649.0], [13.0093455, 77.6377094, 648.0], [12.9882338, 77.554883, 591.0], [40.7128637, -74.0095686, 569.0], [40.7652844, -76.373824, 529.0], [22.478459, 88.3541291, 511.0], [18.5322493, 73.8499601124847, 499.0], [12.9624669, 77.6381958, 496.0], [36.5348643, -79.0905056, 491.0], [41.527815, -71.287155, 446.0], [12.945245, 77.6269144, 439.0], [51.5182611, -0.0742531, 370.0], [33.117255, -84.837311, 352.0], [12.9408685, 77.617338, 320.0], [12.988721250000001, 77.58516877601824, 295.0], [12.9678074, 77.6568367, 272.0], [12.9489339, 77.5968273, 246.0], [12.9089453, 77.6239038, 238.0], [12.9282918, 77.6254034, 216.0], [12.9081487, 77.5553179, 195.0], [12.973936, 77.6509982, 194.0], [12.2950874, 76.6149845, 191.0], [13.2227, 78.5541977, 187.0], [12.9931876, 77.5753419, 165.0], [13.0258087, 77.6305067, 161.0], [1.2847055, 103.84320655721689, 155.0], [13.0358698, 77.6323597, 153.0], [12.9837879, 77.5940558, 151.0], [51.1689493, 0.0016045, 139.0], [39.76880625, -86.15345077251979, 126.0], [13.02383, 77.5529215, 119.0], [12.9413238, 77.7471103, 117.0], [12.9804194, 77.7275164, 113.0], [12.8845448, 77.5701276, 107.0], [12.9243692, 77.6242433, 102.0], [12.7450586, 77.8162805, 102.0], [12.9846713, 77.6790908, 101.0], [17.2510682, 80.1651978, 90.0], [22.8359967, 69.3405962, 80.0], [13.0227204, 77.595715, 80.0], [30.1915796, 74.9408769, 76.0], [15.8782951, 74.5084834, 63.0], [18.4900796, 73.8475301, 53.0], [13.2923988, 77.7519261, 48.0], [12.9845687, 77.73766474151809, 44.0], [13.6285774, 77.4642026, 38.0], [12.9756527, 77.5553548, 34.0], [12.957998, 77.6037312, 27.0], [38.7801076, -121.5056438, 27.0], [13.1261747, 78.1142502, 22.0], [12.9467026, 77.5300705, 22.0], [12.5560169, 77.4249605, 19.0], [13.007516, 77.695935, 18.0], [12.9055682, 77.5455438, 17.0], [13.0382184, 77.5919, 14.0], [12.9767936, 77.590082, 14.0], [12.9176571, 77.4837568, 9.0], [12.95961755, 77.51126721318181, 9.0], [13.0101286, 77.5548006, 8.0], [12.9848519, 77.5400626, 6.0], [13.1006982, 77.5963454, 6.0], [13.0784743, 77.6068938, 3.0], [12.9274413, 77.5155224, 2.0], [13.0329419, 77.5273253, 1.0]],\n",
       "                {&quot;blur&quot;: 15, &quot;maxZoom&quot;: 18, &quot;minOpacity&quot;: 0.5, &quot;radius&quot;: 25, &quot;zoom&quot;: 20}\n",
       "            ).addTo(map_756510124134402d98dddb7382e630d4);\n",
       "        \n",
       "    \n",
       "            var fast_marker_cluster_e3d2d32564ca7ac9ba7be84562c8da74 = (function(){\n",
       "                \n",
       "                var callback = function (row) {\n",
       "                    var icon = L.AwesomeMarkers.icon();\n",
       "                    var marker = L.marker(new L.LatLng(row[0], row[1]));\n",
       "                    marker.setIcon(icon);\n",
       "                    return marker;\n",
       "                };\n",
       "\n",
       "                var data = [[45.95485055, -112.49659530324134, 5124.0], [18.1475, 41.538889, 2523.0], [12.9348429, 77.6189768, 2504.0], [12.2655944, 76.6465404, 2235.0], [53.5533682, -2.2969019, 2144.0], [12.9732913, 77.6404672, 2083.0], [27.64392675, 83.05280519687284, 1926.0], [12.9552572, 77.6984163, 1846.0], [12.8545439, 77.5886892, 1630.0], [12.93103185, 77.6782471, 1286.0], [12.848759900000001, 77.64825295827616, 1258.0], [12.9275886, 77.6308832, 1238.0], [12.9736132, 77.6074716, 1218.0], [12.9364846, 77.6134783, 1181.0], [12.9390255, 77.6238477, 1156.0], [12.920441, 77.6653284, 1065.0], [12.9778793, 77.6246697, 1023.0], [12.9327778, 77.6294052, 1017.0], [12.9755264, 77.6067902, 918.0], [15.8876779, 75.7046777, 906.0], [13.0221416, 77.6403368, 853.0], [40.5758316, -74.1273021, 812.0], [12.996845, 77.6130165, 727.0], [13.0027353, 77.5703253, 725.0], [12.9417261, 77.5755021, 684.0], [13.0530002, 77.6204833, 675.0], [13.0141618, 77.6518539, 664.0], [33.5935063, -79.0345627, 658.0], [13.0435554, 77.5613062, 649.0], [13.0093455, 77.6377094, 648.0], [12.9882338, 77.554883, 591.0], [40.7128637, -74.0095686, 569.0], [40.7652844, -76.373824, 529.0], [22.478459, 88.3541291, 511.0], [18.5322493, 73.8499601124847, 499.0], [12.9624669, 77.6381958, 496.0], [36.5348643, -79.0905056, 491.0], [41.527815, -71.287155, 446.0], [12.945245, 77.6269144, 439.0], [51.5182611, -0.0742531, 370.0], [33.117255, -84.837311, 352.0], [12.9408685, 77.617338, 320.0], [12.988721250000001, 77.58516877601824, 295.0], [12.9678074, 77.6568367, 272.0], [12.9489339, 77.5968273, 246.0], [12.9089453, 77.6239038, 238.0], [12.9282918, 77.6254034, 216.0], [12.9081487, 77.5553179, 195.0], [12.973936, 77.6509982, 194.0], [12.2950874, 76.6149845, 191.0], [13.2227, 78.5541977, 187.0], [12.9931876, 77.5753419, 165.0], [13.0258087, 77.6305067, 161.0], [1.2847055, 103.84320655721689, 155.0], [13.0358698, 77.6323597, 153.0], [12.9837879, 77.5940558, 151.0], [51.1689493, 0.0016045, 139.0], [39.76880625, -86.15345077251979, 126.0], [13.02383, 77.5529215, 119.0], [12.9413238, 77.7471103, 117.0], [12.9804194, 77.7275164, 113.0], [12.8845448, 77.5701276, 107.0], [12.9243692, 77.6242433, 102.0], [12.7450586, 77.8162805, 102.0], [12.9846713, 77.6790908, 101.0], [17.2510682, 80.1651978, 90.0], [22.8359967, 69.3405962, 80.0], [13.0227204, 77.595715, 80.0], [30.1915796, 74.9408769, 76.0], [15.8782951, 74.5084834, 63.0], [18.4900796, 73.8475301, 53.0], [13.2923988, 77.7519261, 48.0], [12.9845687, 77.73766474151809, 44.0], [13.6285774, 77.4642026, 38.0], [12.9756527, 77.5553548, 34.0], [12.957998, 77.6037312, 27.0], [38.7801076, -121.5056438, 27.0], [13.1261747, 78.1142502, 22.0], [12.9467026, 77.5300705, 22.0], [12.5560169, 77.4249605, 19.0], [13.007516, 77.695935, 18.0], [12.9055682, 77.5455438, 17.0], [13.0382184, 77.5919, 14.0], [12.9767936, 77.590082, 14.0], [12.9176571, 77.4837568, 9.0], [12.95961755, 77.51126721318181, 9.0], [13.0101286, 77.5548006, 8.0], [12.9848519, 77.5400626, 6.0], [13.1006982, 77.5963454, 6.0], [13.0784743, 77.6068938, 3.0], [12.9274413, 77.5155224, 2.0], [13.0329419, 77.5273253, 1.0]];\n",
       "                var cluster = L.markerClusterGroup({&quot;zoom&quot;: 20});\n",
       "\n",
       "                for (var i = 0; i &lt; data.length; i++) {\n",
       "                    var row = data[i];\n",
       "                    var marker = callback(row);\n",
       "                    marker.addTo(cluster);\n",
       "                }\n",
       "\n",
       "                cluster.addTo(map_756510124134402d98dddb7382e630d4);\n",
       "                return cluster;\n",
       "            })();\n",
       "        \n",
       "    \n",
       "            var heat_map_fedac98ec2c55c0832ac8cb7d426b1e1 = L.heatLayer(\n",
       "                [[40.7652844, -76.373824, 4.042885771543086], [33.117255, -84.837311, 4.017201166180758], [12.9282918, 77.6254034, 3.978756476683938], [38.7801076, -121.5056438, 3.965384615384615], [40.7128637, -74.0095686, 3.9630909090909086], [12.9348429, 77.6189768, 3.901511969760605], [36.5348643, -79.0905056, 3.9010526315789473], [12.9274413, 77.5155224, 3.85], [13.0530002, 77.6204833, 3.8445723684210527], [15.8782951, 74.5084834, 3.839655172413793], [12.9327778, 77.6294052, 3.8143518518518515], [12.957998, 77.6037312, 3.8074074074074074], [12.9837879, 77.5940558, 3.7964285714285713], [12.9364846, 77.6134783, 3.7478420569329662], [12.9755264, 77.6067902, 3.74055023923445], [51.1689493, 0.0016045, 3.727007299270073], [12.9176571, 77.4837568, 3.7222222222222223], [12.9931876, 77.5753419, 3.704929577464789], [40.5758316, -74.1273021, 3.6880126182965296], [12.7450586, 77.8162805, 3.6878378378378374], [13.0027353, 77.5703253, 3.668237082066869], [12.9390255, 77.6238477, 3.6624662466246622], [12.9732913, 77.6404672, 3.6521694214876037], [13.1006982, 77.5963454, 3.6399999999999997], [13.0101286, 77.5548006, 3.625], [27.64392675, 83.05280519687284, 3.6152502910360886], [12.9408685, 77.617338, 3.6075], [13.2923988, 77.7519261, 3.606451612903226], [12.9714852, 77.6069655, 3.595848708487085], [13.0435554, 77.5613062, 3.5831739961759084], [12.988721250000001, 77.58516877601824, 3.5809523809523807], [12.996845, 77.6130165, 3.564878892733564], [12.9243692, 77.6242433, 3.5456521739130435], [12.9778793, 77.6246697, 3.5413984461709216], [13.0221416, 77.6403368, 3.529144385026738], [12.9055682, 77.5455438, 3.511111111111111], [13.02383, 77.5529215, 3.5026785714285715], [13.0093455, 77.6377094, 3.499809523809524], [18.5322493, 73.8499601124847, 3.4989169675090253], [13.6285774, 77.4642026, 3.4869565217391307], [18.1475, 41.538889, 3.4840695488721805], [12.5560169, 77.4249605, 3.478947368421052], [18.4900796, 73.8475301, 3.478723404255319], [12.9417261, 77.5755021, 3.4781847133757964], [12.9846713, 77.6790908, 3.4736263736263737], [12.920441, 77.6653284, 3.4735582154515776], [12.9467026, 77.5300705, 3.4555555555555557], [39.76880625, -86.15345077251979, 3.4461538461538463], [12.2950874, 76.6149845, 3.4455172413793105], [12.9756527, 77.5553548, 3.4375], [12.9678074, 77.6568367, 3.429770992366412], [12.9882338, 77.554883, 3.422381930184805], [12.8845448, 77.5701276, 3.4197802197802196], [12.2655944, 76.6465404, 3.4129259058950785], [12.9552572, 77.6984163, 3.4005322687957418], [12.95961755, 77.51126721318181, 3.4], [41.527815, -71.287155, 3.389119170984456], [12.9624669, 77.6381958, 3.385547785547786], [53.5533682, -2.2969019, 3.384170112226816], [33.5935063, -79.0345627, 3.374698795180723], [15.8876779, 75.7046777, 3.3732919254658387], [13.0141618, 77.6518539, 3.3629258517034066], [30.1915796, 74.9408769, 3.36], [13.2227, 78.5541977, 3.3333333333333335], [22.478459, 88.3541291, 3.3235897435897437], [12.9804194, 77.7275164, 3.320238095238095], [12.9081487, 77.5553179, 3.320238095238095], [12.93103185, 77.6782471, 3.3098330241187384], [12.9413238, 77.7471103, 3.2989247311827956], [45.95485055, -112.49659530324134, 3.2961276695611357], [1.2847055, 103.84320655721689, 3.2940677966101695], [13.0358698, 77.6323597, 3.279279279279279], [13.0227204, 77.595715, 3.278125], [12.8545439, 77.5886892, 3.2716767371601208], [12.9275886, 77.6308832, 3.2639378238341967], [12.9489339, 77.5968273, 3.2576354679802955], [22.8359967, 69.3405962, 3.249295774647887], [12.9845687, 77.73766474151809, 3.243333333333333], [13.007516, 77.695935, 3.2181818181818183], [17.2510682, 80.1651978, 3.215151515151515], [13.0329419, 77.5273253, 3.2], [13.1261747, 78.1142502, 3.1818181818181817], [51.5182611, -0.0742531, 3.1097087378640778], [12.973936, 77.6509982, 3.0953947368421053], [13.0258087, 77.6305067, 3.0938931297709926], [12.945245, 77.6269144, 3.05472972972973], [12.848759900000001, 77.64825295827616, 3.0419087136929464], [12.9089453, 77.6239038, 2.926751592356688], [13.0382184, 77.5919, 2.88], [12.9767936, 77.590082, 2.3857142857142857], [12.9848519, 77.5400626, 2.02]],\n",
       "                {&quot;blur&quot;: 15, &quot;maxZoom&quot;: 18, &quot;minOpacity&quot;: 0.5, &quot;radius&quot;: 25}\n",
       "            ).addTo(map_756510124134402d98dddb7382e630d4);\n",
       "        \n",
       "&lt;/script&gt;\" style=\"position:absolute;width:100%;height:100%;left:0;top:0;border:none !important;\" allowfullscreen webkitallowfullscreen mozallowfullscreen></iframe></div></div>"
      ],
      "text/plain": [
       "<folium.folium.Map at 0x24dbf042df0>"
      ]
     },
     "execution_count": 155,
     "metadata": {},
     "output_type": "execute_result"
    }
   ],
   "source": [
    "basemap"
   ]
  },
  {
   "cell_type": "code",
   "execution_count": null,
   "id": "19c6a782",
   "metadata": {},
   "outputs": [],
   "source": []
  },
  {
   "cell_type": "code",
   "execution_count": null,
   "id": "7651e44e",
   "metadata": {},
   "outputs": [],
   "source": []
  },
  {
   "cell_type": "code",
   "execution_count": null,
   "id": "aa2b0070",
   "metadata": {},
   "outputs": [],
   "source": []
  },
  {
   "cell_type": "code",
   "execution_count": null,
   "id": "c5e1b2ec",
   "metadata": {},
   "outputs": [],
   "source": []
  },
  {
   "cell_type": "code",
   "execution_count": null,
   "id": "47e4ae40",
   "metadata": {},
   "outputs": [],
   "source": []
  },
  {
   "cell_type": "code",
   "execution_count": null,
   "id": "79e85f0a",
   "metadata": {},
   "outputs": [],
   "source": []
  },
  {
   "cell_type": "code",
   "execution_count": null,
   "id": "ee350f9f",
   "metadata": {},
   "outputs": [],
   "source": []
  },
  {
   "cell_type": "code",
   "execution_count": null,
   "id": "f55a8539",
   "metadata": {},
   "outputs": [],
   "source": []
  },
  {
   "cell_type": "code",
   "execution_count": null,
   "id": "e9631b5d",
   "metadata": {},
   "outputs": [],
   "source": []
  },
  {
   "cell_type": "code",
   "execution_count": null,
   "id": "689f8bea",
   "metadata": {},
   "outputs": [],
   "source": []
  }
 ],
 "metadata": {
  "kernelspec": {
   "display_name": "Python 3 (ipykernel)",
   "language": "python",
   "name": "python3"
  },
  "language_info": {
   "codemirror_mode": {
    "name": "ipython",
    "version": 3
   },
   "file_extension": ".py",
   "mimetype": "text/x-python",
   "name": "python",
   "nbconvert_exporter": "python",
   "pygments_lexer": "ipython3",
   "version": "3.9.7"
  }
 },
 "nbformat": 4,
 "nbformat_minor": 5
}
