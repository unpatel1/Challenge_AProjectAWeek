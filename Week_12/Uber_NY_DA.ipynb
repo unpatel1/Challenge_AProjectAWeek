{
 "cells": [
  {
   "cell_type": "markdown",
   "id": "0249d2c2",
   "metadata": {},
   "source": [
    "# Uber New York Data Analysis\n",
    "Weekly challenge: Week 12  \n",
    "Date: 10/10/2022"
   ]
  },
  {
   "cell_type": "markdown",
   "id": "934bbeb3",
   "metadata": {},
   "source": [
    "-- Data collection (Raw)  \n",
    "-- Data cleaning (Data preparation)  \n",
    "-- EDA (Exp. Data Analysis)  \n",
    "-- Conclusion / Inference"
   ]
  },
  {
   "cell_type": "code",
   "execution_count": 2,
   "id": "0baa7691",
   "metadata": {},
   "outputs": [],
   "source": [
    "# Import libraries\n",
    "import pandas as pd\n",
    "import numpy as np\n",
    "import matplotlib.pyplot as plt # for data visualization\n",
    "import seaborn as sns # for data visualization\n",
    "# import plotly.express as px # for data visualization\n",
    "\n",
    "# from plotly.offline import init_notebook_mode # for data visualization\n",
    "# init_notebook_mode(connected = True)\n",
    "\n",
    "import warnings\n",
    "warnings.filterwarnings('ignore')"
   ]
  },
  {
   "cell_type": "code",
   "execution_count": 3,
   "id": "8b2308f3",
   "metadata": {},
   "outputs": [
    {
     "data": {
      "text/html": [
       "<div>\n",
       "<style scoped>\n",
       "    .dataframe tbody tr th:only-of-type {\n",
       "        vertical-align: middle;\n",
       "    }\n",
       "\n",
       "    .dataframe tbody tr th {\n",
       "        vertical-align: top;\n",
       "    }\n",
       "\n",
       "    .dataframe thead th {\n",
       "        text-align: right;\n",
       "    }\n",
       "</style>\n",
       "<table border=\"1\" class=\"dataframe\">\n",
       "  <thead>\n",
       "    <tr style=\"text-align: right;\">\n",
       "      <th></th>\n",
       "      <th>Dispatching_base_num</th>\n",
       "      <th>Pickup_date</th>\n",
       "      <th>Affiliated_base_num</th>\n",
       "      <th>locationID</th>\n",
       "    </tr>\n",
       "  </thead>\n",
       "  <tbody>\n",
       "    <tr>\n",
       "      <th>0</th>\n",
       "      <td>B02617</td>\n",
       "      <td>2015-05-17 09:47:00</td>\n",
       "      <td>B02617</td>\n",
       "      <td>141</td>\n",
       "    </tr>\n",
       "    <tr>\n",
       "      <th>1</th>\n",
       "      <td>B02617</td>\n",
       "      <td>2015-05-17 09:47:00</td>\n",
       "      <td>B02617</td>\n",
       "      <td>65</td>\n",
       "    </tr>\n",
       "    <tr>\n",
       "      <th>2</th>\n",
       "      <td>B02617</td>\n",
       "      <td>2015-05-17 09:47:00</td>\n",
       "      <td>B02617</td>\n",
       "      <td>100</td>\n",
       "    </tr>\n",
       "  </tbody>\n",
       "</table>\n",
       "</div>"
      ],
      "text/plain": [
       "  Dispatching_base_num          Pickup_date Affiliated_base_num  locationID\n",
       "0               B02617  2015-05-17 09:47:00              B02617         141\n",
       "1               B02617  2015-05-17 09:47:00              B02617          65\n",
       "2               B02617  2015-05-17 09:47:00              B02617         100"
      ]
     },
     "execution_count": 3,
     "metadata": {},
     "output_type": "execute_result"
    }
   ],
   "source": [
    "file = r\"C:\\Users\\unpat\\_Projects\\Challenge_AprojectAweek_data_files\\Week_12/uber-raw-data-janjune-15.csv\"\n",
    "uber_15 = pd.read_csv(file, encoding = 'utf-8')\n",
    "uber_15.head(3)"
   ]
  },
  {
   "cell_type": "code",
   "execution_count": 4,
   "id": "3f29c2aa",
   "metadata": {},
   "outputs": [
    {
     "data": {
      "text/plain": [
       "(14270479, 4)"
      ]
     },
     "execution_count": 4,
     "metadata": {},
     "output_type": "execute_result"
    }
   ],
   "source": [
    "uber_15.shape"
   ]
  },
  {
   "cell_type": "code",
   "execution_count": 5,
   "id": "6d19e9a3",
   "metadata": {},
   "outputs": [
    {
     "data": {
      "text/plain": [
       "898225"
      ]
     },
     "execution_count": 5,
     "metadata": {},
     "output_type": "execute_result"
    }
   ],
   "source": [
    "# Checking for duplicate rows\n",
    "uber_15.duplicated().sum()"
   ]
  },
  {
   "cell_type": "code",
   "execution_count": 6,
   "id": "21270793",
   "metadata": {},
   "outputs": [],
   "source": [
    "# Dropping the duplicate rows\n",
    "uber_15.drop_duplicates(inplace = True)"
   ]
  },
  {
   "cell_type": "code",
   "execution_count": 7,
   "id": "6da33e3d",
   "metadata": {},
   "outputs": [
    {
     "data": {
      "text/plain": [
       "(13372254, 4)"
      ]
     },
     "execution_count": 7,
     "metadata": {},
     "output_type": "execute_result"
    }
   ],
   "source": [
    "uber_15.shape"
   ]
  },
  {
   "cell_type": "markdown",
   "id": "0f188e56",
   "metadata": {},
   "source": [
    "**Which month has maximum Uber pickups in New York city?**  \n",
    "We have to find:  \n",
    "-- month of max pickups  \n",
    "-- count of pickups"
   ]
  },
  {
   "cell_type": "code",
   "execution_count": 8,
   "id": "74402644",
   "metadata": {},
   "outputs": [
    {
     "data": {
      "text/plain": [
       "Dispatching_base_num    object\n",
       "Pickup_date             object\n",
       "Affiliated_base_num     object\n",
       "locationID               int64\n",
       "dtype: object"
      ]
     },
     "execution_count": 8,
     "metadata": {},
     "output_type": "execute_result"
    }
   ],
   "source": [
    "uber_15.dtypes"
   ]
  },
  {
   "cell_type": "code",
   "execution_count": 9,
   "id": "2c6f6964",
   "metadata": {},
   "outputs": [],
   "source": [
    "uber_15['Pickup_date'] = pd.to_datetime(uber_15['Pickup_date'], format = '%Y-%m-%d %H:%M:%S')"
   ]
  },
  {
   "cell_type": "code",
   "execution_count": 10,
   "id": "b5c2cf21",
   "metadata": {},
   "outputs": [
    {
     "data": {
      "text/plain": [
       "dtype('<M8[ns]')"
      ]
     },
     "execution_count": 10,
     "metadata": {},
     "output_type": "execute_result"
    }
   ],
   "source": [
    "uber_15['Pickup_date'].dtypes"
   ]
  },
  {
   "cell_type": "code",
   "execution_count": 12,
   "id": "fd3de933",
   "metadata": {},
   "outputs": [],
   "source": [
    "uber_15['month'] = uber_15['Pickup_date'].dt.month"
   ]
  },
  {
   "cell_type": "code",
   "execution_count": 14,
   "id": "d9924ba5",
   "metadata": {},
   "outputs": [
    {
     "data": {
      "text/plain": [
       "<AxesSubplot:>"
      ]
     },
     "execution_count": 14,
     "metadata": {},
     "output_type": "execute_result"
    },
    {
     "data": {
      "image/png": "[encoded data removed]",
      "text/plain": [
       "<Figure size 432x288 with 1 Axes>"
      ]
     },
     "metadata": {
      "needs_background": "light"
     },
     "output_type": "display_data"
    }
   ],
   "source": [
    "uber_15['month'].value_counts().plot(kind = 'bar')"
   ]
  },
  {
   "cell_type": "markdown",
   "id": "bb9fce1b",
   "metadata": {},
   "source": [
    "From the above plot, we can see that June had the maximum Uber pickups in New York city."
   ]
  },
  {
   "cell_type": "markdown",
   "id": "e870dfa3",
   "metadata": {},
   "source": [
    "**Find out total trips for each month & each weekdays**  \n",
    "We need info on:  \n",
    "month, weekday, count  \n",
    "Jan    Fri      10k  \n",
    "Jan    Sat      11k  \n",
    "..  \n",
    "..  \n",
    "Feb    Fri      15k  \n",
    "..  "
   ]
  },
  {
   "cell_type": "code",
   "execution_count": 15,
   "id": "c4a080ea",
   "metadata": {},
   "outputs": [
    {
     "data": {
      "text/html": [
       "<div>\n",
       "<style scoped>\n",
       "    .dataframe tbody tr th:only-of-type {\n",
       "        vertical-align: middle;\n",
       "    }\n",
       "\n",
       "    .dataframe tbody tr th {\n",
       "        vertical-align: top;\n",
       "    }\n",
       "\n",
       "    .dataframe thead th {\n",
       "        text-align: right;\n",
       "    }\n",
       "</style>\n",
       "<table border=\"1\" class=\"dataframe\">\n",
       "  <thead>\n",
       "    <tr style=\"text-align: right;\">\n",
       "      <th></th>\n",
       "      <th>Dispatching_base_num</th>\n",
       "      <th>Pickup_date</th>\n",
       "      <th>Affiliated_base_num</th>\n",
       "      <th>locationID</th>\n",
       "      <th>month</th>\n",
       "      <th>weekday</th>\n",
       "      <th>day</th>\n",
       "      <th>hour</th>\n",
       "      <th>minute</th>\n",
       "    </tr>\n",
       "  </thead>\n",
       "  <tbody>\n",
       "    <tr>\n",
       "      <th>0</th>\n",
       "      <td>B02617</td>\n",
       "      <td>2015-05-17 09:47:00</td>\n",
       "      <td>B02617</td>\n",
       "      <td>141</td>\n",
       "      <td>5</td>\n",
       "      <td>Sunday</td>\n",
       "      <td>17</td>\n",
       "      <td>9</td>\n",
       "      <td>47</td>\n",
       "    </tr>\n",
       "    <tr>\n",
       "      <th>1</th>\n",
       "      <td>B02617</td>\n",
       "      <td>2015-05-17 09:47:00</td>\n",
       "      <td>B02617</td>\n",
       "      <td>65</td>\n",
       "      <td>5</td>\n",
       "      <td>Sunday</td>\n",
       "      <td>17</td>\n",
       "      <td>9</td>\n",
       "      <td>47</td>\n",
       "    </tr>\n",
       "    <tr>\n",
       "      <th>2</th>\n",
       "      <td>B02617</td>\n",
       "      <td>2015-05-17 09:47:00</td>\n",
       "      <td>B02617</td>\n",
       "      <td>100</td>\n",
       "      <td>5</td>\n",
       "      <td>Sunday</td>\n",
       "      <td>17</td>\n",
       "      <td>9</td>\n",
       "      <td>47</td>\n",
       "    </tr>\n",
       "  </tbody>\n",
       "</table>\n",
       "</div>"
      ],
      "text/plain": [
       "  Dispatching_base_num         Pickup_date Affiliated_base_num  locationID  \\\n",
       "0               B02617 2015-05-17 09:47:00              B02617         141   \n",
       "1               B02617 2015-05-17 09:47:00              B02617          65   \n",
       "2               B02617 2015-05-17 09:47:00              B02617         100   \n",
       "\n",
       "   month weekday  day  hour  minute  \n",
       "0      5  Sunday   17     9      47  \n",
       "1      5  Sunday   17     9      47  \n",
       "2      5  Sunday   17     9      47  "
      ]
     },
     "execution_count": 15,
     "metadata": {},
     "output_type": "execute_result"
    }
   ],
   "source": [
    "uber_15['weekday'] = uber_15['Pickup_date'].dt.day_name()\n",
    "uber_15['day'] = uber_15['Pickup_date'].dt.day\n",
    "uber_15['hour'] = uber_15['Pickup_date'].dt.hour\n",
    "uber_15['month'] = uber_15['Pickup_date'].dt.month\n",
    "uber_15['minute'] = uber_15['Pickup_date'].dt.minute\n",
    "uber_15.head(3)"
   ]
  },
  {
   "cell_type": "code",
   "execution_count": 16,
   "id": "d34e330b",
   "metadata": {},
   "outputs": [
    {
     "data": {
      "text/plain": [
       "month  weekday  \n",
       "1      Friday       339285\n",
       "       Monday       190606\n",
       "       Saturday     386049\n",
       "       Sunday       230487\n",
       "       Thursday     330319\n",
       "       Tuesday      196574\n",
       "       Wednesday    245650\n",
       "2      Friday       373550\n",
       "       Monday       274948\n",
       "       Saturday     368311\n",
       "       Sunday       296130\n",
       "       Thursday     335603\n",
       "       Tuesday      287260\n",
       "       Wednesday    286387\n",
       "3      Friday       309631\n",
       "       Monday       269931\n",
       "       Saturday     314785\n",
       "       Sunday       313865\n",
       "       Thursday     277026\n",
       "       Tuesday      320634\n",
       "       Wednesday    256767\n",
       "4      Friday       315002\n",
       "       Monday       238429\n",
       "       Saturday     324545\n",
       "       Sunday       273560\n",
       "       Thursday     372522\n",
       "       Tuesday      250632\n",
       "       Wednesday    338015\n",
       "5      Friday       430134\n",
       "       Monday       255501\n",
       "       Saturday     464298\n",
       "       Sunday       390391\n",
       "       Thursday     337607\n",
       "       Tuesday      290004\n",
       "       Wednesday    316045\n",
       "6      Friday       371225\n",
       "       Monday       375312\n",
       "       Saturday     399377\n",
       "       Sunday       334434\n",
       "       Thursday     357782\n",
       "       Tuesday      405500\n",
       "       Wednesday    328141\n",
       "dtype: int64"
      ]
     },
     "execution_count": 16,
     "metadata": {},
     "output_type": "execute_result"
    }
   ],
   "source": [
    "uber_15.groupby(['month','weekday']).size()"
   ]
  },
  {
   "cell_type": "code",
   "execution_count": 18,
   "id": "37e292b1",
   "metadata": {},
   "outputs": [
    {
     "data": {
      "text/html": [
       "<div>\n",
       "<style scoped>\n",
       "    .dataframe tbody tr th:only-of-type {\n",
       "        vertical-align: middle;\n",
       "    }\n",
       "\n",
       "    .dataframe tbody tr th {\n",
       "        vertical-align: top;\n",
       "    }\n",
       "\n",
       "    .dataframe thead th {\n",
       "        text-align: right;\n",
       "    }\n",
       "</style>\n",
       "<table border=\"1\" class=\"dataframe\">\n",
       "  <thead>\n",
       "    <tr style=\"text-align: right;\">\n",
       "      <th></th>\n",
       "      <th>month</th>\n",
       "      <th>weekday</th>\n",
       "      <th>size</th>\n",
       "    </tr>\n",
       "  </thead>\n",
       "  <tbody>\n",
       "    <tr>\n",
       "      <th>0</th>\n",
       "      <td>1</td>\n",
       "      <td>Friday</td>\n",
       "      <td>339285</td>\n",
       "    </tr>\n",
       "    <tr>\n",
       "      <th>1</th>\n",
       "      <td>1</td>\n",
       "      <td>Monday</td>\n",
       "      <td>190606</td>\n",
       "    </tr>\n",
       "    <tr>\n",
       "      <th>2</th>\n",
       "      <td>1</td>\n",
       "      <td>Saturday</td>\n",
       "      <td>386049</td>\n",
       "    </tr>\n",
       "    <tr>\n",
       "      <th>3</th>\n",
       "      <td>1</td>\n",
       "      <td>Sunday</td>\n",
       "      <td>230487</td>\n",
       "    </tr>\n",
       "    <tr>\n",
       "      <th>4</th>\n",
       "      <td>1</td>\n",
       "      <td>Thursday</td>\n",
       "      <td>330319</td>\n",
       "    </tr>\n",
       "  </tbody>\n",
       "</table>\n",
       "</div>"
      ],
      "text/plain": [
       "   month   weekday    size\n",
       "0      1    Friday  339285\n",
       "1      1    Monday  190606\n",
       "2      1  Saturday  386049\n",
       "3      1    Sunday  230487\n",
       "4      1  Thursday  330319"
      ]
     },
     "execution_count": 18,
     "metadata": {},
     "output_type": "execute_result"
    }
   ],
   "source": [
    "temp = uber_15.groupby(['month','weekday'], as_index = False).size()\n",
    "temp.head()"
   ]
  },
  {
   "cell_type": "code",
   "execution_count": 19,
   "id": "650a0ada",
   "metadata": {},
   "outputs": [
    {
     "data": {
      "text/plain": [
       "array([1, 2, 3, 4, 5, 6], dtype=int64)"
      ]
     },
     "execution_count": 19,
     "metadata": {},
     "output_type": "execute_result"
    }
   ],
   "source": [
    "temp['month'].unique()"
   ]
  },
  {
   "cell_type": "code",
   "execution_count": 20,
   "id": "4e1681be",
   "metadata": {},
   "outputs": [],
   "source": [
    "dict_month = {1:'Jan', 2:'Feb', 3:'Mar', 4:'Apr', 5:'May', 6:'Jun'}"
   ]
  },
  {
   "cell_type": "code",
   "execution_count": 21,
   "id": "da31d72c",
   "metadata": {},
   "outputs": [],
   "source": [
    "temp['month'] = temp['month'].map(dict_month)"
   ]
  },
  {
   "cell_type": "code",
   "execution_count": 22,
   "id": "d88b0596",
   "metadata": {},
   "outputs": [
    {
     "data": {
      "text/html": [
       "<div>\n",
       "<style scoped>\n",
       "    .dataframe tbody tr th:only-of-type {\n",
       "        vertical-align: middle;\n",
       "    }\n",
       "\n",
       "    .dataframe tbody tr th {\n",
       "        vertical-align: top;\n",
       "    }\n",
       "\n",
       "    .dataframe thead th {\n",
       "        text-align: right;\n",
       "    }\n",
       "</style>\n",
       "<table border=\"1\" class=\"dataframe\">\n",
       "  <thead>\n",
       "    <tr style=\"text-align: right;\">\n",
       "      <th></th>\n",
       "      <th>month</th>\n",
       "      <th>weekday</th>\n",
       "      <th>size</th>\n",
       "    </tr>\n",
       "  </thead>\n",
       "  <tbody>\n",
       "    <tr>\n",
       "      <th>0</th>\n",
       "      <td>Jan</td>\n",
       "      <td>Friday</td>\n",
       "      <td>339285</td>\n",
       "    </tr>\n",
       "    <tr>\n",
       "      <th>1</th>\n",
       "      <td>Jan</td>\n",
       "      <td>Monday</td>\n",
       "      <td>190606</td>\n",
       "    </tr>\n",
       "    <tr>\n",
       "      <th>2</th>\n",
       "      <td>Jan</td>\n",
       "      <td>Saturday</td>\n",
       "      <td>386049</td>\n",
       "    </tr>\n",
       "    <tr>\n",
       "      <th>3</th>\n",
       "      <td>Jan</td>\n",
       "      <td>Sunday</td>\n",
       "      <td>230487</td>\n",
       "    </tr>\n",
       "    <tr>\n",
       "      <th>4</th>\n",
       "      <td>Jan</td>\n",
       "      <td>Thursday</td>\n",
       "      <td>330319</td>\n",
       "    </tr>\n",
       "  </tbody>\n",
       "</table>\n",
       "</div>"
      ],
      "text/plain": [
       "  month   weekday    size\n",
       "0   Jan    Friday  339285\n",
       "1   Jan    Monday  190606\n",
       "2   Jan  Saturday  386049\n",
       "3   Jan    Sunday  230487\n",
       "4   Jan  Thursday  330319"
      ]
     },
     "execution_count": 22,
     "metadata": {},
     "output_type": "execute_result"
    }
   ],
   "source": [
    "temp.head()"
   ]
  },
  {
   "cell_type": "code",
   "execution_count": 27,
   "id": "7c7fc4cf",
   "metadata": {},
   "outputs": [
    {
     "data": {
      "text/plain": [
       "<AxesSubplot:xlabel='month', ylabel='size'>"
      ]
     },
     "execution_count": 27,
     "metadata": {},
     "output_type": "execute_result"
    },
    {
     "data": {
      "image/png": "[encoded data removed]",
      "text/plain": [
       "<Figure size 1080x576 with 1 Axes>"
      ]
     },
     "metadata": {
      "needs_background": "light"
     },
     "output_type": "display_data"
    }
   ],
   "source": [
    "plt.figure(figsize = (15, 8))\n",
    "sns.barplot(x = 'month', y = 'size', hue = 'weekday', data = temp)"
   ]
  },
  {
   "cell_type": "markdown",
   "id": "3dabcefd",
   "metadata": {},
   "source": [
    "The above plot shows the total trips for each month & each weekday"
   ]
  },
  {
   "cell_type": "markdown",
   "id": "108600f8",
   "metadata": {},
   "source": [
    "**Find out hourly rush in New York city on all days**  \n",
    "We need info on:  \n",
    "days of week, hour, total rides  \n",
    "\n",
    "day of week---hour---total rides  \n",
    "Friday--------1-------80k  \n",
    "-----------------2-------70k  \n",
    "----------------24------50k  \n",
    "Saturday-----1-------50k  \n",
    "-----------------2-------60k  \n",
    "-----------------24-----24k  "
   ]
  },
  {
   "cell_type": "code",
   "execution_count": 31,
   "id": "c859e4be",
   "metadata": {},
   "outputs": [],
   "source": [
    "summary = uber_15.groupby(['weekday','hour'], as_index = False).size()"
   ]
  },
  {
   "cell_type": "code",
   "execution_count": 32,
   "id": "51bf30d2",
   "metadata": {},
   "outputs": [
    {
     "data": {
      "text/html": [
       "<div>\n",
       "<style scoped>\n",
       "    .dataframe tbody tr th:only-of-type {\n",
       "        vertical-align: middle;\n",
       "    }\n",
       "\n",
       "    .dataframe tbody tr th {\n",
       "        vertical-align: top;\n",
       "    }\n",
       "\n",
       "    .dataframe thead th {\n",
       "        text-align: right;\n",
       "    }\n",
       "</style>\n",
       "<table border=\"1\" class=\"dataframe\">\n",
       "  <thead>\n",
       "    <tr style=\"text-align: right;\">\n",
       "      <th></th>\n",
       "      <th>weekday</th>\n",
       "      <th>hour</th>\n",
       "      <th>size</th>\n",
       "    </tr>\n",
       "  </thead>\n",
       "  <tbody>\n",
       "    <tr>\n",
       "      <th>0</th>\n",
       "      <td>Friday</td>\n",
       "      <td>0</td>\n",
       "      <td>79879</td>\n",
       "    </tr>\n",
       "    <tr>\n",
       "      <th>1</th>\n",
       "      <td>Friday</td>\n",
       "      <td>1</td>\n",
       "      <td>44563</td>\n",
       "    </tr>\n",
       "    <tr>\n",
       "      <th>2</th>\n",
       "      <td>Friday</td>\n",
       "      <td>2</td>\n",
       "      <td>27252</td>\n",
       "    </tr>\n",
       "    <tr>\n",
       "      <th>3</th>\n",
       "      <td>Friday</td>\n",
       "      <td>3</td>\n",
       "      <td>19076</td>\n",
       "    </tr>\n",
       "    <tr>\n",
       "      <th>4</th>\n",
       "      <td>Friday</td>\n",
       "      <td>4</td>\n",
       "      <td>23049</td>\n",
       "    </tr>\n",
       "    <tr>\n",
       "      <th>...</th>\n",
       "      <td>...</td>\n",
       "      <td>...</td>\n",
       "      <td>...</td>\n",
       "    </tr>\n",
       "    <tr>\n",
       "      <th>163</th>\n",
       "      <td>Wednesday</td>\n",
       "      <td>19</td>\n",
       "      <td>131317</td>\n",
       "    </tr>\n",
       "    <tr>\n",
       "      <th>164</th>\n",
       "      <td>Wednesday</td>\n",
       "      <td>20</td>\n",
       "      <td>123490</td>\n",
       "    </tr>\n",
       "    <tr>\n",
       "      <th>165</th>\n",
       "      <td>Wednesday</td>\n",
       "      <td>21</td>\n",
       "      <td>120941</td>\n",
       "    </tr>\n",
       "    <tr>\n",
       "      <th>166</th>\n",
       "      <td>Wednesday</td>\n",
       "      <td>22</td>\n",
       "      <td>115208</td>\n",
       "    </tr>\n",
       "    <tr>\n",
       "      <th>167</th>\n",
       "      <td>Wednesday</td>\n",
       "      <td>23</td>\n",
       "      <td>91631</td>\n",
       "    </tr>\n",
       "  </tbody>\n",
       "</table>\n",
       "<p>168 rows × 3 columns</p>\n",
       "</div>"
      ],
      "text/plain": [
       "       weekday  hour    size\n",
       "0       Friday     0   79879\n",
       "1       Friday     1   44563\n",
       "2       Friday     2   27252\n",
       "3       Friday     3   19076\n",
       "4       Friday     4   23049\n",
       "..         ...   ...     ...\n",
       "163  Wednesday    19  131317\n",
       "164  Wednesday    20  123490\n",
       "165  Wednesday    21  120941\n",
       "166  Wednesday    22  115208\n",
       "167  Wednesday    23   91631\n",
       "\n",
       "[168 rows x 3 columns]"
      ]
     },
     "execution_count": 32,
     "metadata": {},
     "output_type": "execute_result"
    }
   ],
   "source": [
    "summary"
   ]
  },
  {
   "cell_type": "code",
   "execution_count": 34,
   "id": "adaa13f3",
   "metadata": {},
   "outputs": [
    {
     "data": {
      "text/plain": [
       "<AxesSubplot:xlabel='hour', ylabel='size'>"
      ]
     },
     "execution_count": 34,
     "metadata": {},
     "output_type": "execute_result"
    },
    {
     "data": {
      "image/png": "[encoded data removed]",
      "text/plain": [
       "<Figure size 1080x576 with 1 Axes>"
      ]
     },
     "metadata": {
      "needs_background": "light"
     },
     "output_type": "display_data"
    }
   ],
   "source": [
    "plt.figure(figsize = (15, 8))\n",
    "sns.pointplot(x = 'hour', y = 'size', hue = 'weekday', data = summary)"
   ]
  },
  {
   "cell_type": "markdown",
   "id": "6aca8494",
   "metadata": {},
   "source": [
    "Trend of pickups on Friday and Saturday is upward during evening and late night while it is downward for the other five days."
   ]
  },
  {
   "cell_type": "markdown",
   "id": "970bee87",
   "metadata": {},
   "source": [
    "**Which base number has the most number of active vehicles?**"
   ]
  },
  {
   "cell_type": "code",
   "execution_count": 37,
   "id": "fcaf0a7d",
   "metadata": {},
   "outputs": [
    {
     "data": {
      "text/html": [
       "<div>\n",
       "<style scoped>\n",
       "    .dataframe tbody tr th:only-of-type {\n",
       "        vertical-align: middle;\n",
       "    }\n",
       "\n",
       "    .dataframe tbody tr th {\n",
       "        vertical-align: top;\n",
       "    }\n",
       "\n",
       "    .dataframe thead th {\n",
       "        text-align: right;\n",
       "    }\n",
       "</style>\n",
       "<table border=\"1\" class=\"dataframe\">\n",
       "  <thead>\n",
       "    <tr style=\"text-align: right;\">\n",
       "      <th></th>\n",
       "      <th>dispatching_base_number</th>\n",
       "      <th>date</th>\n",
       "      <th>active_vehicles</th>\n",
       "      <th>trips</th>\n",
       "    </tr>\n",
       "  </thead>\n",
       "  <tbody>\n",
       "    <tr>\n",
       "      <th>0</th>\n",
       "      <td>B02512</td>\n",
       "      <td>1/1/2015</td>\n",
       "      <td>190</td>\n",
       "      <td>1132</td>\n",
       "    </tr>\n",
       "    <tr>\n",
       "      <th>1</th>\n",
       "      <td>B02765</td>\n",
       "      <td>1/1/2015</td>\n",
       "      <td>225</td>\n",
       "      <td>1765</td>\n",
       "    </tr>\n",
       "    <tr>\n",
       "      <th>2</th>\n",
       "      <td>B02764</td>\n",
       "      <td>1/1/2015</td>\n",
       "      <td>3427</td>\n",
       "      <td>29421</td>\n",
       "    </tr>\n",
       "  </tbody>\n",
       "</table>\n",
       "</div>"
      ],
      "text/plain": [
       "  dispatching_base_number      date  active_vehicles  trips\n",
       "0                  B02512  1/1/2015              190   1132\n",
       "1                  B02765  1/1/2015              225   1765\n",
       "2                  B02764  1/1/2015             3427  29421"
      ]
     },
     "execution_count": 37,
     "metadata": {},
     "output_type": "execute_result"
    }
   ],
   "source": [
    "file = r\"C:\\Users\\unpat\\_Projects\\Challenge_AprojectAweek_data_files\\Week_12/Uber-Jan-Feb-FOIL.csv\"\n",
    "uber_foil = pd.read_csv(file, encoding = 'utf-8')\n",
    "uber_foil.head(3)"
   ]
  },
  {
   "cell_type": "code",
   "execution_count": 42,
   "id": "702b1852",
   "metadata": {},
   "outputs": [],
   "source": [
    "#!pip install chart_studio"
   ]
  },
  {
   "cell_type": "code",
   "execution_count": 43,
   "id": "ab7335ee",
   "metadata": {},
   "outputs": [
    {
     "data": {
      "text/html": [
       "        <script type=\"text/javascript\">\n",
       "        window.PlotlyConfig = {MathJaxConfig: 'local'};\n",
       "        if (window.MathJax) {MathJax.Hub.Config({SVG: {font: \"STIX-Web\"}});}\n",
       "        if (typeof require !== 'undefined') {\n",
       "        require.undef(\"plotly\");\n",
       "        requirejs.config({\n",
       "            paths: {\n",
       "                'plotly': ['https://cdn.plot.ly/plotly-2.11.1.min']\n",
       "            }\n",
       "        });\n",
       "        require(['plotly'], function(Plotly) {\n",
       "            window._Plotly = Plotly;\n",
       "        });\n",
       "        }\n",
       "        </script>\n",
       "        "
      ]
     },
     "metadata": {},
     "output_type": "display_data"
    }
   ],
   "source": [
    "import chart_studio.plotly as py\n",
    "import plotly.graph_objs as go\n",
    "import plotly.express as px\n",
    "from plotly.offline import download_plotlyjs, plot, iplot, init_notebook_mode\n",
    "init_notebook_mode(connected = True)"
   ]
  },
  {
   "cell_type": "code",
   "execution_count": 47,
   "id": "6ebe504e",
   "metadata": {},
   "outputs": [
    {
     "data": {
      "application/vnd.plotly.v1+json": {
       "config": {
        "plotlyServerURL": "https://plot.ly"
       },
       "data": [
        {
         "alignmentgroup": "True",
         "hovertemplate": "dispatching_base_number=%{x}<br>active_vehicles=%{y}<extra></extra>",
         "legendgroup": "",
         "marker": {
          "color": "#636efa"
         },
         "name": "",
         "notched": false,
         "offsetgroup": "",
         "orientation": "v",
         "showlegend": false,
         "type": "box",
         "x": [
          "B02512",
          "B02765",
          "B02764",
          "B02682",
          "B02617",
          "B02598",
          "B02598",
          "B02617",
          "B02512",
          "B02682",
          "B02765",
          "B02764",
          "B02765",
          "B02617",
          "B02598",
          "B02682",
          "B02512",
          "B02764",
          "B02512",
          "B02682",
          "B02598",
          "B02765",
          "B02617",
          "B02764",
          "B02512",
          "B02682",
          "B02617",
          "B02764",
          "B02598",
          "B02765",
          "B02764",
          "B02682",
          "B02617",
          "B02765",
          "B02512",
          "B02598",
          "B02617",
          "B02682",
          "B02764",
          "B02765",
          "B02512",
          "B02598",
          "B02765",
          "B02598",
          "B02512",
          "B02682",
          "B02764",
          "B02617",
          "B02617",
          "B02512",
          "B02764",
          "B02682",
          "B02598",
          "B02765",
          "B02682",
          "B02617",
          "B02598",
          "B02512",
          "B02764",
          "B02765",
          "B02765",
          "B02598",
          "B02682",
          "B02764",
          "B02617",
          "B02512",
          "B02764",
          "B02765",
          "B02512",
          "B02598",
          "B02682",
          "B02617",
          "B02765",
          "B02598",
          "B02617",
          "B02512",
          "B02764",
          "B02682",
          "B02764",
          "B02765",
          "B02598",
          "B02512",
          "B02617",
          "B02682",
          "B02512",
          "B02682",
          "B02617",
          "B02765",
          "B02764",
          "B02598",
          "B02617",
          "B02765",
          "B02764",
          "B02682",
          "B02512",
          "B02598",
          "B02598",
          "B02512",
          "B02682",
          "B02765",
          "B02617",
          "B02764",
          "B02512",
          "B02598",
          "B02765",
          "B02764",
          "B02682",
          "B02617",
          "B02682",
          "B02617",
          "B02765",
          "B02764",
          "B02512",
          "B02598",
          "B02598",
          "B02682",
          "B02512",
          "B02764",
          "B02765",
          "B02617",
          "B02764",
          "B02512",
          "B02682",
          "B02598",
          "B02765",
          "B02617",
          "B02617",
          "B02764",
          "B02512",
          "B02598",
          "B02682",
          "B02765",
          "B02598",
          "B02512",
          "B02765",
          "B02764",
          "B02617",
          "B02682",
          "B02598",
          "B02764",
          "B02512",
          "B02617",
          "B02682",
          "B02765",
          "B02512",
          "B02764",
          "B02765",
          "B02598",
          "B02682",
          "B02617",
          "B02617",
          "B02598",
          "B02765",
          "B02764",
          "B02682",
          "B02512",
          "B02682",
          "B02765",
          "B02617",
          "B02598",
          "B02512",
          "B02764",
          "B02764",
          "B02682",
          "B02765",
          "B02617",
          "B02598",
          "B02512",
          "B02617",
          "B02764",
          "B02682",
          "B02765",
          "B02512",
          "B02598",
          "B02512",
          "B02617",
          "B02682",
          "B02764",
          "B02765",
          "B02598",
          "B02765",
          "B02512",
          "B02617",
          "B02682",
          "B02764",
          "B02598",
          "B02598",
          "B02682",
          "B02512",
          "B02765",
          "B02617",
          "B02764",
          "B02617",
          "B02682",
          "B02765",
          "B02598",
          "B02764",
          "B02512",
          "B02765",
          "B02598",
          "B02512",
          "B02764",
          "B02617",
          "B02682",
          "B02764",
          "B02765",
          "B02512",
          "B02682",
          "B02617",
          "B02598",
          "B02617",
          "B02682",
          "B02598",
          "B02512",
          "B02765",
          "B02764",
          "B02617",
          "B02765",
          "B02598",
          "B02512",
          "B02764",
          "B02682",
          "B02598",
          "B02512",
          "B02617",
          "B02682",
          "B02764",
          "B02765",
          "B02764",
          "B02765",
          "B02598",
          "B02617",
          "B02682",
          "B02512",
          "B02617",
          "B02682",
          "B02598",
          "B02764",
          "B02512",
          "B02765",
          "B02764",
          "B02512",
          "B02617",
          "B02765",
          "B02682",
          "B02598",
          "B02617",
          "B02764",
          "B02512",
          "B02598",
          "B02765",
          "B02682",
          "B02617",
          "B02512",
          "B02682",
          "B02765",
          "B02598",
          "B02764",
          "B02617",
          "B02682",
          "B02764",
          "B02765",
          "B02512",
          "B02598",
          "B02764",
          "B02512",
          "B02598",
          "B02765",
          "B02617",
          "B02682",
          "B02682",
          "B02764",
          "B02617",
          "B02765",
          "B02512",
          "B02598",
          "B02598",
          "B02512",
          "B02617",
          "B02764",
          "B02682",
          "B02765",
          "B02764",
          "B02512",
          "B02682",
          "B02617",
          "B02598",
          "B02765",
          "B02598",
          "B02682",
          "B02617",
          "B02765",
          "B02764",
          "B02512",
          "B02598",
          "B02512",
          "B02682",
          "B02764",
          "B02765",
          "B02617",
          "B02764",
          "B02617",
          "B02598",
          "B02682",
          "B02765",
          "B02512",
          "B02598",
          "B02682",
          "B02765",
          "B02617",
          "B02512",
          "B02764",
          "B02512",
          "B02617",
          "B02682",
          "B02764",
          "B02598",
          "B02765",
          "B02598",
          "B02617",
          "B02764",
          "B02682",
          "B02765",
          "B02512",
          "B02764",
          "B02512",
          "B02598",
          "B02682",
          "B02617",
          "B02765",
          "B02512",
          "B02598",
          "B02765",
          "B02682",
          "B02617",
          "B02764",
          "B02598",
          "B02617",
          "B02682",
          "B02512",
          "B02765",
          "B02764",
          "B02765",
          "B02617",
          "B02598",
          "B02512",
          "B02764",
          "B02682",
          "B02598",
          "B02764",
          "B02617",
          "B02682",
          "B02512",
          "B02765"
         ],
         "x0": " ",
         "xaxis": "x",
         "y": [
          190,
          225,
          3427,
          945,
          1228,
          870,
          785,
          1137,
          175,
          890,
          196,
          3147,
          201,
          1188,
          818,
          915,
          173,
          3215,
          147,
          812,
          746,
          183,
          1088,
          2862,
          194,
          951,
          1218,
          3387,
          907,
          227,
          3473,
          1022,
          1336,
          234,
          218,
          933,
          1363,
          1039,
          3603,
          248,
          217,
          974,
          262,
          1070,
          238,
          1135,
          3831,
          1463,
          1455,
          224,
          3820,
          1140,
          1070,
          280,
          1057,
          1331,
          949,
          206,
          3558,
          245,
          220,
          832,
          943,
          3186,
          1228,
          162,
          3499,
          279,
          217,
          964,
          1082,
          1323,
          258,
          975,
          1342,
          234,
          3658,
          1092,
          3736,
          271,
          1030,
          233,
          1405,
          1174,
          237,
          1208,
          1457,
          270,
          3840,
          1068,
          1445,
          290,
          3975,
          1250,
          234,
          1079,
          974,
          201,
          1137,
          252,
          1306,
          3657,
          177,
          869,
          248,
          3290,
          1056,
          1223,
          883,
          992,
          238,
          2958,
          168,
          706,
          944,
          1151,
          221,
          3654,
          272,
          1350,
          3718,
          242,
          1228,
          1035,
          296,
          1429,
          1471,
          3889,
          246,
          1071,
          1295,
          295,
          1093,
          246,
          299,
          4040,
          1482,
          1330,
          945,
          3652,
          211,
          1367,
          1223,
          245,
          183,
          3300,
          226,
          829,
          1046,
          1203,
          1150,
          860,
          230,
          3012,
          1084,
          197,
          600,
          135,
          596,
          434,
          112,
          1619,
          3692,
          1235,
          286,
          1356,
          1011,
          235,
          1474,
          3959,
          1316,
          295,
          250,
          1082,
          256,
          1501,
          1384,
          4124,
          322,
          1106,
          309,
          225,
          1394,
          1321,
          3947,
          1027,
          961,
          1214,
          193,
          289,
          1355,
          3740,
          1217,
          1152,
          275,
          939,
          3270,
          227,
          299,
          991,
          257,
          3674,
          1350,
          1269,
          3856,
          309,
          244,
          1311,
          1393,
          1072,
          1524,
          1418,
          1179,
          264,
          355,
          4093,
          1526,
          385,
          1181,
          261,
          4170,
          1414,
          1031,
          211,
          1383,
          1300,
          3849,
          345,
          3422,
          313,
          923,
          1256,
          1136,
          176,
          1312,
          1241,
          976,
          3543,
          228,
          388,
          3700,
          233,
          1364,
          422,
          1281,
          1029,
          1450,
          3849,
          255,
          1115,
          450,
          1396,
          1532,
          269,
          1468,
          536,
          1181,
          4137,
          1590,
          1523,
          4395,
          599,
          281,
          1216,
          4129,
          236,
          1111,
          583,
          1486,
          1428,
          1261,
          3651,
          1293,
          521,
          210,
          1003,
          934,
          207,
          1214,
          3524,
          1164,
          508,
          3826,
          241,
          1314,
          1378,
          1066,
          578,
          1078,
          1314,
          1394,
          586,
          3842,
          228,
          1127,
          250,
          1428,
          4110,
          663,
          1452,
          4384,
          1574,
          1186,
          1497,
          736,
          272,
          1044,
          1374,
          685,
          1443,
          238,
          3981,
          199,
          1248,
          1220,
          3478,
          909,
          566,
          966,
          1332,
          3734,
          1262,
          665,
          238,
          3965,
          247,
          1061,
          1346,
          1456,
          698,
          246,
          1076,
          706,
          1395,
          1473,
          3934,
          1134,
          1539,
          1465,
          243,
          745,
          4101,
          786,
          1551,
          1114,
          272,
          4253,
          1510,
          994,
          3952,
          1372,
          1386,
          230,
          747
         ],
         "y0": " ",
         "yaxis": "y"
        }
       ],
       "layout": {
        "boxmode": "group",
        "legend": {
         "tracegroupgap": 0
        },
        "margin": {
         "t": 60
        },
        "template": {
         "data": {
          "bar": [
           {
            "error_x": {
             "color": "#2a3f5f"
            },
            "error_y": {
             "color": "#2a3f5f"
            },
            "marker": {
             "line": {
              "color": "#E5ECF6",
              "width": 0.5
             },
             "pattern": {
              "fillmode": "overlay",
              "size": 10,
              "solidity": 0.2
             }
            },
            "type": "bar"
           }
          ],
          "barpolar": [
           {
            "marker": {
             "line": {
              "color": "#E5ECF6",
              "width": 0.5
             },
             "pattern": {
              "fillmode": "overlay",
              "size": 10,
              "solidity": 0.2
             }
            },
            "type": "barpolar"
           }
          ],
          "carpet": [
           {
            "aaxis": {
             "endlinecolor": "#2a3f5f",
             "gridcolor": "white",
             "linecolor": "white",
             "minorgridcolor": "white",
             "startlinecolor": "#2a3f5f"
            },
            "baxis": {
             "endlinecolor": "#2a3f5f",
             "gridcolor": "white",
             "linecolor": "white",
             "minorgridcolor": "white",
             "startlinecolor": "#2a3f5f"
            },
            "type": "carpet"
           }
          ],
          "choropleth": [
           {
            "colorbar": {
             "outlinewidth": 0,
             "ticks": ""
            },
            "type": "choropleth"
           }
          ],
          "contour": [
           {
            "colorbar": {
             "outlinewidth": 0,
             "ticks": ""
            },
            "colorscale": [
             [
              0,
              "#0d0887"
             ],
             [
              0.1111111111111111,
              "#46039f"
             ],
             [
              0.2222222222222222,
              "#7201a8"
             ],
             [
              0.3333333333333333,
              "#9c179e"
             ],
             [
              0.4444444444444444,
              "#bd3786"
             ],
             [
              0.5555555555555556,
              "#d8576b"
             ],
             [
              0.6666666666666666,
              "#ed7953"
             ],
             [
              0.7777777777777778,
              "#fb9f3a"
             ],
             [
              0.8888888888888888,
              "#fdca26"
             ],
             [
              1,
              "#f0f921"
             ]
            ],
            "type": "contour"
           }
          ],
          "contourcarpet": [
           {
            "colorbar": {
             "outlinewidth": 0,
             "ticks": ""
            },
            "type": "contourcarpet"
           }
          ],
          "heatmap": [
           {
            "colorbar": {
             "outlinewidth": 0,
             "ticks": ""
            },
            "colorscale": [
             [
              0,
              "#0d0887"
             ],
             [
              0.1111111111111111,
              "#46039f"
             ],
             [
              0.2222222222222222,
              "#7201a8"
             ],
             [
              0.3333333333333333,
              "#9c179e"
             ],
             [
              0.4444444444444444,
              "#bd3786"
             ],
             [
              0.5555555555555556,
              "#d8576b"
             ],
             [
              0.6666666666666666,
              "#ed7953"
             ],
             [
              0.7777777777777778,
              "#fb9f3a"
             ],
             [
              0.8888888888888888,
              "#fdca26"
             ],
             [
              1,
              "#f0f921"
             ]
            ],
            "type": "heatmap"
           }
          ],
          "heatmapgl": [
           {
            "colorbar": {
             "outlinewidth": 0,
             "ticks": ""
            },
            "colorscale": [
             [
              0,
              "#0d0887"
             ],
             [
              0.1111111111111111,
              "#46039f"
             ],
             [
              0.2222222222222222,
              "#7201a8"
             ],
             [
              0.3333333333333333,
              "#9c179e"
             ],
             [
              0.4444444444444444,
              "#bd3786"
             ],
             [
              0.5555555555555556,
              "#d8576b"
             ],
             [
              0.6666666666666666,
              "#ed7953"
             ],
             [
              0.7777777777777778,
              "#fb9f3a"
             ],
             [
              0.8888888888888888,
              "#fdca26"
             ],
             [
              1,
              "#f0f921"
             ]
            ],
            "type": "heatmapgl"
           }
          ],
          "histogram": [
           {
            "marker": {
             "pattern": {
              "fillmode": "overlay",
              "size": 10,
              "solidity": 0.2
             }
            },
            "type": "histogram"
           }
          ],
          "histogram2d": [
           {
            "colorbar": {
             "outlinewidth": 0,
             "ticks": ""
            },
            "colorscale": [
             [
              0,
              "#0d0887"
             ],
             [
              0.1111111111111111,
              "#46039f"
             ],
             [
              0.2222222222222222,
              "#7201a8"
             ],
             [
              0.3333333333333333,
              "#9c179e"
             ],
             [
              0.4444444444444444,
              "#bd3786"
             ],
             [
              0.5555555555555556,
              "#d8576b"
             ],
             [
              0.6666666666666666,
              "#ed7953"
             ],
             [
              0.7777777777777778,
              "#fb9f3a"
             ],
             [
              0.8888888888888888,
              "#fdca26"
             ],
             [
              1,
              "#f0f921"
             ]
            ],
            "type": "histogram2d"
           }
          ],
          "histogram2dcontour": [
           {
            "colorbar": {
             "outlinewidth": 0,
             "ticks": ""
            },
            "colorscale": [
             [
              0,
              "#0d0887"
             ],
             [
              0.1111111111111111,
              "#46039f"
             ],
             [
              0.2222222222222222,
              "#7201a8"
             ],
             [
              0.3333333333333333,
              "#9c179e"
             ],
             [
              0.4444444444444444,
              "#bd3786"
             ],
             [
              0.5555555555555556,
              "#d8576b"
             ],
             [
              0.6666666666666666,
              "#ed7953"
             ],
             [
              0.7777777777777778,
              "#fb9f3a"
             ],
             [
              0.8888888888888888,
              "#fdca26"
             ],
             [
              1,
              "#f0f921"
             ]
            ],
            "type": "histogram2dcontour"
           }
          ],
          "mesh3d": [
           {
            "colorbar": {
             "outlinewidth": 0,
             "ticks": ""
            },
            "type": "mesh3d"
           }
          ],
          "parcoords": [
           {
            "line": {
             "colorbar": {
              "outlinewidth": 0,
              "ticks": ""
             }
            },
            "type": "parcoords"
           }
          ],
          "pie": [
           {
            "automargin": true,
            "type": "pie"
           }
          ],
          "scatter": [
           {
            "fillpattern": {
             "fillmode": "overlay",
             "size": 10,
             "solidity": 0.2
            },
            "type": "scatter"
           }
          ],
          "scatter3d": [
           {
            "line": {
             "colorbar": {
              "outlinewidth": 0,
              "ticks": ""
             }
            },
            "marker": {
             "colorbar": {
              "outlinewidth": 0,
              "ticks": ""
             }
            },
            "type": "scatter3d"
           }
          ],
          "scattercarpet": [
           {
            "marker": {
             "colorbar": {
              "outlinewidth": 0,
              "ticks": ""
             }
            },
            "type": "scattercarpet"
           }
          ],
          "scattergeo": [
           {
            "marker": {
             "colorbar": {
              "outlinewidth": 0,
              "ticks": ""
             }
            },
            "type": "scattergeo"
           }
          ],
          "scattergl": [
           {
            "marker": {
             "colorbar": {
              "outlinewidth": 0,
              "ticks": ""
             }
            },
            "type": "scattergl"
           }
          ],
          "scattermapbox": [
           {
            "marker": {
             "colorbar": {
              "outlinewidth": 0,
              "ticks": ""
             }
            },
            "type": "scattermapbox"
           }
          ],
          "scatterpolar": [
           {
            "marker": {
             "colorbar": {
              "outlinewidth": 0,
              "ticks": ""
             }
            },
            "type": "scatterpolar"
           }
          ],
          "scatterpolargl": [
           {
            "marker": {
             "colorbar": {
              "outlinewidth": 0,
              "ticks": ""
             }
            },
            "type": "scatterpolargl"
           }
          ],
          "scatterternary": [
           {
            "marker": {
             "colorbar": {
              "outlinewidth": 0,
              "ticks": ""
             }
            },
            "type": "scatterternary"
           }
          ],
          "surface": [
           {
            "colorbar": {
             "outlinewidth": 0,
             "ticks": ""
            },
            "colorscale": [
             [
              0,
              "#0d0887"
             ],
             [
              0.1111111111111111,
              "#46039f"
             ],
             [
              0.2222222222222222,
              "#7201a8"
             ],
             [
              0.3333333333333333,
              "#9c179e"
             ],
             [
              0.4444444444444444,
              "#bd3786"
             ],
             [
              0.5555555555555556,
              "#d8576b"
             ],
             [
              0.6666666666666666,
              "#ed7953"
             ],
             [
              0.7777777777777778,
              "#fb9f3a"
             ],
             [
              0.8888888888888888,
              "#fdca26"
             ],
             [
              1,
              "#f0f921"
             ]
            ],
            "type": "surface"
           }
          ],
          "table": [
           {
            "cells": {
             "fill": {
              "color": "#EBF0F8"
             },
             "line": {
              "color": "white"
             }
            },
            "header": {
             "fill": {
              "color": "#C8D4E3"
             },
             "line": {
              "color": "white"
             }
            },
            "type": "table"
           }
          ]
         },
         "layout": {
          "annotationdefaults": {
           "arrowcolor": "#2a3f5f",
           "arrowhead": 0,
           "arrowwidth": 1
          },
          "autotypenumbers": "strict",
          "coloraxis": {
           "colorbar": {
            "outlinewidth": 0,
            "ticks": ""
           }
          },
          "colorscale": {
           "diverging": [
            [
             0,
             "#8e0152"
            ],
            [
             0.1,
             "#c51b7d"
            ],
            [
             0.2,
             "#de77ae"
            ],
            [
             0.3,
             "#f1b6da"
            ],
            [
             0.4,
             "#fde0ef"
            ],
            [
             0.5,
             "#f7f7f7"
            ],
            [
             0.6,
             "#e6f5d0"
            ],
            [
             0.7,
             "#b8e186"
            ],
            [
             0.8,
             "#7fbc41"
            ],
            [
             0.9,
             "#4d9221"
            ],
            [
             1,
             "#276419"
            ]
           ],
           "sequential": [
            [
             0,
             "#0d0887"
            ],
            [
             0.1111111111111111,
             "#46039f"
            ],
            [
             0.2222222222222222,
             "#7201a8"
            ],
            [
             0.3333333333333333,
             "#9c179e"
            ],
            [
             0.4444444444444444,
             "#bd3786"
            ],
            [
             0.5555555555555556,
             "#d8576b"
            ],
            [
             0.6666666666666666,
             "#ed7953"
            ],
            [
             0.7777777777777778,
             "#fb9f3a"
            ],
            [
             0.8888888888888888,
             "#fdca26"
            ],
            [
             1,
             "#f0f921"
            ]
           ],
           "sequentialminus": [
            [
             0,
             "#0d0887"
            ],
            [
             0.1111111111111111,
             "#46039f"
            ],
            [
             0.2222222222222222,
             "#7201a8"
            ],
            [
             0.3333333333333333,
             "#9c179e"
            ],
            [
             0.4444444444444444,
             "#bd3786"
            ],
            [
             0.5555555555555556,
             "#d8576b"
            ],
            [
             0.6666666666666666,
             "#ed7953"
            ],
            [
             0.7777777777777778,
             "#fb9f3a"
            ],
            [
             0.8888888888888888,
             "#fdca26"
            ],
            [
             1,
             "#f0f921"
            ]
           ]
          },
          "colorway": [
           "#636efa",
           "#EF553B",
           "#00cc96",
           "#ab63fa",
           "#FFA15A",
           "#19d3f3",
           "#FF6692",
           "#B6E880",
           "#FF97FF",
           "#FECB52"
          ],
          "font": {
           "color": "#2a3f5f"
          },
          "geo": {
           "bgcolor": "white",
           "lakecolor": "white",
           "landcolor": "#E5ECF6",
           "showlakes": true,
           "showland": true,
           "subunitcolor": "white"
          },
          "hoverlabel": {
           "align": "left"
          },
          "hovermode": "closest",
          "mapbox": {
           "style": "light"
          },
          "paper_bgcolor": "white",
          "plot_bgcolor": "#E5ECF6",
          "polar": {
           "angularaxis": {
            "gridcolor": "white",
            "linecolor": "white",
            "ticks": ""
           },
           "bgcolor": "#E5ECF6",
           "radialaxis": {
            "gridcolor": "white",
            "linecolor": "white",
            "ticks": ""
           }
          },
          "scene": {
           "xaxis": {
            "backgroundcolor": "#E5ECF6",
            "gridcolor": "white",
            "gridwidth": 2,
            "linecolor": "white",
            "showbackground": true,
            "ticks": "",
            "zerolinecolor": "white"
           },
           "yaxis": {
            "backgroundcolor": "#E5ECF6",
            "gridcolor": "white",
            "gridwidth": 2,
            "linecolor": "white",
            "showbackground": true,
            "ticks": "",
            "zerolinecolor": "white"
           },
           "zaxis": {
            "backgroundcolor": "#E5ECF6",
            "gridcolor": "white",
            "gridwidth": 2,
            "linecolor": "white",
            "showbackground": true,
            "ticks": "",
            "zerolinecolor": "white"
           }
          },
          "shapedefaults": {
           "line": {
            "color": "#2a3f5f"
           }
          },
          "ternary": {
           "aaxis": {
            "gridcolor": "white",
            "linecolor": "white",
            "ticks": ""
           },
           "baxis": {
            "gridcolor": "white",
            "linecolor": "white",
            "ticks": ""
           },
           "bgcolor": "#E5ECF6",
           "caxis": {
            "gridcolor": "white",
            "linecolor": "white",
            "ticks": ""
           }
          },
          "title": {
           "x": 0.05
          },
          "xaxis": {
           "automargin": true,
           "gridcolor": "white",
           "linecolor": "white",
           "ticks": "",
           "title": {
            "standoff": 15
           },
           "zerolinecolor": "white",
           "zerolinewidth": 2
          },
          "yaxis": {
           "automargin": true,
           "gridcolor": "white",
           "linecolor": "white",
           "ticks": "",
           "title": {
            "standoff": 15
           },
           "zerolinecolor": "white",
           "zerolinewidth": 2
          }
         }
        },
        "xaxis": {
         "anchor": "y",
         "domain": [
          0,
          1
         ],
         "title": {
          "text": "dispatching_base_number"
         }
        },
        "yaxis": {
         "anchor": "x",
         "domain": [
          0,
          1
         ],
         "title": {
          "text": "active_vehicles"
         }
        }
       }
      },
      "text/html": [
       "<div>                            <div id=\"8dfffaac-3073-47a3-89fb-e9a88ec8d255\" class=\"plotly-graph-div\" style=\"height:525px; width:100%;\"></div>            <script type=\"text/javascript\">                require([\"plotly\"], function(Plotly) {                    window.PLOTLYENV=window.PLOTLYENV || {};                                    if (document.getElementById(\"8dfffaac-3073-47a3-89fb-e9a88ec8d255\")) {                    Plotly.newPlot(                        \"8dfffaac-3073-47a3-89fb-e9a88ec8d255\",                        [{\"alignmentgroup\":\"True\",\"hovertemplate\":\"dispatching_base_number=%{x}<br>active_vehicles=%{y}<extra></extra>\",\"legendgroup\":\"\",\"marker\":{\"color\":\"#636efa\"},\"name\":\"\",\"notched\":false,\"offsetgroup\":\"\",\"orientation\":\"v\",\"showlegend\":false,\"x\":[\"B02512\",\"B02765\",\"B02764\",\"B02682\",\"B02617\",\"B02598\",\"B02598\",\"B02617\",\"B02512\",\"B02682\",\"B02765\",\"B02764\",\"B02765\",\"B02617\",\"B02598\",\"B02682\",\"B02512\",\"B02764\",\"B02512\",\"B02682\",\"B02598\",\"B02765\",\"B02617\",\"B02764\",\"B02512\",\"B02682\",\"B02617\",\"B02764\",\"B02598\",\"B02765\",\"B02764\",\"B02682\",\"B02617\",\"B02765\",\"B02512\",\"B02598\",\"B02617\",\"B02682\",\"B02764\",\"B02765\",\"B02512\",\"B02598\",\"B02765\",\"B02598\",\"B02512\",\"B02682\",\"B02764\",\"B02617\",\"B02617\",\"B02512\",\"B02764\",\"B02682\",\"B02598\",\"B02765\",\"B02682\",\"B02617\",\"B02598\",\"B02512\",\"B02764\",\"B02765\",\"B02765\",\"B02598\",\"B02682\",\"B02764\",\"B02617\",\"B02512\",\"B02764\",\"B02765\",\"B02512\",\"B02598\",\"B02682\",\"B02617\",\"B02765\",\"B02598\",\"B02617\",\"B02512\",\"B02764\",\"B02682\",\"B02764\",\"B02765\",\"B02598\",\"B02512\",\"B02617\",\"B02682\",\"B02512\",\"B02682\",\"B02617\",\"B02765\",\"B02764\",\"B02598\",\"B02617\",\"B02765\",\"B02764\",\"B02682\",\"B02512\",\"B02598\",\"B02598\",\"B02512\",\"B02682\",\"B02765\",\"B02617\",\"B02764\",\"B02512\",\"B02598\",\"B02765\",\"B02764\",\"B02682\",\"B02617\",\"B02682\",\"B02617\",\"B02765\",\"B02764\",\"B02512\",\"B02598\",\"B02598\",\"B02682\",\"B02512\",\"B02764\",\"B02765\",\"B02617\",\"B02764\",\"B02512\",\"B02682\",\"B02598\",\"B02765\",\"B02617\",\"B02617\",\"B02764\",\"B02512\",\"B02598\",\"B02682\",\"B02765\",\"B02598\",\"B02512\",\"B02765\",\"B02764\",\"B02617\",\"B02682\",\"B02598\",\"B02764\",\"B02512\",\"B02617\",\"B02682\",\"B02765\",\"B02512\",\"B02764\",\"B02765\",\"B02598\",\"B02682\",\"B02617\",\"B02617\",\"B02598\",\"B02765\",\"B02764\",\"B02682\",\"B02512\",\"B02682\",\"B02765\",\"B02617\",\"B02598\",\"B02512\",\"B02764\",\"B02764\",\"B02682\",\"B02765\",\"B02617\",\"B02598\",\"B02512\",\"B02617\",\"B02764\",\"B02682\",\"B02765\",\"B02512\",\"B02598\",\"B02512\",\"B02617\",\"B02682\",\"B02764\",\"B02765\",\"B02598\",\"B02765\",\"B02512\",\"B02617\",\"B02682\",\"B02764\",\"B02598\",\"B02598\",\"B02682\",\"B02512\",\"B02765\",\"B02617\",\"B02764\",\"B02617\",\"B02682\",\"B02765\",\"B02598\",\"B02764\",\"B02512\",\"B02765\",\"B02598\",\"B02512\",\"B02764\",\"B02617\",\"B02682\",\"B02764\",\"B02765\",\"B02512\",\"B02682\",\"B02617\",\"B02598\",\"B02617\",\"B02682\",\"B02598\",\"B02512\",\"B02765\",\"B02764\",\"B02617\",\"B02765\",\"B02598\",\"B02512\",\"B02764\",\"B02682\",\"B02598\",\"B02512\",\"B02617\",\"B02682\",\"B02764\",\"B02765\",\"B02764\",\"B02765\",\"B02598\",\"B02617\",\"B02682\",\"B02512\",\"B02617\",\"B02682\",\"B02598\",\"B02764\",\"B02512\",\"B02765\",\"B02764\",\"B02512\",\"B02617\",\"B02765\",\"B02682\",\"B02598\",\"B02617\",\"B02764\",\"B02512\",\"B02598\",\"B02765\",\"B02682\",\"B02617\",\"B02512\",\"B02682\",\"B02765\",\"B02598\",\"B02764\",\"B02617\",\"B02682\",\"B02764\",\"B02765\",\"B02512\",\"B02598\",\"B02764\",\"B02512\",\"B02598\",\"B02765\",\"B02617\",\"B02682\",\"B02682\",\"B02764\",\"B02617\",\"B02765\",\"B02512\",\"B02598\",\"B02598\",\"B02512\",\"B02617\",\"B02764\",\"B02682\",\"B02765\",\"B02764\",\"B02512\",\"B02682\",\"B02617\",\"B02598\",\"B02765\",\"B02598\",\"B02682\",\"B02617\",\"B02765\",\"B02764\",\"B02512\",\"B02598\",\"B02512\",\"B02682\",\"B02764\",\"B02765\",\"B02617\",\"B02764\",\"B02617\",\"B02598\",\"B02682\",\"B02765\",\"B02512\",\"B02598\",\"B02682\",\"B02765\",\"B02617\",\"B02512\",\"B02764\",\"B02512\",\"B02617\",\"B02682\",\"B02764\",\"B02598\",\"B02765\",\"B02598\",\"B02617\",\"B02764\",\"B02682\",\"B02765\",\"B02512\",\"B02764\",\"B02512\",\"B02598\",\"B02682\",\"B02617\",\"B02765\",\"B02512\",\"B02598\",\"B02765\",\"B02682\",\"B02617\",\"B02764\",\"B02598\",\"B02617\",\"B02682\",\"B02512\",\"B02765\",\"B02764\",\"B02765\",\"B02617\",\"B02598\",\"B02512\",\"B02764\",\"B02682\",\"B02598\",\"B02764\",\"B02617\",\"B02682\",\"B02512\",\"B02765\"],\"x0\":\" \",\"xaxis\":\"x\",\"y\":[190,225,3427,945,1228,870,785,1137,175,890,196,3147,201,1188,818,915,173,3215,147,812,746,183,1088,2862,194,951,1218,3387,907,227,3473,1022,1336,234,218,933,1363,1039,3603,248,217,974,262,1070,238,1135,3831,1463,1455,224,3820,1140,1070,280,1057,1331,949,206,3558,245,220,832,943,3186,1228,162,3499,279,217,964,1082,1323,258,975,1342,234,3658,1092,3736,271,1030,233,1405,1174,237,1208,1457,270,3840,1068,1445,290,3975,1250,234,1079,974,201,1137,252,1306,3657,177,869,248,3290,1056,1223,883,992,238,2958,168,706,944,1151,221,3654,272,1350,3718,242,1228,1035,296,1429,1471,3889,246,1071,1295,295,1093,246,299,4040,1482,1330,945,3652,211,1367,1223,245,183,3300,226,829,1046,1203,1150,860,230,3012,1084,197,600,135,596,434,112,1619,3692,1235,286,1356,1011,235,1474,3959,1316,295,250,1082,256,1501,1384,4124,322,1106,309,225,1394,1321,3947,1027,961,1214,193,289,1355,3740,1217,1152,275,939,3270,227,299,991,257,3674,1350,1269,3856,309,244,1311,1393,1072,1524,1418,1179,264,355,4093,1526,385,1181,261,4170,1414,1031,211,1383,1300,3849,345,3422,313,923,1256,1136,176,1312,1241,976,3543,228,388,3700,233,1364,422,1281,1029,1450,3849,255,1115,450,1396,1532,269,1468,536,1181,4137,1590,1523,4395,599,281,1216,4129,236,1111,583,1486,1428,1261,3651,1293,521,210,1003,934,207,1214,3524,1164,508,3826,241,1314,1378,1066,578,1078,1314,1394,586,3842,228,1127,250,1428,4110,663,1452,4384,1574,1186,1497,736,272,1044,1374,685,1443,238,3981,199,1248,1220,3478,909,566,966,1332,3734,1262,665,238,3965,247,1061,1346,1456,698,246,1076,706,1395,1473,3934,1134,1539,1465,243,745,4101,786,1551,1114,272,4253,1510,994,3952,1372,1386,230,747],\"y0\":\" \",\"yaxis\":\"y\",\"type\":\"box\"}],                        {\"template\":{\"data\":{\"histogram2dcontour\":[{\"type\":\"histogram2dcontour\",\"colorbar\":{\"outlinewidth\":0,\"ticks\":\"\"},\"colorscale\":[[0.0,\"#0d0887\"],[0.1111111111111111,\"#46039f\"],[0.2222222222222222,\"#7201a8\"],[0.3333333333333333,\"#9c179e\"],[0.4444444444444444,\"#bd3786\"],[0.5555555555555556,\"#d8576b\"],[0.6666666666666666,\"#ed7953\"],[0.7777777777777778,\"#fb9f3a\"],[0.8888888888888888,\"#fdca26\"],[1.0,\"#f0f921\"]]}],\"choropleth\":[{\"type\":\"choropleth\",\"colorbar\":{\"outlinewidth\":0,\"ticks\":\"\"}}],\"histogram2d\":[{\"type\":\"histogram2d\",\"colorbar\":{\"outlinewidth\":0,\"ticks\":\"\"},\"colorscale\":[[0.0,\"#0d0887\"],[0.1111111111111111,\"#46039f\"],[0.2222222222222222,\"#7201a8\"],[0.3333333333333333,\"#9c179e\"],[0.4444444444444444,\"#bd3786\"],[0.5555555555555556,\"#d8576b\"],[0.6666666666666666,\"#ed7953\"],[0.7777777777777778,\"#fb9f3a\"],[0.8888888888888888,\"#fdca26\"],[1.0,\"#f0f921\"]]}],\"heatmap\":[{\"type\":\"heatmap\",\"colorbar\":{\"outlinewidth\":0,\"ticks\":\"\"},\"colorscale\":[[0.0,\"#0d0887\"],[0.1111111111111111,\"#46039f\"],[0.2222222222222222,\"#7201a8\"],[0.3333333333333333,\"#9c179e\"],[0.4444444444444444,\"#bd3786\"],[0.5555555555555556,\"#d8576b\"],[0.6666666666666666,\"#ed7953\"],[0.7777777777777778,\"#fb9f3a\"],[0.8888888888888888,\"#fdca26\"],[1.0,\"#f0f921\"]]}],\"heatmapgl\":[{\"type\":\"heatmapgl\",\"colorbar\":{\"outlinewidth\":0,\"ticks\":\"\"},\"colorscale\":[[0.0,\"#0d0887\"],[0.1111111111111111,\"#46039f\"],[0.2222222222222222,\"#7201a8\"],[0.3333333333333333,\"#9c179e\"],[0.4444444444444444,\"#bd3786\"],[0.5555555555555556,\"#d8576b\"],[0.6666666666666666,\"#ed7953\"],[0.7777777777777778,\"#fb9f3a\"],[0.8888888888888888,\"#fdca26\"],[1.0,\"#f0f921\"]]}],\"contourcarpet\":[{\"type\":\"contourcarpet\",\"colorbar\":{\"outlinewidth\":0,\"ticks\":\"\"}}],\"contour\":[{\"type\":\"contour\",\"colorbar\":{\"outlinewidth\":0,\"ticks\":\"\"},\"colorscale\":[[0.0,\"#0d0887\"],[0.1111111111111111,\"#46039f\"],[0.2222222222222222,\"#7201a8\"],[0.3333333333333333,\"#9c179e\"],[0.4444444444444444,\"#bd3786\"],[0.5555555555555556,\"#d8576b\"],[0.6666666666666666,\"#ed7953\"],[0.7777777777777778,\"#fb9f3a\"],[0.8888888888888888,\"#fdca26\"],[1.0,\"#f0f921\"]]}],\"surface\":[{\"type\":\"surface\",\"colorbar\":{\"outlinewidth\":0,\"ticks\":\"\"},\"colorscale\":[[0.0,\"#0d0887\"],[0.1111111111111111,\"#46039f\"],[0.2222222222222222,\"#7201a8\"],[0.3333333333333333,\"#9c179e\"],[0.4444444444444444,\"#bd3786\"],[0.5555555555555556,\"#d8576b\"],[0.6666666666666666,\"#ed7953\"],[0.7777777777777778,\"#fb9f3a\"],[0.8888888888888888,\"#fdca26\"],[1.0,\"#f0f921\"]]}],\"mesh3d\":[{\"type\":\"mesh3d\",\"colorbar\":{\"outlinewidth\":0,\"ticks\":\"\"}}],\"scatter\":[{\"fillpattern\":{\"fillmode\":\"overlay\",\"size\":10,\"solidity\":0.2},\"type\":\"scatter\"}],\"parcoords\":[{\"type\":\"parcoords\",\"line\":{\"colorbar\":{\"outlinewidth\":0,\"ticks\":\"\"}}}],\"scatterpolargl\":[{\"type\":\"scatterpolargl\",\"marker\":{\"colorbar\":{\"outlinewidth\":0,\"ticks\":\"\"}}}],\"bar\":[{\"error_x\":{\"color\":\"#2a3f5f\"},\"error_y\":{\"color\":\"#2a3f5f\"},\"marker\":{\"line\":{\"color\":\"#E5ECF6\",\"width\":0.5},\"pattern\":{\"fillmode\":\"overlay\",\"size\":10,\"solidity\":0.2}},\"type\":\"bar\"}],\"scattergeo\":[{\"type\":\"scattergeo\",\"marker\":{\"colorbar\":{\"outlinewidth\":0,\"ticks\":\"\"}}}],\"scatterpolar\":[{\"type\":\"scatterpolar\",\"marker\":{\"colorbar\":{\"outlinewidth\":0,\"ticks\":\"\"}}}],\"histogram\":[{\"marker\":{\"pattern\":{\"fillmode\":\"overlay\",\"size\":10,\"solidity\":0.2}},\"type\":\"histogram\"}],\"scattergl\":[{\"type\":\"scattergl\",\"marker\":{\"colorbar\":{\"outlinewidth\":0,\"ticks\":\"\"}}}],\"scatter3d\":[{\"type\":\"scatter3d\",\"line\":{\"colorbar\":{\"outlinewidth\":0,\"ticks\":\"\"}},\"marker\":{\"colorbar\":{\"outlinewidth\":0,\"ticks\":\"\"}}}],\"scattermapbox\":[{\"type\":\"scattermapbox\",\"marker\":{\"colorbar\":{\"outlinewidth\":0,\"ticks\":\"\"}}}],\"scatterternary\":[{\"type\":\"scatterternary\",\"marker\":{\"colorbar\":{\"outlinewidth\":0,\"ticks\":\"\"}}}],\"scattercarpet\":[{\"type\":\"scattercarpet\",\"marker\":{\"colorbar\":{\"outlinewidth\":0,\"ticks\":\"\"}}}],\"carpet\":[{\"aaxis\":{\"endlinecolor\":\"#2a3f5f\",\"gridcolor\":\"white\",\"linecolor\":\"white\",\"minorgridcolor\":\"white\",\"startlinecolor\":\"#2a3f5f\"},\"baxis\":{\"endlinecolor\":\"#2a3f5f\",\"gridcolor\":\"white\",\"linecolor\":\"white\",\"minorgridcolor\":\"white\",\"startlinecolor\":\"#2a3f5f\"},\"type\":\"carpet\"}],\"table\":[{\"cells\":{\"fill\":{\"color\":\"#EBF0F8\"},\"line\":{\"color\":\"white\"}},\"header\":{\"fill\":{\"color\":\"#C8D4E3\"},\"line\":{\"color\":\"white\"}},\"type\":\"table\"}],\"barpolar\":[{\"marker\":{\"line\":{\"color\":\"#E5ECF6\",\"width\":0.5},\"pattern\":{\"fillmode\":\"overlay\",\"size\":10,\"solidity\":0.2}},\"type\":\"barpolar\"}],\"pie\":[{\"automargin\":true,\"type\":\"pie\"}]},\"layout\":{\"autotypenumbers\":\"strict\",\"colorway\":[\"#636efa\",\"#EF553B\",\"#00cc96\",\"#ab63fa\",\"#FFA15A\",\"#19d3f3\",\"#FF6692\",\"#B6E880\",\"#FF97FF\",\"#FECB52\"],\"font\":{\"color\":\"#2a3f5f\"},\"hovermode\":\"closest\",\"hoverlabel\":{\"align\":\"left\"},\"paper_bgcolor\":\"white\",\"plot_bgcolor\":\"#E5ECF6\",\"polar\":{\"bgcolor\":\"#E5ECF6\",\"angularaxis\":{\"gridcolor\":\"white\",\"linecolor\":\"white\",\"ticks\":\"\"},\"radialaxis\":{\"gridcolor\":\"white\",\"linecolor\":\"white\",\"ticks\":\"\"}},\"ternary\":{\"bgcolor\":\"#E5ECF6\",\"aaxis\":{\"gridcolor\":\"white\",\"linecolor\":\"white\",\"ticks\":\"\"},\"baxis\":{\"gridcolor\":\"white\",\"linecolor\":\"white\",\"ticks\":\"\"},\"caxis\":{\"gridcolor\":\"white\",\"linecolor\":\"white\",\"ticks\":\"\"}},\"coloraxis\":{\"colorbar\":{\"outlinewidth\":0,\"ticks\":\"\"}},\"colorscale\":{\"sequential\":[[0.0,\"#0d0887\"],[0.1111111111111111,\"#46039f\"],[0.2222222222222222,\"#7201a8\"],[0.3333333333333333,\"#9c179e\"],[0.4444444444444444,\"#bd3786\"],[0.5555555555555556,\"#d8576b\"],[0.6666666666666666,\"#ed7953\"],[0.7777777777777778,\"#fb9f3a\"],[0.8888888888888888,\"#fdca26\"],[1.0,\"#f0f921\"]],\"sequentialminus\":[[0.0,\"#0d0887\"],[0.1111111111111111,\"#46039f\"],[0.2222222222222222,\"#7201a8\"],[0.3333333333333333,\"#9c179e\"],[0.4444444444444444,\"#bd3786\"],[0.5555555555555556,\"#d8576b\"],[0.6666666666666666,\"#ed7953\"],[0.7777777777777778,\"#fb9f3a\"],[0.8888888888888888,\"#fdca26\"],[1.0,\"#f0f921\"]],\"diverging\":[[0,\"#8e0152\"],[0.1,\"#c51b7d\"],[0.2,\"#de77ae\"],[0.3,\"#f1b6da\"],[0.4,\"#fde0ef\"],[0.5,\"#f7f7f7\"],[0.6,\"#e6f5d0\"],[0.7,\"#b8e186\"],[0.8,\"#7fbc41\"],[0.9,\"#4d9221\"],[1,\"#276419\"]]},\"xaxis\":{\"gridcolor\":\"white\",\"linecolor\":\"white\",\"ticks\":\"\",\"title\":{\"standoff\":15},\"zerolinecolor\":\"white\",\"automargin\":true,\"zerolinewidth\":2},\"yaxis\":{\"gridcolor\":\"white\",\"linecolor\":\"white\",\"ticks\":\"\",\"title\":{\"standoff\":15},\"zerolinecolor\":\"white\",\"automargin\":true,\"zerolinewidth\":2},\"scene\":{\"xaxis\":{\"backgroundcolor\":\"#E5ECF6\",\"gridcolor\":\"white\",\"linecolor\":\"white\",\"showbackground\":true,\"ticks\":\"\",\"zerolinecolor\":\"white\",\"gridwidth\":2},\"yaxis\":{\"backgroundcolor\":\"#E5ECF6\",\"gridcolor\":\"white\",\"linecolor\":\"white\",\"showbackground\":true,\"ticks\":\"\",\"zerolinecolor\":\"white\",\"gridwidth\":2},\"zaxis\":{\"backgroundcolor\":\"#E5ECF6\",\"gridcolor\":\"white\",\"linecolor\":\"white\",\"showbackground\":true,\"ticks\":\"\",\"zerolinecolor\":\"white\",\"gridwidth\":2}},\"shapedefaults\":{\"line\":{\"color\":\"#2a3f5f\"}},\"annotationdefaults\":{\"arrowcolor\":\"#2a3f5f\",\"arrowhead\":0,\"arrowwidth\":1},\"geo\":{\"bgcolor\":\"white\",\"landcolor\":\"#E5ECF6\",\"subunitcolor\":\"white\",\"showland\":true,\"showlakes\":true,\"lakecolor\":\"white\"},\"title\":{\"x\":0.05},\"mapbox\":{\"style\":\"light\"}}},\"xaxis\":{\"anchor\":\"y\",\"domain\":[0.0,1.0],\"title\":{\"text\":\"dispatching_base_number\"}},\"yaxis\":{\"anchor\":\"x\",\"domain\":[0.0,1.0],\"title\":{\"text\":\"active_vehicles\"}},\"legend\":{\"tracegroupgap\":0},\"margin\":{\"t\":60},\"boxmode\":\"group\"},                        {\"responsive\": true}                    ).then(function(){\n",
       "                            \n",
       "var gd = document.getElementById('8dfffaac-3073-47a3-89fb-e9a88ec8d255');\n",
       "var x = new MutationObserver(function (mutations, observer) {{\n",
       "        var display = window.getComputedStyle(gd).display;\n",
       "        if (!display || display === 'none') {{\n",
       "            console.log([gd, 'removed!']);\n",
       "            Plotly.purge(gd);\n",
       "            observer.disconnect();\n",
       "        }}\n",
       "}});\n",
       "\n",
       "// Listen for the removal of the full notebook cells\n",
       "var notebookContainer = gd.closest('#notebook-container');\n",
       "if (notebookContainer) {{\n",
       "    x.observe(notebookContainer, {childList: true});\n",
       "}}\n",
       "\n",
       "// Listen for the clearing of the current output cell\n",
       "var outputEl = gd.closest('.output');\n",
       "if (outputEl) {{\n",
       "    x.observe(outputEl, {childList: true});\n",
       "}}\n",
       "\n",
       "                        })                };                });            </script>        </div>"
      ]
     },
     "metadata": {},
     "output_type": "display_data"
    }
   ],
   "source": [
    "px.box(x = 'dispatching_base_number', y = 'active_vehicles', data_frame = uber_foil)"
   ]
  },
  {
   "cell_type": "code",
   "execution_count": 45,
   "id": "8f744953",
   "metadata": {},
   "outputs": [
    {
     "data": {
      "application/vnd.plotly.v1+json": {
       "config": {
        "plotlyServerURL": "https://plot.ly"
       },
       "data": [
        {
         "alignmentgroup": "True",
         "box": {
          "visible": false
         },
         "hovertemplate": "dispatching_base_number=%{x}<br>active_vehicles=%{y}<extra></extra>",
         "legendgroup": "",
         "marker": {
          "color": "#636efa"
         },
         "name": "",
         "offsetgroup": "",
         "orientation": "v",
         "scalegroup": "True",
         "showlegend": false,
         "type": "violin",
         "x": [
          "B02512",
          "B02765",
          "B02764",
          "B02682",
          "B02617",
          "B02598",
          "B02598",
          "B02617",
          "B02512",
          "B02682",
          "B02765",
          "B02764",
          "B02765",
          "B02617",
          "B02598",
          "B02682",
          "B02512",
          "B02764",
          "B02512",
          "B02682",
          "B02598",
          "B02765",
          "B02617",
          "B02764",
          "B02512",
          "B02682",
          "B02617",
          "B02764",
          "B02598",
          "B02765",
          "B02764",
          "B02682",
          "B02617",
          "B02765",
          "B02512",
          "B02598",
          "B02617",
          "B02682",
          "B02764",
          "B02765",
          "B02512",
          "B02598",
          "B02765",
          "B02598",
          "B02512",
          "B02682",
          "B02764",
          "B02617",
          "B02617",
          "B02512",
          "B02764",
          "B02682",
          "B02598",
          "B02765",
          "B02682",
          "B02617",
          "B02598",
          "B02512",
          "B02764",
          "B02765",
          "B02765",
          "B02598",
          "B02682",
          "B02764",
          "B02617",
          "B02512",
          "B02764",
          "B02765",
          "B02512",
          "B02598",
          "B02682",
          "B02617",
          "B02765",
          "B02598",
          "B02617",
          "B02512",
          "B02764",
          "B02682",
          "B02764",
          "B02765",
          "B02598",
          "B02512",
          "B02617",
          "B02682",
          "B02512",
          "B02682",
          "B02617",
          "B02765",
          "B02764",
          "B02598",
          "B02617",
          "B02765",
          "B02764",
          "B02682",
          "B02512",
          "B02598",
          "B02598",
          "B02512",
          "B02682",
          "B02765",
          "B02617",
          "B02764",
          "B02512",
          "B02598",
          "B02765",
          "B02764",
          "B02682",
          "B02617",
          "B02682",
          "B02617",
          "B02765",
          "B02764",
          "B02512",
          "B02598",
          "B02598",
          "B02682",
          "B02512",
          "B02764",
          "B02765",
          "B02617",
          "B02764",
          "B02512",
          "B02682",
          "B02598",
          "B02765",
          "B02617",
          "B02617",
          "B02764",
          "B02512",
          "B02598",
          "B02682",
          "B02765",
          "B02598",
          "B02512",
          "B02765",
          "B02764",
          "B02617",
          "B02682",
          "B02598",
          "B02764",
          "B02512",
          "B02617",
          "B02682",
          "B02765",
          "B02512",
          "B02764",
          "B02765",
          "B02598",
          "B02682",
          "B02617",
          "B02617",
          "B02598",
          "B02765",
          "B02764",
          "B02682",
          "B02512",
          "B02682",
          "B02765",
          "B02617",
          "B02598",
          "B02512",
          "B02764",
          "B02764",
          "B02682",
          "B02765",
          "B02617",
          "B02598",
          "B02512",
          "B02617",
          "B02764",
          "B02682",
          "B02765",
          "B02512",
          "B02598",
          "B02512",
          "B02617",
          "B02682",
          "B02764",
          "B02765",
          "B02598",
          "B02765",
          "B02512",
          "B02617",
          "B02682",
          "B02764",
          "B02598",
          "B02598",
          "B02682",
          "B02512",
          "B02765",
          "B02617",
          "B02764",
          "B02617",
          "B02682",
          "B02765",
          "B02598",
          "B02764",
          "B02512",
          "B02765",
          "B02598",
          "B02512",
          "B02764",
          "B02617",
          "B02682",
          "B02764",
          "B02765",
          "B02512",
          "B02682",
          "B02617",
          "B02598",
          "B02617",
          "B02682",
          "B02598",
          "B02512",
          "B02765",
          "B02764",
          "B02617",
          "B02765",
          "B02598",
          "B02512",
          "B02764",
          "B02682",
          "B02598",
          "B02512",
          "B02617",
          "B02682",
          "B02764",
          "B02765",
          "B02764",
          "B02765",
          "B02598",
          "B02617",
          "B02682",
          "B02512",
          "B02617",
          "B02682",
          "B02598",
          "B02764",
          "B02512",
          "B02765",
          "B02764",
          "B02512",
          "B02617",
          "B02765",
          "B02682",
          "B02598",
          "B02617",
          "B02764",
          "B02512",
          "B02598",
          "B02765",
          "B02682",
          "B02617",
          "B02512",
          "B02682",
          "B02765",
          "B02598",
          "B02764",
          "B02617",
          "B02682",
          "B02764",
          "B02765",
          "B02512",
          "B02598",
          "B02764",
          "B02512",
          "B02598",
          "B02765",
          "B02617",
          "B02682",
          "B02682",
          "B02764",
          "B02617",
          "B02765",
          "B02512",
          "B02598",
          "B02598",
          "B02512",
          "B02617",
          "B02764",
          "B02682",
          "B02765",
          "B02764",
          "B02512",
          "B02682",
          "B02617",
          "B02598",
          "B02765",
          "B02598",
          "B02682",
          "B02617",
          "B02765",
          "B02764",
          "B02512",
          "B02598",
          "B02512",
          "B02682",
          "B02764",
          "B02765",
          "B02617",
          "B02764",
          "B02617",
          "B02598",
          "B02682",
          "B02765",
          "B02512",
          "B02598",
          "B02682",
          "B02765",
          "B02617",
          "B02512",
          "B02764",
          "B02512",
          "B02617",
          "B02682",
          "B02764",
          "B02598",
          "B02765",
          "B02598",
          "B02617",
          "B02764",
          "B02682",
          "B02765",
          "B02512",
          "B02764",
          "B02512",
          "B02598",
          "B02682",
          "B02617",
          "B02765",
          "B02512",
          "B02598",
          "B02765",
          "B02682",
          "B02617",
          "B02764",
          "B02598",
          "B02617",
          "B02682",
          "B02512",
          "B02765",
          "B02764",
          "B02765",
          "B02617",
          "B02598",
          "B02512",
          "B02764",
          "B02682",
          "B02598",
          "B02764",
          "B02617",
          "B02682",
          "B02512",
          "B02765"
         ],
         "x0": " ",
         "xaxis": "x",
         "y": [
          190,
          225,
          3427,
          945,
          1228,
          870,
          785,
          1137,
          175,
          890,
          196,
          3147,
          201,
          1188,
          818,
          915,
          173,
          3215,
          147,
          812,
          746,
          183,
          1088,
          2862,
          194,
          951,
          1218,
          3387,
          907,
          227,
          3473,
          1022,
          1336,
          234,
          218,
          933,
          1363,
          1039,
          3603,
          248,
          217,
          974,
          262,
          1070,
          238,
          1135,
          3831,
          1463,
          1455,
          224,
          3820,
          1140,
          1070,
          280,
          1057,
          1331,
          949,
          206,
          3558,
          245,
          220,
          832,
          943,
          3186,
          1228,
          162,
          3499,
          279,
          217,
          964,
          1082,
          1323,
          258,
          975,
          1342,
          234,
          3658,
          1092,
          3736,
          271,
          1030,
          233,
          1405,
          1174,
          237,
          1208,
          1457,
          270,
          3840,
          1068,
          1445,
          290,
          3975,
          1250,
          234,
          1079,
          974,
          201,
          1137,
          252,
          1306,
          3657,
          177,
          869,
          248,
          3290,
          1056,
          1223,
          883,
          992,
          238,
          2958,
          168,
          706,
          944,
          1151,
          221,
          3654,
          272,
          1350,
          3718,
          242,
          1228,
          1035,
          296,
          1429,
          1471,
          3889,
          246,
          1071,
          1295,
          295,
          1093,
          246,
          299,
          4040,
          1482,
          1330,
          945,
          3652,
          211,
          1367,
          1223,
          245,
          183,
          3300,
          226,
          829,
          1046,
          1203,
          1150,
          860,
          230,
          3012,
          1084,
          197,
          600,
          135,
          596,
          434,
          112,
          1619,
          3692,
          1235,
          286,
          1356,
          1011,
          235,
          1474,
          3959,
          1316,
          295,
          250,
          1082,
          256,
          1501,
          1384,
          4124,
          322,
          1106,
          309,
          225,
          1394,
          1321,
          3947,
          1027,
          961,
          1214,
          193,
          289,
          1355,
          3740,
          1217,
          1152,
          275,
          939,
          3270,
          227,
          299,
          991,
          257,
          3674,
          1350,
          1269,
          3856,
          309,
          244,
          1311,
          1393,
          1072,
          1524,
          1418,
          1179,
          264,
          355,
          4093,
          1526,
          385,
          1181,
          261,
          4170,
          1414,
          1031,
          211,
          1383,
          1300,
          3849,
          345,
          3422,
          313,
          923,
          1256,
          1136,
          176,
          1312,
          1241,
          976,
          3543,
          228,
          388,
          3700,
          233,
          1364,
          422,
          1281,
          1029,
          1450,
          3849,
          255,
          1115,
          450,
          1396,
          1532,
          269,
          1468,
          536,
          1181,
          4137,
          1590,
          1523,
          4395,
          599,
          281,
          1216,
          4129,
          236,
          1111,
          583,
          1486,
          1428,
          1261,
          3651,
          1293,
          521,
          210,
          1003,
          934,
          207,
          1214,
          3524,
          1164,
          508,
          3826,
          241,
          1314,
          1378,
          1066,
          578,
          1078,
          1314,
          1394,
          586,
          3842,
          228,
          1127,
          250,
          1428,
          4110,
          663,
          1452,
          4384,
          1574,
          1186,
          1497,
          736,
          272,
          1044,
          1374,
          685,
          1443,
          238,
          3981,
          199,
          1248,
          1220,
          3478,
          909,
          566,
          966,
          1332,
          3734,
          1262,
          665,
          238,
          3965,
          247,
          1061,
          1346,
          1456,
          698,
          246,
          1076,
          706,
          1395,
          1473,
          3934,
          1134,
          1539,
          1465,
          243,
          745,
          4101,
          786,
          1551,
          1114,
          272,
          4253,
          1510,
          994,
          3952,
          1372,
          1386,
          230,
          747
         ],
         "y0": " ",
         "yaxis": "y"
        }
       ],
       "layout": {
        "legend": {
         "tracegroupgap": 0
        },
        "margin": {
         "t": 60
        },
        "template": {
         "data": {
          "bar": [
           {
            "error_x": {
             "color": "#2a3f5f"
            },
            "error_y": {
             "color": "#2a3f5f"
            },
            "marker": {
             "line": {
              "color": "#E5ECF6",
              "width": 0.5
             },
             "pattern": {
              "fillmode": "overlay",
              "size": 10,
              "solidity": 0.2
             }
            },
            "type": "bar"
           }
          ],
          "barpolar": [
           {
            "marker": {
             "line": {
              "color": "#E5ECF6",
              "width": 0.5
             },
             "pattern": {
              "fillmode": "overlay",
              "size": 10,
              "solidity": 0.2
             }
            },
            "type": "barpolar"
           }
          ],
          "carpet": [
           {
            "aaxis": {
             "endlinecolor": "#2a3f5f",
             "gridcolor": "white",
             "linecolor": "white",
             "minorgridcolor": "white",
             "startlinecolor": "#2a3f5f"
            },
            "baxis": {
             "endlinecolor": "#2a3f5f",
             "gridcolor": "white",
             "linecolor": "white",
             "minorgridcolor": "white",
             "startlinecolor": "#2a3f5f"
            },
            "type": "carpet"
           }
          ],
          "choropleth": [
           {
            "colorbar": {
             "outlinewidth": 0,
             "ticks": ""
            },
            "type": "choropleth"
           }
          ],
          "contour": [
           {
            "colorbar": {
             "outlinewidth": 0,
             "ticks": ""
            },
            "colorscale": [
             [
              0,
              "#0d0887"
             ],
             [
              0.1111111111111111,
              "#46039f"
             ],
             [
              0.2222222222222222,
              "#7201a8"
             ],
             [
              0.3333333333333333,
              "#9c179e"
             ],
             [
              0.4444444444444444,
              "#bd3786"
             ],
             [
              0.5555555555555556,
              "#d8576b"
             ],
             [
              0.6666666666666666,
              "#ed7953"
             ],
             [
              0.7777777777777778,
              "#fb9f3a"
             ],
             [
              0.8888888888888888,
              "#fdca26"
             ],
             [
              1,
              "#f0f921"
             ]
            ],
            "type": "contour"
           }
          ],
          "contourcarpet": [
           {
            "colorbar": {
             "outlinewidth": 0,
             "ticks": ""
            },
            "type": "contourcarpet"
           }
          ],
          "heatmap": [
           {
            "colorbar": {
             "outlinewidth": 0,
             "ticks": ""
            },
            "colorscale": [
             [
              0,
              "#0d0887"
             ],
             [
              0.1111111111111111,
              "#46039f"
             ],
             [
              0.2222222222222222,
              "#7201a8"
             ],
             [
              0.3333333333333333,
              "#9c179e"
             ],
             [
              0.4444444444444444,
              "#bd3786"
             ],
             [
              0.5555555555555556,
              "#d8576b"
             ],
             [
              0.6666666666666666,
              "#ed7953"
             ],
             [
              0.7777777777777778,
              "#fb9f3a"
             ],
             [
              0.8888888888888888,
              "#fdca26"
             ],
             [
              1,
              "#f0f921"
             ]
            ],
            "type": "heatmap"
           }
          ],
          "heatmapgl": [
           {
            "colorbar": {
             "outlinewidth": 0,
             "ticks": ""
            },
            "colorscale": [
             [
              0,
              "#0d0887"
             ],
             [
              0.1111111111111111,
              "#46039f"
             ],
             [
              0.2222222222222222,
              "#7201a8"
             ],
             [
              0.3333333333333333,
              "#9c179e"
             ],
             [
              0.4444444444444444,
              "#bd3786"
             ],
             [
              0.5555555555555556,
              "#d8576b"
             ],
             [
              0.6666666666666666,
              "#ed7953"
             ],
             [
              0.7777777777777778,
              "#fb9f3a"
             ],
             [
              0.8888888888888888,
              "#fdca26"
             ],
             [
              1,
              "#f0f921"
             ]
            ],
            "type": "heatmapgl"
           }
          ],
          "histogram": [
           {
            "marker": {
             "pattern": {
              "fillmode": "overlay",
              "size": 10,
              "solidity": 0.2
             }
            },
            "type": "histogram"
           }
          ],
          "histogram2d": [
           {
            "colorbar": {
             "outlinewidth": 0,
             "ticks": ""
            },
            "colorscale": [
             [
              0,
              "#0d0887"
             ],
             [
              0.1111111111111111,
              "#46039f"
             ],
             [
              0.2222222222222222,
              "#7201a8"
             ],
             [
              0.3333333333333333,
              "#9c179e"
             ],
             [
              0.4444444444444444,
              "#bd3786"
             ],
             [
              0.5555555555555556,
              "#d8576b"
             ],
             [
              0.6666666666666666,
              "#ed7953"
             ],
             [
              0.7777777777777778,
              "#fb9f3a"
             ],
             [
              0.8888888888888888,
              "#fdca26"
             ],
             [
              1,
              "#f0f921"
             ]
            ],
            "type": "histogram2d"
           }
          ],
          "histogram2dcontour": [
           {
            "colorbar": {
             "outlinewidth": 0,
             "ticks": ""
            },
            "colorscale": [
             [
              0,
              "#0d0887"
             ],
             [
              0.1111111111111111,
              "#46039f"
             ],
             [
              0.2222222222222222,
              "#7201a8"
             ],
             [
              0.3333333333333333,
              "#9c179e"
             ],
             [
              0.4444444444444444,
              "#bd3786"
             ],
             [
              0.5555555555555556,
              "#d8576b"
             ],
             [
              0.6666666666666666,
              "#ed7953"
             ],
             [
              0.7777777777777778,
              "#fb9f3a"
             ],
             [
              0.8888888888888888,
              "#fdca26"
             ],
             [
              1,
              "#f0f921"
             ]
            ],
            "type": "histogram2dcontour"
           }
          ],
          "mesh3d": [
           {
            "colorbar": {
             "outlinewidth": 0,
             "ticks": ""
            },
            "type": "mesh3d"
           }
          ],
          "parcoords": [
           {
            "line": {
             "colorbar": {
              "outlinewidth": 0,
              "ticks": ""
             }
            },
            "type": "parcoords"
           }
          ],
          "pie": [
           {
            "automargin": true,
            "type": "pie"
           }
          ],
          "scatter": [
           {
            "fillpattern": {
             "fillmode": "overlay",
             "size": 10,
             "solidity": 0.2
            },
            "type": "scatter"
           }
          ],
          "scatter3d": [
           {
            "line": {
             "colorbar": {
              "outlinewidth": 0,
              "ticks": ""
             }
            },
            "marker": {
             "colorbar": {
              "outlinewidth": 0,
              "ticks": ""
             }
            },
            "type": "scatter3d"
           }
          ],
          "scattercarpet": [
           {
            "marker": {
             "colorbar": {
              "outlinewidth": 0,
              "ticks": ""
             }
            },
            "type": "scattercarpet"
           }
          ],
          "scattergeo": [
           {
            "marker": {
             "colorbar": {
              "outlinewidth": 0,
              "ticks": ""
             }
            },
            "type": "scattergeo"
           }
          ],
          "scattergl": [
           {
            "marker": {
             "colorbar": {
              "outlinewidth": 0,
              "ticks": ""
             }
            },
            "type": "scattergl"
           }
          ],
          "scattermapbox": [
           {
            "marker": {
             "colorbar": {
              "outlinewidth": 0,
              "ticks": ""
             }
            },
            "type": "scattermapbox"
           }
          ],
          "scatterpolar": [
           {
            "marker": {
             "colorbar": {
              "outlinewidth": 0,
              "ticks": ""
             }
            },
            "type": "scatterpolar"
           }
          ],
          "scatterpolargl": [
           {
            "marker": {
             "colorbar": {
              "outlinewidth": 0,
              "ticks": ""
             }
            },
            "type": "scatterpolargl"
           }
          ],
          "scatterternary": [
           {
            "marker": {
             "colorbar": {
              "outlinewidth": 0,
              "ticks": ""
             }
            },
            "type": "scatterternary"
           }
          ],
          "surface": [
           {
            "colorbar": {
             "outlinewidth": 0,
             "ticks": ""
            },
            "colorscale": [
             [
              0,
              "#0d0887"
             ],
             [
              0.1111111111111111,
              "#46039f"
             ],
             [
              0.2222222222222222,
              "#7201a8"
             ],
             [
              0.3333333333333333,
              "#9c179e"
             ],
             [
              0.4444444444444444,
              "#bd3786"
             ],
             [
              0.5555555555555556,
              "#d8576b"
             ],
             [
              0.6666666666666666,
              "#ed7953"
             ],
             [
              0.7777777777777778,
              "#fb9f3a"
             ],
             [
              0.8888888888888888,
              "#fdca26"
             ],
             [
              1,
              "#f0f921"
             ]
            ],
            "type": "surface"
           }
          ],
          "table": [
           {
            "cells": {
             "fill": {
              "color": "#EBF0F8"
             },
             "line": {
              "color": "white"
             }
            },
            "header": {
             "fill": {
              "color": "#C8D4E3"
             },
             "line": {
              "color": "white"
             }
            },
            "type": "table"
           }
          ]
         },
         "layout": {
          "annotationdefaults": {
           "arrowcolor": "#2a3f5f",
           "arrowhead": 0,
           "arrowwidth": 1
          },
          "autotypenumbers": "strict",
          "coloraxis": {
           "colorbar": {
            "outlinewidth": 0,
            "ticks": ""
           }
          },
          "colorscale": {
           "diverging": [
            [
             0,
             "#8e0152"
            ],
            [
             0.1,
             "#c51b7d"
            ],
            [
             0.2,
             "#de77ae"
            ],
            [
             0.3,
             "#f1b6da"
            ],
            [
             0.4,
             "#fde0ef"
            ],
            [
             0.5,
             "#f7f7f7"
            ],
            [
             0.6,
             "#e6f5d0"
            ],
            [
             0.7,
             "#b8e186"
            ],
            [
             0.8,
             "#7fbc41"
            ],
            [
             0.9,
             "#4d9221"
            ],
            [
             1,
             "#276419"
            ]
           ],
           "sequential": [
            [
             0,
             "#0d0887"
            ],
            [
             0.1111111111111111,
             "#46039f"
            ],
            [
             0.2222222222222222,
             "#7201a8"
            ],
            [
             0.3333333333333333,
             "#9c179e"
            ],
            [
             0.4444444444444444,
             "#bd3786"
            ],
            [
             0.5555555555555556,
             "#d8576b"
            ],
            [
             0.6666666666666666,
             "#ed7953"
            ],
            [
             0.7777777777777778,
             "#fb9f3a"
            ],
            [
             0.8888888888888888,
             "#fdca26"
            ],
            [
             1,
             "#f0f921"
            ]
           ],
           "sequentialminus": [
            [
             0,
             "#0d0887"
            ],
            [
             0.1111111111111111,
             "#46039f"
            ],
            [
             0.2222222222222222,
             "#7201a8"
            ],
            [
             0.3333333333333333,
             "#9c179e"
            ],
            [
             0.4444444444444444,
             "#bd3786"
            ],
            [
             0.5555555555555556,
             "#d8576b"
            ],
            [
             0.6666666666666666,
             "#ed7953"
            ],
            [
             0.7777777777777778,
             "#fb9f3a"
            ],
            [
             0.8888888888888888,
             "#fdca26"
            ],
            [
             1,
             "#f0f921"
            ]
           ]
          },
          "colorway": [
           "#636efa",
           "#EF553B",
           "#00cc96",
           "#ab63fa",
           "#FFA15A",
           "#19d3f3",
           "#FF6692",
           "#B6E880",
           "#FF97FF",
           "#FECB52"
          ],
          "font": {
           "color": "#2a3f5f"
          },
          "geo": {
           "bgcolor": "white",
           "lakecolor": "white",
           "landcolor": "#E5ECF6",
           "showlakes": true,
           "showland": true,
           "subunitcolor": "white"
          },
          "hoverlabel": {
           "align": "left"
          },
          "hovermode": "closest",
          "mapbox": {
           "style": "light"
          },
          "paper_bgcolor": "white",
          "plot_bgcolor": "#E5ECF6",
          "polar": {
           "angularaxis": {
            "gridcolor": "white",
            "linecolor": "white",
            "ticks": ""
           },
           "bgcolor": "#E5ECF6",
           "radialaxis": {
            "gridcolor": "white",
            "linecolor": "white",
            "ticks": ""
           }
          },
          "scene": {
           "xaxis": {
            "backgroundcolor": "#E5ECF6",
            "gridcolor": "white",
            "gridwidth": 2,
            "linecolor": "white",
            "showbackground": true,
            "ticks": "",
            "zerolinecolor": "white"
           },
           "yaxis": {
            "backgroundcolor": "#E5ECF6",
            "gridcolor": "white",
            "gridwidth": 2,
            "linecolor": "white",
            "showbackground": true,
            "ticks": "",
            "zerolinecolor": "white"
           },
           "zaxis": {
            "backgroundcolor": "#E5ECF6",
            "gridcolor": "white",
            "gridwidth": 2,
            "linecolor": "white",
            "showbackground": true,
            "ticks": "",
            "zerolinecolor": "white"
           }
          },
          "shapedefaults": {
           "line": {
            "color": "#2a3f5f"
           }
          },
          "ternary": {
           "aaxis": {
            "gridcolor": "white",
            "linecolor": "white",
            "ticks": ""
           },
           "baxis": {
            "gridcolor": "white",
            "linecolor": "white",
            "ticks": ""
           },
           "bgcolor": "#E5ECF6",
           "caxis": {
            "gridcolor": "white",
            "linecolor": "white",
            "ticks": ""
           }
          },
          "title": {
           "x": 0.05
          },
          "xaxis": {
           "automargin": true,
           "gridcolor": "white",
           "linecolor": "white",
           "ticks": "",
           "title": {
            "standoff": 15
           },
           "zerolinecolor": "white",
           "zerolinewidth": 2
          },
          "yaxis": {
           "automargin": true,
           "gridcolor": "white",
           "linecolor": "white",
           "ticks": "",
           "title": {
            "standoff": 15
           },
           "zerolinecolor": "white",
           "zerolinewidth": 2
          }
         }
        },
        "violinmode": "group",
        "xaxis": {
         "anchor": "y",
         "domain": [
          0,
          1
         ],
         "title": {
          "text": "dispatching_base_number"
         }
        },
        "yaxis": {
         "anchor": "x",
         "domain": [
          0,
          1
         ],
         "title": {
          "text": "active_vehicles"
         }
        }
       }
      },
      "text/html": [
       "<div>                            <div id=\"26012499-da88-4b3f-8e4d-d09e4863cf06\" class=\"plotly-graph-div\" style=\"height:525px; width:100%;\"></div>            <script type=\"text/javascript\">                require([\"plotly\"], function(Plotly) {                    window.PLOTLYENV=window.PLOTLYENV || {};                                    if (document.getElementById(\"26012499-da88-4b3f-8e4d-d09e4863cf06\")) {                    Plotly.newPlot(                        \"26012499-da88-4b3f-8e4d-d09e4863cf06\",                        [{\"alignmentgroup\":\"True\",\"box\":{\"visible\":false},\"hovertemplate\":\"dispatching_base_number=%{x}<br>active_vehicles=%{y}<extra></extra>\",\"legendgroup\":\"\",\"marker\":{\"color\":\"#636efa\"},\"name\":\"\",\"offsetgroup\":\"\",\"orientation\":\"v\",\"scalegroup\":\"True\",\"showlegend\":false,\"x\":[\"B02512\",\"B02765\",\"B02764\",\"B02682\",\"B02617\",\"B02598\",\"B02598\",\"B02617\",\"B02512\",\"B02682\",\"B02765\",\"B02764\",\"B02765\",\"B02617\",\"B02598\",\"B02682\",\"B02512\",\"B02764\",\"B02512\",\"B02682\",\"B02598\",\"B02765\",\"B02617\",\"B02764\",\"B02512\",\"B02682\",\"B02617\",\"B02764\",\"B02598\",\"B02765\",\"B02764\",\"B02682\",\"B02617\",\"B02765\",\"B02512\",\"B02598\",\"B02617\",\"B02682\",\"B02764\",\"B02765\",\"B02512\",\"B02598\",\"B02765\",\"B02598\",\"B02512\",\"B02682\",\"B02764\",\"B02617\",\"B02617\",\"B02512\",\"B02764\",\"B02682\",\"B02598\",\"B02765\",\"B02682\",\"B02617\",\"B02598\",\"B02512\",\"B02764\",\"B02765\",\"B02765\",\"B02598\",\"B02682\",\"B02764\",\"B02617\",\"B02512\",\"B02764\",\"B02765\",\"B02512\",\"B02598\",\"B02682\",\"B02617\",\"B02765\",\"B02598\",\"B02617\",\"B02512\",\"B02764\",\"B02682\",\"B02764\",\"B02765\",\"B02598\",\"B02512\",\"B02617\",\"B02682\",\"B02512\",\"B02682\",\"B02617\",\"B02765\",\"B02764\",\"B02598\",\"B02617\",\"B02765\",\"B02764\",\"B02682\",\"B02512\",\"B02598\",\"B02598\",\"B02512\",\"B02682\",\"B02765\",\"B02617\",\"B02764\",\"B02512\",\"B02598\",\"B02765\",\"B02764\",\"B02682\",\"B02617\",\"B02682\",\"B02617\",\"B02765\",\"B02764\",\"B02512\",\"B02598\",\"B02598\",\"B02682\",\"B02512\",\"B02764\",\"B02765\",\"B02617\",\"B02764\",\"B02512\",\"B02682\",\"B02598\",\"B02765\",\"B02617\",\"B02617\",\"B02764\",\"B02512\",\"B02598\",\"B02682\",\"B02765\",\"B02598\",\"B02512\",\"B02765\",\"B02764\",\"B02617\",\"B02682\",\"B02598\",\"B02764\",\"B02512\",\"B02617\",\"B02682\",\"B02765\",\"B02512\",\"B02764\",\"B02765\",\"B02598\",\"B02682\",\"B02617\",\"B02617\",\"B02598\",\"B02765\",\"B02764\",\"B02682\",\"B02512\",\"B02682\",\"B02765\",\"B02617\",\"B02598\",\"B02512\",\"B02764\",\"B02764\",\"B02682\",\"B02765\",\"B02617\",\"B02598\",\"B02512\",\"B02617\",\"B02764\",\"B02682\",\"B02765\",\"B02512\",\"B02598\",\"B02512\",\"B02617\",\"B02682\",\"B02764\",\"B02765\",\"B02598\",\"B02765\",\"B02512\",\"B02617\",\"B02682\",\"B02764\",\"B02598\",\"B02598\",\"B02682\",\"B02512\",\"B02765\",\"B02617\",\"B02764\",\"B02617\",\"B02682\",\"B02765\",\"B02598\",\"B02764\",\"B02512\",\"B02765\",\"B02598\",\"B02512\",\"B02764\",\"B02617\",\"B02682\",\"B02764\",\"B02765\",\"B02512\",\"B02682\",\"B02617\",\"B02598\",\"B02617\",\"B02682\",\"B02598\",\"B02512\",\"B02765\",\"B02764\",\"B02617\",\"B02765\",\"B02598\",\"B02512\",\"B02764\",\"B02682\",\"B02598\",\"B02512\",\"B02617\",\"B02682\",\"B02764\",\"B02765\",\"B02764\",\"B02765\",\"B02598\",\"B02617\",\"B02682\",\"B02512\",\"B02617\",\"B02682\",\"B02598\",\"B02764\",\"B02512\",\"B02765\",\"B02764\",\"B02512\",\"B02617\",\"B02765\",\"B02682\",\"B02598\",\"B02617\",\"B02764\",\"B02512\",\"B02598\",\"B02765\",\"B02682\",\"B02617\",\"B02512\",\"B02682\",\"B02765\",\"B02598\",\"B02764\",\"B02617\",\"B02682\",\"B02764\",\"B02765\",\"B02512\",\"B02598\",\"B02764\",\"B02512\",\"B02598\",\"B02765\",\"B02617\",\"B02682\",\"B02682\",\"B02764\",\"B02617\",\"B02765\",\"B02512\",\"B02598\",\"B02598\",\"B02512\",\"B02617\",\"B02764\",\"B02682\",\"B02765\",\"B02764\",\"B02512\",\"B02682\",\"B02617\",\"B02598\",\"B02765\",\"B02598\",\"B02682\",\"B02617\",\"B02765\",\"B02764\",\"B02512\",\"B02598\",\"B02512\",\"B02682\",\"B02764\",\"B02765\",\"B02617\",\"B02764\",\"B02617\",\"B02598\",\"B02682\",\"B02765\",\"B02512\",\"B02598\",\"B02682\",\"B02765\",\"B02617\",\"B02512\",\"B02764\",\"B02512\",\"B02617\",\"B02682\",\"B02764\",\"B02598\",\"B02765\",\"B02598\",\"B02617\",\"B02764\",\"B02682\",\"B02765\",\"B02512\",\"B02764\",\"B02512\",\"B02598\",\"B02682\",\"B02617\",\"B02765\",\"B02512\",\"B02598\",\"B02765\",\"B02682\",\"B02617\",\"B02764\",\"B02598\",\"B02617\",\"B02682\",\"B02512\",\"B02765\",\"B02764\",\"B02765\",\"B02617\",\"B02598\",\"B02512\",\"B02764\",\"B02682\",\"B02598\",\"B02764\",\"B02617\",\"B02682\",\"B02512\",\"B02765\"],\"x0\":\" \",\"xaxis\":\"x\",\"y\":[190,225,3427,945,1228,870,785,1137,175,890,196,3147,201,1188,818,915,173,3215,147,812,746,183,1088,2862,194,951,1218,3387,907,227,3473,1022,1336,234,218,933,1363,1039,3603,248,217,974,262,1070,238,1135,3831,1463,1455,224,3820,1140,1070,280,1057,1331,949,206,3558,245,220,832,943,3186,1228,162,3499,279,217,964,1082,1323,258,975,1342,234,3658,1092,3736,271,1030,233,1405,1174,237,1208,1457,270,3840,1068,1445,290,3975,1250,234,1079,974,201,1137,252,1306,3657,177,869,248,3290,1056,1223,883,992,238,2958,168,706,944,1151,221,3654,272,1350,3718,242,1228,1035,296,1429,1471,3889,246,1071,1295,295,1093,246,299,4040,1482,1330,945,3652,211,1367,1223,245,183,3300,226,829,1046,1203,1150,860,230,3012,1084,197,600,135,596,434,112,1619,3692,1235,286,1356,1011,235,1474,3959,1316,295,250,1082,256,1501,1384,4124,322,1106,309,225,1394,1321,3947,1027,961,1214,193,289,1355,3740,1217,1152,275,939,3270,227,299,991,257,3674,1350,1269,3856,309,244,1311,1393,1072,1524,1418,1179,264,355,4093,1526,385,1181,261,4170,1414,1031,211,1383,1300,3849,345,3422,313,923,1256,1136,176,1312,1241,976,3543,228,388,3700,233,1364,422,1281,1029,1450,3849,255,1115,450,1396,1532,269,1468,536,1181,4137,1590,1523,4395,599,281,1216,4129,236,1111,583,1486,1428,1261,3651,1293,521,210,1003,934,207,1214,3524,1164,508,3826,241,1314,1378,1066,578,1078,1314,1394,586,3842,228,1127,250,1428,4110,663,1452,4384,1574,1186,1497,736,272,1044,1374,685,1443,238,3981,199,1248,1220,3478,909,566,966,1332,3734,1262,665,238,3965,247,1061,1346,1456,698,246,1076,706,1395,1473,3934,1134,1539,1465,243,745,4101,786,1551,1114,272,4253,1510,994,3952,1372,1386,230,747],\"y0\":\" \",\"yaxis\":\"y\",\"type\":\"violin\"}],                        {\"template\":{\"data\":{\"histogram2dcontour\":[{\"type\":\"histogram2dcontour\",\"colorbar\":{\"outlinewidth\":0,\"ticks\":\"\"},\"colorscale\":[[0.0,\"#0d0887\"],[0.1111111111111111,\"#46039f\"],[0.2222222222222222,\"#7201a8\"],[0.3333333333333333,\"#9c179e\"],[0.4444444444444444,\"#bd3786\"],[0.5555555555555556,\"#d8576b\"],[0.6666666666666666,\"#ed7953\"],[0.7777777777777778,\"#fb9f3a\"],[0.8888888888888888,\"#fdca26\"],[1.0,\"#f0f921\"]]}],\"choropleth\":[{\"type\":\"choropleth\",\"colorbar\":{\"outlinewidth\":0,\"ticks\":\"\"}}],\"histogram2d\":[{\"type\":\"histogram2d\",\"colorbar\":{\"outlinewidth\":0,\"ticks\":\"\"},\"colorscale\":[[0.0,\"#0d0887\"],[0.1111111111111111,\"#46039f\"],[0.2222222222222222,\"#7201a8\"],[0.3333333333333333,\"#9c179e\"],[0.4444444444444444,\"#bd3786\"],[0.5555555555555556,\"#d8576b\"],[0.6666666666666666,\"#ed7953\"],[0.7777777777777778,\"#fb9f3a\"],[0.8888888888888888,\"#fdca26\"],[1.0,\"#f0f921\"]]}],\"heatmap\":[{\"type\":\"heatmap\",\"colorbar\":{\"outlinewidth\":0,\"ticks\":\"\"},\"colorscale\":[[0.0,\"#0d0887\"],[0.1111111111111111,\"#46039f\"],[0.2222222222222222,\"#7201a8\"],[0.3333333333333333,\"#9c179e\"],[0.4444444444444444,\"#bd3786\"],[0.5555555555555556,\"#d8576b\"],[0.6666666666666666,\"#ed7953\"],[0.7777777777777778,\"#fb9f3a\"],[0.8888888888888888,\"#fdca26\"],[1.0,\"#f0f921\"]]}],\"heatmapgl\":[{\"type\":\"heatmapgl\",\"colorbar\":{\"outlinewidth\":0,\"ticks\":\"\"},\"colorscale\":[[0.0,\"#0d0887\"],[0.1111111111111111,\"#46039f\"],[0.2222222222222222,\"#7201a8\"],[0.3333333333333333,\"#9c179e\"],[0.4444444444444444,\"#bd3786\"],[0.5555555555555556,\"#d8576b\"],[0.6666666666666666,\"#ed7953\"],[0.7777777777777778,\"#fb9f3a\"],[0.8888888888888888,\"#fdca26\"],[1.0,\"#f0f921\"]]}],\"contourcarpet\":[{\"type\":\"contourcarpet\",\"colorbar\":{\"outlinewidth\":0,\"ticks\":\"\"}}],\"contour\":[{\"type\":\"contour\",\"colorbar\":{\"outlinewidth\":0,\"ticks\":\"\"},\"colorscale\":[[0.0,\"#0d0887\"],[0.1111111111111111,\"#46039f\"],[0.2222222222222222,\"#7201a8\"],[0.3333333333333333,\"#9c179e\"],[0.4444444444444444,\"#bd3786\"],[0.5555555555555556,\"#d8576b\"],[0.6666666666666666,\"#ed7953\"],[0.7777777777777778,\"#fb9f3a\"],[0.8888888888888888,\"#fdca26\"],[1.0,\"#f0f921\"]]}],\"surface\":[{\"type\":\"surface\",\"colorbar\":{\"outlinewidth\":0,\"ticks\":\"\"},\"colorscale\":[[0.0,\"#0d0887\"],[0.1111111111111111,\"#46039f\"],[0.2222222222222222,\"#7201a8\"],[0.3333333333333333,\"#9c179e\"],[0.4444444444444444,\"#bd3786\"],[0.5555555555555556,\"#d8576b\"],[0.6666666666666666,\"#ed7953\"],[0.7777777777777778,\"#fb9f3a\"],[0.8888888888888888,\"#fdca26\"],[1.0,\"#f0f921\"]]}],\"mesh3d\":[{\"type\":\"mesh3d\",\"colorbar\":{\"outlinewidth\":0,\"ticks\":\"\"}}],\"scatter\":[{\"fillpattern\":{\"fillmode\":\"overlay\",\"size\":10,\"solidity\":0.2},\"type\":\"scatter\"}],\"parcoords\":[{\"type\":\"parcoords\",\"line\":{\"colorbar\":{\"outlinewidth\":0,\"ticks\":\"\"}}}],\"scatterpolargl\":[{\"type\":\"scatterpolargl\",\"marker\":{\"colorbar\":{\"outlinewidth\":0,\"ticks\":\"\"}}}],\"bar\":[{\"error_x\":{\"color\":\"#2a3f5f\"},\"error_y\":{\"color\":\"#2a3f5f\"},\"marker\":{\"line\":{\"color\":\"#E5ECF6\",\"width\":0.5},\"pattern\":{\"fillmode\":\"overlay\",\"size\":10,\"solidity\":0.2}},\"type\":\"bar\"}],\"scattergeo\":[{\"type\":\"scattergeo\",\"marker\":{\"colorbar\":{\"outlinewidth\":0,\"ticks\":\"\"}}}],\"scatterpolar\":[{\"type\":\"scatterpolar\",\"marker\":{\"colorbar\":{\"outlinewidth\":0,\"ticks\":\"\"}}}],\"histogram\":[{\"marker\":{\"pattern\":{\"fillmode\":\"overlay\",\"size\":10,\"solidity\":0.2}},\"type\":\"histogram\"}],\"scattergl\":[{\"type\":\"scattergl\",\"marker\":{\"colorbar\":{\"outlinewidth\":0,\"ticks\":\"\"}}}],\"scatter3d\":[{\"type\":\"scatter3d\",\"line\":{\"colorbar\":{\"outlinewidth\":0,\"ticks\":\"\"}},\"marker\":{\"colorbar\":{\"outlinewidth\":0,\"ticks\":\"\"}}}],\"scattermapbox\":[{\"type\":\"scattermapbox\",\"marker\":{\"colorbar\":{\"outlinewidth\":0,\"ticks\":\"\"}}}],\"scatterternary\":[{\"type\":\"scatterternary\",\"marker\":{\"colorbar\":{\"outlinewidth\":0,\"ticks\":\"\"}}}],\"scattercarpet\":[{\"type\":\"scattercarpet\",\"marker\":{\"colorbar\":{\"outlinewidth\":0,\"ticks\":\"\"}}}],\"carpet\":[{\"aaxis\":{\"endlinecolor\":\"#2a3f5f\",\"gridcolor\":\"white\",\"linecolor\":\"white\",\"minorgridcolor\":\"white\",\"startlinecolor\":\"#2a3f5f\"},\"baxis\":{\"endlinecolor\":\"#2a3f5f\",\"gridcolor\":\"white\",\"linecolor\":\"white\",\"minorgridcolor\":\"white\",\"startlinecolor\":\"#2a3f5f\"},\"type\":\"carpet\"}],\"table\":[{\"cells\":{\"fill\":{\"color\":\"#EBF0F8\"},\"line\":{\"color\":\"white\"}},\"header\":{\"fill\":{\"color\":\"#C8D4E3\"},\"line\":{\"color\":\"white\"}},\"type\":\"table\"}],\"barpolar\":[{\"marker\":{\"line\":{\"color\":\"#E5ECF6\",\"width\":0.5},\"pattern\":{\"fillmode\":\"overlay\",\"size\":10,\"solidity\":0.2}},\"type\":\"barpolar\"}],\"pie\":[{\"automargin\":true,\"type\":\"pie\"}]},\"layout\":{\"autotypenumbers\":\"strict\",\"colorway\":[\"#636efa\",\"#EF553B\",\"#00cc96\",\"#ab63fa\",\"#FFA15A\",\"#19d3f3\",\"#FF6692\",\"#B6E880\",\"#FF97FF\",\"#FECB52\"],\"font\":{\"color\":\"#2a3f5f\"},\"hovermode\":\"closest\",\"hoverlabel\":{\"align\":\"left\"},\"paper_bgcolor\":\"white\",\"plot_bgcolor\":\"#E5ECF6\",\"polar\":{\"bgcolor\":\"#E5ECF6\",\"angularaxis\":{\"gridcolor\":\"white\",\"linecolor\":\"white\",\"ticks\":\"\"},\"radialaxis\":{\"gridcolor\":\"white\",\"linecolor\":\"white\",\"ticks\":\"\"}},\"ternary\":{\"bgcolor\":\"#E5ECF6\",\"aaxis\":{\"gridcolor\":\"white\",\"linecolor\":\"white\",\"ticks\":\"\"},\"baxis\":{\"gridcolor\":\"white\",\"linecolor\":\"white\",\"ticks\":\"\"},\"caxis\":{\"gridcolor\":\"white\",\"linecolor\":\"white\",\"ticks\":\"\"}},\"coloraxis\":{\"colorbar\":{\"outlinewidth\":0,\"ticks\":\"\"}},\"colorscale\":{\"sequential\":[[0.0,\"#0d0887\"],[0.1111111111111111,\"#46039f\"],[0.2222222222222222,\"#7201a8\"],[0.3333333333333333,\"#9c179e\"],[0.4444444444444444,\"#bd3786\"],[0.5555555555555556,\"#d8576b\"],[0.6666666666666666,\"#ed7953\"],[0.7777777777777778,\"#fb9f3a\"],[0.8888888888888888,\"#fdca26\"],[1.0,\"#f0f921\"]],\"sequentialminus\":[[0.0,\"#0d0887\"],[0.1111111111111111,\"#46039f\"],[0.2222222222222222,\"#7201a8\"],[0.3333333333333333,\"#9c179e\"],[0.4444444444444444,\"#bd3786\"],[0.5555555555555556,\"#d8576b\"],[0.6666666666666666,\"#ed7953\"],[0.7777777777777778,\"#fb9f3a\"],[0.8888888888888888,\"#fdca26\"],[1.0,\"#f0f921\"]],\"diverging\":[[0,\"#8e0152\"],[0.1,\"#c51b7d\"],[0.2,\"#de77ae\"],[0.3,\"#f1b6da\"],[0.4,\"#fde0ef\"],[0.5,\"#f7f7f7\"],[0.6,\"#e6f5d0\"],[0.7,\"#b8e186\"],[0.8,\"#7fbc41\"],[0.9,\"#4d9221\"],[1,\"#276419\"]]},\"xaxis\":{\"gridcolor\":\"white\",\"linecolor\":\"white\",\"ticks\":\"\",\"title\":{\"standoff\":15},\"zerolinecolor\":\"white\",\"automargin\":true,\"zerolinewidth\":2},\"yaxis\":{\"gridcolor\":\"white\",\"linecolor\":\"white\",\"ticks\":\"\",\"title\":{\"standoff\":15},\"zerolinecolor\":\"white\",\"automargin\":true,\"zerolinewidth\":2},\"scene\":{\"xaxis\":{\"backgroundcolor\":\"#E5ECF6\",\"gridcolor\":\"white\",\"linecolor\":\"white\",\"showbackground\":true,\"ticks\":\"\",\"zerolinecolor\":\"white\",\"gridwidth\":2},\"yaxis\":{\"backgroundcolor\":\"#E5ECF6\",\"gridcolor\":\"white\",\"linecolor\":\"white\",\"showbackground\":true,\"ticks\":\"\",\"zerolinecolor\":\"white\",\"gridwidth\":2},\"zaxis\":{\"backgroundcolor\":\"#E5ECF6\",\"gridcolor\":\"white\",\"linecolor\":\"white\",\"showbackground\":true,\"ticks\":\"\",\"zerolinecolor\":\"white\",\"gridwidth\":2}},\"shapedefaults\":{\"line\":{\"color\":\"#2a3f5f\"}},\"annotationdefaults\":{\"arrowcolor\":\"#2a3f5f\",\"arrowhead\":0,\"arrowwidth\":1},\"geo\":{\"bgcolor\":\"white\",\"landcolor\":\"#E5ECF6\",\"subunitcolor\":\"white\",\"showland\":true,\"showlakes\":true,\"lakecolor\":\"white\"},\"title\":{\"x\":0.05},\"mapbox\":{\"style\":\"light\"}}},\"xaxis\":{\"anchor\":\"y\",\"domain\":[0.0,1.0],\"title\":{\"text\":\"dispatching_base_number\"}},\"yaxis\":{\"anchor\":\"x\",\"domain\":[0.0,1.0],\"title\":{\"text\":\"active_vehicles\"}},\"legend\":{\"tracegroupgap\":0},\"margin\":{\"t\":60},\"violinmode\":\"group\"},                        {\"responsive\": true}                    ).then(function(){\n",
       "                            \n",
       "var gd = document.getElementById('26012499-da88-4b3f-8e4d-d09e4863cf06');\n",
       "var x = new MutationObserver(function (mutations, observer) {{\n",
       "        var display = window.getComputedStyle(gd).display;\n",
       "        if (!display || display === 'none') {{\n",
       "            console.log([gd, 'removed!']);\n",
       "            Plotly.purge(gd);\n",
       "            observer.disconnect();\n",
       "        }}\n",
       "}});\n",
       "\n",
       "// Listen for the removal of the full notebook cells\n",
       "var notebookContainer = gd.closest('#notebook-container');\n",
       "if (notebookContainer) {{\n",
       "    x.observe(notebookContainer, {childList: true});\n",
       "}}\n",
       "\n",
       "// Listen for the clearing of the current output cell\n",
       "var outputEl = gd.closest('.output');\n",
       "if (outputEl) {{\n",
       "    x.observe(outputEl, {childList: true});\n",
       "}}\n",
       "\n",
       "                        })                };                });            </script>        </div>"
      ]
     },
     "metadata": {},
     "output_type": "display_data"
    }
   ],
   "source": [
    "px.violin(x = 'dispatching_base_number', y = 'active_vehicles', data_frame = uber_foil)"
   ]
  },
  {
   "cell_type": "markdown",
   "id": "0da7ec75",
   "metadata": {},
   "source": [
    "### 12. Lets Collect entire data"
   ]
  },
  {
   "cell_type": "code",
   "execution_count": null,
   "id": "a50008fe",
   "metadata": {},
   "outputs": [],
   "source": []
  },
  {
   "cell_type": "code",
   "execution_count": null,
   "id": "5f696d4c",
   "metadata": {},
   "outputs": [],
   "source": []
  },
  {
   "cell_type": "code",
   "execution_count": null,
   "id": "e7017024",
   "metadata": {},
   "outputs": [],
   "source": []
  },
  {
   "cell_type": "code",
   "execution_count": null,
   "id": "a8011e18",
   "metadata": {},
   "outputs": [],
   "source": []
  },
  {
   "cell_type": "code",
   "execution_count": null,
   "id": "cd49ad2f",
   "metadata": {},
   "outputs": [],
   "source": []
  },
  {
   "cell_type": "code",
   "execution_count": null,
   "id": "c83075ee",
   "metadata": {},
   "outputs": [],
   "source": []
  },
  {
   "cell_type": "code",
   "execution_count": null,
   "id": "7ea9dcbc",
   "metadata": {},
   "outputs": [],
   "source": []
  },
  {
   "cell_type": "code",
   "execution_count": null,
   "id": "2f3137a8",
   "metadata": {},
   "outputs": [],
   "source": []
  },
  {
   "cell_type": "code",
   "execution_count": null,
   "id": "7a03a259",
   "metadata": {},
   "outputs": [],
   "source": []
  }
 ],
 "metadata": {
  "kernelspec": {
   "display_name": "Python 3 (ipykernel)",
   "language": "python",
   "name": "python3"
  },
  "language_info": {
   "codemirror_mode": {
    "name": "ipython",
    "version": 3
   },
   "file_extension": ".py",
   "mimetype": "text/x-python",
   "name": "python",
   "nbconvert_exporter": "python",
   "pygments_lexer": "ipython3",
   "version": "3.9.7"
  }
 },
 "nbformat": 4,
 "nbformat_minor": 5
}
