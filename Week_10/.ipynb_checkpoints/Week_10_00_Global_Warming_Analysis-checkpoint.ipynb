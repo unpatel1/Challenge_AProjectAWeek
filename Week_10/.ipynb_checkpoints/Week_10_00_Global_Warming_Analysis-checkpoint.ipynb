{
 "cells": [
  {
   "cell_type": "markdown",
   "id": "59f973c5",
   "metadata": {},
   "source": [
    "# Global Warming Analysis - Geospatial Data Analysis Project\n",
    "Weekly challenge: Week 10  \n",
    "Date: 9/26/2022"
   ]
  },
  {
   "cell_type": "markdown",
   "id": "7e824070",
   "metadata": {},
   "source": [
    "## 1. Problem statement / Objective: \n",
    "### To understand the global warming thru geospatial data analysis"
   ]
  },
  {
   "cell_type": "markdown",
   "id": "6839c90c",
   "metadata": {},
   "source": [
    "## 2. Getting the system ready and loading the data"
   ]
  },
  {
   "cell_type": "markdown",
   "id": "d491cb7b",
   "metadata": {},
   "source": [
    "### Loading the packages"
   ]
  },
  {
   "cell_type": "code",
   "execution_count": 1,
   "id": "6c753343",
   "metadata": {},
   "outputs": [
    {
     "data": {
      "text/html": [
       "        <script type=\"text/javascript\">\n",
       "        window.PlotlyConfig = {MathJaxConfig: 'local'};\n",
       "        if (window.MathJax) {MathJax.Hub.Config({SVG: {font: \"STIX-Web\"}});}\n",
       "        if (typeof require !== 'undefined') {\n",
       "        require.undef(\"plotly\");\n",
       "        requirejs.config({\n",
       "            paths: {\n",
       "                'plotly': ['https://cdn.plot.ly/plotly-2.11.1.min']\n",
       "            }\n",
       "        });\n",
       "        require(['plotly'], function(Plotly) {\n",
       "            window._Plotly = Plotly;\n",
       "        });\n",
       "        }\n",
       "        </script>\n",
       "        "
      ]
     },
     "metadata": {},
     "output_type": "display_data"
    }
   ],
   "source": [
    "# Import libraries\n",
    "import pandas as pd\n",
    "import numpy as np\n",
    "import matplotlib.pyplot as plt # for data visualization\n",
    "import seaborn as sns # for data visualization\n",
    "import plotly.express as px # for data visualization\n",
    "\n",
    "from plotly.offline import init_notebook_mode # for data visualization\n",
    "init_notebook_mode(connected = True)"
   ]
  },
  {
   "cell_type": "markdown",
   "id": "d99df5af",
   "metadata": {},
   "source": [
    "### Data"
   ]
  },
  {
   "cell_type": "markdown",
   "id": "07f6a7f7",
   "metadata": {},
   "source": [
    "For this project we have 5 data files. We will read these files as and when needed.\n",
    "\n",
    "1. GlobalLandTemperaturesByCity.csv\n",
    "2. GlobalLandTemperaturesByCountry.csv\n",
    "3. GlobalLandTemperaturesByMajorCity.csv\n",
    "4. GlobalLandTemperaturesByState.csv\n",
    "5. GlobalTemperatures.csv"
   ]
  },
  {
   "cell_type": "markdown",
   "id": "e0872f60",
   "metadata": {},
   "source": [
    "### Reading the data"
   ]
  },
  {
   "cell_type": "code",
   "execution_count": 2,
   "id": "8aebca81",
   "metadata": {
    "scrolled": true
   },
   "outputs": [
    {
     "data": {
      "text/html": [
       "<div>\n",
       "<style scoped>\n",
       "    .dataframe tbody tr th:only-of-type {\n",
       "        vertical-align: middle;\n",
       "    }\n",
       "\n",
       "    .dataframe tbody tr th {\n",
       "        vertical-align: top;\n",
       "    }\n",
       "\n",
       "    .dataframe thead th {\n",
       "        text-align: right;\n",
       "    }\n",
       "</style>\n",
       "<table border=\"1\" class=\"dataframe\">\n",
       "  <thead>\n",
       "    <tr style=\"text-align: right;\">\n",
       "      <th></th>\n",
       "      <th>dt</th>\n",
       "      <th>AverageTemperature</th>\n",
       "      <th>AverageTemperatureUncertainty</th>\n",
       "      <th>Country</th>\n",
       "    </tr>\n",
       "  </thead>\n",
       "  <tbody>\n",
       "    <tr>\n",
       "      <th>0</th>\n",
       "      <td>1743-11-01</td>\n",
       "      <td>4.384</td>\n",
       "      <td>2.294</td>\n",
       "      <td>Åland</td>\n",
       "    </tr>\n",
       "    <tr>\n",
       "      <th>1</th>\n",
       "      <td>1743-12-01</td>\n",
       "      <td>NaN</td>\n",
       "      <td>NaN</td>\n",
       "      <td>Åland</td>\n",
       "    </tr>\n",
       "    <tr>\n",
       "      <th>2</th>\n",
       "      <td>1744-01-01</td>\n",
       "      <td>NaN</td>\n",
       "      <td>NaN</td>\n",
       "      <td>Åland</td>\n",
       "    </tr>\n",
       "  </tbody>\n",
       "</table>\n",
       "</div>"
      ],
      "text/plain": [
       "           dt  AverageTemperature  AverageTemperatureUncertainty Country\n",
       "0  1743-11-01               4.384                          2.294   Åland\n",
       "1  1743-12-01                 NaN                            NaN   Åland\n",
       "2  1744-01-01                 NaN                            NaN   Åland"
      ]
     },
     "execution_count": 2,
     "metadata": {},
     "output_type": "execute_result"
    }
   ],
   "source": [
    "file = 'C:/Users/unpat/_Projects/Challenge_AprojectAweek_data_files/Week_10/GlobalLandTemperaturesByCountry.csv'\n",
    "global_temp_country = pd.read_csv(file)\n",
    "global_temp_country.head(3)"
   ]
  },
  {
   "cell_type": "markdown",
   "id": "eb0fbce4",
   "metadata": {},
   "source": [
    "## 3. Understanding and cleaning the data (Data preprocessing)"
   ]
  },
  {
   "cell_type": "markdown",
   "id": "03df6d92",
   "metadata": {},
   "source": [
    "In this step, we will understand our data and clean it wherever needed. This includes but not limited to meaning of each column, data type of each column, # of rows and columns, statistical summery of the numerical columns,  take care of the null values as well as duplicate values."
   ]
  },
  {
   "cell_type": "code",
   "execution_count": 3,
   "id": "487d09be",
   "metadata": {},
   "outputs": [
    {
     "data": {
      "text/plain": [
       "Index(['dt', 'AverageTemperature', 'AverageTemperatureUncertainty', 'Country'], dtype='object')"
      ]
     },
     "execution_count": 3,
     "metadata": {},
     "output_type": "execute_result"
    }
   ],
   "source": [
    "# Checking columns of the test data\n",
    "global_temp_country.columns"
   ]
  },
  {
   "cell_type": "markdown",
   "id": "71462198",
   "metadata": {},
   "source": [
    "### Description of each column"
   ]
  },
  {
   "cell_type": "markdown",
   "id": "6ae6c470",
   "metadata": {},
   "source": [
    "dt:  \n",
    "AverageTemperature:  \n",
    "AverageTemperatureUncertainty:  \n",
    "Country:"
   ]
  },
  {
   "cell_type": "markdown",
   "id": "73693226",
   "metadata": {},
   "source": [
    "### Data type of each column"
   ]
  },
  {
   "cell_type": "code",
   "execution_count": 4,
   "id": "7a853ff6",
   "metadata": {},
   "outputs": [
    {
     "data": {
      "text/plain": [
       "dt                                object\n",
       "AverageTemperature               float64\n",
       "AverageTemperatureUncertainty    float64\n",
       "Country                           object\n",
       "dtype: object"
      ]
     },
     "execution_count": 4,
     "metadata": {},
     "output_type": "execute_result"
    }
   ],
   "source": [
    "global_temp_country.dtypes"
   ]
  },
  {
   "cell_type": "markdown",
   "id": "87d1c712",
   "metadata": {},
   "source": [
    "There are two formats of data types:  \n",
    "* Object:  \n",
    "* float64:  \n",
    "\n",
    "We will convert the date data type when needed."
   ]
  },
  {
   "cell_type": "markdown",
   "id": "aaf4b1ef",
   "metadata": {},
   "source": [
    "### Shape of the dataset"
   ]
  },
  {
   "cell_type": "code",
   "execution_count": 5,
   "id": "62817703",
   "metadata": {
    "scrolled": false
   },
   "outputs": [
    {
     "data": {
      "text/plain": [
       "(577462, 4)"
      ]
     },
     "execution_count": 5,
     "metadata": {},
     "output_type": "execute_result"
    }
   ],
   "source": [
    "shape_ = global_temp_country.shape\n",
    "shape_"
   ]
  },
  {
   "cell_type": "markdown",
   "id": "c2599380",
   "metadata": {},
   "source": [
    "There are 577462 rows and 4 columns in the dataset global_temp_country."
   ]
  },
  {
   "cell_type": "markdown",
   "id": "927665a5",
   "metadata": {},
   "source": [
    "### Checking the statistical summary of numerical columns"
   ]
  },
  {
   "cell_type": "code",
   "execution_count": 6,
   "id": "3f2568e1",
   "metadata": {
    "scrolled": true
   },
   "outputs": [
    {
     "data": {
      "text/html": [
       "<div>\n",
       "<style scoped>\n",
       "    .dataframe tbody tr th:only-of-type {\n",
       "        vertical-align: middle;\n",
       "    }\n",
       "\n",
       "    .dataframe tbody tr th {\n",
       "        vertical-align: top;\n",
       "    }\n",
       "\n",
       "    .dataframe thead th {\n",
       "        text-align: right;\n",
       "    }\n",
       "</style>\n",
       "<table border=\"1\" class=\"dataframe\">\n",
       "  <thead>\n",
       "    <tr style=\"text-align: right;\">\n",
       "      <th></th>\n",
       "      <th>AverageTemperature</th>\n",
       "      <th>AverageTemperatureUncertainty</th>\n",
       "    </tr>\n",
       "  </thead>\n",
       "  <tbody>\n",
       "    <tr>\n",
       "      <th>count</th>\n",
       "      <td>544811.000000</td>\n",
       "      <td>545550.000000</td>\n",
       "    </tr>\n",
       "    <tr>\n",
       "      <th>mean</th>\n",
       "      <td>17.193354</td>\n",
       "      <td>1.019057</td>\n",
       "    </tr>\n",
       "    <tr>\n",
       "      <th>std</th>\n",
       "      <td>10.953966</td>\n",
       "      <td>1.201930</td>\n",
       "    </tr>\n",
       "    <tr>\n",
       "      <th>min</th>\n",
       "      <td>-37.658000</td>\n",
       "      <td>0.052000</td>\n",
       "    </tr>\n",
       "    <tr>\n",
       "      <th>25%</th>\n",
       "      <td>10.025000</td>\n",
       "      <td>0.323000</td>\n",
       "    </tr>\n",
       "    <tr>\n",
       "      <th>50%</th>\n",
       "      <td>20.901000</td>\n",
       "      <td>0.571000</td>\n",
       "    </tr>\n",
       "    <tr>\n",
       "      <th>75%</th>\n",
       "      <td>25.814000</td>\n",
       "      <td>1.206000</td>\n",
       "    </tr>\n",
       "    <tr>\n",
       "      <th>max</th>\n",
       "      <td>38.842000</td>\n",
       "      <td>15.003000</td>\n",
       "    </tr>\n",
       "  </tbody>\n",
       "</table>\n",
       "</div>"
      ],
      "text/plain": [
       "       AverageTemperature  AverageTemperatureUncertainty\n",
       "count       544811.000000                  545550.000000\n",
       "mean            17.193354                       1.019057\n",
       "std             10.953966                       1.201930\n",
       "min            -37.658000                       0.052000\n",
       "25%             10.025000                       0.323000\n",
       "50%             20.901000                       0.571000\n",
       "75%             25.814000                       1.206000\n",
       "max             38.842000                      15.003000"
      ]
     },
     "execution_count": 6,
     "metadata": {},
     "output_type": "execute_result"
    }
   ],
   "source": [
    "global_temp_country.describe()"
   ]
  },
  {
   "cell_type": "markdown",
   "id": "79f7fd04",
   "metadata": {},
   "source": [
    "The data seems to be right skewed."
   ]
  },
  {
   "cell_type": "markdown",
   "id": "ddff0cf9",
   "metadata": {},
   "source": [
    "### Checking for the null values"
   ]
  },
  {
   "cell_type": "code",
   "execution_count": 7,
   "id": "6e514c4e",
   "metadata": {},
   "outputs": [
    {
     "data": {
      "text/plain": [
       "dt                                   0\n",
       "AverageTemperature               32651\n",
       "AverageTemperatureUncertainty    31912\n",
       "Country                              0\n",
       "dtype: int64"
      ]
     },
     "execution_count": 7,
     "metadata": {},
     "output_type": "execute_result"
    }
   ],
   "source": [
    "# Count of null values\n",
    "isna_ = global_temp_country.isna().sum()\n",
    "isna_"
   ]
  },
  {
   "cell_type": "code",
   "execution_count": 8,
   "id": "713b61c2",
   "metadata": {},
   "outputs": [
    {
     "data": {
      "text/plain": [
       "5.654224866744478"
      ]
     },
     "execution_count": 8,
     "metadata": {},
     "output_type": "execute_result"
    }
   ],
   "source": [
    "# % of null values for percent_avg_temp\n",
    "percent_avg_temp = isna_[1] / shape_[0] * 100\n",
    "percent_avg_temp"
   ]
  },
  {
   "cell_type": "code",
   "execution_count": 9,
   "id": "6b022f22",
   "metadata": {},
   "outputs": [
    {
     "data": {
      "text/plain": [
       "5.5262510779930105"
      ]
     },
     "execution_count": 9,
     "metadata": {},
     "output_type": "execute_result"
    }
   ],
   "source": [
    "# % of null values for percent_avg_temp_uncertain\n",
    "percent_avg_temp_uncertain = isna_[2] / shape_[0] * 100\n",
    "percent_avg_temp_uncertain"
   ]
  },
  {
   "cell_type": "markdown",
   "id": "303353ef",
   "metadata": {},
   "source": [
    "* There are less than 6% of missing rows in two variables (AverageTemperature, AverageTemperatureUncertainty) each.  \n",
    "* Deleting these rows won't affect too much to our analysis so I will delete these rows before moving forward.  \n",
    "* AverageTemperature and AverageTemperatureUncertainty are related to each other so I will have to delete rows from only one column."
   ]
  },
  {
   "cell_type": "code",
   "execution_count": 10,
   "id": "c9b93634",
   "metadata": {},
   "outputs": [],
   "source": [
    "global_temp_country.dropna(\n",
    "    axis = 'index',\n",
    "    how = 'any',\n",
    "    subset=['AverageTemperature'],\n",
    "    inplace = True\n",
    ")"
   ]
  },
  {
   "cell_type": "code",
   "execution_count": 11,
   "id": "e44083f4",
   "metadata": {},
   "outputs": [
    {
     "data": {
      "text/plain": [
       "dt                               0\n",
       "AverageTemperature               0\n",
       "AverageTemperatureUncertainty    0\n",
       "Country                          0\n",
       "dtype: int64"
      ]
     },
     "execution_count": 11,
     "metadata": {},
     "output_type": "execute_result"
    }
   ],
   "source": [
    "# Checking for null values after deleting rows with null values\n",
    "global_temp_country.isna().sum()"
   ]
  },
  {
   "cell_type": "markdown",
   "id": "bb3810f5",
   "metadata": {},
   "source": [
    "We now do not have any missing values in our data"
   ]
  },
  {
   "cell_type": "markdown",
   "id": "f30bdd6c",
   "metadata": {},
   "source": [
    "### Review of the country column: # of countries, duplicate values"
   ]
  },
  {
   "cell_type": "code",
   "execution_count": 12,
   "id": "59d9fde0",
   "metadata": {},
   "outputs": [
    {
     "data": {
      "text/plain": [
       "242"
      ]
     },
     "execution_count": 12,
     "metadata": {},
     "output_type": "execute_result"
    }
   ],
   "source": [
    "# Checking for # of countries\n",
    "global_temp_country['Country'].nunique()"
   ]
  },
  {
   "cell_type": "markdown",
   "id": "f54aa451",
   "metadata": {},
   "source": [
    "There are 242 unique countries in our data."
   ]
  },
  {
   "cell_type": "code",
   "execution_count": 13,
   "id": "dfaa37c4",
   "metadata": {},
   "outputs": [
    {
     "data": {
      "text/plain": [
       "array(['Åland', 'Afghanistan', 'Africa', 'Albania', 'Algeria',\n",
       "       'American Samoa', 'Andorra', 'Angola', 'Anguilla',\n",
       "       'Antigua And Barbuda', 'Argentina', 'Armenia', 'Aruba', 'Asia',\n",
       "       'Australia', 'Austria', 'Azerbaijan', 'Bahamas', 'Bahrain',\n",
       "       'Baker Island', 'Bangladesh', 'Barbados', 'Belarus', 'Belgium',\n",
       "       'Belize', 'Benin', 'Bhutan', 'Bolivia',\n",
       "       'Bonaire, Saint Eustatius And Saba', 'Bosnia And Herzegovina',\n",
       "       'Botswana', 'Brazil', 'British Virgin Islands', 'Bulgaria',\n",
       "       'Burkina Faso', 'Burma', 'Burundi', \"Côte D'Ivoire\", 'Cambodia',\n",
       "       'Cameroon', 'Canada', 'Cape Verde', 'Cayman Islands',\n",
       "       'Central African Republic', 'Chad', 'Chile', 'China',\n",
       "       'Christmas Island', 'Colombia', 'Comoros',\n",
       "       'Congo (Democratic Republic Of The)', 'Congo', 'Costa Rica',\n",
       "       'Croatia', 'Cuba', 'Curaçao', 'Cyprus', 'Czech Republic',\n",
       "       'Denmark (Europe)', 'Denmark', 'Djibouti', 'Dominica',\n",
       "       'Dominican Republic', 'Ecuador', 'Egypt', 'El Salvador',\n",
       "       'Equatorial Guinea', 'Eritrea', 'Estonia', 'Ethiopia', 'Europe',\n",
       "       'Falkland Islands (Islas Malvinas)', 'Faroe Islands',\n",
       "       'Federated States Of Micronesia', 'Fiji', 'Finland',\n",
       "       'France (Europe)', 'France', 'French Guiana', 'French Polynesia',\n",
       "       'French Southern And Antarctic Lands', 'Gabon', 'Gambia',\n",
       "       'Gaza Strip', 'Georgia', 'Germany', 'Ghana', 'Greece', 'Greenland',\n",
       "       'Grenada', 'Guadeloupe', 'Guam', 'Guatemala', 'Guernsey',\n",
       "       'Guinea Bissau', 'Guinea', 'Guyana', 'Haiti',\n",
       "       'Heard Island And Mcdonald Islands', 'Honduras', 'Hong Kong',\n",
       "       'Hungary', 'Iceland', 'India', 'Indonesia', 'Iran', 'Iraq',\n",
       "       'Ireland', 'Isle Of Man', 'Israel', 'Italy', 'Jamaica', 'Japan',\n",
       "       'Jersey', 'Jordan', 'Kazakhstan', 'Kenya', 'Kingman Reef',\n",
       "       'Kiribati', 'Kuwait', 'Kyrgyzstan', 'Laos', 'Latvia', 'Lebanon',\n",
       "       'Lesotho', 'Liberia', 'Libya', 'Liechtenstein', 'Lithuania',\n",
       "       'Luxembourg', 'Macau', 'Macedonia', 'Madagascar', 'Malawi',\n",
       "       'Malaysia', 'Mali', 'Malta', 'Martinique', 'Mauritania',\n",
       "       'Mauritius', 'Mayotte', 'Mexico', 'Moldova', 'Monaco', 'Mongolia',\n",
       "       'Montenegro', 'Montserrat', 'Morocco', 'Mozambique', 'Namibia',\n",
       "       'Nepal', 'Netherlands (Europe)', 'Netherlands', 'New Caledonia',\n",
       "       'New Zealand', 'Nicaragua', 'Niger', 'Nigeria', 'Niue',\n",
       "       'North America', 'North Korea', 'Northern Mariana Islands',\n",
       "       'Norway', 'Oceania', 'Oman', 'Pakistan', 'Palau', 'Palestina',\n",
       "       'Palmyra Atoll', 'Panama', 'Papua New Guinea', 'Paraguay', 'Peru',\n",
       "       'Philippines', 'Poland', 'Portugal', 'Puerto Rico', 'Qatar',\n",
       "       'Reunion', 'Romania', 'Russia', 'Rwanda', 'Saint Barthélemy',\n",
       "       'Saint Kitts And Nevis', 'Saint Lucia', 'Saint Martin',\n",
       "       'Saint Pierre And Miquelon', 'Saint Vincent And The Grenadines',\n",
       "       'Samoa', 'San Marino', 'Sao Tome And Principe', 'Saudi Arabia',\n",
       "       'Senegal', 'Serbia', 'Seychelles', 'Sierra Leone', 'Singapore',\n",
       "       'Sint Maarten', 'Slovakia', 'Slovenia', 'Solomon Islands',\n",
       "       'Somalia', 'South Africa', 'South America',\n",
       "       'South Georgia And The South Sandwich Isla', 'South Korea',\n",
       "       'Spain', 'Sri Lanka', 'Sudan', 'Suriname',\n",
       "       'Svalbard And Jan Mayen', 'Swaziland', 'Sweden', 'Switzerland',\n",
       "       'Syria', 'Taiwan', 'Tajikistan', 'Tanzania', 'Thailand',\n",
       "       'Timor Leste', 'Togo', 'Tonga', 'Trinidad And Tobago', 'Tunisia',\n",
       "       'Turkey', 'Turkmenistan', 'Turks And Caicas Islands', 'Uganda',\n",
       "       'Ukraine', 'United Arab Emirates', 'United Kingdom (Europe)',\n",
       "       'United Kingdom', 'United States', 'Uruguay', 'Uzbekistan',\n",
       "       'Venezuela', 'Vietnam', 'Virgin Islands', 'Western Sahara',\n",
       "       'Yemen', 'Zambia', 'Zimbabwe'], dtype=object)"
      ]
     },
     "execution_count": 13,
     "metadata": {},
     "output_type": "execute_result"
    }
   ],
   "source": [
    "# Checking of there are any duplicate values.\n",
    "global_temp_country['Country'].unique()"
   ]
  },
  {
   "cell_type": "markdown",
   "id": "efdec464",
   "metadata": {},
   "source": [
    "From the above country name array, we can see that there are a few countries with more than one name so we will have to correct these country names."
   ]
  },
  {
   "cell_type": "code",
   "execution_count": 14,
   "id": "5ec5c28b",
   "metadata": {},
   "outputs": [],
   "source": [
    "dict_ = {\n",
    "    'Congo (Democratic Republic Of The)':'Congo',\n",
    "    'Denmark (Europe)':'Denmark',\n",
    "    'France (Europe)':'France',\n",
    "    'Netherlands (Europe)':'Netherlands',\n",
    "    'United Kingdom (Europe)':'United Kingdom'\n",
    "}"
   ]
  },
  {
   "cell_type": "code",
   "execution_count": 15,
   "id": "022ac13a",
   "metadata": {},
   "outputs": [],
   "source": [
    "global_temp_country['Country'].replace(dict_, inplace = True)"
   ]
  },
  {
   "cell_type": "markdown",
   "id": "b1c0c3fb",
   "metadata": {},
   "source": [
    "## 4. Exploratory Data Analysis (EDA)"
   ]
  },
  {
   "cell_type": "markdown",
   "id": "d83ff8b8",
   "metadata": {},
   "source": [
    "### Calculate the average temperate of each country"
   ]
  },
  {
   "cell_type": "code",
   "execution_count": 16,
   "id": "a158b40b",
   "metadata": {},
   "outputs": [
    {
     "data": {
      "text/plain": [
       "Country\n",
       "Afghanistan       14.045007\n",
       "Africa            24.074203\n",
       "Albania           12.610646\n",
       "Algeria           22.985112\n",
       "American Samoa    26.611965\n",
       "                    ...    \n",
       "Western Sahara    22.319818\n",
       "Yemen             26.253597\n",
       "Zambia            21.282956\n",
       "Zimbabwe          21.117547\n",
       "Åland              5.291383\n",
       "Name: AverageTemperature, Length: 237, dtype: float64"
      ]
     },
     "execution_count": 16,
     "metadata": {},
     "output_type": "execute_result"
    }
   ],
   "source": [
    "avg_temp = global_temp_country.groupby(['Country'])['AverageTemperature'].mean()\n",
    "avg_temp"
   ]
  },
  {
   "cell_type": "code",
   "execution_count": 17,
   "id": "6e2fbf56",
   "metadata": {},
   "outputs": [
    {
     "data": {
      "text/html": [
       "<div>\n",
       "<style scoped>\n",
       "    .dataframe tbody tr th:only-of-type {\n",
       "        vertical-align: middle;\n",
       "    }\n",
       "\n",
       "    .dataframe tbody tr th {\n",
       "        vertical-align: top;\n",
       "    }\n",
       "\n",
       "    .dataframe thead th {\n",
       "        text-align: right;\n",
       "    }\n",
       "</style>\n",
       "<table border=\"1\" class=\"dataframe\">\n",
       "  <thead>\n",
       "    <tr style=\"text-align: right;\">\n",
       "      <th></th>\n",
       "      <th>Country</th>\n",
       "      <th>AverageTemperature</th>\n",
       "    </tr>\n",
       "  </thead>\n",
       "  <tbody>\n",
       "    <tr>\n",
       "      <th>0</th>\n",
       "      <td>Afghanistan</td>\n",
       "      <td>14.045007</td>\n",
       "    </tr>\n",
       "    <tr>\n",
       "      <th>1</th>\n",
       "      <td>Africa</td>\n",
       "      <td>24.074203</td>\n",
       "    </tr>\n",
       "    <tr>\n",
       "      <th>2</th>\n",
       "      <td>Albania</td>\n",
       "      <td>12.610646</td>\n",
       "    </tr>\n",
       "    <tr>\n",
       "      <th>3</th>\n",
       "      <td>Algeria</td>\n",
       "      <td>22.985112</td>\n",
       "    </tr>\n",
       "    <tr>\n",
       "      <th>4</th>\n",
       "      <td>American Samoa</td>\n",
       "      <td>26.611965</td>\n",
       "    </tr>\n",
       "    <tr>\n",
       "      <th>...</th>\n",
       "      <td>...</td>\n",
       "      <td>...</td>\n",
       "    </tr>\n",
       "    <tr>\n",
       "      <th>232</th>\n",
       "      <td>Western Sahara</td>\n",
       "      <td>22.319818</td>\n",
       "    </tr>\n",
       "    <tr>\n",
       "      <th>233</th>\n",
       "      <td>Yemen</td>\n",
       "      <td>26.253597</td>\n",
       "    </tr>\n",
       "    <tr>\n",
       "      <th>234</th>\n",
       "      <td>Zambia</td>\n",
       "      <td>21.282956</td>\n",
       "    </tr>\n",
       "    <tr>\n",
       "      <th>235</th>\n",
       "      <td>Zimbabwe</td>\n",
       "      <td>21.117547</td>\n",
       "    </tr>\n",
       "    <tr>\n",
       "      <th>236</th>\n",
       "      <td>Åland</td>\n",
       "      <td>5.291383</td>\n",
       "    </tr>\n",
       "  </tbody>\n",
       "</table>\n",
       "<p>237 rows × 2 columns</p>\n",
       "</div>"
      ],
      "text/plain": [
       "            Country  AverageTemperature\n",
       "0       Afghanistan           14.045007\n",
       "1            Africa           24.074203\n",
       "2           Albania           12.610646\n",
       "3           Algeria           22.985112\n",
       "4    American Samoa           26.611965\n",
       "..              ...                 ...\n",
       "232  Western Sahara           22.319818\n",
       "233           Yemen           26.253597\n",
       "234          Zambia           21.282956\n",
       "235        Zimbabwe           21.117547\n",
       "236           Åland            5.291383\n",
       "\n",
       "[237 rows x 2 columns]"
      ]
     },
     "execution_count": 17,
     "metadata": {},
     "output_type": "execute_result"
    }
   ],
   "source": [
    "# Converting to a dataframe and resetting the index\n",
    "avg_temp = avg_temp.to_frame().reset_index()\n",
    "avg_temp"
   ]
  },
  {
   "cell_type": "code",
   "execution_count": 79,
   "id": "c2b8beaf",
   "metadata": {},
   "outputs": [
    {
     "data": {
      "application/vnd.plotly.v1+json": {
       "config": {
        "plotlyServerURL": "https://plot.ly"
       },
       "data": [
        {
         "coloraxis": "coloraxis",
         "geo": "geo",
         "hovertemplate": "Country=%{location}<br>AverageTemperature=%{z}<extra></extra>",
         "locationmode": "country names",
         "locations": [
          "Afghanistan",
          "Africa",
          "Albania",
          "Algeria",
          "American Samoa",
          "Andorra",
          "Angola",
          "Anguilla",
          "Antigua And Barbuda",
          "Argentina",
          "Armenia",
          "Aruba",
          "Asia",
          "Australia",
          "Austria",
          "Azerbaijan",
          "Bahamas",
          "Bahrain",
          "Baker Island",
          "Bangladesh",
          "Barbados",
          "Belarus",
          "Belgium",
          "Belize",
          "Benin",
          "Bhutan",
          "Bolivia",
          "Bonaire, Saint Eustatius And Saba",
          "Bosnia And Herzegovina",
          "Botswana",
          "Brazil",
          "British Virgin Islands",
          "Bulgaria",
          "Burkina Faso",
          "Burma",
          "Burundi",
          "Cambodia",
          "Cameroon",
          "Canada",
          "Cape Verde",
          "Cayman Islands",
          "Central African Republic",
          "Chad",
          "Chile",
          "China",
          "Christmas Island",
          "Colombia",
          "Comoros",
          "Congo",
          "Costa Rica",
          "Croatia",
          "Cuba",
          "Curaçao",
          "Cyprus",
          "Czech Republic",
          "Côte D'Ivoire",
          "Denmark",
          "Djibouti",
          "Dominica",
          "Dominican Republic",
          "Ecuador",
          "Egypt",
          "El Salvador",
          "Equatorial Guinea",
          "Eritrea",
          "Estonia",
          "Ethiopia",
          "Europe",
          "Falkland Islands (Islas Malvinas)",
          "Faroe Islands",
          "Federated States Of Micronesia",
          "Fiji",
          "Finland",
          "France",
          "French Guiana",
          "French Polynesia",
          "French Southern And Antarctic Lands",
          "Gabon",
          "Gambia",
          "Gaza Strip",
          "Georgia",
          "Germany",
          "Ghana",
          "Greece",
          "Greenland",
          "Grenada",
          "Guadeloupe",
          "Guam",
          "Guatemala",
          "Guernsey",
          "Guinea",
          "Guinea Bissau",
          "Guyana",
          "Haiti",
          "Heard Island And Mcdonald Islands",
          "Honduras",
          "Hong Kong",
          "Hungary",
          "Iceland",
          "India",
          "Indonesia",
          "Iran",
          "Iraq",
          "Ireland",
          "Isle Of Man",
          "Israel",
          "Italy",
          "Jamaica",
          "Japan",
          "Jersey",
          "Jordan",
          "Kazakhstan",
          "Kenya",
          "Kingman Reef",
          "Kiribati",
          "Kuwait",
          "Kyrgyzstan",
          "Laos",
          "Latvia",
          "Lebanon",
          "Lesotho",
          "Liberia",
          "Libya",
          "Liechtenstein",
          "Lithuania",
          "Luxembourg",
          "Macau",
          "Macedonia",
          "Madagascar",
          "Malawi",
          "Malaysia",
          "Mali",
          "Malta",
          "Martinique",
          "Mauritania",
          "Mauritius",
          "Mayotte",
          "Mexico",
          "Moldova",
          "Monaco",
          "Mongolia",
          "Montenegro",
          "Montserrat",
          "Morocco",
          "Mozambique",
          "Namibia",
          "Nepal",
          "Netherlands",
          "New Caledonia",
          "New Zealand",
          "Nicaragua",
          "Niger",
          "Nigeria",
          "Niue",
          "North America",
          "North Korea",
          "Northern Mariana Islands",
          "Norway",
          "Oceania",
          "Oman",
          "Pakistan",
          "Palau",
          "Palestina",
          "Palmyra Atoll",
          "Panama",
          "Papua New Guinea",
          "Paraguay",
          "Peru",
          "Philippines",
          "Poland",
          "Portugal",
          "Puerto Rico",
          "Qatar",
          "Reunion",
          "Romania",
          "Russia",
          "Rwanda",
          "Saint Barthélemy",
          "Saint Kitts And Nevis",
          "Saint Lucia",
          "Saint Martin",
          "Saint Pierre And Miquelon",
          "Saint Vincent And The Grenadines",
          "Samoa",
          "San Marino",
          "Sao Tome And Principe",
          "Saudi Arabia",
          "Senegal",
          "Serbia",
          "Seychelles",
          "Sierra Leone",
          "Singapore",
          "Sint Maarten",
          "Slovakia",
          "Slovenia",
          "Solomon Islands",
          "Somalia",
          "South Africa",
          "South America",
          "South Georgia And The South Sandwich Isla",
          "South Korea",
          "Spain",
          "Sri Lanka",
          "Sudan",
          "Suriname",
          "Svalbard And Jan Mayen",
          "Swaziland",
          "Sweden",
          "Switzerland",
          "Syria",
          "Taiwan",
          "Tajikistan",
          "Tanzania",
          "Thailand",
          "Timor Leste",
          "Togo",
          "Tonga",
          "Trinidad And Tobago",
          "Tunisia",
          "Turkey",
          "Turkmenistan",
          "Turks And Caicas Islands",
          "Uganda",
          "Ukraine",
          "United Arab Emirates",
          "United Kingdom",
          "United States",
          "Uruguay",
          "Uzbekistan",
          "Venezuela",
          "Vietnam",
          "Virgin Islands",
          "Western Sahara",
          "Yemen",
          "Zambia",
          "Zimbabwe",
          "Åland"
         ],
         "name": "",
         "type": "choropleth",
         "z": [
          14.045007194244604,
          24.074202745512142,
          12.610645925457991,
          22.98511176905996,
          26.611965009208106,
          11.201553063802905,
          21.824549189814817,
          26.61049185043145,
          26.437924256951103,
          14.621194210526316,
          8.551647926634768,
          27.92039022051774,
          7.3478922231614545,
          21.62469689119171,
          6.210731838281744,
          11.175936074918567,
          25.12822004008016,
          25.9308093346574,
          25.37235023279876,
          24.820242783708977,
          26.458547938638542,
          5.819288060644346,
          9.483378395451673,
          25.052099776286354,
          27.17199943181818,
          11.811878969957082,
          20.87723052631579,
          27.17329482262704,
          10.421283954516742,
          21.87929669156884,
          24.699255545286505,
          26.336523239099186,
          10.482968414403032,
          28.083506760411034,
          23.706197239536955,
          20.07099012775842,
          26.65685403576607,
          24.352585590778098,
          -5.216658945686901,
          24.185563568376068,
          26.722504150283967,
          25.280406916426514,
          27.120466282420747,
          9.383473684210525,
          6.612731031349386,
          25.784654071314527,
          24.716870967741936,
          25.70220930232558,
          24.118099942396316,
          25.61578443420379,
          11.342399873657612,
          25.40742638706859,
          27.353414669223397,
          18.787745686421605,
          7.62601926721415,
          25.94853606027987,
          -3.0265029336266958,
          28.8166025331725,
          26.110151486097795,
          25.547511210762334,
          21.869970347003154,
          22.620693031209917,
          24.906704545454545,
          24.921677809798272,
          26.802653110047846,
          4.819805748578648,
          23.01235675997618,
          7.830063802905875,
          6.076773492667029,
          6.619001579279849,
          26.944357771260997,
          25.038671779141108,
          1.244742261528743,
          11.594245735944408,
          25.718151106833492,
          26.10709611829945,
          4.9831111111111115,
          24.254725648414986,
          27.538551816239316,
          19.192636960985627,
          8.106881895881896,
          8.152496209728364,
          26.711013551665726,
          14.773012002526848,
          -18.58745804195804,
          26.741952061361456,
          26.32956088207095,
          26.996834337349398,
          23.111650494159928,
          10.928408717624762,
          25.452353098290597,
          26.76136664885088,
          25.930920115495667,
          26.295837740923353,
          2.5621149425287357,
          24.69554799459216,
          22.65989491362764,
          9.722423246999368,
          1.4050650663297535,
          23.873789473684212,
          25.684483767961684,
          17.607076451156207,
          21.775628879310347,
          9.419558433354391,
          9.365805432722679,
          19.62657730263158,
          12.737121920404297,
          26.096339563862927,
          11.951907335907336,
          10.928408717624762,
          19.346512587701195,
          5.202144758735441,
          24.102428231089934,
          27.13303443877551,
          26.73686534779834,
          25.098140232108317,
          3.2204981651376143,
          23.574696349065007,
          5.320545167403664,
          17.63161773078487,
          13.726681793913508,
          25.37773793103448,
          22.268253938484623,
          4.642939039797852,
          5.9079917877447885,
          9.165196462413139,
          22.418374760076777,
          10.375550852811118,
          22.74904594441293,
          21.431086144578316,
          25.80544200779727,
          28.44197657082002,
          18.494875319693094,
          26.110151486097795,
          27.62025550435228,
          23.522653983353152,
          26.340961429381736,
          20.567558041958044,
          8.9317166771952,
          9.024701831964624,
          -0.8206709844559585,
          10.214629500947568,
          26.383128475551292,
          17.627497409326423,
          23.59619475878499,
          20.484495197438637,
          14.8073906122449,
          9.308701831964624,
          22.700108194965186,
          10.371239107883817,
          25.957508780036967,
          27.458972540045767,
          26.744708309122604,
          25.094878453038675,
          2.0283738920225622,
          6.748336832061068,
          26.996834337349398,
          0.09580385344283004,
          21.452989119170983,
          26.91686266589729,
          20.615513304305757,
          27.216379332477533,
          23.125663223140496,
          27.16345599489796,
          26.291620638085742,
          24.450801898734177,
          23.237967557251906,
          19.935974230044,
          26.44047248677249,
          7.46020593809223,
          14.688179987212276,
          25.45196166746526,
          26.784996015936255,
          23.30140309155767,
          8.76090176879343,
          -5.521881912681913,
          19.244422183507552,
          26.61049185043145,
          25.85218600191755,
          26.646838446788113,
          26.61049185043145,
          4.223059955113818,
          26.78944870565676,
          26.33186249232658,
          13.83142229943146,
          25.794386167146975,
          25.546407835258666,
          27.967375,
          9.986563171193936,
          26.738423142370962,
          26.022571277159514,
          26.52310282651072,
          26.61049185043145,
          7.527216993051168,
          9.659700568540746,
          26.62503698979592,
          26.877085169743896,
          17.27098291510945,
          21.823920081967213,
          1.4010251017639077,
          11.849048745173745,
          13.61283417561592,
          26.947687001594897,
          27.09335942857143,
          26.17166313763234,
          -7.448027925531916,
          18.839807261078484,
          2.3863319646241314,
          6.992051484523057,
          17.917548596990645,
          21.937427536231883,
          4.016035217794253,
          22.34791097178683,
          25.986800979519145,
          25.96633271832718,
          26.87178275666478,
          23.236247852760737,
          26.118751198465965,
          19.97059047314578,
          11.631567300916139,
          14.781998181818182,
          26.662733508082134,
          23.03296871378911,
          7.653507264687303,
          27.693994700582934,
          8.572556696146558,
          8.60357252215955,
          17.149306774809162,
          12.278015938069217,
          25.025685522531163,
          23.688365504061156,
          26.336523239099186,
          22.319817823343847,
          26.253596725288055,
          21.282955621301774,
          21.117547246376812,
          5.291383449147189
         ]
        }
       ],
       "layout": {
        "coloraxis": {
         "colorbar": {
          "title": {
           "text": "AverageTemperature"
          }
         },
         "colorscale": [
          [
           0,
           "#0d0887"
          ],
          [
           0.1111111111111111,
           "#46039f"
          ],
          [
           0.2222222222222222,
           "#7201a8"
          ],
          [
           0.3333333333333333,
           "#9c179e"
          ],
          [
           0.4444444444444444,
           "#bd3786"
          ],
          [
           0.5555555555555556,
           "#d8576b"
          ],
          [
           0.6666666666666666,
           "#ed7953"
          ],
          [
           0.7777777777777778,
           "#fb9f3a"
          ],
          [
           0.8888888888888888,
           "#fdca26"
          ],
          [
           1,
           "#f0f921"
          ]
         ]
        },
        "geo": {
         "center": {},
         "domain": {
          "x": [
           0,
           1
          ],
          "y": [
           0,
           1
          ]
         }
        },
        "legend": {
         "tracegroupgap": 0
        },
        "template": {
         "data": {
          "bar": [
           {
            "error_x": {
             "color": "#2a3f5f"
            },
            "error_y": {
             "color": "#2a3f5f"
            },
            "marker": {
             "line": {
              "color": "#E5ECF6",
              "width": 0.5
             },
             "pattern": {
              "fillmode": "overlay",
              "size": 10,
              "solidity": 0.2
             }
            },
            "type": "bar"
           }
          ],
          "barpolar": [
           {
            "marker": {
             "line": {
              "color": "#E5ECF6",
              "width": 0.5
             },
             "pattern": {
              "fillmode": "overlay",
              "size": 10,
              "solidity": 0.2
             }
            },
            "type": "barpolar"
           }
          ],
          "carpet": [
           {
            "aaxis": {
             "endlinecolor": "#2a3f5f",
             "gridcolor": "white",
             "linecolor": "white",
             "minorgridcolor": "white",
             "startlinecolor": "#2a3f5f"
            },
            "baxis": {
             "endlinecolor": "#2a3f5f",
             "gridcolor": "white",
             "linecolor": "white",
             "minorgridcolor": "white",
             "startlinecolor": "#2a3f5f"
            },
            "type": "carpet"
           }
          ],
          "choropleth": [
           {
            "colorbar": {
             "outlinewidth": 0,
             "ticks": ""
            },
            "type": "choropleth"
           }
          ],
          "contour": [
           {
            "colorbar": {
             "outlinewidth": 0,
             "ticks": ""
            },
            "colorscale": [
             [
              0,
              "#0d0887"
             ],
             [
              0.1111111111111111,
              "#46039f"
             ],
             [
              0.2222222222222222,
              "#7201a8"
             ],
             [
              0.3333333333333333,
              "#9c179e"
             ],
             [
              0.4444444444444444,
              "#bd3786"
             ],
             [
              0.5555555555555556,
              "#d8576b"
             ],
             [
              0.6666666666666666,
              "#ed7953"
             ],
             [
              0.7777777777777778,
              "#fb9f3a"
             ],
             [
              0.8888888888888888,
              "#fdca26"
             ],
             [
              1,
              "#f0f921"
             ]
            ],
            "type": "contour"
           }
          ],
          "contourcarpet": [
           {
            "colorbar": {
             "outlinewidth": 0,
             "ticks": ""
            },
            "type": "contourcarpet"
           }
          ],
          "heatmap": [
           {
            "colorbar": {
             "outlinewidth": 0,
             "ticks": ""
            },
            "colorscale": [
             [
              0,
              "#0d0887"
             ],
             [
              0.1111111111111111,
              "#46039f"
             ],
             [
              0.2222222222222222,
              "#7201a8"
             ],
             [
              0.3333333333333333,
              "#9c179e"
             ],
             [
              0.4444444444444444,
              "#bd3786"
             ],
             [
              0.5555555555555556,
              "#d8576b"
             ],
             [
              0.6666666666666666,
              "#ed7953"
             ],
             [
              0.7777777777777778,
              "#fb9f3a"
             ],
             [
              0.8888888888888888,
              "#fdca26"
             ],
             [
              1,
              "#f0f921"
             ]
            ],
            "type": "heatmap"
           }
          ],
          "heatmapgl": [
           {
            "colorbar": {
             "outlinewidth": 0,
             "ticks": ""
            },
            "colorscale": [
             [
              0,
              "#0d0887"
             ],
             [
              0.1111111111111111,
              "#46039f"
             ],
             [
              0.2222222222222222,
              "#7201a8"
             ],
             [
              0.3333333333333333,
              "#9c179e"
             ],
             [
              0.4444444444444444,
              "#bd3786"
             ],
             [
              0.5555555555555556,
              "#d8576b"
             ],
             [
              0.6666666666666666,
              "#ed7953"
             ],
             [
              0.7777777777777778,
              "#fb9f3a"
             ],
             [
              0.8888888888888888,
              "#fdca26"
             ],
             [
              1,
              "#f0f921"
             ]
            ],
            "type": "heatmapgl"
           }
          ],
          "histogram": [
           {
            "marker": {
             "pattern": {
              "fillmode": "overlay",
              "size": 10,
              "solidity": 0.2
             }
            },
            "type": "histogram"
           }
          ],
          "histogram2d": [
           {
            "colorbar": {
             "outlinewidth": 0,
             "ticks": ""
            },
            "colorscale": [
             [
              0,
              "#0d0887"
             ],
             [
              0.1111111111111111,
              "#46039f"
             ],
             [
              0.2222222222222222,
              "#7201a8"
             ],
             [
              0.3333333333333333,
              "#9c179e"
             ],
             [
              0.4444444444444444,
              "#bd3786"
             ],
             [
              0.5555555555555556,
              "#d8576b"
             ],
             [
              0.6666666666666666,
              "#ed7953"
             ],
             [
              0.7777777777777778,
              "#fb9f3a"
             ],
             [
              0.8888888888888888,
              "#fdca26"
             ],
             [
              1,
              "#f0f921"
             ]
            ],
            "type": "histogram2d"
           }
          ],
          "histogram2dcontour": [
           {
            "colorbar": {
             "outlinewidth": 0,
             "ticks": ""
            },
            "colorscale": [
             [
              0,
              "#0d0887"
             ],
             [
              0.1111111111111111,
              "#46039f"
             ],
             [
              0.2222222222222222,
              "#7201a8"
             ],
             [
              0.3333333333333333,
              "#9c179e"
             ],
             [
              0.4444444444444444,
              "#bd3786"
             ],
             [
              0.5555555555555556,
              "#d8576b"
             ],
             [
              0.6666666666666666,
              "#ed7953"
             ],
             [
              0.7777777777777778,
              "#fb9f3a"
             ],
             [
              0.8888888888888888,
              "#fdca26"
             ],
             [
              1,
              "#f0f921"
             ]
            ],
            "type": "histogram2dcontour"
           }
          ],
          "mesh3d": [
           {
            "colorbar": {
             "outlinewidth": 0,
             "ticks": ""
            },
            "type": "mesh3d"
           }
          ],
          "parcoords": [
           {
            "line": {
             "colorbar": {
              "outlinewidth": 0,
              "ticks": ""
             }
            },
            "type": "parcoords"
           }
          ],
          "pie": [
           {
            "automargin": true,
            "type": "pie"
           }
          ],
          "scatter": [
           {
            "fillpattern": {
             "fillmode": "overlay",
             "size": 10,
             "solidity": 0.2
            },
            "type": "scatter"
           }
          ],
          "scatter3d": [
           {
            "line": {
             "colorbar": {
              "outlinewidth": 0,
              "ticks": ""
             }
            },
            "marker": {
             "colorbar": {
              "outlinewidth": 0,
              "ticks": ""
             }
            },
            "type": "scatter3d"
           }
          ],
          "scattercarpet": [
           {
            "marker": {
             "colorbar": {
              "outlinewidth": 0,
              "ticks": ""
             }
            },
            "type": "scattercarpet"
           }
          ],
          "scattergeo": [
           {
            "marker": {
             "colorbar": {
              "outlinewidth": 0,
              "ticks": ""
             }
            },
            "type": "scattergeo"
           }
          ],
          "scattergl": [
           {
            "marker": {
             "colorbar": {
              "outlinewidth": 0,
              "ticks": ""
             }
            },
            "type": "scattergl"
           }
          ],
          "scattermapbox": [
           {
            "marker": {
             "colorbar": {
              "outlinewidth": 0,
              "ticks": ""
             }
            },
            "type": "scattermapbox"
           }
          ],
          "scatterpolar": [
           {
            "marker": {
             "colorbar": {
              "outlinewidth": 0,
              "ticks": ""
             }
            },
            "type": "scatterpolar"
           }
          ],
          "scatterpolargl": [
           {
            "marker": {
             "colorbar": {
              "outlinewidth": 0,
              "ticks": ""
             }
            },
            "type": "scatterpolargl"
           }
          ],
          "scatterternary": [
           {
            "marker": {
             "colorbar": {
              "outlinewidth": 0,
              "ticks": ""
             }
            },
            "type": "scatterternary"
           }
          ],
          "surface": [
           {
            "colorbar": {
             "outlinewidth": 0,
             "ticks": ""
            },
            "colorscale": [
             [
              0,
              "#0d0887"
             ],
             [
              0.1111111111111111,
              "#46039f"
             ],
             [
              0.2222222222222222,
              "#7201a8"
             ],
             [
              0.3333333333333333,
              "#9c179e"
             ],
             [
              0.4444444444444444,
              "#bd3786"
             ],
             [
              0.5555555555555556,
              "#d8576b"
             ],
             [
              0.6666666666666666,
              "#ed7953"
             ],
             [
              0.7777777777777778,
              "#fb9f3a"
             ],
             [
              0.8888888888888888,
              "#fdca26"
             ],
             [
              1,
              "#f0f921"
             ]
            ],
            "type": "surface"
           }
          ],
          "table": [
           {
            "cells": {
             "fill": {
              "color": "#EBF0F8"
             },
             "line": {
              "color": "white"
             }
            },
            "header": {
             "fill": {
              "color": "#C8D4E3"
             },
             "line": {
              "color": "white"
             }
            },
            "type": "table"
           }
          ]
         },
         "layout": {
          "annotationdefaults": {
           "arrowcolor": "#2a3f5f",
           "arrowhead": 0,
           "arrowwidth": 1
          },
          "autotypenumbers": "strict",
          "coloraxis": {
           "colorbar": {
            "outlinewidth": 0,
            "ticks": ""
           }
          },
          "colorscale": {
           "diverging": [
            [
             0,
             "#8e0152"
            ],
            [
             0.1,
             "#c51b7d"
            ],
            [
             0.2,
             "#de77ae"
            ],
            [
             0.3,
             "#f1b6da"
            ],
            [
             0.4,
             "#fde0ef"
            ],
            [
             0.5,
             "#f7f7f7"
            ],
            [
             0.6,
             "#e6f5d0"
            ],
            [
             0.7,
             "#b8e186"
            ],
            [
             0.8,
             "#7fbc41"
            ],
            [
             0.9,
             "#4d9221"
            ],
            [
             1,
             "#276419"
            ]
           ],
           "sequential": [
            [
             0,
             "#0d0887"
            ],
            [
             0.1111111111111111,
             "#46039f"
            ],
            [
             0.2222222222222222,
             "#7201a8"
            ],
            [
             0.3333333333333333,
             "#9c179e"
            ],
            [
             0.4444444444444444,
             "#bd3786"
            ],
            [
             0.5555555555555556,
             "#d8576b"
            ],
            [
             0.6666666666666666,
             "#ed7953"
            ],
            [
             0.7777777777777778,
             "#fb9f3a"
            ],
            [
             0.8888888888888888,
             "#fdca26"
            ],
            [
             1,
             "#f0f921"
            ]
           ],
           "sequentialminus": [
            [
             0,
             "#0d0887"
            ],
            [
             0.1111111111111111,
             "#46039f"
            ],
            [
             0.2222222222222222,
             "#7201a8"
            ],
            [
             0.3333333333333333,
             "#9c179e"
            ],
            [
             0.4444444444444444,
             "#bd3786"
            ],
            [
             0.5555555555555556,
             "#d8576b"
            ],
            [
             0.6666666666666666,
             "#ed7953"
            ],
            [
             0.7777777777777778,
             "#fb9f3a"
            ],
            [
             0.8888888888888888,
             "#fdca26"
            ],
            [
             1,
             "#f0f921"
            ]
           ]
          },
          "colorway": [
           "#636efa",
           "#EF553B",
           "#00cc96",
           "#ab63fa",
           "#FFA15A",
           "#19d3f3",
           "#FF6692",
           "#B6E880",
           "#FF97FF",
           "#FECB52"
          ],
          "font": {
           "color": "#2a3f5f"
          },
          "geo": {
           "bgcolor": "white",
           "lakecolor": "white",
           "landcolor": "#E5ECF6",
           "showlakes": true,
           "showland": true,
           "subunitcolor": "white"
          },
          "hoverlabel": {
           "align": "left"
          },
          "hovermode": "closest",
          "mapbox": {
           "style": "light"
          },
          "paper_bgcolor": "white",
          "plot_bgcolor": "#E5ECF6",
          "polar": {
           "angularaxis": {
            "gridcolor": "white",
            "linecolor": "white",
            "ticks": ""
           },
           "bgcolor": "#E5ECF6",
           "radialaxis": {
            "gridcolor": "white",
            "linecolor": "white",
            "ticks": ""
           }
          },
          "scene": {
           "xaxis": {
            "backgroundcolor": "#E5ECF6",
            "gridcolor": "white",
            "gridwidth": 2,
            "linecolor": "white",
            "showbackground": true,
            "ticks": "",
            "zerolinecolor": "white"
           },
           "yaxis": {
            "backgroundcolor": "#E5ECF6",
            "gridcolor": "white",
            "gridwidth": 2,
            "linecolor": "white",
            "showbackground": true,
            "ticks": "",
            "zerolinecolor": "white"
           },
           "zaxis": {
            "backgroundcolor": "#E5ECF6",
            "gridcolor": "white",
            "gridwidth": 2,
            "linecolor": "white",
            "showbackground": true,
            "ticks": "",
            "zerolinecolor": "white"
           }
          },
          "shapedefaults": {
           "line": {
            "color": "#2a3f5f"
           }
          },
          "ternary": {
           "aaxis": {
            "gridcolor": "white",
            "linecolor": "white",
            "ticks": ""
           },
           "baxis": {
            "gridcolor": "white",
            "linecolor": "white",
            "ticks": ""
           },
           "bgcolor": "#E5ECF6",
           "caxis": {
            "gridcolor": "white",
            "linecolor": "white",
            "ticks": ""
           }
          },
          "title": {
           "x": 0.05
          },
          "xaxis": {
           "automargin": true,
           "gridcolor": "white",
           "linecolor": "white",
           "ticks": "",
           "title": {
            "standoff": 15
           },
           "zerolinecolor": "white",
           "zerolinewidth": 2
          },
          "yaxis": {
           "automargin": true,
           "gridcolor": "white",
           "linecolor": "white",
           "ticks": "",
           "title": {
            "standoff": 15
           },
           "zerolinecolor": "white",
           "zerolinewidth": 2
          }
         }
        },
        "title": {
         "text": "Choropleth Map of Average Temperature"
        }
       }
      },
      "text/html": [
       "<div>                            <div id=\"597aa0b8-1a7b-4130-83a5-9925f0115165\" class=\"plotly-graph-div\" style=\"height:525px; width:100%;\"></div>            <script type=\"text/javascript\">                require([\"plotly\"], function(Plotly) {                    window.PLOTLYENV=window.PLOTLYENV || {};                                    if (document.getElementById(\"597aa0b8-1a7b-4130-83a5-9925f0115165\")) {                    Plotly.newPlot(                        \"597aa0b8-1a7b-4130-83a5-9925f0115165\",                        [{\"coloraxis\":\"coloraxis\",\"geo\":\"geo\",\"hovertemplate\":\"Country=%{location}<br>AverageTemperature=%{z}<extra></extra>\",\"locationmode\":\"country names\",\"locations\":[\"Afghanistan\",\"Africa\",\"Albania\",\"Algeria\",\"American Samoa\",\"Andorra\",\"Angola\",\"Anguilla\",\"Antigua And Barbuda\",\"Argentina\",\"Armenia\",\"Aruba\",\"Asia\",\"Australia\",\"Austria\",\"Azerbaijan\",\"Bahamas\",\"Bahrain\",\"Baker Island\",\"Bangladesh\",\"Barbados\",\"Belarus\",\"Belgium\",\"Belize\",\"Benin\",\"Bhutan\",\"Bolivia\",\"Bonaire, Saint Eustatius And Saba\",\"Bosnia And Herzegovina\",\"Botswana\",\"Brazil\",\"British Virgin Islands\",\"Bulgaria\",\"Burkina Faso\",\"Burma\",\"Burundi\",\"Cambodia\",\"Cameroon\",\"Canada\",\"Cape Verde\",\"Cayman Islands\",\"Central African Republic\",\"Chad\",\"Chile\",\"China\",\"Christmas Island\",\"Colombia\",\"Comoros\",\"Congo\",\"Costa Rica\",\"Croatia\",\"Cuba\",\"Cura\\u00e7ao\",\"Cyprus\",\"Czech Republic\",\"C\\u00f4te D'Ivoire\",\"Denmark\",\"Djibouti\",\"Dominica\",\"Dominican Republic\",\"Ecuador\",\"Egypt\",\"El Salvador\",\"Equatorial Guinea\",\"Eritrea\",\"Estonia\",\"Ethiopia\",\"Europe\",\"Falkland Islands (Islas Malvinas)\",\"Faroe Islands\",\"Federated States Of Micronesia\",\"Fiji\",\"Finland\",\"France\",\"French Guiana\",\"French Polynesia\",\"French Southern And Antarctic Lands\",\"Gabon\",\"Gambia\",\"Gaza Strip\",\"Georgia\",\"Germany\",\"Ghana\",\"Greece\",\"Greenland\",\"Grenada\",\"Guadeloupe\",\"Guam\",\"Guatemala\",\"Guernsey\",\"Guinea\",\"Guinea Bissau\",\"Guyana\",\"Haiti\",\"Heard Island And Mcdonald Islands\",\"Honduras\",\"Hong Kong\",\"Hungary\",\"Iceland\",\"India\",\"Indonesia\",\"Iran\",\"Iraq\",\"Ireland\",\"Isle Of Man\",\"Israel\",\"Italy\",\"Jamaica\",\"Japan\",\"Jersey\",\"Jordan\",\"Kazakhstan\",\"Kenya\",\"Kingman Reef\",\"Kiribati\",\"Kuwait\",\"Kyrgyzstan\",\"Laos\",\"Latvia\",\"Lebanon\",\"Lesotho\",\"Liberia\",\"Libya\",\"Liechtenstein\",\"Lithuania\",\"Luxembourg\",\"Macau\",\"Macedonia\",\"Madagascar\",\"Malawi\",\"Malaysia\",\"Mali\",\"Malta\",\"Martinique\",\"Mauritania\",\"Mauritius\",\"Mayotte\",\"Mexico\",\"Moldova\",\"Monaco\",\"Mongolia\",\"Montenegro\",\"Montserrat\",\"Morocco\",\"Mozambique\",\"Namibia\",\"Nepal\",\"Netherlands\",\"New Caledonia\",\"New Zealand\",\"Nicaragua\",\"Niger\",\"Nigeria\",\"Niue\",\"North America\",\"North Korea\",\"Northern Mariana Islands\",\"Norway\",\"Oceania\",\"Oman\",\"Pakistan\",\"Palau\",\"Palestina\",\"Palmyra Atoll\",\"Panama\",\"Papua New Guinea\",\"Paraguay\",\"Peru\",\"Philippines\",\"Poland\",\"Portugal\",\"Puerto Rico\",\"Qatar\",\"Reunion\",\"Romania\",\"Russia\",\"Rwanda\",\"Saint Barth\\u00e9lemy\",\"Saint Kitts And Nevis\",\"Saint Lucia\",\"Saint Martin\",\"Saint Pierre And Miquelon\",\"Saint Vincent And The Grenadines\",\"Samoa\",\"San Marino\",\"Sao Tome And Principe\",\"Saudi Arabia\",\"Senegal\",\"Serbia\",\"Seychelles\",\"Sierra Leone\",\"Singapore\",\"Sint Maarten\",\"Slovakia\",\"Slovenia\",\"Solomon Islands\",\"Somalia\",\"South Africa\",\"South America\",\"South Georgia And The South Sandwich Isla\",\"South Korea\",\"Spain\",\"Sri Lanka\",\"Sudan\",\"Suriname\",\"Svalbard And Jan Mayen\",\"Swaziland\",\"Sweden\",\"Switzerland\",\"Syria\",\"Taiwan\",\"Tajikistan\",\"Tanzania\",\"Thailand\",\"Timor Leste\",\"Togo\",\"Tonga\",\"Trinidad And Tobago\",\"Tunisia\",\"Turkey\",\"Turkmenistan\",\"Turks And Caicas Islands\",\"Uganda\",\"Ukraine\",\"United Arab Emirates\",\"United Kingdom\",\"United States\",\"Uruguay\",\"Uzbekistan\",\"Venezuela\",\"Vietnam\",\"Virgin Islands\",\"Western Sahara\",\"Yemen\",\"Zambia\",\"Zimbabwe\",\"\\u00c5land\"],\"name\":\"\",\"z\":[14.045007194244604,24.074202745512142,12.610645925457991,22.98511176905996,26.611965009208106,11.201553063802905,21.824549189814817,26.61049185043145,26.437924256951103,14.621194210526316,8.551647926634768,27.92039022051774,7.3478922231614545,21.62469689119171,6.210731838281744,11.175936074918567,25.12822004008016,25.9308093346574,25.37235023279876,24.820242783708977,26.458547938638542,5.819288060644346,9.483378395451673,25.052099776286354,27.17199943181818,11.811878969957082,20.87723052631579,27.17329482262704,10.421283954516742,21.87929669156884,24.699255545286505,26.336523239099186,10.482968414403032,28.083506760411034,23.706197239536955,20.07099012775842,26.65685403576607,24.352585590778098,-5.216658945686901,24.185563568376068,26.722504150283967,25.280406916426514,27.120466282420747,9.383473684210525,6.612731031349386,25.784654071314527,24.716870967741936,25.70220930232558,24.118099942396316,25.61578443420379,11.342399873657612,25.40742638706859,27.353414669223397,18.787745686421605,7.62601926721415,25.94853606027987,-3.0265029336266958,28.8166025331725,26.110151486097795,25.547511210762334,21.869970347003154,22.620693031209917,24.906704545454545,24.921677809798272,26.802653110047846,4.819805748578648,23.01235675997618,7.830063802905875,6.076773492667029,6.619001579279849,26.944357771260997,25.038671779141108,1.244742261528743,11.594245735944408,25.718151106833492,26.10709611829945,4.9831111111111115,24.254725648414986,27.538551816239316,19.192636960985627,8.106881895881896,8.152496209728364,26.711013551665726,14.773012002526848,-18.58745804195804,26.741952061361456,26.32956088207095,26.996834337349398,23.111650494159928,10.928408717624762,25.452353098290597,26.76136664885088,25.930920115495667,26.295837740923353,2.5621149425287357,24.69554799459216,22.65989491362764,9.722423246999368,1.4050650663297535,23.873789473684212,25.684483767961684,17.607076451156207,21.775628879310347,9.419558433354391,9.365805432722679,19.62657730263158,12.737121920404297,26.096339563862927,11.951907335907336,10.928408717624762,19.346512587701195,5.202144758735441,24.102428231089934,27.13303443877551,26.73686534779834,25.098140232108317,3.2204981651376143,23.574696349065007,5.320545167403664,17.63161773078487,13.726681793913508,25.37773793103448,22.268253938484623,4.642939039797852,5.9079917877447885,9.165196462413139,22.418374760076777,10.375550852811118,22.74904594441293,21.431086144578316,25.80544200779727,28.44197657082002,18.494875319693094,26.110151486097795,27.62025550435228,23.522653983353152,26.340961429381736,20.567558041958044,8.9317166771952,9.024701831964624,-0.8206709844559585,10.214629500947568,26.383128475551292,17.627497409326423,23.59619475878499,20.484495197438637,14.8073906122449,9.308701831964624,22.700108194965186,10.371239107883817,25.957508780036967,27.458972540045767,26.744708309122604,25.094878453038675,2.0283738920225622,6.748336832061068,26.996834337349398,0.09580385344283004,21.452989119170983,26.91686266589729,20.615513304305757,27.216379332477533,23.125663223140496,27.16345599489796,26.291620638085742,24.450801898734177,23.237967557251906,19.935974230044,26.44047248677249,7.46020593809223,14.688179987212276,25.45196166746526,26.784996015936255,23.30140309155767,8.76090176879343,-5.521881912681913,19.244422183507552,26.61049185043145,25.85218600191755,26.646838446788113,26.61049185043145,4.223059955113818,26.78944870565676,26.33186249232658,13.83142229943146,25.794386167146975,25.546407835258666,27.967375,9.986563171193936,26.738423142370962,26.022571277159514,26.52310282651072,26.61049185043145,7.527216993051168,9.659700568540746,26.62503698979592,26.877085169743896,17.27098291510945,21.823920081967213,1.4010251017639077,11.849048745173745,13.61283417561592,26.947687001594897,27.09335942857143,26.17166313763234,-7.448027925531916,18.839807261078484,2.3863319646241314,6.992051484523057,17.917548596990645,21.937427536231883,4.016035217794253,22.34791097178683,25.986800979519145,25.96633271832718,26.87178275666478,23.236247852760737,26.118751198465965,19.97059047314578,11.631567300916139,14.781998181818182,26.662733508082134,23.03296871378911,7.653507264687303,27.693994700582934,8.572556696146558,8.60357252215955,17.149306774809162,12.278015938069217,25.025685522531163,23.688365504061156,26.336523239099186,22.319817823343847,26.253596725288055,21.282955621301774,21.117547246376812,5.291383449147189],\"type\":\"choropleth\"}],                        {\"template\":{\"data\":{\"histogram2dcontour\":[{\"type\":\"histogram2dcontour\",\"colorbar\":{\"outlinewidth\":0,\"ticks\":\"\"},\"colorscale\":[[0.0,\"#0d0887\"],[0.1111111111111111,\"#46039f\"],[0.2222222222222222,\"#7201a8\"],[0.3333333333333333,\"#9c179e\"],[0.4444444444444444,\"#bd3786\"],[0.5555555555555556,\"#d8576b\"],[0.6666666666666666,\"#ed7953\"],[0.7777777777777778,\"#fb9f3a\"],[0.8888888888888888,\"#fdca26\"],[1.0,\"#f0f921\"]]}],\"choropleth\":[{\"type\":\"choropleth\",\"colorbar\":{\"outlinewidth\":0,\"ticks\":\"\"}}],\"histogram2d\":[{\"type\":\"histogram2d\",\"colorbar\":{\"outlinewidth\":0,\"ticks\":\"\"},\"colorscale\":[[0.0,\"#0d0887\"],[0.1111111111111111,\"#46039f\"],[0.2222222222222222,\"#7201a8\"],[0.3333333333333333,\"#9c179e\"],[0.4444444444444444,\"#bd3786\"],[0.5555555555555556,\"#d8576b\"],[0.6666666666666666,\"#ed7953\"],[0.7777777777777778,\"#fb9f3a\"],[0.8888888888888888,\"#fdca26\"],[1.0,\"#f0f921\"]]}],\"heatmap\":[{\"type\":\"heatmap\",\"colorbar\":{\"outlinewidth\":0,\"ticks\":\"\"},\"colorscale\":[[0.0,\"#0d0887\"],[0.1111111111111111,\"#46039f\"],[0.2222222222222222,\"#7201a8\"],[0.3333333333333333,\"#9c179e\"],[0.4444444444444444,\"#bd3786\"],[0.5555555555555556,\"#d8576b\"],[0.6666666666666666,\"#ed7953\"],[0.7777777777777778,\"#fb9f3a\"],[0.8888888888888888,\"#fdca26\"],[1.0,\"#f0f921\"]]}],\"heatmapgl\":[{\"type\":\"heatmapgl\",\"colorbar\":{\"outlinewidth\":0,\"ticks\":\"\"},\"colorscale\":[[0.0,\"#0d0887\"],[0.1111111111111111,\"#46039f\"],[0.2222222222222222,\"#7201a8\"],[0.3333333333333333,\"#9c179e\"],[0.4444444444444444,\"#bd3786\"],[0.5555555555555556,\"#d8576b\"],[0.6666666666666666,\"#ed7953\"],[0.7777777777777778,\"#fb9f3a\"],[0.8888888888888888,\"#fdca26\"],[1.0,\"#f0f921\"]]}],\"contourcarpet\":[{\"type\":\"contourcarpet\",\"colorbar\":{\"outlinewidth\":0,\"ticks\":\"\"}}],\"contour\":[{\"type\":\"contour\",\"colorbar\":{\"outlinewidth\":0,\"ticks\":\"\"},\"colorscale\":[[0.0,\"#0d0887\"],[0.1111111111111111,\"#46039f\"],[0.2222222222222222,\"#7201a8\"],[0.3333333333333333,\"#9c179e\"],[0.4444444444444444,\"#bd3786\"],[0.5555555555555556,\"#d8576b\"],[0.6666666666666666,\"#ed7953\"],[0.7777777777777778,\"#fb9f3a\"],[0.8888888888888888,\"#fdca26\"],[1.0,\"#f0f921\"]]}],\"surface\":[{\"type\":\"surface\",\"colorbar\":{\"outlinewidth\":0,\"ticks\":\"\"},\"colorscale\":[[0.0,\"#0d0887\"],[0.1111111111111111,\"#46039f\"],[0.2222222222222222,\"#7201a8\"],[0.3333333333333333,\"#9c179e\"],[0.4444444444444444,\"#bd3786\"],[0.5555555555555556,\"#d8576b\"],[0.6666666666666666,\"#ed7953\"],[0.7777777777777778,\"#fb9f3a\"],[0.8888888888888888,\"#fdca26\"],[1.0,\"#f0f921\"]]}],\"mesh3d\":[{\"type\":\"mesh3d\",\"colorbar\":{\"outlinewidth\":0,\"ticks\":\"\"}}],\"scatter\":[{\"fillpattern\":{\"fillmode\":\"overlay\",\"size\":10,\"solidity\":0.2},\"type\":\"scatter\"}],\"parcoords\":[{\"type\":\"parcoords\",\"line\":{\"colorbar\":{\"outlinewidth\":0,\"ticks\":\"\"}}}],\"scatterpolargl\":[{\"type\":\"scatterpolargl\",\"marker\":{\"colorbar\":{\"outlinewidth\":0,\"ticks\":\"\"}}}],\"bar\":[{\"error_x\":{\"color\":\"#2a3f5f\"},\"error_y\":{\"color\":\"#2a3f5f\"},\"marker\":{\"line\":{\"color\":\"#E5ECF6\",\"width\":0.5},\"pattern\":{\"fillmode\":\"overlay\",\"size\":10,\"solidity\":0.2}},\"type\":\"bar\"}],\"scattergeo\":[{\"type\":\"scattergeo\",\"marker\":{\"colorbar\":{\"outlinewidth\":0,\"ticks\":\"\"}}}],\"scatterpolar\":[{\"type\":\"scatterpolar\",\"marker\":{\"colorbar\":{\"outlinewidth\":0,\"ticks\":\"\"}}}],\"histogram\":[{\"marker\":{\"pattern\":{\"fillmode\":\"overlay\",\"size\":10,\"solidity\":0.2}},\"type\":\"histogram\"}],\"scattergl\":[{\"type\":\"scattergl\",\"marker\":{\"colorbar\":{\"outlinewidth\":0,\"ticks\":\"\"}}}],\"scatter3d\":[{\"type\":\"scatter3d\",\"line\":{\"colorbar\":{\"outlinewidth\":0,\"ticks\":\"\"}},\"marker\":{\"colorbar\":{\"outlinewidth\":0,\"ticks\":\"\"}}}],\"scattermapbox\":[{\"type\":\"scattermapbox\",\"marker\":{\"colorbar\":{\"outlinewidth\":0,\"ticks\":\"\"}}}],\"scatterternary\":[{\"type\":\"scatterternary\",\"marker\":{\"colorbar\":{\"outlinewidth\":0,\"ticks\":\"\"}}}],\"scattercarpet\":[{\"type\":\"scattercarpet\",\"marker\":{\"colorbar\":{\"outlinewidth\":0,\"ticks\":\"\"}}}],\"carpet\":[{\"aaxis\":{\"endlinecolor\":\"#2a3f5f\",\"gridcolor\":\"white\",\"linecolor\":\"white\",\"minorgridcolor\":\"white\",\"startlinecolor\":\"#2a3f5f\"},\"baxis\":{\"endlinecolor\":\"#2a3f5f\",\"gridcolor\":\"white\",\"linecolor\":\"white\",\"minorgridcolor\":\"white\",\"startlinecolor\":\"#2a3f5f\"},\"type\":\"carpet\"}],\"table\":[{\"cells\":{\"fill\":{\"color\":\"#EBF0F8\"},\"line\":{\"color\":\"white\"}},\"header\":{\"fill\":{\"color\":\"#C8D4E3\"},\"line\":{\"color\":\"white\"}},\"type\":\"table\"}],\"barpolar\":[{\"marker\":{\"line\":{\"color\":\"#E5ECF6\",\"width\":0.5},\"pattern\":{\"fillmode\":\"overlay\",\"size\":10,\"solidity\":0.2}},\"type\":\"barpolar\"}],\"pie\":[{\"automargin\":true,\"type\":\"pie\"}]},\"layout\":{\"autotypenumbers\":\"strict\",\"colorway\":[\"#636efa\",\"#EF553B\",\"#00cc96\",\"#ab63fa\",\"#FFA15A\",\"#19d3f3\",\"#FF6692\",\"#B6E880\",\"#FF97FF\",\"#FECB52\"],\"font\":{\"color\":\"#2a3f5f\"},\"hovermode\":\"closest\",\"hoverlabel\":{\"align\":\"left\"},\"paper_bgcolor\":\"white\",\"plot_bgcolor\":\"#E5ECF6\",\"polar\":{\"bgcolor\":\"#E5ECF6\",\"angularaxis\":{\"gridcolor\":\"white\",\"linecolor\":\"white\",\"ticks\":\"\"},\"radialaxis\":{\"gridcolor\":\"white\",\"linecolor\":\"white\",\"ticks\":\"\"}},\"ternary\":{\"bgcolor\":\"#E5ECF6\",\"aaxis\":{\"gridcolor\":\"white\",\"linecolor\":\"white\",\"ticks\":\"\"},\"baxis\":{\"gridcolor\":\"white\",\"linecolor\":\"white\",\"ticks\":\"\"},\"caxis\":{\"gridcolor\":\"white\",\"linecolor\":\"white\",\"ticks\":\"\"}},\"coloraxis\":{\"colorbar\":{\"outlinewidth\":0,\"ticks\":\"\"}},\"colorscale\":{\"sequential\":[[0.0,\"#0d0887\"],[0.1111111111111111,\"#46039f\"],[0.2222222222222222,\"#7201a8\"],[0.3333333333333333,\"#9c179e\"],[0.4444444444444444,\"#bd3786\"],[0.5555555555555556,\"#d8576b\"],[0.6666666666666666,\"#ed7953\"],[0.7777777777777778,\"#fb9f3a\"],[0.8888888888888888,\"#fdca26\"],[1.0,\"#f0f921\"]],\"sequentialminus\":[[0.0,\"#0d0887\"],[0.1111111111111111,\"#46039f\"],[0.2222222222222222,\"#7201a8\"],[0.3333333333333333,\"#9c179e\"],[0.4444444444444444,\"#bd3786\"],[0.5555555555555556,\"#d8576b\"],[0.6666666666666666,\"#ed7953\"],[0.7777777777777778,\"#fb9f3a\"],[0.8888888888888888,\"#fdca26\"],[1.0,\"#f0f921\"]],\"diverging\":[[0,\"#8e0152\"],[0.1,\"#c51b7d\"],[0.2,\"#de77ae\"],[0.3,\"#f1b6da\"],[0.4,\"#fde0ef\"],[0.5,\"#f7f7f7\"],[0.6,\"#e6f5d0\"],[0.7,\"#b8e186\"],[0.8,\"#7fbc41\"],[0.9,\"#4d9221\"],[1,\"#276419\"]]},\"xaxis\":{\"gridcolor\":\"white\",\"linecolor\":\"white\",\"ticks\":\"\",\"title\":{\"standoff\":15},\"zerolinecolor\":\"white\",\"automargin\":true,\"zerolinewidth\":2},\"yaxis\":{\"gridcolor\":\"white\",\"linecolor\":\"white\",\"ticks\":\"\",\"title\":{\"standoff\":15},\"zerolinecolor\":\"white\",\"automargin\":true,\"zerolinewidth\":2},\"scene\":{\"xaxis\":{\"backgroundcolor\":\"#E5ECF6\",\"gridcolor\":\"white\",\"linecolor\":\"white\",\"showbackground\":true,\"ticks\":\"\",\"zerolinecolor\":\"white\",\"gridwidth\":2},\"yaxis\":{\"backgroundcolor\":\"#E5ECF6\",\"gridcolor\":\"white\",\"linecolor\":\"white\",\"showbackground\":true,\"ticks\":\"\",\"zerolinecolor\":\"white\",\"gridwidth\":2},\"zaxis\":{\"backgroundcolor\":\"#E5ECF6\",\"gridcolor\":\"white\",\"linecolor\":\"white\",\"showbackground\":true,\"ticks\":\"\",\"zerolinecolor\":\"white\",\"gridwidth\":2}},\"shapedefaults\":{\"line\":{\"color\":\"#2a3f5f\"}},\"annotationdefaults\":{\"arrowcolor\":\"#2a3f5f\",\"arrowhead\":0,\"arrowwidth\":1},\"geo\":{\"bgcolor\":\"white\",\"landcolor\":\"#E5ECF6\",\"subunitcolor\":\"white\",\"showland\":true,\"showlakes\":true,\"lakecolor\":\"white\"},\"title\":{\"x\":0.05},\"mapbox\":{\"style\":\"light\"}}},\"geo\":{\"domain\":{\"x\":[0.0,1.0],\"y\":[0.0,1.0]},\"center\":{}},\"coloraxis\":{\"colorbar\":{\"title\":{\"text\":\"AverageTemperature\"}},\"colorscale\":[[0.0,\"#0d0887\"],[0.1111111111111111,\"#46039f\"],[0.2222222222222222,\"#7201a8\"],[0.3333333333333333,\"#9c179e\"],[0.4444444444444444,\"#bd3786\"],[0.5555555555555556,\"#d8576b\"],[0.6666666666666666,\"#ed7953\"],[0.7777777777777778,\"#fb9f3a\"],[0.8888888888888888,\"#fdca26\"],[1.0,\"#f0f921\"]]},\"legend\":{\"tracegroupgap\":0},\"title\":{\"text\":\"Choropleth Map of Average Temperature\"}},                        {\"responsive\": true}                    ).then(function(){\n",
       "                            \n",
       "var gd = document.getElementById('597aa0b8-1a7b-4130-83a5-9925f0115165');\n",
       "var x = new MutationObserver(function (mutations, observer) {{\n",
       "        var display = window.getComputedStyle(gd).display;\n",
       "        if (!display || display === 'none') {{\n",
       "            console.log([gd, 'removed!']);\n",
       "            Plotly.purge(gd);\n",
       "            observer.disconnect();\n",
       "        }}\n",
       "}});\n",
       "\n",
       "// Listen for the removal of the full notebook cells\n",
       "var notebookContainer = gd.closest('#notebook-container');\n",
       "if (notebookContainer) {{\n",
       "    x.observe(notebookContainer, {childList: true});\n",
       "}}\n",
       "\n",
       "// Listen for the clearing of the current output cell\n",
       "var outputEl = gd.closest('.output');\n",
       "if (outputEl) {{\n",
       "    x.observe(outputEl, {childList: true});\n",
       "}}\n",
       "\n",
       "                        })                };                });            </script>        </div>"
      ]
     },
     "metadata": {},
     "output_type": "display_data"
    }
   ],
   "source": [
    "# Plotting choropleth map\n",
    "fig = px.choropleth(\n",
    "    data_frame=avg_temp,\n",
    "    locations='Country',\n",
    "    locationmode='country names',\n",
    "    color='AverageTemperature',\n",
    "    title='Choropleth Map of Average Temperature',\n",
    ")\n",
    "# fig.update_layout(title='Choropleth Map of Average Temperature')\n",
    "fig.show()"
   ]
  },
  {
   "cell_type": "markdown",
   "id": "9aedde7f",
   "metadata": {},
   "source": [
    "### Is there a global warming?"
   ]
  },
  {
   "cell_type": "markdown",
   "id": "19ce646a",
   "metadata": {},
   "source": [
    "To see the effect of global warming, we need to know how the temperature changed over a long period of time. Global warming is a slow process and its effect can only be felt over a long period of time. We have monthly temperature data of many countries in the world. We will analyze this data and visualize the effect of global warming in this section."
   ]
  },
  {
   "cell_type": "markdown",
   "id": "2bfb6a5d",
   "metadata": {},
   "source": [
    "#### Loading the 'GlobalTemperatures.csv' data file"
   ]
  },
  {
   "cell_type": "code",
   "execution_count": 19,
   "id": "1b99a1e6",
   "metadata": {},
   "outputs": [
    {
     "data": {
      "text/html": [
       "<div>\n",
       "<style scoped>\n",
       "    .dataframe tbody tr th:only-of-type {\n",
       "        vertical-align: middle;\n",
       "    }\n",
       "\n",
       "    .dataframe tbody tr th {\n",
       "        vertical-align: top;\n",
       "    }\n",
       "\n",
       "    .dataframe thead th {\n",
       "        text-align: right;\n",
       "    }\n",
       "</style>\n",
       "<table border=\"1\" class=\"dataframe\">\n",
       "  <thead>\n",
       "    <tr style=\"text-align: right;\">\n",
       "      <th></th>\n",
       "      <th>dt</th>\n",
       "      <th>LandAverageTemperature</th>\n",
       "      <th>LandAverageTemperatureUncertainty</th>\n",
       "      <th>LandMaxTemperature</th>\n",
       "      <th>LandMaxTemperatureUncertainty</th>\n",
       "      <th>LandMinTemperature</th>\n",
       "      <th>LandMinTemperatureUncertainty</th>\n",
       "      <th>LandAndOceanAverageTemperature</th>\n",
       "      <th>LandAndOceanAverageTemperatureUncertainty</th>\n",
       "    </tr>\n",
       "  </thead>\n",
       "  <tbody>\n",
       "    <tr>\n",
       "      <th>0</th>\n",
       "      <td>1750-01-01</td>\n",
       "      <td>3.034</td>\n",
       "      <td>3.574</td>\n",
       "      <td>NaN</td>\n",
       "      <td>NaN</td>\n",
       "      <td>NaN</td>\n",
       "      <td>NaN</td>\n",
       "      <td>NaN</td>\n",
       "      <td>NaN</td>\n",
       "    </tr>\n",
       "    <tr>\n",
       "      <th>1</th>\n",
       "      <td>1750-02-01</td>\n",
       "      <td>3.083</td>\n",
       "      <td>3.702</td>\n",
       "      <td>NaN</td>\n",
       "      <td>NaN</td>\n",
       "      <td>NaN</td>\n",
       "      <td>NaN</td>\n",
       "      <td>NaN</td>\n",
       "      <td>NaN</td>\n",
       "    </tr>\n",
       "    <tr>\n",
       "      <th>2</th>\n",
       "      <td>1750-03-01</td>\n",
       "      <td>5.626</td>\n",
       "      <td>3.076</td>\n",
       "      <td>NaN</td>\n",
       "      <td>NaN</td>\n",
       "      <td>NaN</td>\n",
       "      <td>NaN</td>\n",
       "      <td>NaN</td>\n",
       "      <td>NaN</td>\n",
       "    </tr>\n",
       "    <tr>\n",
       "      <th>3</th>\n",
       "      <td>1750-04-01</td>\n",
       "      <td>8.490</td>\n",
       "      <td>2.451</td>\n",
       "      <td>NaN</td>\n",
       "      <td>NaN</td>\n",
       "      <td>NaN</td>\n",
       "      <td>NaN</td>\n",
       "      <td>NaN</td>\n",
       "      <td>NaN</td>\n",
       "    </tr>\n",
       "    <tr>\n",
       "      <th>4</th>\n",
       "      <td>1750-05-01</td>\n",
       "      <td>11.573</td>\n",
       "      <td>2.072</td>\n",
       "      <td>NaN</td>\n",
       "      <td>NaN</td>\n",
       "      <td>NaN</td>\n",
       "      <td>NaN</td>\n",
       "      <td>NaN</td>\n",
       "      <td>NaN</td>\n",
       "    </tr>\n",
       "  </tbody>\n",
       "</table>\n",
       "</div>"
      ],
      "text/plain": [
       "           dt  LandAverageTemperature  LandAverageTemperatureUncertainty  \\\n",
       "0  1750-01-01                   3.034                              3.574   \n",
       "1  1750-02-01                   3.083                              3.702   \n",
       "2  1750-03-01                   5.626                              3.076   \n",
       "3  1750-04-01                   8.490                              2.451   \n",
       "4  1750-05-01                  11.573                              2.072   \n",
       "\n",
       "   LandMaxTemperature  LandMaxTemperatureUncertainty  LandMinTemperature  \\\n",
       "0                 NaN                            NaN                 NaN   \n",
       "1                 NaN                            NaN                 NaN   \n",
       "2                 NaN                            NaN                 NaN   \n",
       "3                 NaN                            NaN                 NaN   \n",
       "4                 NaN                            NaN                 NaN   \n",
       "\n",
       "   LandMinTemperatureUncertainty  LandAndOceanAverageTemperature  \\\n",
       "0                            NaN                             NaN   \n",
       "1                            NaN                             NaN   \n",
       "2                            NaN                             NaN   \n",
       "3                            NaN                             NaN   \n",
       "4                            NaN                             NaN   \n",
       "\n",
       "   LandAndOceanAverageTemperatureUncertainty  \n",
       "0                                        NaN  \n",
       "1                                        NaN  \n",
       "2                                        NaN  \n",
       "3                                        NaN  \n",
       "4                                        NaN  "
      ]
     },
     "execution_count": 19,
     "metadata": {},
     "output_type": "execute_result"
    }
   ],
   "source": [
    "file = 'C:/Users/unpat/_Projects/Challenge_AprojectAweek_data_files/Week_10\\GlobalTemperatures.csv'\n",
    "global_temp = pd.read_csv(file)\n",
    "global_temp.head(5)"
   ]
  },
  {
   "cell_type": "code",
   "execution_count": 20,
   "id": "8d46938e",
   "metadata": {},
   "outputs": [
    {
     "data": {
      "text/html": [
       "<div>\n",
       "<style scoped>\n",
       "    .dataframe tbody tr th:only-of-type {\n",
       "        vertical-align: middle;\n",
       "    }\n",
       "\n",
       "    .dataframe tbody tr th {\n",
       "        vertical-align: top;\n",
       "    }\n",
       "\n",
       "    .dataframe thead th {\n",
       "        text-align: right;\n",
       "    }\n",
       "</style>\n",
       "<table border=\"1\" class=\"dataframe\">\n",
       "  <thead>\n",
       "    <tr style=\"text-align: right;\">\n",
       "      <th></th>\n",
       "      <th>dt</th>\n",
       "      <th>LandAverageTemperature</th>\n",
       "      <th>LandAverageTemperatureUncertainty</th>\n",
       "      <th>LandMaxTemperature</th>\n",
       "      <th>LandMaxTemperatureUncertainty</th>\n",
       "      <th>LandMinTemperature</th>\n",
       "      <th>LandMinTemperatureUncertainty</th>\n",
       "      <th>LandAndOceanAverageTemperature</th>\n",
       "      <th>LandAndOceanAverageTemperatureUncertainty</th>\n",
       "    </tr>\n",
       "  </thead>\n",
       "  <tbody>\n",
       "    <tr>\n",
       "      <th>3187</th>\n",
       "      <td>2015-08-01</td>\n",
       "      <td>14.755</td>\n",
       "      <td>0.072</td>\n",
       "      <td>20.699</td>\n",
       "      <td>0.110</td>\n",
       "      <td>9.005</td>\n",
       "      <td>0.170</td>\n",
       "      <td>17.589</td>\n",
       "      <td>0.057</td>\n",
       "    </tr>\n",
       "    <tr>\n",
       "      <th>3188</th>\n",
       "      <td>2015-09-01</td>\n",
       "      <td>12.999</td>\n",
       "      <td>0.079</td>\n",
       "      <td>18.845</td>\n",
       "      <td>0.088</td>\n",
       "      <td>7.199</td>\n",
       "      <td>0.229</td>\n",
       "      <td>17.049</td>\n",
       "      <td>0.058</td>\n",
       "    </tr>\n",
       "    <tr>\n",
       "      <th>3189</th>\n",
       "      <td>2015-10-01</td>\n",
       "      <td>10.801</td>\n",
       "      <td>0.102</td>\n",
       "      <td>16.450</td>\n",
       "      <td>0.059</td>\n",
       "      <td>5.232</td>\n",
       "      <td>0.115</td>\n",
       "      <td>16.290</td>\n",
       "      <td>0.062</td>\n",
       "    </tr>\n",
       "    <tr>\n",
       "      <th>3190</th>\n",
       "      <td>2015-11-01</td>\n",
       "      <td>7.433</td>\n",
       "      <td>0.119</td>\n",
       "      <td>12.892</td>\n",
       "      <td>0.093</td>\n",
       "      <td>2.157</td>\n",
       "      <td>0.106</td>\n",
       "      <td>15.252</td>\n",
       "      <td>0.063</td>\n",
       "    </tr>\n",
       "    <tr>\n",
       "      <th>3191</th>\n",
       "      <td>2015-12-01</td>\n",
       "      <td>5.518</td>\n",
       "      <td>0.100</td>\n",
       "      <td>10.725</td>\n",
       "      <td>0.154</td>\n",
       "      <td>0.287</td>\n",
       "      <td>0.099</td>\n",
       "      <td>14.774</td>\n",
       "      <td>0.062</td>\n",
       "    </tr>\n",
       "  </tbody>\n",
       "</table>\n",
       "</div>"
      ],
      "text/plain": [
       "              dt  LandAverageTemperature  LandAverageTemperatureUncertainty  \\\n",
       "3187  2015-08-01                  14.755                              0.072   \n",
       "3188  2015-09-01                  12.999                              0.079   \n",
       "3189  2015-10-01                  10.801                              0.102   \n",
       "3190  2015-11-01                   7.433                              0.119   \n",
       "3191  2015-12-01                   5.518                              0.100   \n",
       "\n",
       "      LandMaxTemperature  LandMaxTemperatureUncertainty  LandMinTemperature  \\\n",
       "3187              20.699                          0.110               9.005   \n",
       "3188              18.845                          0.088               7.199   \n",
       "3189              16.450                          0.059               5.232   \n",
       "3190              12.892                          0.093               2.157   \n",
       "3191              10.725                          0.154               0.287   \n",
       "\n",
       "      LandMinTemperatureUncertainty  LandAndOceanAverageTemperature  \\\n",
       "3187                          0.170                          17.589   \n",
       "3188                          0.229                          17.049   \n",
       "3189                          0.115                          16.290   \n",
       "3190                          0.106                          15.252   \n",
       "3191                          0.099                          14.774   \n",
       "\n",
       "      LandAndOceanAverageTemperatureUncertainty  \n",
       "3187                                      0.057  \n",
       "3188                                      0.058  \n",
       "3189                                      0.062  \n",
       "3190                                      0.063  \n",
       "3191                                      0.062  "
      ]
     },
     "execution_count": 20,
     "metadata": {},
     "output_type": "execute_result"
    }
   ],
   "source": [
    "global_temp.tail(5)"
   ]
  },
  {
   "cell_type": "markdown",
   "id": "f498204b",
   "metadata": {},
   "source": [
    "Date is associated with the global warming. To see the effect of global warming, we have to know the history of temperature (how the temperature varied over time). Our data goes back to a few hundred years so we would be working with the annual temperature variations."
   ]
  },
  {
   "cell_type": "code",
   "execution_count": 21,
   "id": "5ba06bc3",
   "metadata": {},
   "outputs": [
    {
     "data": {
      "text/plain": [
       "'1750'"
      ]
     },
     "execution_count": 21,
     "metadata": {},
     "output_type": "execute_result"
    }
   ],
   "source": [
    "# Concept of separating year from the date\n",
    "global_temp['dt'][0].split('-')[0]"
   ]
  },
  {
   "cell_type": "code",
   "execution_count": 22,
   "id": "24e4d976",
   "metadata": {},
   "outputs": [],
   "source": [
    "# Function that will fetch year from date\n",
    "def fetch_year(date):\n",
    "    return date.split('-')[0]"
   ]
  },
  {
   "cell_type": "code",
   "execution_count": 23,
   "id": "b65b9533",
   "metadata": {},
   "outputs": [],
   "source": [
    "# Applying fetch_year function to the dt column of the dataframe\n",
    "global_temp['years'] = global_temp['dt'].apply(fetch_year)"
   ]
  },
  {
   "cell_type": "code",
   "execution_count": 24,
   "id": "66c75ecc",
   "metadata": {},
   "outputs": [
    {
     "data": {
      "text/html": [
       "<div>\n",
       "<style scoped>\n",
       "    .dataframe tbody tr th:only-of-type {\n",
       "        vertical-align: middle;\n",
       "    }\n",
       "\n",
       "    .dataframe tbody tr th {\n",
       "        vertical-align: top;\n",
       "    }\n",
       "\n",
       "    .dataframe thead th {\n",
       "        text-align: right;\n",
       "    }\n",
       "</style>\n",
       "<table border=\"1\" class=\"dataframe\">\n",
       "  <thead>\n",
       "    <tr style=\"text-align: right;\">\n",
       "      <th></th>\n",
       "      <th>dt</th>\n",
       "      <th>LandAverageTemperature</th>\n",
       "      <th>LandAverageTemperatureUncertainty</th>\n",
       "      <th>LandMaxTemperature</th>\n",
       "      <th>LandMaxTemperatureUncertainty</th>\n",
       "      <th>LandMinTemperature</th>\n",
       "      <th>LandMinTemperatureUncertainty</th>\n",
       "      <th>LandAndOceanAverageTemperature</th>\n",
       "      <th>LandAndOceanAverageTemperatureUncertainty</th>\n",
       "      <th>years</th>\n",
       "    </tr>\n",
       "  </thead>\n",
       "  <tbody>\n",
       "    <tr>\n",
       "      <th>0</th>\n",
       "      <td>1750-01-01</td>\n",
       "      <td>3.034</td>\n",
       "      <td>3.574</td>\n",
       "      <td>NaN</td>\n",
       "      <td>NaN</td>\n",
       "      <td>NaN</td>\n",
       "      <td>NaN</td>\n",
       "      <td>NaN</td>\n",
       "      <td>NaN</td>\n",
       "      <td>1750</td>\n",
       "    </tr>\n",
       "    <tr>\n",
       "      <th>1</th>\n",
       "      <td>1750-02-01</td>\n",
       "      <td>3.083</td>\n",
       "      <td>3.702</td>\n",
       "      <td>NaN</td>\n",
       "      <td>NaN</td>\n",
       "      <td>NaN</td>\n",
       "      <td>NaN</td>\n",
       "      <td>NaN</td>\n",
       "      <td>NaN</td>\n",
       "      <td>1750</td>\n",
       "    </tr>\n",
       "    <tr>\n",
       "      <th>2</th>\n",
       "      <td>1750-03-01</td>\n",
       "      <td>5.626</td>\n",
       "      <td>3.076</td>\n",
       "      <td>NaN</td>\n",
       "      <td>NaN</td>\n",
       "      <td>NaN</td>\n",
       "      <td>NaN</td>\n",
       "      <td>NaN</td>\n",
       "      <td>NaN</td>\n",
       "      <td>1750</td>\n",
       "    </tr>\n",
       "    <tr>\n",
       "      <th>3</th>\n",
       "      <td>1750-04-01</td>\n",
       "      <td>8.490</td>\n",
       "      <td>2.451</td>\n",
       "      <td>NaN</td>\n",
       "      <td>NaN</td>\n",
       "      <td>NaN</td>\n",
       "      <td>NaN</td>\n",
       "      <td>NaN</td>\n",
       "      <td>NaN</td>\n",
       "      <td>1750</td>\n",
       "    </tr>\n",
       "    <tr>\n",
       "      <th>4</th>\n",
       "      <td>1750-05-01</td>\n",
       "      <td>11.573</td>\n",
       "      <td>2.072</td>\n",
       "      <td>NaN</td>\n",
       "      <td>NaN</td>\n",
       "      <td>NaN</td>\n",
       "      <td>NaN</td>\n",
       "      <td>NaN</td>\n",
       "      <td>NaN</td>\n",
       "      <td>1750</td>\n",
       "    </tr>\n",
       "  </tbody>\n",
       "</table>\n",
       "</div>"
      ],
      "text/plain": [
       "           dt  LandAverageTemperature  LandAverageTemperatureUncertainty  \\\n",
       "0  1750-01-01                   3.034                              3.574   \n",
       "1  1750-02-01                   3.083                              3.702   \n",
       "2  1750-03-01                   5.626                              3.076   \n",
       "3  1750-04-01                   8.490                              2.451   \n",
       "4  1750-05-01                  11.573                              2.072   \n",
       "\n",
       "   LandMaxTemperature  LandMaxTemperatureUncertainty  LandMinTemperature  \\\n",
       "0                 NaN                            NaN                 NaN   \n",
       "1                 NaN                            NaN                 NaN   \n",
       "2                 NaN                            NaN                 NaN   \n",
       "3                 NaN                            NaN                 NaN   \n",
       "4                 NaN                            NaN                 NaN   \n",
       "\n",
       "   LandMinTemperatureUncertainty  LandAndOceanAverageTemperature  \\\n",
       "0                            NaN                             NaN   \n",
       "1                            NaN                             NaN   \n",
       "2                            NaN                             NaN   \n",
       "3                            NaN                             NaN   \n",
       "4                            NaN                             NaN   \n",
       "\n",
       "   LandAndOceanAverageTemperatureUncertainty years  \n",
       "0                                        NaN  1750  \n",
       "1                                        NaN  1750  \n",
       "2                                        NaN  1750  \n",
       "3                                        NaN  1750  \n",
       "4                                        NaN  1750  "
      ]
     },
     "execution_count": 24,
     "metadata": {},
     "output_type": "execute_result"
    }
   ],
   "source": [
    "global_temp.head()"
   ]
  },
  {
   "cell_type": "code",
   "execution_count": 25,
   "id": "ee3f5118",
   "metadata": {},
   "outputs": [
    {
     "data": {
      "text/html": [
       "<div>\n",
       "<style scoped>\n",
       "    .dataframe tbody tr th:only-of-type {\n",
       "        vertical-align: middle;\n",
       "    }\n",
       "\n",
       "    .dataframe tbody tr th {\n",
       "        vertical-align: top;\n",
       "    }\n",
       "\n",
       "    .dataframe thead th {\n",
       "        text-align: right;\n",
       "    }\n",
       "</style>\n",
       "<table border=\"1\" class=\"dataframe\">\n",
       "  <thead>\n",
       "    <tr style=\"text-align: right;\">\n",
       "      <th></th>\n",
       "      <th>years</th>\n",
       "      <th>LandAverageTemperature</th>\n",
       "      <th>LandAverageTemperatureUncertainty</th>\n",
       "    </tr>\n",
       "  </thead>\n",
       "  <tbody>\n",
       "    <tr>\n",
       "      <th>0</th>\n",
       "      <td>1750</td>\n",
       "      <td>8.719364</td>\n",
       "      <td>2.637818</td>\n",
       "    </tr>\n",
       "    <tr>\n",
       "      <th>1</th>\n",
       "      <td>1751</td>\n",
       "      <td>7.976143</td>\n",
       "      <td>2.781143</td>\n",
       "    </tr>\n",
       "    <tr>\n",
       "      <th>2</th>\n",
       "      <td>1752</td>\n",
       "      <td>5.779833</td>\n",
       "      <td>2.977000</td>\n",
       "    </tr>\n",
       "    <tr>\n",
       "      <th>3</th>\n",
       "      <td>1753</td>\n",
       "      <td>8.388083</td>\n",
       "      <td>3.176000</td>\n",
       "    </tr>\n",
       "    <tr>\n",
       "      <th>4</th>\n",
       "      <td>1754</td>\n",
       "      <td>8.469333</td>\n",
       "      <td>3.494250</td>\n",
       "    </tr>\n",
       "  </tbody>\n",
       "</table>\n",
       "</div>"
      ],
      "text/plain": [
       "  years  LandAverageTemperature  LandAverageTemperatureUncertainty\n",
       "0  1750                8.719364                           2.637818\n",
       "1  1751                7.976143                           2.781143\n",
       "2  1752                5.779833                           2.977000\n",
       "3  1753                8.388083                           3.176000\n",
       "4  1754                8.469333                           3.494250"
      ]
     },
     "execution_count": 25,
     "metadata": {},
     "output_type": "execute_result"
    }
   ],
   "source": [
    "# Grouping the data by years and aggregating 2 columns that we want to work on\n",
    "data = global_temp.groupby('years').agg({'LandAverageTemperature':'mean',\n",
    "                                  'LandAverageTemperatureUncertainty':'mean'}).reset_index()\n",
    "data.head()"
   ]
  },
  {
   "cell_type": "code",
   "execution_count": 26,
   "id": "cf0293bd",
   "metadata": {},
   "outputs": [],
   "source": [
    "data['Uncertainity Top'] = data['LandAverageTemperature'] + \\\n",
    "    data['LandAverageTemperatureUncertainty']\n",
    "\n",
    "data['Uncertainity Bottom'] = data['LandAverageTemperature'] - \\\n",
    "    data['LandAverageTemperatureUncertainty']"
   ]
  },
  {
   "cell_type": "code",
   "execution_count": 27,
   "id": "899cca68",
   "metadata": {},
   "outputs": [
    {
     "data": {
      "text/html": [
       "<div>\n",
       "<style scoped>\n",
       "    .dataframe tbody tr th:only-of-type {\n",
       "        vertical-align: middle;\n",
       "    }\n",
       "\n",
       "    .dataframe tbody tr th {\n",
       "        vertical-align: top;\n",
       "    }\n",
       "\n",
       "    .dataframe thead th {\n",
       "        text-align: right;\n",
       "    }\n",
       "</style>\n",
       "<table border=\"1\" class=\"dataframe\">\n",
       "  <thead>\n",
       "    <tr style=\"text-align: right;\">\n",
       "      <th></th>\n",
       "      <th>years</th>\n",
       "      <th>LandAverageTemperature</th>\n",
       "      <th>LandAverageTemperatureUncertainty</th>\n",
       "      <th>Uncertainity Top</th>\n",
       "      <th>Uncertainity Bottom</th>\n",
       "    </tr>\n",
       "  </thead>\n",
       "  <tbody>\n",
       "    <tr>\n",
       "      <th>0</th>\n",
       "      <td>1750</td>\n",
       "      <td>8.719364</td>\n",
       "      <td>2.637818</td>\n",
       "      <td>11.357182</td>\n",
       "      <td>6.081545</td>\n",
       "    </tr>\n",
       "    <tr>\n",
       "      <th>1</th>\n",
       "      <td>1751</td>\n",
       "      <td>7.976143</td>\n",
       "      <td>2.781143</td>\n",
       "      <td>10.757286</td>\n",
       "      <td>5.195000</td>\n",
       "    </tr>\n",
       "    <tr>\n",
       "      <th>2</th>\n",
       "      <td>1752</td>\n",
       "      <td>5.779833</td>\n",
       "      <td>2.977000</td>\n",
       "      <td>8.756833</td>\n",
       "      <td>2.802833</td>\n",
       "    </tr>\n",
       "    <tr>\n",
       "      <th>3</th>\n",
       "      <td>1753</td>\n",
       "      <td>8.388083</td>\n",
       "      <td>3.176000</td>\n",
       "      <td>11.564083</td>\n",
       "      <td>5.212083</td>\n",
       "    </tr>\n",
       "    <tr>\n",
       "      <th>4</th>\n",
       "      <td>1754</td>\n",
       "      <td>8.469333</td>\n",
       "      <td>3.494250</td>\n",
       "      <td>11.963583</td>\n",
       "      <td>4.975083</td>\n",
       "    </tr>\n",
       "  </tbody>\n",
       "</table>\n",
       "</div>"
      ],
      "text/plain": [
       "  years  LandAverageTemperature  LandAverageTemperatureUncertainty  \\\n",
       "0  1750                8.719364                           2.637818   \n",
       "1  1751                7.976143                           2.781143   \n",
       "2  1752                5.779833                           2.977000   \n",
       "3  1753                8.388083                           3.176000   \n",
       "4  1754                8.469333                           3.494250   \n",
       "\n",
       "   Uncertainity Top  Uncertainity Bottom  \n",
       "0         11.357182             6.081545  \n",
       "1         10.757286             5.195000  \n",
       "2          8.756833             2.802833  \n",
       "3         11.564083             5.212083  \n",
       "4         11.963583             4.975083  "
      ]
     },
     "execution_count": 27,
     "metadata": {},
     "output_type": "execute_result"
    }
   ],
   "source": [
    "data.head()"
   ]
  },
  {
   "cell_type": "code",
   "execution_count": 28,
   "id": "0b32885e",
   "metadata": {},
   "outputs": [
    {
     "data": {
      "text/plain": [
       "Index(['years', 'LandAverageTemperature', 'LandAverageTemperatureUncertainty',\n",
       "       'Uncertainity Top', 'Uncertainity Bottom'],\n",
       "      dtype='object')"
      ]
     },
     "execution_count": 28,
     "metadata": {},
     "output_type": "execute_result"
    }
   ],
   "source": [
    "data.columns"
   ]
  },
  {
   "cell_type": "code",
   "execution_count": 80,
   "id": "cf378bf6",
   "metadata": {},
   "outputs": [
    {
     "data": {
      "application/vnd.plotly.v1+json": {
       "config": {
        "plotlyServerURL": "https://plot.ly"
       },
       "data": [
        {
         "hovertemplate": "variable=LandAverageTemperature<br>years=%{x}<br>value=%{y}<extra></extra>",
         "legendgroup": "LandAverageTemperature",
         "line": {
          "color": "#636efa",
          "dash": "solid"
         },
         "marker": {
          "symbol": "circle"
         },
         "mode": "lines",
         "name": "LandAverageTemperature",
         "orientation": "v",
         "showlegend": true,
         "type": "scatter",
         "x": [
          "1750",
          "1751",
          "1752",
          "1753",
          "1754",
          "1755",
          "1756",
          "1757",
          "1758",
          "1759",
          "1760",
          "1761",
          "1762",
          "1763",
          "1764",
          "1765",
          "1766",
          "1767",
          "1768",
          "1769",
          "1770",
          "1771",
          "1772",
          "1773",
          "1774",
          "1775",
          "1776",
          "1777",
          "1778",
          "1779",
          "1780",
          "1781",
          "1782",
          "1783",
          "1784",
          "1785",
          "1786",
          "1787",
          "1788",
          "1789",
          "1790",
          "1791",
          "1792",
          "1793",
          "1794",
          "1795",
          "1796",
          "1797",
          "1798",
          "1799",
          "1800",
          "1801",
          "1802",
          "1803",
          "1804",
          "1805",
          "1806",
          "1807",
          "1808",
          "1809",
          "1810",
          "1811",
          "1812",
          "1813",
          "1814",
          "1815",
          "1816",
          "1817",
          "1818",
          "1819",
          "1820",
          "1821",
          "1822",
          "1823",
          "1824",
          "1825",
          "1826",
          "1827",
          "1828",
          "1829",
          "1830",
          "1831",
          "1832",
          "1833",
          "1834",
          "1835",
          "1836",
          "1837",
          "1838",
          "1839",
          "1840",
          "1841",
          "1842",
          "1843",
          "1844",
          "1845",
          "1846",
          "1847",
          "1848",
          "1849",
          "1850",
          "1851",
          "1852",
          "1853",
          "1854",
          "1855",
          "1856",
          "1857",
          "1858",
          "1859",
          "1860",
          "1861",
          "1862",
          "1863",
          "1864",
          "1865",
          "1866",
          "1867",
          "1868",
          "1869",
          "1870",
          "1871",
          "1872",
          "1873",
          "1874",
          "1875",
          "1876",
          "1877",
          "1878",
          "1879",
          "1880",
          "1881",
          "1882",
          "1883",
          "1884",
          "1885",
          "1886",
          "1887",
          "1888",
          "1889",
          "1890",
          "1891",
          "1892",
          "1893",
          "1894",
          "1895",
          "1896",
          "1897",
          "1898",
          "1899",
          "1900",
          "1901",
          "1902",
          "1903",
          "1904",
          "1905",
          "1906",
          "1907",
          "1908",
          "1909",
          "1910",
          "1911",
          "1912",
          "1913",
          "1914",
          "1915",
          "1916",
          "1917",
          "1918",
          "1919",
          "1920",
          "1921",
          "1922",
          "1923",
          "1924",
          "1925",
          "1926",
          "1927",
          "1928",
          "1929",
          "1930",
          "1931",
          "1932",
          "1933",
          "1934",
          "1935",
          "1936",
          "1937",
          "1938",
          "1939",
          "1940",
          "1941",
          "1942",
          "1943",
          "1944",
          "1945",
          "1946",
          "1947",
          "1948",
          "1949",
          "1950",
          "1951",
          "1952",
          "1953",
          "1954",
          "1955",
          "1956",
          "1957",
          "1958",
          "1959",
          "1960",
          "1961",
          "1962",
          "1963",
          "1964",
          "1965",
          "1966",
          "1967",
          "1968",
          "1969",
          "1970",
          "1971",
          "1972",
          "1973",
          "1974",
          "1975",
          "1976",
          "1977",
          "1978",
          "1979",
          "1980",
          "1981",
          "1982",
          "1983",
          "1984",
          "1985",
          "1986",
          "1987",
          "1988",
          "1989",
          "1990",
          "1991",
          "1992",
          "1993",
          "1994",
          "1995",
          "1996",
          "1997",
          "1998",
          "1999",
          "2000",
          "2001",
          "2002",
          "2003",
          "2004",
          "2005",
          "2006",
          "2007",
          "2008",
          "2009",
          "2010",
          "2011",
          "2012",
          "2013",
          "2014",
          "2015"
         ],
         "xaxis": "x",
         "y": [
          8.719363636363637,
          7.9761428571428565,
          5.779833333333333,
          8.388083333333332,
          8.469333333333333,
          8.355583333333334,
          8.849583333333333,
          9.022,
          6.7435833333333335,
          7.985083333333333,
          7.1851666666666665,
          8.772499999999999,
          8.6065,
          7.49675,
          8.400333333333334,
          8.251916666666666,
          8.405666666666667,
          8.2215,
          6.781333333333333,
          7.694583333333333,
          7.691916666666667,
          7.853166666666667,
          8.1935,
          8.2215,
          8.772166666666667,
          9.183083333333334,
          8.304,
          8.25625,
          8.542250000000001,
          8.98325,
          9.432916666666666,
          8.102583333333333,
          7.90125,
          7.680833333333333,
          7.861999999999999,
          7.3629999999999995,
          8.258166666666666,
          8.031833333333333,
          8.447166666666666,
          8.334166666666667,
          7.982333333333333,
          8.234250000000001,
          8.089,
          8.229166666666666,
          8.526000000000002,
          8.350333333333333,
          8.270999999999999,
          8.510583333333333,
          8.670250000000001,
          8.50575,
          8.484250000000001,
          8.589666666666666,
          8.578166666666666,
          8.503,
          8.844833333333332,
          8.56275,
          8.434083333333334,
          8.281416666666667,
          7.626833333333333,
          7.076416666666667,
          6.922666666666667,
          6.859500000000001,
          7.04625,
          7.739916666666667,
          7.59175,
          7.239333333333334,
          6.9375,
          6.975666666666666,
          7.828916666666667,
          7.369166666666666,
          7.61625,
          8.090083333333334,
          8.188333333333334,
          7.718666666666667,
          8.547166666666667,
          8.389333333333333,
          8.356583333333333,
          8.80875,
          8.165333333333333,
          7.941833333333332,
          8.51675,
          7.639166666666667,
          7.450166666666667,
          8.013,
          8.146749999999999,
          7.392499999999999,
          7.695833333333334,
          7.375666666666667,
          7.514916666666667,
          7.63225,
          7.796250000000001,
          7.688166666666667,
          8.02275,
          8.173666666666668,
          7.646333333333334,
          7.851166666666667,
          8.55275,
          8.086,
          7.979499999999999,
          7.984416666666667,
          7.900666666666667,
          8.178583333333334,
          8.100166666666667,
          8.041833333333333,
          8.2105,
          8.11075,
          7.995916666666666,
          7.758166666666667,
          8.10025,
          8.252,
          7.960833333333333,
          7.8465,
          7.558583333333334,
          8.111833333333333,
          7.983583333333333,
          8.177833333333334,
          8.292166666666667,
          8.436333333333334,
          8.247916666666667,
          8.432083333333333,
          8.201333333333332,
          8.115083333333333,
          8.193833333333332,
          8.351083333333333,
          8.4335,
          7.859583333333333,
          8.080083333333333,
          8.539583333333333,
          8.829749999999999,
          8.165833333333333,
          8.11875,
          8.270916666666666,
          8.128916666666667,
          7.976916666666667,
          7.773666666666666,
          7.919666666666667,
          7.9545,
          7.914916666666667,
          8.0905,
          8.319,
          7.971666666666667,
          8.019333333333334,
          8.065833333333332,
          8.05675,
          8.161,
          8.147,
          8.214916666666667,
          8.293333333333333,
          8.177999999999999,
          8.396333333333333,
          8.501583333333334,
          8.541916666666667,
          8.304416666666667,
          8.220166666666666,
          8.090916666666667,
          8.225166666666667,
          8.379083333333332,
          7.947166666666667,
          8.186083333333334,
          8.17825,
          8.223,
          8.177,
          8.165416666666667,
          8.29775,
          8.5905,
          8.593166666666667,
          8.22525,
          8.023333333333333,
          8.130833333333333,
          8.38225,
          8.358749999999999,
          8.571,
          8.408,
          8.422166666666667,
          8.506833333333335,
          8.534416666666667,
          8.728833333333332,
          8.522083333333333,
          8.632166666666667,
          8.242416666666667,
          8.633583333333332,
          8.71925,
          8.70525,
          8.33825,
          8.628333333333334,
          8.51575,
          8.554,
          8.698333333333332,
          8.863666666666667,
          8.760333333333334,
          8.764666666666667,
          8.768666666666666,
          8.728416666666666,
          8.755083333333333,
          8.845,
          8.584833333333334,
          8.676916666666667,
          8.797083333333333,
          8.74675,
          8.58675,
          8.365250000000001,
          8.625666666666667,
          8.638250000000001,
          8.87375,
          8.560666666666666,
          8.62625,
          8.279583333333333,
          8.7325,
          8.77375,
          8.732666666666667,
          8.58375,
          8.797666666666666,
          8.745916666666666,
          8.856,
          8.409666666666666,
          8.527416666666666,
          8.599333333333332,
          8.700083333333334,
          8.516333333333334,
          8.595083333333333,
          8.700916666666666,
          8.59925,
          8.499583333333334,
          8.94825,
          8.4675,
          8.744833333333334,
          8.34725,
          8.85025,
          8.69275,
          8.733416666666667,
          8.980333333333332,
          9.165833333333333,
          8.639166666666666,
          9.028166666666666,
          8.691833333333333,
          8.658,
          8.833583333333333,
          8.994416666666666,
          9.201583333333334,
          8.921999999999999,
          9.234166666666667,
          9.179416666666667,
          8.836583333333333,
          8.866583333333333,
          9.03875,
          9.347083333333334,
          9.038916666666667,
          9.202583333333333,
          9.522666666666668,
          9.285083333333334,
          9.201166666666667,
          9.414583333333333,
          9.570416666666667,
          9.525583333333334,
          9.324583333333333,
          9.700916666666666,
          9.5325,
          9.732166666666666,
          9.43175,
          9.50525,
          9.703083333333334,
          9.516,
          9.507333333333333,
          9.6065,
          9.570666666666666,
          9.831
         ],
         "yaxis": "y"
        }
       ],
       "layout": {
        "height": 450,
        "legend": {
         "title": {
          "text": "variable"
         },
         "tracegroupgap": 0
        },
        "template": {
         "data": {
          "bar": [
           {
            "error_x": {
             "color": "#2a3f5f"
            },
            "error_y": {
             "color": "#2a3f5f"
            },
            "marker": {
             "line": {
              "color": "#E5ECF6",
              "width": 0.5
             },
             "pattern": {
              "fillmode": "overlay",
              "size": 10,
              "solidity": 0.2
             }
            },
            "type": "bar"
           }
          ],
          "barpolar": [
           {
            "marker": {
             "line": {
              "color": "#E5ECF6",
              "width": 0.5
             },
             "pattern": {
              "fillmode": "overlay",
              "size": 10,
              "solidity": 0.2
             }
            },
            "type": "barpolar"
           }
          ],
          "carpet": [
           {
            "aaxis": {
             "endlinecolor": "#2a3f5f",
             "gridcolor": "white",
             "linecolor": "white",
             "minorgridcolor": "white",
             "startlinecolor": "#2a3f5f"
            },
            "baxis": {
             "endlinecolor": "#2a3f5f",
             "gridcolor": "white",
             "linecolor": "white",
             "minorgridcolor": "white",
             "startlinecolor": "#2a3f5f"
            },
            "type": "carpet"
           }
          ],
          "choropleth": [
           {
            "colorbar": {
             "outlinewidth": 0,
             "ticks": ""
            },
            "type": "choropleth"
           }
          ],
          "contour": [
           {
            "colorbar": {
             "outlinewidth": 0,
             "ticks": ""
            },
            "colorscale": [
             [
              0,
              "#0d0887"
             ],
             [
              0.1111111111111111,
              "#46039f"
             ],
             [
              0.2222222222222222,
              "#7201a8"
             ],
             [
              0.3333333333333333,
              "#9c179e"
             ],
             [
              0.4444444444444444,
              "#bd3786"
             ],
             [
              0.5555555555555556,
              "#d8576b"
             ],
             [
              0.6666666666666666,
              "#ed7953"
             ],
             [
              0.7777777777777778,
              "#fb9f3a"
             ],
             [
              0.8888888888888888,
              "#fdca26"
             ],
             [
              1,
              "#f0f921"
             ]
            ],
            "type": "contour"
           }
          ],
          "contourcarpet": [
           {
            "colorbar": {
             "outlinewidth": 0,
             "ticks": ""
            },
            "type": "contourcarpet"
           }
          ],
          "heatmap": [
           {
            "colorbar": {
             "outlinewidth": 0,
             "ticks": ""
            },
            "colorscale": [
             [
              0,
              "#0d0887"
             ],
             [
              0.1111111111111111,
              "#46039f"
             ],
             [
              0.2222222222222222,
              "#7201a8"
             ],
             [
              0.3333333333333333,
              "#9c179e"
             ],
             [
              0.4444444444444444,
              "#bd3786"
             ],
             [
              0.5555555555555556,
              "#d8576b"
             ],
             [
              0.6666666666666666,
              "#ed7953"
             ],
             [
              0.7777777777777778,
              "#fb9f3a"
             ],
             [
              0.8888888888888888,
              "#fdca26"
             ],
             [
              1,
              "#f0f921"
             ]
            ],
            "type": "heatmap"
           }
          ],
          "heatmapgl": [
           {
            "colorbar": {
             "outlinewidth": 0,
             "ticks": ""
            },
            "colorscale": [
             [
              0,
              "#0d0887"
             ],
             [
              0.1111111111111111,
              "#46039f"
             ],
             [
              0.2222222222222222,
              "#7201a8"
             ],
             [
              0.3333333333333333,
              "#9c179e"
             ],
             [
              0.4444444444444444,
              "#bd3786"
             ],
             [
              0.5555555555555556,
              "#d8576b"
             ],
             [
              0.6666666666666666,
              "#ed7953"
             ],
             [
              0.7777777777777778,
              "#fb9f3a"
             ],
             [
              0.8888888888888888,
              "#fdca26"
             ],
             [
              1,
              "#f0f921"
             ]
            ],
            "type": "heatmapgl"
           }
          ],
          "histogram": [
           {
            "marker": {
             "pattern": {
              "fillmode": "overlay",
              "size": 10,
              "solidity": 0.2
             }
            },
            "type": "histogram"
           }
          ],
          "histogram2d": [
           {
            "colorbar": {
             "outlinewidth": 0,
             "ticks": ""
            },
            "colorscale": [
             [
              0,
              "#0d0887"
             ],
             [
              0.1111111111111111,
              "#46039f"
             ],
             [
              0.2222222222222222,
              "#7201a8"
             ],
             [
              0.3333333333333333,
              "#9c179e"
             ],
             [
              0.4444444444444444,
              "#bd3786"
             ],
             [
              0.5555555555555556,
              "#d8576b"
             ],
             [
              0.6666666666666666,
              "#ed7953"
             ],
             [
              0.7777777777777778,
              "#fb9f3a"
             ],
             [
              0.8888888888888888,
              "#fdca26"
             ],
             [
              1,
              "#f0f921"
             ]
            ],
            "type": "histogram2d"
           }
          ],
          "histogram2dcontour": [
           {
            "colorbar": {
             "outlinewidth": 0,
             "ticks": ""
            },
            "colorscale": [
             [
              0,
              "#0d0887"
             ],
             [
              0.1111111111111111,
              "#46039f"
             ],
             [
              0.2222222222222222,
              "#7201a8"
             ],
             [
              0.3333333333333333,
              "#9c179e"
             ],
             [
              0.4444444444444444,
              "#bd3786"
             ],
             [
              0.5555555555555556,
              "#d8576b"
             ],
             [
              0.6666666666666666,
              "#ed7953"
             ],
             [
              0.7777777777777778,
              "#fb9f3a"
             ],
             [
              0.8888888888888888,
              "#fdca26"
             ],
             [
              1,
              "#f0f921"
             ]
            ],
            "type": "histogram2dcontour"
           }
          ],
          "mesh3d": [
           {
            "colorbar": {
             "outlinewidth": 0,
             "ticks": ""
            },
            "type": "mesh3d"
           }
          ],
          "parcoords": [
           {
            "line": {
             "colorbar": {
              "outlinewidth": 0,
              "ticks": ""
             }
            },
            "type": "parcoords"
           }
          ],
          "pie": [
           {
            "automargin": true,
            "type": "pie"
           }
          ],
          "scatter": [
           {
            "fillpattern": {
             "fillmode": "overlay",
             "size": 10,
             "solidity": 0.2
            },
            "type": "scatter"
           }
          ],
          "scatter3d": [
           {
            "line": {
             "colorbar": {
              "outlinewidth": 0,
              "ticks": ""
             }
            },
            "marker": {
             "colorbar": {
              "outlinewidth": 0,
              "ticks": ""
             }
            },
            "type": "scatter3d"
           }
          ],
          "scattercarpet": [
           {
            "marker": {
             "colorbar": {
              "outlinewidth": 0,
              "ticks": ""
             }
            },
            "type": "scattercarpet"
           }
          ],
          "scattergeo": [
           {
            "marker": {
             "colorbar": {
              "outlinewidth": 0,
              "ticks": ""
             }
            },
            "type": "scattergeo"
           }
          ],
          "scattergl": [
           {
            "marker": {
             "colorbar": {
              "outlinewidth": 0,
              "ticks": ""
             }
            },
            "type": "scattergl"
           }
          ],
          "scattermapbox": [
           {
            "marker": {
             "colorbar": {
              "outlinewidth": 0,
              "ticks": ""
             }
            },
            "type": "scattermapbox"
           }
          ],
          "scatterpolar": [
           {
            "marker": {
             "colorbar": {
              "outlinewidth": 0,
              "ticks": ""
             }
            },
            "type": "scatterpolar"
           }
          ],
          "scatterpolargl": [
           {
            "marker": {
             "colorbar": {
              "outlinewidth": 0,
              "ticks": ""
             }
            },
            "type": "scatterpolargl"
           }
          ],
          "scatterternary": [
           {
            "marker": {
             "colorbar": {
              "outlinewidth": 0,
              "ticks": ""
             }
            },
            "type": "scatterternary"
           }
          ],
          "surface": [
           {
            "colorbar": {
             "outlinewidth": 0,
             "ticks": ""
            },
            "colorscale": [
             [
              0,
              "#0d0887"
             ],
             [
              0.1111111111111111,
              "#46039f"
             ],
             [
              0.2222222222222222,
              "#7201a8"
             ],
             [
              0.3333333333333333,
              "#9c179e"
             ],
             [
              0.4444444444444444,
              "#bd3786"
             ],
             [
              0.5555555555555556,
              "#d8576b"
             ],
             [
              0.6666666666666666,
              "#ed7953"
             ],
             [
              0.7777777777777778,
              "#fb9f3a"
             ],
             [
              0.8888888888888888,
              "#fdca26"
             ],
             [
              1,
              "#f0f921"
             ]
            ],
            "type": "surface"
           }
          ],
          "table": [
           {
            "cells": {
             "fill": {
              "color": "#EBF0F8"
             },
             "line": {
              "color": "white"
             }
            },
            "header": {
             "fill": {
              "color": "#C8D4E3"
             },
             "line": {
              "color": "white"
             }
            },
            "type": "table"
           }
          ]
         },
         "layout": {
          "annotationdefaults": {
           "arrowcolor": "#2a3f5f",
           "arrowhead": 0,
           "arrowwidth": 1
          },
          "autotypenumbers": "strict",
          "coloraxis": {
           "colorbar": {
            "outlinewidth": 0,
            "ticks": ""
           }
          },
          "colorscale": {
           "diverging": [
            [
             0,
             "#8e0152"
            ],
            [
             0.1,
             "#c51b7d"
            ],
            [
             0.2,
             "#de77ae"
            ],
            [
             0.3,
             "#f1b6da"
            ],
            [
             0.4,
             "#fde0ef"
            ],
            [
             0.5,
             "#f7f7f7"
            ],
            [
             0.6,
             "#e6f5d0"
            ],
            [
             0.7,
             "#b8e186"
            ],
            [
             0.8,
             "#7fbc41"
            ],
            [
             0.9,
             "#4d9221"
            ],
            [
             1,
             "#276419"
            ]
           ],
           "sequential": [
            [
             0,
             "#0d0887"
            ],
            [
             0.1111111111111111,
             "#46039f"
            ],
            [
             0.2222222222222222,
             "#7201a8"
            ],
            [
             0.3333333333333333,
             "#9c179e"
            ],
            [
             0.4444444444444444,
             "#bd3786"
            ],
            [
             0.5555555555555556,
             "#d8576b"
            ],
            [
             0.6666666666666666,
             "#ed7953"
            ],
            [
             0.7777777777777778,
             "#fb9f3a"
            ],
            [
             0.8888888888888888,
             "#fdca26"
            ],
            [
             1,
             "#f0f921"
            ]
           ],
           "sequentialminus": [
            [
             0,
             "#0d0887"
            ],
            [
             0.1111111111111111,
             "#46039f"
            ],
            [
             0.2222222222222222,
             "#7201a8"
            ],
            [
             0.3333333333333333,
             "#9c179e"
            ],
            [
             0.4444444444444444,
             "#bd3786"
            ],
            [
             0.5555555555555556,
             "#d8576b"
            ],
            [
             0.6666666666666666,
             "#ed7953"
            ],
            [
             0.7777777777777778,
             "#fb9f3a"
            ],
            [
             0.8888888888888888,
             "#fdca26"
            ],
            [
             1,
             "#f0f921"
            ]
           ]
          },
          "colorway": [
           "#636efa",
           "#EF553B",
           "#00cc96",
           "#ab63fa",
           "#FFA15A",
           "#19d3f3",
           "#FF6692",
           "#B6E880",
           "#FF97FF",
           "#FECB52"
          ],
          "font": {
           "color": "#2a3f5f"
          },
          "geo": {
           "bgcolor": "white",
           "lakecolor": "white",
           "landcolor": "#E5ECF6",
           "showlakes": true,
           "showland": true,
           "subunitcolor": "white"
          },
          "hoverlabel": {
           "align": "left"
          },
          "hovermode": "closest",
          "mapbox": {
           "style": "light"
          },
          "paper_bgcolor": "white",
          "plot_bgcolor": "#E5ECF6",
          "polar": {
           "angularaxis": {
            "gridcolor": "white",
            "linecolor": "white",
            "ticks": ""
           },
           "bgcolor": "#E5ECF6",
           "radialaxis": {
            "gridcolor": "white",
            "linecolor": "white",
            "ticks": ""
           }
          },
          "scene": {
           "xaxis": {
            "backgroundcolor": "#E5ECF6",
            "gridcolor": "white",
            "gridwidth": 2,
            "linecolor": "white",
            "showbackground": true,
            "ticks": "",
            "zerolinecolor": "white"
           },
           "yaxis": {
            "backgroundcolor": "#E5ECF6",
            "gridcolor": "white",
            "gridwidth": 2,
            "linecolor": "white",
            "showbackground": true,
            "ticks": "",
            "zerolinecolor": "white"
           },
           "zaxis": {
            "backgroundcolor": "#E5ECF6",
            "gridcolor": "white",
            "gridwidth": 2,
            "linecolor": "white",
            "showbackground": true,
            "ticks": "",
            "zerolinecolor": "white"
           }
          },
          "shapedefaults": {
           "line": {
            "color": "#2a3f5f"
           }
          },
          "ternary": {
           "aaxis": {
            "gridcolor": "white",
            "linecolor": "white",
            "ticks": ""
           },
           "baxis": {
            "gridcolor": "white",
            "linecolor": "white",
            "ticks": ""
           },
           "bgcolor": "#E5ECF6",
           "caxis": {
            "gridcolor": "white",
            "linecolor": "white",
            "ticks": ""
           }
          },
          "title": {
           "x": 0.05
          },
          "xaxis": {
           "automargin": true,
           "gridcolor": "white",
           "linecolor": "white",
           "ticks": "",
           "title": {
            "standoff": 15
           },
           "zerolinecolor": "white",
           "zerolinewidth": 2
          },
          "yaxis": {
           "automargin": true,
           "gridcolor": "white",
           "linecolor": "white",
           "ticks": "",
           "title": {
            "standoff": 15
           },
           "zerolinecolor": "white",
           "zerolinewidth": 2
          }
         }
        },
        "title": {
         "text": "Average Land Temperature in the World"
        },
        "width": 800,
        "xaxis": {
         "anchor": "y",
         "domain": [
          0,
          1
         ],
         "title": {
          "text": "years"
         }
        },
        "yaxis": {
         "anchor": "x",
         "domain": [
          0,
          1
         ],
         "title": {
          "text": "value"
         }
        }
       }
      },
      "text/html": [
       "<div>                            <div id=\"1594e43f-9402-4f12-b368-403454316ef2\" class=\"plotly-graph-div\" style=\"height:450px; width:800px;\"></div>            <script type=\"text/javascript\">                require([\"plotly\"], function(Plotly) {                    window.PLOTLYENV=window.PLOTLYENV || {};                                    if (document.getElementById(\"1594e43f-9402-4f12-b368-403454316ef2\")) {                    Plotly.newPlot(                        \"1594e43f-9402-4f12-b368-403454316ef2\",                        [{\"hovertemplate\":\"variable=LandAverageTemperature<br>years=%{x}<br>value=%{y}<extra></extra>\",\"legendgroup\":\"LandAverageTemperature\",\"line\":{\"color\":\"#636efa\",\"dash\":\"solid\"},\"marker\":{\"symbol\":\"circle\"},\"mode\":\"lines\",\"name\":\"LandAverageTemperature\",\"orientation\":\"v\",\"showlegend\":true,\"x\":[\"1750\",\"1751\",\"1752\",\"1753\",\"1754\",\"1755\",\"1756\",\"1757\",\"1758\",\"1759\",\"1760\",\"1761\",\"1762\",\"1763\",\"1764\",\"1765\",\"1766\",\"1767\",\"1768\",\"1769\",\"1770\",\"1771\",\"1772\",\"1773\",\"1774\",\"1775\",\"1776\",\"1777\",\"1778\",\"1779\",\"1780\",\"1781\",\"1782\",\"1783\",\"1784\",\"1785\",\"1786\",\"1787\",\"1788\",\"1789\",\"1790\",\"1791\",\"1792\",\"1793\",\"1794\",\"1795\",\"1796\",\"1797\",\"1798\",\"1799\",\"1800\",\"1801\",\"1802\",\"1803\",\"1804\",\"1805\",\"1806\",\"1807\",\"1808\",\"1809\",\"1810\",\"1811\",\"1812\",\"1813\",\"1814\",\"1815\",\"1816\",\"1817\",\"1818\",\"1819\",\"1820\",\"1821\",\"1822\",\"1823\",\"1824\",\"1825\",\"1826\",\"1827\",\"1828\",\"1829\",\"1830\",\"1831\",\"1832\",\"1833\",\"1834\",\"1835\",\"1836\",\"1837\",\"1838\",\"1839\",\"1840\",\"1841\",\"1842\",\"1843\",\"1844\",\"1845\",\"1846\",\"1847\",\"1848\",\"1849\",\"1850\",\"1851\",\"1852\",\"1853\",\"1854\",\"1855\",\"1856\",\"1857\",\"1858\",\"1859\",\"1860\",\"1861\",\"1862\",\"1863\",\"1864\",\"1865\",\"1866\",\"1867\",\"1868\",\"1869\",\"1870\",\"1871\",\"1872\",\"1873\",\"1874\",\"1875\",\"1876\",\"1877\",\"1878\",\"1879\",\"1880\",\"1881\",\"1882\",\"1883\",\"1884\",\"1885\",\"1886\",\"1887\",\"1888\",\"1889\",\"1890\",\"1891\",\"1892\",\"1893\",\"1894\",\"1895\",\"1896\",\"1897\",\"1898\",\"1899\",\"1900\",\"1901\",\"1902\",\"1903\",\"1904\",\"1905\",\"1906\",\"1907\",\"1908\",\"1909\",\"1910\",\"1911\",\"1912\",\"1913\",\"1914\",\"1915\",\"1916\",\"1917\",\"1918\",\"1919\",\"1920\",\"1921\",\"1922\",\"1923\",\"1924\",\"1925\",\"1926\",\"1927\",\"1928\",\"1929\",\"1930\",\"1931\",\"1932\",\"1933\",\"1934\",\"1935\",\"1936\",\"1937\",\"1938\",\"1939\",\"1940\",\"1941\",\"1942\",\"1943\",\"1944\",\"1945\",\"1946\",\"1947\",\"1948\",\"1949\",\"1950\",\"1951\",\"1952\",\"1953\",\"1954\",\"1955\",\"1956\",\"1957\",\"1958\",\"1959\",\"1960\",\"1961\",\"1962\",\"1963\",\"1964\",\"1965\",\"1966\",\"1967\",\"1968\",\"1969\",\"1970\",\"1971\",\"1972\",\"1973\",\"1974\",\"1975\",\"1976\",\"1977\",\"1978\",\"1979\",\"1980\",\"1981\",\"1982\",\"1983\",\"1984\",\"1985\",\"1986\",\"1987\",\"1988\",\"1989\",\"1990\",\"1991\",\"1992\",\"1993\",\"1994\",\"1995\",\"1996\",\"1997\",\"1998\",\"1999\",\"2000\",\"2001\",\"2002\",\"2003\",\"2004\",\"2005\",\"2006\",\"2007\",\"2008\",\"2009\",\"2010\",\"2011\",\"2012\",\"2013\",\"2014\",\"2015\"],\"xaxis\":\"x\",\"y\":[8.719363636363637,7.9761428571428565,5.779833333333333,8.388083333333332,8.469333333333333,8.355583333333334,8.849583333333333,9.022,6.7435833333333335,7.985083333333333,7.1851666666666665,8.772499999999999,8.6065,7.49675,8.400333333333334,8.251916666666666,8.405666666666667,8.2215,6.781333333333333,7.694583333333333,7.691916666666667,7.853166666666667,8.1935,8.2215,8.772166666666667,9.183083333333334,8.304,8.25625,8.542250000000001,8.98325,9.432916666666666,8.102583333333333,7.90125,7.680833333333333,7.861999999999999,7.3629999999999995,8.258166666666666,8.031833333333333,8.447166666666666,8.334166666666667,7.982333333333333,8.234250000000001,8.089,8.229166666666666,8.526000000000002,8.350333333333333,8.270999999999999,8.510583333333333,8.670250000000001,8.50575,8.484250000000001,8.589666666666666,8.578166666666666,8.503,8.844833333333332,8.56275,8.434083333333334,8.281416666666667,7.626833333333333,7.076416666666667,6.922666666666667,6.859500000000001,7.04625,7.739916666666667,7.59175,7.239333333333334,6.9375,6.975666666666666,7.828916666666667,7.369166666666666,7.61625,8.090083333333334,8.188333333333334,7.718666666666667,8.547166666666667,8.389333333333333,8.356583333333333,8.80875,8.165333333333333,7.941833333333332,8.51675,7.639166666666667,7.450166666666667,8.013,8.146749999999999,7.392499999999999,7.695833333333334,7.375666666666667,7.514916666666667,7.63225,7.796250000000001,7.688166666666667,8.02275,8.173666666666668,7.646333333333334,7.851166666666667,8.55275,8.086,7.979499999999999,7.984416666666667,7.900666666666667,8.178583333333334,8.100166666666667,8.041833333333333,8.2105,8.11075,7.995916666666666,7.758166666666667,8.10025,8.252,7.960833333333333,7.8465,7.558583333333334,8.111833333333333,7.983583333333333,8.177833333333334,8.292166666666667,8.436333333333334,8.247916666666667,8.432083333333333,8.201333333333332,8.115083333333333,8.193833333333332,8.351083333333333,8.4335,7.859583333333333,8.080083333333333,8.539583333333333,8.829749999999999,8.165833333333333,8.11875,8.270916666666666,8.128916666666667,7.976916666666667,7.773666666666666,7.919666666666667,7.9545,7.914916666666667,8.0905,8.319,7.971666666666667,8.019333333333334,8.065833333333332,8.05675,8.161,8.147,8.214916666666667,8.293333333333333,8.177999999999999,8.396333333333333,8.501583333333334,8.541916666666667,8.304416666666667,8.220166666666666,8.090916666666667,8.225166666666667,8.379083333333332,7.947166666666667,8.186083333333334,8.17825,8.223,8.177,8.165416666666667,8.29775,8.5905,8.593166666666667,8.22525,8.023333333333333,8.130833333333333,8.38225,8.358749999999999,8.571,8.408,8.422166666666667,8.506833333333335,8.534416666666667,8.728833333333332,8.522083333333333,8.632166666666667,8.242416666666667,8.633583333333332,8.71925,8.70525,8.33825,8.628333333333334,8.51575,8.554,8.698333333333332,8.863666666666667,8.760333333333334,8.764666666666667,8.768666666666666,8.728416666666666,8.755083333333333,8.845,8.584833333333334,8.676916666666667,8.797083333333333,8.74675,8.58675,8.365250000000001,8.625666666666667,8.638250000000001,8.87375,8.560666666666666,8.62625,8.279583333333333,8.7325,8.77375,8.732666666666667,8.58375,8.797666666666666,8.745916666666666,8.856,8.409666666666666,8.527416666666666,8.599333333333332,8.700083333333334,8.516333333333334,8.595083333333333,8.700916666666666,8.59925,8.499583333333334,8.94825,8.4675,8.744833333333334,8.34725,8.85025,8.69275,8.733416666666667,8.980333333333332,9.165833333333333,8.639166666666666,9.028166666666666,8.691833333333333,8.658,8.833583333333333,8.994416666666666,9.201583333333334,8.921999999999999,9.234166666666667,9.179416666666667,8.836583333333333,8.866583333333333,9.03875,9.347083333333334,9.038916666666667,9.202583333333333,9.522666666666668,9.285083333333334,9.201166666666667,9.414583333333333,9.570416666666667,9.525583333333334,9.324583333333333,9.700916666666666,9.5325,9.732166666666666,9.43175,9.50525,9.703083333333334,9.516,9.507333333333333,9.6065,9.570666666666666,9.831],\"yaxis\":\"y\",\"type\":\"scatter\"}],                        {\"template\":{\"data\":{\"histogram2dcontour\":[{\"type\":\"histogram2dcontour\",\"colorbar\":{\"outlinewidth\":0,\"ticks\":\"\"},\"colorscale\":[[0.0,\"#0d0887\"],[0.1111111111111111,\"#46039f\"],[0.2222222222222222,\"#7201a8\"],[0.3333333333333333,\"#9c179e\"],[0.4444444444444444,\"#bd3786\"],[0.5555555555555556,\"#d8576b\"],[0.6666666666666666,\"#ed7953\"],[0.7777777777777778,\"#fb9f3a\"],[0.8888888888888888,\"#fdca26\"],[1.0,\"#f0f921\"]]}],\"choropleth\":[{\"type\":\"choropleth\",\"colorbar\":{\"outlinewidth\":0,\"ticks\":\"\"}}],\"histogram2d\":[{\"type\":\"histogram2d\",\"colorbar\":{\"outlinewidth\":0,\"ticks\":\"\"},\"colorscale\":[[0.0,\"#0d0887\"],[0.1111111111111111,\"#46039f\"],[0.2222222222222222,\"#7201a8\"],[0.3333333333333333,\"#9c179e\"],[0.4444444444444444,\"#bd3786\"],[0.5555555555555556,\"#d8576b\"],[0.6666666666666666,\"#ed7953\"],[0.7777777777777778,\"#fb9f3a\"],[0.8888888888888888,\"#fdca26\"],[1.0,\"#f0f921\"]]}],\"heatmap\":[{\"type\":\"heatmap\",\"colorbar\":{\"outlinewidth\":0,\"ticks\":\"\"},\"colorscale\":[[0.0,\"#0d0887\"],[0.1111111111111111,\"#46039f\"],[0.2222222222222222,\"#7201a8\"],[0.3333333333333333,\"#9c179e\"],[0.4444444444444444,\"#bd3786\"],[0.5555555555555556,\"#d8576b\"],[0.6666666666666666,\"#ed7953\"],[0.7777777777777778,\"#fb9f3a\"],[0.8888888888888888,\"#fdca26\"],[1.0,\"#f0f921\"]]}],\"heatmapgl\":[{\"type\":\"heatmapgl\",\"colorbar\":{\"outlinewidth\":0,\"ticks\":\"\"},\"colorscale\":[[0.0,\"#0d0887\"],[0.1111111111111111,\"#46039f\"],[0.2222222222222222,\"#7201a8\"],[0.3333333333333333,\"#9c179e\"],[0.4444444444444444,\"#bd3786\"],[0.5555555555555556,\"#d8576b\"],[0.6666666666666666,\"#ed7953\"],[0.7777777777777778,\"#fb9f3a\"],[0.8888888888888888,\"#fdca26\"],[1.0,\"#f0f921\"]]}],\"contourcarpet\":[{\"type\":\"contourcarpet\",\"colorbar\":{\"outlinewidth\":0,\"ticks\":\"\"}}],\"contour\":[{\"type\":\"contour\",\"colorbar\":{\"outlinewidth\":0,\"ticks\":\"\"},\"colorscale\":[[0.0,\"#0d0887\"],[0.1111111111111111,\"#46039f\"],[0.2222222222222222,\"#7201a8\"],[0.3333333333333333,\"#9c179e\"],[0.4444444444444444,\"#bd3786\"],[0.5555555555555556,\"#d8576b\"],[0.6666666666666666,\"#ed7953\"],[0.7777777777777778,\"#fb9f3a\"],[0.8888888888888888,\"#fdca26\"],[1.0,\"#f0f921\"]]}],\"surface\":[{\"type\":\"surface\",\"colorbar\":{\"outlinewidth\":0,\"ticks\":\"\"},\"colorscale\":[[0.0,\"#0d0887\"],[0.1111111111111111,\"#46039f\"],[0.2222222222222222,\"#7201a8\"],[0.3333333333333333,\"#9c179e\"],[0.4444444444444444,\"#bd3786\"],[0.5555555555555556,\"#d8576b\"],[0.6666666666666666,\"#ed7953\"],[0.7777777777777778,\"#fb9f3a\"],[0.8888888888888888,\"#fdca26\"],[1.0,\"#f0f921\"]]}],\"mesh3d\":[{\"type\":\"mesh3d\",\"colorbar\":{\"outlinewidth\":0,\"ticks\":\"\"}}],\"scatter\":[{\"fillpattern\":{\"fillmode\":\"overlay\",\"size\":10,\"solidity\":0.2},\"type\":\"scatter\"}],\"parcoords\":[{\"type\":\"parcoords\",\"line\":{\"colorbar\":{\"outlinewidth\":0,\"ticks\":\"\"}}}],\"scatterpolargl\":[{\"type\":\"scatterpolargl\",\"marker\":{\"colorbar\":{\"outlinewidth\":0,\"ticks\":\"\"}}}],\"bar\":[{\"error_x\":{\"color\":\"#2a3f5f\"},\"error_y\":{\"color\":\"#2a3f5f\"},\"marker\":{\"line\":{\"color\":\"#E5ECF6\",\"width\":0.5},\"pattern\":{\"fillmode\":\"overlay\",\"size\":10,\"solidity\":0.2}},\"type\":\"bar\"}],\"scattergeo\":[{\"type\":\"scattergeo\",\"marker\":{\"colorbar\":{\"outlinewidth\":0,\"ticks\":\"\"}}}],\"scatterpolar\":[{\"type\":\"scatterpolar\",\"marker\":{\"colorbar\":{\"outlinewidth\":0,\"ticks\":\"\"}}}],\"histogram\":[{\"marker\":{\"pattern\":{\"fillmode\":\"overlay\",\"size\":10,\"solidity\":0.2}},\"type\":\"histogram\"}],\"scattergl\":[{\"type\":\"scattergl\",\"marker\":{\"colorbar\":{\"outlinewidth\":0,\"ticks\":\"\"}}}],\"scatter3d\":[{\"type\":\"scatter3d\",\"line\":{\"colorbar\":{\"outlinewidth\":0,\"ticks\":\"\"}},\"marker\":{\"colorbar\":{\"outlinewidth\":0,\"ticks\":\"\"}}}],\"scattermapbox\":[{\"type\":\"scattermapbox\",\"marker\":{\"colorbar\":{\"outlinewidth\":0,\"ticks\":\"\"}}}],\"scatterternary\":[{\"type\":\"scatterternary\",\"marker\":{\"colorbar\":{\"outlinewidth\":0,\"ticks\":\"\"}}}],\"scattercarpet\":[{\"type\":\"scattercarpet\",\"marker\":{\"colorbar\":{\"outlinewidth\":0,\"ticks\":\"\"}}}],\"carpet\":[{\"aaxis\":{\"endlinecolor\":\"#2a3f5f\",\"gridcolor\":\"white\",\"linecolor\":\"white\",\"minorgridcolor\":\"white\",\"startlinecolor\":\"#2a3f5f\"},\"baxis\":{\"endlinecolor\":\"#2a3f5f\",\"gridcolor\":\"white\",\"linecolor\":\"white\",\"minorgridcolor\":\"white\",\"startlinecolor\":\"#2a3f5f\"},\"type\":\"carpet\"}],\"table\":[{\"cells\":{\"fill\":{\"color\":\"#EBF0F8\"},\"line\":{\"color\":\"white\"}},\"header\":{\"fill\":{\"color\":\"#C8D4E3\"},\"line\":{\"color\":\"white\"}},\"type\":\"table\"}],\"barpolar\":[{\"marker\":{\"line\":{\"color\":\"#E5ECF6\",\"width\":0.5},\"pattern\":{\"fillmode\":\"overlay\",\"size\":10,\"solidity\":0.2}},\"type\":\"barpolar\"}],\"pie\":[{\"automargin\":true,\"type\":\"pie\"}]},\"layout\":{\"autotypenumbers\":\"strict\",\"colorway\":[\"#636efa\",\"#EF553B\",\"#00cc96\",\"#ab63fa\",\"#FFA15A\",\"#19d3f3\",\"#FF6692\",\"#B6E880\",\"#FF97FF\",\"#FECB52\"],\"font\":{\"color\":\"#2a3f5f\"},\"hovermode\":\"closest\",\"hoverlabel\":{\"align\":\"left\"},\"paper_bgcolor\":\"white\",\"plot_bgcolor\":\"#E5ECF6\",\"polar\":{\"bgcolor\":\"#E5ECF6\",\"angularaxis\":{\"gridcolor\":\"white\",\"linecolor\":\"white\",\"ticks\":\"\"},\"radialaxis\":{\"gridcolor\":\"white\",\"linecolor\":\"white\",\"ticks\":\"\"}},\"ternary\":{\"bgcolor\":\"#E5ECF6\",\"aaxis\":{\"gridcolor\":\"white\",\"linecolor\":\"white\",\"ticks\":\"\"},\"baxis\":{\"gridcolor\":\"white\",\"linecolor\":\"white\",\"ticks\":\"\"},\"caxis\":{\"gridcolor\":\"white\",\"linecolor\":\"white\",\"ticks\":\"\"}},\"coloraxis\":{\"colorbar\":{\"outlinewidth\":0,\"ticks\":\"\"}},\"colorscale\":{\"sequential\":[[0.0,\"#0d0887\"],[0.1111111111111111,\"#46039f\"],[0.2222222222222222,\"#7201a8\"],[0.3333333333333333,\"#9c179e\"],[0.4444444444444444,\"#bd3786\"],[0.5555555555555556,\"#d8576b\"],[0.6666666666666666,\"#ed7953\"],[0.7777777777777778,\"#fb9f3a\"],[0.8888888888888888,\"#fdca26\"],[1.0,\"#f0f921\"]],\"sequentialminus\":[[0.0,\"#0d0887\"],[0.1111111111111111,\"#46039f\"],[0.2222222222222222,\"#7201a8\"],[0.3333333333333333,\"#9c179e\"],[0.4444444444444444,\"#bd3786\"],[0.5555555555555556,\"#d8576b\"],[0.6666666666666666,\"#ed7953\"],[0.7777777777777778,\"#fb9f3a\"],[0.8888888888888888,\"#fdca26\"],[1.0,\"#f0f921\"]],\"diverging\":[[0,\"#8e0152\"],[0.1,\"#c51b7d\"],[0.2,\"#de77ae\"],[0.3,\"#f1b6da\"],[0.4,\"#fde0ef\"],[0.5,\"#f7f7f7\"],[0.6,\"#e6f5d0\"],[0.7,\"#b8e186\"],[0.8,\"#7fbc41\"],[0.9,\"#4d9221\"],[1,\"#276419\"]]},\"xaxis\":{\"gridcolor\":\"white\",\"linecolor\":\"white\",\"ticks\":\"\",\"title\":{\"standoff\":15},\"zerolinecolor\":\"white\",\"automargin\":true,\"zerolinewidth\":2},\"yaxis\":{\"gridcolor\":\"white\",\"linecolor\":\"white\",\"ticks\":\"\",\"title\":{\"standoff\":15},\"zerolinecolor\":\"white\",\"automargin\":true,\"zerolinewidth\":2},\"scene\":{\"xaxis\":{\"backgroundcolor\":\"#E5ECF6\",\"gridcolor\":\"white\",\"linecolor\":\"white\",\"showbackground\":true,\"ticks\":\"\",\"zerolinecolor\":\"white\",\"gridwidth\":2},\"yaxis\":{\"backgroundcolor\":\"#E5ECF6\",\"gridcolor\":\"white\",\"linecolor\":\"white\",\"showbackground\":true,\"ticks\":\"\",\"zerolinecolor\":\"white\",\"gridwidth\":2},\"zaxis\":{\"backgroundcolor\":\"#E5ECF6\",\"gridcolor\":\"white\",\"linecolor\":\"white\",\"showbackground\":true,\"ticks\":\"\",\"zerolinecolor\":\"white\",\"gridwidth\":2}},\"shapedefaults\":{\"line\":{\"color\":\"#2a3f5f\"}},\"annotationdefaults\":{\"arrowcolor\":\"#2a3f5f\",\"arrowhead\":0,\"arrowwidth\":1},\"geo\":{\"bgcolor\":\"white\",\"landcolor\":\"#E5ECF6\",\"subunitcolor\":\"white\",\"showland\":true,\"showlakes\":true,\"lakecolor\":\"white\"},\"title\":{\"x\":0.05},\"mapbox\":{\"style\":\"light\"}}},\"xaxis\":{\"anchor\":\"y\",\"domain\":[0.0,1.0],\"title\":{\"text\":\"years\"}},\"yaxis\":{\"anchor\":\"x\",\"domain\":[0.0,1.0],\"title\":{\"text\":\"value\"}},\"legend\":{\"title\":{\"text\":\"variable\"},\"tracegroupgap\":0},\"title\":{\"text\":\"Average Land Temperature in the World\"},\"height\":450,\"width\":800},                        {\"responsive\": true}                    ).then(function(){\n",
       "                            \n",
       "var gd = document.getElementById('1594e43f-9402-4f12-b368-403454316ef2');\n",
       "var x = new MutationObserver(function (mutations, observer) {{\n",
       "        var display = window.getComputedStyle(gd).display;\n",
       "        if (!display || display === 'none') {{\n",
       "            console.log([gd, 'removed!']);\n",
       "            Plotly.purge(gd);\n",
       "            observer.disconnect();\n",
       "        }}\n",
       "}});\n",
       "\n",
       "// Listen for the removal of the full notebook cells\n",
       "var notebookContainer = gd.closest('#notebook-container');\n",
       "if (notebookContainer) {{\n",
       "    x.observe(notebookContainer, {childList: true});\n",
       "}}\n",
       "\n",
       "// Listen for the clearing of the current output cell\n",
       "var outputEl = gd.closest('.output');\n",
       "if (outputEl) {{\n",
       "    x.observe(outputEl, {childList: true});\n",
       "}}\n",
       "\n",
       "                        })                };                });            </script>        </div>"
      ]
     },
     "metadata": {},
     "output_type": "display_data"
    }
   ],
   "source": [
    "px.line(\n",
    "    data_frame=data,\n",
    "    x='years',\n",
    "#    y=['LandAverageTemperature', 'Uncertainity Top', 'Uncertainity Bottom'],\n",
    "    y=['LandAverageTemperature'],    \n",
    "    render_mode='auto',\n",
    "    title='Average Land Temperature in the World',\n",
    "    width=800,\n",
    "    height=450,\n",
    ")"
   ]
  },
  {
   "cell_type": "markdown",
   "id": "b145ceb0",
   "metadata": {},
   "source": [
    "From the above plot, we can see that the LandAverageTemperature has gone up in the last 50 years or so. The upward trend looks like starting from around 1970 and shows a gradual increase in the temperature. Our analysis clearly shows that there is global warming in the world."
   ]
  },
  {
   "cell_type": "markdown",
   "id": "770d10e4",
   "metadata": {},
   "source": [
    "### Analysis of average temperature in each season"
   ]
  },
  {
   "cell_type": "code",
   "execution_count": 30,
   "id": "76483003",
   "metadata": {},
   "outputs": [
    {
     "data": {
      "text/html": [
       "<div>\n",
       "<style scoped>\n",
       "    .dataframe tbody tr th:only-of-type {\n",
       "        vertical-align: middle;\n",
       "    }\n",
       "\n",
       "    .dataframe tbody tr th {\n",
       "        vertical-align: top;\n",
       "    }\n",
       "\n",
       "    .dataframe thead th {\n",
       "        text-align: right;\n",
       "    }\n",
       "</style>\n",
       "<table border=\"1\" class=\"dataframe\">\n",
       "  <thead>\n",
       "    <tr style=\"text-align: right;\">\n",
       "      <th></th>\n",
       "      <th>dt</th>\n",
       "      <th>LandAverageTemperature</th>\n",
       "      <th>LandAverageTemperatureUncertainty</th>\n",
       "      <th>LandMaxTemperature</th>\n",
       "      <th>LandMaxTemperatureUncertainty</th>\n",
       "      <th>LandMinTemperature</th>\n",
       "      <th>LandMinTemperatureUncertainty</th>\n",
       "      <th>LandAndOceanAverageTemperature</th>\n",
       "      <th>LandAndOceanAverageTemperatureUncertainty</th>\n",
       "      <th>years</th>\n",
       "    </tr>\n",
       "  </thead>\n",
       "  <tbody>\n",
       "    <tr>\n",
       "      <th>0</th>\n",
       "      <td>1750-01-01</td>\n",
       "      <td>3.034</td>\n",
       "      <td>3.574</td>\n",
       "      <td>NaN</td>\n",
       "      <td>NaN</td>\n",
       "      <td>NaN</td>\n",
       "      <td>NaN</td>\n",
       "      <td>NaN</td>\n",
       "      <td>NaN</td>\n",
       "      <td>1750</td>\n",
       "    </tr>\n",
       "    <tr>\n",
       "      <th>1</th>\n",
       "      <td>1750-02-01</td>\n",
       "      <td>3.083</td>\n",
       "      <td>3.702</td>\n",
       "      <td>NaN</td>\n",
       "      <td>NaN</td>\n",
       "      <td>NaN</td>\n",
       "      <td>NaN</td>\n",
       "      <td>NaN</td>\n",
       "      <td>NaN</td>\n",
       "      <td>1750</td>\n",
       "    </tr>\n",
       "    <tr>\n",
       "      <th>2</th>\n",
       "      <td>1750-03-01</td>\n",
       "      <td>5.626</td>\n",
       "      <td>3.076</td>\n",
       "      <td>NaN</td>\n",
       "      <td>NaN</td>\n",
       "      <td>NaN</td>\n",
       "      <td>NaN</td>\n",
       "      <td>NaN</td>\n",
       "      <td>NaN</td>\n",
       "      <td>1750</td>\n",
       "    </tr>\n",
       "    <tr>\n",
       "      <th>3</th>\n",
       "      <td>1750-04-01</td>\n",
       "      <td>8.490</td>\n",
       "      <td>2.451</td>\n",
       "      <td>NaN</td>\n",
       "      <td>NaN</td>\n",
       "      <td>NaN</td>\n",
       "      <td>NaN</td>\n",
       "      <td>NaN</td>\n",
       "      <td>NaN</td>\n",
       "      <td>1750</td>\n",
       "    </tr>\n",
       "    <tr>\n",
       "      <th>4</th>\n",
       "      <td>1750-05-01</td>\n",
       "      <td>11.573</td>\n",
       "      <td>2.072</td>\n",
       "      <td>NaN</td>\n",
       "      <td>NaN</td>\n",
       "      <td>NaN</td>\n",
       "      <td>NaN</td>\n",
       "      <td>NaN</td>\n",
       "      <td>NaN</td>\n",
       "      <td>1750</td>\n",
       "    </tr>\n",
       "  </tbody>\n",
       "</table>\n",
       "</div>"
      ],
      "text/plain": [
       "           dt  LandAverageTemperature  LandAverageTemperatureUncertainty  \\\n",
       "0  1750-01-01                   3.034                              3.574   \n",
       "1  1750-02-01                   3.083                              3.702   \n",
       "2  1750-03-01                   5.626                              3.076   \n",
       "3  1750-04-01                   8.490                              2.451   \n",
       "4  1750-05-01                  11.573                              2.072   \n",
       "\n",
       "   LandMaxTemperature  LandMaxTemperatureUncertainty  LandMinTemperature  \\\n",
       "0                 NaN                            NaN                 NaN   \n",
       "1                 NaN                            NaN                 NaN   \n",
       "2                 NaN                            NaN                 NaN   \n",
       "3                 NaN                            NaN                 NaN   \n",
       "4                 NaN                            NaN                 NaN   \n",
       "\n",
       "   LandMinTemperatureUncertainty  LandAndOceanAverageTemperature  \\\n",
       "0                            NaN                             NaN   \n",
       "1                            NaN                             NaN   \n",
       "2                            NaN                             NaN   \n",
       "3                            NaN                             NaN   \n",
       "4                            NaN                             NaN   \n",
       "\n",
       "   LandAndOceanAverageTemperatureUncertainty years  \n",
       "0                                        NaN  1750  \n",
       "1                                        NaN  1750  \n",
       "2                                        NaN  1750  \n",
       "3                                        NaN  1750  \n",
       "4                                        NaN  1750  "
      ]
     },
     "execution_count": 30,
     "metadata": {},
     "output_type": "execute_result"
    }
   ],
   "source": [
    "global_temp.head()"
   ]
  },
  {
   "cell_type": "markdown",
   "id": "31b2053a",
   "metadata": {},
   "source": [
    "We do not have any date on season so will have to separate month from date and work for season analysis using month info."
   ]
  },
  {
   "cell_type": "code",
   "execution_count": 35,
   "id": "84b5d24e",
   "metadata": {},
   "outputs": [
    {
     "data": {
      "text/plain": [
       "dtype('O')"
      ]
     },
     "execution_count": 35,
     "metadata": {},
     "output_type": "execute_result"
    }
   ],
   "source": [
    "global_temp['dt'].dtype"
   ]
  },
  {
   "cell_type": "code",
   "execution_count": 38,
   "id": "0e62b0cc",
   "metadata": {},
   "outputs": [],
   "source": [
    "# Convert date to datetime format\n",
    "global_temp['dt'] = pd.to_datetime(global_temp['dt'])"
   ]
  },
  {
   "cell_type": "code",
   "execution_count": 39,
   "id": "77ad4d8b",
   "metadata": {},
   "outputs": [],
   "source": [
    "# Separating month from date\n",
    "global_temp['month'] = global_temp['dt'].dt.month"
   ]
  },
  {
   "cell_type": "code",
   "execution_count": 43,
   "id": "1f8c6931",
   "metadata": {},
   "outputs": [
    {
     "data": {
      "text/html": [
       "<div>\n",
       "<style scoped>\n",
       "    .dataframe tbody tr th:only-of-type {\n",
       "        vertical-align: middle;\n",
       "    }\n",
       "\n",
       "    .dataframe tbody tr th {\n",
       "        vertical-align: top;\n",
       "    }\n",
       "\n",
       "    .dataframe thead th {\n",
       "        text-align: right;\n",
       "    }\n",
       "</style>\n",
       "<table border=\"1\" class=\"dataframe\">\n",
       "  <thead>\n",
       "    <tr style=\"text-align: right;\">\n",
       "      <th></th>\n",
       "      <th>dt</th>\n",
       "      <th>LandAverageTemperature</th>\n",
       "      <th>LandAverageTemperatureUncertainty</th>\n",
       "      <th>LandMaxTemperature</th>\n",
       "      <th>LandMaxTemperatureUncertainty</th>\n",
       "      <th>LandMinTemperature</th>\n",
       "      <th>LandMinTemperatureUncertainty</th>\n",
       "      <th>LandAndOceanAverageTemperature</th>\n",
       "      <th>LandAndOceanAverageTemperatureUncertainty</th>\n",
       "      <th>years</th>\n",
       "      <th>month</th>\n",
       "    </tr>\n",
       "  </thead>\n",
       "  <tbody>\n",
       "    <tr>\n",
       "      <th>0</th>\n",
       "      <td>1750-01-01</td>\n",
       "      <td>3.034</td>\n",
       "      <td>3.574</td>\n",
       "      <td>NaN</td>\n",
       "      <td>NaN</td>\n",
       "      <td>NaN</td>\n",
       "      <td>NaN</td>\n",
       "      <td>NaN</td>\n",
       "      <td>NaN</td>\n",
       "      <td>1750</td>\n",
       "      <td>1</td>\n",
       "    </tr>\n",
       "    <tr>\n",
       "      <th>1</th>\n",
       "      <td>1750-02-01</td>\n",
       "      <td>3.083</td>\n",
       "      <td>3.702</td>\n",
       "      <td>NaN</td>\n",
       "      <td>NaN</td>\n",
       "      <td>NaN</td>\n",
       "      <td>NaN</td>\n",
       "      <td>NaN</td>\n",
       "      <td>NaN</td>\n",
       "      <td>1750</td>\n",
       "      <td>2</td>\n",
       "    </tr>\n",
       "    <tr>\n",
       "      <th>2</th>\n",
       "      <td>1750-03-01</td>\n",
       "      <td>5.626</td>\n",
       "      <td>3.076</td>\n",
       "      <td>NaN</td>\n",
       "      <td>NaN</td>\n",
       "      <td>NaN</td>\n",
       "      <td>NaN</td>\n",
       "      <td>NaN</td>\n",
       "      <td>NaN</td>\n",
       "      <td>1750</td>\n",
       "      <td>3</td>\n",
       "    </tr>\n",
       "    <tr>\n",
       "      <th>3</th>\n",
       "      <td>1750-04-01</td>\n",
       "      <td>8.490</td>\n",
       "      <td>2.451</td>\n",
       "      <td>NaN</td>\n",
       "      <td>NaN</td>\n",
       "      <td>NaN</td>\n",
       "      <td>NaN</td>\n",
       "      <td>NaN</td>\n",
       "      <td>NaN</td>\n",
       "      <td>1750</td>\n",
       "      <td>4</td>\n",
       "    </tr>\n",
       "    <tr>\n",
       "      <th>4</th>\n",
       "      <td>1750-05-01</td>\n",
       "      <td>11.573</td>\n",
       "      <td>2.072</td>\n",
       "      <td>NaN</td>\n",
       "      <td>NaN</td>\n",
       "      <td>NaN</td>\n",
       "      <td>NaN</td>\n",
       "      <td>NaN</td>\n",
       "      <td>NaN</td>\n",
       "      <td>1750</td>\n",
       "      <td>5</td>\n",
       "    </tr>\n",
       "  </tbody>\n",
       "</table>\n",
       "</div>"
      ],
      "text/plain": [
       "          dt  LandAverageTemperature  LandAverageTemperatureUncertainty  \\\n",
       "0 1750-01-01                   3.034                              3.574   \n",
       "1 1750-02-01                   3.083                              3.702   \n",
       "2 1750-03-01                   5.626                              3.076   \n",
       "3 1750-04-01                   8.490                              2.451   \n",
       "4 1750-05-01                  11.573                              2.072   \n",
       "\n",
       "   LandMaxTemperature  LandMaxTemperatureUncertainty  LandMinTemperature  \\\n",
       "0                 NaN                            NaN                 NaN   \n",
       "1                 NaN                            NaN                 NaN   \n",
       "2                 NaN                            NaN                 NaN   \n",
       "3                 NaN                            NaN                 NaN   \n",
       "4                 NaN                            NaN                 NaN   \n",
       "\n",
       "   LandMinTemperatureUncertainty  LandAndOceanAverageTemperature  \\\n",
       "0                            NaN                             NaN   \n",
       "1                            NaN                             NaN   \n",
       "2                            NaN                             NaN   \n",
       "3                            NaN                             NaN   \n",
       "4                            NaN                             NaN   \n",
       "\n",
       "   LandAndOceanAverageTemperatureUncertainty years  month  \n",
       "0                                        NaN  1750      1  \n",
       "1                                        NaN  1750      2  \n",
       "2                                        NaN  1750      3  \n",
       "3                                        NaN  1750      4  \n",
       "4                                        NaN  1750      5  "
      ]
     },
     "execution_count": 43,
     "metadata": {},
     "output_type": "execute_result"
    }
   ],
   "source": [
    "global_temp.head()"
   ]
  },
  {
   "cell_type": "code",
   "execution_count": 45,
   "id": "630dfa74",
   "metadata": {},
   "outputs": [],
   "source": [
    "# Function that defines seasons from months of a year\n",
    "def get_season(month):\n",
    "    if month >= 3 and month <= 5:\n",
    "        return 'spring'\n",
    "    elif month >= 6 and month <= 8:\n",
    "        return 'summer'\n",
    "    elif month >= 9 and month <= 11:\n",
    "        return 'autumn'\n",
    "    else:\n",
    "        return 'winter'"
   ]
  },
  {
   "cell_type": "code",
   "execution_count": 46,
   "id": "59f5b862",
   "metadata": {},
   "outputs": [],
   "source": [
    "# applying the get_season function to the month column\n",
    "global_temp['season'] = global_temp['month'].apply(get_season)"
   ]
  },
  {
   "cell_type": "code",
   "execution_count": 47,
   "id": "c8cd0728",
   "metadata": {},
   "outputs": [
    {
     "data": {
      "text/html": [
       "<div>\n",
       "<style scoped>\n",
       "    .dataframe tbody tr th:only-of-type {\n",
       "        vertical-align: middle;\n",
       "    }\n",
       "\n",
       "    .dataframe tbody tr th {\n",
       "        vertical-align: top;\n",
       "    }\n",
       "\n",
       "    .dataframe thead th {\n",
       "        text-align: right;\n",
       "    }\n",
       "</style>\n",
       "<table border=\"1\" class=\"dataframe\">\n",
       "  <thead>\n",
       "    <tr style=\"text-align: right;\">\n",
       "      <th></th>\n",
       "      <th>dt</th>\n",
       "      <th>LandAverageTemperature</th>\n",
       "      <th>LandAverageTemperatureUncertainty</th>\n",
       "      <th>LandMaxTemperature</th>\n",
       "      <th>LandMaxTemperatureUncertainty</th>\n",
       "      <th>LandMinTemperature</th>\n",
       "      <th>LandMinTemperatureUncertainty</th>\n",
       "      <th>LandAndOceanAverageTemperature</th>\n",
       "      <th>LandAndOceanAverageTemperatureUncertainty</th>\n",
       "      <th>years</th>\n",
       "      <th>month</th>\n",
       "      <th>season</th>\n",
       "    </tr>\n",
       "  </thead>\n",
       "  <tbody>\n",
       "    <tr>\n",
       "      <th>0</th>\n",
       "      <td>1750-01-01</td>\n",
       "      <td>3.034</td>\n",
       "      <td>3.574</td>\n",
       "      <td>NaN</td>\n",
       "      <td>NaN</td>\n",
       "      <td>NaN</td>\n",
       "      <td>NaN</td>\n",
       "      <td>NaN</td>\n",
       "      <td>NaN</td>\n",
       "      <td>1750</td>\n",
       "      <td>1</td>\n",
       "      <td>winter</td>\n",
       "    </tr>\n",
       "    <tr>\n",
       "      <th>1</th>\n",
       "      <td>1750-02-01</td>\n",
       "      <td>3.083</td>\n",
       "      <td>3.702</td>\n",
       "      <td>NaN</td>\n",
       "      <td>NaN</td>\n",
       "      <td>NaN</td>\n",
       "      <td>NaN</td>\n",
       "      <td>NaN</td>\n",
       "      <td>NaN</td>\n",
       "      <td>1750</td>\n",
       "      <td>2</td>\n",
       "      <td>winter</td>\n",
       "    </tr>\n",
       "    <tr>\n",
       "      <th>2</th>\n",
       "      <td>1750-03-01</td>\n",
       "      <td>5.626</td>\n",
       "      <td>3.076</td>\n",
       "      <td>NaN</td>\n",
       "      <td>NaN</td>\n",
       "      <td>NaN</td>\n",
       "      <td>NaN</td>\n",
       "      <td>NaN</td>\n",
       "      <td>NaN</td>\n",
       "      <td>1750</td>\n",
       "      <td>3</td>\n",
       "      <td>spring</td>\n",
       "    </tr>\n",
       "    <tr>\n",
       "      <th>3</th>\n",
       "      <td>1750-04-01</td>\n",
       "      <td>8.490</td>\n",
       "      <td>2.451</td>\n",
       "      <td>NaN</td>\n",
       "      <td>NaN</td>\n",
       "      <td>NaN</td>\n",
       "      <td>NaN</td>\n",
       "      <td>NaN</td>\n",
       "      <td>NaN</td>\n",
       "      <td>1750</td>\n",
       "      <td>4</td>\n",
       "      <td>spring</td>\n",
       "    </tr>\n",
       "    <tr>\n",
       "      <th>4</th>\n",
       "      <td>1750-05-01</td>\n",
       "      <td>11.573</td>\n",
       "      <td>2.072</td>\n",
       "      <td>NaN</td>\n",
       "      <td>NaN</td>\n",
       "      <td>NaN</td>\n",
       "      <td>NaN</td>\n",
       "      <td>NaN</td>\n",
       "      <td>NaN</td>\n",
       "      <td>1750</td>\n",
       "      <td>5</td>\n",
       "      <td>spring</td>\n",
       "    </tr>\n",
       "  </tbody>\n",
       "</table>\n",
       "</div>"
      ],
      "text/plain": [
       "          dt  LandAverageTemperature  LandAverageTemperatureUncertainty  \\\n",
       "0 1750-01-01                   3.034                              3.574   \n",
       "1 1750-02-01                   3.083                              3.702   \n",
       "2 1750-03-01                   5.626                              3.076   \n",
       "3 1750-04-01                   8.490                              2.451   \n",
       "4 1750-05-01                  11.573                              2.072   \n",
       "\n",
       "   LandMaxTemperature  LandMaxTemperatureUncertainty  LandMinTemperature  \\\n",
       "0                 NaN                            NaN                 NaN   \n",
       "1                 NaN                            NaN                 NaN   \n",
       "2                 NaN                            NaN                 NaN   \n",
       "3                 NaN                            NaN                 NaN   \n",
       "4                 NaN                            NaN                 NaN   \n",
       "\n",
       "   LandMinTemperatureUncertainty  LandAndOceanAverageTemperature  \\\n",
       "0                            NaN                             NaN   \n",
       "1                            NaN                             NaN   \n",
       "2                            NaN                             NaN   \n",
       "3                            NaN                             NaN   \n",
       "4                            NaN                             NaN   \n",
       "\n",
       "   LandAndOceanAverageTemperatureUncertainty years  month  season  \n",
       "0                                        NaN  1750      1  winter  \n",
       "1                                        NaN  1750      2  winter  \n",
       "2                                        NaN  1750      3  spring  \n",
       "3                                        NaN  1750      4  spring  \n",
       "4                                        NaN  1750      5  spring  "
      ]
     },
     "execution_count": 47,
     "metadata": {},
     "output_type": "execute_result"
    }
   ],
   "source": [
    "global_temp.head()"
   ]
  },
  {
   "cell_type": "code",
   "execution_count": 64,
   "id": "63465af5",
   "metadata": {},
   "outputs": [],
   "source": [
    "# Unique years in the data\n",
    "years = global_temp['years'].unique()"
   ]
  },
  {
   "cell_type": "code",
   "execution_count": 65,
   "id": "2fa384b5",
   "metadata": {},
   "outputs": [],
   "source": [
    "# Temp lists to store season temperatures in each year\n",
    "spring_temps = []\n",
    "summer_temps = []\n",
    "autumn_temps = []\n",
    "winter_temps = []"
   ]
  },
  {
   "cell_type": "code",
   "execution_count": 66,
   "id": "182ee886",
   "metadata": {},
   "outputs": [],
   "source": [
    "# Find average temperature of each season in each year\n",
    "for year in years:\n",
    "    current_df = global_temp[global_temp['years'] == year]\n",
    "    spring_temps.append(current_df[current_df['season'] == 'spring']['LandAverageTemperature'].mean())\n",
    "    summer_temps.append(current_df[current_df['season'] == 'summer']['LandAverageTemperature'].mean())\n",
    "    autumn_temps.append(current_df[current_df['season'] == 'autumn']['LandAverageTemperature'].mean())\n",
    "    winter_temps.append(current_df[current_df['season'] == 'winter']['LandAverageTemperature'].mean())"
   ]
  },
  {
   "cell_type": "code",
   "execution_count": 68,
   "id": "8f5d87cf",
   "metadata": {
    "collapsed": true
   },
   "outputs": [
    {
     "data": {
      "text/plain": [
       "[8.563,\n",
       " 6.734999999999999,\n",
       " 7.035499999999999,\n",
       " 8.627333333333334,\n",
       " 9.074333333333334,\n",
       " 8.583666666666666,\n",
       " 9.466,\n",
       " 8.604666666666667,\n",
       " 6.896666666666666,\n",
       " 6.897333333333333,\n",
       " 6.653666666666666,\n",
       " 8.916,\n",
       " 7.809333333333332,\n",
       " 6.716,\n",
       " 8.192,\n",
       " 8.868666666666668,\n",
       " 8.432333333333332,\n",
       " 7.831,\n",
       " 6.144000000000001,\n",
       " 8.803333333333333,\n",
       " 7.132000000000001,\n",
       " 6.0523333333333325,\n",
       " 7.148666666666666,\n",
       " 8.866999999999999,\n",
       " 10.607,\n",
       " 9.036666666666667,\n",
       " 7.522333333333333,\n",
       " 7.774333333333334,\n",
       " 8.957999999999998,\n",
       " 10.370666666666667,\n",
       " 11.737666666666664,\n",
       " 7.599,\n",
       " 7.390999999999998,\n",
       " 8.397333333333334,\n",
       " 7.3580000000000005,\n",
       " 6.173666666666667,\n",
       " 8.849666666666666,\n",
       " 7.9576666666666656,\n",
       " 8.159333333333334,\n",
       " 7.783,\n",
       " 6.997333333333333,\n",
       " 7.9253333333333345,\n",
       " 7.914666666666666,\n",
       " 8.248,\n",
       " 9.146333333333333,\n",
       " 8.552,\n",
       " 7.507666666666666,\n",
       " 7.024333333333334,\n",
       " 8.953333333333333,\n",
       " 8.041666666666666,\n",
       " 8.224666666666666,\n",
       " 8.660666666666666,\n",
       " 7.760333333333333,\n",
       " 8.653666666666666,\n",
       " 8.863,\n",
       " 8.328999999999999,\n",
       " 8.075333333333333,\n",
       " 7.03,\n",
       " 7.066666666666666,\n",
       " 6.833666666666666,\n",
       " 6.872,\n",
       " 6.481999999999999,\n",
       " 6.191333333333333,\n",
       " 7.048333333333333,\n",
       " 6.424666666666667,\n",
       " 6.698666666666667,\n",
       " 7.368333333333332,\n",
       " 7.311333333333333,\n",
       " 8.904333333333334,\n",
       " 6.603666666666666,\n",
       " 8.312666666666667,\n",
       " 8.167,\n",
       " 8.850333333333333,\n",
       " 7.765333333333333,\n",
       " 8.287999999999998,\n",
       " 8.368,\n",
       " 8.365,\n",
       " 9.125666666666666,\n",
       " 8.582333333333333,\n",
       " 8.070666666666666,\n",
       " 7.832333333333334,\n",
       " 7.761,\n",
       " 7.732666666666667,\n",
       " 7.657,\n",
       " 8.351666666666667,\n",
       " 7.482333333333333,\n",
       " 7.680666666666667,\n",
       " 6.797999999999999,\n",
       " 7.030333333333332,\n",
       " 6.951333333333333,\n",
       " 7.718666666666667,\n",
       " 6.947,\n",
       " 8.198333333333332,\n",
       " 7.537999999999999,\n",
       " 7.410666666666667,\n",
       " 7.747333333333333,\n",
       " 8.227666666666666,\n",
       " 7.549333333333333,\n",
       " 7.832,\n",
       " 7.496333333333333,\n",
       " 7.391666666666666,\n",
       " 7.530666666666666,\n",
       " 7.513333333333333,\n",
       " 7.531333333333333,\n",
       " 7.805,\n",
       " 8.127666666666666,\n",
       " 7.550999999999999,\n",
       " 7.008,\n",
       " 7.978333333333334,\n",
       " 8.340333333333334,\n",
       " 7.438666666666666,\n",
       " 7.497333333333333,\n",
       " 7.515666666666667,\n",
       " 7.898,\n",
       " 7.707333333333334,\n",
       " 7.423333333333332,\n",
       " 7.7443333333333335,\n",
       " 7.735666666666667,\n",
       " 8.009666666666666,\n",
       " 7.863333333333332,\n",
       " 7.958000000000001,\n",
       " 7.937666666666666,\n",
       " 7.988666666666667,\n",
       " 7.723999999999999,\n",
       " 7.919333333333333,\n",
       " 7.545999999999999,\n",
       " 7.8790000000000004,\n",
       " 8.130666666666666,\n",
       " 8.841333333333333,\n",
       " 7.831666666666667,\n",
       " 7.761666666666666,\n",
       " 8.165999999999999,\n",
       " 7.873,\n",
       " 7.817333333333333,\n",
       " 7.092,\n",
       " 7.508333333333333,\n",
       " 7.651666666666666,\n",
       " 7.726999999999999,\n",
       " 7.588333333333334,\n",
       " 8.376666666666667,\n",
       " 7.470999999999999,\n",
       " 7.719333333333332,\n",
       " 7.515333333333333,\n",
       " 7.906666666666666,\n",
       " 7.908333333333334,\n",
       " 7.934333333333334,\n",
       " 7.500666666666667,\n",
       " 8.0,\n",
       " 7.497666666666667,\n",
       " 7.973999999999999,\n",
       " 8.366666666666667,\n",
       " 8.457,\n",
       " 7.910666666666667,\n",
       " 7.851999999999999,\n",
       " 7.676666666666666,\n",
       " 7.790666666666667,\n",
       " 8.244,\n",
       " 7.509666666666667,\n",
       " 7.702999999999999,\n",
       " 7.578,\n",
       " 7.905333333333334,\n",
       " 7.722,\n",
       " 7.946333333333333,\n",
       " 7.761666666666666,\n",
       " 8.108333333333333,\n",
       " 8.447000000000001,\n",
       " 7.954999999999999,\n",
       " 7.5953333333333335,\n",
       " 7.664999999999999,\n",
       " 8.066333333333333,\n",
       " 8.216999999999999,\n",
       " 8.216666666666667,\n",
       " 8.211,\n",
       " 7.821333333333333,\n",
       " 8.17,\n",
       " 8.202333333333334,\n",
       " 8.318333333333333,\n",
       " 7.935666666666666,\n",
       " 8.124,\n",
       " 8.036,\n",
       " 8.256666666666666,\n",
       " 8.134333333333332,\n",
       " 8.316,\n",
       " 8.013666666666667,\n",
       " 8.104,\n",
       " 8.025333333333334,\n",
       " 8.136333333333333,\n",
       " 8.137666666666666,\n",
       " 8.673333333333334,\n",
       " 8.259333333333332,\n",
       " 8.506,\n",
       " 8.427,\n",
       " 8.354,\n",
       " 8.420333333333334,\n",
       " 8.433,\n",
       " 8.320666666666668,\n",
       " 8.476,\n",
       " 8.605333333333334,\n",
       " 8.318333333333333,\n",
       " 8.243333333333332,\n",
       " 8.222333333333333,\n",
       " 8.298666666666668,\n",
       " 8.26,\n",
       " 8.706000000000001,\n",
       " 8.097999999999999,\n",
       " 7.970999999999999,\n",
       " 7.8439999999999985,\n",
       " 8.220333333333334,\n",
       " 8.497333333333332,\n",
       " 8.665333333333333,\n",
       " 7.769333333333333,\n",
       " 8.614666666666666,\n",
       " 8.399333333333333,\n",
       " 8.104999999999999,\n",
       " 7.897333333333333,\n",
       " 8.131333333333332,\n",
       " 8.296,\n",
       " 8.495333333333333,\n",
       " 8.546666666666667,\n",
       " 8.353666666666667,\n",
       " 8.360333333333333,\n",
       " 8.183666666666667,\n",
       " 8.259666666666666,\n",
       " 8.84233333333333,\n",
       " 8.258000000000001,\n",
       " 8.677333333333333,\n",
       " 7.917666666666666,\n",
       " 8.777333333333333,\n",
       " 8.604,\n",
       " 8.376,\n",
       " 8.690666666666665,\n",
       " 8.918999999999999,\n",
       " 8.228666666666667,\n",
       " 8.706999999999999,\n",
       " 8.693,\n",
       " 8.503333333333332,\n",
       " 8.735666666666665,\n",
       " 8.455,\n",
       " 8.924999999999999,\n",
       " 8.587000000000002,\n",
       " 9.243333333333334,\n",
       " 8.805333333333333,\n",
       " 8.686333333333332,\n",
       " 8.696,\n",
       " 8.811,\n",
       " 8.832666666666666,\n",
       " 8.597,\n",
       " 8.832,\n",
       " 9.224,\n",
       " 8.691333333333333,\n",
       " 9.215,\n",
       " 9.241333333333333,\n",
       " 9.416333333333332,\n",
       " 9.118333333333332,\n",
       " 9.046999999999999,\n",
       " 9.462666666666665,\n",
       " 9.056666666666667,\n",
       " 9.608666666666666,\n",
       " 9.418333333333333,\n",
       " 9.188333333333333,\n",
       " 9.604999999999999,\n",
       " 9.19,\n",
       " 9.429666666666666,\n",
       " 9.166666666666666,\n",
       " 9.516333333333334,\n",
       " 9.455]"
      ]
     },
     "execution_count": 68,
     "metadata": {},
     "output_type": "execute_result"
    }
   ],
   "source": [
    "spring_temps"
   ]
  },
  {
   "cell_type": "code",
   "execution_count": 69,
   "id": "0b3b78d7",
   "metadata": {},
   "outputs": [],
   "source": [
    "# Create a season dataframe for season temperature of each year\n",
    "season = pd.DataFrame()"
   ]
  },
  {
   "cell_type": "code",
   "execution_count": 70,
   "id": "2cdae459",
   "metadata": {},
   "outputs": [],
   "source": [
    "# Populting season dataframe with the year and season temperature info\n",
    "season['year'] = years\n",
    "season['spring_temps'] = spring_temps\n",
    "season['summer_temps'] = summer_temps\n",
    "season['autumn_temps'] = autumn_temps\n",
    "season['winter_temps'] = winter_temps"
   ]
  },
  {
   "cell_type": "code",
   "execution_count": 76,
   "id": "68802531",
   "metadata": {},
   "outputs": [
    {
     "data": {
      "text/html": [
       "<div>\n",
       "<style scoped>\n",
       "    .dataframe tbody tr th:only-of-type {\n",
       "        vertical-align: middle;\n",
       "    }\n",
       "\n",
       "    .dataframe tbody tr th {\n",
       "        vertical-align: top;\n",
       "    }\n",
       "\n",
       "    .dataframe thead th {\n",
       "        text-align: right;\n",
       "    }\n",
       "</style>\n",
       "<table border=\"1\" class=\"dataframe\">\n",
       "  <thead>\n",
       "    <tr style=\"text-align: right;\">\n",
       "      <th></th>\n",
       "      <th>year</th>\n",
       "      <th>spring_temps</th>\n",
       "      <th>summer_temps</th>\n",
       "      <th>autumn_temps</th>\n",
       "      <th>winter_temps</th>\n",
       "    </tr>\n",
       "  </thead>\n",
       "  <tbody>\n",
       "    <tr>\n",
       "      <th>0</th>\n",
       "      <td>1750</td>\n",
       "      <td>8.563000</td>\n",
       "      <td>14.518333</td>\n",
       "      <td>8.890000</td>\n",
       "      <td>2.963000</td>\n",
       "    </tr>\n",
       "    <tr>\n",
       "      <th>1</th>\n",
       "      <td>1751</td>\n",
       "      <td>6.735000</td>\n",
       "      <td>14.116000</td>\n",
       "      <td>10.673000</td>\n",
       "      <td>1.729000</td>\n",
       "    </tr>\n",
       "    <tr>\n",
       "      <th>2</th>\n",
       "      <td>1752</td>\n",
       "      <td>7.035500</td>\n",
       "      <td>NaN</td>\n",
       "      <td>7.587000</td>\n",
       "      <td>2.717000</td>\n",
       "    </tr>\n",
       "    <tr>\n",
       "      <th>3</th>\n",
       "      <td>1753</td>\n",
       "      <td>8.627333</td>\n",
       "      <td>14.608333</td>\n",
       "      <td>9.212333</td>\n",
       "      <td>1.104333</td>\n",
       "    </tr>\n",
       "    <tr>\n",
       "      <th>4</th>\n",
       "      <td>1754</td>\n",
       "      <td>9.074333</td>\n",
       "      <td>14.208333</td>\n",
       "      <td>8.957333</td>\n",
       "      <td>1.637333</td>\n",
       "    </tr>\n",
       "  </tbody>\n",
       "</table>\n",
       "</div>"
      ],
      "text/plain": [
       "   year  spring_temps  summer_temps  autumn_temps  winter_temps\n",
       "0  1750      8.563000     14.518333      8.890000      2.963000\n",
       "1  1751      6.735000     14.116000     10.673000      1.729000\n",
       "2  1752      7.035500           NaN      7.587000      2.717000\n",
       "3  1753      8.627333     14.608333      9.212333      1.104333\n",
       "4  1754      9.074333     14.208333      8.957333      1.637333"
      ]
     },
     "execution_count": 76,
     "metadata": {},
     "output_type": "execute_result"
    }
   ],
   "source": [
    "season.head()"
   ]
  },
  {
   "cell_type": "code",
   "execution_count": 77,
   "id": "9749a214",
   "metadata": {},
   "outputs": [
    {
     "data": {
      "text/plain": [
       "Index(['year', 'spring_temps', 'summer_temps', 'autumn_temps', 'winter_temps'], dtype='object')"
      ]
     },
     "execution_count": 77,
     "metadata": {},
     "output_type": "execute_result"
    }
   ],
   "source": [
    "season.columns"
   ]
  },
  {
   "cell_type": "code",
   "execution_count": 78,
   "id": "558c7a08",
   "metadata": {},
   "outputs": [
    {
     "data": {
      "application/vnd.plotly.v1+json": {
       "config": {
        "plotlyServerURL": "https://plot.ly"
       },
       "data": [
        {
         "hovertemplate": "variable=spring_temps<br>year=%{x}<br>value=%{y}<extra></extra>",
         "legendgroup": "spring_temps",
         "line": {
          "color": "#636efa",
          "dash": "solid"
         },
         "marker": {
          "symbol": "circle"
         },
         "mode": "lines",
         "name": "spring_temps",
         "showlegend": true,
         "type": "scattergl",
         "x": [
          "1750",
          "1751",
          "1752",
          "1753",
          "1754",
          "1755",
          "1756",
          "1757",
          "1758",
          "1759",
          "1760",
          "1761",
          "1762",
          "1763",
          "1764",
          "1765",
          "1766",
          "1767",
          "1768",
          "1769",
          "1770",
          "1771",
          "1772",
          "1773",
          "1774",
          "1775",
          "1776",
          "1777",
          "1778",
          "1779",
          "1780",
          "1781",
          "1782",
          "1783",
          "1784",
          "1785",
          "1786",
          "1787",
          "1788",
          "1789",
          "1790",
          "1791",
          "1792",
          "1793",
          "1794",
          "1795",
          "1796",
          "1797",
          "1798",
          "1799",
          "1800",
          "1801",
          "1802",
          "1803",
          "1804",
          "1805",
          "1806",
          "1807",
          "1808",
          "1809",
          "1810",
          "1811",
          "1812",
          "1813",
          "1814",
          "1815",
          "1816",
          "1817",
          "1818",
          "1819",
          "1820",
          "1821",
          "1822",
          "1823",
          "1824",
          "1825",
          "1826",
          "1827",
          "1828",
          "1829",
          "1830",
          "1831",
          "1832",
          "1833",
          "1834",
          "1835",
          "1836",
          "1837",
          "1838",
          "1839",
          "1840",
          "1841",
          "1842",
          "1843",
          "1844",
          "1845",
          "1846",
          "1847",
          "1848",
          "1849",
          "1850",
          "1851",
          "1852",
          "1853",
          "1854",
          "1855",
          "1856",
          "1857",
          "1858",
          "1859",
          "1860",
          "1861",
          "1862",
          "1863",
          "1864",
          "1865",
          "1866",
          "1867",
          "1868",
          "1869",
          "1870",
          "1871",
          "1872",
          "1873",
          "1874",
          "1875",
          "1876",
          "1877",
          "1878",
          "1879",
          "1880",
          "1881",
          "1882",
          "1883",
          "1884",
          "1885",
          "1886",
          "1887",
          "1888",
          "1889",
          "1890",
          "1891",
          "1892",
          "1893",
          "1894",
          "1895",
          "1896",
          "1897",
          "1898",
          "1899",
          "1900",
          "1901",
          "1902",
          "1903",
          "1904",
          "1905",
          "1906",
          "1907",
          "1908",
          "1909",
          "1910",
          "1911",
          "1912",
          "1913",
          "1914",
          "1915",
          "1916",
          "1917",
          "1918",
          "1919",
          "1920",
          "1921",
          "1922",
          "1923",
          "1924",
          "1925",
          "1926",
          "1927",
          "1928",
          "1929",
          "1930",
          "1931",
          "1932",
          "1933",
          "1934",
          "1935",
          "1936",
          "1937",
          "1938",
          "1939",
          "1940",
          "1941",
          "1942",
          "1943",
          "1944",
          "1945",
          "1946",
          "1947",
          "1948",
          "1949",
          "1950",
          "1951",
          "1952",
          "1953",
          "1954",
          "1955",
          "1956",
          "1957",
          "1958",
          "1959",
          "1960",
          "1961",
          "1962",
          "1963",
          "1964",
          "1965",
          "1966",
          "1967",
          "1968",
          "1969",
          "1970",
          "1971",
          "1972",
          "1973",
          "1974",
          "1975",
          "1976",
          "1977",
          "1978",
          "1979",
          "1980",
          "1981",
          "1982",
          "1983",
          "1984",
          "1985",
          "1986",
          "1987",
          "1988",
          "1989",
          "1990",
          "1991",
          "1992",
          "1993",
          "1994",
          "1995",
          "1996",
          "1997",
          "1998",
          "1999",
          "2000",
          "2001",
          "2002",
          "2003",
          "2004",
          "2005",
          "2006",
          "2007",
          "2008",
          "2009",
          "2010",
          "2011",
          "2012",
          "2013",
          "2014",
          "2015"
         ],
         "xaxis": "x",
         "y": [
          8.563,
          6.734999999999999,
          7.035499999999999,
          8.627333333333334,
          9.074333333333334,
          8.583666666666666,
          9.466,
          8.604666666666667,
          6.896666666666666,
          6.897333333333333,
          6.653666666666666,
          8.916,
          7.809333333333332,
          6.716,
          8.192,
          8.868666666666668,
          8.432333333333332,
          7.831,
          6.144000000000001,
          8.803333333333333,
          7.132000000000001,
          6.0523333333333325,
          7.148666666666666,
          8.866999999999999,
          10.607,
          9.036666666666667,
          7.522333333333333,
          7.774333333333334,
          8.957999999999998,
          10.370666666666667,
          11.737666666666664,
          7.599,
          7.390999999999998,
          8.397333333333334,
          7.3580000000000005,
          6.173666666666667,
          8.849666666666666,
          7.9576666666666656,
          8.159333333333334,
          7.783,
          6.997333333333333,
          7.9253333333333345,
          7.914666666666666,
          8.248,
          9.146333333333333,
          8.552,
          7.507666666666666,
          7.024333333333334,
          8.953333333333333,
          8.041666666666666,
          8.224666666666666,
          8.660666666666666,
          7.760333333333333,
          8.653666666666666,
          8.863,
          8.328999999999999,
          8.075333333333333,
          7.03,
          7.066666666666666,
          6.833666666666666,
          6.872,
          6.481999999999999,
          6.191333333333333,
          7.048333333333333,
          6.424666666666667,
          6.698666666666667,
          7.368333333333332,
          7.311333333333333,
          8.904333333333334,
          6.603666666666666,
          8.312666666666667,
          8.167,
          8.850333333333333,
          7.765333333333333,
          8.287999999999998,
          8.368,
          8.365,
          9.125666666666666,
          8.582333333333333,
          8.070666666666666,
          7.832333333333334,
          7.761,
          7.732666666666667,
          7.657,
          8.351666666666667,
          7.482333333333333,
          7.680666666666667,
          6.797999999999999,
          7.030333333333332,
          6.951333333333333,
          7.718666666666667,
          6.947,
          8.198333333333332,
          7.537999999999999,
          7.410666666666667,
          7.747333333333333,
          8.227666666666666,
          7.549333333333333,
          7.832,
          7.496333333333333,
          7.391666666666666,
          7.530666666666666,
          7.513333333333333,
          7.531333333333333,
          7.805,
          8.127666666666666,
          7.550999999999999,
          7.008,
          7.978333333333334,
          8.340333333333334,
          7.438666666666666,
          7.497333333333333,
          7.515666666666667,
          7.898,
          7.707333333333334,
          7.423333333333332,
          7.7443333333333335,
          7.735666666666667,
          8.009666666666666,
          7.863333333333332,
          7.958000000000001,
          7.937666666666666,
          7.988666666666667,
          7.723999999999999,
          7.919333333333333,
          7.545999999999999,
          7.8790000000000004,
          8.130666666666666,
          8.841333333333333,
          7.831666666666667,
          7.761666666666666,
          8.165999999999999,
          7.873,
          7.817333333333333,
          7.092,
          7.508333333333333,
          7.651666666666666,
          7.726999999999999,
          7.588333333333334,
          8.376666666666667,
          7.470999999999999,
          7.719333333333332,
          7.515333333333333,
          7.906666666666666,
          7.908333333333334,
          7.934333333333334,
          7.500666666666667,
          8,
          7.497666666666667,
          7.973999999999999,
          8.366666666666667,
          8.457,
          7.910666666666667,
          7.851999999999999,
          7.676666666666666,
          7.790666666666667,
          8.244,
          7.509666666666667,
          7.702999999999999,
          7.578,
          7.905333333333334,
          7.722,
          7.946333333333333,
          7.761666666666666,
          8.108333333333333,
          8.447000000000001,
          7.954999999999999,
          7.5953333333333335,
          7.664999999999999,
          8.066333333333333,
          8.216999999999999,
          8.216666666666667,
          8.211,
          7.821333333333333,
          8.17,
          8.202333333333334,
          8.318333333333333,
          7.935666666666666,
          8.124,
          8.036,
          8.256666666666666,
          8.134333333333332,
          8.316,
          8.013666666666667,
          8.104,
          8.025333333333334,
          8.136333333333333,
          8.137666666666666,
          8.673333333333334,
          8.259333333333332,
          8.506,
          8.427,
          8.354,
          8.420333333333334,
          8.433,
          8.320666666666668,
          8.476,
          8.605333333333334,
          8.318333333333333,
          8.243333333333332,
          8.222333333333333,
          8.298666666666668,
          8.26,
          8.706000000000001,
          8.097999999999999,
          7.970999999999999,
          7.8439999999999985,
          8.220333333333334,
          8.497333333333332,
          8.665333333333333,
          7.769333333333333,
          8.614666666666666,
          8.399333333333333,
          8.104999999999999,
          7.897333333333333,
          8.131333333333332,
          8.296,
          8.495333333333333,
          8.546666666666667,
          8.353666666666667,
          8.360333333333333,
          8.183666666666667,
          8.259666666666666,
          8.84233333333333,
          8.258000000000001,
          8.677333333333333,
          7.917666666666666,
          8.777333333333333,
          8.604,
          8.376,
          8.690666666666665,
          8.918999999999999,
          8.228666666666667,
          8.706999999999999,
          8.693,
          8.503333333333332,
          8.735666666666665,
          8.455,
          8.924999999999999,
          8.587000000000002,
          9.243333333333334,
          8.805333333333333,
          8.686333333333332,
          8.696,
          8.811,
          8.832666666666666,
          8.597,
          8.832,
          9.224,
          8.691333333333333,
          9.215,
          9.241333333333333,
          9.416333333333332,
          9.118333333333332,
          9.046999999999999,
          9.462666666666665,
          9.056666666666667,
          9.608666666666666,
          9.418333333333333,
          9.188333333333333,
          9.604999999999999,
          9.19,
          9.429666666666666,
          9.166666666666666,
          9.516333333333334,
          9.455
         ],
         "yaxis": "y"
        },
        {
         "hovertemplate": "variable=summer_temps<br>year=%{x}<br>value=%{y}<extra></extra>",
         "legendgroup": "summer_temps",
         "line": {
          "color": "#EF553B",
          "dash": "solid"
         },
         "marker": {
          "symbol": "circle"
         },
         "mode": "lines",
         "name": "summer_temps",
         "showlegend": true,
         "type": "scattergl",
         "x": [
          "1750",
          "1751",
          "1752",
          "1753",
          "1754",
          "1755",
          "1756",
          "1757",
          "1758",
          "1759",
          "1760",
          "1761",
          "1762",
          "1763",
          "1764",
          "1765",
          "1766",
          "1767",
          "1768",
          "1769",
          "1770",
          "1771",
          "1772",
          "1773",
          "1774",
          "1775",
          "1776",
          "1777",
          "1778",
          "1779",
          "1780",
          "1781",
          "1782",
          "1783",
          "1784",
          "1785",
          "1786",
          "1787",
          "1788",
          "1789",
          "1790",
          "1791",
          "1792",
          "1793",
          "1794",
          "1795",
          "1796",
          "1797",
          "1798",
          "1799",
          "1800",
          "1801",
          "1802",
          "1803",
          "1804",
          "1805",
          "1806",
          "1807",
          "1808",
          "1809",
          "1810",
          "1811",
          "1812",
          "1813",
          "1814",
          "1815",
          "1816",
          "1817",
          "1818",
          "1819",
          "1820",
          "1821",
          "1822",
          "1823",
          "1824",
          "1825",
          "1826",
          "1827",
          "1828",
          "1829",
          "1830",
          "1831",
          "1832",
          "1833",
          "1834",
          "1835",
          "1836",
          "1837",
          "1838",
          "1839",
          "1840",
          "1841",
          "1842",
          "1843",
          "1844",
          "1845",
          "1846",
          "1847",
          "1848",
          "1849",
          "1850",
          "1851",
          "1852",
          "1853",
          "1854",
          "1855",
          "1856",
          "1857",
          "1858",
          "1859",
          "1860",
          "1861",
          "1862",
          "1863",
          "1864",
          "1865",
          "1866",
          "1867",
          "1868",
          "1869",
          "1870",
          "1871",
          "1872",
          "1873",
          "1874",
          "1875",
          "1876",
          "1877",
          "1878",
          "1879",
          "1880",
          "1881",
          "1882",
          "1883",
          "1884",
          "1885",
          "1886",
          "1887",
          "1888",
          "1889",
          "1890",
          "1891",
          "1892",
          "1893",
          "1894",
          "1895",
          "1896",
          "1897",
          "1898",
          "1899",
          "1900",
          "1901",
          "1902",
          "1903",
          "1904",
          "1905",
          "1906",
          "1907",
          "1908",
          "1909",
          "1910",
          "1911",
          "1912",
          "1913",
          "1914",
          "1915",
          "1916",
          "1917",
          "1918",
          "1919",
          "1920",
          "1921",
          "1922",
          "1923",
          "1924",
          "1925",
          "1926",
          "1927",
          "1928",
          "1929",
          "1930",
          "1931",
          "1932",
          "1933",
          "1934",
          "1935",
          "1936",
          "1937",
          "1938",
          "1939",
          "1940",
          "1941",
          "1942",
          "1943",
          "1944",
          "1945",
          "1946",
          "1947",
          "1948",
          "1949",
          "1950",
          "1951",
          "1952",
          "1953",
          "1954",
          "1955",
          "1956",
          "1957",
          "1958",
          "1959",
          "1960",
          "1961",
          "1962",
          "1963",
          "1964",
          "1965",
          "1966",
          "1967",
          "1968",
          "1969",
          "1970",
          "1971",
          "1972",
          "1973",
          "1974",
          "1975",
          "1976",
          "1977",
          "1978",
          "1979",
          "1980",
          "1981",
          "1982",
          "1983",
          "1984",
          "1985",
          "1986",
          "1987",
          "1988",
          "1989",
          "1990",
          "1991",
          "1992",
          "1993",
          "1994",
          "1995",
          "1996",
          "1997",
          "1998",
          "1999",
          "2000",
          "2001",
          "2002",
          "2003",
          "2004",
          "2005",
          "2006",
          "2007",
          "2008",
          "2009",
          "2010",
          "2011",
          "2012",
          "2013",
          "2014",
          "2015"
         ],
         "xaxis": "x",
         "y": [
          14.518333333333333,
          14.116,
          null,
          14.608333333333334,
          14.208333333333334,
          14.430666666666667,
          13.963333333333333,
          17.544999999999998,
          12.934666666666665,
          13.541666666666666,
          12.916333333333334,
          17.057666666666666,
          14.070333333333332,
          14.262666666666666,
          12.170666666666667,
          12.635333333333334,
          13.655333333333331,
          14.023333333333333,
          12.905666666666667,
          14.365666666666668,
          11.639333333333335,
          14.045333333333332,
          13.775333333333334,
          13.639666666666669,
          15.330333333333334,
          13.822666666666668,
          14.503,
          12.627,
          13.212333333333333,
          13.335,
          14.625666666666666,
          13.368,
          14.469666666666667,
          13.793333333333331,
          14.537,
          14.226,
          14.261333333333333,
          13.791666666666666,
          14.720333333333334,
          14.269666666666666,
          13.827666666666667,
          13.529000000000002,
          13.357999999999999,
          13.547333333333333,
          12.784,
          13.576,
          14.417333333333334,
          13.999666666666664,
          14.317,
          14.211666666666666,
          13.662666666666667,
          13.466333333333331,
          14.379333333333333,
          14.764333333333333,
          14.686333333333332,
          14.666333333333332,
          13.644666666666666,
          13.743333333333332,
          13.655666666666667,
          12.853,
          12.175333333333333,
          12.472999999999999,
          13.792666666666667,
          13.62,
          12.672666666666666,
          12.921666666666667,
          12.208999999999998,
          12.254,
          13.500333333333336,
          12.707,
          12.870666666666667,
          12.930666666666667,
          13.498,
          13.761666666666668,
          13.897999999999998,
          13.680333333333332,
          13.537,
          13.975333333333333,
          14.047666666666666,
          13.494666666666667,
          13.718333333333334,
          13.091000000000001,
          12.85,
          13.357999999999999,
          13.469333333333333,
          12.485999999999999,
          13.008333333333333,
          12.881,
          13.559,
          13.676333333333332,
          13.737,
          13.774,
          13.151333333333334,
          13.272,
          13.269,
          13.579333333333333,
          14.191333333333333,
          13.497333333333332,
          13.660333333333334,
          13.687,
          13.893666666666668,
          13.899999999999999,
          13.660000000000002,
          14.002666666666665,
          13.803333333333333,
          13.485666666666667,
          13.512,
          13.255666666666665,
          13.284333333333334,
          13.395333333333333,
          13.746666666666664,
          13.546666666666667,
          13.325333333333333,
          13.284333333333334,
          13.653666666666666,
          13.671333333333335,
          13.662333333333331,
          13.677333333333335,
          13.806666666666667,
          13.961333333333334,
          13.912,
          13.767333333333333,
          13.720333333333334,
          13.815666666666667,
          13.747666666666666,
          13.567333333333332,
          13.643666666666666,
          14.059,
          14.210666666666667,
          13.571,
          13.758333333333333,
          13.552666666666667,
          13.418333333333331,
          13.512333333333332,
          13.135333333333334,
          13.346333333333334,
          13.446,
          13.336,
          13.558,
          13.672333333333333,
          13.390666666666666,
          13.438,
          13.524333333333333,
          13.607666666666667,
          13.450000000000001,
          13.533333333333333,
          13.720333333333334,
          13.765666666666666,
          13.704,
          13.597333333333333,
          13.76,
          13.850333333333333,
          13.681333333333333,
          13.43,
          13.436333333333332,
          13.588999999999999,
          13.715666666666666,
          13.286666666666667,
          13.622,
          13.591333333333333,
          13.702333333333334,
          13.530000000000001,
          13.403666666666666,
          13.622,
          13.841333333333333,
          13.837666666666669,
          13.524666666666667,
          13.548333333333332,
          13.447000000000001,
          13.762666666666666,
          13.682666666666668,
          13.812333333333333,
          13.731,
          13.630333333333335,
          13.766666666666667,
          13.641333333333334,
          13.776666666666666,
          13.764333333333333,
          13.703333333333333,
          13.521666666666667,
          13.913333333333332,
          14.089666666666666,
          13.831666666666665,
          13.702,
          13.841,
          13.810666666666668,
          13.950666666666665,
          13.995,
          13.921999999999999,
          13.952666666666667,
          13.988333333333335,
          14.117333333333335,
          13.868666666666668,
          13.798333333333334,
          13.987666666666664,
          13.951333333333332,
          13.847,
          13.878333333333332,
          14.001666666666667,
          13.749333333333334,
          13.660666666666666,
          13.865,
          13.985,
          14.020999999999999,
          13.836333333333334,
          14.028333333333334,
          13.509666666666666,
          13.998,
          13.740666666666668,
          13.959666666666669,
          13.835666666666668,
          13.946333333333333,
          13.781666666666666,
          14.075666666666665,
          13.812666666666667,
          13.731,
          13.962333333333333,
          13.781999999999998,
          13.584666666666665,
          13.832333333333333,
          13.855333333333334,
          13.705666666666666,
          13.967666666666666,
          14.042666666666667,
          13.895333333333333,
          13.807333333333332,
          13.583999999999998,
          14.198999999999998,
          13.627,
          13.811333333333332,
          14.171000000000001,
          14.335,
          13.862,
          14.062666666666667,
          13.933333333333335,
          13.866999999999999,
          13.901333333333334,
          14.237666666666668,
          14.483333333333334,
          14.064666666666666,
          14.257333333333333,
          14.523000000000001,
          13.826999999999998,
          13.982666666666667,
          14.259666666666666,
          14.638666666666666,
          14.370333333333333,
          14.317333333333332,
          14.911666666666667,
          14.410666666666666,
          14.475666666666667,
          14.566,
          14.665999999999999,
          14.563666666666668,
          14.129666666666667,
          14.725333333333333,
          14.799333333333331,
          14.763666666666667,
          14.565333333333333,
          14.695666666666668,
          14.800666666666666,
          14.954666666666666,
          14.762666666666668,
          14.771,
          14.694333333333333,
          14.770333333333333
         ],
         "yaxis": "y"
        },
        {
         "hovertemplate": "variable=autumn_temps<br>year=%{x}<br>value=%{y}<extra></extra>",
         "legendgroup": "autumn_temps",
         "line": {
          "color": "#00cc96",
          "dash": "solid"
         },
         "marker": {
          "symbol": "circle"
         },
         "mode": "lines",
         "name": "autumn_temps",
         "showlegend": true,
         "type": "scattergl",
         "x": [
          "1750",
          "1751",
          "1752",
          "1753",
          "1754",
          "1755",
          "1756",
          "1757",
          "1758",
          "1759",
          "1760",
          "1761",
          "1762",
          "1763",
          "1764",
          "1765",
          "1766",
          "1767",
          "1768",
          "1769",
          "1770",
          "1771",
          "1772",
          "1773",
          "1774",
          "1775",
          "1776",
          "1777",
          "1778",
          "1779",
          "1780",
          "1781",
          "1782",
          "1783",
          "1784",
          "1785",
          "1786",
          "1787",
          "1788",
          "1789",
          "1790",
          "1791",
          "1792",
          "1793",
          "1794",
          "1795",
          "1796",
          "1797",
          "1798",
          "1799",
          "1800",
          "1801",
          "1802",
          "1803",
          "1804",
          "1805",
          "1806",
          "1807",
          "1808",
          "1809",
          "1810",
          "1811",
          "1812",
          "1813",
          "1814",
          "1815",
          "1816",
          "1817",
          "1818",
          "1819",
          "1820",
          "1821",
          "1822",
          "1823",
          "1824",
          "1825",
          "1826",
          "1827",
          "1828",
          "1829",
          "1830",
          "1831",
          "1832",
          "1833",
          "1834",
          "1835",
          "1836",
          "1837",
          "1838",
          "1839",
          "1840",
          "1841",
          "1842",
          "1843",
          "1844",
          "1845",
          "1846",
          "1847",
          "1848",
          "1849",
          "1850",
          "1851",
          "1852",
          "1853",
          "1854",
          "1855",
          "1856",
          "1857",
          "1858",
          "1859",
          "1860",
          "1861",
          "1862",
          "1863",
          "1864",
          "1865",
          "1866",
          "1867",
          "1868",
          "1869",
          "1870",
          "1871",
          "1872",
          "1873",
          "1874",
          "1875",
          "1876",
          "1877",
          "1878",
          "1879",
          "1880",
          "1881",
          "1882",
          "1883",
          "1884",
          "1885",
          "1886",
          "1887",
          "1888",
          "1889",
          "1890",
          "1891",
          "1892",
          "1893",
          "1894",
          "1895",
          "1896",
          "1897",
          "1898",
          "1899",
          "1900",
          "1901",
          "1902",
          "1903",
          "1904",
          "1905",
          "1906",
          "1907",
          "1908",
          "1909",
          "1910",
          "1911",
          "1912",
          "1913",
          "1914",
          "1915",
          "1916",
          "1917",
          "1918",
          "1919",
          "1920",
          "1921",
          "1922",
          "1923",
          "1924",
          "1925",
          "1926",
          "1927",
          "1928",
          "1929",
          "1930",
          "1931",
          "1932",
          "1933",
          "1934",
          "1935",
          "1936",
          "1937",
          "1938",
          "1939",
          "1940",
          "1941",
          "1942",
          "1943",
          "1944",
          "1945",
          "1946",
          "1947",
          "1948",
          "1949",
          "1950",
          "1951",
          "1952",
          "1953",
          "1954",
          "1955",
          "1956",
          "1957",
          "1958",
          "1959",
          "1960",
          "1961",
          "1962",
          "1963",
          "1964",
          "1965",
          "1966",
          "1967",
          "1968",
          "1969",
          "1970",
          "1971",
          "1972",
          "1973",
          "1974",
          "1975",
          "1976",
          "1977",
          "1978",
          "1979",
          "1980",
          "1981",
          "1982",
          "1983",
          "1984",
          "1985",
          "1986",
          "1987",
          "1988",
          "1989",
          "1990",
          "1991",
          "1992",
          "1993",
          "1994",
          "1995",
          "1996",
          "1997",
          "1998",
          "1999",
          "2000",
          "2001",
          "2002",
          "2003",
          "2004",
          "2005",
          "2006",
          "2007",
          "2008",
          "2009",
          "2010",
          "2011",
          "2012",
          "2013",
          "2014",
          "2015"
         ],
         "xaxis": "x",
         "y": [
          8.889999999999999,
          10.673,
          7.587,
          9.212333333333333,
          8.957333333333333,
          9.233666666666666,
          8.063,
          8.455333333333334,
          6.2923333333333344,
          8.387,
          7.778,
          8.283666666666667,
          7.616333333333333,
          7.167000000000001,
          8.832666666666666,
          8.166666666666666,
          9.389666666666667,
          9.539,
          7.711333333333333,
          6.445666666666665,
          8.392,
          8.865333333333334,
          9.102333333333334,
          8.354333333333333,
          7.5183333333333335,
          9.882333333333333,
          8.177333333333333,
          7.954666666666667,
          8.426666666666668,
          9.267666666666667,
          8.308666666666666,
          8.791333333333332,
          8.777333333333333,
          6.503666666666667,
          7.219666666666666,
          7.791333333333333,
          8.537,
          7.976666666666667,
          9.053,
          8.457333333333333,
          8.380333333333335,
          8.654333333333332,
          8.631333333333334,
          8.687,
          8.762666666666666,
          8.042,
          8.879333333333333,
          8.809,
          8.771,
          9.273666666666667,
          8.612,
          8.760333333333334,
          9.023333333333332,
          9.136666666666665,
          9.627333333333334,
          8.076666666666666,
          8.735333333333335,
          9.162333333333335,
          8.398333333333333,
          7.572,
          6.663666666666667,
          6.817,
          7.3823333333333325,
          9.276666666666667,
          8.263,
          7.488666666666667,
          6.7156666666666665,
          6.550999999999999,
          7.4223333333333334,
          8.451999999999998,
          7.730333333333333,
          8.104666666666667,
          7.656666666666667,
          7.449333333333333,
          8.534,
          8.395,
          8.757,
          8.557333333333334,
          8.231,
          8.135666666666667,
          8.675333333333333,
          7.396,
          7.774,
          8.577333333333334,
          8.847666666666667,
          7.363,
          7.794,
          7.542333333333333,
          8.264,
          7.663999999999999,
          7.538666666666667,
          8.143333333333333,
          8.023666666666665,
          8.331666666666667,
          7.973333333333333,
          8.07,
          8.337,
          8.603666666666667,
          8.314,
          8.586999999999998,
          8.109666666666667,
          8.590666666666666,
          8.327,
          8.342666666666668,
          9.007333333333333,
          8.257,
          8.131666666666666,
          8.163333333333332,
          8.649333333333333,
          8.608666666666666,
          8.543666666666667,
          8.530333333333333,
          8.034333333333334,
          8.285666666666666,
          8.465666666666666,
          9.025666666666666,
          8.642666666666667,
          9.304666666666668,
          8.769666666666668,
          9.008666666666667,
          8.787333333333331,
          8.64,
          8.856666666666667,
          8.846666666666666,
          9.013333333333334,
          8.172666666666666,
          8.575333333333333,
          9.232,
          9.237333333333334,
          8.734666666666667,
          8.650666666666666,
          8.604,
          8.415666666666667,
          8.385666666666665,
          8.326666666666666,
          8.527333333333335,
          8.476666666666667,
          8.679,
          8.892666666666669,
          8.470333333333334,
          8.584666666666667,
          8.533333333333333,
          8.637666666666666,
          8.943,
          8.703333333333333,
          8.868,
          8.868666666666668,
          8.91,
          8.677666666666665,
          9.380666666666666,
          9.141666666666667,
          8.987666666666668,
          8.624666666666668,
          8.609666666666667,
          8.814666666666666,
          9.009333333333332,
          8.846666666666666,
          8.702,
          8.704666666666666,
          9.102333333333332,
          8.685666666666668,
          8.955,
          8.37,
          8.953333333333333,
          9.020333333333333,
          9.022333333333334,
          8.791666666666668,
          8.703000000000001,
          8.999,
          8.946666666666667,
          8.793666666666667,
          8.999,
          8.959,
          9.260333333333334,
          9.186666666666667,
          9.171666666666665,
          9.308333333333334,
          9.495666666666667,
          9.283999999999999,
          9.146333333333335,
          9.236333333333333,
          9.487666666666666,
          9.3,
          8.994,
          9.181666666666667,
          8.985999999999999,
          9.237,
          9.499333333333333,
          9.580333333333334,
          9.121666666666666,
          9.267000000000001,
          9.159666666666668,
          9.389333333333335,
          9.421,
          9.449666666666667,
          9.290999999999999,
          9.193333333333333,
          9.528,
          9.308,
          9.212,
          8.825666666666667,
          9.406333333333334,
          8.94,
          9.237666666666668,
          9.407666666666666,
          9.220666666666666,
          8.816333333333333,
          9.399666666666667,
          9.159999999999998,
          8.952666666666667,
          9.139999999999999,
          9.26,
          9.256333333333334,
          9.686333333333332,
          8.806333333333333,
          9.026,
          9.085,
          9.346333333333334,
          8.988,
          9.319,
          9.224,
          9.274000000000001,
          9.014666666666667,
          9.318666666666667,
          8.919,
          9.121,
          8.688666666666666,
          9.187333333333333,
          9.239666666666666,
          9.373,
          9.518333333333334,
          9.301,
          9.077333333333334,
          9.647,
          9.068,
          9.095333333333333,
          9.011666666666667,
          9.364333333333333,
          9.651666666666666,
          9.447333333333333,
          9.665666666666667,
          9.623333333333333,
          8.971333333333332,
          9.094,
          9.768666666666666,
          9.810666666666666,
          9.455333333333334,
          9.878333333333334,
          9.672666666666666,
          9.770666666666665,
          9.448333333333334,
          9.996666666666666,
          9.943333333333333,
          10.020666666666667,
          10.028,
          10.413666666666666,
          10.039666666666667,
          10.115333333333334,
          10.141666666666667,
          10.106666666666667,
          10.264000000000001,
          10.026000000000002,
          10.208,
          10.278,
          10.044666666666666,
          10.411
         ],
         "yaxis": "y"
        },
        {
         "hovertemplate": "variable=winter_temps<br>year=%{x}<br>value=%{y}<extra></extra>",
         "legendgroup": "winter_temps",
         "line": {
          "color": "#ab63fa",
          "dash": "solid"
         },
         "marker": {
          "symbol": "circle"
         },
         "mode": "lines",
         "name": "winter_temps",
         "showlegend": true,
         "type": "scattergl",
         "x": [
          "1750",
          "1751",
          "1752",
          "1753",
          "1754",
          "1755",
          "1756",
          "1757",
          "1758",
          "1759",
          "1760",
          "1761",
          "1762",
          "1763",
          "1764",
          "1765",
          "1766",
          "1767",
          "1768",
          "1769",
          "1770",
          "1771",
          "1772",
          "1773",
          "1774",
          "1775",
          "1776",
          "1777",
          "1778",
          "1779",
          "1780",
          "1781",
          "1782",
          "1783",
          "1784",
          "1785",
          "1786",
          "1787",
          "1788",
          "1789",
          "1790",
          "1791",
          "1792",
          "1793",
          "1794",
          "1795",
          "1796",
          "1797",
          "1798",
          "1799",
          "1800",
          "1801",
          "1802",
          "1803",
          "1804",
          "1805",
          "1806",
          "1807",
          "1808",
          "1809",
          "1810",
          "1811",
          "1812",
          "1813",
          "1814",
          "1815",
          "1816",
          "1817",
          "1818",
          "1819",
          "1820",
          "1821",
          "1822",
          "1823",
          "1824",
          "1825",
          "1826",
          "1827",
          "1828",
          "1829",
          "1830",
          "1831",
          "1832",
          "1833",
          "1834",
          "1835",
          "1836",
          "1837",
          "1838",
          "1839",
          "1840",
          "1841",
          "1842",
          "1843",
          "1844",
          "1845",
          "1846",
          "1847",
          "1848",
          "1849",
          "1850",
          "1851",
          "1852",
          "1853",
          "1854",
          "1855",
          "1856",
          "1857",
          "1858",
          "1859",
          "1860",
          "1861",
          "1862",
          "1863",
          "1864",
          "1865",
          "1866",
          "1867",
          "1868",
          "1869",
          "1870",
          "1871",
          "1872",
          "1873",
          "1874",
          "1875",
          "1876",
          "1877",
          "1878",
          "1879",
          "1880",
          "1881",
          "1882",
          "1883",
          "1884",
          "1885",
          "1886",
          "1887",
          "1888",
          "1889",
          "1890",
          "1891",
          "1892",
          "1893",
          "1894",
          "1895",
          "1896",
          "1897",
          "1898",
          "1899",
          "1900",
          "1901",
          "1902",
          "1903",
          "1904",
          "1905",
          "1906",
          "1907",
          "1908",
          "1909",
          "1910",
          "1911",
          "1912",
          "1913",
          "1914",
          "1915",
          "1916",
          "1917",
          "1918",
          "1919",
          "1920",
          "1921",
          "1922",
          "1923",
          "1924",
          "1925",
          "1926",
          "1927",
          "1928",
          "1929",
          "1930",
          "1931",
          "1932",
          "1933",
          "1934",
          "1935",
          "1936",
          "1937",
          "1938",
          "1939",
          "1940",
          "1941",
          "1942",
          "1943",
          "1944",
          "1945",
          "1946",
          "1947",
          "1948",
          "1949",
          "1950",
          "1951",
          "1952",
          "1953",
          "1954",
          "1955",
          "1956",
          "1957",
          "1958",
          "1959",
          "1960",
          "1961",
          "1962",
          "1963",
          "1964",
          "1965",
          "1966",
          "1967",
          "1968",
          "1969",
          "1970",
          "1971",
          "1972",
          "1973",
          "1974",
          "1975",
          "1976",
          "1977",
          "1978",
          "1979",
          "1980",
          "1981",
          "1982",
          "1983",
          "1984",
          "1985",
          "1986",
          "1987",
          "1988",
          "1989",
          "1990",
          "1991",
          "1992",
          "1993",
          "1994",
          "1995",
          "1996",
          "1997",
          "1998",
          "1999",
          "2000",
          "2001",
          "2002",
          "2003",
          "2004",
          "2005",
          "2006",
          "2007",
          "2008",
          "2009",
          "2010",
          "2011",
          "2012",
          "2013",
          "2014",
          "2015"
         ],
         "xaxis": "x",
         "y": [
          2.9630000000000005,
          1.729,
          2.7170000000000005,
          1.1043333333333332,
          1.6373333333333333,
          1.1743333333333332,
          3.906,
          1.4829999999999999,
          0.8506666666666668,
          3.114333333333333,
          1.3926666666666667,
          0.8326666666666666,
          4.930000000000001,
          1.8413333333333333,
          4.406,
          3.3369999999999997,
          2.1453333333333333,
          1.4926666666666666,
          0.36433333333333334,
          1.1636666666666666,
          3.6043333333333334,
          2.449666666666667,
          2.747666666666667,
          2.0249999999999995,
          1.633,
          3.9906666666666673,
          3.013333333333333,
          4.6690000000000005,
          3.571999999999999,
          2.9596666666666667,
          3.0596666666666668,
          2.6519999999999997,
          0.967,
          2.029,
          2.3333333333333335,
          1.261,
          1.3846666666666667,
          2.4013333333333335,
          1.856,
          2.8266666666666667,
          2.724,
          2.828333333333333,
          2.452,
          2.4343333333333335,
          3.411,
          3.2313333333333336,
          2.279666666666667,
          4.209333333333333,
          2.639666666666667,
          2.496,
          3.4376666666666664,
          3.4713333333333334,
          3.1496666666666666,
          1.4573333333333334,
          2.202666666666667,
          3.179,
          3.281,
          3.1899999999999995,
          1.3866666666666667,
          1.047,
          1.9796666666666667,
          1.6660000000000001,
          0.8186666666666668,
          1.0146666666666666,
          3.0066666666666673,
          1.8483333333333334,
          1.457,
          1.7863333333333333,
          1.4886666666666668,
          1.7140000000000002,
          1.5513333333333332,
          3.158,
          2.7483333333333335,
          1.8983333333333334,
          3.468666666666667,
          3.1139999999999994,
          2.767333333333333,
          3.576666666666666,
          1.8003333333333336,
          2.066333333333333,
          3.8409999999999997,
          2.308666666666667,
          1.4439999999999997,
          2.4596666666666667,
          1.9183333333333337,
          2.238666666666667,
          2.300333333333333,
          2.2813333333333334,
          1.2063333333333335,
          2.2373333333333334,
          2.1906666666666665,
          1.8883333333333334,
          2.7176666666666667,
          3.5530000000000004,
          1.9323333333333335,
          2.008,
          3.455,
          2.6936666666666667,
          2.111666666666667,
          2.167333333333333,
          2.207666666666667,
          2.693,
          2.9003333333333337,
          2.2906666666666666,
          2.2263333333333333,
          2.5726666666666667,
          2.7889999999999997,
          2.6056666666666666,
          2.489,
          2.663666666666667,
          2.114333333333333,
          1.8116666666666668,
          1.359,
          2.9793333333333334,
          2.1076666666666664,
          2.5910000000000006,
          3.1193333333333335,
          3.0276666666666667,
          2.405666666666667,
          2.895,
          2.148,
          2.1153333333333335,
          2.2096666666666667,
          3.0180000000000002,
          3.0536666666666665,
          2.1523333333333334,
          2.2223333333333333,
          2.736666666666667,
          3.029666666666667,
          2.5260000000000002,
          2.3043333333333336,
          2.7610000000000006,
          2.808666666666667,
          2.1923333333333335,
          2.5406666666666666,
          2.296666666666667,
          2.2436666666666665,
          1.9176666666666666,
          2.323,
          2.7566666666666664,
          2.4403333333333332,
          2.3866666666666667,
          2.5860000000000003,
          1.7696666666666665,
          2.582333333333333,
          2.252333333333333,
          2.7699999999999996,
          2.497666666666667,
          2.832666666666667,
          2.6333333333333333,
          2.738,
          2.872666666666667,
          3.001,
          2.9890000000000003,
          2.436,
          2.5116666666666667,
          2.7099999999999995,
          2.2903333333333333,
          2.7146666666666666,
          2.441333333333334,
          2.598666666666667,
          2.501,
          2.9416666666666664,
          2.8539999999999996,
          3.392,
          3.0656666666666665,
          2.6296666666666666,
          2.2466666666666666,
          2.412333333333333,
          2.7533333333333334,
          2.7416666666666667,
          3.2560000000000002,
          2.731,
          2.9766666666666666,
          2.904,
          3.122333333333333,
          3.512,
          2.8926666666666665,
          3.4173333333333336,
          2.2656666666666667,
          3.128,
          3.1653333333333333,
          3.3733333333333335,
          2.6433333333333335,
          3.3866666666666667,
          3.241,
          2.892,
          3.1613333333333333,
          3.279,
          3.7076666666666664,
          3.297333333333333,
          3.3706666666666667,
          3.301666666666667,
          3.3806666666666665,
          3.5096666666666665,
          2.7763333333333335,
          3.191333333333333,
          3.176666666666667,
          3.359,
          3.142333333333333,
          2.752333333333333,
          2.932666666666666,
          3.368,
          3.5303333333333335,
          2.9006666666666674,
          3.285,
          2.9483333333333337,
          3.312,
          3.6970000000000005,
          3.3529999999999998,
          3.59,
          3.369666666666667,
          3.546333333333333,
          3.557,
          3.1223333333333336,
          3.2213333333333334,
          3.0540000000000003,
          3.176666666666667,
          2.946,
          2.8753333333333337,
          3.3640000000000003,
          3.2336666666666667,
          2.7563333333333335,
          3.5893333333333337,
          2.7976666666666667,
          3.373666666666667,
          3.1986666666666665,
          3.2373333333333334,
          3.300333333333333,
          3.3733333333333335,
          3.5413333333333337,
          4.108333333333333,
          3.388666666666667,
          3.696,
          3.0730000000000004,
          3.1663333333333337,
          3.6856666666666666,
          3.920666666666667,
          3.7463333333333337,
          3.589,
          3.7703333333333333,
          3.7660000000000005,
          3.861666666666667,
          3.6936666666666667,
          3.3156666666666665,
          4.1063333333333345,
          3.7330000000000005,
          3.782666666666666,
          4.282333333333334,
          4.267666666666667,
          3.6656666666666666,
          3.8543333333333334,
          4.256,
          4.399666666666666,
          4.093666666666667,
          4.202,
          4.234333333333333,
          4.441,
          3.6016666666666666,
          4.030333333333332,
          4.142666666666666,
          3.893333333333333,
          3.629,
          4.210333333333334,
          4.027333333333334,
          4.687666666666666
         ],
         "yaxis": "y"
        }
       ],
       "layout": {
        "legend": {
         "title": {
          "text": "variable"
         },
         "tracegroupgap": 0
        },
        "template": {
         "data": {
          "bar": [
           {
            "error_x": {
             "color": "#2a3f5f"
            },
            "error_y": {
             "color": "#2a3f5f"
            },
            "marker": {
             "line": {
              "color": "#E5ECF6",
              "width": 0.5
             },
             "pattern": {
              "fillmode": "overlay",
              "size": 10,
              "solidity": 0.2
             }
            },
            "type": "bar"
           }
          ],
          "barpolar": [
           {
            "marker": {
             "line": {
              "color": "#E5ECF6",
              "width": 0.5
             },
             "pattern": {
              "fillmode": "overlay",
              "size": 10,
              "solidity": 0.2
             }
            },
            "type": "barpolar"
           }
          ],
          "carpet": [
           {
            "aaxis": {
             "endlinecolor": "#2a3f5f",
             "gridcolor": "white",
             "linecolor": "white",
             "minorgridcolor": "white",
             "startlinecolor": "#2a3f5f"
            },
            "baxis": {
             "endlinecolor": "#2a3f5f",
             "gridcolor": "white",
             "linecolor": "white",
             "minorgridcolor": "white",
             "startlinecolor": "#2a3f5f"
            },
            "type": "carpet"
           }
          ],
          "choropleth": [
           {
            "colorbar": {
             "outlinewidth": 0,
             "ticks": ""
            },
            "type": "choropleth"
           }
          ],
          "contour": [
           {
            "colorbar": {
             "outlinewidth": 0,
             "ticks": ""
            },
            "colorscale": [
             [
              0,
              "#0d0887"
             ],
             [
              0.1111111111111111,
              "#46039f"
             ],
             [
              0.2222222222222222,
              "#7201a8"
             ],
             [
              0.3333333333333333,
              "#9c179e"
             ],
             [
              0.4444444444444444,
              "#bd3786"
             ],
             [
              0.5555555555555556,
              "#d8576b"
             ],
             [
              0.6666666666666666,
              "#ed7953"
             ],
             [
              0.7777777777777778,
              "#fb9f3a"
             ],
             [
              0.8888888888888888,
              "#fdca26"
             ],
             [
              1,
              "#f0f921"
             ]
            ],
            "type": "contour"
           }
          ],
          "contourcarpet": [
           {
            "colorbar": {
             "outlinewidth": 0,
             "ticks": ""
            },
            "type": "contourcarpet"
           }
          ],
          "heatmap": [
           {
            "colorbar": {
             "outlinewidth": 0,
             "ticks": ""
            },
            "colorscale": [
             [
              0,
              "#0d0887"
             ],
             [
              0.1111111111111111,
              "#46039f"
             ],
             [
              0.2222222222222222,
              "#7201a8"
             ],
             [
              0.3333333333333333,
              "#9c179e"
             ],
             [
              0.4444444444444444,
              "#bd3786"
             ],
             [
              0.5555555555555556,
              "#d8576b"
             ],
             [
              0.6666666666666666,
              "#ed7953"
             ],
             [
              0.7777777777777778,
              "#fb9f3a"
             ],
             [
              0.8888888888888888,
              "#fdca26"
             ],
             [
              1,
              "#f0f921"
             ]
            ],
            "type": "heatmap"
           }
          ],
          "heatmapgl": [
           {
            "colorbar": {
             "outlinewidth": 0,
             "ticks": ""
            },
            "colorscale": [
             [
              0,
              "#0d0887"
             ],
             [
              0.1111111111111111,
              "#46039f"
             ],
             [
              0.2222222222222222,
              "#7201a8"
             ],
             [
              0.3333333333333333,
              "#9c179e"
             ],
             [
              0.4444444444444444,
              "#bd3786"
             ],
             [
              0.5555555555555556,
              "#d8576b"
             ],
             [
              0.6666666666666666,
              "#ed7953"
             ],
             [
              0.7777777777777778,
              "#fb9f3a"
             ],
             [
              0.8888888888888888,
              "#fdca26"
             ],
             [
              1,
              "#f0f921"
             ]
            ],
            "type": "heatmapgl"
           }
          ],
          "histogram": [
           {
            "marker": {
             "pattern": {
              "fillmode": "overlay",
              "size": 10,
              "solidity": 0.2
             }
            },
            "type": "histogram"
           }
          ],
          "histogram2d": [
           {
            "colorbar": {
             "outlinewidth": 0,
             "ticks": ""
            },
            "colorscale": [
             [
              0,
              "#0d0887"
             ],
             [
              0.1111111111111111,
              "#46039f"
             ],
             [
              0.2222222222222222,
              "#7201a8"
             ],
             [
              0.3333333333333333,
              "#9c179e"
             ],
             [
              0.4444444444444444,
              "#bd3786"
             ],
             [
              0.5555555555555556,
              "#d8576b"
             ],
             [
              0.6666666666666666,
              "#ed7953"
             ],
             [
              0.7777777777777778,
              "#fb9f3a"
             ],
             [
              0.8888888888888888,
              "#fdca26"
             ],
             [
              1,
              "#f0f921"
             ]
            ],
            "type": "histogram2d"
           }
          ],
          "histogram2dcontour": [
           {
            "colorbar": {
             "outlinewidth": 0,
             "ticks": ""
            },
            "colorscale": [
             [
              0,
              "#0d0887"
             ],
             [
              0.1111111111111111,
              "#46039f"
             ],
             [
              0.2222222222222222,
              "#7201a8"
             ],
             [
              0.3333333333333333,
              "#9c179e"
             ],
             [
              0.4444444444444444,
              "#bd3786"
             ],
             [
              0.5555555555555556,
              "#d8576b"
             ],
             [
              0.6666666666666666,
              "#ed7953"
             ],
             [
              0.7777777777777778,
              "#fb9f3a"
             ],
             [
              0.8888888888888888,
              "#fdca26"
             ],
             [
              1,
              "#f0f921"
             ]
            ],
            "type": "histogram2dcontour"
           }
          ],
          "mesh3d": [
           {
            "colorbar": {
             "outlinewidth": 0,
             "ticks": ""
            },
            "type": "mesh3d"
           }
          ],
          "parcoords": [
           {
            "line": {
             "colorbar": {
              "outlinewidth": 0,
              "ticks": ""
             }
            },
            "type": "parcoords"
           }
          ],
          "pie": [
           {
            "automargin": true,
            "type": "pie"
           }
          ],
          "scatter": [
           {
            "fillpattern": {
             "fillmode": "overlay",
             "size": 10,
             "solidity": 0.2
            },
            "type": "scatter"
           }
          ],
          "scatter3d": [
           {
            "line": {
             "colorbar": {
              "outlinewidth": 0,
              "ticks": ""
             }
            },
            "marker": {
             "colorbar": {
              "outlinewidth": 0,
              "ticks": ""
             }
            },
            "type": "scatter3d"
           }
          ],
          "scattercarpet": [
           {
            "marker": {
             "colorbar": {
              "outlinewidth": 0,
              "ticks": ""
             }
            },
            "type": "scattercarpet"
           }
          ],
          "scattergeo": [
           {
            "marker": {
             "colorbar": {
              "outlinewidth": 0,
              "ticks": ""
             }
            },
            "type": "scattergeo"
           }
          ],
          "scattergl": [
           {
            "marker": {
             "colorbar": {
              "outlinewidth": 0,
              "ticks": ""
             }
            },
            "type": "scattergl"
           }
          ],
          "scattermapbox": [
           {
            "marker": {
             "colorbar": {
              "outlinewidth": 0,
              "ticks": ""
             }
            },
            "type": "scattermapbox"
           }
          ],
          "scatterpolar": [
           {
            "marker": {
             "colorbar": {
              "outlinewidth": 0,
              "ticks": ""
             }
            },
            "type": "scatterpolar"
           }
          ],
          "scatterpolargl": [
           {
            "marker": {
             "colorbar": {
              "outlinewidth": 0,
              "ticks": ""
             }
            },
            "type": "scatterpolargl"
           }
          ],
          "scatterternary": [
           {
            "marker": {
             "colorbar": {
              "outlinewidth": 0,
              "ticks": ""
             }
            },
            "type": "scatterternary"
           }
          ],
          "surface": [
           {
            "colorbar": {
             "outlinewidth": 0,
             "ticks": ""
            },
            "colorscale": [
             [
              0,
              "#0d0887"
             ],
             [
              0.1111111111111111,
              "#46039f"
             ],
             [
              0.2222222222222222,
              "#7201a8"
             ],
             [
              0.3333333333333333,
              "#9c179e"
             ],
             [
              0.4444444444444444,
              "#bd3786"
             ],
             [
              0.5555555555555556,
              "#d8576b"
             ],
             [
              0.6666666666666666,
              "#ed7953"
             ],
             [
              0.7777777777777778,
              "#fb9f3a"
             ],
             [
              0.8888888888888888,
              "#fdca26"
             ],
             [
              1,
              "#f0f921"
             ]
            ],
            "type": "surface"
           }
          ],
          "table": [
           {
            "cells": {
             "fill": {
              "color": "#EBF0F8"
             },
             "line": {
              "color": "white"
             }
            },
            "header": {
             "fill": {
              "color": "#C8D4E3"
             },
             "line": {
              "color": "white"
             }
            },
            "type": "table"
           }
          ]
         },
         "layout": {
          "annotationdefaults": {
           "arrowcolor": "#2a3f5f",
           "arrowhead": 0,
           "arrowwidth": 1
          },
          "autotypenumbers": "strict",
          "coloraxis": {
           "colorbar": {
            "outlinewidth": 0,
            "ticks": ""
           }
          },
          "colorscale": {
           "diverging": [
            [
             0,
             "#8e0152"
            ],
            [
             0.1,
             "#c51b7d"
            ],
            [
             0.2,
             "#de77ae"
            ],
            [
             0.3,
             "#f1b6da"
            ],
            [
             0.4,
             "#fde0ef"
            ],
            [
             0.5,
             "#f7f7f7"
            ],
            [
             0.6,
             "#e6f5d0"
            ],
            [
             0.7,
             "#b8e186"
            ],
            [
             0.8,
             "#7fbc41"
            ],
            [
             0.9,
             "#4d9221"
            ],
            [
             1,
             "#276419"
            ]
           ],
           "sequential": [
            [
             0,
             "#0d0887"
            ],
            [
             0.1111111111111111,
             "#46039f"
            ],
            [
             0.2222222222222222,
             "#7201a8"
            ],
            [
             0.3333333333333333,
             "#9c179e"
            ],
            [
             0.4444444444444444,
             "#bd3786"
            ],
            [
             0.5555555555555556,
             "#d8576b"
            ],
            [
             0.6666666666666666,
             "#ed7953"
            ],
            [
             0.7777777777777778,
             "#fb9f3a"
            ],
            [
             0.8888888888888888,
             "#fdca26"
            ],
            [
             1,
             "#f0f921"
            ]
           ],
           "sequentialminus": [
            [
             0,
             "#0d0887"
            ],
            [
             0.1111111111111111,
             "#46039f"
            ],
            [
             0.2222222222222222,
             "#7201a8"
            ],
            [
             0.3333333333333333,
             "#9c179e"
            ],
            [
             0.4444444444444444,
             "#bd3786"
            ],
            [
             0.5555555555555556,
             "#d8576b"
            ],
            [
             0.6666666666666666,
             "#ed7953"
            ],
            [
             0.7777777777777778,
             "#fb9f3a"
            ],
            [
             0.8888888888888888,
             "#fdca26"
            ],
            [
             1,
             "#f0f921"
            ]
           ]
          },
          "colorway": [
           "#636efa",
           "#EF553B",
           "#00cc96",
           "#ab63fa",
           "#FFA15A",
           "#19d3f3",
           "#FF6692",
           "#B6E880",
           "#FF97FF",
           "#FECB52"
          ],
          "font": {
           "color": "#2a3f5f"
          },
          "geo": {
           "bgcolor": "white",
           "lakecolor": "white",
           "landcolor": "#E5ECF6",
           "showlakes": true,
           "showland": true,
           "subunitcolor": "white"
          },
          "hoverlabel": {
           "align": "left"
          },
          "hovermode": "closest",
          "mapbox": {
           "style": "light"
          },
          "paper_bgcolor": "white",
          "plot_bgcolor": "#E5ECF6",
          "polar": {
           "angularaxis": {
            "gridcolor": "white",
            "linecolor": "white",
            "ticks": ""
           },
           "bgcolor": "#E5ECF6",
           "radialaxis": {
            "gridcolor": "white",
            "linecolor": "white",
            "ticks": ""
           }
          },
          "scene": {
           "xaxis": {
            "backgroundcolor": "#E5ECF6",
            "gridcolor": "white",
            "gridwidth": 2,
            "linecolor": "white",
            "showbackground": true,
            "ticks": "",
            "zerolinecolor": "white"
           },
           "yaxis": {
            "backgroundcolor": "#E5ECF6",
            "gridcolor": "white",
            "gridwidth": 2,
            "linecolor": "white",
            "showbackground": true,
            "ticks": "",
            "zerolinecolor": "white"
           },
           "zaxis": {
            "backgroundcolor": "#E5ECF6",
            "gridcolor": "white",
            "gridwidth": 2,
            "linecolor": "white",
            "showbackground": true,
            "ticks": "",
            "zerolinecolor": "white"
           }
          },
          "shapedefaults": {
           "line": {
            "color": "#2a3f5f"
           }
          },
          "ternary": {
           "aaxis": {
            "gridcolor": "white",
            "linecolor": "white",
            "ticks": ""
           },
           "baxis": {
            "gridcolor": "white",
            "linecolor": "white",
            "ticks": ""
           },
           "bgcolor": "#E5ECF6",
           "caxis": {
            "gridcolor": "white",
            "linecolor": "white",
            "ticks": ""
           }
          },
          "title": {
           "x": 0.05
          },
          "xaxis": {
           "automargin": true,
           "gridcolor": "white",
           "linecolor": "white",
           "ticks": "",
           "title": {
            "standoff": 15
           },
           "zerolinecolor": "white",
           "zerolinewidth": 2
          },
          "yaxis": {
           "automargin": true,
           "gridcolor": "white",
           "linecolor": "white",
           "ticks": "",
           "title": {
            "standoff": 15
           },
           "zerolinecolor": "white",
           "zerolinewidth": 2
          }
         }
        },
        "title": {
         "text": "Average Temperature in Each Season"
        },
        "xaxis": {
         "anchor": "y",
         "domain": [
          0,
          1
         ],
         "title": {
          "text": "year"
         }
        },
        "yaxis": {
         "anchor": "x",
         "domain": [
          0,
          1
         ],
         "title": {
          "text": "value"
         }
        }
       }
      },
      "text/html": [
       "<div>                            <div id=\"7bd2976d-1e6d-464b-aeff-0f58205e993a\" class=\"plotly-graph-div\" style=\"height:525px; width:100%;\"></div>            <script type=\"text/javascript\">                require([\"plotly\"], function(Plotly) {                    window.PLOTLYENV=window.PLOTLYENV || {};                                    if (document.getElementById(\"7bd2976d-1e6d-464b-aeff-0f58205e993a\")) {                    Plotly.newPlot(                        \"7bd2976d-1e6d-464b-aeff-0f58205e993a\",                        [{\"hovertemplate\":\"variable=spring_temps<br>year=%{x}<br>value=%{y}<extra></extra>\",\"legendgroup\":\"spring_temps\",\"line\":{\"color\":\"#636efa\",\"dash\":\"solid\"},\"marker\":{\"symbol\":\"circle\"},\"mode\":\"lines\",\"name\":\"spring_temps\",\"showlegend\":true,\"x\":[\"1750\",\"1751\",\"1752\",\"1753\",\"1754\",\"1755\",\"1756\",\"1757\",\"1758\",\"1759\",\"1760\",\"1761\",\"1762\",\"1763\",\"1764\",\"1765\",\"1766\",\"1767\",\"1768\",\"1769\",\"1770\",\"1771\",\"1772\",\"1773\",\"1774\",\"1775\",\"1776\",\"1777\",\"1778\",\"1779\",\"1780\",\"1781\",\"1782\",\"1783\",\"1784\",\"1785\",\"1786\",\"1787\",\"1788\",\"1789\",\"1790\",\"1791\",\"1792\",\"1793\",\"1794\",\"1795\",\"1796\",\"1797\",\"1798\",\"1799\",\"1800\",\"1801\",\"1802\",\"1803\",\"1804\",\"1805\",\"1806\",\"1807\",\"1808\",\"1809\",\"1810\",\"1811\",\"1812\",\"1813\",\"1814\",\"1815\",\"1816\",\"1817\",\"1818\",\"1819\",\"1820\",\"1821\",\"1822\",\"1823\",\"1824\",\"1825\",\"1826\",\"1827\",\"1828\",\"1829\",\"1830\",\"1831\",\"1832\",\"1833\",\"1834\",\"1835\",\"1836\",\"1837\",\"1838\",\"1839\",\"1840\",\"1841\",\"1842\",\"1843\",\"1844\",\"1845\",\"1846\",\"1847\",\"1848\",\"1849\",\"1850\",\"1851\",\"1852\",\"1853\",\"1854\",\"1855\",\"1856\",\"1857\",\"1858\",\"1859\",\"1860\",\"1861\",\"1862\",\"1863\",\"1864\",\"1865\",\"1866\",\"1867\",\"1868\",\"1869\",\"1870\",\"1871\",\"1872\",\"1873\",\"1874\",\"1875\",\"1876\",\"1877\",\"1878\",\"1879\",\"1880\",\"1881\",\"1882\",\"1883\",\"1884\",\"1885\",\"1886\",\"1887\",\"1888\",\"1889\",\"1890\",\"1891\",\"1892\",\"1893\",\"1894\",\"1895\",\"1896\",\"1897\",\"1898\",\"1899\",\"1900\",\"1901\",\"1902\",\"1903\",\"1904\",\"1905\",\"1906\",\"1907\",\"1908\",\"1909\",\"1910\",\"1911\",\"1912\",\"1913\",\"1914\",\"1915\",\"1916\",\"1917\",\"1918\",\"1919\",\"1920\",\"1921\",\"1922\",\"1923\",\"1924\",\"1925\",\"1926\",\"1927\",\"1928\",\"1929\",\"1930\",\"1931\",\"1932\",\"1933\",\"1934\",\"1935\",\"1936\",\"1937\",\"1938\",\"1939\",\"1940\",\"1941\",\"1942\",\"1943\",\"1944\",\"1945\",\"1946\",\"1947\",\"1948\",\"1949\",\"1950\",\"1951\",\"1952\",\"1953\",\"1954\",\"1955\",\"1956\",\"1957\",\"1958\",\"1959\",\"1960\",\"1961\",\"1962\",\"1963\",\"1964\",\"1965\",\"1966\",\"1967\",\"1968\",\"1969\",\"1970\",\"1971\",\"1972\",\"1973\",\"1974\",\"1975\",\"1976\",\"1977\",\"1978\",\"1979\",\"1980\",\"1981\",\"1982\",\"1983\",\"1984\",\"1985\",\"1986\",\"1987\",\"1988\",\"1989\",\"1990\",\"1991\",\"1992\",\"1993\",\"1994\",\"1995\",\"1996\",\"1997\",\"1998\",\"1999\",\"2000\",\"2001\",\"2002\",\"2003\",\"2004\",\"2005\",\"2006\",\"2007\",\"2008\",\"2009\",\"2010\",\"2011\",\"2012\",\"2013\",\"2014\",\"2015\"],\"xaxis\":\"x\",\"y\":[8.563,6.734999999999999,7.035499999999999,8.627333333333334,9.074333333333334,8.583666666666666,9.466,8.604666666666667,6.896666666666666,6.897333333333333,6.653666666666666,8.916,7.809333333333332,6.716,8.192,8.868666666666668,8.432333333333332,7.831,6.144000000000001,8.803333333333333,7.132000000000001,6.0523333333333325,7.148666666666666,8.866999999999999,10.607,9.036666666666667,7.522333333333333,7.774333333333334,8.957999999999998,10.370666666666667,11.737666666666664,7.599,7.390999999999998,8.397333333333334,7.3580000000000005,6.173666666666667,8.849666666666666,7.9576666666666656,8.159333333333334,7.783,6.997333333333333,7.9253333333333345,7.914666666666666,8.248,9.146333333333333,8.552,7.507666666666666,7.024333333333334,8.953333333333333,8.041666666666666,8.224666666666666,8.660666666666666,7.760333333333333,8.653666666666666,8.863,8.328999999999999,8.075333333333333,7.03,7.066666666666666,6.833666666666666,6.872,6.481999999999999,6.191333333333333,7.048333333333333,6.424666666666667,6.698666666666667,7.368333333333332,7.311333333333333,8.904333333333334,6.603666666666666,8.312666666666667,8.167,8.850333333333333,7.765333333333333,8.287999999999998,8.368,8.365,9.125666666666666,8.582333333333333,8.070666666666666,7.832333333333334,7.761,7.732666666666667,7.657,8.351666666666667,7.482333333333333,7.680666666666667,6.797999999999999,7.030333333333332,6.951333333333333,7.718666666666667,6.947,8.198333333333332,7.537999999999999,7.410666666666667,7.747333333333333,8.227666666666666,7.549333333333333,7.832,7.496333333333333,7.391666666666666,7.530666666666666,7.513333333333333,7.531333333333333,7.805,8.127666666666666,7.550999999999999,7.008,7.978333333333334,8.340333333333334,7.438666666666666,7.497333333333333,7.515666666666667,7.898,7.707333333333334,7.423333333333332,7.7443333333333335,7.735666666666667,8.009666666666666,7.863333333333332,7.958000000000001,7.937666666666666,7.988666666666667,7.723999999999999,7.919333333333333,7.545999999999999,7.8790000000000004,8.130666666666666,8.841333333333333,7.831666666666667,7.761666666666666,8.165999999999999,7.873,7.817333333333333,7.092,7.508333333333333,7.651666666666666,7.726999999999999,7.588333333333334,8.376666666666667,7.470999999999999,7.719333333333332,7.515333333333333,7.906666666666666,7.908333333333334,7.934333333333334,7.500666666666667,8.0,7.497666666666667,7.973999999999999,8.366666666666667,8.457,7.910666666666667,7.851999999999999,7.676666666666666,7.790666666666667,8.244,7.509666666666667,7.702999999999999,7.578,7.905333333333334,7.722,7.946333333333333,7.761666666666666,8.108333333333333,8.447000000000001,7.954999999999999,7.5953333333333335,7.664999999999999,8.066333333333333,8.216999999999999,8.216666666666667,8.211,7.821333333333333,8.17,8.202333333333334,8.318333333333333,7.935666666666666,8.124,8.036,8.256666666666666,8.134333333333332,8.316,8.013666666666667,8.104,8.025333333333334,8.136333333333333,8.137666666666666,8.673333333333334,8.259333333333332,8.506,8.427,8.354,8.420333333333334,8.433,8.320666666666668,8.476,8.605333333333334,8.318333333333333,8.243333333333332,8.222333333333333,8.298666666666668,8.26,8.706000000000001,8.097999999999999,7.970999999999999,7.8439999999999985,8.220333333333334,8.497333333333332,8.665333333333333,7.769333333333333,8.614666666666666,8.399333333333333,8.104999999999999,7.897333333333333,8.131333333333332,8.296,8.495333333333333,8.546666666666667,8.353666666666667,8.360333333333333,8.183666666666667,8.259666666666666,8.84233333333333,8.258000000000001,8.677333333333333,7.917666666666666,8.777333333333333,8.604,8.376,8.690666666666665,8.918999999999999,8.228666666666667,8.706999999999999,8.693,8.503333333333332,8.735666666666665,8.455,8.924999999999999,8.587000000000002,9.243333333333334,8.805333333333333,8.686333333333332,8.696,8.811,8.832666666666666,8.597,8.832,9.224,8.691333333333333,9.215,9.241333333333333,9.416333333333332,9.118333333333332,9.046999999999999,9.462666666666665,9.056666666666667,9.608666666666666,9.418333333333333,9.188333333333333,9.604999999999999,9.19,9.429666666666666,9.166666666666666,9.516333333333334,9.455],\"yaxis\":\"y\",\"type\":\"scattergl\"},{\"hovertemplate\":\"variable=summer_temps<br>year=%{x}<br>value=%{y}<extra></extra>\",\"legendgroup\":\"summer_temps\",\"line\":{\"color\":\"#EF553B\",\"dash\":\"solid\"},\"marker\":{\"symbol\":\"circle\"},\"mode\":\"lines\",\"name\":\"summer_temps\",\"showlegend\":true,\"x\":[\"1750\",\"1751\",\"1752\",\"1753\",\"1754\",\"1755\",\"1756\",\"1757\",\"1758\",\"1759\",\"1760\",\"1761\",\"1762\",\"1763\",\"1764\",\"1765\",\"1766\",\"1767\",\"1768\",\"1769\",\"1770\",\"1771\",\"1772\",\"1773\",\"1774\",\"1775\",\"1776\",\"1777\",\"1778\",\"1779\",\"1780\",\"1781\",\"1782\",\"1783\",\"1784\",\"1785\",\"1786\",\"1787\",\"1788\",\"1789\",\"1790\",\"1791\",\"1792\",\"1793\",\"1794\",\"1795\",\"1796\",\"1797\",\"1798\",\"1799\",\"1800\",\"1801\",\"1802\",\"1803\",\"1804\",\"1805\",\"1806\",\"1807\",\"1808\",\"1809\",\"1810\",\"1811\",\"1812\",\"1813\",\"1814\",\"1815\",\"1816\",\"1817\",\"1818\",\"1819\",\"1820\",\"1821\",\"1822\",\"1823\",\"1824\",\"1825\",\"1826\",\"1827\",\"1828\",\"1829\",\"1830\",\"1831\",\"1832\",\"1833\",\"1834\",\"1835\",\"1836\",\"1837\",\"1838\",\"1839\",\"1840\",\"1841\",\"1842\",\"1843\",\"1844\",\"1845\",\"1846\",\"1847\",\"1848\",\"1849\",\"1850\",\"1851\",\"1852\",\"1853\",\"1854\",\"1855\",\"1856\",\"1857\",\"1858\",\"1859\",\"1860\",\"1861\",\"1862\",\"1863\",\"1864\",\"1865\",\"1866\",\"1867\",\"1868\",\"1869\",\"1870\",\"1871\",\"1872\",\"1873\",\"1874\",\"1875\",\"1876\",\"1877\",\"1878\",\"1879\",\"1880\",\"1881\",\"1882\",\"1883\",\"1884\",\"1885\",\"1886\",\"1887\",\"1888\",\"1889\",\"1890\",\"1891\",\"1892\",\"1893\",\"1894\",\"1895\",\"1896\",\"1897\",\"1898\",\"1899\",\"1900\",\"1901\",\"1902\",\"1903\",\"1904\",\"1905\",\"1906\",\"1907\",\"1908\",\"1909\",\"1910\",\"1911\",\"1912\",\"1913\",\"1914\",\"1915\",\"1916\",\"1917\",\"1918\",\"1919\",\"1920\",\"1921\",\"1922\",\"1923\",\"1924\",\"1925\",\"1926\",\"1927\",\"1928\",\"1929\",\"1930\",\"1931\",\"1932\",\"1933\",\"1934\",\"1935\",\"1936\",\"1937\",\"1938\",\"1939\",\"1940\",\"1941\",\"1942\",\"1943\",\"1944\",\"1945\",\"1946\",\"1947\",\"1948\",\"1949\",\"1950\",\"1951\",\"1952\",\"1953\",\"1954\",\"1955\",\"1956\",\"1957\",\"1958\",\"1959\",\"1960\",\"1961\",\"1962\",\"1963\",\"1964\",\"1965\",\"1966\",\"1967\",\"1968\",\"1969\",\"1970\",\"1971\",\"1972\",\"1973\",\"1974\",\"1975\",\"1976\",\"1977\",\"1978\",\"1979\",\"1980\",\"1981\",\"1982\",\"1983\",\"1984\",\"1985\",\"1986\",\"1987\",\"1988\",\"1989\",\"1990\",\"1991\",\"1992\",\"1993\",\"1994\",\"1995\",\"1996\",\"1997\",\"1998\",\"1999\",\"2000\",\"2001\",\"2002\",\"2003\",\"2004\",\"2005\",\"2006\",\"2007\",\"2008\",\"2009\",\"2010\",\"2011\",\"2012\",\"2013\",\"2014\",\"2015\"],\"xaxis\":\"x\",\"y\":[14.518333333333333,14.116,null,14.608333333333334,14.208333333333334,14.430666666666667,13.963333333333333,17.544999999999998,12.934666666666665,13.541666666666666,12.916333333333334,17.057666666666666,14.070333333333332,14.262666666666666,12.170666666666667,12.635333333333334,13.655333333333331,14.023333333333333,12.905666666666667,14.365666666666668,11.639333333333335,14.045333333333332,13.775333333333334,13.639666666666669,15.330333333333334,13.822666666666668,14.503,12.627,13.212333333333333,13.335,14.625666666666666,13.368,14.469666666666667,13.793333333333331,14.537,14.226,14.261333333333333,13.791666666666666,14.720333333333334,14.269666666666666,13.827666666666667,13.529000000000002,13.357999999999999,13.547333333333333,12.784,13.576,14.417333333333334,13.999666666666664,14.317,14.211666666666666,13.662666666666667,13.466333333333331,14.379333333333333,14.764333333333333,14.686333333333332,14.666333333333332,13.644666666666666,13.743333333333332,13.655666666666667,12.853,12.175333333333333,12.472999999999999,13.792666666666667,13.62,12.672666666666666,12.921666666666667,12.208999999999998,12.254,13.500333333333336,12.707,12.870666666666667,12.930666666666667,13.498,13.761666666666668,13.897999999999998,13.680333333333332,13.537,13.975333333333333,14.047666666666666,13.494666666666667,13.718333333333334,13.091000000000001,12.85,13.357999999999999,13.469333333333333,12.485999999999999,13.008333333333333,12.881,13.559,13.676333333333332,13.737,13.774,13.151333333333334,13.272,13.269,13.579333333333333,14.191333333333333,13.497333333333332,13.660333333333334,13.687,13.893666666666668,13.899999999999999,13.660000000000002,14.002666666666665,13.803333333333333,13.485666666666667,13.512,13.255666666666665,13.284333333333334,13.395333333333333,13.746666666666664,13.546666666666667,13.325333333333333,13.284333333333334,13.653666666666666,13.671333333333335,13.662333333333331,13.677333333333335,13.806666666666667,13.961333333333334,13.912,13.767333333333333,13.720333333333334,13.815666666666667,13.747666666666666,13.567333333333332,13.643666666666666,14.059,14.210666666666667,13.571,13.758333333333333,13.552666666666667,13.418333333333331,13.512333333333332,13.135333333333334,13.346333333333334,13.446,13.336,13.558,13.672333333333333,13.390666666666666,13.438,13.524333333333333,13.607666666666667,13.450000000000001,13.533333333333333,13.720333333333334,13.765666666666666,13.704,13.597333333333333,13.76,13.850333333333333,13.681333333333333,13.43,13.436333333333332,13.588999999999999,13.715666666666666,13.286666666666667,13.622,13.591333333333333,13.702333333333334,13.530000000000001,13.403666666666666,13.622,13.841333333333333,13.837666666666669,13.524666666666667,13.548333333333332,13.447000000000001,13.762666666666666,13.682666666666668,13.812333333333333,13.731,13.630333333333335,13.766666666666667,13.641333333333334,13.776666666666666,13.764333333333333,13.703333333333333,13.521666666666667,13.913333333333332,14.089666666666666,13.831666666666665,13.702,13.841,13.810666666666668,13.950666666666665,13.995,13.921999999999999,13.952666666666667,13.988333333333335,14.117333333333335,13.868666666666668,13.798333333333334,13.987666666666664,13.951333333333332,13.847,13.878333333333332,14.001666666666667,13.749333333333334,13.660666666666666,13.865,13.985,14.020999999999999,13.836333333333334,14.028333333333334,13.509666666666666,13.998,13.740666666666668,13.959666666666669,13.835666666666668,13.946333333333333,13.781666666666666,14.075666666666665,13.812666666666667,13.731,13.962333333333333,13.781999999999998,13.584666666666665,13.832333333333333,13.855333333333334,13.705666666666666,13.967666666666666,14.042666666666667,13.895333333333333,13.807333333333332,13.583999999999998,14.198999999999998,13.627,13.811333333333332,14.171000000000001,14.335,13.862,14.062666666666667,13.933333333333335,13.866999999999999,13.901333333333334,14.237666666666668,14.483333333333334,14.064666666666666,14.257333333333333,14.523000000000001,13.826999999999998,13.982666666666667,14.259666666666666,14.638666666666666,14.370333333333333,14.317333333333332,14.911666666666667,14.410666666666666,14.475666666666667,14.566,14.665999999999999,14.563666666666668,14.129666666666667,14.725333333333333,14.799333333333331,14.763666666666667,14.565333333333333,14.695666666666668,14.800666666666666,14.954666666666666,14.762666666666668,14.771,14.694333333333333,14.770333333333333],\"yaxis\":\"y\",\"type\":\"scattergl\"},{\"hovertemplate\":\"variable=autumn_temps<br>year=%{x}<br>value=%{y}<extra></extra>\",\"legendgroup\":\"autumn_temps\",\"line\":{\"color\":\"#00cc96\",\"dash\":\"solid\"},\"marker\":{\"symbol\":\"circle\"},\"mode\":\"lines\",\"name\":\"autumn_temps\",\"showlegend\":true,\"x\":[\"1750\",\"1751\",\"1752\",\"1753\",\"1754\",\"1755\",\"1756\",\"1757\",\"1758\",\"1759\",\"1760\",\"1761\",\"1762\",\"1763\",\"1764\",\"1765\",\"1766\",\"1767\",\"1768\",\"1769\",\"1770\",\"1771\",\"1772\",\"1773\",\"1774\",\"1775\",\"1776\",\"1777\",\"1778\",\"1779\",\"1780\",\"1781\",\"1782\",\"1783\",\"1784\",\"1785\",\"1786\",\"1787\",\"1788\",\"1789\",\"1790\",\"1791\",\"1792\",\"1793\",\"1794\",\"1795\",\"1796\",\"1797\",\"1798\",\"1799\",\"1800\",\"1801\",\"1802\",\"1803\",\"1804\",\"1805\",\"1806\",\"1807\",\"1808\",\"1809\",\"1810\",\"1811\",\"1812\",\"1813\",\"1814\",\"1815\",\"1816\",\"1817\",\"1818\",\"1819\",\"1820\",\"1821\",\"1822\",\"1823\",\"1824\",\"1825\",\"1826\",\"1827\",\"1828\",\"1829\",\"1830\",\"1831\",\"1832\",\"1833\",\"1834\",\"1835\",\"1836\",\"1837\",\"1838\",\"1839\",\"1840\",\"1841\",\"1842\",\"1843\",\"1844\",\"1845\",\"1846\",\"1847\",\"1848\",\"1849\",\"1850\",\"1851\",\"1852\",\"1853\",\"1854\",\"1855\",\"1856\",\"1857\",\"1858\",\"1859\",\"1860\",\"1861\",\"1862\",\"1863\",\"1864\",\"1865\",\"1866\",\"1867\",\"1868\",\"1869\",\"1870\",\"1871\",\"1872\",\"1873\",\"1874\",\"1875\",\"1876\",\"1877\",\"1878\",\"1879\",\"1880\",\"1881\",\"1882\",\"1883\",\"1884\",\"1885\",\"1886\",\"1887\",\"1888\",\"1889\",\"1890\",\"1891\",\"1892\",\"1893\",\"1894\",\"1895\",\"1896\",\"1897\",\"1898\",\"1899\",\"1900\",\"1901\",\"1902\",\"1903\",\"1904\",\"1905\",\"1906\",\"1907\",\"1908\",\"1909\",\"1910\",\"1911\",\"1912\",\"1913\",\"1914\",\"1915\",\"1916\",\"1917\",\"1918\",\"1919\",\"1920\",\"1921\",\"1922\",\"1923\",\"1924\",\"1925\",\"1926\",\"1927\",\"1928\",\"1929\",\"1930\",\"1931\",\"1932\",\"1933\",\"1934\",\"1935\",\"1936\",\"1937\",\"1938\",\"1939\",\"1940\",\"1941\",\"1942\",\"1943\",\"1944\",\"1945\",\"1946\",\"1947\",\"1948\",\"1949\",\"1950\",\"1951\",\"1952\",\"1953\",\"1954\",\"1955\",\"1956\",\"1957\",\"1958\",\"1959\",\"1960\",\"1961\",\"1962\",\"1963\",\"1964\",\"1965\",\"1966\",\"1967\",\"1968\",\"1969\",\"1970\",\"1971\",\"1972\",\"1973\",\"1974\",\"1975\",\"1976\",\"1977\",\"1978\",\"1979\",\"1980\",\"1981\",\"1982\",\"1983\",\"1984\",\"1985\",\"1986\",\"1987\",\"1988\",\"1989\",\"1990\",\"1991\",\"1992\",\"1993\",\"1994\",\"1995\",\"1996\",\"1997\",\"1998\",\"1999\",\"2000\",\"2001\",\"2002\",\"2003\",\"2004\",\"2005\",\"2006\",\"2007\",\"2008\",\"2009\",\"2010\",\"2011\",\"2012\",\"2013\",\"2014\",\"2015\"],\"xaxis\":\"x\",\"y\":[8.889999999999999,10.673,7.587,9.212333333333333,8.957333333333333,9.233666666666666,8.063,8.455333333333334,6.2923333333333344,8.387,7.778,8.283666666666667,7.616333333333333,7.167000000000001,8.832666666666666,8.166666666666666,9.389666666666667,9.539,7.711333333333333,6.445666666666665,8.392,8.865333333333334,9.102333333333334,8.354333333333333,7.5183333333333335,9.882333333333333,8.177333333333333,7.954666666666667,8.426666666666668,9.267666666666667,8.308666666666666,8.791333333333332,8.777333333333333,6.503666666666667,7.219666666666666,7.791333333333333,8.537,7.976666666666667,9.053,8.457333333333333,8.380333333333335,8.654333333333332,8.631333333333334,8.687,8.762666666666666,8.042,8.879333333333333,8.809,8.771,9.273666666666667,8.612,8.760333333333334,9.023333333333332,9.136666666666665,9.627333333333334,8.076666666666666,8.735333333333335,9.162333333333335,8.398333333333333,7.572,6.663666666666667,6.817,7.3823333333333325,9.276666666666667,8.263,7.488666666666667,6.7156666666666665,6.550999999999999,7.4223333333333334,8.451999999999998,7.730333333333333,8.104666666666667,7.656666666666667,7.449333333333333,8.534,8.395,8.757,8.557333333333334,8.231,8.135666666666667,8.675333333333333,7.396,7.774,8.577333333333334,8.847666666666667,7.363,7.794,7.542333333333333,8.264,7.663999999999999,7.538666666666667,8.143333333333333,8.023666666666665,8.331666666666667,7.973333333333333,8.07,8.337,8.603666666666667,8.314,8.586999999999998,8.109666666666667,8.590666666666666,8.327,8.342666666666668,9.007333333333333,8.257,8.131666666666666,8.163333333333332,8.649333333333333,8.608666666666666,8.543666666666667,8.530333333333333,8.034333333333334,8.285666666666666,8.465666666666666,9.025666666666666,8.642666666666667,9.304666666666668,8.769666666666668,9.008666666666667,8.787333333333331,8.64,8.856666666666667,8.846666666666666,9.013333333333334,8.172666666666666,8.575333333333333,9.232,9.237333333333334,8.734666666666667,8.650666666666666,8.604,8.415666666666667,8.385666666666665,8.326666666666666,8.527333333333335,8.476666666666667,8.679,8.892666666666669,8.470333333333334,8.584666666666667,8.533333333333333,8.637666666666666,8.943,8.703333333333333,8.868,8.868666666666668,8.91,8.677666666666665,9.380666666666666,9.141666666666667,8.987666666666668,8.624666666666668,8.609666666666667,8.814666666666666,9.009333333333332,8.846666666666666,8.702,8.704666666666666,9.102333333333332,8.685666666666668,8.955,8.37,8.953333333333333,9.020333333333333,9.022333333333334,8.791666666666668,8.703000000000001,8.999,8.946666666666667,8.793666666666667,8.999,8.959,9.260333333333334,9.186666666666667,9.171666666666665,9.308333333333334,9.495666666666667,9.283999999999999,9.146333333333335,9.236333333333333,9.487666666666666,9.3,8.994,9.181666666666667,8.985999999999999,9.237,9.499333333333333,9.580333333333334,9.121666666666666,9.267000000000001,9.159666666666668,9.389333333333335,9.421,9.449666666666667,9.290999999999999,9.193333333333333,9.528,9.308,9.212,8.825666666666667,9.406333333333334,8.94,9.237666666666668,9.407666666666666,9.220666666666666,8.816333333333333,9.399666666666667,9.159999999999998,8.952666666666667,9.139999999999999,9.26,9.256333333333334,9.686333333333332,8.806333333333333,9.026,9.085,9.346333333333334,8.988,9.319,9.224,9.274000000000001,9.014666666666667,9.318666666666667,8.919,9.121,8.688666666666666,9.187333333333333,9.239666666666666,9.373,9.518333333333334,9.301,9.077333333333334,9.647,9.068,9.095333333333333,9.011666666666667,9.364333333333333,9.651666666666666,9.447333333333333,9.665666666666667,9.623333333333333,8.971333333333332,9.094,9.768666666666666,9.810666666666666,9.455333333333334,9.878333333333334,9.672666666666666,9.770666666666665,9.448333333333334,9.996666666666666,9.943333333333333,10.020666666666667,10.028,10.413666666666666,10.039666666666667,10.115333333333334,10.141666666666667,10.106666666666667,10.264000000000001,10.026000000000002,10.208,10.278,10.044666666666666,10.411],\"yaxis\":\"y\",\"type\":\"scattergl\"},{\"hovertemplate\":\"variable=winter_temps<br>year=%{x}<br>value=%{y}<extra></extra>\",\"legendgroup\":\"winter_temps\",\"line\":{\"color\":\"#ab63fa\",\"dash\":\"solid\"},\"marker\":{\"symbol\":\"circle\"},\"mode\":\"lines\",\"name\":\"winter_temps\",\"showlegend\":true,\"x\":[\"1750\",\"1751\",\"1752\",\"1753\",\"1754\",\"1755\",\"1756\",\"1757\",\"1758\",\"1759\",\"1760\",\"1761\",\"1762\",\"1763\",\"1764\",\"1765\",\"1766\",\"1767\",\"1768\",\"1769\",\"1770\",\"1771\",\"1772\",\"1773\",\"1774\",\"1775\",\"1776\",\"1777\",\"1778\",\"1779\",\"1780\",\"1781\",\"1782\",\"1783\",\"1784\",\"1785\",\"1786\",\"1787\",\"1788\",\"1789\",\"1790\",\"1791\",\"1792\",\"1793\",\"1794\",\"1795\",\"1796\",\"1797\",\"1798\",\"1799\",\"1800\",\"1801\",\"1802\",\"1803\",\"1804\",\"1805\",\"1806\",\"1807\",\"1808\",\"1809\",\"1810\",\"1811\",\"1812\",\"1813\",\"1814\",\"1815\",\"1816\",\"1817\",\"1818\",\"1819\",\"1820\",\"1821\",\"1822\",\"1823\",\"1824\",\"1825\",\"1826\",\"1827\",\"1828\",\"1829\",\"1830\",\"1831\",\"1832\",\"1833\",\"1834\",\"1835\",\"1836\",\"1837\",\"1838\",\"1839\",\"1840\",\"1841\",\"1842\",\"1843\",\"1844\",\"1845\",\"1846\",\"1847\",\"1848\",\"1849\",\"1850\",\"1851\",\"1852\",\"1853\",\"1854\",\"1855\",\"1856\",\"1857\",\"1858\",\"1859\",\"1860\",\"1861\",\"1862\",\"1863\",\"1864\",\"1865\",\"1866\",\"1867\",\"1868\",\"1869\",\"1870\",\"1871\",\"1872\",\"1873\",\"1874\",\"1875\",\"1876\",\"1877\",\"1878\",\"1879\",\"1880\",\"1881\",\"1882\",\"1883\",\"1884\",\"1885\",\"1886\",\"1887\",\"1888\",\"1889\",\"1890\",\"1891\",\"1892\",\"1893\",\"1894\",\"1895\",\"1896\",\"1897\",\"1898\",\"1899\",\"1900\",\"1901\",\"1902\",\"1903\",\"1904\",\"1905\",\"1906\",\"1907\",\"1908\",\"1909\",\"1910\",\"1911\",\"1912\",\"1913\",\"1914\",\"1915\",\"1916\",\"1917\",\"1918\",\"1919\",\"1920\",\"1921\",\"1922\",\"1923\",\"1924\",\"1925\",\"1926\",\"1927\",\"1928\",\"1929\",\"1930\",\"1931\",\"1932\",\"1933\",\"1934\",\"1935\",\"1936\",\"1937\",\"1938\",\"1939\",\"1940\",\"1941\",\"1942\",\"1943\",\"1944\",\"1945\",\"1946\",\"1947\",\"1948\",\"1949\",\"1950\",\"1951\",\"1952\",\"1953\",\"1954\",\"1955\",\"1956\",\"1957\",\"1958\",\"1959\",\"1960\",\"1961\",\"1962\",\"1963\",\"1964\",\"1965\",\"1966\",\"1967\",\"1968\",\"1969\",\"1970\",\"1971\",\"1972\",\"1973\",\"1974\",\"1975\",\"1976\",\"1977\",\"1978\",\"1979\",\"1980\",\"1981\",\"1982\",\"1983\",\"1984\",\"1985\",\"1986\",\"1987\",\"1988\",\"1989\",\"1990\",\"1991\",\"1992\",\"1993\",\"1994\",\"1995\",\"1996\",\"1997\",\"1998\",\"1999\",\"2000\",\"2001\",\"2002\",\"2003\",\"2004\",\"2005\",\"2006\",\"2007\",\"2008\",\"2009\",\"2010\",\"2011\",\"2012\",\"2013\",\"2014\",\"2015\"],\"xaxis\":\"x\",\"y\":[2.9630000000000005,1.729,2.7170000000000005,1.1043333333333332,1.6373333333333333,1.1743333333333332,3.906,1.4829999999999999,0.8506666666666668,3.114333333333333,1.3926666666666667,0.8326666666666666,4.930000000000001,1.8413333333333333,4.406,3.3369999999999997,2.1453333333333333,1.4926666666666666,0.36433333333333334,1.1636666666666666,3.6043333333333334,2.449666666666667,2.747666666666667,2.0249999999999995,1.633,3.9906666666666673,3.013333333333333,4.6690000000000005,3.571999999999999,2.9596666666666667,3.0596666666666668,2.6519999999999997,0.967,2.029,2.3333333333333335,1.261,1.3846666666666667,2.4013333333333335,1.856,2.8266666666666667,2.724,2.828333333333333,2.452,2.4343333333333335,3.411,3.2313333333333336,2.279666666666667,4.209333333333333,2.639666666666667,2.496,3.4376666666666664,3.4713333333333334,3.1496666666666666,1.4573333333333334,2.202666666666667,3.179,3.281,3.1899999999999995,1.3866666666666667,1.047,1.9796666666666667,1.6660000000000001,0.8186666666666668,1.0146666666666666,3.0066666666666673,1.8483333333333334,1.457,1.7863333333333333,1.4886666666666668,1.7140000000000002,1.5513333333333332,3.158,2.7483333333333335,1.8983333333333334,3.468666666666667,3.1139999999999994,2.767333333333333,3.576666666666666,1.8003333333333336,2.066333333333333,3.8409999999999997,2.308666666666667,1.4439999999999997,2.4596666666666667,1.9183333333333337,2.238666666666667,2.300333333333333,2.2813333333333334,1.2063333333333335,2.2373333333333334,2.1906666666666665,1.8883333333333334,2.7176666666666667,3.5530000000000004,1.9323333333333335,2.008,3.455,2.6936666666666667,2.111666666666667,2.167333333333333,2.207666666666667,2.693,2.9003333333333337,2.2906666666666666,2.2263333333333333,2.5726666666666667,2.7889999999999997,2.6056666666666666,2.489,2.663666666666667,2.114333333333333,1.8116666666666668,1.359,2.9793333333333334,2.1076666666666664,2.5910000000000006,3.1193333333333335,3.0276666666666667,2.405666666666667,2.895,2.148,2.1153333333333335,2.2096666666666667,3.0180000000000002,3.0536666666666665,2.1523333333333334,2.2223333333333333,2.736666666666667,3.029666666666667,2.5260000000000002,2.3043333333333336,2.7610000000000006,2.808666666666667,2.1923333333333335,2.5406666666666666,2.296666666666667,2.2436666666666665,1.9176666666666666,2.323,2.7566666666666664,2.4403333333333332,2.3866666666666667,2.5860000000000003,1.7696666666666665,2.582333333333333,2.252333333333333,2.7699999999999996,2.497666666666667,2.832666666666667,2.6333333333333333,2.738,2.872666666666667,3.001,2.9890000000000003,2.436,2.5116666666666667,2.7099999999999995,2.2903333333333333,2.7146666666666666,2.441333333333334,2.598666666666667,2.501,2.9416666666666664,2.8539999999999996,3.392,3.0656666666666665,2.6296666666666666,2.2466666666666666,2.412333333333333,2.7533333333333334,2.7416666666666667,3.2560000000000002,2.731,2.9766666666666666,2.904,3.122333333333333,3.512,2.8926666666666665,3.4173333333333336,2.2656666666666667,3.128,3.1653333333333333,3.3733333333333335,2.6433333333333335,3.3866666666666667,3.241,2.892,3.1613333333333333,3.279,3.7076666666666664,3.297333333333333,3.3706666666666667,3.301666666666667,3.3806666666666665,3.5096666666666665,2.7763333333333335,3.191333333333333,3.176666666666667,3.359,3.142333333333333,2.752333333333333,2.932666666666666,3.368,3.5303333333333335,2.9006666666666674,3.285,2.9483333333333337,3.312,3.6970000000000005,3.3529999999999998,3.59,3.369666666666667,3.546333333333333,3.557,3.1223333333333336,3.2213333333333334,3.0540000000000003,3.176666666666667,2.946,2.8753333333333337,3.3640000000000003,3.2336666666666667,2.7563333333333335,3.5893333333333337,2.7976666666666667,3.373666666666667,3.1986666666666665,3.2373333333333334,3.300333333333333,3.3733333333333335,3.5413333333333337,4.108333333333333,3.388666666666667,3.696,3.0730000000000004,3.1663333333333337,3.6856666666666666,3.920666666666667,3.7463333333333337,3.589,3.7703333333333333,3.7660000000000005,3.861666666666667,3.6936666666666667,3.3156666666666665,4.1063333333333345,3.7330000000000005,3.782666666666666,4.282333333333334,4.267666666666667,3.6656666666666666,3.8543333333333334,4.256,4.399666666666666,4.093666666666667,4.202,4.234333333333333,4.441,3.6016666666666666,4.030333333333332,4.142666666666666,3.893333333333333,3.629,4.210333333333334,4.027333333333334,4.687666666666666],\"yaxis\":\"y\",\"type\":\"scattergl\"}],                        {\"template\":{\"data\":{\"histogram2dcontour\":[{\"type\":\"histogram2dcontour\",\"colorbar\":{\"outlinewidth\":0,\"ticks\":\"\"},\"colorscale\":[[0.0,\"#0d0887\"],[0.1111111111111111,\"#46039f\"],[0.2222222222222222,\"#7201a8\"],[0.3333333333333333,\"#9c179e\"],[0.4444444444444444,\"#bd3786\"],[0.5555555555555556,\"#d8576b\"],[0.6666666666666666,\"#ed7953\"],[0.7777777777777778,\"#fb9f3a\"],[0.8888888888888888,\"#fdca26\"],[1.0,\"#f0f921\"]]}],\"choropleth\":[{\"type\":\"choropleth\",\"colorbar\":{\"outlinewidth\":0,\"ticks\":\"\"}}],\"histogram2d\":[{\"type\":\"histogram2d\",\"colorbar\":{\"outlinewidth\":0,\"ticks\":\"\"},\"colorscale\":[[0.0,\"#0d0887\"],[0.1111111111111111,\"#46039f\"],[0.2222222222222222,\"#7201a8\"],[0.3333333333333333,\"#9c179e\"],[0.4444444444444444,\"#bd3786\"],[0.5555555555555556,\"#d8576b\"],[0.6666666666666666,\"#ed7953\"],[0.7777777777777778,\"#fb9f3a\"],[0.8888888888888888,\"#fdca26\"],[1.0,\"#f0f921\"]]}],\"heatmap\":[{\"type\":\"heatmap\",\"colorbar\":{\"outlinewidth\":0,\"ticks\":\"\"},\"colorscale\":[[0.0,\"#0d0887\"],[0.1111111111111111,\"#46039f\"],[0.2222222222222222,\"#7201a8\"],[0.3333333333333333,\"#9c179e\"],[0.4444444444444444,\"#bd3786\"],[0.5555555555555556,\"#d8576b\"],[0.6666666666666666,\"#ed7953\"],[0.7777777777777778,\"#fb9f3a\"],[0.8888888888888888,\"#fdca26\"],[1.0,\"#f0f921\"]]}],\"heatmapgl\":[{\"type\":\"heatmapgl\",\"colorbar\":{\"outlinewidth\":0,\"ticks\":\"\"},\"colorscale\":[[0.0,\"#0d0887\"],[0.1111111111111111,\"#46039f\"],[0.2222222222222222,\"#7201a8\"],[0.3333333333333333,\"#9c179e\"],[0.4444444444444444,\"#bd3786\"],[0.5555555555555556,\"#d8576b\"],[0.6666666666666666,\"#ed7953\"],[0.7777777777777778,\"#fb9f3a\"],[0.8888888888888888,\"#fdca26\"],[1.0,\"#f0f921\"]]}],\"contourcarpet\":[{\"type\":\"contourcarpet\",\"colorbar\":{\"outlinewidth\":0,\"ticks\":\"\"}}],\"contour\":[{\"type\":\"contour\",\"colorbar\":{\"outlinewidth\":0,\"ticks\":\"\"},\"colorscale\":[[0.0,\"#0d0887\"],[0.1111111111111111,\"#46039f\"],[0.2222222222222222,\"#7201a8\"],[0.3333333333333333,\"#9c179e\"],[0.4444444444444444,\"#bd3786\"],[0.5555555555555556,\"#d8576b\"],[0.6666666666666666,\"#ed7953\"],[0.7777777777777778,\"#fb9f3a\"],[0.8888888888888888,\"#fdca26\"],[1.0,\"#f0f921\"]]}],\"surface\":[{\"type\":\"surface\",\"colorbar\":{\"outlinewidth\":0,\"ticks\":\"\"},\"colorscale\":[[0.0,\"#0d0887\"],[0.1111111111111111,\"#46039f\"],[0.2222222222222222,\"#7201a8\"],[0.3333333333333333,\"#9c179e\"],[0.4444444444444444,\"#bd3786\"],[0.5555555555555556,\"#d8576b\"],[0.6666666666666666,\"#ed7953\"],[0.7777777777777778,\"#fb9f3a\"],[0.8888888888888888,\"#fdca26\"],[1.0,\"#f0f921\"]]}],\"mesh3d\":[{\"type\":\"mesh3d\",\"colorbar\":{\"outlinewidth\":0,\"ticks\":\"\"}}],\"scatter\":[{\"fillpattern\":{\"fillmode\":\"overlay\",\"size\":10,\"solidity\":0.2},\"type\":\"scatter\"}],\"parcoords\":[{\"type\":\"parcoords\",\"line\":{\"colorbar\":{\"outlinewidth\":0,\"ticks\":\"\"}}}],\"scatterpolargl\":[{\"type\":\"scatterpolargl\",\"marker\":{\"colorbar\":{\"outlinewidth\":0,\"ticks\":\"\"}}}],\"bar\":[{\"error_x\":{\"color\":\"#2a3f5f\"},\"error_y\":{\"color\":\"#2a3f5f\"},\"marker\":{\"line\":{\"color\":\"#E5ECF6\",\"width\":0.5},\"pattern\":{\"fillmode\":\"overlay\",\"size\":10,\"solidity\":0.2}},\"type\":\"bar\"}],\"scattergeo\":[{\"type\":\"scattergeo\",\"marker\":{\"colorbar\":{\"outlinewidth\":0,\"ticks\":\"\"}}}],\"scatterpolar\":[{\"type\":\"scatterpolar\",\"marker\":{\"colorbar\":{\"outlinewidth\":0,\"ticks\":\"\"}}}],\"histogram\":[{\"marker\":{\"pattern\":{\"fillmode\":\"overlay\",\"size\":10,\"solidity\":0.2}},\"type\":\"histogram\"}],\"scattergl\":[{\"type\":\"scattergl\",\"marker\":{\"colorbar\":{\"outlinewidth\":0,\"ticks\":\"\"}}}],\"scatter3d\":[{\"type\":\"scatter3d\",\"line\":{\"colorbar\":{\"outlinewidth\":0,\"ticks\":\"\"}},\"marker\":{\"colorbar\":{\"outlinewidth\":0,\"ticks\":\"\"}}}],\"scattermapbox\":[{\"type\":\"scattermapbox\",\"marker\":{\"colorbar\":{\"outlinewidth\":0,\"ticks\":\"\"}}}],\"scatterternary\":[{\"type\":\"scatterternary\",\"marker\":{\"colorbar\":{\"outlinewidth\":0,\"ticks\":\"\"}}}],\"scattercarpet\":[{\"type\":\"scattercarpet\",\"marker\":{\"colorbar\":{\"outlinewidth\":0,\"ticks\":\"\"}}}],\"carpet\":[{\"aaxis\":{\"endlinecolor\":\"#2a3f5f\",\"gridcolor\":\"white\",\"linecolor\":\"white\",\"minorgridcolor\":\"white\",\"startlinecolor\":\"#2a3f5f\"},\"baxis\":{\"endlinecolor\":\"#2a3f5f\",\"gridcolor\":\"white\",\"linecolor\":\"white\",\"minorgridcolor\":\"white\",\"startlinecolor\":\"#2a3f5f\"},\"type\":\"carpet\"}],\"table\":[{\"cells\":{\"fill\":{\"color\":\"#EBF0F8\"},\"line\":{\"color\":\"white\"}},\"header\":{\"fill\":{\"color\":\"#C8D4E3\"},\"line\":{\"color\":\"white\"}},\"type\":\"table\"}],\"barpolar\":[{\"marker\":{\"line\":{\"color\":\"#E5ECF6\",\"width\":0.5},\"pattern\":{\"fillmode\":\"overlay\",\"size\":10,\"solidity\":0.2}},\"type\":\"barpolar\"}],\"pie\":[{\"automargin\":true,\"type\":\"pie\"}]},\"layout\":{\"autotypenumbers\":\"strict\",\"colorway\":[\"#636efa\",\"#EF553B\",\"#00cc96\",\"#ab63fa\",\"#FFA15A\",\"#19d3f3\",\"#FF6692\",\"#B6E880\",\"#FF97FF\",\"#FECB52\"],\"font\":{\"color\":\"#2a3f5f\"},\"hovermode\":\"closest\",\"hoverlabel\":{\"align\":\"left\"},\"paper_bgcolor\":\"white\",\"plot_bgcolor\":\"#E5ECF6\",\"polar\":{\"bgcolor\":\"#E5ECF6\",\"angularaxis\":{\"gridcolor\":\"white\",\"linecolor\":\"white\",\"ticks\":\"\"},\"radialaxis\":{\"gridcolor\":\"white\",\"linecolor\":\"white\",\"ticks\":\"\"}},\"ternary\":{\"bgcolor\":\"#E5ECF6\",\"aaxis\":{\"gridcolor\":\"white\",\"linecolor\":\"white\",\"ticks\":\"\"},\"baxis\":{\"gridcolor\":\"white\",\"linecolor\":\"white\",\"ticks\":\"\"},\"caxis\":{\"gridcolor\":\"white\",\"linecolor\":\"white\",\"ticks\":\"\"}},\"coloraxis\":{\"colorbar\":{\"outlinewidth\":0,\"ticks\":\"\"}},\"colorscale\":{\"sequential\":[[0.0,\"#0d0887\"],[0.1111111111111111,\"#46039f\"],[0.2222222222222222,\"#7201a8\"],[0.3333333333333333,\"#9c179e\"],[0.4444444444444444,\"#bd3786\"],[0.5555555555555556,\"#d8576b\"],[0.6666666666666666,\"#ed7953\"],[0.7777777777777778,\"#fb9f3a\"],[0.8888888888888888,\"#fdca26\"],[1.0,\"#f0f921\"]],\"sequentialminus\":[[0.0,\"#0d0887\"],[0.1111111111111111,\"#46039f\"],[0.2222222222222222,\"#7201a8\"],[0.3333333333333333,\"#9c179e\"],[0.4444444444444444,\"#bd3786\"],[0.5555555555555556,\"#d8576b\"],[0.6666666666666666,\"#ed7953\"],[0.7777777777777778,\"#fb9f3a\"],[0.8888888888888888,\"#fdca26\"],[1.0,\"#f0f921\"]],\"diverging\":[[0,\"#8e0152\"],[0.1,\"#c51b7d\"],[0.2,\"#de77ae\"],[0.3,\"#f1b6da\"],[0.4,\"#fde0ef\"],[0.5,\"#f7f7f7\"],[0.6,\"#e6f5d0\"],[0.7,\"#b8e186\"],[0.8,\"#7fbc41\"],[0.9,\"#4d9221\"],[1,\"#276419\"]]},\"xaxis\":{\"gridcolor\":\"white\",\"linecolor\":\"white\",\"ticks\":\"\",\"title\":{\"standoff\":15},\"zerolinecolor\":\"white\",\"automargin\":true,\"zerolinewidth\":2},\"yaxis\":{\"gridcolor\":\"white\",\"linecolor\":\"white\",\"ticks\":\"\",\"title\":{\"standoff\":15},\"zerolinecolor\":\"white\",\"automargin\":true,\"zerolinewidth\":2},\"scene\":{\"xaxis\":{\"backgroundcolor\":\"#E5ECF6\",\"gridcolor\":\"white\",\"linecolor\":\"white\",\"showbackground\":true,\"ticks\":\"\",\"zerolinecolor\":\"white\",\"gridwidth\":2},\"yaxis\":{\"backgroundcolor\":\"#E5ECF6\",\"gridcolor\":\"white\",\"linecolor\":\"white\",\"showbackground\":true,\"ticks\":\"\",\"zerolinecolor\":\"white\",\"gridwidth\":2},\"zaxis\":{\"backgroundcolor\":\"#E5ECF6\",\"gridcolor\":\"white\",\"linecolor\":\"white\",\"showbackground\":true,\"ticks\":\"\",\"zerolinecolor\":\"white\",\"gridwidth\":2}},\"shapedefaults\":{\"line\":{\"color\":\"#2a3f5f\"}},\"annotationdefaults\":{\"arrowcolor\":\"#2a3f5f\",\"arrowhead\":0,\"arrowwidth\":1},\"geo\":{\"bgcolor\":\"white\",\"landcolor\":\"#E5ECF6\",\"subunitcolor\":\"white\",\"showland\":true,\"showlakes\":true,\"lakecolor\":\"white\"},\"title\":{\"x\":0.05},\"mapbox\":{\"style\":\"light\"}}},\"xaxis\":{\"anchor\":\"y\",\"domain\":[0.0,1.0],\"title\":{\"text\":\"year\"}},\"yaxis\":{\"anchor\":\"x\",\"domain\":[0.0,1.0],\"title\":{\"text\":\"value\"}},\"legend\":{\"title\":{\"text\":\"variable\"},\"tracegroupgap\":0},\"title\":{\"text\":\"Average Temperature in Each Season\"}},                        {\"responsive\": true}                    ).then(function(){\n",
       "                            \n",
       "var gd = document.getElementById('7bd2976d-1e6d-464b-aeff-0f58205e993a');\n",
       "var x = new MutationObserver(function (mutations, observer) {{\n",
       "        var display = window.getComputedStyle(gd).display;\n",
       "        if (!display || display === 'none') {{\n",
       "            console.log([gd, 'removed!']);\n",
       "            Plotly.purge(gd);\n",
       "            observer.disconnect();\n",
       "        }}\n",
       "}});\n",
       "\n",
       "// Listen for the removal of the full notebook cells\n",
       "var notebookContainer = gd.closest('#notebook-container');\n",
       "if (notebookContainer) {{\n",
       "    x.observe(notebookContainer, {childList: true});\n",
       "}}\n",
       "\n",
       "// Listen for the clearing of the current output cell\n",
       "var outputEl = gd.closest('.output');\n",
       "if (outputEl) {{\n",
       "    x.observe(outputEl, {childList: true});\n",
       "}}\n",
       "\n",
       "                        })                };                });            </script>        </div>"
      ]
     },
     "metadata": {},
     "output_type": "display_data"
    }
   ],
   "source": [
    "# Visualizing the seasonal temperature trend\n",
    "fig = px.line(\n",
    "    data_frame=season,\n",
    "    x='year',\n",
    "    y=['spring_temps', 'summer_temps', 'autumn_temps', 'winter_temps'],\n",
    "    render_mode='auto',\n",
    "    title='Average Temperature in Each Season',\n",
    "    width=None,\n",
    "    height=None,\n",
    ")\n",
    "fig.show()"
   ]
  },
  {
   "cell_type": "markdown",
   "id": "dfbd3e74",
   "metadata": {},
   "source": [
    "From the above plot, we can infer that the temperature in each season has started to go up from 1970 and we can conclude that the rise in temperature is due to global warming."
   ]
  },
  {
   "cell_type": "code",
   "execution_count": null,
   "id": "0419f859",
   "metadata": {},
   "outputs": [],
   "source": []
  },
  {
   "cell_type": "code",
   "execution_count": null,
   "id": "9b665aa0",
   "metadata": {},
   "outputs": [],
   "source": []
  },
  {
   "cell_type": "code",
   "execution_count": null,
   "id": "9a185bfb",
   "metadata": {},
   "outputs": [],
   "source": []
  },
  {
   "cell_type": "code",
   "execution_count": null,
   "id": "f2407be0",
   "metadata": {},
   "outputs": [],
   "source": []
  },
  {
   "cell_type": "code",
   "execution_count": null,
   "id": "deaae84a",
   "metadata": {},
   "outputs": [],
   "source": []
  },
  {
   "cell_type": "code",
   "execution_count": null,
   "id": "0d436b44",
   "metadata": {},
   "outputs": [],
   "source": []
  },
  {
   "cell_type": "code",
   "execution_count": null,
   "id": "a59590ce",
   "metadata": {},
   "outputs": [],
   "source": []
  },
  {
   "cell_type": "code",
   "execution_count": null,
   "id": "08b170b8",
   "metadata": {},
   "outputs": [],
   "source": []
  },
  {
   "cell_type": "code",
   "execution_count": null,
   "id": "61128a3b",
   "metadata": {},
   "outputs": [],
   "source": []
  },
  {
   "cell_type": "code",
   "execution_count": null,
   "id": "6b57b06a",
   "metadata": {},
   "outputs": [],
   "source": []
  },
  {
   "cell_type": "code",
   "execution_count": null,
   "id": "e39fe3ee",
   "metadata": {},
   "outputs": [],
   "source": []
  },
  {
   "cell_type": "code",
   "execution_count": null,
   "id": "202b3414",
   "metadata": {},
   "outputs": [],
   "source": []
  },
  {
   "cell_type": "code",
   "execution_count": null,
   "id": "40c4e031",
   "metadata": {},
   "outputs": [],
   "source": []
  },
  {
   "cell_type": "code",
   "execution_count": null,
   "id": "ef33fc34",
   "metadata": {},
   "outputs": [],
   "source": []
  }
 ],
 "metadata": {
  "kernelspec": {
   "display_name": "Python 3 (ipykernel)",
   "language": "python",
   "name": "python3"
  },
  "language_info": {
   "codemirror_mode": {
    "name": "ipython",
    "version": 3
   },
   "file_extension": ".py",
   "mimetype": "text/x-python",
   "name": "python",
   "nbconvert_exporter": "python",
   "pygments_lexer": "ipython3",
   "version": "3.9.7"
  }
 },
 "nbformat": 4,
 "nbformat_minor": 5
}
